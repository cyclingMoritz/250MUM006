{
  "cells": [
    {
      "cell_type": "markdown",
      "metadata": {
        "id": "rP8SuqILhaPo"
      },
      "source": [
        "# Config"
      ]
    },
    {
      "cell_type": "code",
      "execution_count": 1,
      "metadata": {
        "id": "I_hrwU9x479z",
        "tags": [
          "parameters"
        ]
      },
      "outputs": [],
      "source": [
        "# parameters\n",
        "SAVE_OUTPUT = True\n",
        "SIZE_PLOTS = (12,10)\n",
        "BUFFER_SIZE = 402.336 \n",
        "\n",
        "#Location of the data\n",
        "INPUT_DATA_PATH = \"../data/raw/fines\"\n",
        "OUTPUT_DATA_PATH = \"../data/interim/\""
      ]
    },
    {
      "cell_type": "code",
      "execution_count": 4,
      "metadata": {
        "id": "HnDB36CLTIxL"
      },
      "outputs": [],
      "source": [
        "import numpy as np\n",
        "import pandas as pd\n",
        "import geopandas as gpd\n",
        "from pathlib import Path\n"
      ]
    },
    {
      "cell_type": "markdown",
      "metadata": {
        "id": "JMxfkSGDhuDI"
      },
      "source": [
        "# Load data"
      ]
    },
    {
      "cell_type": "code",
      "execution_count": 6,
      "metadata": {},
      "outputs": [],
      "source": [
        "fines=pd.read_csv(Path(INPUT_DATA_PATH) / \"multes_total/Tabla estadística.csv\")\n",
        "fines_per_vehicle=pd.read_csv(Path(INPUT_DATA_PATH) /\"multes_per_vehicles/Tabla estadística.csv\")\n",
        "fines_per_infraction=pd.read_csv(Path(INPUT_DATA_PATH) /\"multes_per_infraccio/Tabla estadística.csv\")\n"
      ]
    },
    {
      "cell_type": "markdown",
      "metadata": {
        "id": "ryt3odo6h1W5"
      },
      "source": [
        "# Data management"
      ]
    },
    {
      "cell_type": "markdown",
      "metadata": {},
      "source": [
        "## Explore data"
      ]
    },
    {
      "cell_type": "code",
      "execution_count": 8,
      "metadata": {
        "colab": {
          "base_uri": "https://localhost:8080/",
          "height": 429
        },
        "id": "F2PgA3ZMryBa",
        "outputId": "2ce67901-0e0d-4949-f411-7732f07e3c38"
      },
      "outputs": [
        {
          "name": "stdout",
          "output_type": "stream",
          "text": [
            "(11, 4)\n",
            "Index(['Territorio', 'Tipo de territorio', '2022', '2023'], dtype='object')\n",
            "Territorio            object\n",
            "Tipo de territorio    object\n",
            "2022                   int64\n",
            "2023                   int64\n",
            "dtype: object\n"
          ]
        },
        {
          "data": {
            "text/html": [
              "<div>\n",
              "<style scoped>\n",
              "    .dataframe tbody tr th:only-of-type {\n",
              "        vertical-align: middle;\n",
              "    }\n",
              "\n",
              "    .dataframe tbody tr th {\n",
              "        vertical-align: top;\n",
              "    }\n",
              "\n",
              "    .dataframe thead th {\n",
              "        text-align: right;\n",
              "    }\n",
              "</style>\n",
              "<table border=\"1\" class=\"dataframe\">\n",
              "  <thead>\n",
              "    <tr style=\"text-align: right;\">\n",
              "      <th></th>\n",
              "      <th>Territorio</th>\n",
              "      <th>Tipo de territorio</th>\n",
              "      <th>2022</th>\n",
              "      <th>2023</th>\n",
              "    </tr>\n",
              "  </thead>\n",
              "  <tbody>\n",
              "    <tr>\n",
              "      <th>0</th>\n",
              "      <td>Barcelona</td>\n",
              "      <td>Municipi</td>\n",
              "      <td>958866</td>\n",
              "      <td>899951</td>\n",
              "    </tr>\n",
              "    <tr>\n",
              "      <th>1</th>\n",
              "      <td>Ciutat Vella</td>\n",
              "      <td>Districte</td>\n",
              "      <td>78380</td>\n",
              "      <td>71618</td>\n",
              "    </tr>\n",
              "    <tr>\n",
              "      <th>2</th>\n",
              "      <td>Eixample</td>\n",
              "      <td>Districte</td>\n",
              "      <td>167649</td>\n",
              "      <td>201066</td>\n",
              "    </tr>\n",
              "    <tr>\n",
              "      <th>3</th>\n",
              "      <td>Sants-Montjuïc</td>\n",
              "      <td>Districte</td>\n",
              "      <td>87589</td>\n",
              "      <td>80932</td>\n",
              "    </tr>\n",
              "    <tr>\n",
              "      <th>4</th>\n",
              "      <td>Les Corts</td>\n",
              "      <td>Districte</td>\n",
              "      <td>120892</td>\n",
              "      <td>83775</td>\n",
              "    </tr>\n",
              "  </tbody>\n",
              "</table>\n",
              "</div>"
            ],
            "text/plain": [
              "       Territorio Tipo de territorio    2022    2023\n",
              "0       Barcelona           Municipi  958866  899951\n",
              "1    Ciutat Vella          Districte   78380   71618\n",
              "2        Eixample          Districte  167649  201066\n",
              "3  Sants-Montjuïc          Districte   87589   80932\n",
              "4       Les Corts          Districte  120892   83775"
            ]
          },
          "execution_count": 8,
          "metadata": {},
          "output_type": "execute_result"
        }
      ],
      "source": [
        "#Explore fines\n",
        "print(fines.shape)\n",
        "print(fines.columns)\n",
        "print(fines.dtypes)\n",
        "fines.head()"
      ]
    },
    {
      "cell_type": "code",
      "execution_count": null,
      "metadata": {},
      "outputs": [
        {
          "name": "stdout",
          "output_type": "stream",
          "text": [
            "(865, 5)\n",
            "Index(['Territorio', 'Tipo de territorio', 'Tipo de vehículo', '2022', '2023'], dtype='object')\n",
            "Territorio            object\n",
            "Tipo de territorio    object\n",
            "Tipo de vehículo      object\n",
            "2022                  object\n",
            "2023                  object\n",
            "dtype: object\n"
          ]
        },
        {
          "data": {
            "text/html": [
              "<div>\n",
              "<style scoped>\n",
              "    .dataframe tbody tr th:only-of-type {\n",
              "        vertical-align: middle;\n",
              "    }\n",
              "\n",
              "    .dataframe tbody tr th {\n",
              "        vertical-align: top;\n",
              "    }\n",
              "\n",
              "    .dataframe thead th {\n",
              "        text-align: right;\n",
              "    }\n",
              "</style>\n",
              "<table border=\"1\" class=\"dataframe\">\n",
              "  <thead>\n",
              "    <tr style=\"text-align: right;\">\n",
              "      <th></th>\n",
              "      <th>Territorio</th>\n",
              "      <th>Tipo de territorio</th>\n",
              "      <th>Tipo de vehículo</th>\n",
              "      <th>2022</th>\n",
              "      <th>2023</th>\n",
              "    </tr>\n",
              "  </thead>\n",
              "  <tbody>\n",
              "    <tr>\n",
              "      <th>0</th>\n",
              "      <td>Barcelona</td>\n",
              "      <td>Municipi</td>\n",
              "      <td>Turismo</td>\n",
              "      <td>608980</td>\n",
              "      <td>594853</td>\n",
              "    </tr>\n",
              "    <tr>\n",
              "      <th>1</th>\n",
              "      <td>Barcelona</td>\n",
              "      <td>Municipi</td>\n",
              "      <td>Moto</td>\n",
              "      <td>95181</td>\n",
              "      <td>75226</td>\n",
              "    </tr>\n",
              "    <tr>\n",
              "      <th>2</th>\n",
              "      <td>Barcelona</td>\n",
              "      <td>Municipi</td>\n",
              "      <td>Ciclomotor</td>\n",
              "      <td>12579</td>\n",
              "      <td>10050</td>\n",
              "    </tr>\n",
              "    <tr>\n",
              "      <th>3</th>\n",
              "      <td>Barcelona</td>\n",
              "      <td>Municipi</td>\n",
              "      <td>Todoterreno</td>\n",
              "      <td>3642</td>\n",
              "      <td>7030</td>\n",
              "    </tr>\n",
              "    <tr>\n",
              "      <th>4</th>\n",
              "      <td>Barcelona</td>\n",
              "      <td>Municipi</td>\n",
              "      <td>Furgoneta</td>\n",
              "      <td>57620</td>\n",
              "      <td>50367</td>\n",
              "    </tr>\n",
              "  </tbody>\n",
              "</table>\n",
              "</div>"
            ],
            "text/plain": [
              "  Territorio Tipo de territorio Tipo de vehículo    2022    2023\n",
              "0  Barcelona           Municipi          Turismo  608980  594853\n",
              "1  Barcelona           Municipi             Moto   95181   75226\n",
              "2  Barcelona           Municipi       Ciclomotor   12579   10050\n",
              "3  Barcelona           Municipi      Todoterreno    3642    7030\n",
              "4  Barcelona           Municipi        Furgoneta   57620   50367"
            ]
          },
          "execution_count": 9,
          "metadata": {},
          "output_type": "execute_result"
        }
      ],
      "source": [
        "#Explore fines_per_vehicle\n",
        "print(fines_per_vehicle.shape)\n",
        "print(fines_per_vehicle.columns)\n",
        "print(fines_per_vehicle.dtypes)\n",
        "fines_per_vehicle.head()"
      ]
    },
    {
      "cell_type": "code",
      "execution_count": 10,
      "metadata": {},
      "outputs": [
        {
          "name": "stdout",
          "output_type": "stream",
          "text": [
            "(302, 5)\n",
            "Index(['Territorio', 'Tipo de territorio', 'Normativa', '2022', '2023'], dtype='object')\n",
            "Territorio            object\n",
            "Tipo de territorio    object\n",
            "Normativa             object\n",
            "2022                  object\n",
            "2023                  object\n",
            "dtype: object\n"
          ]
        },
        {
          "data": {
            "text/html": [
              "<div>\n",
              "<style scoped>\n",
              "    .dataframe tbody tr th:only-of-type {\n",
              "        vertical-align: middle;\n",
              "    }\n",
              "\n",
              "    .dataframe tbody tr th {\n",
              "        vertical-align: top;\n",
              "    }\n",
              "\n",
              "    .dataframe thead th {\n",
              "        text-align: right;\n",
              "    }\n",
              "</style>\n",
              "<table border=\"1\" class=\"dataframe\">\n",
              "  <thead>\n",
              "    <tr style=\"text-align: right;\">\n",
              "      <th></th>\n",
              "      <th>Territorio</th>\n",
              "      <th>Tipo de territorio</th>\n",
              "      <th>Normativa</th>\n",
              "      <th>2022</th>\n",
              "      <th>2023</th>\n",
              "    </tr>\n",
              "  </thead>\n",
              "  <tbody>\n",
              "    <tr>\n",
              "      <th>0</th>\n",
              "      <td>Barcelona</td>\n",
              "      <td>Municipi</td>\n",
              "      <td>Ley de seguridad vial</td>\n",
              "      <td>36504</td>\n",
              "      <td>8555</td>\n",
              "    </tr>\n",
              "    <tr>\n",
              "      <th>1</th>\n",
              "      <td>Barcelona</td>\n",
              "      <td>Municipi</td>\n",
              "      <td>Reglamento general de circulación</td>\n",
              "      <td>413815</td>\n",
              "      <td>363414</td>\n",
              "    </tr>\n",
              "    <tr>\n",
              "      <th>2</th>\n",
              "      <td>Barcelona</td>\n",
              "      <td>Municipi</td>\n",
              "      <td>Ordenanza de circulación de peatones y vehículos</td>\n",
              "      <td>446739</td>\n",
              "      <td>458697</td>\n",
              "    </tr>\n",
              "    <tr>\n",
              "      <th>3</th>\n",
              "      <td>Barcelona</td>\n",
              "      <td>Municipi</td>\n",
              "      <td>No consta</td>\n",
              "      <td>61808</td>\n",
              "      <td>69285</td>\n",
              "    </tr>\n",
              "    <tr>\n",
              "      <th>4</th>\n",
              "      <td>Ciutat Vella</td>\n",
              "      <td>Districte</td>\n",
              "      <td>Ley de seguridad vial</td>\n",
              "      <td>3023</td>\n",
              "      <td>1246</td>\n",
              "    </tr>\n",
              "  </tbody>\n",
              "</table>\n",
              "</div>"
            ],
            "text/plain": [
              "     Territorio Tipo de territorio  \\\n",
              "0     Barcelona           Municipi   \n",
              "1     Barcelona           Municipi   \n",
              "2     Barcelona           Municipi   \n",
              "3     Barcelona           Municipi   \n",
              "4  Ciutat Vella          Districte   \n",
              "\n",
              "                                          Normativa    2022    2023  \n",
              "0                             Ley de seguridad vial   36504    8555  \n",
              "1                 Reglamento general de circulación  413815  363414  \n",
              "2  Ordenanza de circulación de peatones y vehículos  446739  458697  \n",
              "3                                         No consta   61808   69285  \n",
              "4                             Ley de seguridad vial    3023    1246  "
            ]
          },
          "execution_count": 10,
          "metadata": {},
          "output_type": "execute_result"
        }
      ],
      "source": [
        "#Explore fines_per_infraction\n",
        "print(fines_per_infraction.shape)\n",
        "print(fines_per_infraction.columns)\n",
        "print(fines_per_infraction.dtypes)\n",
        "fines_per_infraction.head()"
      ]
    },
    {
      "cell_type": "markdown",
      "metadata": {},
      "source": [
        "### Explore territori"
      ]
    },
    {
      "cell_type": "code",
      "execution_count": 14,
      "metadata": {},
      "outputs": [
        {
          "name": "stdout",
          "output_type": "stream",
          "text": [
            "11\n",
            "84\n",
            "84\n"
          ]
        }
      ],
      "source": [
        "print(fines[\"Territorio\"].nunique())\n",
        "print(fines_per_vehicle[\"Territorio\"].nunique())\n",
        "print(fines_per_infraction[\"Territorio\"].nunique())\n",
        "\n",
        "\n",
        "# print(fines[\"Territorio\"].value_counts())\n",
        "# print(fines_per_vehicle[\"Territorio\"].value_counts())\n",
        "# print(fines_per_infraction[\"Territorio\"].value_counts())"
      ]
    },
    {
      "cell_type": "code",
      "execution_count": 15,
      "metadata": {},
      "outputs": [
        {
          "name": "stdout",
          "output_type": "stream",
          "text": [
            "Tipo de territorio\n",
            "Districte    10\n",
            "Municipi      1\n",
            "Name: count, dtype: int64\n",
            "Tipo de territorio\n",
            "Barri        734\n",
            "Districte     99\n",
            "-             21\n",
            "Municipi      11\n",
            "Name: count, dtype: int64\n",
            "Tipo de territorio\n",
            "Barri        254\n",
            "Districte     36\n",
            "-              8\n",
            "Municipi       4\n",
            "Name: count, dtype: int64\n"
          ]
        }
      ],
      "source": [
        "print(fines[\"Tipo de territorio\"].value_counts())\n",
        "print(fines_per_vehicle[\"Tipo de territorio\"].value_counts())\n",
        "print(fines_per_infraction[\"Tipo de territorio\"].value_counts())"
      ]
    },
    {
      "cell_type": "markdown",
      "metadata": {
        "id": "a_ZrQ64i7plQ"
      },
      "source": [
        "## Save output"
      ]
    },
    {
      "cell_type": "code",
      "execution_count": null,
      "metadata": {
        "id": "6bj2-CeR7owh"
      },
      "outputs": [],
      "source": [
        "if SAVE_OUTPUT:\n",
        "    df.to_parquet(f'{OUTPUT_DATA_PATH}/file.parquet')"
      ]
    },
    {
      "cell_type": "markdown",
      "metadata": {
        "id": "xT_uQYZSbEty"
      },
      "source": [
        "## Watermark"
      ]
    },
    {
      "cell_type": "code",
      "execution_count": null,
      "metadata": {
        "id": "iY8ZyfnAbFoO"
      },
      "outputs": [],
      "source": [
        "!python -m pip install watermark --quiet"
      ]
    },
    {
      "cell_type": "code",
      "execution_count": null,
      "metadata": {
        "id": "Cd2yG3BgbGE3"
      },
      "outputs": [],
      "source": [
        "%load_ext watermark"
      ]
    },
    {
      "cell_type": "code",
      "execution_count": null,
      "metadata": {
        "colab": {
          "base_uri": "https://localhost:8080/"
        },
        "id": "Ef6VBO1QbI-_",
        "outputId": "9551ad1c-634d-4484-dc4a-f6a971884ccc"
      },
      "outputs": [
        {
          "name": "stdout",
          "output_type": "stream",
          "text": [
            "Last updated: 2024-08-23T15:55:33.641180+00:00\n",
            "\n",
            "Python implementation: CPython\n",
            "Python version       : 3.10.12\n",
            "IPython version      : 7.34.0\n",
            "\n",
            "Compiler    : GCC 11.4.0\n",
            "OS          : Linux\n",
            "Release     : 6.1.85+\n",
            "Machine     : x86_64\n",
            "Processor   : x86_64\n",
            "CPU cores   : 2\n",
            "Architecture: 64bit\n",
            "\n"
          ]
        }
      ],
      "source": [
        "%watermark"
      ]
    },
    {
      "cell_type": "code",
      "execution_count": null,
      "metadata": {
        "colab": {
          "base_uri": "https://localhost:8080/"
        },
        "id": "EW9nOXoNbKrP",
        "outputId": "b68ae236-6367-4c9a-b720-5978d2bbcbf4"
      },
      "outputs": [
        {
          "name": "stdout",
          "output_type": "stream",
          "text": [
            "json  : 2.0.9\n",
            "pandas: 2.1.4\n",
            "google: 2.0.3\n",
            "numpy : 1.26.4\n",
            "\n"
          ]
        }
      ],
      "source": [
        "%watermark --iversions"
      ]
    },
    {
      "cell_type": "code",
      "execution_count": null,
      "metadata": {
        "colab": {
          "base_uri": "https://localhost:8080/"
        },
        "id": "2LOCLnX0bMxt",
        "outputId": "e68400d8-8277-4988-d42c-15e02490cce1"
      },
      "outputs": [
        {
          "name": "stdout",
          "output_type": "stream",
          "text": [
            "No LSB modules are available.\n",
            "Distributor ID:\tUbuntu\n",
            "Description:\tUbuntu 22.04.3 LTS\n",
            "Release:\t22.04\n",
            "Codename:\tjammy\n"
          ]
        }
      ],
      "source": [
        "!lsb_release -a"
      ]
    }
  ],
  "metadata": {
    "colab": {
      "provenance": [],
      "toc_visible": true
    },
    "kernelspec": {
      "display_name": "ridership_model",
      "language": "python",
      "name": "python3"
    },
    "language_info": {
      "codemirror_mode": {
        "name": "ipython",
        "version": 3
      },
      "file_extension": ".py",
      "mimetype": "text/x-python",
      "name": "python",
      "nbconvert_exporter": "python",
      "pygments_lexer": "ipython3",
      "version": "3.11.9"
    }
  },
  "nbformat": 4,
  "nbformat_minor": 0
}
