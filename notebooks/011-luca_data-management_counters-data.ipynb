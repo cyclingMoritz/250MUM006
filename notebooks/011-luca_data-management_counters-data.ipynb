{
 "cells": [
  {
   "cell_type": "markdown",
   "id": "6602c9b6",
   "metadata": {
    "id": "rP8SuqILhaPo",
    "papermill": {
     "duration": 0.005305,
     "end_time": "2025-03-08T13:17:56.763123",
     "exception": false,
     "start_time": "2025-03-08T13:17:56.757818",
     "status": "completed"
    },
    "tags": []
   },
   "source": [
    "# Config"
   ]
  },
  {
   "cell_type": "code",
   "execution_count": null,
   "id": "9063fa54",
   "metadata": {
    "execution": {
     "iopub.execute_input": "2025-03-08T13:17:56.775277Z",
     "iopub.status.busy": "2025-03-08T13:17:56.775277Z",
     "iopub.status.idle": "2025-03-08T13:17:56.781878Z",
     "shell.execute_reply": "2025-03-08T13:17:56.781878Z"
    },
    "id": "I_hrwU9x479z",
    "papermill": {
     "duration": 0.014337,
     "end_time": "2025-03-08T13:17:56.782887",
     "exception": false,
     "start_time": "2025-03-08T13:17:56.768550",
     "status": "completed"
    },
    "tags": [
     "parameters"
    ]
   },
   "outputs": [],
   "source": [
    "# parameters\n",
    "SAVE_OUTPUT = True\n",
    "SIZE_PLOTS = (12,10)\n",
    "YEAR = 2021\n",
    "LOG = True\n",
    "#Location of the data\n",
    "INPUT_DATA_PATH = \"../data/raw/\"\n",
    "INPUT_PROCESSED_DATA_PATH = \"../data/processed/\"\n",
    "OUTPUT_DATA_PATH = \"../data/interim/\"\n",
    "OUTPUT_REPORTS_PATH = \"../reports/\"\n"
   ]
  },
  {
   "cell_type": "code",
   "execution_count": 2,
   "id": "5e2c8db1",
   "metadata": {
    "execution": {
     "iopub.execute_input": "2025-03-08T13:17:56.794552Z",
     "iopub.status.busy": "2025-03-08T13:17:56.793557Z",
     "iopub.status.idle": "2025-03-08T13:17:56.796645Z",
     "shell.execute_reply": "2025-03-08T13:17:56.796645Z"
    },
    "papermill": {
     "duration": 0.009419,
     "end_time": "2025-03-08T13:17:56.797655",
     "exception": false,
     "start_time": "2025-03-08T13:17:56.788236",
     "status": "completed"
    },
    "tags": [
     "injected-parameters"
    ]
   },
   "outputs": [],
   "source": [
    "# Parameters\n",
    "YEAR = 2024\n",
    "SAVE_OUTPUT = True\n"
   ]
  },
  {
   "cell_type": "code",
   "execution_count": null,
   "id": "d09bf494",
   "metadata": {
    "execution": {
     "iopub.execute_input": "2025-03-08T13:17:56.809435Z",
     "iopub.status.busy": "2025-03-08T13:17:56.808439Z",
     "iopub.status.idle": "2025-03-08T13:17:57.447918Z",
     "shell.execute_reply": "2025-03-08T13:17:57.447918Z"
    },
    "id": "HnDB36CLTIxL",
    "papermill": {
     "duration": 0.647083,
     "end_time": "2025-03-08T13:17:57.449235",
     "exception": false,
     "start_time": "2025-03-08T13:17:56.802152",
     "status": "completed"
    },
    "tags": []
   },
   "outputs": [],
   "source": [
    "import numpy as np\n",
    "import pandas as pd\n",
    "import geopandas as gpd\n",
    "from datetime import datetime\n",
    "\n",
    "from pathlib import Path\n",
    "import json"
   ]
  },
  {
   "cell_type": "markdown",
   "id": "82ae44ba",
   "metadata": {
    "id": "JMxfkSGDhuDI",
    "papermill": {
     "duration": 0.005985,
     "end_time": "2025-03-08T13:17:57.460585",
     "exception": false,
     "start_time": "2025-03-08T13:17:57.454600",
     "status": "completed"
    },
    "tags": []
   },
   "source": [
    "# Load data"
   ]
  },
  {
   "cell_type": "code",
   "execution_count": 4,
   "id": "c217e546",
   "metadata": {
    "execution": {
     "iopub.execute_input": "2025-03-08T13:17:57.471876Z",
     "iopub.status.busy": "2025-03-08T13:17:57.471876Z",
     "iopub.status.idle": "2025-03-08T13:18:09.426819Z",
     "shell.execute_reply": "2025-03-08T13:18:09.426819Z"
    },
    "papermill": {
     "duration": 11.96302,
     "end_time": "2025-03-08T13:18:09.428896",
     "exception": false,
     "start_time": "2025-03-08T13:17:57.465876",
     "status": "completed"
    },
    "tags": []
   },
   "outputs": [],
   "source": [
    "colnames=['id', 'date', 'weekday', 'hour', 'intensity', 'error'] \n",
    "if YEAR == 2024:\n",
    "    counters_data_1 = pd.read_csv(f\"{INPUT_DATA_PATH}/{YEAR}_1_ciclovias.csv\", sep=\";\",names=colnames, header=None)\n",
    "    counters_data_2 = pd.read_csv(f\"{INPUT_DATA_PATH}/{YEAR}_2_ciclovias.csv\", sep=\";\",names=colnames, header=None)\n",
    "    counters_data = pd.concat([counters_data_1, counters_data_2])\n",
    "elif YEAR == 2023:\n",
    "    counters_data = pd.read_csv(f\"{INPUT_DATA_PATH}/{YEAR}_ciclovias.csv\", sep=\";\")\n",
    "else: \n",
    "    counters_data = pd.read_csv(f\"{INPUT_DATA_PATH}/{YEAR}_ciclovias.csv\", sep=\";\",names=colnames, header=None)\n",
    "    "
   ]
  },
  {
   "cell_type": "markdown",
   "id": "f5dbffce",
   "metadata": {
    "id": "ryt3odo6h1W5",
    "papermill": {
     "duration": 0.005086,
     "end_time": "2025-03-08T13:18:09.440194",
     "exception": false,
     "start_time": "2025-03-08T13:18:09.435108",
     "status": "completed"
    },
    "tags": []
   },
   "source": [
    "# Data management"
   ]
  },
  {
   "cell_type": "code",
   "execution_count": 10,
   "id": "e71867f3",
   "metadata": {
    "colab": {
     "base_uri": "https://localhost:8080/",
     "height": 429
    },
    "execution": {
     "iopub.execute_input": "2025-03-08T13:18:09.453193Z",
     "iopub.status.busy": "2025-03-08T13:18:09.453193Z",
     "iopub.status.idle": "2025-03-08T13:18:09.470767Z",
     "shell.execute_reply": "2025-03-08T13:18:09.470767Z"
    },
    "id": "F2PgA3ZMryBa",
    "outputId": "2ce67901-0e0d-4949-f411-7732f07e3c38",
    "papermill": {
     "duration": 0.026018,
     "end_time": "2025-03-08T13:18:09.472211",
     "exception": false,
     "start_time": "2025-03-08T13:18:09.446193",
     "status": "completed"
    },
    "tags": []
   },
   "outputs": [
    {
     "name": "stdout",
     "output_type": "stream",
     "text": [
      "(28911552, 6)\n",
      "Index(['id', 'date', 'weekday', 'hour', 'intensity', 'error'], dtype='object')\n",
      "id             int64\n",
      "date          object\n",
      "weekday       object\n",
      "hour          object\n",
      "intensity    float64\n",
      "error        float64\n",
      "dtype: object\n"
     ]
    },
    {
     "data": {
      "text/html": [
       "<div>\n",
       "<style scoped>\n",
       "    .dataframe tbody tr th:only-of-type {\n",
       "        vertical-align: middle;\n",
       "    }\n",
       "\n",
       "    .dataframe tbody tr th {\n",
       "        vertical-align: top;\n",
       "    }\n",
       "\n",
       "    .dataframe thead th {\n",
       "        text-align: right;\n",
       "    }\n",
       "</style>\n",
       "<table border=\"1\" class=\"dataframe\">\n",
       "  <thead>\n",
       "    <tr style=\"text-align: right;\">\n",
       "      <th></th>\n",
       "      <th>id</th>\n",
       "      <th>date</th>\n",
       "      <th>weekday</th>\n",
       "      <th>hour</th>\n",
       "      <th>intensity</th>\n",
       "      <th>error</th>\n",
       "    </tr>\n",
       "  </thead>\n",
       "  <tbody>\n",
       "    <tr>\n",
       "      <th>0</th>\n",
       "      <td>1001</td>\n",
       "      <td>2024-06-01</td>\n",
       "      <td>Sabado</td>\n",
       "      <td>00:00:00.0000000</td>\n",
       "      <td>369.0</td>\n",
       "      <td>0.0</td>\n",
       "    </tr>\n",
       "    <tr>\n",
       "      <th>1</th>\n",
       "      <td>1001</td>\n",
       "      <td>2024-06-01</td>\n",
       "      <td>Sabado</td>\n",
       "      <td>00:15:00.0000000</td>\n",
       "      <td>415.0</td>\n",
       "      <td>0.0</td>\n",
       "    </tr>\n",
       "    <tr>\n",
       "      <th>2</th>\n",
       "      <td>1001</td>\n",
       "      <td>2024-06-01</td>\n",
       "      <td>Sabado</td>\n",
       "      <td>00:30:00.0000000</td>\n",
       "      <td>330.0</td>\n",
       "      <td>0.0</td>\n",
       "    </tr>\n",
       "    <tr>\n",
       "      <th>3</th>\n",
       "      <td>1001</td>\n",
       "      <td>2024-06-01</td>\n",
       "      <td>Sabado</td>\n",
       "      <td>00:45:00.0000000</td>\n",
       "      <td>387.0</td>\n",
       "      <td>0.0</td>\n",
       "    </tr>\n",
       "    <tr>\n",
       "      <th>4</th>\n",
       "      <td>1001</td>\n",
       "      <td>2024-06-01</td>\n",
       "      <td>Sabado</td>\n",
       "      <td>01:00:00.0000000</td>\n",
       "      <td>335.0</td>\n",
       "      <td>0.0</td>\n",
       "    </tr>\n",
       "  </tbody>\n",
       "</table>\n",
       "</div>"
      ],
      "text/plain": [
       "     id        date weekday              hour  intensity  error\n",
       "0  1001  2024-06-01  Sabado  00:00:00.0000000      369.0    0.0\n",
       "1  1001  2024-06-01  Sabado  00:15:00.0000000      415.0    0.0\n",
       "2  1001  2024-06-01  Sabado  00:30:00.0000000      330.0    0.0\n",
       "3  1001  2024-06-01  Sabado  00:45:00.0000000      387.0    0.0\n",
       "4  1001  2024-06-01  Sabado  01:00:00.0000000      335.0    0.0"
      ]
     },
     "execution_count": 10,
     "metadata": {},
     "output_type": "execute_result"
    }
   ],
   "source": [
    "print(counters_data.shape)\n",
    "print(counters_data.columns)\n",
    "print(counters_data.dtypes)\n",
    "counters_data.head()"
   ]
  },
  {
   "cell_type": "markdown",
   "id": "5c41e7e3",
   "metadata": {
    "papermill": {
     "duration": 0.005,
     "end_time": "2025-03-08T13:18:09.501091",
     "exception": false,
     "start_time": "2025-03-08T13:18:09.496091",
     "status": "completed"
    },
    "tags": []
   },
   "source": [
    "## Duplicates"
   ]
  },
  {
   "cell_type": "code",
   "execution_count": null,
   "id": "91ddea4a",
   "metadata": {
    "execution": {
     "iopub.execute_input": "2025-03-08T13:18:09.513604Z",
     "iopub.status.busy": "2025-03-08T13:18:09.513604Z",
     "iopub.status.idle": "2025-03-08T13:18:16.816898Z",
     "shell.execute_reply": "2025-03-08T13:18:16.816898Z"
    },
    "papermill": {
     "duration": 7.311814,
     "end_time": "2025-03-08T13:18:16.818905",
     "exception": false,
     "start_time": "2025-03-08T13:18:09.507091",
     "status": "completed"
    },
    "tags": []
   },
   "outputs": [
    {
     "data": {
      "text/plain": [
       "(28911552, 6)"
      ]
     },
     "execution_count": 7,
     "metadata": {},
     "output_type": "execute_result"
    }
   ],
   "source": [
    "counters_data = counters_data.drop_duplicates()\n",
    "len(counters_data[\"id\"].unique())\n",
    "counters_data.shape"
   ]
  },
  {
   "cell_type": "markdown",
   "id": "d98d3aa7",
   "metadata": {
    "papermill": {
     "duration": 0.00607,
     "end_time": "2025-03-08T13:18:17.009898",
     "exception": false,
     "start_time": "2025-03-08T13:18:17.003828",
     "status": "completed"
    },
    "tags": []
   },
   "source": [
    "## Errors"
   ]
  },
  {
   "cell_type": "markdown",
   "id": "e0f5480e",
   "metadata": {},
   "source": [
    "### Classify"
   ]
  },
  {
   "cell_type": "code",
   "execution_count": 12,
   "id": "b0b2226f",
   "metadata": {},
   "outputs": [],
   "source": [
    "conditions = [\n",
    "    (counters_data[\"error\"] == 0.0),\n",
    "    (counters_data[\"error\"] == 100.0),\n",
    "    (counters_data[\"error\"].isna()),\n",
    "\n",
    "    (counters_data[\"error\"] != 0.0) & (counters_data[\"error\"] != 100.0)\n",
    "]\n",
    "\n",
    "choices = [\"VALID\", \"INVALID\", \"UNKNOWN\", \"PARTIAL\"]\n",
    "\n",
    "counters_data[\"ERROR\"] = np.select(conditions, choices, default=\"VALID\")\n",
    "\n",
    "observations_per_day = counters_data.groupby(['date', 'ERROR'])['intensity'].count().reset_index(name='observations')"
   ]
  },
  {
   "cell_type": "code",
   "execution_count": null,
   "id": "5bb4a55c",
   "metadata": {},
   "outputs": [],
   "source": []
  },
  {
   "cell_type": "markdown",
   "id": "972fdbde",
   "metadata": {},
   "source": [
    "### Calculate metrics"
   ]
  },
  {
   "cell_type": "code",
   "execution_count": null,
   "id": "8de6bc82",
   "metadata": {},
   "outputs": [],
   "source": []
  },
  {
   "cell_type": "code",
   "execution_count": null,
   "id": "e8fd71b3",
   "metadata": {
    "execution": {
     "iopub.execute_input": "2025-03-08T13:18:17.024553Z",
     "iopub.status.busy": "2025-03-08T13:18:17.024553Z",
     "iopub.status.idle": "2025-03-08T13:18:17.027597Z",
     "shell.execute_reply": "2025-03-08T13:18:17.027597Z"
    },
    "papermill": {
     "duration": 0.012435,
     "end_time": "2025-03-08T13:18:17.028885",
     "exception": false,
     "start_time": "2025-03-08T13:18:17.016450",
     "status": "completed"
    },
    "tags": []
   },
   "outputs": [],
   "source": [
    "# print(counters_data[\"error\"].value_counts(dropna=False))\n",
    "# errors=counters_data[(counters_data[\"error\"]!=0.0)&(counters_data[\"intensity\"].notna())].shape[0]/counters_data.shape[0]\n",
    "\n",
    "# print(f\"Percentage of observations where the couter was malfunctioning: {round(errors,3)}%\")"
   ]
  },
  {
   "cell_type": "code",
   "execution_count": null,
   "id": "8d76e4d4",
   "metadata": {
    "execution": {
     "iopub.execute_input": "2025-03-08T13:18:17.043524Z",
     "iopub.status.busy": "2025-03-08T13:18:17.042523Z",
     "iopub.status.idle": "2025-03-08T13:18:17.045737Z",
     "shell.execute_reply": "2025-03-08T13:18:17.045737Z"
    },
    "papermill": {
     "duration": 0.011419,
     "end_time": "2025-03-08T13:18:17.046742",
     "exception": false,
     "start_time": "2025-03-08T13:18:17.035323",
     "status": "completed"
    },
    "tags": []
   },
   "outputs": [],
   "source": [
    "# counters_data_clean=counters_data[(counters_data[\"error\"]==0.0)|(counters_data[\"intensity\"].isna())].copy()\n",
    "# counters_data_clean=counters_data_clean.drop(columns=[\"error\"])\n",
    "counters_data_clean=counters_data\n"
   ]
  },
  {
   "cell_type": "markdown",
   "id": "bd92c149",
   "metadata": {
    "papermill": {
     "duration": 0.006998,
     "end_time": "2025-03-08T13:18:17.059742",
     "exception": false,
     "start_time": "2025-03-08T13:18:17.052744",
     "status": "completed"
    },
    "tags": []
   },
   "source": [
    "## Get weekday"
   ]
  },
  {
   "cell_type": "code",
   "execution_count": 9,
   "id": "2b91124c",
   "metadata": {
    "execution": {
     "iopub.execute_input": "2025-03-08T13:18:17.073742Z",
     "iopub.status.busy": "2025-03-08T13:18:17.072744Z",
     "iopub.status.idle": "2025-03-08T13:18:25.696930Z",
     "shell.execute_reply": "2025-03-08T13:18:25.696930Z"
    },
    "papermill": {
     "duration": 8.632585,
     "end_time": "2025-03-08T13:18:25.698328",
     "exception": false,
     "start_time": "2025-03-08T13:18:17.065743",
     "status": "completed"
    },
    "tags": []
   },
   "outputs": [
    {
     "ename": "NameError",
     "evalue": "name 'counters_data_clean' is not defined",
     "output_type": "error",
     "traceback": [
      "\u001b[1;31m---------------------------------------------------------------------------\u001b[0m",
      "\u001b[1;31mNameError\u001b[0m                                 Traceback (most recent call last)",
      "Cell \u001b[1;32mIn[9], line 1\u001b[0m\n\u001b[1;32m----> 1\u001b[0m counters_data_clean[\u001b[38;5;124m'\u001b[39m\u001b[38;5;124mdate\u001b[39m\u001b[38;5;124m'\u001b[39m] \u001b[38;5;241m=\u001b[39m pd\u001b[38;5;241m.\u001b[39mto_datetime(\u001b[43mcounters_data_clean\u001b[49m[\u001b[38;5;124m'\u001b[39m\u001b[38;5;124mdate\u001b[39m\u001b[38;5;124m'\u001b[39m])\n\u001b[0;32m      2\u001b[0m counters_data_clean[\u001b[38;5;124m\"\u001b[39m\u001b[38;5;124mweekday\u001b[39m\u001b[38;5;124m\"\u001b[39m]\u001b[38;5;241m=\u001b[39mcounters_data_clean[\u001b[38;5;124m\"\u001b[39m\u001b[38;5;124mdate\u001b[39m\u001b[38;5;124m\"\u001b[39m]\u001b[38;5;241m.\u001b[39mdt\u001b[38;5;241m.\u001b[39mday_name()\n\u001b[0;32m      3\u001b[0m counters_data_clean[\u001b[38;5;124m\"\u001b[39m\u001b[38;5;124mweekday\u001b[39m\u001b[38;5;124m\"\u001b[39m]\u001b[38;5;241m.\u001b[39mvalue_counts()\n",
      "\u001b[1;31mNameError\u001b[0m: name 'counters_data_clean' is not defined"
     ]
    }
   ],
   "source": [
    "counters_data_clean['date'] = pd.to_datetime(counters_data_clean['date'])\n",
    "counters_data_clean[\"weekday\"]=counters_data_clean[\"date\"].dt.day_name()\n",
    "counters_data_clean[\"weekday\"].value_counts()"
   ]
  },
  {
   "cell_type": "markdown",
   "id": "69586912",
   "metadata": {
    "papermill": {
     "duration": 0.005718,
     "end_time": "2025-03-08T13:18:25.710055",
     "exception": false,
     "start_time": "2025-03-08T13:18:25.704337",
     "status": "completed"
    },
    "tags": []
   },
   "source": [
    "## Estimate DBT, MBT, AADBT\n"
   ]
  },
  {
   "cell_type": "markdown",
   "id": "8fd58d6e",
   "metadata": {
    "papermill": {
     "duration": 0.006355,
     "end_time": "2025-03-08T13:18:25.722757",
     "exception": false,
     "start_time": "2025-03-08T13:18:25.716402",
     "status": "completed"
    },
    "tags": []
   },
   "source": [
    "### DBT\n"
   ]
  },
  {
   "cell_type": "code",
   "execution_count": 12,
   "id": "0ff523b3",
   "metadata": {
    "execution": {
     "iopub.execute_input": "2025-03-08T13:18:25.735170Z",
     "iopub.status.busy": "2025-03-08T13:18:25.735170Z",
     "iopub.status.idle": "2025-03-08T13:18:25.739616Z",
     "shell.execute_reply": "2025-03-08T13:18:25.739616Z"
    },
    "papermill": {
     "duration": 0.012586,
     "end_time": "2025-03-08T13:18:25.740620",
     "exception": false,
     "start_time": "2025-03-08T13:18:25.728034",
     "status": "completed"
    },
    "tags": []
   },
   "outputs": [],
   "source": [
    "def flag_insuficient_daily_data(df):\n",
    "    df['duration']=0.25\n",
    "    df_day = df.groupby(['id', 'date'])['duration'].sum().reset_index()\n",
    "    df_day=df_day.rename(columns={'duration':'Number_of_hrs_data_collected'})\n",
    "    print(df_day['Number_of_hrs_data_collected'].describe())\n",
    "\n",
    "    df=pd.merge(df, df_day, on=['id', 'date'], how='inner')\n",
    "\n",
    "    flagged_rows = df.loc[(df['Number_of_hrs_data_collected'] <= 23)]\n",
    "    non_flagged_rows = df.loc[(df['Number_of_hrs_data_collected'] > 23)]\n",
    "    print('Number of flagged rows:', flagged_rows.shape[0], 'Number of non-flagged rows:', non_flagged_rows.shape[0], 'Total rows:', df.shape[0], 'The sum of flagged and non-flagged rows is equal to the total rows:', flagged_rows.shape[0] + non_flagged_rows.shape[0] == df.shape[0])\n",
    "    return non_flagged_rows,flagged_rows \n"
   ]
  },
  {
   "cell_type": "code",
   "execution_count": 13,
   "id": "77efbae4",
   "metadata": {
    "execution": {
     "iopub.execute_input": "2025-03-08T13:18:25.753001Z",
     "iopub.status.busy": "2025-03-08T13:18:25.753001Z",
     "iopub.status.idle": "2025-03-08T13:18:34.217259Z",
     "shell.execute_reply": "2025-03-08T13:18:34.217259Z"
    },
    "papermill": {
     "duration": 8.472665,
     "end_time": "2025-03-08T13:18:34.218271",
     "exception": false,
     "start_time": "2025-03-08T13:18:25.745606",
     "status": "completed"
    },
    "tags": []
   },
   "outputs": [
    {
     "name": "stdout",
     "output_type": "stream",
     "text": [
      "count    301162.0\n",
      "mean         24.0\n",
      "std           0.0\n",
      "min          24.0\n",
      "25%          24.0\n",
      "50%          24.0\n",
      "75%          24.0\n",
      "max          24.0\n",
      "Name: Number_of_hrs_data_collected, dtype: float64\n"
     ]
    },
    {
     "name": "stdout",
     "output_type": "stream",
     "text": [
      "Number of flagged rows: 0 Number of non-flagged rows: 28911552 Total rows: 28911552 The sum of flagged and non-flagged rows is equal to the total rows: True\n"
     ]
    }
   ],
   "source": [
    "non_flagged_rows,flagged_quarters = flag_insuficient_daily_data(counters_data_clean.copy())\n"
   ]
  },
  {
   "cell_type": "code",
   "execution_count": 14,
   "id": "db53bd71",
   "metadata": {
    "execution": {
     "iopub.execute_input": "2025-03-08T13:18:34.430519Z",
     "iopub.status.busy": "2025-03-08T13:18:34.430519Z",
     "iopub.status.idle": "2025-03-08T13:18:37.150310Z",
     "shell.execute_reply": "2025-03-08T13:18:37.150310Z"
    },
    "papermill": {
     "duration": 2.925666,
     "end_time": "2025-03-08T13:18:37.151448",
     "exception": false,
     "start_time": "2025-03-08T13:18:34.225782",
     "status": "completed"
    },
    "tags": []
   },
   "outputs": [
    {
     "data": {
      "text/html": [
       "<div>\n",
       "<style scoped>\n",
       "    .dataframe tbody tr th:only-of-type {\n",
       "        vertical-align: middle;\n",
       "    }\n",
       "\n",
       "    .dataframe tbody tr th {\n",
       "        vertical-align: top;\n",
       "    }\n",
       "\n",
       "    .dataframe thead th {\n",
       "        text-align: right;\n",
       "    }\n",
       "</style>\n",
       "<table border=\"1\" class=\"dataframe\">\n",
       "  <thead>\n",
       "    <tr style=\"text-align: right;\">\n",
       "      <th></th>\n",
       "      <th>id</th>\n",
       "      <th>date</th>\n",
       "      <th>weekday</th>\n",
       "      <th>DBT</th>\n",
       "    </tr>\n",
       "  </thead>\n",
       "  <tbody>\n",
       "    <tr>\n",
       "      <th>0</th>\n",
       "      <td>1001</td>\n",
       "      <td>2024-01-01</td>\n",
       "      <td>Monday</td>\n",
       "      <td>74746.0</td>\n",
       "    </tr>\n",
       "    <tr>\n",
       "      <th>1</th>\n",
       "      <td>1001</td>\n",
       "      <td>2024-01-02</td>\n",
       "      <td>Tuesday</td>\n",
       "      <td>116203.0</td>\n",
       "    </tr>\n",
       "    <tr>\n",
       "      <th>2</th>\n",
       "      <td>1001</td>\n",
       "      <td>2024-01-03</td>\n",
       "      <td>Wednesday</td>\n",
       "      <td>123482.0</td>\n",
       "    </tr>\n",
       "    <tr>\n",
       "      <th>3</th>\n",
       "      <td>1001</td>\n",
       "      <td>2024-01-04</td>\n",
       "      <td>Thursday</td>\n",
       "      <td>126269.0</td>\n",
       "    </tr>\n",
       "    <tr>\n",
       "      <th>4</th>\n",
       "      <td>1001</td>\n",
       "      <td>2024-01-05</td>\n",
       "      <td>Friday</td>\n",
       "      <td>113815.0</td>\n",
       "    </tr>\n",
       "  </tbody>\n",
       "</table>\n",
       "</div>"
      ],
      "text/plain": [
       "     id       date    weekday       DBT\n",
       "0  1001 2024-01-01     Monday   74746.0\n",
       "1  1001 2024-01-02    Tuesday  116203.0\n",
       "2  1001 2024-01-03  Wednesday  123482.0\n",
       "3  1001 2024-01-04   Thursday  126269.0\n",
       "4  1001 2024-01-05     Friday  113815.0"
      ]
     },
     "execution_count": 14,
     "metadata": {},
     "output_type": "execute_result"
    }
   ],
   "source": [
    "DBT = non_flagged_rows.groupby(['id', 'date','weekday'])['intensity'].sum().reset_index()\n",
    "DBT=DBT.rename(columns={'intensity':'DBT'})\n",
    "DBT.head()"
   ]
  },
  {
   "cell_type": "markdown",
   "id": "2812c534",
   "metadata": {
    "papermill": {
     "duration": 0.006113,
     "end_time": "2025-03-08T13:18:37.164614",
     "exception": false,
     "start_time": "2025-03-08T13:18:37.158501",
     "status": "completed"
    },
    "tags": []
   },
   "source": [
    "### MBT"
   ]
  },
  {
   "cell_type": "code",
   "execution_count": 15,
   "id": "575abfe6",
   "metadata": {
    "execution": {
     "iopub.execute_input": "2025-03-08T13:18:37.179272Z",
     "iopub.status.busy": "2025-03-08T13:18:37.179272Z",
     "iopub.status.idle": "2025-03-08T13:18:37.182633Z",
     "shell.execute_reply": "2025-03-08T13:18:37.182633Z"
    },
    "papermill": {
     "duration": 0.012367,
     "end_time": "2025-03-08T13:18:37.183642",
     "exception": false,
     "start_time": "2025-03-08T13:18:37.171275",
     "status": "completed"
    },
    "tags": []
   },
   "outputs": [],
   "source": [
    "# def flag_insuficient_monthly_data(df):\n",
    "#     df['duration']=1\n",
    "\n",
    "#     df['day']=df['date'].dt.day\n",
    "#     df['month']=df['date'].dt.month\n",
    "#     df_day = df.groupby(['id', 'month', 'day'])['duration'].sum().reset_index()\n",
    "#     df_month = df_day.groupby(['id', 'month'])['day'].count().reset_index()\n",
    "#     df_month=df_month.rename(columns={'day':'Number_of_days_data_collected'})\n",
    "\n",
    "\n",
    "#     df=pd.merge(df, df_month, on=['id', 'month'], how='inner')\n",
    "\n",
    "#     flagged_rows = df.loc[(df['Number_of_days_data_collected'] <= 25)]\n",
    "#     non_flagged_rows = df.loc[(df['Number_of_days_data_collected'] > 25)]\n",
    "#     print('Number of flagged rows:', flagged_rows.shape[0], 'Number of non-flagged rows:', non_flagged_rows.shape[0], 'Total rows:', df.shape[0], 'The sum of flagged and non-flagged rows is equal to the total rows:', flagged_rows.shape[0] + non_flagged_rows.shape[0] == df.shape[0])\n",
    "#     return non_flagged_rows,flagged_rows \n"
   ]
  },
  {
   "cell_type": "code",
   "execution_count": 16,
   "id": "db1d0b04",
   "metadata": {
    "execution": {
     "iopub.execute_input": "2025-03-08T13:18:37.195994Z",
     "iopub.status.busy": "2025-03-08T13:18:37.195994Z",
     "iopub.status.idle": "2025-03-08T13:18:37.198816Z",
     "shell.execute_reply": "2025-03-08T13:18:37.198816Z"
    },
    "papermill": {
     "duration": 0.011179,
     "end_time": "2025-03-08T13:18:37.200822",
     "exception": false,
     "start_time": "2025-03-08T13:18:37.189643",
     "status": "completed"
    },
    "tags": []
   },
   "outputs": [],
   "source": [
    "# non_flagged_rows,flagged_days=flag_insuficient_monthly_data(DBT)\n"
   ]
  },
  {
   "cell_type": "code",
   "execution_count": 17,
   "id": "614f84ca",
   "metadata": {
    "execution": {
     "iopub.execute_input": "2025-03-08T13:18:37.213769Z",
     "iopub.status.busy": "2025-03-08T13:18:37.213769Z",
     "iopub.status.idle": "2025-03-08T13:18:37.215846Z",
     "shell.execute_reply": "2025-03-08T13:18:37.215846Z"
    },
    "papermill": {
     "duration": 0.010375,
     "end_time": "2025-03-08T13:18:37.217133",
     "exception": false,
     "start_time": "2025-03-08T13:18:37.206758",
     "status": "completed"
    },
    "tags": []
   },
   "outputs": [],
   "source": [
    "# MBT = non_flagged_rows.groupby(['id','month'])['DBT'].sum().reset_index()\n",
    "# MBT=MBT.rename(columns={'DBT':'MBT'})\n",
    "# print(MBT.shape)\n",
    "# MBT.head()\n"
   ]
  },
  {
   "cell_type": "markdown",
   "id": "b763f8d9",
   "metadata": {
    "papermill": {
     "duration": 0.005012,
     "end_time": "2025-03-08T13:18:37.228369",
     "exception": false,
     "start_time": "2025-03-08T13:18:37.223357",
     "status": "completed"
    },
    "tags": []
   },
   "source": [
    "### ABT"
   ]
  },
  {
   "cell_type": "code",
   "execution_count": 18,
   "id": "18e207d7",
   "metadata": {
    "execution": {
     "iopub.execute_input": "2025-03-08T13:18:37.242249Z",
     "iopub.status.busy": "2025-03-08T13:18:37.242249Z",
     "iopub.status.idle": "2025-03-08T13:18:37.247478Z",
     "shell.execute_reply": "2025-03-08T13:18:37.247478Z"
    },
    "papermill": {
     "duration": 0.01372,
     "end_time": "2025-03-08T13:18:37.248483",
     "exception": false,
     "start_time": "2025-03-08T13:18:37.234763",
     "status": "completed"
    },
    "tags": []
   },
   "outputs": [],
   "source": [
    "# def flag_insuficient_annual_data(df):\n",
    "#     df['duration']=1\n",
    "\n",
    "#     df_year = df.groupby(['id'])['duration'].sum().reset_index()\n",
    "#     df_year=df_year.rename(columns={'duration':'Number_of_days_data_collected'})\n",
    "\n",
    "\n",
    "#     df=pd.merge(df, df_year, on=['id'], how='inner')\n",
    "\n",
    "#     flagged_rows = df.loc[(df['Number_of_days_data_collected'] <= 11)]\n",
    "#     non_flagged_rows = df.loc[(df['Number_of_days_data_collected'] > 11)]\n",
    "#     print('Number of flagged rows:', flagged_rows.shape[0], 'Number of non-flagged rows:', non_flagged_rows.shape[0], 'Total rows:', df.shape[0], 'The sum of flagged and non-flagged rows is equal to the total rows:', flagged_rows.shape[0] + non_flagged_rows.shape[0] == df.shape[0])\n",
    "#     return non_flagged_rows,flagged_rows \n"
   ]
  },
  {
   "cell_type": "code",
   "execution_count": 19,
   "id": "5eecd2c2",
   "metadata": {
    "execution": {
     "iopub.execute_input": "2025-03-08T13:18:37.268014Z",
     "iopub.status.busy": "2025-03-08T13:18:37.268014Z",
     "iopub.status.idle": "2025-03-08T13:18:37.271004Z",
     "shell.execute_reply": "2025-03-08T13:18:37.271004Z"
    },
    "papermill": {
     "duration": 0.013461,
     "end_time": "2025-03-08T13:18:37.272012",
     "exception": false,
     "start_time": "2025-03-08T13:18:37.258551",
     "status": "completed"
    },
    "tags": []
   },
   "outputs": [],
   "source": [
    "# non_flagged_rows,flagged_months=flag_insuficient_annual_data(MBT)\n"
   ]
  },
  {
   "cell_type": "code",
   "execution_count": 20,
   "id": "1313706c",
   "metadata": {
    "execution": {
     "iopub.execute_input": "2025-03-08T13:18:37.286679Z",
     "iopub.status.busy": "2025-03-08T13:18:37.286679Z",
     "iopub.status.idle": "2025-03-08T13:18:37.289790Z",
     "shell.execute_reply": "2025-03-08T13:18:37.289790Z"
    },
    "papermill": {
     "duration": 0.01258,
     "end_time": "2025-03-08T13:18:37.291809",
     "exception": false,
     "start_time": "2025-03-08T13:18:37.279229",
     "status": "completed"
    },
    "tags": []
   },
   "outputs": [],
   "source": [
    "# ABT = non_flagged_rows.groupby(['id'])['MBT'].sum().reset_index()\n",
    "# ABT=ABT.rename(columns={'MBT':'ABT'})\n",
    "# print(ABT.shape)\n",
    "# ABT.head()\n"
   ]
  },
  {
   "cell_type": "markdown",
   "id": "87a5278f",
   "metadata": {
    "papermill": {
     "duration": 0.006002,
     "end_time": "2025-03-08T13:18:37.304047",
     "exception": false,
     "start_time": "2025-03-08T13:18:37.298045",
     "status": "completed"
    },
    "tags": []
   },
   "source": [
    "### AADBT"
   ]
  },
  {
   "cell_type": "code",
   "execution_count": 21,
   "id": "1d4bba66",
   "metadata": {
    "execution": {
     "iopub.execute_input": "2025-03-08T13:18:37.317732Z",
     "iopub.status.busy": "2025-03-08T13:18:37.317732Z",
     "iopub.status.idle": "2025-03-08T13:18:37.334445Z",
     "shell.execute_reply": "2025-03-08T13:18:37.333435Z"
    },
    "papermill": {
     "duration": 0.025396,
     "end_time": "2025-03-08T13:18:37.335442",
     "exception": false,
     "start_time": "2025-03-08T13:18:37.310046",
     "status": "completed"
    },
    "tags": []
   },
   "outputs": [
    {
     "data": {
      "text/html": [
       "<div>\n",
       "<style scoped>\n",
       "    .dataframe tbody tr th:only-of-type {\n",
       "        vertical-align: middle;\n",
       "    }\n",
       "\n",
       "    .dataframe tbody tr th {\n",
       "        vertical-align: top;\n",
       "    }\n",
       "\n",
       "    .dataframe thead th {\n",
       "        text-align: right;\n",
       "    }\n",
       "</style>\n",
       "<table border=\"1\" class=\"dataframe\">\n",
       "  <thead>\n",
       "    <tr style=\"text-align: right;\">\n",
       "      <th></th>\n",
       "      <th>id</th>\n",
       "      <th>AADBT</th>\n",
       "    </tr>\n",
       "  </thead>\n",
       "  <tbody>\n",
       "    <tr>\n",
       "      <th>0</th>\n",
       "      <td>1001</td>\n",
       "      <td>112878.0</td>\n",
       "    </tr>\n",
       "    <tr>\n",
       "      <th>1</th>\n",
       "      <td>1002</td>\n",
       "      <td>26095.0</td>\n",
       "    </tr>\n",
       "    <tr>\n",
       "      <th>2</th>\n",
       "      <td>1003</td>\n",
       "      <td>35131.0</td>\n",
       "    </tr>\n",
       "    <tr>\n",
       "      <th>3</th>\n",
       "      <td>1004</td>\n",
       "      <td>837.0</td>\n",
       "    </tr>\n",
       "    <tr>\n",
       "      <th>4</th>\n",
       "      <td>1005</td>\n",
       "      <td>29314.0</td>\n",
       "    </tr>\n",
       "  </tbody>\n",
       "</table>\n",
       "</div>"
      ],
      "text/plain": [
       "     id     AADBT\n",
       "0  1001  112878.0\n",
       "1  1002   26095.0\n",
       "2  1003   35131.0\n",
       "3  1004     837.0\n",
       "4  1005   29314.0"
      ]
     },
     "execution_count": 21,
     "metadata": {},
     "output_type": "execute_result"
    }
   ],
   "source": [
    "AADBT=DBT.groupby(['id'])['DBT'].mean().round().reset_index()\n",
    "AADBT=AADBT.rename(columns={'DBT':'AADBT'})\n",
    "AADBT.head()"
   ]
  },
  {
   "cell_type": "markdown",
   "id": "5d4e1f2e",
   "metadata": {
    "id": "a_ZrQ64i7plQ",
    "papermill": {
     "duration": 0.007001,
     "end_time": "2025-03-08T13:18:37.351816",
     "exception": false,
     "start_time": "2025-03-08T13:18:37.344815",
     "status": "completed"
    },
    "tags": []
   },
   "source": [
    "## Save output"
   ]
  },
  {
   "cell_type": "code",
   "execution_count": 22,
   "id": "8843cb0a",
   "metadata": {
    "execution": {
     "iopub.execute_input": "2025-03-08T13:18:37.371174Z",
     "iopub.status.busy": "2025-03-08T13:18:37.371174Z",
     "iopub.status.idle": "2025-03-08T13:18:44.864985Z",
     "shell.execute_reply": "2025-03-08T13:18:44.864985Z"
    },
    "id": "6bj2-CeR7owh",
    "papermill": {
     "duration": 7.503989,
     "end_time": "2025-03-08T13:18:44.866161",
     "exception": false,
     "start_time": "2025-03-08T13:18:37.362172",
     "status": "completed"
    },
    "tags": []
   },
   "outputs": [],
   "source": [
    "if SAVE_OUTPUT:\n",
    "    counters_data_clean.to_parquet(f'{OUTPUT_DATA_PATH}/counters_data{YEAR}.parquet')\n",
    "    # DBT.to_parquet(f'{OUTPUT_DATA_PATH}/DBT{YEAR}.parquet')\n",
    "    # MBT.to_parquet(f'{OUTPUT_DATA_PATH}/MBT{YEAR}.parquet')\n",
    "    # ABT.to_parquet(f'{OUTPUT_DATA_PATH}/ABT{YEAR}.parquet')\n",
    "    AADBT.to_parquet(f'{OUTPUT_DATA_PATH}/AADBT{YEAR}.parquet')\n",
    "    "
   ]
  },
  {
   "cell_type": "code",
   "execution_count": null,
   "id": "4c840e8b",
   "metadata": {
    "execution": {
     "iopub.execute_input": "2025-03-08T13:18:44.880542Z",
     "iopub.status.busy": "2025-03-08T13:18:44.880542Z",
     "iopub.status.idle": "2025-03-08T13:18:45.038699Z",
     "shell.execute_reply": "2025-03-08T13:18:45.038699Z"
    },
    "papermill": {
     "duration": 0.168,
     "end_time": "2025-03-08T13:18:45.040706",
     "exception": false,
     "start_time": "2025-03-08T13:18:44.872706",
     "status": "completed"
    },
    "tags": []
   },
   "outputs": [],
   "source": [
    "if LOG:\n",
    "    # Define the new row data\n",
    "    new_row = {\n",
    "        'Year': YEAR,\n",
    "        'Columns': counters_data.shape[1],\n",
    "        'Rows': counters_data.shape[0],\n",
    "        'Rows after cleaning': counters_data_clean.shape[0],\n",
    "        'Deleted rows':  counters_data.shape[0]-counters_data_clean.shape[0],\n",
    "        # 'Percentage': errors,\n",
    "        'Bike Counters': counters_data_clean['id'].nunique(),\n",
    "        'Flagged hours': flagged_quarters.shape[0]/4,\n",
    "        # 'Flagged days': flagged_days.shape[0],\n",
    "        # 'Flagged months': flagged_months.shape[0],\n",
    "    }\n",
    "\n",
    "    # Convert the new row data to a DataFrame\n",
    "    new_row_df = pd.DataFrame([new_row])\n",
    "\n",
    "    # Define the path to the CSV file\n",
    "    csv_file_path = f\"{INPUT_PROCESSED_DATA_PATH}/log_observations.csv\"\n",
    "\n",
    "    # Check if the CSV file exists\n",
    "    if Path(csv_file_path).is_file():\n",
    "        # If the file exists, append the new row\n",
    "        new_row_df.to_csv(csv_file_path, mode='a', header=False, index=False)\n",
    "    else:\n",
    "        # If the file does not exist, create it with the new row\n",
    "        new_row_df.to_csv(csv_file_path, mode='w', header=True, index=False)"
   ]
  },
  {
   "cell_type": "code",
   "execution_count": null,
   "id": "df2a3a2d",
   "metadata": {},
   "outputs": [],
   "source": [
    "if LOG:\n",
    "        \n",
    "    # Calculate the error counts\n",
    "    error_counts = counters_data[\"ERROR\"].value_counts().to_dict()\n",
    "    total_errors = sum(error_counts.values())\n",
    "\n",
    "    # Create a new row with the error counts\n",
    "    new_error_row = {\n",
    "        'Year': YEAR,\n",
    "        'Valid': error_counts.get('VALID', 0),\n",
    "        'Invalid': error_counts.get('INVALID', 0),\n",
    "        'Unknown': error_counts.get('UNKNOWN', 0),\n",
    "        'Partial': error_counts.get('PARTIAL', 0),\n",
    "        'Total': total_errors,\n",
    "        'Timestamp': datetime.now().strftime('%Y-%m-%d %H:%M:%S')\n",
    "    }\n",
    "\n",
    "    # Convert the new row data to a DataFrame\n",
    "    new_error_row_df = pd.DataFrame([new_error_row])\n",
    "\n",
    "    # Check if the CSV file exists\n",
    "    if Path(f\"{OUTPUT_REPORTS_PATH}errors.csv\").is_file():\n",
    "        # Load the existing data\n",
    "        existing_data = pd.read_csv(f\"{OUTPUT_REPORTS_PATH}errors.csv\")\n",
    "        \n",
    "        # Check if a row with the same year exists\n",
    "        if YEAR in existing_data['Year'].values:\n",
    "            # Replace the data for the existing year\n",
    "            existing_data.loc[existing_data['Year'] == YEAR] = new_error_row\n",
    "        else:\n",
    "            # Append the new row\n",
    "            existing_data = pd.concat([existing_data, new_error_row_df], ignore_index=True)\n",
    "        \n",
    "        # Save the updated data\n",
    "        existing_data.to_csv(f\"{OUTPUT_REPORTS_PATH}errors.csv\", mode='w', header=True, index=False)\n",
    "    else:\n",
    "        # If the file does not exist, create it with the new row\n",
    "        new_error_row_df.to_csv(f\"{OUTPUT_REPORTS_PATH}errors.csv\", mode='w', header=True, index=False)"
   ]
  },
  {
   "cell_type": "markdown",
   "id": "df5cda91",
   "metadata": {
    "id": "xT_uQYZSbEty",
    "papermill": {
     "duration": 0.006926,
     "end_time": "2025-03-08T13:18:45.053511",
     "exception": false,
     "start_time": "2025-03-08T13:18:45.046585",
     "status": "completed"
    },
    "tags": []
   },
   "source": [
    "## Watermark"
   ]
  },
  {
   "cell_type": "code",
   "execution_count": 24,
   "id": "cb9cdd91",
   "metadata": {
    "execution": {
     "iopub.execute_input": "2025-03-08T13:18:45.068175Z",
     "iopub.status.busy": "2025-03-08T13:18:45.068175Z",
     "iopub.status.idle": "2025-03-08T13:18:48.824745Z",
     "shell.execute_reply": "2025-03-08T13:18:48.824745Z"
    },
    "id": "iY8ZyfnAbFoO",
    "papermill": {
     "duration": 3.766454,
     "end_time": "2025-03-08T13:18:48.826750",
     "exception": false,
     "start_time": "2025-03-08T13:18:45.060296",
     "status": "completed"
    },
    "tags": []
   },
   "outputs": [],
   "source": [
    "!python -m pip install watermark --quiet"
   ]
  },
  {
   "cell_type": "code",
   "execution_count": 25,
   "id": "7a27f1f4",
   "metadata": {
    "execution": {
     "iopub.execute_input": "2025-03-08T13:18:48.839607Z",
     "iopub.status.busy": "2025-03-08T13:18:48.839607Z",
     "iopub.status.idle": "2025-03-08T13:18:48.871775Z",
     "shell.execute_reply": "2025-03-08T13:18:48.871775Z"
    },
    "id": "Cd2yG3BgbGE3",
    "papermill": {
     "duration": 0.041043,
     "end_time": "2025-03-08T13:18:48.873793",
     "exception": false,
     "start_time": "2025-03-08T13:18:48.832750",
     "status": "completed"
    },
    "tags": []
   },
   "outputs": [],
   "source": [
    "%load_ext watermark"
   ]
  },
  {
   "cell_type": "code",
   "execution_count": 26,
   "id": "0493f7d6",
   "metadata": {
    "colab": {
     "base_uri": "https://localhost:8080/"
    },
    "execution": {
     "iopub.execute_input": "2025-03-08T13:18:48.887238Z",
     "iopub.status.busy": "2025-03-08T13:18:48.886233Z",
     "iopub.status.idle": "2025-03-08T13:18:48.891737Z",
     "shell.execute_reply": "2025-03-08T13:18:48.891231Z"
    },
    "id": "Ef6VBO1QbI-_",
    "outputId": "9551ad1c-634d-4484-dc4a-f6a971884ccc",
    "papermill": {
     "duration": 0.012883,
     "end_time": "2025-03-08T13:18:48.892885",
     "exception": false,
     "start_time": "2025-03-08T13:18:48.880002",
     "status": "completed"
    },
    "tags": []
   },
   "outputs": [
    {
     "name": "stdout",
     "output_type": "stream",
     "text": [
      "Last updated: 2025-03-08T14:18:48.888237+01:00\n",
      "\n",
      "Python implementation: CPython\n",
      "Python version       : 3.11.9\n",
      "IPython version      : 8.25.0\n",
      "\n",
      "Compiler    : MSC v.1938 64 bit (AMD64)\n",
      "OS          : Windows\n",
      "Release     : 10\n",
      "Machine     : AMD64\n",
      "Processor   : AMD64 Family 25 Model 68 Stepping 1, AuthenticAMD\n",
      "CPU cores   : 16\n",
      "Architecture: 64bit\n",
      "\n"
     ]
    }
   ],
   "source": [
    "%watermark"
   ]
  },
  {
   "cell_type": "code",
   "execution_count": 27,
   "id": "ffd4d01d",
   "metadata": {
    "colab": {
     "base_uri": "https://localhost:8080/"
    },
    "execution": {
     "iopub.execute_input": "2025-03-08T13:18:48.907587Z",
     "iopub.status.busy": "2025-03-08T13:18:48.907587Z",
     "iopub.status.idle": "2025-03-08T13:18:48.916725Z",
     "shell.execute_reply": "2025-03-08T13:18:48.916725Z"
    },
    "id": "EW9nOXoNbKrP",
    "outputId": "b68ae236-6367-4c9a-b720-5978d2bbcbf4",
    "papermill": {
     "duration": 0.019155,
     "end_time": "2025-03-08T13:18:48.918066",
     "exception": false,
     "start_time": "2025-03-08T13:18:48.898911",
     "status": "completed"
    },
    "tags": []
   },
   "outputs": [
    {
     "name": "stdout",
     "output_type": "stream",
     "text": [
      "geopandas: 0.13.2\n",
      "json     : 2.0.9\n",
      "numpy    : 1.24.4\n",
      "pandas   : 2.0.3\n",
      "\n"
     ]
    }
   ],
   "source": [
    "%watermark --iversions"
   ]
  },
  {
   "cell_type": "code",
   "execution_count": 28,
   "id": "83775567",
   "metadata": {
    "colab": {
     "base_uri": "https://localhost:8080/"
    },
    "execution": {
     "iopub.execute_input": "2025-03-08T13:18:48.940870Z",
     "iopub.status.busy": "2025-03-08T13:18:48.940870Z",
     "iopub.status.idle": "2025-03-08T13:18:48.974474Z",
     "shell.execute_reply": "2025-03-08T13:18:48.973964Z"
    },
    "id": "2LOCLnX0bMxt",
    "outputId": "e68400d8-8277-4988-d42c-15e02490cce1",
    "papermill": {
     "duration": 0.043295,
     "end_time": "2025-03-08T13:18:48.975965",
     "exception": false,
     "start_time": "2025-03-08T13:18:48.932670",
     "status": "completed"
    },
    "tags": []
   },
   "outputs": [
    {
     "name": "stderr",
     "output_type": "stream",
     "text": [
      "\"lsb_release\" no se reconoce como un comando interno o externo,\n",
      "programa o archivo por lotes ejecutable.\n"
     ]
    }
   ],
   "source": [
    "!lsb_release -a"
   ]
  }
 ],
 "metadata": {
  "colab": {
   "provenance": [],
   "toc_visible": true
  },
  "kernelspec": {
   "display_name": "ridership_model",
   "language": "python",
   "name": "python3"
  },
  "language_info": {
   "codemirror_mode": {
    "name": "ipython",
    "version": 3
   },
   "file_extension": ".py",
   "mimetype": "text/x-python",
   "name": "python",
   "nbconvert_exporter": "python",
   "pygments_lexer": "ipython3",
   "version": "3.11.9"
  },
  "papermill": {
   "default_parameters": {},
   "duration": 55.822136,
   "end_time": "2025-03-08T13:18:51.281503",
   "environment_variables": {},
   "exception": null,
   "input_path": "01_luca_data-management_counters-data.ipynb",
   "output_path": "01_luca_data-management_counters-data.ipynb",
   "parameters": {
    "SAVE_OUTPUT": true,
    "YEAR": 2024
   },
   "start_time": "2025-03-08T13:17:55.459367",
   "version": "2.6.0"
  }
 },
 "nbformat": 4,
 "nbformat_minor": 5
}
