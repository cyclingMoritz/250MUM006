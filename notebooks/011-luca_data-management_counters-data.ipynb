{
 "cells": [
  {
   "cell_type": "markdown",
   "id": "6602c9b6",
   "metadata": {
    "id": "rP8SuqILhaPo",
    "papermill": {
     "duration": 0.005541,
     "end_time": "2025-03-14T14:54:51.786297",
     "exception": false,
     "start_time": "2025-03-14T14:54:51.780756",
     "status": "completed"
    },
    "tags": []
   },
   "source": [
    "# Config"
   ]
  },
  {
   "cell_type": "code",
   "execution_count": 1,
   "id": "9063fa54",
   "metadata": {
    "execution": {
     "iopub.execute_input": "2025-03-14T14:54:51.800206Z",
     "iopub.status.busy": "2025-03-14T14:54:51.798700Z",
     "iopub.status.idle": "2025-03-14T14:54:51.806184Z",
     "shell.execute_reply": "2025-03-14T14:54:51.806184Z"
    },
    "id": "I_hrwU9x479z",
    "papermill": {
     "duration": 0.015497,
     "end_time": "2025-03-14T14:54:51.808198",
     "exception": false,
     "start_time": "2025-03-14T14:54:51.792701",
     "status": "completed"
    },
    "tags": [
     "parameters"
    ]
   },
   "outputs": [],
   "source": [
    "# parameters\n",
    "SAVE_OUTPUT = True\n",
    "SIZE_PLOTS = (12,10)\n",
    "YEAR = 2021\n",
    "LOG = True\n",
    "#Location of the data\n",
    "INPUT_DATA_PATH = \"../data/raw/\"\n",
    "INPUT_PROCESSED_DATA_PATH = \"../data/processed/\"\n",
    "OUTPUT_DATA_PATH = \"../data/interim/\"\n",
    "OUTPUT_REPORTS_PATH = \"../reports/\"\n"
   ]
  },
  {
   "cell_type": "code",
   "execution_count": 2,
   "id": "e702d466",
   "metadata": {
    "execution": {
     "iopub.execute_input": "2025-03-14T14:54:51.821477Z",
     "iopub.status.busy": "2025-03-14T14:54:51.821477Z",
     "iopub.status.idle": "2025-03-14T14:54:51.824018Z",
     "shell.execute_reply": "2025-03-14T14:54:51.824018Z"
    },
    "papermill": {
     "duration": 0.011825,
     "end_time": "2025-03-14T14:54:51.825022",
     "exception": false,
     "start_time": "2025-03-14T14:54:51.813197",
     "status": "completed"
    },
    "tags": [
     "injected-parameters"
    ]
   },
   "outputs": [],
   "source": [
    "# Parameters\n",
    "YEAR = 2024\n",
    "SAVE_OUTPUT = True\n"
   ]
  },
  {
   "cell_type": "code",
   "execution_count": 3,
   "id": "d09bf494",
   "metadata": {
    "execution": {
     "iopub.execute_input": "2025-03-14T14:54:51.837064Z",
     "iopub.status.busy": "2025-03-14T14:54:51.837064Z",
     "iopub.status.idle": "2025-03-14T14:54:52.514522Z",
     "shell.execute_reply": "2025-03-14T14:54:52.514522Z"
    },
    "id": "HnDB36CLTIxL",
    "papermill": {
     "duration": 0.68613,
     "end_time": "2025-03-14T14:54:52.516682",
     "exception": false,
     "start_time": "2025-03-14T14:54:51.830552",
     "status": "completed"
    },
    "tags": []
   },
   "outputs": [],
   "source": [
    "import numpy as np\n",
    "import pandas as pd\n",
    "import geopandas as gpd\n",
    "from datetime import datetime\n",
    "\n",
    "from pathlib import Path\n",
    "import json"
   ]
  },
  {
   "cell_type": "markdown",
   "id": "82ae44ba",
   "metadata": {
    "id": "JMxfkSGDhuDI",
    "papermill": {
     "duration": 0.006518,
     "end_time": "2025-03-14T14:54:52.529549",
     "exception": false,
     "start_time": "2025-03-14T14:54:52.523031",
     "status": "completed"
    },
    "tags": []
   },
   "source": [
    "# Load data"
   ]
  },
  {
   "cell_type": "code",
   "execution_count": 4,
   "id": "c217e546",
   "metadata": {
    "execution": {
     "iopub.execute_input": "2025-03-14T14:54:52.542191Z",
     "iopub.status.busy": "2025-03-14T14:54:52.542191Z",
     "iopub.status.idle": "2025-03-14T14:55:05.815201Z",
     "shell.execute_reply": "2025-03-14T14:55:05.815201Z"
    },
    "papermill": {
     "duration": 13.283018,
     "end_time": "2025-03-14T14:55:05.818207",
     "exception": false,
     "start_time": "2025-03-14T14:54:52.535189",
     "status": "completed"
    },
    "tags": []
   },
   "outputs": [],
   "source": [
    "colnames=['id', 'date', 'weekday', 'hour', 'intensity', 'error'] \n",
    "if YEAR == 2024:\n",
    "    counters_data_1 = pd.read_csv(f\"{INPUT_DATA_PATH}/{YEAR}_1_ciclovias.csv\", sep=\";\",names=colnames, header=None)\n",
    "    counters_data_2 = pd.read_csv(f\"{INPUT_DATA_PATH}/{YEAR}_2_ciclovias.csv\", sep=\";\",names=colnames, header=None)\n",
    "    counters_data = pd.concat([counters_data_1, counters_data_2])\n",
    "elif YEAR == 2023:\n",
    "    counters_data = pd.read_csv(f\"{INPUT_DATA_PATH}/{YEAR}_ciclovias.csv\", sep=\";\")\n",
    "else: \n",
    "    counters_data = pd.read_csv(f\"{INPUT_DATA_PATH}/{YEAR}_ciclovias.csv\", sep=\";\",names=colnames, header=None)\n",
    "    "
   ]
  },
  {
   "cell_type": "markdown",
   "id": "f5dbffce",
   "metadata": {
    "id": "ryt3odo6h1W5",
    "papermill": {
     "duration": 0.006186,
     "end_time": "2025-03-14T14:55:05.831394",
     "exception": false,
     "start_time": "2025-03-14T14:55:05.825208",
     "status": "completed"
    },
    "tags": []
   },
   "source": [
    "# Data management"
   ]
  },
  {
   "cell_type": "code",
   "execution_count": 5,
   "id": "e71867f3",
   "metadata": {
    "colab": {
     "base_uri": "https://localhost:8080/",
     "height": 429
    },
    "execution": {
     "iopub.execute_input": "2025-03-14T14:55:05.844834Z",
     "iopub.status.busy": "2025-03-14T14:55:05.844834Z",
     "iopub.status.idle": "2025-03-14T14:55:05.860456Z",
     "shell.execute_reply": "2025-03-14T14:55:05.860456Z"
    },
    "id": "F2PgA3ZMryBa",
    "outputId": "2ce67901-0e0d-4949-f411-7732f07e3c38",
    "papermill": {
     "duration": 0.02424,
     "end_time": "2025-03-14T14:55:05.861690",
     "exception": false,
     "start_time": "2025-03-14T14:55:05.837450",
     "status": "completed"
    },
    "tags": []
   },
   "outputs": [
    {
     "name": "stdout",
     "output_type": "stream",
     "text": [
      "(31264512, 6)\n",
      "Index(['id', 'date', 'weekday', 'hour', 'intensity', 'error'], dtype='object')\n",
      "id             int64\n",
      "date          object\n",
      "weekday       object\n",
      "hour          object\n",
      "intensity    float64\n",
      "error        float64\n",
      "dtype: object\n"
     ]
    },
    {
     "data": {
      "text/html": [
       "<div>\n",
       "<style scoped>\n",
       "    .dataframe tbody tr th:only-of-type {\n",
       "        vertical-align: middle;\n",
       "    }\n",
       "\n",
       "    .dataframe tbody tr th {\n",
       "        vertical-align: top;\n",
       "    }\n",
       "\n",
       "    .dataframe thead th {\n",
       "        text-align: right;\n",
       "    }\n",
       "</style>\n",
       "<table border=\"1\" class=\"dataframe\">\n",
       "  <thead>\n",
       "    <tr style=\"text-align: right;\">\n",
       "      <th></th>\n",
       "      <th>id</th>\n",
       "      <th>date</th>\n",
       "      <th>weekday</th>\n",
       "      <th>hour</th>\n",
       "      <th>intensity</th>\n",
       "      <th>error</th>\n",
       "    </tr>\n",
       "  </thead>\n",
       "  <tbody>\n",
       "    <tr>\n",
       "      <th>0</th>\n",
       "      <td>1001</td>\n",
       "      <td>2024-06-01</td>\n",
       "      <td>Sabado</td>\n",
       "      <td>00:00:00.0000000</td>\n",
       "      <td>369.0</td>\n",
       "      <td>0.0</td>\n",
       "    </tr>\n",
       "    <tr>\n",
       "      <th>1</th>\n",
       "      <td>1001</td>\n",
       "      <td>2024-06-01</td>\n",
       "      <td>Sabado</td>\n",
       "      <td>00:15:00.0000000</td>\n",
       "      <td>415.0</td>\n",
       "      <td>0.0</td>\n",
       "    </tr>\n",
       "    <tr>\n",
       "      <th>2</th>\n",
       "      <td>1001</td>\n",
       "      <td>2024-06-01</td>\n",
       "      <td>Sabado</td>\n",
       "      <td>00:30:00.0000000</td>\n",
       "      <td>330.0</td>\n",
       "      <td>0.0</td>\n",
       "    </tr>\n",
       "    <tr>\n",
       "      <th>3</th>\n",
       "      <td>1001</td>\n",
       "      <td>2024-06-01</td>\n",
       "      <td>Sabado</td>\n",
       "      <td>00:45:00.0000000</td>\n",
       "      <td>387.0</td>\n",
       "      <td>0.0</td>\n",
       "    </tr>\n",
       "    <tr>\n",
       "      <th>4</th>\n",
       "      <td>1001</td>\n",
       "      <td>2024-06-01</td>\n",
       "      <td>Sabado</td>\n",
       "      <td>01:00:00.0000000</td>\n",
       "      <td>335.0</td>\n",
       "      <td>0.0</td>\n",
       "    </tr>\n",
       "  </tbody>\n",
       "</table>\n",
       "</div>"
      ],
      "text/plain": [
       "     id        date weekday              hour  intensity  error\n",
       "0  1001  2024-06-01  Sabado  00:00:00.0000000      369.0    0.0\n",
       "1  1001  2024-06-01  Sabado  00:15:00.0000000      415.0    0.0\n",
       "2  1001  2024-06-01  Sabado  00:30:00.0000000      330.0    0.0\n",
       "3  1001  2024-06-01  Sabado  00:45:00.0000000      387.0    0.0\n",
       "4  1001  2024-06-01  Sabado  01:00:00.0000000      335.0    0.0"
      ]
     },
     "execution_count": 5,
     "metadata": {},
     "output_type": "execute_result"
    }
   ],
   "source": [
    "print(counters_data.shape)\n",
    "print(counters_data.columns)\n",
    "print(counters_data.dtypes)\n",
    "counters_data.head()"
   ]
  },
  {
   "cell_type": "markdown",
   "id": "5c41e7e3",
   "metadata": {
    "papermill": {
     "duration": 0.006001,
     "end_time": "2025-03-14T14:55:05.873743",
     "exception": false,
     "start_time": "2025-03-14T14:55:05.867742",
     "status": "completed"
    },
    "tags": []
   },
   "source": [
    "## Duplicates"
   ]
  },
  {
   "cell_type": "code",
   "execution_count": 6,
   "id": "91ddea4a",
   "metadata": {
    "execution": {
     "iopub.execute_input": "2025-03-14T14:55:05.887819Z",
     "iopub.status.busy": "2025-03-14T14:55:05.887819Z",
     "iopub.status.idle": "2025-03-14T14:55:18.811761Z",
     "shell.execute_reply": "2025-03-14T14:55:18.811761Z"
    },
    "papermill": {
     "duration": 12.933193,
     "end_time": "2025-03-14T14:55:18.813770",
     "exception": false,
     "start_time": "2025-03-14T14:55:05.880577",
     "status": "completed"
    },
    "tags": []
   },
   "outputs": [
    {
     "data": {
      "text/plain": [
       "(28911552, 6)"
      ]
     },
     "execution_count": 6,
     "metadata": {},
     "output_type": "execute_result"
    }
   ],
   "source": [
    "counters_data = counters_data.drop_duplicates()\n",
    "len(counters_data[\"id\"].unique())\n",
    "counters_data.shape"
   ]
  },
  {
   "cell_type": "markdown",
   "id": "d98d3aa7",
   "metadata": {
    "papermill": {
     "duration": 0.007184,
     "end_time": "2025-03-14T14:55:18.827465",
     "exception": false,
     "start_time": "2025-03-14T14:55:18.820281",
     "status": "completed"
    },
    "tags": []
   },
   "source": [
    "## Errors"
   ]
  },
  {
   "cell_type": "markdown",
   "id": "e0f5480e",
   "metadata": {
    "papermill": {
     "duration": 0.006584,
     "end_time": "2025-03-14T14:55:18.840176",
     "exception": false,
     "start_time": "2025-03-14T14:55:18.833592",
     "status": "completed"
    },
    "tags": []
   },
   "source": [
    "### Classify"
   ]
  },
  {
   "cell_type": "code",
   "execution_count": 7,
   "id": "b0b2226f",
   "metadata": {
    "execution": {
     "iopub.execute_input": "2025-03-14T14:55:18.854614Z",
     "iopub.status.busy": "2025-03-14T14:55:18.854614Z",
     "iopub.status.idle": "2025-03-14T14:55:25.159954Z",
     "shell.execute_reply": "2025-03-14T14:55:25.159449Z"
    },
    "papermill": {
     "duration": 6.3158,
     "end_time": "2025-03-14T14:55:25.162038",
     "exception": false,
     "start_time": "2025-03-14T14:55:18.846238",
     "status": "completed"
    },
    "tags": []
   },
   "outputs": [],
   "source": [
    "conditions = [\n",
    "    (counters_data[\"error\"] == 0.0),\n",
    "    (counters_data[\"error\"] == 100.0),\n",
    "    (counters_data[\"error\"].isna()),\n",
    "\n",
    "    (counters_data[\"error\"] != 0.0) & (counters_data[\"error\"] != 100.0)\n",
    "]\n",
    "\n",
    "choices = [\"VALID\", \"INVALID\", \"UNKNOWN\", \"PARTIAL\"]\n",
    "\n",
    "counters_data[\"ERROR\"] = np.select(conditions, choices, default=\"VALID\")\n",
    "\n",
    "observations_per_day = counters_data.groupby(['date', 'ERROR'])['intensity'].count().reset_index(name='observations')"
   ]
  },
  {
   "cell_type": "code",
   "execution_count": null,
   "id": "5bb4a55c",
   "metadata": {
    "papermill": {
     "duration": 0.007007,
     "end_time": "2025-03-14T14:55:25.176060",
     "exception": false,
     "start_time": "2025-03-14T14:55:25.169053",
     "status": "completed"
    },
    "tags": []
   },
   "outputs": [],
   "source": []
  },
  {
   "cell_type": "markdown",
   "id": "972fdbde",
   "metadata": {
    "papermill": {
     "duration": 0.006,
     "end_time": "2025-03-14T14:55:25.189533",
     "exception": false,
     "start_time": "2025-03-14T14:55:25.183533",
     "status": "completed"
    },
    "tags": []
   },
   "source": [
    "### Calculate metrics"
   ]
  },
  {
   "cell_type": "code",
   "execution_count": null,
   "id": "8de6bc82",
   "metadata": {
    "papermill": {
     "duration": 0.006001,
     "end_time": "2025-03-14T14:55:25.201529",
     "exception": false,
     "start_time": "2025-03-14T14:55:25.195528",
     "status": "completed"
    },
    "tags": []
   },
   "outputs": [],
   "source": []
  },
  {
   "cell_type": "code",
   "execution_count": 8,
   "id": "e8fd71b3",
   "metadata": {
    "execution": {
     "iopub.execute_input": "2025-03-14T14:55:25.213693Z",
     "iopub.status.busy": "2025-03-14T14:55:25.213693Z",
     "iopub.status.idle": "2025-03-14T14:55:25.217244Z",
     "shell.execute_reply": "2025-03-14T14:55:25.217244Z"
    },
    "papermill": {
     "duration": 0.011623,
     "end_time": "2025-03-14T14:55:25.219261",
     "exception": false,
     "start_time": "2025-03-14T14:55:25.207638",
     "status": "completed"
    },
    "tags": []
   },
   "outputs": [],
   "source": [
    "# print(counters_data[\"error\"].value_counts(dropna=False))\n",
    "# errors=counters_data[(counters_data[\"error\"]!=0.0)&(counters_data[\"intensity\"].notna())].shape[0]/counters_data.shape[0]\n",
    "\n",
    "# print(f\"Percentage of observations where the couter was malfunctioning: {round(errors,3)}%\")"
   ]
  },
  {
   "cell_type": "code",
   "execution_count": 9,
   "id": "8d76e4d4",
   "metadata": {
    "execution": {
     "iopub.execute_input": "2025-03-14T14:55:25.232124Z",
     "iopub.status.busy": "2025-03-14T14:55:25.232124Z",
     "iopub.status.idle": "2025-03-14T14:55:25.235208Z",
     "shell.execute_reply": "2025-03-14T14:55:25.235208Z"
    },
    "papermill": {
     "duration": 0.012122,
     "end_time": "2025-03-14T14:55:25.237217",
     "exception": false,
     "start_time": "2025-03-14T14:55:25.225095",
     "status": "completed"
    },
    "tags": []
   },
   "outputs": [],
   "source": [
    "# counters_data_clean=counters_data[(counters_data[\"error\"]==0.0)|(counters_data[\"intensity\"].isna())].copy()\n",
    "# counters_data_clean=counters_data_clean.drop(columns=[\"error\"])\n",
    "counters_data_clean=counters_data\n"
   ]
  },
  {
   "cell_type": "markdown",
   "id": "bd92c149",
   "metadata": {
    "papermill": {
     "duration": 0.006016,
     "end_time": "2025-03-14T14:55:25.248475",
     "exception": false,
     "start_time": "2025-03-14T14:55:25.242459",
     "status": "completed"
    },
    "tags": []
   },
   "source": [
    "## Get weekday"
   ]
  },
  {
   "cell_type": "code",
   "execution_count": 10,
   "id": "2b91124c",
   "metadata": {
    "execution": {
     "iopub.execute_input": "2025-03-14T14:55:25.262759Z",
     "iopub.status.busy": "2025-03-14T14:55:25.262759Z",
     "iopub.status.idle": "2025-03-14T14:55:33.651532Z",
     "shell.execute_reply": "2025-03-14T14:55:33.651532Z"
    },
    "papermill": {
     "duration": 8.398295,
     "end_time": "2025-03-14T14:55:33.653633",
     "exception": false,
     "start_time": "2025-03-14T14:55:25.255338",
     "status": "completed"
    },
    "tags": []
   },
   "outputs": [
    {
     "data": {
      "text/plain": [
       "weekday\n",
       "Tuesday      4186560\n",
       "Monday       4180800\n",
       "Saturday     4112448\n",
       "Friday       4111968\n",
       "Thursday     4108800\n",
       "Wednesday    4107168\n",
       "Sunday       4103808\n",
       "Name: count, dtype: int64"
      ]
     },
     "execution_count": 10,
     "metadata": {},
     "output_type": "execute_result"
    }
   ],
   "source": [
    "counters_data_clean['date'] = pd.to_datetime(counters_data_clean['date'])\n",
    "counters_data_clean[\"weekday\"]=counters_data_clean[\"date\"].dt.day_name()\n",
    "counters_data_clean[\"weekday\"].value_counts()"
   ]
  },
  {
   "cell_type": "markdown",
   "id": "69586912",
   "metadata": {
    "papermill": {
     "duration": 0.010328,
     "end_time": "2025-03-14T14:55:33.669993",
     "exception": false,
     "start_time": "2025-03-14T14:55:33.659665",
     "status": "completed"
    },
    "tags": []
   },
   "source": [
    "## Estimate DBT, MBT, AADBT\n"
   ]
  },
  {
   "cell_type": "markdown",
   "id": "8fd58d6e",
   "metadata": {
    "papermill": {
     "duration": 0.006003,
     "end_time": "2025-03-14T14:55:33.682314",
     "exception": false,
     "start_time": "2025-03-14T14:55:33.676311",
     "status": "completed"
    },
    "tags": []
   },
   "source": [
    "### DBT\n"
   ]
  },
  {
   "cell_type": "code",
   "execution_count": 11,
   "id": "0ff523b3",
   "metadata": {
    "execution": {
     "iopub.execute_input": "2025-03-14T14:55:33.695999Z",
     "iopub.status.busy": "2025-03-14T14:55:33.695999Z",
     "iopub.status.idle": "2025-03-14T14:55:33.702327Z",
     "shell.execute_reply": "2025-03-14T14:55:33.702327Z"
    },
    "papermill": {
     "duration": 0.014761,
     "end_time": "2025-03-14T14:55:33.703336",
     "exception": false,
     "start_time": "2025-03-14T14:55:33.688575",
     "status": "completed"
    },
    "tags": []
   },
   "outputs": [],
   "source": [
    "def flag_insuficient_daily_data(df):\n",
    "    df['duration']=0.25\n",
    "    df_day = df.groupby(['id', 'date'])['duration'].sum().reset_index()\n",
    "    df_day=df_day.rename(columns={'duration':'Number_of_hrs_data_collected'})\n",
    "    print(df_day['Number_of_hrs_data_collected'].describe())\n",
    "\n",
    "    df=pd.merge(df, df_day, on=['id', 'date'], how='inner')\n",
    "\n",
    "    flagged_rows = df.loc[(df['Number_of_hrs_data_collected'] <= 23)]\n",
    "    non_flagged_rows = df.loc[(df['Number_of_hrs_data_collected'] > 23)]\n",
    "    print('Number of flagged rows:', flagged_rows.shape[0], 'Number of non-flagged rows:', non_flagged_rows.shape[0], 'Total rows:', df.shape[0], 'The sum of flagged and non-flagged rows is equal to the total rows:', flagged_rows.shape[0] + non_flagged_rows.shape[0] == df.shape[0])\n",
    "    return non_flagged_rows,flagged_rows \n"
   ]
  },
  {
   "cell_type": "code",
   "execution_count": 12,
   "id": "77efbae4",
   "metadata": {
    "execution": {
     "iopub.execute_input": "2025-03-14T14:55:33.717343Z",
     "iopub.status.busy": "2025-03-14T14:55:33.716341Z",
     "iopub.status.idle": "2025-03-14T14:55:45.799808Z",
     "shell.execute_reply": "2025-03-14T14:55:45.799808Z"
    },
    "papermill": {
     "duration": 12.090925,
     "end_time": "2025-03-14T14:55:45.801259",
     "exception": false,
     "start_time": "2025-03-14T14:55:33.710334",
     "status": "completed"
    },
    "tags": []
   },
   "outputs": [
    {
     "name": "stdout",
     "output_type": "stream",
     "text": [
      "count    301162.0\n",
      "mean         24.0\n",
      "std           0.0\n",
      "min          24.0\n",
      "25%          24.0\n",
      "50%          24.0\n",
      "75%          24.0\n",
      "max          24.0\n",
      "Name: Number_of_hrs_data_collected, dtype: float64\n"
     ]
    },
    {
     "name": "stdout",
     "output_type": "stream",
     "text": [
      "Number of flagged rows: 0 Number of non-flagged rows: 28911552 Total rows: 28911552 The sum of flagged and non-flagged rows is equal to the total rows: True\n"
     ]
    }
   ],
   "source": [
    "non_flagged_rows,flagged_quarters = flag_insuficient_daily_data(counters_data_clean.copy())\n"
   ]
  },
  {
   "cell_type": "code",
   "execution_count": 13,
   "id": "db53bd71",
   "metadata": {
    "execution": {
     "iopub.execute_input": "2025-03-14T14:55:45.817480Z",
     "iopub.status.busy": "2025-03-14T14:55:45.816481Z",
     "iopub.status.idle": "2025-03-14T14:55:48.705644Z",
     "shell.execute_reply": "2025-03-14T14:55:48.705644Z"
    },
    "papermill": {
     "duration": 2.899197,
     "end_time": "2025-03-14T14:55:48.707657",
     "exception": false,
     "start_time": "2025-03-14T14:55:45.808460",
     "status": "completed"
    },
    "tags": []
   },
   "outputs": [
    {
     "data": {
      "text/html": [
       "<div>\n",
       "<style scoped>\n",
       "    .dataframe tbody tr th:only-of-type {\n",
       "        vertical-align: middle;\n",
       "    }\n",
       "\n",
       "    .dataframe tbody tr th {\n",
       "        vertical-align: top;\n",
       "    }\n",
       "\n",
       "    .dataframe thead th {\n",
       "        text-align: right;\n",
       "    }\n",
       "</style>\n",
       "<table border=\"1\" class=\"dataframe\">\n",
       "  <thead>\n",
       "    <tr style=\"text-align: right;\">\n",
       "      <th></th>\n",
       "      <th>id</th>\n",
       "      <th>date</th>\n",
       "      <th>weekday</th>\n",
       "      <th>DBT</th>\n",
       "    </tr>\n",
       "  </thead>\n",
       "  <tbody>\n",
       "    <tr>\n",
       "      <th>0</th>\n",
       "      <td>1001</td>\n",
       "      <td>2024-01-01</td>\n",
       "      <td>Monday</td>\n",
       "      <td>74746.0</td>\n",
       "    </tr>\n",
       "    <tr>\n",
       "      <th>1</th>\n",
       "      <td>1001</td>\n",
       "      <td>2024-01-02</td>\n",
       "      <td>Tuesday</td>\n",
       "      <td>116203.0</td>\n",
       "    </tr>\n",
       "    <tr>\n",
       "      <th>2</th>\n",
       "      <td>1001</td>\n",
       "      <td>2024-01-03</td>\n",
       "      <td>Wednesday</td>\n",
       "      <td>123482.0</td>\n",
       "    </tr>\n",
       "    <tr>\n",
       "      <th>3</th>\n",
       "      <td>1001</td>\n",
       "      <td>2024-01-04</td>\n",
       "      <td>Thursday</td>\n",
       "      <td>126269.0</td>\n",
       "    </tr>\n",
       "    <tr>\n",
       "      <th>4</th>\n",
       "      <td>1001</td>\n",
       "      <td>2024-01-05</td>\n",
       "      <td>Friday</td>\n",
       "      <td>113815.0</td>\n",
       "    </tr>\n",
       "  </tbody>\n",
       "</table>\n",
       "</div>"
      ],
      "text/plain": [
       "     id       date    weekday       DBT\n",
       "0  1001 2024-01-01     Monday   74746.0\n",
       "1  1001 2024-01-02    Tuesday  116203.0\n",
       "2  1001 2024-01-03  Wednesday  123482.0\n",
       "3  1001 2024-01-04   Thursday  126269.0\n",
       "4  1001 2024-01-05     Friday  113815.0"
      ]
     },
     "execution_count": 13,
     "metadata": {},
     "output_type": "execute_result"
    }
   ],
   "source": [
    "DBT = non_flagged_rows.groupby(['id', 'date','weekday'])['intensity'].sum().reset_index()\n",
    "DBT=DBT.rename(columns={'intensity':'DBT'})\n",
    "DBT.head()"
   ]
  },
  {
   "cell_type": "markdown",
   "id": "2812c534",
   "metadata": {
    "papermill": {
     "duration": 0.006,
     "end_time": "2025-03-14T14:55:48.720649",
     "exception": false,
     "start_time": "2025-03-14T14:55:48.714649",
     "status": "completed"
    },
    "tags": []
   },
   "source": [
    "### MBT"
   ]
  },
  {
   "cell_type": "code",
   "execution_count": 14,
   "id": "575abfe6",
   "metadata": {
    "execution": {
     "iopub.execute_input": "2025-03-14T14:55:48.734138Z",
     "iopub.status.busy": "2025-03-14T14:55:48.734138Z",
     "iopub.status.idle": "2025-03-14T14:55:48.739168Z",
     "shell.execute_reply": "2025-03-14T14:55:48.738663Z"
    },
    "papermill": {
     "duration": 0.014519,
     "end_time": "2025-03-14T14:55:48.741173",
     "exception": false,
     "start_time": "2025-03-14T14:55:48.726654",
     "status": "completed"
    },
    "tags": []
   },
   "outputs": [],
   "source": [
    "# def flag_insuficient_monthly_data(df):\n",
    "#     df['duration']=1\n",
    "\n",
    "#     df['day']=df['date'].dt.day\n",
    "#     df['month']=df['date'].dt.month\n",
    "#     df_day = df.groupby(['id', 'month', 'day'])['duration'].sum().reset_index()\n",
    "#     df_month = df_day.groupby(['id', 'month'])['day'].count().reset_index()\n",
    "#     df_month=df_month.rename(columns={'day':'Number_of_days_data_collected'})\n",
    "\n",
    "\n",
    "#     df=pd.merge(df, df_month, on=['id', 'month'], how='inner')\n",
    "\n",
    "#     flagged_rows = df.loc[(df['Number_of_days_data_collected'] <= 25)]\n",
    "#     non_flagged_rows = df.loc[(df['Number_of_days_data_collected'] > 25)]\n",
    "#     print('Number of flagged rows:', flagged_rows.shape[0], 'Number of non-flagged rows:', non_flagged_rows.shape[0], 'Total rows:', df.shape[0], 'The sum of flagged and non-flagged rows is equal to the total rows:', flagged_rows.shape[0] + non_flagged_rows.shape[0] == df.shape[0])\n",
    "#     return non_flagged_rows,flagged_rows \n"
   ]
  },
  {
   "cell_type": "code",
   "execution_count": 15,
   "id": "db1d0b04",
   "metadata": {
    "execution": {
     "iopub.execute_input": "2025-03-14T14:55:48.756076Z",
     "iopub.status.busy": "2025-03-14T14:55:48.756076Z",
     "iopub.status.idle": "2025-03-14T14:55:48.761397Z",
     "shell.execute_reply": "2025-03-14T14:55:48.761397Z"
    },
    "papermill": {
     "duration": 0.014451,
     "end_time": "2025-03-14T14:55:48.762635",
     "exception": false,
     "start_time": "2025-03-14T14:55:48.748184",
     "status": "completed"
    },
    "tags": []
   },
   "outputs": [],
   "source": [
    "# non_flagged_rows,flagged_days=flag_insuficient_monthly_data(DBT)\n"
   ]
  },
  {
   "cell_type": "code",
   "execution_count": 16,
   "id": "614f84ca",
   "metadata": {
    "execution": {
     "iopub.execute_input": "2025-03-14T14:55:48.777096Z",
     "iopub.status.busy": "2025-03-14T14:55:48.777096Z",
     "iopub.status.idle": "2025-03-14T14:55:48.780273Z",
     "shell.execute_reply": "2025-03-14T14:55:48.780273Z"
    },
    "papermill": {
     "duration": 0.012915,
     "end_time": "2025-03-14T14:55:48.781682",
     "exception": false,
     "start_time": "2025-03-14T14:55:48.768767",
     "status": "completed"
    },
    "tags": []
   },
   "outputs": [],
   "source": [
    "# MBT = non_flagged_rows.groupby(['id','month'])['DBT'].sum().reset_index()\n",
    "# MBT=MBT.rename(columns={'DBT':'MBT'})\n",
    "# print(MBT.shape)\n",
    "# MBT.head()\n"
   ]
  },
  {
   "cell_type": "markdown",
   "id": "b763f8d9",
   "metadata": {
    "papermill": {
     "duration": 0.006003,
     "end_time": "2025-03-14T14:55:48.794694",
     "exception": false,
     "start_time": "2025-03-14T14:55:48.788691",
     "status": "completed"
    },
    "tags": []
   },
   "source": [
    "### ABT"
   ]
  },
  {
   "cell_type": "code",
   "execution_count": 17,
   "id": "18e207d7",
   "metadata": {
    "execution": {
     "iopub.execute_input": "2025-03-14T14:55:48.809281Z",
     "iopub.status.busy": "2025-03-14T14:55:48.809281Z",
     "iopub.status.idle": "2025-03-14T14:55:48.812542Z",
     "shell.execute_reply": "2025-03-14T14:55:48.812542Z"
    },
    "papermill": {
     "duration": 0.012575,
     "end_time": "2025-03-14T14:55:48.813765",
     "exception": false,
     "start_time": "2025-03-14T14:55:48.801190",
     "status": "completed"
    },
    "tags": []
   },
   "outputs": [],
   "source": [
    "# def flag_insuficient_annual_data(df):\n",
    "#     df['duration']=1\n",
    "\n",
    "#     df_year = df.groupby(['id'])['duration'].sum().reset_index()\n",
    "#     df_year=df_year.rename(columns={'duration':'Number_of_days_data_collected'})\n",
    "\n",
    "\n",
    "#     df=pd.merge(df, df_year, on=['id'], how='inner')\n",
    "\n",
    "#     flagged_rows = df.loc[(df['Number_of_days_data_collected'] <= 11)]\n",
    "#     non_flagged_rows = df.loc[(df['Number_of_days_data_collected'] > 11)]\n",
    "#     print('Number of flagged rows:', flagged_rows.shape[0], 'Number of non-flagged rows:', non_flagged_rows.shape[0], 'Total rows:', df.shape[0], 'The sum of flagged and non-flagged rows is equal to the total rows:', flagged_rows.shape[0] + non_flagged_rows.shape[0] == df.shape[0])\n",
    "#     return non_flagged_rows,flagged_rows \n"
   ]
  },
  {
   "cell_type": "code",
   "execution_count": 18,
   "id": "5eecd2c2",
   "metadata": {
    "execution": {
     "iopub.execute_input": "2025-03-14T14:55:48.829230Z",
     "iopub.status.busy": "2025-03-14T14:55:48.829230Z",
     "iopub.status.idle": "2025-03-14T14:55:48.832160Z",
     "shell.execute_reply": "2025-03-14T14:55:48.832160Z"
    },
    "papermill": {
     "duration": 0.014174,
     "end_time": "2025-03-14T14:55:48.834200",
     "exception": false,
     "start_time": "2025-03-14T14:55:48.820026",
     "status": "completed"
    },
    "tags": []
   },
   "outputs": [],
   "source": [
    "# non_flagged_rows,flagged_months=flag_insuficient_annual_data(MBT)\n"
   ]
  },
  {
   "cell_type": "code",
   "execution_count": 19,
   "id": "1313706c",
   "metadata": {
    "execution": {
     "iopub.execute_input": "2025-03-14T14:55:48.847713Z",
     "iopub.status.busy": "2025-03-14T14:55:48.847713Z",
     "iopub.status.idle": "2025-03-14T14:55:48.850658Z",
     "shell.execute_reply": "2025-03-14T14:55:48.850658Z"
    },
    "papermill": {
     "duration": 0.010952,
     "end_time": "2025-03-14T14:55:48.851665",
     "exception": false,
     "start_time": "2025-03-14T14:55:48.840713",
     "status": "completed"
    },
    "tags": []
   },
   "outputs": [],
   "source": [
    "# ABT = non_flagged_rows.groupby(['id'])['MBT'].sum().reset_index()\n",
    "# ABT=ABT.rename(columns={'MBT':'ABT'})\n",
    "# print(ABT.shape)\n",
    "# ABT.head()\n"
   ]
  },
  {
   "cell_type": "markdown",
   "id": "87a5278f",
   "metadata": {
    "papermill": {
     "duration": 0.007005,
     "end_time": "2025-03-14T14:55:48.865672",
     "exception": false,
     "start_time": "2025-03-14T14:55:48.858667",
     "status": "completed"
    },
    "tags": []
   },
   "source": [
    "### AADBT"
   ]
  },
  {
   "cell_type": "code",
   "execution_count": 20,
   "id": "1d4bba66",
   "metadata": {
    "execution": {
     "iopub.execute_input": "2025-03-14T14:55:48.881311Z",
     "iopub.status.busy": "2025-03-14T14:55:48.880312Z",
     "iopub.status.idle": "2025-03-14T14:55:48.897386Z",
     "shell.execute_reply": "2025-03-14T14:55:48.897386Z"
    },
    "papermill": {
     "duration": 0.026447,
     "end_time": "2025-03-14T14:55:48.898829",
     "exception": false,
     "start_time": "2025-03-14T14:55:48.872382",
     "status": "completed"
    },
    "tags": []
   },
   "outputs": [
    {
     "data": {
      "text/html": [
       "<div>\n",
       "<style scoped>\n",
       "    .dataframe tbody tr th:only-of-type {\n",
       "        vertical-align: middle;\n",
       "    }\n",
       "\n",
       "    .dataframe tbody tr th {\n",
       "        vertical-align: top;\n",
       "    }\n",
       "\n",
       "    .dataframe thead th {\n",
       "        text-align: right;\n",
       "    }\n",
       "</style>\n",
       "<table border=\"1\" class=\"dataframe\">\n",
       "  <thead>\n",
       "    <tr style=\"text-align: right;\">\n",
       "      <th></th>\n",
       "      <th>id</th>\n",
       "      <th>AADBT</th>\n",
       "    </tr>\n",
       "  </thead>\n",
       "  <tbody>\n",
       "    <tr>\n",
       "      <th>0</th>\n",
       "      <td>1001</td>\n",
       "      <td>112878.0</td>\n",
       "    </tr>\n",
       "    <tr>\n",
       "      <th>1</th>\n",
       "      <td>1002</td>\n",
       "      <td>26095.0</td>\n",
       "    </tr>\n",
       "    <tr>\n",
       "      <th>2</th>\n",
       "      <td>1003</td>\n",
       "      <td>35131.0</td>\n",
       "    </tr>\n",
       "    <tr>\n",
       "      <th>3</th>\n",
       "      <td>1004</td>\n",
       "      <td>837.0</td>\n",
       "    </tr>\n",
       "    <tr>\n",
       "      <th>4</th>\n",
       "      <td>1005</td>\n",
       "      <td>29314.0</td>\n",
       "    </tr>\n",
       "  </tbody>\n",
       "</table>\n",
       "</div>"
      ],
      "text/plain": [
       "     id     AADBT\n",
       "0  1001  112878.0\n",
       "1  1002   26095.0\n",
       "2  1003   35131.0\n",
       "3  1004     837.0\n",
       "4  1005   29314.0"
      ]
     },
     "execution_count": 20,
     "metadata": {},
     "output_type": "execute_result"
    }
   ],
   "source": [
    "AADBT=DBT.groupby(['id'])['DBT'].mean().round().reset_index()\n",
    "AADBT=AADBT.rename(columns={'DBT':'AADBT'})\n",
    "AADBT.head()"
   ]
  },
  {
   "cell_type": "markdown",
   "id": "5d4e1f2e",
   "metadata": {
    "id": "a_ZrQ64i7plQ",
    "papermill": {
     "duration": 0.007089,
     "end_time": "2025-03-14T14:55:48.912087",
     "exception": false,
     "start_time": "2025-03-14T14:55:48.904998",
     "status": "completed"
    },
    "tags": []
   },
   "source": [
    "## Save output"
   ]
  },
  {
   "cell_type": "code",
   "execution_count": 21,
   "id": "8843cb0a",
   "metadata": {
    "execution": {
     "iopub.execute_input": "2025-03-14T14:55:48.926163Z",
     "iopub.status.busy": "2025-03-14T14:55:48.926163Z",
     "iopub.status.idle": "2025-03-14T14:56:00.232335Z",
     "shell.execute_reply": "2025-03-14T14:56:00.232335Z"
    },
    "id": "6bj2-CeR7owh",
    "papermill": {
     "duration": 11.316212,
     "end_time": "2025-03-14T14:56:00.234367",
     "exception": false,
     "start_time": "2025-03-14T14:55:48.918155",
     "status": "completed"
    },
    "tags": []
   },
   "outputs": [],
   "source": [
    "if SAVE_OUTPUT:\n",
    "    counters_data_clean.to_parquet(f'{OUTPUT_DATA_PATH}/counters_data{YEAR}.parquet')\n",
    "    # DBT.to_parquet(f'{OUTPUT_DATA_PATH}/DBT{YEAR}.parquet')\n",
    "    # MBT.to_parquet(f'{OUTPUT_DATA_PATH}/MBT{YEAR}.parquet')\n",
    "    # ABT.to_parquet(f'{OUTPUT_DATA_PATH}/ABT{YEAR}.parquet')\n",
    "    AADBT.to_parquet(f'{OUTPUT_DATA_PATH}/AADBT{YEAR}.parquet')\n",
    "    "
   ]
  },
  {
   "cell_type": "code",
   "execution_count": 22,
   "id": "4c840e8b",
   "metadata": {
    "execution": {
     "iopub.execute_input": "2025-03-14T14:56:00.250218Z",
     "iopub.status.busy": "2025-03-14T14:56:00.250218Z",
     "iopub.status.idle": "2025-03-14T14:56:00.444800Z",
     "shell.execute_reply": "2025-03-14T14:56:00.443790Z"
    },
    "papermill": {
     "duration": 0.205322,
     "end_time": "2025-03-14T14:56:00.446798",
     "exception": false,
     "start_time": "2025-03-14T14:56:00.241476",
     "status": "completed"
    },
    "tags": []
   },
   "outputs": [],
   "source": [
    "if LOG:\n",
    "    # Define the new row data\n",
    "    new_row = {\n",
    "        'Year': YEAR,\n",
    "        'Columns': counters_data.shape[1],\n",
    "        'Rows': counters_data.shape[0],\n",
    "        'Rows after cleaning': counters_data_clean.shape[0],\n",
    "        'Deleted rows':  counters_data.shape[0]-counters_data_clean.shape[0],\n",
    "        # 'Percentage': errors,\n",
    "        'Bike Counters': counters_data_clean['id'].nunique(),\n",
    "        'Flagged hours': flagged_quarters.shape[0]/4,\n",
    "        # 'Flagged days': flagged_days.shape[0],\n",
    "        # 'Flagged months': flagged_months.shape[0],\n",
    "    }\n",
    "\n",
    "    # Convert the new row data to a DataFrame\n",
    "    new_row_df = pd.DataFrame([new_row])\n",
    "\n",
    "    # Define the path to the CSV file\n",
    "    csv_file_path = f\"{INPUT_PROCESSED_DATA_PATH}/log_observations.csv\"\n",
    "\n",
    "    # Check if the CSV file exists\n",
    "    if Path(csv_file_path).is_file():\n",
    "        # If the file exists, append the new row\n",
    "        new_row_df.to_csv(csv_file_path, mode='a', header=False, index=False)\n",
    "    else:\n",
    "        # If the file does not exist, create it with the new row\n",
    "        new_row_df.to_csv(csv_file_path, mode='w', header=True, index=False)"
   ]
  },
  {
   "cell_type": "code",
   "execution_count": 23,
   "id": "df2a3a2d",
   "metadata": {
    "execution": {
     "iopub.execute_input": "2025-03-14T14:56:00.461796Z",
     "iopub.status.busy": "2025-03-14T14:56:00.461796Z",
     "iopub.status.idle": "2025-03-14T14:56:02.222361Z",
     "shell.execute_reply": "2025-03-14T14:56:02.222361Z"
    },
    "papermill": {
     "duration": 1.770573,
     "end_time": "2025-03-14T14:56:02.224372",
     "exception": false,
     "start_time": "2025-03-14T14:56:00.453799",
     "status": "completed"
    },
    "tags": []
   },
   "outputs": [],
   "source": [
    "if LOG:\n",
    "        \n",
    "    # Calculate the error counts\n",
    "    error_counts = counters_data[\"ERROR\"].value_counts().to_dict()\n",
    "    total_errors = sum(error_counts.values())\n",
    "\n",
    "    # Create a new row with the error counts\n",
    "    new_error_row = {\n",
    "        'Year': YEAR,\n",
    "        'Valid': error_counts.get('VALID', 0),\n",
    "        'Invalid': error_counts.get('INVALID', 0),\n",
    "        'Unknown': error_counts.get('UNKNOWN', 0),\n",
    "        'Partial': error_counts.get('PARTIAL', 0),\n",
    "        'Total': total_errors,\n",
    "        'Timestamp': datetime.now().strftime('%Y-%m-%d %H:%M:%S')\n",
    "    }\n",
    "\n",
    "    # Convert the new row data to a DataFrame\n",
    "    new_error_row_df = pd.DataFrame([new_error_row])\n",
    "\n",
    "    # Check if the CSV file exists\n",
    "    if Path(f\"{OUTPUT_REPORTS_PATH}errors.csv\").is_file():\n",
    "        # Load the existing data\n",
    "        existing_data = pd.read_csv(f\"{OUTPUT_REPORTS_PATH}errors.csv\")\n",
    "        \n",
    "        # Check if a row with the same year exists\n",
    "        if YEAR in existing_data['Year'].values:\n",
    "            # Replace the data for the existing year\n",
    "            existing_data.loc[existing_data['Year'] == YEAR] = new_error_row\n",
    "        else:\n",
    "            # Append the new row\n",
    "            existing_data = pd.concat([existing_data, new_error_row_df], ignore_index=True)\n",
    "        \n",
    "        # Save the updated data\n",
    "        existing_data.to_csv(f\"{OUTPUT_REPORTS_PATH}errors.csv\", mode='w', header=True, index=False)\n",
    "    else:\n",
    "        # If the file does not exist, create it with the new row\n",
    "        new_error_row_df.to_csv(f\"{OUTPUT_REPORTS_PATH}errors.csv\", mode='w', header=True, index=False)"
   ]
  },
  {
   "cell_type": "markdown",
   "id": "df5cda91",
   "metadata": {
    "id": "xT_uQYZSbEty",
    "papermill": {
     "duration": 0.006999,
     "end_time": "2025-03-14T14:56:02.237384",
     "exception": false,
     "start_time": "2025-03-14T14:56:02.230385",
     "status": "completed"
    },
    "tags": []
   },
   "source": [
    "## Watermark"
   ]
  },
  {
   "cell_type": "code",
   "execution_count": 24,
   "id": "cb9cdd91",
   "metadata": {
    "execution": {
     "iopub.execute_input": "2025-03-14T14:56:02.254021Z",
     "iopub.status.busy": "2025-03-14T14:56:02.254021Z",
     "iopub.status.idle": "2025-03-14T14:56:06.197497Z",
     "shell.execute_reply": "2025-03-14T14:56:06.197497Z"
    },
    "id": "iY8ZyfnAbFoO",
    "papermill": {
     "duration": 3.953484,
     "end_time": "2025-03-14T14:56:06.198504",
     "exception": false,
     "start_time": "2025-03-14T14:56:02.245020",
     "status": "completed"
    },
    "tags": []
   },
   "outputs": [],
   "source": [
    "!python -m pip install watermark --quiet"
   ]
  },
  {
   "cell_type": "code",
   "execution_count": 25,
   "id": "7a27f1f4",
   "metadata": {
    "execution": {
     "iopub.execute_input": "2025-03-14T14:56:06.214488Z",
     "iopub.status.busy": "2025-03-14T14:56:06.214488Z",
     "iopub.status.idle": "2025-03-14T14:56:06.274428Z",
     "shell.execute_reply": "2025-03-14T14:56:06.274428Z"
    },
    "id": "Cd2yG3BgbGE3",
    "papermill": {
     "duration": 0.069788,
     "end_time": "2025-03-14T14:56:06.276564",
     "exception": false,
     "start_time": "2025-03-14T14:56:06.206776",
     "status": "completed"
    },
    "tags": []
   },
   "outputs": [],
   "source": [
    "%load_ext watermark"
   ]
  },
  {
   "cell_type": "code",
   "execution_count": 26,
   "id": "0493f7d6",
   "metadata": {
    "colab": {
     "base_uri": "https://localhost:8080/"
    },
    "execution": {
     "iopub.execute_input": "2025-03-14T14:56:06.291748Z",
     "iopub.status.busy": "2025-03-14T14:56:06.291748Z",
     "iopub.status.idle": "2025-03-14T14:56:06.297147Z",
     "shell.execute_reply": "2025-03-14T14:56:06.297147Z"
    },
    "id": "Ef6VBO1QbI-_",
    "outputId": "9551ad1c-634d-4484-dc4a-f6a971884ccc",
    "papermill": {
     "duration": 0.01477,
     "end_time": "2025-03-14T14:56:06.298433",
     "exception": false,
     "start_time": "2025-03-14T14:56:06.283663",
     "status": "completed"
    },
    "tags": []
   },
   "outputs": [
    {
     "name": "stdout",
     "output_type": "stream",
     "text": [
      "Last updated: 2025-03-14T15:56:06.294981+01:00\n",
      "\n",
      "Python implementation: CPython\n",
      "Python version       : 3.11.9\n",
      "IPython version      : 8.25.0\n",
      "\n",
      "Compiler    : MSC v.1938 64 bit (AMD64)\n",
      "OS          : Windows\n",
      "Release     : 10\n",
      "Machine     : AMD64\n",
      "Processor   : AMD64 Family 25 Model 68 Stepping 1, AuthenticAMD\n",
      "CPU cores   : 16\n",
      "Architecture: 64bit\n",
      "\n"
     ]
    }
   ],
   "source": [
    "%watermark"
   ]
  },
  {
   "cell_type": "code",
   "execution_count": 27,
   "id": "ffd4d01d",
   "metadata": {
    "colab": {
     "base_uri": "https://localhost:8080/"
    },
    "execution": {
     "iopub.execute_input": "2025-03-14T14:56:06.312685Z",
     "iopub.status.busy": "2025-03-14T14:56:06.311679Z",
     "iopub.status.idle": "2025-03-14T14:56:06.323886Z",
     "shell.execute_reply": "2025-03-14T14:56:06.323886Z"
    },
    "id": "EW9nOXoNbKrP",
    "outputId": "b68ae236-6367-4c9a-b720-5978d2bbcbf4",
    "papermill": {
     "duration": 0.020731,
     "end_time": "2025-03-14T14:56:06.324892",
     "exception": false,
     "start_time": "2025-03-14T14:56:06.304161",
     "status": "completed"
    },
    "tags": []
   },
   "outputs": [
    {
     "name": "stdout",
     "output_type": "stream",
     "text": [
      "pandas   : 2.0.3\n",
      "numpy    : 1.24.4\n",
      "json     : 2.0.9\n",
      "geopandas: 0.13.2\n",
      "\n"
     ]
    }
   ],
   "source": [
    "%watermark --iversions"
   ]
  },
  {
   "cell_type": "code",
   "execution_count": 28,
   "id": "83775567",
   "metadata": {
    "colab": {
     "base_uri": "https://localhost:8080/"
    },
    "execution": {
     "iopub.execute_input": "2025-03-14T14:56:06.339750Z",
     "iopub.status.busy": "2025-03-14T14:56:06.339750Z",
     "iopub.status.idle": "2025-03-14T14:56:06.372085Z",
     "shell.execute_reply": "2025-03-14T14:56:06.372085Z"
    },
    "id": "2LOCLnX0bMxt",
    "outputId": "e68400d8-8277-4988-d42c-15e02490cce1",
    "papermill": {
     "duration": 0.042044,
     "end_time": "2025-03-14T14:56:06.373091",
     "exception": false,
     "start_time": "2025-03-14T14:56:06.331047",
     "status": "completed"
    },
    "tags": []
   },
   "outputs": [
    {
     "name": "stderr",
     "output_type": "stream",
     "text": [
      "\"lsb_release\" no se reconoce como un comando interno o externo,\n",
      "programa o archivo por lotes ejecutable.\n"
     ]
    }
   ],
   "source": [
    "!lsb_release -a"
   ]
  }
 ],
 "metadata": {
  "colab": {
   "provenance": [],
   "toc_visible": true
  },
  "kernelspec": {
   "display_name": "ridership_model",
   "language": "python",
   "name": "python3"
  },
  "language_info": {
   "codemirror_mode": {
    "name": "ipython",
    "version": 3
   },
   "file_extension": ".py",
   "mimetype": "text/x-python",
   "name": "python",
   "nbconvert_exporter": "python",
   "pygments_lexer": "ipython3",
   "version": "3.11.9"
  },
  "papermill": {
   "default_parameters": {},
   "duration": 78.65153,
   "end_time": "2025-03-14T14:56:09.122454",
   "environment_variables": {},
   "exception": null,
   "input_path": "011-luca_data-management_counters-data.ipynb",
   "output_path": "011-luca_data-management_counters-data.ipynb",
   "parameters": {
    "SAVE_OUTPUT": true,
    "YEAR": 2024
   },
   "start_time": "2025-03-14T14:54:50.470924",
   "version": "2.6.0"
  }
 },
 "nbformat": 4,
 "nbformat_minor": 5
}