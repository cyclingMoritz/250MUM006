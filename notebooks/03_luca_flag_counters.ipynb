{
 "cells": [
  {
   "cell_type": "markdown",
   "id": "16e3b740",
   "metadata": {
    "papermill": {
     "duration": 0.0,
     "end_time": "2024-11-02T13:53:32.887586",
     "exception": false,
     "start_time": "2024-11-02T13:53:32.887586",
     "status": "completed"
    },
    "tags": []
   },
   "source": [
    "## Config"
   ]
  },
  {
   "cell_type": "code",
   "execution_count": 1,
   "id": "ca264bf4",
   "metadata": {
    "execution": {
     "iopub.execute_input": "2024-11-02T13:53:32.934424Z",
     "iopub.status.busy": "2024-11-02T13:53:32.934424Z",
     "iopub.status.idle": "2024-11-02T13:53:32.941000Z",
     "shell.execute_reply": "2024-11-02T13:53:32.941000Z"
    },
    "papermill": {
     "duration": 0.037804,
     "end_time": "2024-11-02T13:53:32.941000",
     "exception": false,
     "start_time": "2024-11-02T13:53:32.903196",
     "status": "completed"
    },
    "tags": [
     "parameters"
    ]
   },
   "outputs": [],
   "source": [
    "# parameters\n",
    "# SHAREDRIVE_PATH = \"/content/drive/Shareddrives/Idealista/\"\n",
    "INPUT_DATA_PATH = \"../data/interim/\"\n",
    "INPUT_PROCESSED_DATA_PATH = \"../data/processed/\"\n",
    "\n",
    "YEAR = 2017\n",
    "SAVE_OUTPUT = True\n",
    "OUTPUT_DATA_PATH = \"../data/interim/\""
   ]
  },
  {
   "cell_type": "code",
   "execution_count": 2,
   "id": "3454adfb",
   "metadata": {
    "execution": {
     "iopub.execute_input": "2024-11-02T13:53:32.971256Z",
     "iopub.status.busy": "2024-11-02T13:53:32.971256Z",
     "iopub.status.idle": "2024-11-02T13:53:32.979498Z",
     "shell.execute_reply": "2024-11-02T13:53:32.979498Z"
    },
    "papermill": {
     "duration": 0.031498,
     "end_time": "2024-11-02T13:53:32.982030",
     "exception": false,
     "start_time": "2024-11-02T13:53:32.950532",
     "status": "completed"
    },
    "tags": [
     "injected-parameters"
    ]
   },
   "outputs": [],
   "source": [
    "# Parameters\n",
    "YEAR = 2023\n",
    "SAVE_OUTPUT = True\n"
   ]
  },
  {
   "cell_type": "code",
   "execution_count": 3,
   "id": "056bd8e0",
   "metadata": {
    "execution": {
     "iopub.execute_input": "2024-11-02T13:53:33.013293Z",
     "iopub.status.busy": "2024-11-02T13:53:33.013293Z",
     "iopub.status.idle": "2024-11-02T13:53:34.327118Z",
     "shell.execute_reply": "2024-11-02T13:53:34.327118Z"
    },
    "papermill": {
     "duration": 1.32944,
     "end_time": "2024-11-02T13:53:34.327118",
     "exception": false,
     "start_time": "2024-11-02T13:53:32.997678",
     "status": "completed"
    },
    "tags": []
   },
   "outputs": [],
   "source": [
    "# import necessary library\n",
    "import pandas as pd\n",
    "import geopandas as gpd\n",
    "import geoarrow.pandas as _\n",
    "from pathlib import Path\n",
    "import plotly.express as px\n",
    "from matplotlib import pyplot as plt\n",
    "\n",
    "from shapely.geometry import shape\n",
    "from shapely.ops import nearest_points\n",
    "\n"
   ]
  },
  {
   "cell_type": "code",
   "execution_count": 4,
   "id": "0b3d9c5c",
   "metadata": {
    "execution": {
     "iopub.execute_input": "2024-11-02T13:53:34.353311Z",
     "iopub.status.busy": "2024-11-02T13:53:34.353311Z",
     "iopub.status.idle": "2024-11-02T13:53:34.373545Z",
     "shell.execute_reply": "2024-11-02T13:53:34.373020Z"
    },
    "papermill": {
     "duration": 0.035879,
     "end_time": "2024-11-02T13:53:34.373545",
     "exception": false,
     "start_time": "2024-11-02T13:53:34.337666",
     "status": "completed"
    },
    "tags": []
   },
   "outputs": [],
   "source": [
    "#Useful functions\n",
    "# Define an empty DataFrame to store the summary\n",
    "summary_df = pd.DataFrame(columns=['DataFrame Name', 'Number of Stations', 'Number of Observations', 'Flagged observations'])\n",
    "\n",
    "def calculate_station_observation_summary(df,flagged, df_name):\n",
    "    global summary_df  # Access the global DataFrame\n",
    "    \n",
    "    # Calculate the number of stations\n",
    "    num_stations = df['Id_aforament'].nunique()\n",
    "    \n",
    "    # Calculate the number of observations\n",
    "    num_flagged = flagged.shape[0]\n",
    "    num_observations = df.shape[0]\n",
    "    \n",
    "    # Append the summary information to the DataFrame\n",
    "\n",
    "\n",
    "    # Inserting the new row\n",
    "    summary_df.loc[len(summary_df)] = {'DataFrame Name': df_name, 'Number of Stations': num_stations,'Number of Observations': num_observations, 'Flagged observations': num_flagged}\n",
    "    # Print the summary\n",
    "    print('DataFrame Name: ',df_name)\n",
    "    print('Number of stations: ',num_stations)\n",
    "    print('Number of observations: ',num_observations)\n",
    "    #if(num_flagged!=0 and num_observations!=0):\n",
    "    print('Percetage of flagged observations',round((num_flagged/num_observations)*100,4),'%')\n",
    "\n",
    "\n",
    "def interquantile_range(serie):\n",
    "    # Calculate quartiles\n",
    "    Q1 = serie.quantile(0.25)\n",
    "    Q3 = serie.quantile(0.75)\n",
    "\n",
    "    # Calculate IQR\n",
    "    IQR = Q3 - Q1\n",
    "\n",
    "    # Define thresholds for mild outliers\n",
    "    mild_lower_bound = Q1 - 1.5 * IQR\n",
    "    mild_upper_bound = Q3 + 1.5 * IQR\n",
    "\n",
    "    # Define thresholds for severe outliers\n",
    "    severe_lower_bound = Q1 - 3 * IQR\n",
    "    severe_upper_bound = Q3 + 3 * IQR\n",
    "    print('Mild lower bound:',mild_lower_bound,'Mild upper bound:',mild_upper_bound,'Severe lower bound:',severe_lower_bound,'Severe upper bound:',severe_upper_bound)\n",
    "    return mild_lower_bound, mild_upper_bound, severe_lower_bound, severe_upper_bound"
   ]
  },
  {
   "cell_type": "markdown",
   "id": "2c8c2f6e",
   "metadata": {
    "papermill": {
     "duration": 0.015659,
     "end_time": "2024-11-02T13:53:34.400735",
     "exception": false,
     "start_time": "2024-11-02T13:53:34.385076",
     "status": "completed"
    },
    "tags": []
   },
   "source": [
    "## Load data"
   ]
  },
  {
   "cell_type": "code",
   "execution_count": 5,
   "id": "0e637ff5",
   "metadata": {
    "execution": {
     "iopub.execute_input": "2024-11-02T13:53:34.436908Z",
     "iopub.status.busy": "2024-11-02T13:53:34.436375Z",
     "iopub.status.idle": "2024-11-02T13:53:37.106327Z",
     "shell.execute_reply": "2024-11-02T13:53:37.106327Z"
    },
    "papermill": {
     "duration": 2.692987,
     "end_time": "2024-11-02T13:53:37.109364",
     "exception": false,
     "start_time": "2024-11-02T13:53:34.416377",
     "status": "completed"
    },
    "tags": []
   },
   "outputs": [],
   "source": [
    "# load data\n",
    "observations = pd.read_parquet(Path(INPUT_DATA_PATH) /'observations_clean.parquet')"
   ]
  },
  {
   "cell_type": "markdown",
   "id": "db460de6",
   "metadata": {
    "papermill": {
     "duration": 0.015,
     "end_time": "2024-11-02T13:53:37.140760",
     "exception": false,
     "start_time": "2024-11-02T13:53:37.125760",
     "status": "completed"
    },
    "tags": []
   },
   "source": [
    "# Data management\n"
   ]
  },
  {
   "cell_type": "code",
   "execution_count": 6,
   "id": "21f83f6f",
   "metadata": {
    "execution": {
     "iopub.execute_input": "2024-11-02T13:53:37.177013Z",
     "iopub.status.busy": "2024-11-02T13:53:37.176483Z",
     "iopub.status.idle": "2024-11-02T13:53:38.563599Z",
     "shell.execute_reply": "2024-11-02T13:53:38.563599Z"
    },
    "papermill": {
     "duration": 1.404826,
     "end_time": "2024-11-02T13:53:38.563599",
     "exception": false,
     "start_time": "2024-11-02T13:53:37.158773",
     "status": "completed"
    },
    "tags": []
   },
   "outputs": [],
   "source": [
    "observations = observations[observations['date'].dt.year == YEAR]\n",
    "observations[\"year\"] = observations['date'].dt.year \n"
   ]
  },
  {
   "cell_type": "code",
   "execution_count": 7,
   "id": "3adf7864",
   "metadata": {
    "execution": {
     "iopub.execute_input": "2024-11-02T13:53:38.583782Z",
     "iopub.status.busy": "2024-11-02T13:53:38.583782Z",
     "iopub.status.idle": "2024-11-02T13:53:45.396899Z",
     "shell.execute_reply": "2024-11-02T13:53:45.396899Z"
    },
    "papermill": {
     "duration": 6.821738,
     "end_time": "2024-11-02T13:53:45.400485",
     "exception": false,
     "start_time": "2024-11-02T13:53:38.578747",
     "status": "completed"
    },
    "tags": []
   },
   "outputs": [
    {
     "name": "stdout",
     "output_type": "stream",
     "text": [
      "hour_count\n",
      "4    2817817\n",
      "3      29359\n",
      "2      15974\n",
      "1       6544\n",
      "Name: count, dtype: int64\n"
     ]
    }
   ],
   "source": [
    "# aggregate by hour\n",
    "observations_number= observations.shape[0]\n",
    "observations['hour_count'] = 1 \n",
    "observations['hour'] = observations['hour'].apply(lambda x: x.split(':')[0])\n",
    "observations = observations.groupby(['Id_aforament','date','hour']).agg({'intensity':'sum',\"hour_count\":'sum'}).reset_index()\n",
    "hour_count_4 = observations[observations[\"hour_count\"] == 4].shape[0]\n",
    "hour_count_3 = observations[observations[\"hour_count\"] == 3].shape[0]\n",
    "hour_count_2 = observations[observations[\"hour_count\"] == 2].shape[0]\n",
    "hour_count_1 = observations[observations[\"hour_count\"] == 1].shape[0]\n",
    "print(observations[\"hour_count\"].value_counts())\n",
    "\n",
    "observations=observations[observations[\"hour_count\"] >= 2]\n",
    "observations.drop(columns=[\"hour_count\"],inplace=True)\n"
   ]
  },
  {
   "cell_type": "code",
   "execution_count": 8,
   "id": "9f4bcef4",
   "metadata": {
    "execution": {
     "iopub.execute_input": "2024-11-02T13:53:45.436188Z",
     "iopub.status.busy": "2024-11-02T13:53:45.434096Z",
     "iopub.status.idle": "2024-11-02T13:53:45.457711Z",
     "shell.execute_reply": "2024-11-02T13:53:45.456695Z"
    },
    "papermill": {
     "duration": 0.041613,
     "end_time": "2024-11-02T13:53:45.458717",
     "exception": false,
     "start_time": "2024-11-02T13:53:45.417104",
     "status": "completed"
    },
    "tags": []
   },
   "outputs": [
    {
     "name": "stdout",
     "output_type": "stream",
     "text": [
      "(2863150, 4)\n",
      "Index(['Id_aforament', 'date', 'hour', 'intensity'], dtype='object')\n"
     ]
    },
    {
     "data": {
      "text/html": [
       "<div>\n",
       "<style scoped>\n",
       "    .dataframe tbody tr th:only-of-type {\n",
       "        vertical-align: middle;\n",
       "    }\n",
       "\n",
       "    .dataframe tbody tr th {\n",
       "        vertical-align: top;\n",
       "    }\n",
       "\n",
       "    .dataframe thead th {\n",
       "        text-align: right;\n",
       "    }\n",
       "</style>\n",
       "<table border=\"1\" class=\"dataframe\">\n",
       "  <thead>\n",
       "    <tr style=\"text-align: right;\">\n",
       "      <th></th>\n",
       "      <th>Id_aforament</th>\n",
       "      <th>date</th>\n",
       "      <th>hour</th>\n",
       "      <th>intensity</th>\n",
       "    </tr>\n",
       "  </thead>\n",
       "  <tbody>\n",
       "    <tr>\n",
       "      <th>0</th>\n",
       "      <td>20001</td>\n",
       "      <td>2023-01-01</td>\n",
       "      <td>00</td>\n",
       "      <td>147</td>\n",
       "    </tr>\n",
       "    <tr>\n",
       "      <th>1</th>\n",
       "      <td>20001</td>\n",
       "      <td>2023-01-01</td>\n",
       "      <td>01</td>\n",
       "      <td>146</td>\n",
       "    </tr>\n",
       "    <tr>\n",
       "      <th>2</th>\n",
       "      <td>20001</td>\n",
       "      <td>2023-01-01</td>\n",
       "      <td>02</td>\n",
       "      <td>150</td>\n",
       "    </tr>\n",
       "    <tr>\n",
       "      <th>3</th>\n",
       "      <td>20001</td>\n",
       "      <td>2023-01-01</td>\n",
       "      <td>03</td>\n",
       "      <td>141</td>\n",
       "    </tr>\n",
       "    <tr>\n",
       "      <th>4</th>\n",
       "      <td>20001</td>\n",
       "      <td>2023-01-01</td>\n",
       "      <td>04</td>\n",
       "      <td>64</td>\n",
       "    </tr>\n",
       "  </tbody>\n",
       "</table>\n",
       "</div>"
      ],
      "text/plain": [
       "   Id_aforament       date hour  intensity\n",
       "0         20001 2023-01-01   00        147\n",
       "1         20001 2023-01-01   01        146\n",
       "2         20001 2023-01-01   02        150\n",
       "3         20001 2023-01-01   03        141\n",
       "4         20001 2023-01-01   04         64"
      ]
     },
     "execution_count": 8,
     "metadata": {},
     "output_type": "execute_result"
    }
   ],
   "source": [
    "print(observations.shape)\n",
    "print(observations.columns)\n",
    "observations.head()\n",
    "# 393210.25"
   ]
  },
  {
   "cell_type": "markdown",
   "id": "d3f7bf0c",
   "metadata": {
    "papermill": {
     "duration": 0.014378,
     "end_time": "2024-11-02T13:53:45.489009",
     "exception": false,
     "start_time": "2024-11-02T13:53:45.474631",
     "status": "completed"
    },
    "tags": []
   },
   "source": [
    "## 1: Site-hours with Prolonged Zero Counts\n",
    "\n",
    "After it, it has been plotted and it has been decided to use **90h** as the threshold. It has been decided to do so after comparing the following tresholds and counts.\n",
    "\n",
    "### Objective\n",
    "Flag site-hours with X hours or more of consecutive zeros."
   ]
  },
  {
   "cell_type": "code",
   "execution_count": 9,
   "id": "5ac0e764",
   "metadata": {
    "execution": {
     "iopub.execute_input": "2024-11-02T13:53:45.521492Z",
     "iopub.status.busy": "2024-11-02T13:53:45.521492Z",
     "iopub.status.idle": "2024-11-02T13:53:45.562434Z",
     "shell.execute_reply": "2024-11-02T13:53:45.562434Z"
    },
    "papermill": {
     "duration": 0.073425,
     "end_time": "2024-11-02T13:53:45.562434",
     "exception": false,
     "start_time": "2024-11-02T13:53:45.489009",
     "status": "completed"
    },
    "tags": []
   },
   "outputs": [
    {
     "name": "stdout",
     "output_type": "stream",
     "text": [
      "(2863150, 4)\n"
     ]
    },
    {
     "data": {
      "text/html": [
       "<div>\n",
       "<style scoped>\n",
       "    .dataframe tbody tr th:only-of-type {\n",
       "        vertical-align: middle;\n",
       "    }\n",
       "\n",
       "    .dataframe tbody tr th {\n",
       "        vertical-align: top;\n",
       "    }\n",
       "\n",
       "    .dataframe thead th {\n",
       "        text-align: right;\n",
       "    }\n",
       "</style>\n",
       "<table border=\"1\" class=\"dataframe\">\n",
       "  <thead>\n",
       "    <tr style=\"text-align: right;\">\n",
       "      <th></th>\n",
       "      <th>Id_aforament</th>\n",
       "      <th>date</th>\n",
       "      <th>hour</th>\n",
       "      <th>intensity</th>\n",
       "    </tr>\n",
       "  </thead>\n",
       "  <tbody>\n",
       "    <tr>\n",
       "      <th>0</th>\n",
       "      <td>20001</td>\n",
       "      <td>2023-01-01</td>\n",
       "      <td>00</td>\n",
       "      <td>147</td>\n",
       "    </tr>\n",
       "    <tr>\n",
       "      <th>1</th>\n",
       "      <td>20001</td>\n",
       "      <td>2023-01-01</td>\n",
       "      <td>01</td>\n",
       "      <td>146</td>\n",
       "    </tr>\n",
       "    <tr>\n",
       "      <th>2</th>\n",
       "      <td>20001</td>\n",
       "      <td>2023-01-01</td>\n",
       "      <td>02</td>\n",
       "      <td>150</td>\n",
       "    </tr>\n",
       "    <tr>\n",
       "      <th>3</th>\n",
       "      <td>20001</td>\n",
       "      <td>2023-01-01</td>\n",
       "      <td>03</td>\n",
       "      <td>141</td>\n",
       "    </tr>\n",
       "    <tr>\n",
       "      <th>4</th>\n",
       "      <td>20001</td>\n",
       "      <td>2023-01-01</td>\n",
       "      <td>04</td>\n",
       "      <td>64</td>\n",
       "    </tr>\n",
       "  </tbody>\n",
       "</table>\n",
       "</div>"
      ],
      "text/plain": [
       "   Id_aforament       date hour  intensity\n",
       "0         20001 2023-01-01   00        147\n",
       "1         20001 2023-01-01   01        146\n",
       "2         20001 2023-01-01   02        150\n",
       "3         20001 2023-01-01   03        141\n",
       "4         20001 2023-01-01   04         64"
      ]
     },
     "execution_count": 9,
     "metadata": {},
     "output_type": "execute_result"
    }
   ],
   "source": [
    "#The data has been \n",
    "data1=observations.copy()\n",
    "print(data1.shape)\n",
    "data1.head()\n"
   ]
  },
  {
   "cell_type": "code",
   "execution_count": 10,
   "id": "29262d62",
   "metadata": {
    "execution": {
     "iopub.execute_input": "2024-11-02T13:53:45.599137Z",
     "iopub.status.busy": "2024-11-02T13:53:45.599137Z",
     "iopub.status.idle": "2024-11-02T13:53:45.619855Z",
     "shell.execute_reply": "2024-11-02T13:53:45.619855Z"
    },
    "papermill": {
     "duration": 0.036755,
     "end_time": "2024-11-02T13:53:45.619855",
     "exception": false,
     "start_time": "2024-11-02T13:53:45.583100",
     "status": "completed"
    },
    "tags": []
   },
   "outputs": [],
   "source": [
    "def flag_rolling_cumulative_zeros(df, time_column, value_column, site_column, threshold=48):\n",
    "\n",
    "    # Initialize a flag column to mark rows where the rolling cumulative sum of the previous 25 or more rows has consecutive zeros\n",
    "    df['flag'] = False\n",
    "\n",
    "    # Group DataFrame by site and year\n",
    "    grouped_df = df.groupby([site_column])\n",
    "\n",
    "    for (site), group_data in grouped_df:\n",
    "        rolling_cumulative_zeros = group_data[value_column].rolling(window=threshold, min_periods=1).sum()\n",
    "\n",
    "        # Update the flag column based on the rolling cumulative sum\n",
    "        df.loc[rolling_cumulative_zeros[rolling_cumulative_zeros == 0].index, 'flag'] = True\n",
    "\n",
    "    # Return flagged and non-flagged rows\n",
    "    flagged_rows = df[df['flag'] == True].copy()  # Use copy to avoid SettingWithCopyWarning\n",
    "    non_flagged_rows = df[df['flag'] == False].copy()  # Use copy to avoid SettingWithCopyWarning\n",
    "\n",
    "    # Drop the intermediate columns if needed\n",
    "    df = df.drop([ 'flag'], axis=1)\n",
    "    #flagged_rows = flagged_rows.drop(['year', 'flag'], axis=1)\n",
    "    #non_flagged_rows = non_flagged_rows.drop(['year', 'flag'], axis=1)\n",
    "\n",
    "    return non_flagged_rows,flagged_rows"
   ]
  },
  {
   "cell_type": "code",
   "execution_count": 11,
   "id": "99dc72c5",
   "metadata": {
    "execution": {
     "iopub.execute_input": "2024-11-02T13:53:45.666435Z",
     "iopub.status.busy": "2024-11-02T13:53:45.666435Z",
     "iopub.status.idle": "2024-11-02T13:53:46.673435Z",
     "shell.execute_reply": "2024-11-02T13:53:46.672425Z"
    },
    "papermill": {
     "duration": 1.027117,
     "end_time": "2024-11-02T13:53:46.673435",
     "exception": false,
     "start_time": "2024-11-02T13:53:45.646318",
     "status": "completed"
    },
    "tags": []
   },
   "outputs": [
    {
     "name": "stdout",
     "output_type": "stream",
     "text": [
      "DataFrame Name:  Task1\n",
      "Number of stations:  369\n",
      "Number of observations:  2828044\n",
      "Percetage of flagged observations 1.2414 %\n"
     ]
    }
   ],
   "source": [
    "non_flagged_rows,flagged_rows = flag_rolling_cumulative_zeros(data1, 'timestamp', 'intensity', 'Id_aforament', threshold=90)\n",
    "# lets calculate how many hours of data flagged\n",
    "calculate_station_observation_summary(non_flagged_rows,flagged_rows,'Task1')"
   ]
  },
  {
   "cell_type": "code",
   "execution_count": 12,
   "id": "dcc9100e",
   "metadata": {
    "execution": {
     "iopub.execute_input": "2024-11-02T13:53:46.705492Z",
     "iopub.status.busy": "2024-11-02T13:53:46.705492Z",
     "iopub.status.idle": "2024-11-02T13:53:46.873198Z",
     "shell.execute_reply": "2024-11-02T13:53:46.873198Z"
    },
    "papermill": {
     "duration": 0.182245,
     "end_time": "2024-11-02T13:53:46.873198",
     "exception": false,
     "start_time": "2024-11-02T13:53:46.690953",
     "status": "completed"
    },
    "tags": []
   },
   "outputs": [
    {
     "name": "stdout",
     "output_type": "stream",
     "text": [
      "\n",
      "\n",
      "Number of flagged rows: 35106 Number of non-flagged rows: 2828044 Total rows: 2863150 The sum of flagged and non-flagged rows is equal to the total rows: True\n",
      "\n",
      "\n",
      "The number of unique stations in the flagged rows: 80 The number of unique stations in the non-flagged rows: 369 The number of unique stations in the original data: 369\n",
      "\n",
      "\n",
      "count    2.828044e+06\n",
      "mean     1.977756e+02\n",
      "std      3.766258e+02\n",
      "min      0.000000e+00\n",
      "25%      3.600000e+01\n",
      "50%      1.080000e+02\n",
      "75%      2.500000e+02\n",
      "max      1.567500e+04\n",
      "Name: intensity, dtype: float64\n",
      "\n",
      "\n"
     ]
    },
    {
     "name": "stdout",
     "output_type": "stream",
     "text": [
      "count    35106.0\n",
      "mean         0.0\n",
      "std          0.0\n",
      "min          0.0\n",
      "25%          0.0\n",
      "50%          0.0\n",
      "75%          0.0\n",
      "max          0.0\n",
      "Name: intensity, dtype: float64\n"
     ]
    }
   ],
   "source": [
    "\n",
    "print(\"\\n\")\n",
    "# Print the number of flagged and non-flagged rows\n",
    "print('Number of flagged rows:', flagged_rows.shape[0], 'Number of non-flagged rows:', non_flagged_rows.shape[0], 'Total rows:', data1.shape[0], 'The sum of flagged and non-flagged rows is equal to the total rows:', flagged_rows.shape[0] + non_flagged_rows.shape[0] == data1.shape[0])\n",
    "print(\"\\n\")\n",
    "\n",
    "#Check if the number of unique stations is the same\n",
    "print( 'The number of unique stations in the flagged rows:', flagged_rows['Id_aforament'].nunique(), 'The number of unique stations in the non-flagged rows:', non_flagged_rows['Id_aforament'].nunique(), 'The number of unique stations in the original data:', data1['Id_aforament'].nunique())\n",
    "print(\"\\n\")\n",
    "\n",
    "# Print the summary statistics for the 'intensity' column\n",
    "print(non_flagged_rows['intensity'].describe())\n",
    "print(\"\\n\")\n",
    "\n",
    "print(flagged_rows['intensity'].describe())"
   ]
  },
  {
   "cell_type": "markdown",
   "id": "4a3e7b3c",
   "metadata": {
    "papermill": {
     "duration": 0.006697,
     "end_time": "2024-11-02T13:53:46.897421",
     "exception": false,
     "start_time": "2024-11-02T13:53:46.890724",
     "status": "completed"
    },
    "tags": []
   },
   "source": [
    "\n",
    "## 2: Site-hours with Repeated Identical Values\n",
    "\n",
    "### Objective\n",
    "Flag site-hours with six or more identical hourly values exceeding five.\n",
    "\n",
    "\n"
   ]
  },
  {
   "cell_type": "code",
   "execution_count": 13,
   "id": "4e810fcf",
   "metadata": {
    "execution": {
     "iopub.execute_input": "2024-11-02T13:53:46.948565Z",
     "iopub.status.busy": "2024-11-02T13:53:46.948565Z",
     "iopub.status.idle": "2024-11-02T13:53:47.060421Z",
     "shell.execute_reply": "2024-11-02T13:53:47.060421Z"
    },
    "papermill": {
     "duration": 0.132368,
     "end_time": "2024-11-02T13:53:47.060421",
     "exception": false,
     "start_time": "2024-11-02T13:53:46.928053",
     "status": "completed"
    },
    "tags": []
   },
   "outputs": [
    {
     "name": "stdout",
     "output_type": "stream",
     "text": [
      "(2828044, 4)\n"
     ]
    },
    {
     "data": {
      "text/html": [
       "<div>\n",
       "<style scoped>\n",
       "    .dataframe tbody tr th:only-of-type {\n",
       "        vertical-align: middle;\n",
       "    }\n",
       "\n",
       "    .dataframe tbody tr th {\n",
       "        vertical-align: top;\n",
       "    }\n",
       "\n",
       "    .dataframe thead th {\n",
       "        text-align: right;\n",
       "    }\n",
       "</style>\n",
       "<table border=\"1\" class=\"dataframe\">\n",
       "  <thead>\n",
       "    <tr style=\"text-align: right;\">\n",
       "      <th></th>\n",
       "      <th>Id_aforament</th>\n",
       "      <th>date</th>\n",
       "      <th>hour</th>\n",
       "      <th>intensity</th>\n",
       "    </tr>\n",
       "  </thead>\n",
       "  <tbody>\n",
       "    <tr>\n",
       "      <th>0</th>\n",
       "      <td>20001</td>\n",
       "      <td>2023-01-01</td>\n",
       "      <td>00</td>\n",
       "      <td>147</td>\n",
       "    </tr>\n",
       "    <tr>\n",
       "      <th>1</th>\n",
       "      <td>20001</td>\n",
       "      <td>2023-01-01</td>\n",
       "      <td>01</td>\n",
       "      <td>146</td>\n",
       "    </tr>\n",
       "    <tr>\n",
       "      <th>2</th>\n",
       "      <td>20001</td>\n",
       "      <td>2023-01-01</td>\n",
       "      <td>02</td>\n",
       "      <td>150</td>\n",
       "    </tr>\n",
       "    <tr>\n",
       "      <th>3</th>\n",
       "      <td>20001</td>\n",
       "      <td>2023-01-01</td>\n",
       "      <td>03</td>\n",
       "      <td>141</td>\n",
       "    </tr>\n",
       "    <tr>\n",
       "      <th>4</th>\n",
       "      <td>20001</td>\n",
       "      <td>2023-01-01</td>\n",
       "      <td>04</td>\n",
       "      <td>64</td>\n",
       "    </tr>\n",
       "  </tbody>\n",
       "</table>\n",
       "</div>"
      ],
      "text/plain": [
       "   Id_aforament       date hour  intensity\n",
       "0         20001 2023-01-01   00        147\n",
       "1         20001 2023-01-01   01        146\n",
       "2         20001 2023-01-01   02        150\n",
       "3         20001 2023-01-01   03        141\n",
       "4         20001 2023-01-01   04         64"
      ]
     },
     "execution_count": 13,
     "metadata": {},
     "output_type": "execute_result"
    }
   ],
   "source": [
    "# we will use the dataframe obtained from previous task for this task\n",
    "data2=non_flagged_rows.drop([ 'flag'],axis=1).copy()\n",
    "print(data2.shape)\n",
    "data2.head()"
   ]
  },
  {
   "cell_type": "code",
   "execution_count": 14,
   "id": "9a8c9942",
   "metadata": {
    "execution": {
     "iopub.execute_input": "2024-11-02T13:53:47.104653Z",
     "iopub.status.busy": "2024-11-02T13:53:47.104653Z",
     "iopub.status.idle": "2024-11-02T13:53:47.113324Z",
     "shell.execute_reply": "2024-11-02T13:53:47.113324Z"
    },
    "papermill": {
     "duration": 0.042545,
     "end_time": "2024-11-02T13:53:47.116334",
     "exception": false,
     "start_time": "2024-11-02T13:53:47.073789",
     "status": "completed"
    },
    "tags": []
   },
   "outputs": [],
   "source": [
    "# Function to flag 6 repeated consecutive identical values greater than 10 by each site\n",
    "def flag_values_equal_consecutive_values(df, hours, value):\n",
    "    df['flagged'] = False\n",
    "\n",
    "    for site in df['Id_aforament'].unique():\n",
    "        site_data = df[df['Id_aforament'] == site]\n",
    "        identical = (site_data['intensity'] == site_data['intensity'].shift(1)) & (site_data['intensity'] > value)\n",
    "        consecutive_counts = identical.rolling(window=hours, min_periods=hours).sum() == hours\n",
    "        \n",
    "        # Find the indices to flag\n",
    "        flag_indices = site_data[consecutive_counts].index\n",
    "\n",
    "        # Flag all positions in the window of 'hours' before and including the flagged positions\n",
    "        for idx in flag_indices:\n",
    "            df.loc[idx-hours+1:idx, 'flagged'] = True\n",
    "\n",
    "    flagged_rows = df[df['flagged'] == True].copy()\n",
    "    non_flagged_rows = df[df['flagged'] == False].copy()\n",
    "\n",
    "    df.drop(['flagged'], axis=1, inplace=True)\n",
    "\n",
    "    return non_flagged_rows,flagged_rows"
   ]
  },
  {
   "cell_type": "code",
   "execution_count": 15,
   "id": "47497568",
   "metadata": {
    "execution": {
     "iopub.execute_input": "2024-11-02T13:53:47.159935Z",
     "iopub.status.busy": "2024-11-02T13:53:47.158938Z",
     "iopub.status.idle": "2024-11-02T13:53:49.331908Z",
     "shell.execute_reply": "2024-11-02T13:53:49.330687Z"
    },
    "papermill": {
     "duration": 2.19296,
     "end_time": "2024-11-02T13:53:49.331908",
     "exception": false,
     "start_time": "2024-11-02T13:53:47.138948",
     "status": "completed"
    },
    "tags": []
   },
   "outputs": [
    {
     "name": "stdout",
     "output_type": "stream",
     "text": [
      "DataFrame Name:  Task2\n",
      "Number of stations:  369\n",
      "Number of observations:  2827784\n",
      "Percetage of flagged observations 0.0092 %\n"
     ]
    }
   ],
   "source": [
    "non_flagged_rows,flagged_rows= flag_values_equal_consecutive_values(data2.copy(), 6, 5)\n",
    "calculate_station_observation_summary(non_flagged_rows,flagged_rows,'Task2')\n"
   ]
  },
  {
   "cell_type": "markdown",
   "id": "7e800173",
   "metadata": {
    "papermill": {
     "duration": 0.015641,
     "end_time": "2024-11-02T13:53:49.362063",
     "exception": false,
     "start_time": "2024-11-02T13:53:49.346422",
     "status": "completed"
    },
    "tags": []
   },
   "source": [
    "## 3: Site-days with Time Discrepancies\n",
    "\n",
    "### Objective\n",
    "Examine site-days where 3 a.m. counts surpass counts at 3 p.m., provided the 3 p.m. count exceeds 2.\n",
    "\n"
   ]
  },
  {
   "cell_type": "code",
   "execution_count": 16,
   "id": "9642c1e0",
   "metadata": {
    "execution": {
     "iopub.execute_input": "2024-11-02T13:53:49.397370Z",
     "iopub.status.busy": "2024-11-02T13:53:49.397370Z",
     "iopub.status.idle": "2024-11-02T13:53:49.499373Z",
     "shell.execute_reply": "2024-11-02T13:53:49.499373Z"
    },
    "papermill": {
     "duration": 0.116249,
     "end_time": "2024-11-02T13:53:49.499373",
     "exception": false,
     "start_time": "2024-11-02T13:53:49.383124",
     "status": "completed"
    },
    "tags": []
   },
   "outputs": [
    {
     "name": "stdout",
     "output_type": "stream",
     "text": [
      "(2827784, 4)\n"
     ]
    },
    {
     "data": {
      "text/html": [
       "<div>\n",
       "<style scoped>\n",
       "    .dataframe tbody tr th:only-of-type {\n",
       "        vertical-align: middle;\n",
       "    }\n",
       "\n",
       "    .dataframe tbody tr th {\n",
       "        vertical-align: top;\n",
       "    }\n",
       "\n",
       "    .dataframe thead th {\n",
       "        text-align: right;\n",
       "    }\n",
       "</style>\n",
       "<table border=\"1\" class=\"dataframe\">\n",
       "  <thead>\n",
       "    <tr style=\"text-align: right;\">\n",
       "      <th></th>\n",
       "      <th>Id_aforament</th>\n",
       "      <th>date</th>\n",
       "      <th>hour</th>\n",
       "      <th>intensity</th>\n",
       "    </tr>\n",
       "  </thead>\n",
       "  <tbody>\n",
       "    <tr>\n",
       "      <th>0</th>\n",
       "      <td>20001</td>\n",
       "      <td>2023-01-01</td>\n",
       "      <td>00</td>\n",
       "      <td>147</td>\n",
       "    </tr>\n",
       "    <tr>\n",
       "      <th>1</th>\n",
       "      <td>20001</td>\n",
       "      <td>2023-01-01</td>\n",
       "      <td>01</td>\n",
       "      <td>146</td>\n",
       "    </tr>\n",
       "    <tr>\n",
       "      <th>2</th>\n",
       "      <td>20001</td>\n",
       "      <td>2023-01-01</td>\n",
       "      <td>02</td>\n",
       "      <td>150</td>\n",
       "    </tr>\n",
       "    <tr>\n",
       "      <th>3</th>\n",
       "      <td>20001</td>\n",
       "      <td>2023-01-01</td>\n",
       "      <td>03</td>\n",
       "      <td>141</td>\n",
       "    </tr>\n",
       "    <tr>\n",
       "      <th>4</th>\n",
       "      <td>20001</td>\n",
       "      <td>2023-01-01</td>\n",
       "      <td>04</td>\n",
       "      <td>64</td>\n",
       "    </tr>\n",
       "  </tbody>\n",
       "</table>\n",
       "</div>"
      ],
      "text/plain": [
       "   Id_aforament       date hour  intensity\n",
       "0         20001 2023-01-01   00        147\n",
       "1         20001 2023-01-01   01        146\n",
       "2         20001 2023-01-01   02        150\n",
       "3         20001 2023-01-01   03        141\n",
       "4         20001 2023-01-01   04         64"
      ]
     },
     "execution_count": 16,
     "metadata": {},
     "output_type": "execute_result"
    }
   ],
   "source": [
    "# we will use the dataframe obtained from previous task for this task\n",
    "data3=non_flagged_rows.drop(['flagged'],axis=1).copy()\n",
    "print(data3.shape)\n",
    "data3.head()"
   ]
  },
  {
   "cell_type": "code",
   "execution_count": 17,
   "id": "22d47e26",
   "metadata": {
    "execution": {
     "iopub.execute_input": "2024-11-02T13:53:49.549110Z",
     "iopub.status.busy": "2024-11-02T13:53:49.546197Z",
     "iopub.status.idle": "2024-11-02T13:53:49.557034Z",
     "shell.execute_reply": "2024-11-02T13:53:49.557034Z"
    },
    "papermill": {
     "duration": 0.038983,
     "end_time": "2024-11-02T13:53:49.560853",
     "exception": false,
     "start_time": "2024-11-02T13:53:49.521870",
     "status": "completed"
    },
    "tags": []
   },
   "outputs": [],
   "source": [
    "# Function to flag 6 repeated consecutive identical values greater than 10 by each site\n",
    "def flag_values_3am_3pm(df):\n",
    "    # Filter the DataFrame to keep only rows where the time is '3:00 AM'\n",
    "    df_3am = df[df['hour'] == 3]\n",
    "\n",
    "    # Filter the DataFrame to keep only rows where the time is '3:00 PM' and the count is greater than 2\n",
    "    df_3pm = df[(df['hour'] == 15) & (df['intensity'] > 2)]\n",
    "\n",
    "    # Merge the filtered DataFrames on 'day', 'month', 'year', and 'site'\n",
    "    merged_data = pd.merge(df_3am, df_3pm, on=['Id_aforament',  'date'], suffixes=('_3am', '_3pm'))\n",
    "\n",
    "    # Filter the merged DataFrame to keep only rows where the count at 3 AM is greater than the count at 3 PM\n",
    "    flagged_rows = merged_data[merged_data['intensity_3am'] > merged_data['intensity_3pm']]\n",
    "\n",
    "    # Get the date of the flagges rows\n",
    "    flagged_sites=flagged_rows[['Id_aforament', 'date']].copy()\n",
    "    flagged_sites['flagged']=True\n",
    "\n",
    "    # Merge the flagged sites with the original DataFrame\n",
    "    results=pd.merge(df,flagged_sites, on=['Id_aforament', 'date'], how='outer')\n",
    "    results['flagged'] = results['flagged'].fillna(False)\n",
    "\n",
    "    # Return the flagged rows\n",
    "    flagged_rows = results[results['flagged'] == True].copy()\n",
    "\n",
    "    # Return the non-flagged rows\n",
    "    non_flagged_rows = results[results['flagged'] == False].copy()\n",
    "    \n",
    "    return non_flagged_rows,flagged_rows\n",
    "\n"
   ]
  },
  {
   "cell_type": "code",
   "execution_count": 18,
   "id": "91f03a83",
   "metadata": {
    "execution": {
     "iopub.execute_input": "2024-11-02T13:53:49.618248Z",
     "iopub.status.busy": "2024-11-02T13:53:49.618248Z",
     "iopub.status.idle": "2024-11-02T13:53:50.541053Z",
     "shell.execute_reply": "2024-11-02T13:53:50.540038Z"
    },
    "papermill": {
     "duration": 0.958414,
     "end_time": "2024-11-02T13:53:50.544052",
     "exception": false,
     "start_time": "2024-11-02T13:53:49.585638",
     "status": "completed"
    },
    "tags": []
   },
   "outputs": [
    {
     "name": "stdout",
     "output_type": "stream",
     "text": [
      "DataFrame Name:  Task3\n",
      "Number of stations:  369\n",
      "Number of observations:  2827784\n",
      "Percetage of flagged observations 0.0 %\n"
     ]
    }
   ],
   "source": [
    "non_flagged_rows,flagged_rows = flag_values_3am_3pm(data3.copy())\n",
    "calculate_station_observation_summary(non_flagged_rows,flagged_rows,'Task3')"
   ]
  },
  {
   "cell_type": "markdown",
   "id": "31c6e655",
   "metadata": {
    "papermill": {
     "duration": 0.019921,
     "end_time": "2024-11-02T13:53:50.584754",
     "exception": false,
     "start_time": "2024-11-02T13:53:50.564833",
     "status": "completed"
    },
    "tags": []
   },
   "source": [
    "## 4: Unusual Hourly Count Discrepancies\n",
    "\n",
    "### Objective\n",
    "Flag site hours with an hourly count at least 10 times larger than the count of the previous hour, provided the previous hour's count exceeds 15.\n"
   ]
  },
  {
   "cell_type": "code",
   "execution_count": 19,
   "id": "e30d54c5",
   "metadata": {
    "execution": {
     "iopub.execute_input": "2024-11-02T13:53:50.624789Z",
     "iopub.status.busy": "2024-11-02T13:53:50.623756Z",
     "iopub.status.idle": "2024-11-02T13:53:50.737997Z",
     "shell.execute_reply": "2024-11-02T13:53:50.736984Z"
    },
    "papermill": {
     "duration": 0.136161,
     "end_time": "2024-11-02T13:53:50.740998",
     "exception": false,
     "start_time": "2024-11-02T13:53:50.604837",
     "status": "completed"
    },
    "tags": []
   },
   "outputs": [
    {
     "name": "stdout",
     "output_type": "stream",
     "text": [
      "(2827784, 4)\n"
     ]
    },
    {
     "data": {
      "text/html": [
       "<div>\n",
       "<style scoped>\n",
       "    .dataframe tbody tr th:only-of-type {\n",
       "        vertical-align: middle;\n",
       "    }\n",
       "\n",
       "    .dataframe tbody tr th {\n",
       "        vertical-align: top;\n",
       "    }\n",
       "\n",
       "    .dataframe thead th {\n",
       "        text-align: right;\n",
       "    }\n",
       "</style>\n",
       "<table border=\"1\" class=\"dataframe\">\n",
       "  <thead>\n",
       "    <tr style=\"text-align: right;\">\n",
       "      <th></th>\n",
       "      <th>Id_aforament</th>\n",
       "      <th>date</th>\n",
       "      <th>hour</th>\n",
       "      <th>intensity</th>\n",
       "    </tr>\n",
       "  </thead>\n",
       "  <tbody>\n",
       "    <tr>\n",
       "      <th>0</th>\n",
       "      <td>20001</td>\n",
       "      <td>2023-01-01</td>\n",
       "      <td>00</td>\n",
       "      <td>147</td>\n",
       "    </tr>\n",
       "    <tr>\n",
       "      <th>1</th>\n",
       "      <td>20001</td>\n",
       "      <td>2023-01-01</td>\n",
       "      <td>01</td>\n",
       "      <td>146</td>\n",
       "    </tr>\n",
       "    <tr>\n",
       "      <th>2</th>\n",
       "      <td>20001</td>\n",
       "      <td>2023-01-01</td>\n",
       "      <td>02</td>\n",
       "      <td>150</td>\n",
       "    </tr>\n",
       "    <tr>\n",
       "      <th>3</th>\n",
       "      <td>20001</td>\n",
       "      <td>2023-01-01</td>\n",
       "      <td>03</td>\n",
       "      <td>141</td>\n",
       "    </tr>\n",
       "    <tr>\n",
       "      <th>4</th>\n",
       "      <td>20001</td>\n",
       "      <td>2023-01-01</td>\n",
       "      <td>04</td>\n",
       "      <td>64</td>\n",
       "    </tr>\n",
       "  </tbody>\n",
       "</table>\n",
       "</div>"
      ],
      "text/plain": [
       "   Id_aforament       date hour  intensity\n",
       "0         20001 2023-01-01   00        147\n",
       "1         20001 2023-01-01   01        146\n",
       "2         20001 2023-01-01   02        150\n",
       "3         20001 2023-01-01   03        141\n",
       "4         20001 2023-01-01   04         64"
      ]
     },
     "execution_count": 19,
     "metadata": {},
     "output_type": "execute_result"
    }
   ],
   "source": [
    "data4=non_flagged_rows.drop(['flagged'],axis=1).copy()\n",
    "print(data4.shape)\n",
    "data4.head()"
   ]
  },
  {
   "cell_type": "code",
   "execution_count": 20,
   "id": "6ee0a79e",
   "metadata": {
    "execution": {
     "iopub.execute_input": "2024-11-02T13:53:50.785964Z",
     "iopub.status.busy": "2024-11-02T13:53:50.784932Z",
     "iopub.status.idle": "2024-11-02T13:53:50.796976Z",
     "shell.execute_reply": "2024-11-02T13:53:50.795943Z"
    },
    "papermill": {
     "duration": 0.039519,
     "end_time": "2024-11-02T13:53:50.799026",
     "exception": false,
     "start_time": "2024-11-02T13:53:50.759507",
     "status": "completed"
    },
    "tags": []
   },
   "outputs": [],
   "source": [
    "def flag_unusual_increases(df):\n",
    "\n",
    "    # Sort the DataFrame by 'Id_aforament', 'date'', and 'hour'\n",
    "    df.sort_values(by=['Id_aforament','date', 'hour'], inplace=True)\n",
    "    # Calculate the previous hour's count\n",
    "    df['prev_hour_count'] = df.groupby(['Id_aforament','date', 'hour'])['intensity'].shift(1)\n",
    "\n",
    "    # Flag the rows where one hourly count is at least ten times larger than the previous hour’s count\n",
    "    df['flagged'] = (df['intensity'] >= 10 * df['prev_hour_count']) & (df['prev_hour_count'] > 15)\n",
    "\n",
    "    # Display the flagged rows\n",
    "    flagged_rows = df.loc[df['flagged']==True]\n",
    "    non_flagged_rows = df.loc[df['flagged']==False]\n",
    "    print('Number of flagged rows:', flagged_rows.shape[0], 'Number of non-flagged rows:', non_flagged_rows.shape[0], 'Total rows:', df.shape[0], 'The sum of flagged and non-flagged rows is equal to the total rows:', flagged_rows.shape[0] + non_flagged_rows.shape[0] == df.shape[0])\n",
    "    return non_flagged_rows,flagged_rows\n"
   ]
  },
  {
   "cell_type": "code",
   "execution_count": 21,
   "id": "0468f4a8",
   "metadata": {
    "execution": {
     "iopub.execute_input": "2024-11-02T13:53:50.844763Z",
     "iopub.status.busy": "2024-11-02T13:53:50.843741Z",
     "iopub.status.idle": "2024-11-02T13:53:52.456066Z",
     "shell.execute_reply": "2024-11-02T13:53:52.455011Z"
    },
    "papermill": {
     "duration": 1.640305,
     "end_time": "2024-11-02T13:53:52.459050",
     "exception": false,
     "start_time": "2024-11-02T13:53:50.818745",
     "status": "completed"
    },
    "tags": []
   },
   "outputs": [
    {
     "name": "stdout",
     "output_type": "stream",
     "text": [
      "Number of flagged rows: 0 Number of non-flagged rows: 2827784 Total rows: 2827784 The sum of flagged and non-flagged rows is equal to the total rows: True\n",
      "DataFrame Name:  Task4\n",
      "Number of stations:  369\n",
      "Number of observations:  2827784\n",
      "Percetage of flagged observations 0.0 %\n"
     ]
    }
   ],
   "source": [
    "non_flagged_rows,flagged_rows = flag_unusual_increases(data4.copy())\n",
    "calculate_station_observation_summary(non_flagged_rows,flagged_rows,'Task4')\n"
   ]
  },
  {
   "cell_type": "markdown",
   "id": "866f3e1a",
   "metadata": {
    "papermill": {
     "duration": 0.017454,
     "end_time": "2024-11-02T13:53:52.493505",
     "exception": false,
     "start_time": "2024-11-02T13:53:52.476051",
     "status": "completed"
    },
    "tags": []
   },
   "source": [
    "## 5: Threshold for High Hourly Counts\n",
    "\n",
    "### Objective\n",
    "Flag site-hourly counts exceeding X bicyclists.\n",
    "\n",
    "We evaluated the upper bounds using the elbow method and determined 885 as a reasonable threshold. The lower bounds were not considered due to negative values.\n"
   ]
  },
  {
   "cell_type": "code",
   "execution_count": 22,
   "id": "e18f707f",
   "metadata": {
    "execution": {
     "iopub.execute_input": "2024-11-02T13:53:52.533193Z",
     "iopub.status.busy": "2024-11-02T13:53:52.533193Z",
     "iopub.status.idle": "2024-11-02T13:53:52.722601Z",
     "shell.execute_reply": "2024-11-02T13:53:52.721587Z"
    },
    "papermill": {
     "duration": 0.208911,
     "end_time": "2024-11-02T13:53:52.724624",
     "exception": false,
     "start_time": "2024-11-02T13:53:52.515713",
     "status": "completed"
    },
    "tags": []
   },
   "outputs": [
    {
     "name": "stdout",
     "output_type": "stream",
     "text": [
      "(2827784, 5)\n",
      "Mild lower bound: -285.0 Mild upper bound: 571.0 Severe lower bound: -606.0 Severe upper bound: 892.0\n"
     ]
    }
   ],
   "source": [
    "data5=non_flagged_rows.drop(['flagged'],axis=1).copy()\n",
    "print(data5.shape)\n",
    "data5.head()\n",
    "mild_lower_bound, mild_upper_bound, severe_lower_bound, severe_upper_bound=interquantile_range(data5['intensity'])"
   ]
  },
  {
   "cell_type": "code",
   "execution_count": 23,
   "id": "5de8d660",
   "metadata": {
    "execution": {
     "iopub.execute_input": "2024-11-02T13:53:52.774932Z",
     "iopub.status.busy": "2024-11-02T13:53:52.774932Z",
     "iopub.status.idle": "2024-11-02T13:53:52.783605Z",
     "shell.execute_reply": "2024-11-02T13:53:52.782596Z"
    },
    "papermill": {
     "duration": 0.036723,
     "end_time": "2024-11-02T13:53:52.785607",
     "exception": false,
     "start_time": "2024-11-02T13:53:52.748884",
     "status": "completed"
    },
    "tags": []
   },
   "outputs": [],
   "source": [
    "def flag_outliers_hour(df,treshold):\n",
    "    # Flag the rows where the intensity is greater than or equal to the threshold\n",
    "    flagged_rows = df.loc[(df['intensity'] >= treshold)]\n",
    "    non_flagged_rows = df.loc[ (df['intensity'] < treshold)]\n",
    "\n",
    "    print('Number of flagged rows:', flagged_rows.shape[0], 'Number of non-flagged rows:', non_flagged_rows.shape[0], 'Total rows:', df.shape[0], 'The sum of flagged and non-flagged rows is equal to the total rows:', flagged_rows.shape[0] + non_flagged_rows.shape[0] == df.shape[0])\n",
    "    \n",
    "    return non_flagged_rows,flagged_rows "
   ]
  },
  {
   "cell_type": "code",
   "execution_count": 24,
   "id": "e2a3047d",
   "metadata": {
    "execution": {
     "iopub.execute_input": "2024-11-02T13:53:52.828589Z",
     "iopub.status.busy": "2024-11-02T13:53:52.828589Z",
     "iopub.status.idle": "2024-11-02T13:53:53.068656Z",
     "shell.execute_reply": "2024-11-02T13:53:53.067646Z"
    },
    "papermill": {
     "duration": 0.264085,
     "end_time": "2024-11-02T13:53:53.071660",
     "exception": false,
     "start_time": "2024-11-02T13:53:52.807575",
     "status": "completed"
    },
    "tags": []
   },
   "outputs": [
    {
     "name": "stdout",
     "output_type": "stream",
     "text": [
      "Number of flagged rows: 55846 Number of non-flagged rows: 2771938 Total rows: 2827784 The sum of flagged and non-flagged rows is equal to the total rows: True\n",
      "DataFrame Name:  Task5\n",
      "Number of stations:  369\n",
      "Number of observations:  2771938\n",
      "Percetage of flagged observations 2.0147 %\n"
     ]
    }
   ],
   "source": [
    "non_flagged_rows,flagged_rows = flag_outliers_hour(data5.copy(),885)\n",
    "calculate_station_observation_summary(non_flagged_rows,flagged_rows,'Task5')\n"
   ]
  },
  {
   "cell_type": "markdown",
   "id": "df66715c",
   "metadata": {
    "papermill": {
     "duration": 0.020529,
     "end_time": "2024-11-02T13:53:53.115198",
     "exception": false,
     "start_time": "2024-11-02T13:53:53.094669",
     "status": "completed"
    },
    "tags": []
   },
   "source": [
    "## 6: Threshold for High Daily Counts\n",
    "\n",
    "### Objective\n",
    "Flag site days with total counts exceeding a specified number of bicyclists.\n",
    "\n",
    "The severe upper bound was discarded due to being higher than the maximum value. The mild upper bound was evaluated, and 11225 was determined as a good threshold."
   ]
  },
  {
   "cell_type": "code",
   "execution_count": 25,
   "id": "14cf43b9",
   "metadata": {
    "execution": {
     "iopub.execute_input": "2024-11-02T13:53:53.164927Z",
     "iopub.status.busy": "2024-11-02T13:53:53.164927Z",
     "iopub.status.idle": "2024-11-02T13:53:53.475576Z",
     "shell.execute_reply": "2024-11-02T13:53:53.475576Z"
    },
    "papermill": {
     "duration": 0.337379,
     "end_time": "2024-11-02T13:53:53.475576",
     "exception": false,
     "start_time": "2024-11-02T13:53:53.138197",
     "status": "completed"
    },
    "tags": []
   },
   "outputs": [
    {
     "name": "stdout",
     "output_type": "stream",
     "text": [
      "(2771938, 5)\n"
     ]
    },
    {
     "name": "stdout",
     "output_type": "stream",
     "text": [
      "Mild lower bound: -4118.0 Mild upper bound: 11202.0 Severe lower bound: -9863.0 Severe upper bound: 16947.0\n"
     ]
    }
   ],
   "source": [
    "data6=non_flagged_rows.copy()\n",
    "print(data6.shape)\n",
    "data6.head()\n",
    "\n",
    "df_day=data6.groupby(['Id_aforament', 'date'])['intensity'].sum().reset_index()\n",
    "df_day=df_day.rename(columns={'intensity':'Daily_Counts'})\n",
    "mild_lower_bound, mild_upper_bound, severe_lower_bound, severe_upper_bound=interquantile_range(df_day['Daily_Counts'])"
   ]
  },
  {
   "cell_type": "code",
   "execution_count": 26,
   "id": "d423f293",
   "metadata": {
    "execution": {
     "iopub.execute_input": "2024-11-02T13:53:53.528834Z",
     "iopub.status.busy": "2024-11-02T13:53:53.528834Z",
     "iopub.status.idle": "2024-11-02T13:53:53.541032Z",
     "shell.execute_reply": "2024-11-02T13:53:53.541032Z"
    },
    "papermill": {
     "duration": 0.041947,
     "end_time": "2024-11-02T13:53:53.544580",
     "exception": false,
     "start_time": "2024-11-02T13:53:53.502633",
     "status": "completed"
    },
    "tags": []
   },
   "outputs": [],
   "source": [
    "def flag_outliers_day(df, treshold):\n",
    "    df_day=df.groupby(['Id_aforament', 'date'])['intensity'].sum().reset_index()\n",
    "    df_day=df_day.rename(columns={'intensity':'Daily_Counts'})\n",
    "\n",
    "\n",
    "    df=pd.merge(df, df_day, on=['Id_aforament', 'date'], how='inner')\n",
    "\n",
    "    flagged_rows = df.loc[(df['Daily_Counts'] >= treshold)]\n",
    "    non_flagged_rows = df.loc[(df['Daily_Counts'] < treshold)]\n",
    "\n",
    "\n",
    "    print('Number of flagged rows:', flagged_rows.shape[0], 'Number of non-flagged rows:', non_flagged_rows.shape[0], 'Total rows:', df.shape[0], 'The sum of flagged and non-flagged rows is equal to the total rows:', flagged_rows.shape[0] + non_flagged_rows.shape[0] == df.shape[0])\n",
    "    return non_flagged_rows,flagged_rows \n"
   ]
  },
  {
   "cell_type": "code",
   "execution_count": 27,
   "id": "7ca38f95",
   "metadata": {
    "execution": {
     "iopub.execute_input": "2024-11-02T13:53:53.593041Z",
     "iopub.status.busy": "2024-11-02T13:53:53.593041Z",
     "iopub.status.idle": "2024-11-02T13:53:54.443397Z",
     "shell.execute_reply": "2024-11-02T13:53:54.442347Z"
    },
    "papermill": {
     "duration": 0.886138,
     "end_time": "2024-11-02T13:53:54.446397",
     "exception": false,
     "start_time": "2024-11-02T13:53:53.560259",
     "status": "completed"
    },
    "tags": []
   },
   "outputs": [
    {
     "name": "stdout",
     "output_type": "stream",
     "text": [
      "Number of flagged rows: 13886 Number of non-flagged rows: 2758052 Total rows: 2771938 The sum of flagged and non-flagged rows is equal to the total rows: True\n",
      "DataFrame Name:  Task6\n",
      "Number of stations:  369\n",
      "Number of observations:  2758052\n",
      "Percetage of flagged observations 0.5035 %\n"
     ]
    }
   ],
   "source": [
    "non_flagged_rows,flagged_rows =flag_outliers_day(data6.copy(),11225.625 )\n",
    "calculate_station_observation_summary(non_flagged_rows,flagged_rows,'Task6')"
   ]
  },
  {
   "cell_type": "markdown",
   "id": "9e5dafbb",
   "metadata": {
    "papermill": {
     "duration": 0.016964,
     "end_time": "2024-11-02T13:53:54.481217",
     "exception": false,
     "start_time": "2024-11-02T13:53:54.464253",
     "status": "completed"
    },
    "tags": []
   },
   "source": [
    "## 7: Insufficient Daily Data\n",
    "\n",
    "### Objective\n",
    "Exclude site-daily counts collected over less than 22 valid hours.\n",
    "\n"
   ]
  },
  {
   "cell_type": "code",
   "execution_count": 28,
   "id": "8ec87f60",
   "metadata": {
    "execution": {
     "iopub.execute_input": "2024-11-02T13:53:54.522331Z",
     "iopub.status.busy": "2024-11-02T13:53:54.521336Z",
     "iopub.status.idle": "2024-11-02T13:53:54.539042Z",
     "shell.execute_reply": "2024-11-02T13:53:54.538035Z"
    },
    "papermill": {
     "duration": 0.041329,
     "end_time": "2024-11-02T13:53:54.542074",
     "exception": false,
     "start_time": "2024-11-02T13:53:54.500745",
     "status": "completed"
    },
    "tags": []
   },
   "outputs": [
    {
     "name": "stdout",
     "output_type": "stream",
     "text": [
      "(2758052, 6)\n"
     ]
    },
    {
     "data": {
      "text/html": [
       "<div>\n",
       "<style scoped>\n",
       "    .dataframe tbody tr th:only-of-type {\n",
       "        vertical-align: middle;\n",
       "    }\n",
       "\n",
       "    .dataframe tbody tr th {\n",
       "        vertical-align: top;\n",
       "    }\n",
       "\n",
       "    .dataframe thead th {\n",
       "        text-align: right;\n",
       "    }\n",
       "</style>\n",
       "<table border=\"1\" class=\"dataframe\">\n",
       "  <thead>\n",
       "    <tr style=\"text-align: right;\">\n",
       "      <th></th>\n",
       "      <th>Id_aforament</th>\n",
       "      <th>date</th>\n",
       "      <th>hour</th>\n",
       "      <th>intensity</th>\n",
       "      <th>prev_hour_count</th>\n",
       "      <th>Daily_Counts</th>\n",
       "    </tr>\n",
       "  </thead>\n",
       "  <tbody>\n",
       "    <tr>\n",
       "      <th>0</th>\n",
       "      <td>20001</td>\n",
       "      <td>2023-01-01</td>\n",
       "      <td>00</td>\n",
       "      <td>147</td>\n",
       "      <td>NaN</td>\n",
       "      <td>4633</td>\n",
       "    </tr>\n",
       "    <tr>\n",
       "      <th>1</th>\n",
       "      <td>20001</td>\n",
       "      <td>2023-01-01</td>\n",
       "      <td>01</td>\n",
       "      <td>146</td>\n",
       "      <td>NaN</td>\n",
       "      <td>4633</td>\n",
       "    </tr>\n",
       "    <tr>\n",
       "      <th>2</th>\n",
       "      <td>20001</td>\n",
       "      <td>2023-01-01</td>\n",
       "      <td>02</td>\n",
       "      <td>150</td>\n",
       "      <td>NaN</td>\n",
       "      <td>4633</td>\n",
       "    </tr>\n",
       "    <tr>\n",
       "      <th>3</th>\n",
       "      <td>20001</td>\n",
       "      <td>2023-01-01</td>\n",
       "      <td>03</td>\n",
       "      <td>141</td>\n",
       "      <td>NaN</td>\n",
       "      <td>4633</td>\n",
       "    </tr>\n",
       "    <tr>\n",
       "      <th>4</th>\n",
       "      <td>20001</td>\n",
       "      <td>2023-01-01</td>\n",
       "      <td>04</td>\n",
       "      <td>64</td>\n",
       "      <td>NaN</td>\n",
       "      <td>4633</td>\n",
       "    </tr>\n",
       "  </tbody>\n",
       "</table>\n",
       "</div>"
      ],
      "text/plain": [
       "   Id_aforament       date hour  intensity  prev_hour_count  Daily_Counts\n",
       "0         20001 2023-01-01   00        147              NaN          4633\n",
       "1         20001 2023-01-01   01        146              NaN          4633\n",
       "2         20001 2023-01-01   02        150              NaN          4633\n",
       "3         20001 2023-01-01   03        141              NaN          4633\n",
       "4         20001 2023-01-01   04         64              NaN          4633"
      ]
     },
     "execution_count": 28,
     "metadata": {},
     "output_type": "execute_result"
    }
   ],
   "source": [
    "data7=non_flagged_rows\n",
    "print(data7.shape)\n",
    "data7.head()"
   ]
  },
  {
   "cell_type": "code",
   "execution_count": 29,
   "id": "371a19d8",
   "metadata": {
    "execution": {
     "iopub.execute_input": "2024-11-02T13:53:54.606295Z",
     "iopub.status.busy": "2024-11-02T13:53:54.605272Z",
     "iopub.status.idle": "2024-11-02T13:53:54.616526Z",
     "shell.execute_reply": "2024-11-02T13:53:54.615512Z"
    },
    "papermill": {
     "duration": 0.043726,
     "end_time": "2024-11-02T13:53:54.618537",
     "exception": false,
     "start_time": "2024-11-02T13:53:54.574811",
     "status": "completed"
    },
    "tags": []
   },
   "outputs": [],
   "source": [
    "def flag_insuficient_daily_data(df):\n",
    "    df['duration']=1\n",
    "    df_day = df.groupby(['Id_aforament', 'date'])['duration'].sum().reset_index()\n",
    "    df_day=df_day.rename(columns={'duration':'Number_of_hrs_data_collected'})\n",
    "    print(df_day['Number_of_hrs_data_collected'].describe())\n",
    "\n",
    "    df=pd.merge(df, df_day, on=['Id_aforament', 'date'], how='inner')\n",
    "\n",
    "    flagged_rows = df.loc[(df['Number_of_hrs_data_collected'] <= 23)]\n",
    "    non_flagged_rows = df.loc[(df['Number_of_hrs_data_collected'] > 23)]\n",
    "    print('Number of flagged rows:', flagged_rows.shape[0], 'Number of non-flagged rows:', non_flagged_rows.shape[0], 'Total rows:', df.shape[0], 'The sum of flagged and non-flagged rows is equal to the total rows:', flagged_rows.shape[0] + non_flagged_rows.shape[0] == df.shape[0])\n",
    "    return non_flagged_rows,flagged_rows \n"
   ]
  },
  {
   "cell_type": "code",
   "execution_count": 30,
   "id": "6156895c",
   "metadata": {
    "execution": {
     "iopub.execute_input": "2024-11-02T13:53:54.670535Z",
     "iopub.status.busy": "2024-11-02T13:53:54.669539Z",
     "iopub.status.idle": "2024-11-02T13:53:55.564116Z",
     "shell.execute_reply": "2024-11-02T13:53:55.564116Z"
    },
    "papermill": {
     "duration": 0.922106,
     "end_time": "2024-11-02T13:53:55.566665",
     "exception": false,
     "start_time": "2024-11-02T13:53:54.644559",
     "status": "completed"
    },
    "tags": []
   },
   "outputs": [
    {
     "name": "stdout",
     "output_type": "stream",
     "text": [
      "count    119209.000000\n",
      "mean         23.136273\n",
      "std           2.961448\n",
      "min           1.000000\n",
      "25%          24.000000\n",
      "50%          24.000000\n",
      "75%          24.000000\n",
      "max          24.000000\n",
      "Name: Number_of_hrs_data_collected, dtype: float64\n"
     ]
    },
    {
     "name": "stdout",
     "output_type": "stream",
     "text": [
      "Number of flagged rows: 310340 Number of non-flagged rows: 2447712 Total rows: 2758052 The sum of flagged and non-flagged rows is equal to the total rows: True\n",
      "DataFrame Name:  Task7\n",
      "Number of stations:  369\n",
      "Number of observations:  2447712\n",
      "Percetage of flagged observations 12.6788 %\n"
     ]
    }
   ],
   "source": [
    "non_flagged_rows,flagged_rows = flag_insuficient_daily_data(data7.copy())\n",
    "calculate_station_observation_summary(non_flagged_rows,flagged_rows,'Task7')"
   ]
  },
  {
   "cell_type": "markdown",
   "id": "2c864020",
   "metadata": {
    "papermill": {
     "duration": 0.031776,
     "end_time": "2024-11-02T13:53:55.614245",
     "exception": false,
     "start_time": "2024-11-02T13:53:55.582469",
     "status": "completed"
    },
    "tags": []
   },
   "source": [
    "## 8: Inadequate Monthly Coverage\n",
    "\n",
    "### Objective\n",
    "Flag site months with valid days totaling less than three weeks (21 days out of 31).\n",
    "\n",
    "No changes have been made to the criteria.\n",
    "\n",
    "### Flagging Data\n",
    "- Percentage of data flagged: 6.05%\n",
    "- DataFrame Name: Task8\n",
    "- Number of stations: 352\n",
    "- Number of observations: 2,501,544\n",
    "- Flagged observations: 151,416\n",
    "- Deleted: 6.05%"
   ]
  },
  {
   "cell_type": "code",
   "execution_count": 31,
   "id": "37200815",
   "metadata": {
    "execution": {
     "iopub.execute_input": "2024-11-02T13:53:55.661095Z",
     "iopub.status.busy": "2024-11-02T13:53:55.661095Z",
     "iopub.status.idle": "2024-11-02T13:53:55.688291Z",
     "shell.execute_reply": "2024-11-02T13:53:55.688291Z"
    },
    "papermill": {
     "duration": 0.042869,
     "end_time": "2024-11-02T13:53:55.688291",
     "exception": false,
     "start_time": "2024-11-02T13:53:55.645422",
     "status": "completed"
    },
    "tags": []
   },
   "outputs": [
    {
     "name": "stdout",
     "output_type": "stream",
     "text": [
      "(2447712, 8)\n"
     ]
    },
    {
     "data": {
      "text/html": [
       "<div>\n",
       "<style scoped>\n",
       "    .dataframe tbody tr th:only-of-type {\n",
       "        vertical-align: middle;\n",
       "    }\n",
       "\n",
       "    .dataframe tbody tr th {\n",
       "        vertical-align: top;\n",
       "    }\n",
       "\n",
       "    .dataframe thead th {\n",
       "        text-align: right;\n",
       "    }\n",
       "</style>\n",
       "<table border=\"1\" class=\"dataframe\">\n",
       "  <thead>\n",
       "    <tr style=\"text-align: right;\">\n",
       "      <th></th>\n",
       "      <th>Id_aforament</th>\n",
       "      <th>date</th>\n",
       "      <th>hour</th>\n",
       "      <th>intensity</th>\n",
       "      <th>prev_hour_count</th>\n",
       "      <th>Daily_Counts</th>\n",
       "      <th>duration</th>\n",
       "      <th>Number_of_hrs_data_collected</th>\n",
       "    </tr>\n",
       "  </thead>\n",
       "  <tbody>\n",
       "    <tr>\n",
       "      <th>0</th>\n",
       "      <td>20001</td>\n",
       "      <td>2023-01-01</td>\n",
       "      <td>00</td>\n",
       "      <td>147</td>\n",
       "      <td>NaN</td>\n",
       "      <td>4633</td>\n",
       "      <td>1</td>\n",
       "      <td>24</td>\n",
       "    </tr>\n",
       "    <tr>\n",
       "      <th>1</th>\n",
       "      <td>20001</td>\n",
       "      <td>2023-01-01</td>\n",
       "      <td>01</td>\n",
       "      <td>146</td>\n",
       "      <td>NaN</td>\n",
       "      <td>4633</td>\n",
       "      <td>1</td>\n",
       "      <td>24</td>\n",
       "    </tr>\n",
       "    <tr>\n",
       "      <th>2</th>\n",
       "      <td>20001</td>\n",
       "      <td>2023-01-01</td>\n",
       "      <td>02</td>\n",
       "      <td>150</td>\n",
       "      <td>NaN</td>\n",
       "      <td>4633</td>\n",
       "      <td>1</td>\n",
       "      <td>24</td>\n",
       "    </tr>\n",
       "    <tr>\n",
       "      <th>3</th>\n",
       "      <td>20001</td>\n",
       "      <td>2023-01-01</td>\n",
       "      <td>03</td>\n",
       "      <td>141</td>\n",
       "      <td>NaN</td>\n",
       "      <td>4633</td>\n",
       "      <td>1</td>\n",
       "      <td>24</td>\n",
       "    </tr>\n",
       "    <tr>\n",
       "      <th>4</th>\n",
       "      <td>20001</td>\n",
       "      <td>2023-01-01</td>\n",
       "      <td>04</td>\n",
       "      <td>64</td>\n",
       "      <td>NaN</td>\n",
       "      <td>4633</td>\n",
       "      <td>1</td>\n",
       "      <td>24</td>\n",
       "    </tr>\n",
       "  </tbody>\n",
       "</table>\n",
       "</div>"
      ],
      "text/plain": [
       "   Id_aforament       date hour  intensity  prev_hour_count  Daily_Counts  \\\n",
       "0         20001 2023-01-01   00        147              NaN          4633   \n",
       "1         20001 2023-01-01   01        146              NaN          4633   \n",
       "2         20001 2023-01-01   02        150              NaN          4633   \n",
       "3         20001 2023-01-01   03        141              NaN          4633   \n",
       "4         20001 2023-01-01   04         64              NaN          4633   \n",
       "\n",
       "   duration  Number_of_hrs_data_collected  \n",
       "0         1                            24  \n",
       "1         1                            24  \n",
       "2         1                            24  \n",
       "3         1                            24  \n",
       "4         1                            24  "
      ]
     },
     "execution_count": 31,
     "metadata": {},
     "output_type": "execute_result"
    }
   ],
   "source": [
    "data8=non_flagged_rows\n",
    "print(data8.shape)\n",
    "data8.head()"
   ]
  },
  {
   "cell_type": "code",
   "execution_count": 32,
   "id": "127864ae",
   "metadata": {
    "execution": {
     "iopub.execute_input": "2024-11-02T13:53:55.724473Z",
     "iopub.status.busy": "2024-11-02T13:53:55.724473Z",
     "iopub.status.idle": "2024-11-02T13:53:55.750477Z",
     "shell.execute_reply": "2024-11-02T13:53:55.750477Z"
    },
    "papermill": {
     "duration": 0.041643,
     "end_time": "2024-11-02T13:53:55.750477",
     "exception": false,
     "start_time": "2024-11-02T13:53:55.708834",
     "status": "completed"
    },
    "tags": []
   },
   "outputs": [],
   "source": [
    "def flag_insuficient_monthly_data(df):\n",
    "    df['day']=df['date'].dt.day\n",
    "    df['month']=df['date'].dt.month\n",
    "\n",
    "    df_day = df.groupby(['Id_aforament', 'month', 'day'])['duration'].sum().reset_index()\n",
    "    df_month = df_day.groupby(['Id_aforament', 'month'])['day'].count().reset_index()\n",
    "    df_month=df_month.rename(columns={'day':'Number_of_days_data_collected'})\n",
    "\n",
    "\n",
    "    df=pd.merge(df, df_month, on=['Id_aforament', 'month'], how='inner')\n",
    "\n",
    "    flagged_rows = df.loc[(df['Number_of_days_data_collected'] <= 21)]\n",
    "    non_flagged_rows = df.loc[(df['Number_of_days_data_collected'] > 21)]\n",
    "    print('Number of flagged rows:', flagged_rows.shape[0], 'Number of non-flagged rows:', non_flagged_rows.shape[0], 'Total rows:', df.shape[0], 'The sum of flagged and non-flagged rows is equal to the total rows:', flagged_rows.shape[0] + non_flagged_rows.shape[0] == df.shape[0])\n",
    "    return non_flagged_rows,flagged_rows \n"
   ]
  },
  {
   "cell_type": "code",
   "execution_count": 33,
   "id": "9cefb767",
   "metadata": {
    "execution": {
     "iopub.execute_input": "2024-11-02T13:53:55.787250Z",
     "iopub.status.busy": "2024-11-02T13:53:55.787250Z",
     "iopub.status.idle": "2024-11-02T13:53:56.823155Z",
     "shell.execute_reply": "2024-11-02T13:53:56.822118Z"
    },
    "papermill": {
     "duration": 1.05478,
     "end_time": "2024-11-02T13:53:56.826412",
     "exception": false,
     "start_time": "2024-11-02T13:53:55.771632",
     "status": "completed"
    },
    "tags": []
   },
   "outputs": [
    {
     "name": "stdout",
     "output_type": "stream",
     "text": [
      "Number of flagged rows: 180576 Number of non-flagged rows: 2267136 Total rows: 2447712 The sum of flagged and non-flagged rows is equal to the total rows: True\n",
      "DataFrame Name:  Task8\n",
      "Number of stations:  347\n",
      "Number of observations:  2267136\n",
      "Percetage of flagged observations 7.9649 %\n"
     ]
    }
   ],
   "source": [
    "non_flagged_rows,flagged_rows=flag_insuficient_monthly_data(data8)\n",
    "calculate_station_observation_summary(non_flagged_rows,flagged_rows,'Task8')"
   ]
  },
  {
   "cell_type": "markdown",
   "id": "39b0c55e",
   "metadata": {
    "papermill": {
     "duration": 0.0313,
     "end_time": "2024-11-02T13:53:56.873739",
     "exception": false,
     "start_time": "2024-11-02T13:53:56.842439",
     "status": "completed"
    },
    "tags": []
   },
   "source": [
    "## Final results"
   ]
  },
  {
   "cell_type": "code",
   "execution_count": 34,
   "id": "a179b23a",
   "metadata": {
    "execution": {
     "iopub.execute_input": "2024-11-02T13:53:56.920991Z",
     "iopub.status.busy": "2024-11-02T13:53:56.920991Z",
     "iopub.status.idle": "2024-11-02T13:53:56.936671Z",
     "shell.execute_reply": "2024-11-02T13:53:56.936671Z"
    },
    "papermill": {
     "duration": 0.047323,
     "end_time": "2024-11-02T13:53:56.936671",
     "exception": false,
     "start_time": "2024-11-02T13:53:56.889348",
     "status": "completed"
    },
    "tags": []
   },
   "outputs": [
    {
     "data": {
      "text/html": [
       "<div>\n",
       "<style scoped>\n",
       "    .dataframe tbody tr th:only-of-type {\n",
       "        vertical-align: middle;\n",
       "    }\n",
       "\n",
       "    .dataframe tbody tr th {\n",
       "        vertical-align: top;\n",
       "    }\n",
       "\n",
       "    .dataframe thead th {\n",
       "        text-align: right;\n",
       "    }\n",
       "</style>\n",
       "<table border=\"1\" class=\"dataframe\">\n",
       "  <thead>\n",
       "    <tr style=\"text-align: right;\">\n",
       "      <th></th>\n",
       "      <th>DataFrame Name</th>\n",
       "      <th>Number of Stations</th>\n",
       "      <th>Number of Observations</th>\n",
       "      <th>Flagged observations</th>\n",
       "      <th>Deleted</th>\n",
       "    </tr>\n",
       "  </thead>\n",
       "  <tbody>\n",
       "    <tr>\n",
       "      <th>0</th>\n",
       "      <td>Task1</td>\n",
       "      <td>369</td>\n",
       "      <td>2828044</td>\n",
       "      <td>35106</td>\n",
       "      <td>1.24</td>\n",
       "    </tr>\n",
       "    <tr>\n",
       "      <th>1</th>\n",
       "      <td>Task2</td>\n",
       "      <td>369</td>\n",
       "      <td>2827784</td>\n",
       "      <td>260</td>\n",
       "      <td>0.01</td>\n",
       "    </tr>\n",
       "    <tr>\n",
       "      <th>2</th>\n",
       "      <td>Task3</td>\n",
       "      <td>369</td>\n",
       "      <td>2827784</td>\n",
       "      <td>0</td>\n",
       "      <td>0.00</td>\n",
       "    </tr>\n",
       "    <tr>\n",
       "      <th>3</th>\n",
       "      <td>Task4</td>\n",
       "      <td>369</td>\n",
       "      <td>2827784</td>\n",
       "      <td>0</td>\n",
       "      <td>0.00</td>\n",
       "    </tr>\n",
       "    <tr>\n",
       "      <th>4</th>\n",
       "      <td>Task5</td>\n",
       "      <td>369</td>\n",
       "      <td>2771938</td>\n",
       "      <td>55846</td>\n",
       "      <td>2.01</td>\n",
       "    </tr>\n",
       "    <tr>\n",
       "      <th>5</th>\n",
       "      <td>Task6</td>\n",
       "      <td>369</td>\n",
       "      <td>2758052</td>\n",
       "      <td>13886</td>\n",
       "      <td>0.50</td>\n",
       "    </tr>\n",
       "    <tr>\n",
       "      <th>6</th>\n",
       "      <td>Task7</td>\n",
       "      <td>369</td>\n",
       "      <td>2447712</td>\n",
       "      <td>310340</td>\n",
       "      <td>12.68</td>\n",
       "    </tr>\n",
       "    <tr>\n",
       "      <th>7</th>\n",
       "      <td>Task8</td>\n",
       "      <td>347</td>\n",
       "      <td>2267136</td>\n",
       "      <td>180576</td>\n",
       "      <td>7.96</td>\n",
       "    </tr>\n",
       "  </tbody>\n",
       "</table>\n",
       "</div>"
      ],
      "text/plain": [
       "  DataFrame Name  Number of Stations  Number of Observations  \\\n",
       "0          Task1                 369                 2828044   \n",
       "1          Task2                 369                 2827784   \n",
       "2          Task3                 369                 2827784   \n",
       "3          Task4                 369                 2827784   \n",
       "4          Task5                 369                 2771938   \n",
       "5          Task6                 369                 2758052   \n",
       "6          Task7                 369                 2447712   \n",
       "7          Task8                 347                 2267136   \n",
       "\n",
       "   Flagged observations  Deleted  \n",
       "0                 35106     1.24  \n",
       "1                   260     0.01  \n",
       "2                     0     0.00  \n",
       "3                     0     0.00  \n",
       "4                 55846     2.01  \n",
       "5                 13886     0.50  \n",
       "6                310340    12.68  \n",
       "7                180576     7.96  "
      ]
     },
     "execution_count": 34,
     "metadata": {},
     "output_type": "execute_result"
    }
   ],
   "source": [
    "summary_df[\"Deleted\"]=round((summary_df[\"Flagged observations\"]/summary_df[\"Number of Observations\"])*100,2)\n",
    "summary_df"
   ]
  },
  {
   "cell_type": "markdown",
   "id": "8ed435f4",
   "metadata": {
    "papermill": {
     "duration": 0.027636,
     "end_time": "2024-11-02T13:53:56.987709",
     "exception": false,
     "start_time": "2024-11-02T13:53:56.960073",
     "status": "completed"
    },
    "tags": []
   },
   "source": [
    "# Calculations\n",
    "* DBT (Daily Bicycle Traffic): This is the count of bicycles passing a point in a single day.\n",
    "* ADBT (Average Daily Bicycle Traffic): This is the average number of bicycles passing a point per day over a specified period."
   ]
  },
  {
   "cell_type": "code",
   "execution_count": 35,
   "id": "18359e87",
   "metadata": {
    "execution": {
     "iopub.execute_input": "2024-11-02T13:53:57.031893Z",
     "iopub.status.busy": "2024-11-02T13:53:57.031893Z",
     "iopub.status.idle": "2024-11-02T13:53:57.060119Z",
     "shell.execute_reply": "2024-11-02T13:53:57.060119Z"
    },
    "papermill": {
     "duration": 0.047711,
     "end_time": "2024-11-02T13:53:57.063651",
     "exception": false,
     "start_time": "2024-11-02T13:53:57.015940",
     "status": "completed"
    },
    "tags": []
   },
   "outputs": [
    {
     "data": {
      "text/html": [
       "<div>\n",
       "<style scoped>\n",
       "    .dataframe tbody tr th:only-of-type {\n",
       "        vertical-align: middle;\n",
       "    }\n",
       "\n",
       "    .dataframe tbody tr th {\n",
       "        vertical-align: top;\n",
       "    }\n",
       "\n",
       "    .dataframe thead th {\n",
       "        text-align: right;\n",
       "    }\n",
       "</style>\n",
       "<table border=\"1\" class=\"dataframe\">\n",
       "  <thead>\n",
       "    <tr style=\"text-align: right;\">\n",
       "      <th></th>\n",
       "      <th>Id_aforament</th>\n",
       "      <th>date</th>\n",
       "      <th>hour</th>\n",
       "      <th>intensity</th>\n",
       "      <th>prev_hour_count</th>\n",
       "      <th>Daily_Counts</th>\n",
       "      <th>duration</th>\n",
       "      <th>Number_of_hrs_data_collected</th>\n",
       "      <th>day</th>\n",
       "      <th>month</th>\n",
       "      <th>Number_of_days_data_collected</th>\n",
       "    </tr>\n",
       "  </thead>\n",
       "  <tbody>\n",
       "    <tr>\n",
       "      <th>0</th>\n",
       "      <td>20001</td>\n",
       "      <td>2023-01-01</td>\n",
       "      <td>00</td>\n",
       "      <td>147</td>\n",
       "      <td>NaN</td>\n",
       "      <td>4633</td>\n",
       "      <td>1</td>\n",
       "      <td>24</td>\n",
       "      <td>1</td>\n",
       "      <td>1</td>\n",
       "      <td>28</td>\n",
       "    </tr>\n",
       "    <tr>\n",
       "      <th>1</th>\n",
       "      <td>20001</td>\n",
       "      <td>2023-01-01</td>\n",
       "      <td>01</td>\n",
       "      <td>146</td>\n",
       "      <td>NaN</td>\n",
       "      <td>4633</td>\n",
       "      <td>1</td>\n",
       "      <td>24</td>\n",
       "      <td>1</td>\n",
       "      <td>1</td>\n",
       "      <td>28</td>\n",
       "    </tr>\n",
       "    <tr>\n",
       "      <th>2</th>\n",
       "      <td>20001</td>\n",
       "      <td>2023-01-01</td>\n",
       "      <td>02</td>\n",
       "      <td>150</td>\n",
       "      <td>NaN</td>\n",
       "      <td>4633</td>\n",
       "      <td>1</td>\n",
       "      <td>24</td>\n",
       "      <td>1</td>\n",
       "      <td>1</td>\n",
       "      <td>28</td>\n",
       "    </tr>\n",
       "    <tr>\n",
       "      <th>3</th>\n",
       "      <td>20001</td>\n",
       "      <td>2023-01-01</td>\n",
       "      <td>03</td>\n",
       "      <td>141</td>\n",
       "      <td>NaN</td>\n",
       "      <td>4633</td>\n",
       "      <td>1</td>\n",
       "      <td>24</td>\n",
       "      <td>1</td>\n",
       "      <td>1</td>\n",
       "      <td>28</td>\n",
       "    </tr>\n",
       "    <tr>\n",
       "      <th>4</th>\n",
       "      <td>20001</td>\n",
       "      <td>2023-01-01</td>\n",
       "      <td>04</td>\n",
       "      <td>64</td>\n",
       "      <td>NaN</td>\n",
       "      <td>4633</td>\n",
       "      <td>1</td>\n",
       "      <td>24</td>\n",
       "      <td>1</td>\n",
       "      <td>1</td>\n",
       "      <td>28</td>\n",
       "    </tr>\n",
       "  </tbody>\n",
       "</table>\n",
       "</div>"
      ],
      "text/plain": [
       "   Id_aforament       date hour  intensity  prev_hour_count  Daily_Counts  \\\n",
       "0         20001 2023-01-01   00        147              NaN          4633   \n",
       "1         20001 2023-01-01   01        146              NaN          4633   \n",
       "2         20001 2023-01-01   02        150              NaN          4633   \n",
       "3         20001 2023-01-01   03        141              NaN          4633   \n",
       "4         20001 2023-01-01   04         64              NaN          4633   \n",
       "\n",
       "   duration  Number_of_hrs_data_collected  day  month  \\\n",
       "0         1                            24    1      1   \n",
       "1         1                            24    1      1   \n",
       "2         1                            24    1      1   \n",
       "3         1                            24    1      1   \n",
       "4         1                            24    1      1   \n",
       "\n",
       "   Number_of_days_data_collected  \n",
       "0                             28  \n",
       "1                             28  \n",
       "2                             28  \n",
       "3                             28  \n",
       "4                             28  "
      ]
     },
     "execution_count": 35,
     "metadata": {},
     "output_type": "execute_result"
    }
   ],
   "source": [
    "data10=non_flagged_rows\n",
    "non_flagged_rows.head()\n",
    "\n"
   ]
  },
  {
   "cell_type": "markdown",
   "id": "eaaa1ae6",
   "metadata": {
    "papermill": {
     "duration": 0.031671,
     "end_time": "2024-11-02T13:53:57.110982",
     "exception": false,
     "start_time": "2024-11-02T13:53:57.079311",
     "status": "completed"
    },
    "tags": []
   },
   "source": [
    "### DBT"
   ]
  },
  {
   "cell_type": "code",
   "execution_count": 36,
   "id": "326ba6c7",
   "metadata": {
    "execution": {
     "iopub.execute_input": "2024-11-02T13:53:57.157886Z",
     "iopub.status.busy": "2024-11-02T13:53:57.157886Z",
     "iopub.status.idle": "2024-11-02T13:53:57.400369Z",
     "shell.execute_reply": "2024-11-02T13:53:57.400369Z"
    },
    "papermill": {
     "duration": 0.273699,
     "end_time": "2024-11-02T13:53:57.400369",
     "exception": false,
     "start_time": "2024-11-02T13:53:57.126670",
     "status": "completed"
    },
    "tags": []
   },
   "outputs": [
    {
     "data": {
      "text/html": [
       "<div>\n",
       "<style scoped>\n",
       "    .dataframe tbody tr th:only-of-type {\n",
       "        vertical-align: middle;\n",
       "    }\n",
       "\n",
       "    .dataframe tbody tr th {\n",
       "        vertical-align: top;\n",
       "    }\n",
       "\n",
       "    .dataframe thead th {\n",
       "        text-align: right;\n",
       "    }\n",
       "</style>\n",
       "<table border=\"1\" class=\"dataframe\">\n",
       "  <thead>\n",
       "    <tr style=\"text-align: right;\">\n",
       "      <th></th>\n",
       "      <th>Id_aforament</th>\n",
       "      <th>date</th>\n",
       "      <th>DBT</th>\n",
       "    </tr>\n",
       "  </thead>\n",
       "  <tbody>\n",
       "    <tr>\n",
       "      <th>0</th>\n",
       "      <td>20001</td>\n",
       "      <td>2023-01-01</td>\n",
       "      <td>4633</td>\n",
       "    </tr>\n",
       "    <tr>\n",
       "      <th>1</th>\n",
       "      <td>20001</td>\n",
       "      <td>2023-01-02</td>\n",
       "      <td>6969</td>\n",
       "    </tr>\n",
       "    <tr>\n",
       "      <th>2</th>\n",
       "      <td>20001</td>\n",
       "      <td>2023-01-03</td>\n",
       "      <td>7848</td>\n",
       "    </tr>\n",
       "    <tr>\n",
       "      <th>3</th>\n",
       "      <td>20001</td>\n",
       "      <td>2023-01-04</td>\n",
       "      <td>8792</td>\n",
       "    </tr>\n",
       "    <tr>\n",
       "      <th>4</th>\n",
       "      <td>20001</td>\n",
       "      <td>2023-01-05</td>\n",
       "      <td>9068</td>\n",
       "    </tr>\n",
       "  </tbody>\n",
       "</table>\n",
       "</div>"
      ],
      "text/plain": [
       "   Id_aforament       date   DBT\n",
       "0         20001 2023-01-01  4633\n",
       "1         20001 2023-01-02  6969\n",
       "2         20001 2023-01-03  7848\n",
       "3         20001 2023-01-04  8792\n",
       "4         20001 2023-01-05  9068"
      ]
     },
     "execution_count": 36,
     "metadata": {},
     "output_type": "execute_result"
    }
   ],
   "source": [
    "DBT = data10.groupby(['Id_aforament', 'date'])['intensity'].sum().reset_index()\n",
    "DBT=DBT.rename(columns={'intensity':'DBT'})\n",
    "DBT.head()\n",
    "#gDBT.explore()"
   ]
  },
  {
   "cell_type": "markdown",
   "id": "4e20e4eb",
   "metadata": {
    "papermill": {
     "duration": 0.031627,
     "end_time": "2024-11-02T13:53:57.458242",
     "exception": false,
     "start_time": "2024-11-02T13:53:57.426615",
     "status": "completed"
    },
    "tags": []
   },
   "source": [
    "### AADBT\n"
   ]
  },
  {
   "cell_type": "code",
   "execution_count": 37,
   "id": "12c009de",
   "metadata": {
    "execution": {
     "iopub.execute_input": "2024-11-02T13:53:57.508680Z",
     "iopub.status.busy": "2024-11-02T13:53:57.508680Z",
     "iopub.status.idle": "2024-11-02T13:53:57.536921Z",
     "shell.execute_reply": "2024-11-02T13:53:57.535913Z"
    },
    "papermill": {
     "duration": 0.063037,
     "end_time": "2024-11-02T13:53:57.536921",
     "exception": false,
     "start_time": "2024-11-02T13:53:57.473884",
     "status": "completed"
    },
    "tags": []
   },
   "outputs": [
    {
     "name": "stdout",
     "output_type": "stream",
     "text": [
      "(347, 3)\n",
      "(306, 3)\n"
     ]
    },
    {
     "data": {
      "text/html": [
       "<div>\n",
       "<style scoped>\n",
       "    .dataframe tbody tr th:only-of-type {\n",
       "        vertical-align: middle;\n",
       "    }\n",
       "\n",
       "    .dataframe tbody tr th {\n",
       "        vertical-align: top;\n",
       "    }\n",
       "\n",
       "    .dataframe thead th {\n",
       "        text-align: right;\n",
       "    }\n",
       "</style>\n",
       "<table border=\"1\" class=\"dataframe\">\n",
       "  <thead>\n",
       "    <tr style=\"text-align: right;\">\n",
       "      <th></th>\n",
       "      <th>Id_aforament</th>\n",
       "      <th>AADBT</th>\n",
       "      <th>Number_of_days</th>\n",
       "    </tr>\n",
       "  </thead>\n",
       "  <tbody>\n",
       "    <tr>\n",
       "      <th>0</th>\n",
       "      <td>20001</td>\n",
       "      <td>7577.685976</td>\n",
       "      <td>328</td>\n",
       "    </tr>\n",
       "    <tr>\n",
       "      <th>2</th>\n",
       "      <td>20003</td>\n",
       "      <td>2700.275362</td>\n",
       "      <td>138</td>\n",
       "    </tr>\n",
       "    <tr>\n",
       "      <th>3</th>\n",
       "      <td>20005</td>\n",
       "      <td>1415.305970</td>\n",
       "      <td>268</td>\n",
       "    </tr>\n",
       "    <tr>\n",
       "      <th>4</th>\n",
       "      <td>20006</td>\n",
       "      <td>3479.024768</td>\n",
       "      <td>323</td>\n",
       "    </tr>\n",
       "    <tr>\n",
       "      <th>5</th>\n",
       "      <td>20007</td>\n",
       "      <td>4406.002976</td>\n",
       "      <td>336</td>\n",
       "    </tr>\n",
       "  </tbody>\n",
       "</table>\n",
       "</div>"
      ],
      "text/plain": [
       "   Id_aforament        AADBT  Number_of_days\n",
       "0         20001  7577.685976             328\n",
       "2         20003  2700.275362             138\n",
       "3         20005  1415.305970             268\n",
       "4         20006  3479.024768             323\n",
       "5         20007  4406.002976             336"
      ]
     },
     "execution_count": 37,
     "metadata": {},
     "output_type": "execute_result"
    }
   ],
   "source": [
    "AADBT=DBT.groupby(['Id_aforament']).agg({'DBT':'mean',\"date\":'count'}).reset_index()\n",
    "AADBT=AADBT.rename(columns={'DBT':'AADBT','date':'Number_of_days'})\n",
    "print(AADBT.shape)\n",
    "AADBT=AADBT[AADBT['Number_of_days']>=120]\n",
    "print(AADBT.shape)\n",
    "AADBT.head()"
   ]
  },
  {
   "cell_type": "markdown",
   "id": "2d633b66",
   "metadata": {
    "papermill": {
     "duration": 0.015626,
     "end_time": "2024-11-02T13:53:57.583809",
     "exception": false,
     "start_time": "2024-11-02T13:53:57.568183",
     "status": "completed"
    },
    "tags": []
   },
   "source": [
    "# Save output"
   ]
  },
  {
   "cell_type": "code",
   "execution_count": 38,
   "id": "2e2a51ea",
   "metadata": {
    "execution": {
     "iopub.execute_input": "2024-11-02T13:53:57.631291Z",
     "iopub.status.busy": "2024-11-02T13:53:57.631291Z",
     "iopub.status.idle": "2024-11-02T13:53:58.723474Z",
     "shell.execute_reply": "2024-11-02T13:53:58.722459Z"
    },
    "papermill": {
     "duration": 1.110239,
     "end_time": "2024-11-02T13:53:58.727016",
     "exception": false,
     "start_time": "2024-11-02T13:53:57.616777",
     "status": "completed"
    },
    "tags": []
   },
   "outputs": [],
   "source": [
    "if SAVE_OUTPUT:\n",
    "    non_flagged_rows.to_parquet(f'{OUTPUT_DATA_PATH}/cleaned_data{YEAR}.parquet', index=False)\n",
    "    AADBT.to_parquet(f'{OUTPUT_DATA_PATH}/flagged/AADBT{YEAR}.parquet')\n",
    "    DBT.to_parquet(f'{OUTPUT_DATA_PATH}/flagged/DBT{YEAR}.parquet')\n",
    "\n"
   ]
  },
  {
   "cell_type": "code",
   "execution_count": 39,
   "id": "add8bab8",
   "metadata": {
    "execution": {
     "iopub.execute_input": "2024-11-02T13:53:58.786281Z",
     "iopub.status.busy": "2024-11-02T13:53:58.786281Z",
     "iopub.status.idle": "2024-11-02T13:53:58.802755Z",
     "shell.execute_reply": "2024-11-02T13:53:58.801744Z"
    },
    "papermill": {
     "duration": 0.049461,
     "end_time": "2024-11-02T13:53:58.804782",
     "exception": false,
     "start_time": "2024-11-02T13:53:58.755321",
     "status": "completed"
    },
    "tags": []
   },
   "outputs": [],
   "source": [
    "# Define the new row data\n",
    "new_row = {\n",
    "    'Year': YEAR,\n",
    "    'Rows': observations_number,\n",
    "    'Hour_count_4': hour_count_4,\n",
    "    'Hour_count_3': hour_count_3,\n",
    "    'Hour_count_2': hour_count_2,\n",
    "    'Hour_count_1': hour_count_1,\n",
    "    'Valid data:' :hour_count_4+hour_count_3+hour_count_2,\n",
    "    'Task1': data2.shape[0],\n",
    "    'Task2': data3.shape[0],\n",
    "    'Task3': data4.shape[0],\n",
    "    'Task4': data5.shape[0],\n",
    "    'Task5': data6.shape[0],\n",
    "    'Task6': data7.shape[0],\n",
    "    'Task7': data8.shape[0],\n",
    "    'Task8': data10.shape[0],\n",
    "    'Total': data10.shape[0],\n",
    "    'DBT': DBT.shape[0],\n",
    "    'AADBT': AADBT.shape[0]\n",
    "    \n",
    "\n",
    "}\n",
    "\n",
    "\n",
    "# Convert the new row data to a DataFrame\n",
    "new_row_df = pd.DataFrame([new_row])\n",
    "\n",
    "# Define the path to the CSV file\n",
    "csv_file_path = f\"{INPUT_PROCESSED_DATA_PATH}/log_flagging.csv\"\n",
    "\n",
    "# Check if the CSV file exists\n",
    "if Path(csv_file_path).is_file():\n",
    "    # If the file exists, append the new row\n",
    "    new_row_df.to_csv(csv_file_path, mode='a', header=False, index=False)\n",
    "else:\n",
    "    # If the file does not exist, create it with the new row\n",
    "    new_row_df.to_csv(csv_file_path, mode='w', header=True, index=False)"
   ]
  },
  {
   "cell_type": "markdown",
   "id": "72f06cbb",
   "metadata": {
    "papermill": {
     "duration": 0.02196,
     "end_time": "2024-11-02T13:53:58.846777",
     "exception": false,
     "start_time": "2024-11-02T13:53:58.824817",
     "status": "completed"
    },
    "tags": []
   },
   "source": [
    "## Watermark"
   ]
  },
  {
   "cell_type": "code",
   "execution_count": 40,
   "id": "c5731c86",
   "metadata": {
    "execution": {
     "iopub.execute_input": "2024-11-02T13:53:58.887800Z",
     "iopub.status.busy": "2024-11-02T13:53:58.886780Z",
     "iopub.status.idle": "2024-11-02T13:54:02.479301Z",
     "shell.execute_reply": "2024-11-02T13:54:02.479301Z"
    },
    "papermill": {
     "duration": 3.617222,
     "end_time": "2024-11-02T13:54:02.483002",
     "exception": false,
     "start_time": "2024-11-02T13:53:58.865780",
     "status": "completed"
    },
    "tags": []
   },
   "outputs": [],
   "source": [
    "!python -m pip install watermark --quiet"
   ]
  },
  {
   "cell_type": "code",
   "execution_count": 41,
   "id": "24698e34",
   "metadata": {
    "execution": {
     "iopub.execute_input": "2024-11-02T13:54:02.514785Z",
     "iopub.status.busy": "2024-11-02T13:54:02.514785Z",
     "iopub.status.idle": "2024-11-02T13:54:02.550529Z",
     "shell.execute_reply": "2024-11-02T13:54:02.550529Z"
    },
    "papermill": {
     "duration": 0.051793,
     "end_time": "2024-11-02T13:54:02.550529",
     "exception": false,
     "start_time": "2024-11-02T13:54:02.498736",
     "status": "completed"
    },
    "tags": []
   },
   "outputs": [],
   "source": [
    "%load_ext watermark"
   ]
  },
  {
   "cell_type": "code",
   "execution_count": 42,
   "id": "ba60194d",
   "metadata": {
    "execution": {
     "iopub.execute_input": "2024-11-02T13:54:02.593390Z",
     "iopub.status.busy": "2024-11-02T13:54:02.593390Z",
     "iopub.status.idle": "2024-11-02T13:54:02.601839Z",
     "shell.execute_reply": "2024-11-02T13:54:02.601839Z"
    },
    "papermill": {
     "duration": 0.039759,
     "end_time": "2024-11-02T13:54:02.601839",
     "exception": false,
     "start_time": "2024-11-02T13:54:02.562080",
     "status": "completed"
    },
    "tags": []
   },
   "outputs": [
    {
     "name": "stdout",
     "output_type": "stream",
     "text": [
      "Last updated: 2024-11-02T14:54:02.593390+01:00\n",
      "\n",
      "Python implementation: CPython\n",
      "Python version       : 3.11.9\n",
      "IPython version      : 8.25.0\n",
      "\n",
      "Compiler    : MSC v.1938 64 bit (AMD64)\n",
      "OS          : Windows\n",
      "Release     : 10\n",
      "Machine     : AMD64\n",
      "Processor   : AMD64 Family 25 Model 68 Stepping 1, AuthenticAMD\n",
      "CPU cores   : 16\n",
      "Architecture: 64bit\n",
      "\n"
     ]
    }
   ],
   "source": [
    "%watermark"
   ]
  },
  {
   "cell_type": "code",
   "execution_count": 43,
   "id": "d3eca88e",
   "metadata": {
    "execution": {
     "iopub.execute_input": "2024-11-02T13:54:02.656765Z",
     "iopub.status.busy": "2024-11-02T13:54:02.656765Z",
     "iopub.status.idle": "2024-11-02T13:54:02.679582Z",
     "shell.execute_reply": "2024-11-02T13:54:02.679582Z"
    },
    "papermill": {
     "duration": 0.054104,
     "end_time": "2024-11-02T13:54:02.679582",
     "exception": false,
     "start_time": "2024-11-02T13:54:02.625478",
     "status": "completed"
    },
    "tags": []
   },
   "outputs": [
    {
     "name": "stdout",
     "output_type": "stream",
     "text": [
      "plotly    : 5.22.0\n",
      "matplotlib: 3.8.4\n",
      "pandas    : 2.0.3\n",
      "geopandas : 0.13.2\n",
      "\n"
     ]
    }
   ],
   "source": [
    "%watermark --iversions"
   ]
  },
  {
   "cell_type": "code",
   "execution_count": 44,
   "id": "5c556174",
   "metadata": {
    "execution": {
     "iopub.execute_input": "2024-11-02T13:54:02.735641Z",
     "iopub.status.busy": "2024-11-02T13:54:02.735641Z",
     "iopub.status.idle": "2024-11-02T13:54:02.767152Z",
     "shell.execute_reply": "2024-11-02T13:54:02.765648Z"
    },
    "papermill": {
     "duration": 0.063923,
     "end_time": "2024-11-02T13:54:02.767660",
     "exception": false,
     "start_time": "2024-11-02T13:54:02.703737",
     "status": "completed"
    },
    "tags": []
   },
   "outputs": [
    {
     "name": "stderr",
     "output_type": "stream",
     "text": [
      "\"lsb_release\" no se reconoce como un comando interno o externo,\n",
      "programa o archivo por lotes ejecutable.\n"
     ]
    }
   ],
   "source": [
    "!lsb_release -a"
   ]
  }
 ],
 "metadata": {
  "kernelspec": {
   "display_name": "ridership_model",
   "language": "python",
   "name": "python3"
  },
  "language_info": {
   "codemirror_mode": {
    "name": "ipython",
    "version": 3
   },
   "file_extension": ".py",
   "mimetype": "text/x-python",
   "name": "python",
   "nbconvert_exporter": "python",
   "pygments_lexer": "ipython3",
   "version": "3.11.9"
  },
  "papermill": {
   "default_parameters": {},
   "duration": 32.298542,
   "end_time": "2024-11-02T13:54:03.686389",
   "environment_variables": {},
   "exception": null,
   "input_path": "03_luca_flag_counters.ipynb",
   "output_path": "03_luca_flag_counters.ipynb",
   "parameters": {
    "SAVE_OUTPUT": true,
    "YEAR": 2023
   },
   "start_time": "2024-11-02T13:53:31.387847",
   "version": "2.6.0"
  }
 },
 "nbformat": 4,
 "nbformat_minor": 5
}