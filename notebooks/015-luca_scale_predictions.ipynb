{
 "cells": [
  {
   "cell_type": "code",
   "execution_count": 1,
   "id": "34332b88",
   "metadata": {
    "execution": {
     "iopub.execute_input": "2025-03-14T15:01:54.244830Z",
     "iopub.status.busy": "2025-03-14T15:01:54.243834Z",
     "iopub.status.idle": "2025-03-14T15:01:54.250652Z",
     "shell.execute_reply": "2025-03-14T15:01:54.250652Z"
    },
    "executionInfo": {
     "elapsed": 196,
     "status": "ok",
     "timestamp": 1737216414526,
     "user": {
      "displayName": "Luca Liebscht",
      "userId": "11880140528704889234"
     },
     "user_tz": -60
    },
    "id": "I_hrwU9x479z",
    "papermill": {
     "duration": 0.013824,
     "end_time": "2025-03-14T15:01:54.251658",
     "exception": false,
     "start_time": "2025-03-14T15:01:54.237834",
     "status": "completed"
    }
   },
   "outputs": [],
   "source": [
    "# parameters\n",
    "INPUT_DATA_PATH = \"../data/interim/\"\n",
    "INPUT_PROCESSED_DATA_PATH = \"../data/processed/\"\n",
    "\n",
    "YEAR = 2017\n",
    "SAVE_OUTPUT = True\n",
    "OUTPUT_DATA_PATH = \"../data/processed/\"\n",
    "OUTPUT_FIGURES_PATH = \"../reports/figures/\""
   ]
  },
  {
   "cell_type": "code",
   "execution_count": 2,
   "id": "5c6e8545",
   "metadata": {
    "execution": {
     "iopub.execute_input": "2025-03-14T15:01:54.261716Z",
     "iopub.status.busy": "2025-03-14T15:01:54.261716Z",
     "iopub.status.idle": "2025-03-14T15:01:54.264679Z",
     "shell.execute_reply": "2025-03-14T15:01:54.264679Z"
    },
    "papermill": {
     "duration": 0.01041,
     "end_time": "2025-03-14T15:01:54.266108",
     "exception": false,
     "start_time": "2025-03-14T15:01:54.255698",
     "status": "completed"
    },
    "tags": [
     "injected-parameters"
    ]
   },
   "outputs": [],
   "source": [
    "# Parameters\n",
    "YEAR = 2024 \n",
    "SAVE_OUTPUT = True\n"
   ]
  },
  {
   "cell_type": "code",
   "execution_count": null,
   "id": "f96ccfa5",
   "metadata": {
    "colab": {
     "base_uri": "https://localhost:8080/"
    },
    "execution": {
     "iopub.execute_input": "2025-03-14T15:01:54.277134Z",
     "iopub.status.busy": "2025-03-14T15:01:54.277134Z",
     "iopub.status.idle": "2025-03-14T15:01:55.391379Z",
     "shell.execute_reply": "2025-03-14T15:01:55.391379Z"
    },
    "executionInfo": {
     "elapsed": 19072,
     "status": "ok",
     "timestamp": 1737216453714,
     "user": {
      "displayName": "Luca Liebscht",
      "userId": "11880140528704889234"
     },
     "user_tz": -60
    },
    "id": "HnDB36CLTIxL",
    "outputId": "5e9ddd8f-0300-40ec-cf32-75cf8dc5e328",
    "papermill": {
     "duration": 1.123307,
     "end_time": "2025-03-14T15:01:55.393427",
     "exception": false,
     "start_time": "2025-03-14T15:01:54.270120",
     "status": "completed"
    },
    "tags": []
   },
   "outputs": [],
   "source": [
    "# Import necessary libraries\n",
    "import geopandas as gpd\n",
    "import pandas as pd\n",
    "from pathlib import Path\n"
   ]
  },
  {
   "cell_type": "code",
   "execution_count": null,
   "id": "f14c2cdd",
   "metadata": {},
   "outputs": [],
   "source": [
    "def read_and_merge_data(dataset, year,id_col):\n",
    "    # Read count data\n",
    "    aadbt_data = pd.read_parquet(Path(INPUT_PROCESSED_DATA_PATH) / f\"{dataset}_aadbt{year}.parquet\")\n",
    "    try:\n",
    "        aadbt_data = aadbt_data[[id_col, 'AADBT', 'Year']]\n",
    "    except KeyError:\n",
    "        aadbt_data[\"Year\"]=year\n",
    "        aadbt_data = aadbt_data[[id_col, 'AADBT', 'Year']]\n",
    "    print(\"AADBT\", aadbt_data.shape)\n",
    "    \n",
    "    # Read station data\n",
    "    try:\n",
    "        station_data = gpd.read_parquet(Path(INPUT_DATA_PATH) / f\"{dataset}/{dataset}_stations.parquet\")\n",
    "    except FileNotFoundError:\n",
    "        station_data = gpd.read_parquet(Path(INPUT_DATA_PATH) / f\"{dataset}/stations_data{year}.parquet\")\n",
    "    station_data = station_data[[id_col, 'Desc_aforament', 'direction_counter', 'directionality', 'geometry']]\n",
    "    print(\"Station\", station_data.shape)\n",
    "    \n",
    "    # Join the data\n",
    "    merged_data = pd.merge(station_data, aadbt_data, how='inner', left_on=id_col, right_on=id_col)\n",
    "    print(\"Joined:\", merged_data.shape)\n",
    "    print(merged_data.columns)\n",
    "    \n",
    "    return merged_data"
   ]
  },
  {
   "cell_type": "markdown",
   "id": "06a8ab48",
   "metadata": {
    "papermill": {
     "duration": 0.004997,
     "end_time": "2025-03-14T15:01:55.403523",
     "exception": false,
     "start_time": "2025-03-14T15:01:55.398526",
     "status": "completed"
    },
    "tags": []
   },
   "source": [
    "# Load data"
   ]
  },
  {
   "cell_type": "code",
   "execution_count": 47,
   "id": "b62fba10",
   "metadata": {},
   "outputs": [
    {
     "name": "stdout",
     "output_type": "stream",
     "text": [
      "AADBT (26, 3)\n",
      "Station (55, 5)\n",
      "Joined: (26, 7)\n",
      "Index(['ROOT_ID', 'Desc_aforament', 'direction_counter', 'directionality',\n",
      "       'geometry', 'AADBT', 'Year'],\n",
      "      dtype='object')\n"
     ]
    },
    {
     "data": {
      "text/html": [
       "<div>\n",
       "<style scoped>\n",
       "    .dataframe tbody tr th:only-of-type {\n",
       "        vertical-align: middle;\n",
       "    }\n",
       "\n",
       "    .dataframe tbody tr th {\n",
       "        vertical-align: top;\n",
       "    }\n",
       "\n",
       "    .dataframe thead th {\n",
       "        text-align: right;\n",
       "    }\n",
       "</style>\n",
       "<table border=\"1\" class=\"dataframe\">\n",
       "  <thead>\n",
       "    <tr style=\"text-align: right;\">\n",
       "      <th></th>\n",
       "      <th>ROOT_ID</th>\n",
       "      <th>Desc_aforament</th>\n",
       "      <th>direction_counter</th>\n",
       "      <th>directionality</th>\n",
       "      <th>geometry</th>\n",
       "      <th>AADBT</th>\n",
       "      <th>Year</th>\n",
       "    </tr>\n",
       "  </thead>\n",
       "  <tbody>\n",
       "    <tr>\n",
       "      <th>0</th>\n",
       "      <td>1048273</td>\n",
       "      <td>C/ de Pi i Margall 114</td>\n",
       "      <td>N</td>\n",
       "      <td>NaN</td>\n",
       "      <td>POINT (430189.262 4584777.934)</td>\n",
       "      <td>383.739921</td>\n",
       "      <td>2024</td>\n",
       "    </tr>\n",
       "    <tr>\n",
       "      <th>1</th>\n",
       "      <td>1048896</td>\n",
       "      <td>C/ Jocs Florals 175</td>\n",
       "      <td>SE</td>\n",
       "      <td>NaN</td>\n",
       "      <td>POINT (427815.131 4580216.804)</td>\n",
       "      <td>488.159634</td>\n",
       "      <td>2024</td>\n",
       "    </tr>\n",
       "    <tr>\n",
       "      <th>2</th>\n",
       "      <td>1047975</td>\n",
       "      <td>Pg. Sant Joan 8</td>\n",
       "      <td>NW</td>\n",
       "      <td>NaN</td>\n",
       "      <td>POINT (431434.433 4582633.172)</td>\n",
       "      <td>4052.869891</td>\n",
       "      <td>2024</td>\n",
       "    </tr>\n",
       "    <tr>\n",
       "      <th>3</th>\n",
       "      <td>1048955</td>\n",
       "      <td>C/Rosselló 161</td>\n",
       "      <td>NE</td>\n",
       "      <td>NaN</td>\n",
       "      <td>POINT (429152.250 4582499.693)</td>\n",
       "      <td>215.127711</td>\n",
       "      <td>2024</td>\n",
       "    </tr>\n",
       "    <tr>\n",
       "      <th>4</th>\n",
       "      <td>1050910</td>\n",
       "      <td>Passeig Maragall, 242</td>\n",
       "      <td>SE</td>\n",
       "      <td>NaN</td>\n",
       "      <td>POINT (430865.603 4586454.646)</td>\n",
       "      <td>504.215104</td>\n",
       "      <td>2024</td>\n",
       "    </tr>\n",
       "  </tbody>\n",
       "</table>\n",
       "</div>"
      ],
      "text/plain": [
       "   ROOT_ID          Desc_aforament direction_counter  directionality  \\\n",
       "0  1048273  C/ de Pi i Margall 114                 N             NaN   \n",
       "1  1048896     C/ Jocs Florals 175                SE             NaN   \n",
       "2  1047975         Pg. Sant Joan 8                NW             NaN   \n",
       "3  1048955          C/Rosselló 161                NE             NaN   \n",
       "4  1050910   Passeig Maragall, 242                SE             NaN   \n",
       "\n",
       "                         geometry        AADBT  Year  \n",
       "0  POINT (430189.262 4584777.934)   383.739921  2024  \n",
       "1  POINT (427815.131 4580216.804)   488.159634  2024  \n",
       "2  POINT (431434.433 4582633.172)  4052.869891  2024  \n",
       "3  POINT (429152.250 4582499.693)   215.127711  2024  \n",
       "4  POINT (430865.603 4586454.646)   504.215104  2024  "
      ]
     },
     "execution_count": 47,
     "metadata": {},
     "output_type": "execute_result"
    }
   ],
   "source": [
    "bicizen = read_and_merge_data(\"bicizen\", YEAR,'ROOT_ID')\n",
    "bicizen.head()"
   ]
  },
  {
   "cell_type": "code",
   "execution_count": null,
   "id": "dadd59a9",
   "metadata": {},
   "outputs": [
    {
     "name": "stdout",
     "output_type": "stream",
     "text": [
      "AADBT (5, 3)\n",
      "Station (6, 5)\n",
      "Joined: (5, 7)\n",
      "Index(['ROOT_ID', 'Desc_aforament', 'direction_counter', 'directionality',\n",
      "       'geometry', 'AADBT', 'Year'],\n",
      "      dtype='object')\n"
     ]
    },
    {
     "data": {
      "text/html": [
       "<div>\n",
       "<style scoped>\n",
       "    .dataframe tbody tr th:only-of-type {\n",
       "        vertical-align: middle;\n",
       "    }\n",
       "\n",
       "    .dataframe tbody tr th {\n",
       "        vertical-align: top;\n",
       "    }\n",
       "\n",
       "    .dataframe thead th {\n",
       "        text-align: right;\n",
       "    }\n",
       "</style>\n",
       "<table border=\"1\" class=\"dataframe\">\n",
       "  <thead>\n",
       "    <tr style=\"text-align: right;\">\n",
       "      <th></th>\n",
       "      <th>ROOT_ID</th>\n",
       "      <th>Desc_aforament</th>\n",
       "      <th>direction_counter</th>\n",
       "      <th>directionality</th>\n",
       "      <th>geometry</th>\n",
       "      <th>AADBT</th>\n",
       "      <th>Year</th>\n",
       "    </tr>\n",
       "  </thead>\n",
       "  <tbody>\n",
       "    <tr>\n",
       "      <th>0</th>\n",
       "      <td>1095689</td>\n",
       "      <td>Diagonal Plaza 5 Oros</td>\n",
       "      <td>NE</td>\n",
       "      <td>Unidirectional</td>\n",
       "      <td>POINT (2.15908 41.39633)</td>\n",
       "      <td>4541.630416</td>\n",
       "      <td>2024</td>\n",
       "    </tr>\n",
       "    <tr>\n",
       "      <th>1</th>\n",
       "      <td>1095690</td>\n",
       "      <td>Diagonal Amb Ganduxer</td>\n",
       "      <td>SW</td>\n",
       "      <td>Bidirectional</td>\n",
       "      <td>POINT (2.13942 41.39164)</td>\n",
       "      <td>5487.170484</td>\n",
       "      <td>2024</td>\n",
       "    </tr>\n",
       "    <tr>\n",
       "      <th>2</th>\n",
       "      <td>1095691</td>\n",
       "      <td>Meridiana Amb Aragó</td>\n",
       "      <td>N</td>\n",
       "      <td>Bidirectional</td>\n",
       "      <td>POINT (2.18686 41.40906)</td>\n",
       "      <td>4877.750214</td>\n",
       "      <td>2024</td>\n",
       "    </tr>\n",
       "    <tr>\n",
       "      <th>3</th>\n",
       "      <td>1095692</td>\n",
       "      <td>Diagonal Amb Glories</td>\n",
       "      <td>NE</td>\n",
       "      <td>Bidirectional</td>\n",
       "      <td>POINT (2.18353 41.40272)</td>\n",
       "      <td>2999.612144</td>\n",
       "      <td>2024</td>\n",
       "    </tr>\n",
       "    <tr>\n",
       "      <th>4</th>\n",
       "      <td>1095693</td>\n",
       "      <td>Gran Via Amb La Bordeta</td>\n",
       "      <td>SW</td>\n",
       "      <td>Bidirectional</td>\n",
       "      <td>POINT (2.14703 41.37364)</td>\n",
       "      <td>1942.134539</td>\n",
       "      <td>2024</td>\n",
       "    </tr>\n",
       "  </tbody>\n",
       "</table>\n",
       "</div>"
      ],
      "text/plain": [
       "   ROOT_ID           Desc_aforament direction_counter  directionality  \\\n",
       "0  1095689    Diagonal Plaza 5 Oros                NE  Unidirectional   \n",
       "1  1095690    Diagonal Amb Ganduxer                SW   Bidirectional   \n",
       "2  1095691      Meridiana Amb Aragó                 N   Bidirectional   \n",
       "3  1095692     Diagonal Amb Glories                NE   Bidirectional   \n",
       "4  1095693  Gran Via Amb La Bordeta                SW   Bidirectional   \n",
       "\n",
       "                   geometry        AADBT  Year  \n",
       "0  POINT (2.15908 41.39633)  4541.630416  2024  \n",
       "1  POINT (2.13942 41.39164)  5487.170484  2024  \n",
       "2  POINT (2.18686 41.40906)  4877.750214  2024  \n",
       "3  POINT (2.18353 41.40272)  2999.612144  2024  \n",
       "4  POINT (2.14703 41.37364)  1942.134539  2024  "
      ]
     },
     "execution_count": 41,
     "metadata": {},
     "output_type": "execute_result"
    }
   ],
   "source": [
    "bacc = read_and_merge_data(\"bacc\", YEAR,'ROOT_ID')\n",
    "bacc.head()"
   ]
  },
  {
   "cell_type": "code",
   "execution_count": 60,
   "id": "a949826c",
   "metadata": {},
   "outputs": [
    {
     "name": "stdout",
     "output_type": "stream",
     "text": [
      "AADBT (867, 3)\n",
      "Station (381, 3)\n",
      "Joined: (381, 5)\n",
      "Index(['id', 'Desc_aforament', 'geometry', 'AADBT', 'Year'], dtype='object')\n"
     ]
    },
    {
     "data": {
      "text/html": [
       "<div>\n",
       "<style scoped>\n",
       "    .dataframe tbody tr th:only-of-type {\n",
       "        vertical-align: middle;\n",
       "    }\n",
       "\n",
       "    .dataframe tbody tr th {\n",
       "        vertical-align: top;\n",
       "    }\n",
       "\n",
       "    .dataframe thead th {\n",
       "        text-align: right;\n",
       "    }\n",
       "</style>\n",
       "<table border=\"1\" class=\"dataframe\">\n",
       "  <thead>\n",
       "    <tr style=\"text-align: right;\">\n",
       "      <th></th>\n",
       "      <th>id</th>\n",
       "      <th>Desc_aforament</th>\n",
       "      <th>geometry</th>\n",
       "      <th>AADBT</th>\n",
       "      <th>Year</th>\n",
       "    </tr>\n",
       "  </thead>\n",
       "  <tbody>\n",
       "    <tr>\n",
       "      <th>0</th>\n",
       "      <td>20001</td>\n",
       "      <td>DIPUTACIÓ - COMTE D'URGELL (carril BICI)</td>\n",
       "      <td>POINT (2.15709 41.38300)</td>\n",
       "      <td>3886.0</td>\n",
       "      <td>2024</td>\n",
       "    </tr>\n",
       "    <tr>\n",
       "      <th>1</th>\n",
       "      <td>20002</td>\n",
       "      <td>DIPUTACIÓ - COMTE BORELL (carrril BICI)</td>\n",
       "      <td>POINT (2.15709 41.38300)</td>\n",
       "      <td>8083.0</td>\n",
       "      <td>2024</td>\n",
       "    </tr>\n",
       "    <tr>\n",
       "      <th>2</th>\n",
       "      <td>20003</td>\n",
       "      <td>GRAN VIA DE LES CORTS CATALANES - MUNTANER (ca...</td>\n",
       "      <td>POINT (2.16165 41.38459)</td>\n",
       "      <td>6807.0</td>\n",
       "      <td>2024</td>\n",
       "    </tr>\n",
       "    <tr>\n",
       "      <th>3</th>\n",
       "      <td>20005</td>\n",
       "      <td>MUNTANER - GRAN VIA DE LES CORTS CATALANES (ca...</td>\n",
       "      <td>POINT (2.16310 41.38388)</td>\n",
       "      <td>2953.0</td>\n",
       "      <td>2024</td>\n",
       "    </tr>\n",
       "    <tr>\n",
       "      <th>4</th>\n",
       "      <td>20006</td>\n",
       "      <td>MUNTANER - SEPULVEDA (carril BICI sentit munta...</td>\n",
       "      <td>POINT (2.16313 41.38388)</td>\n",
       "      <td>2929.0</td>\n",
       "      <td>2024</td>\n",
       "    </tr>\n",
       "  </tbody>\n",
       "</table>\n",
       "</div>"
      ],
      "text/plain": [
       "      id                                     Desc_aforament  \\\n",
       "0  20001           DIPUTACIÓ - COMTE D'URGELL (carril BICI)   \n",
       "1  20002            DIPUTACIÓ - COMTE BORELL (carrril BICI)   \n",
       "2  20003  GRAN VIA DE LES CORTS CATALANES - MUNTANER (ca...   \n",
       "3  20005  MUNTANER - GRAN VIA DE LES CORTS CATALANES (ca...   \n",
       "4  20006  MUNTANER - SEPULVEDA (carril BICI sentit munta...   \n",
       "\n",
       "                   geometry   AADBT  Year  \n",
       "0  POINT (2.15709 41.38300)  3886.0  2024  \n",
       "1  POINT (2.15709 41.38300)  8083.0  2024  \n",
       "2  POINT (2.16165 41.38459)  6807.0  2024  \n",
       "3  POINT (2.16310 41.38388)  2953.0  2024  \n",
       "4  POINT (2.16313 41.38388)  2929.0  2024  "
      ]
     },
     "execution_count": 60,
     "metadata": {},
     "output_type": "execute_result"
    }
   ],
   "source": [
    "# Read count data\n",
    "dataset = \"counter\"\n",
    "aadbt_data = pd.read_parquet(Path(INPUT_PROCESSED_DATA_PATH) / f\"{dataset}_aadbt{YEAR}.parquet\")\n",
    "aadbt_data[\"Year\"]=YEAR\n",
    "aadbt_data = aadbt_data[[\"id\", 'AADBT', 'Year']]\n",
    "print(\"AADBT\", aadbt_data.shape)\n",
    "\n",
    "# Read station data\n",
    "\n",
    "station_data = gpd.read_parquet(Path(INPUT_DATA_PATH) / f\"{dataset}/stations_data{YEAR}.parquet\")\n",
    "station_data=station_data.rename(columns={\"Id_aforament\": \"id\"})\n",
    "station_data['id'] = station_data['id'].astype(int)\n",
    "station_data = station_data[[\"id\", 'Desc_aforament', 'geometry']]\n",
    "print(\"Station\", station_data.shape)\n",
    "\n",
    "# Join the data\n",
    "merged_data = pd.merge(station_data, aadbt_data, how='inner', left_on=\"id\", right_on=\"id\")\n",
    "print(\"Joined:\", merged_data.shape)\n",
    "print(merged_data.columns)\n",
    "counters = merged_data\n",
    "counters.head()"
   ]
  }
 ],
 "metadata": {
  "colab": {
   "collapsed_sections": [
    "5bf315c7",
    "eebb1a73",
    "12dd37b6"
   ],
   "provenance": []
  },
  "kernelspec": {
   "display_name": "ridership_model",
   "language": "python",
   "name": "python3"
  },
  "language_info": {
   "codemirror_mode": {
    "name": "ipython",
    "version": 3
   },
   "file_extension": ".py",
   "mimetype": "text/x-python",
   "name": "python",
   "nbconvert_exporter": "python",
   "pygments_lexer": "ipython3",
   "version": "3.11.9"
  },
  "papermill": {
   "default_parameters": {},
   "duration": 4.685965,
   "end_time": "2025-03-14T15:01:57.534804",
   "environment_variables": {},
   "exception": null,
   "input_path": "013-luca_traffic_indices_calculate.ipynb",
   "output_path": "013-luca_traffic_indices_calculate.ipynb",
   "parameters": {
    "SAVE_OUTPUT": true,
    "YEAR": 2024
   },
   "start_time": "2025-03-14T15:01:52.848839",
   "version": "2.6.0"
  }
 },
 "nbformat": 4,
 "nbformat_minor": 5
}
