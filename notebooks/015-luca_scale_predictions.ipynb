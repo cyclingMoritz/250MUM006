{
 "cells": [
  {
   "cell_type": "code",
   "execution_count": 75,
   "id": "34332b88",
   "metadata": {
    "execution": {
     "iopub.execute_input": "2025-03-14T15:01:54.244830Z",
     "iopub.status.busy": "2025-03-14T15:01:54.243834Z",
     "iopub.status.idle": "2025-03-14T15:01:54.250652Z",
     "shell.execute_reply": "2025-03-14T15:01:54.250652Z"
    },
    "executionInfo": {
     "elapsed": 196,
     "status": "ok",
     "timestamp": 1737216414526,
     "user": {
      "displayName": "Luca Liebscht",
      "userId": "11880140528704889234"
     },
     "user_tz": -60
    },
    "id": "I_hrwU9x479z",
    "papermill": {
     "duration": 0.013824,
     "end_time": "2025-03-14T15:01:54.251658",
     "exception": false,
     "start_time": "2025-03-14T15:01:54.237834",
     "status": "completed"
    }
   },
   "outputs": [],
   "source": [
    "# parameters\n",
    "INPUT_DATA_PATH = \"../data/interim/\"\n",
    "INPUT_PROCESSED_DATA_PATH = \"../data/processed/\"\n",
    "\n",
    "YEAR = 2017\n",
    "SAVE_OUTPUT = True\n",
    "OUTPUT_DATA_PATH = \"../data/processed/\"\n",
    "OUTPUT_FIGURES_PATH = \"../reports/figures/\""
   ]
  },
  {
   "cell_type": "code",
   "execution_count": 76,
   "id": "5c6e8545",
   "metadata": {
    "execution": {
     "iopub.execute_input": "2025-03-14T15:01:54.261716Z",
     "iopub.status.busy": "2025-03-14T15:01:54.261716Z",
     "iopub.status.idle": "2025-03-14T15:01:54.264679Z",
     "shell.execute_reply": "2025-03-14T15:01:54.264679Z"
    },
    "papermill": {
     "duration": 0.01041,
     "end_time": "2025-03-14T15:01:54.266108",
     "exception": false,
     "start_time": "2025-03-14T15:01:54.255698",
     "status": "completed"
    },
    "tags": [
     "injected-parameters"
    ]
   },
   "outputs": [],
   "source": [
    "# Parameters\n",
    "YEAR = 2024 \n",
    "SAVE_OUTPUT = True\n"
   ]
  },
  {
   "cell_type": "code",
   "execution_count": 77,
   "id": "f96ccfa5",
   "metadata": {
    "colab": {
     "base_uri": "https://localhost:8080/"
    },
    "execution": {
     "iopub.execute_input": "2025-03-14T15:01:54.277134Z",
     "iopub.status.busy": "2025-03-14T15:01:54.277134Z",
     "iopub.status.idle": "2025-03-14T15:01:55.391379Z",
     "shell.execute_reply": "2025-03-14T15:01:55.391379Z"
    },
    "executionInfo": {
     "elapsed": 19072,
     "status": "ok",
     "timestamp": 1737216453714,
     "user": {
      "displayName": "Luca Liebscht",
      "userId": "11880140528704889234"
     },
     "user_tz": -60
    },
    "id": "HnDB36CLTIxL",
    "outputId": "5e9ddd8f-0300-40ec-cf32-75cf8dc5e328",
    "papermill": {
     "duration": 1.123307,
     "end_time": "2025-03-14T15:01:55.393427",
     "exception": false,
     "start_time": "2025-03-14T15:01:54.270120",
     "status": "completed"
    },
    "tags": []
   },
   "outputs": [],
   "source": [
    "# Import necessary libraries\n",
    "import geopandas as gpd\n",
    "import pandas as pd\n",
    "from pathlib import Path\n"
   ]
  },
  {
   "cell_type": "code",
   "execution_count": 78,
   "id": "f14c2cdd",
   "metadata": {},
   "outputs": [],
   "source": [
    "def read_and_merge_data(dataset, year,id_col):\n",
    "    # Read count data\n",
    "    aadbt_data = pd.read_parquet(Path(INPUT_PROCESSED_DATA_PATH) / f\"{dataset}_aadbt{year}.parquet\")\n",
    "    try:\n",
    "        aadbt_data = aadbt_data[[id_col, 'AADBT', 'Year']]\n",
    "    except KeyError:\n",
    "        aadbt_data[\"Year\"]=year\n",
    "        aadbt_data = aadbt_data[[id_col, 'AADBT', 'Year']]\n",
    "    print(\"AADBT\", aadbt_data.shape)\n",
    "    \n",
    "    # Read station data\n",
    "    try:\n",
    "        station_data = gpd.read_parquet(Path(INPUT_DATA_PATH) / f\"{dataset}/{dataset}_stations.parquet\")\n",
    "    except FileNotFoundError:\n",
    "        station_data = gpd.read_parquet(Path(INPUT_DATA_PATH) / f\"{dataset}/stations_data{year}.parquet\")\n",
    "    station_data = station_data[[id_col, 'Desc_aforament', 'direction_counter', 'directionality', 'geometry']]\n",
    "    print(\"Station\", station_data.shape)\n",
    "    \n",
    "    # Join the data\n",
    "    merged_data = pd.merge(station_data, aadbt_data, how='inner', left_on=id_col, right_on=id_col)\n",
    "    print(\"Joined:\", merged_data.shape)\n",
    "    print(merged_data.columns)\n",
    "    \n",
    "    return merged_data"
   ]
  },
  {
   "cell_type": "markdown",
   "id": "06a8ab48",
   "metadata": {
    "papermill": {
     "duration": 0.004997,
     "end_time": "2025-03-14T15:01:55.403523",
     "exception": false,
     "start_time": "2025-03-14T15:01:55.398526",
     "status": "completed"
    },
    "tags": []
   },
   "source": [
    "# Load data"
   ]
  },
  {
   "cell_type": "code",
   "execution_count": 79,
   "id": "b62fba10",
   "metadata": {},
   "outputs": [
    {
     "name": "stdout",
     "output_type": "stream",
     "text": [
      "AADBT (26, 3)\n",
      "Station (55, 5)\n",
      "Joined: (26, 7)\n",
      "Index(['ROOT_ID', 'Desc_aforament', 'direction_counter', 'directionality',\n",
      "       'geometry', 'AADBT', 'Year'],\n",
      "      dtype='object')\n"
     ]
    },
    {
     "data": {
      "text/html": [
       "<div>\n",
       "<style scoped>\n",
       "    .dataframe tbody tr th:only-of-type {\n",
       "        vertical-align: middle;\n",
       "    }\n",
       "\n",
       "    .dataframe tbody tr th {\n",
       "        vertical-align: top;\n",
       "    }\n",
       "\n",
       "    .dataframe thead th {\n",
       "        text-align: right;\n",
       "    }\n",
       "</style>\n",
       "<table border=\"1\" class=\"dataframe\">\n",
       "  <thead>\n",
       "    <tr style=\"text-align: right;\">\n",
       "      <th></th>\n",
       "      <th>ROOT_ID</th>\n",
       "      <th>Desc_aforament</th>\n",
       "      <th>direction_counter</th>\n",
       "      <th>directionality</th>\n",
       "      <th>geometry</th>\n",
       "      <th>AADBT</th>\n",
       "      <th>Year</th>\n",
       "    </tr>\n",
       "  </thead>\n",
       "  <tbody>\n",
       "    <tr>\n",
       "      <th>0</th>\n",
       "      <td>1048273</td>\n",
       "      <td>C/ de Pi i Margall 114</td>\n",
       "      <td>N</td>\n",
       "      <td>NaN</td>\n",
       "      <td>POINT (430189.262 4584777.934)</td>\n",
       "      <td>383.739921</td>\n",
       "      <td>2024</td>\n",
       "    </tr>\n",
       "    <tr>\n",
       "      <th>1</th>\n",
       "      <td>1048896</td>\n",
       "      <td>C/ Jocs Florals 175</td>\n",
       "      <td>SE</td>\n",
       "      <td>NaN</td>\n",
       "      <td>POINT (427815.131 4580216.804)</td>\n",
       "      <td>488.159634</td>\n",
       "      <td>2024</td>\n",
       "    </tr>\n",
       "    <tr>\n",
       "      <th>2</th>\n",
       "      <td>1047975</td>\n",
       "      <td>Pg. Sant Joan 8</td>\n",
       "      <td>NW</td>\n",
       "      <td>NaN</td>\n",
       "      <td>POINT (431434.433 4582633.172)</td>\n",
       "      <td>4052.869891</td>\n",
       "      <td>2024</td>\n",
       "    </tr>\n",
       "    <tr>\n",
       "      <th>3</th>\n",
       "      <td>1048955</td>\n",
       "      <td>C/Rosselló 161</td>\n",
       "      <td>NE</td>\n",
       "      <td>NaN</td>\n",
       "      <td>POINT (429152.250 4582499.693)</td>\n",
       "      <td>215.127711</td>\n",
       "      <td>2024</td>\n",
       "    </tr>\n",
       "    <tr>\n",
       "      <th>4</th>\n",
       "      <td>1050910</td>\n",
       "      <td>Passeig Maragall, 242</td>\n",
       "      <td>SE</td>\n",
       "      <td>NaN</td>\n",
       "      <td>POINT (430865.603 4586454.646)</td>\n",
       "      <td>504.215104</td>\n",
       "      <td>2024</td>\n",
       "    </tr>\n",
       "  </tbody>\n",
       "</table>\n",
       "</div>"
      ],
      "text/plain": [
       "   ROOT_ID          Desc_aforament direction_counter  directionality  \\\n",
       "0  1048273  C/ de Pi i Margall 114                 N             NaN   \n",
       "1  1048896     C/ Jocs Florals 175                SE             NaN   \n",
       "2  1047975         Pg. Sant Joan 8                NW             NaN   \n",
       "3  1048955          C/Rosselló 161                NE             NaN   \n",
       "4  1050910   Passeig Maragall, 242                SE             NaN   \n",
       "\n",
       "                         geometry        AADBT  Year  \n",
       "0  POINT (430189.262 4584777.934)   383.739921  2024  \n",
       "1  POINT (427815.131 4580216.804)   488.159634  2024  \n",
       "2  POINT (431434.433 4582633.172)  4052.869891  2024  \n",
       "3  POINT (429152.250 4582499.693)   215.127711  2024  \n",
       "4  POINT (430865.603 4586454.646)   504.215104  2024  "
      ]
     },
     "execution_count": 79,
     "metadata": {},
     "output_type": "execute_result"
    }
   ],
   "source": [
    "bicizen = read_and_merge_data(\"bicizen\", YEAR,'ROOT_ID')\n",
    "bicizen.head()"
   ]
  },
  {
   "cell_type": "code",
   "execution_count": 80,
   "id": "dadd59a9",
   "metadata": {},
   "outputs": [
    {
     "name": "stdout",
     "output_type": "stream",
     "text": [
      "AADBT (5, 3)\n",
      "Station (6, 5)\n",
      "Joined: (5, 7)\n",
      "Index(['ROOT_ID', 'Desc_aforament', 'direction_counter', 'directionality',\n",
      "       'geometry', 'AADBT', 'Year'],\n",
      "      dtype='object')\n"
     ]
    },
    {
     "data": {
      "text/html": [
       "<div>\n",
       "<style scoped>\n",
       "    .dataframe tbody tr th:only-of-type {\n",
       "        vertical-align: middle;\n",
       "    }\n",
       "\n",
       "    .dataframe tbody tr th {\n",
       "        vertical-align: top;\n",
       "    }\n",
       "\n",
       "    .dataframe thead th {\n",
       "        text-align: right;\n",
       "    }\n",
       "</style>\n",
       "<table border=\"1\" class=\"dataframe\">\n",
       "  <thead>\n",
       "    <tr style=\"text-align: right;\">\n",
       "      <th></th>\n",
       "      <th>ROOT_ID</th>\n",
       "      <th>Desc_aforament</th>\n",
       "      <th>direction_counter</th>\n",
       "      <th>directionality</th>\n",
       "      <th>geometry</th>\n",
       "      <th>AADBT</th>\n",
       "      <th>Year</th>\n",
       "    </tr>\n",
       "  </thead>\n",
       "  <tbody>\n",
       "    <tr>\n",
       "      <th>0</th>\n",
       "      <td>1095689</td>\n",
       "      <td>Diagonal Plaza 5 Oros</td>\n",
       "      <td>NE</td>\n",
       "      <td>Unidirectional</td>\n",
       "      <td>POINT (2.15908 41.39633)</td>\n",
       "      <td>4541.630416</td>\n",
       "      <td>2024</td>\n",
       "    </tr>\n",
       "    <tr>\n",
       "      <th>1</th>\n",
       "      <td>1095690</td>\n",
       "      <td>Diagonal Amb Ganduxer</td>\n",
       "      <td>SW</td>\n",
       "      <td>Bidirectional</td>\n",
       "      <td>POINT (2.13942 41.39164)</td>\n",
       "      <td>5487.170484</td>\n",
       "      <td>2024</td>\n",
       "    </tr>\n",
       "    <tr>\n",
       "      <th>2</th>\n",
       "      <td>1095691</td>\n",
       "      <td>Meridiana Amb Aragó</td>\n",
       "      <td>N</td>\n",
       "      <td>Bidirectional</td>\n",
       "      <td>POINT (2.18686 41.40906)</td>\n",
       "      <td>4877.750214</td>\n",
       "      <td>2024</td>\n",
       "    </tr>\n",
       "    <tr>\n",
       "      <th>3</th>\n",
       "      <td>1095692</td>\n",
       "      <td>Diagonal Amb Glories</td>\n",
       "      <td>NE</td>\n",
       "      <td>Bidirectional</td>\n",
       "      <td>POINT (2.18353 41.40272)</td>\n",
       "      <td>2999.612144</td>\n",
       "      <td>2024</td>\n",
       "    </tr>\n",
       "    <tr>\n",
       "      <th>4</th>\n",
       "      <td>1095693</td>\n",
       "      <td>Gran Via Amb La Bordeta</td>\n",
       "      <td>SW</td>\n",
       "      <td>Bidirectional</td>\n",
       "      <td>POINT (2.14703 41.37364)</td>\n",
       "      <td>1942.134539</td>\n",
       "      <td>2024</td>\n",
       "    </tr>\n",
       "  </tbody>\n",
       "</table>\n",
       "</div>"
      ],
      "text/plain": [
       "   ROOT_ID           Desc_aforament direction_counter  directionality  \\\n",
       "0  1095689    Diagonal Plaza 5 Oros                NE  Unidirectional   \n",
       "1  1095690    Diagonal Amb Ganduxer                SW   Bidirectional   \n",
       "2  1095691      Meridiana Amb Aragó                 N   Bidirectional   \n",
       "3  1095692     Diagonal Amb Glories                NE   Bidirectional   \n",
       "4  1095693  Gran Via Amb La Bordeta                SW   Bidirectional   \n",
       "\n",
       "                   geometry        AADBT  Year  \n",
       "0  POINT (2.15908 41.39633)  4541.630416  2024  \n",
       "1  POINT (2.13942 41.39164)  5487.170484  2024  \n",
       "2  POINT (2.18686 41.40906)  4877.750214  2024  \n",
       "3  POINT (2.18353 41.40272)  2999.612144  2024  \n",
       "4  POINT (2.14703 41.37364)  1942.134539  2024  "
      ]
     },
     "execution_count": 80,
     "metadata": {},
     "output_type": "execute_result"
    }
   ],
   "source": [
    "bacc = read_and_merge_data(\"bacc\", YEAR,'ROOT_ID')\n",
    "bacc.head()"
   ]
  },
  {
   "cell_type": "code",
   "execution_count": 81,
   "id": "a949826c",
   "metadata": {},
   "outputs": [
    {
     "name": "stdout",
     "output_type": "stream",
     "text": [
      "AADBT (867, 3)\n",
      "Station (381, 3)\n",
      "Joined: (381, 5)\n",
      "Index(['id', 'Desc_aforament', 'geometry', 'AADBT', 'Year'], dtype='object')\n"
     ]
    },
    {
     "data": {
      "text/html": [
       "<div>\n",
       "<style scoped>\n",
       "    .dataframe tbody tr th:only-of-type {\n",
       "        vertical-align: middle;\n",
       "    }\n",
       "\n",
       "    .dataframe tbody tr th {\n",
       "        vertical-align: top;\n",
       "    }\n",
       "\n",
       "    .dataframe thead th {\n",
       "        text-align: right;\n",
       "    }\n",
       "</style>\n",
       "<table border=\"1\" class=\"dataframe\">\n",
       "  <thead>\n",
       "    <tr style=\"text-align: right;\">\n",
       "      <th></th>\n",
       "      <th>id</th>\n",
       "      <th>Desc_aforament</th>\n",
       "      <th>geometry</th>\n",
       "      <th>AADBT</th>\n",
       "      <th>Year</th>\n",
       "    </tr>\n",
       "  </thead>\n",
       "  <tbody>\n",
       "    <tr>\n",
       "      <th>0</th>\n",
       "      <td>20001</td>\n",
       "      <td>DIPUTACIÓ - COMTE D'URGELL (carril BICI)</td>\n",
       "      <td>POINT (2.15709 41.38300)</td>\n",
       "      <td>3886.0</td>\n",
       "      <td>2024</td>\n",
       "    </tr>\n",
       "    <tr>\n",
       "      <th>1</th>\n",
       "      <td>20002</td>\n",
       "      <td>DIPUTACIÓ - COMTE BORELL (carrril BICI)</td>\n",
       "      <td>POINT (2.15709 41.38300)</td>\n",
       "      <td>8083.0</td>\n",
       "      <td>2024</td>\n",
       "    </tr>\n",
       "    <tr>\n",
       "      <th>2</th>\n",
       "      <td>20003</td>\n",
       "      <td>GRAN VIA DE LES CORTS CATALANES - MUNTANER (ca...</td>\n",
       "      <td>POINT (2.16165 41.38459)</td>\n",
       "      <td>6807.0</td>\n",
       "      <td>2024</td>\n",
       "    </tr>\n",
       "    <tr>\n",
       "      <th>3</th>\n",
       "      <td>20005</td>\n",
       "      <td>MUNTANER - GRAN VIA DE LES CORTS CATALANES (ca...</td>\n",
       "      <td>POINT (2.16310 41.38388)</td>\n",
       "      <td>2953.0</td>\n",
       "      <td>2024</td>\n",
       "    </tr>\n",
       "    <tr>\n",
       "      <th>4</th>\n",
       "      <td>20006</td>\n",
       "      <td>MUNTANER - SEPULVEDA (carril BICI sentit munta...</td>\n",
       "      <td>POINT (2.16313 41.38388)</td>\n",
       "      <td>2929.0</td>\n",
       "      <td>2024</td>\n",
       "    </tr>\n",
       "  </tbody>\n",
       "</table>\n",
       "</div>"
      ],
      "text/plain": [
       "      id                                     Desc_aforament  \\\n",
       "0  20001           DIPUTACIÓ - COMTE D'URGELL (carril BICI)   \n",
       "1  20002            DIPUTACIÓ - COMTE BORELL (carrril BICI)   \n",
       "2  20003  GRAN VIA DE LES CORTS CATALANES - MUNTANER (ca...   \n",
       "3  20005  MUNTANER - GRAN VIA DE LES CORTS CATALANES (ca...   \n",
       "4  20006  MUNTANER - SEPULVEDA (carril BICI sentit munta...   \n",
       "\n",
       "                   geometry   AADBT  Year  \n",
       "0  POINT (2.15709 41.38300)  3886.0  2024  \n",
       "1  POINT (2.15709 41.38300)  8083.0  2024  \n",
       "2  POINT (2.16165 41.38459)  6807.0  2024  \n",
       "3  POINT (2.16310 41.38388)  2953.0  2024  \n",
       "4  POINT (2.16313 41.38388)  2929.0  2024  "
      ]
     },
     "execution_count": 81,
     "metadata": {},
     "output_type": "execute_result"
    }
   ],
   "source": [
    "# Read count data\n",
    "dataset = \"counter\"\n",
    "aadbt_data = pd.read_parquet(Path(INPUT_PROCESSED_DATA_PATH) / f\"{dataset}_aadbt{YEAR}.parquet\")\n",
    "aadbt_data[\"Year\"]=YEAR\n",
    "aadbt_data = aadbt_data[[\"id\", 'AADBT', 'Year']]\n",
    "print(\"AADBT\", aadbt_data.shape)\n",
    "\n",
    "# Read station data\n",
    "\n",
    "station_data = gpd.read_parquet(Path(INPUT_DATA_PATH) / f\"{dataset}/stations_data{YEAR}.parquet\")\n",
    "station_data=station_data.rename(columns={\"Id_aforament\": \"id\"})\n",
    "station_data['id'] = station_data['id'].astype(int)\n",
    "station_data = station_data[[\"id\", 'Desc_aforament', 'geometry']]\n",
    "print(\"Station\", station_data.shape)\n",
    "\n",
    "# Join the data\n",
    "merged_data = pd.merge(station_data, aadbt_data, how='inner', left_on=\"id\", right_on=\"id\")\n",
    "print(\"Joined:\", merged_data.shape)\n",
    "print(merged_data.columns)\n",
    "counters = merged_data\n",
    "counters.head()"
   ]
  },
  {
   "cell_type": "markdown",
   "id": "64493e40",
   "metadata": {},
   "source": [
    "# Manage data"
   ]
  },
  {
   "cell_type": "markdown",
   "id": "8e8ab88a",
   "metadata": {},
   "source": [
    "## Scale BiciZen and BACC"
   ]
  },
  {
   "cell_type": "code",
   "execution_count": 82,
   "id": "fa0a232b",
   "metadata": {},
   "outputs": [],
   "source": [
    "bicizen[\"AADBT\"]= -477.175 + bicizen[\"AADBT\"] * 3.266\n",
    "\n",
    "# bacc[\"AADBT\"]= -477.175 + bacc[\"AADBT\"] * 3.266\n"
   ]
  },
  {
   "cell_type": "code",
   "execution_count": 83,
   "id": "2d630976",
   "metadata": {},
   "outputs": [],
   "source": [
    "counters = counters[(counters[\"AADBT\"] >= 0) & (counters[\"AADBT\"] <= 10000)]\n"
   ]
  },
  {
   "cell_type": "code",
   "execution_count": 85,
   "id": "bb0640c6",
   "metadata": {},
   "outputs": [
    {
     "data": {
      "application/vnd.plotly.v1+json": {
       "config": {
        "plotlyServerURL": "https://plot.ly"
       },
       "data": [
        {
         "alignmentgroup": "True",
         "customdata": [
          [
           1048273
          ],
          [
           1048896
          ],
          [
           1047975
          ],
          [
           1048955
          ],
          [
           1050910
          ],
          [
           1050909
          ],
          [
           1046343
          ],
          [
           1046333
          ],
          [
           1059225
          ],
          [
           1048277
          ],
          [
           1048280
          ],
          [
           1053659
          ],
          [
           1054514
          ],
          [
           1048272
          ],
          [
           1048274
          ],
          [
           1049380
          ],
          [
           1051865
          ],
          [
           1048268
          ],
          [
           1055893
          ],
          [
           1057984
          ],
          [
           1029389
          ],
          [
           1047953
          ],
          [
           1046328
          ],
          [
           1048223
          ],
          [
           1052522
          ],
          [
           1048209
          ],
          [
           1095689
          ],
          [
           1095690
          ],
          [
           1095691
          ],
          [
           1095692
          ],
          [
           1095693
          ],
          [
           20001
          ],
          [
           20002
          ],
          [
           20003
          ],
          [
           20005
          ],
          [
           20006
          ],
          [
           20007
          ],
          [
           20008
          ],
          [
           20009
          ],
          [
           20010
          ],
          [
           20011
          ],
          [
           20012
          ],
          [
           20016
          ],
          [
           20018
          ],
          [
           20019
          ],
          [
           20026
          ],
          [
           20027
          ],
          [
           20028
          ],
          [
           20029
          ],
          [
           20030
          ],
          [
           20031
          ],
          [
           20032
          ],
          [
           20033
          ],
          [
           20036
          ],
          [
           20038
          ],
          [
           20039
          ],
          [
           20040
          ],
          [
           20041
          ],
          [
           20042
          ],
          [
           20043
          ],
          [
           20046
          ],
          [
           20047
          ],
          [
           20050
          ],
          [
           20052
          ],
          [
           20053
          ],
          [
           20054
          ],
          [
           20055
          ],
          [
           20056
          ],
          [
           20057
          ],
          [
           20060
          ],
          [
           20061
          ],
          [
           20062
          ],
          [
           20063
          ],
          [
           20064
          ],
          [
           20065
          ],
          [
           20066
          ],
          [
           20067
          ],
          [
           20068
          ],
          [
           20069
          ],
          [
           20070
          ],
          [
           20071
          ],
          [
           20072
          ],
          [
           20073
          ],
          [
           20074
          ],
          [
           20075
          ],
          [
           20076
          ],
          [
           20077
          ],
          [
           20078
          ],
          [
           20079
          ],
          [
           20080
          ],
          [
           20081
          ],
          [
           20082
          ],
          [
           20083
          ],
          [
           20084
          ],
          [
           20085
          ],
          [
           20088
          ],
          [
           20089
          ],
          [
           20090
          ],
          [
           20091
          ],
          [
           20092
          ],
          [
           20093
          ],
          [
           20094
          ],
          [
           20095
          ],
          [
           20096
          ],
          [
           20097
          ],
          [
           20098
          ],
          [
           20099
          ],
          [
           20100
          ],
          [
           20101
          ],
          [
           20102
          ],
          [
           20104
          ],
          [
           20105
          ],
          [
           20106
          ],
          [
           20107
          ],
          [
           20108
          ],
          [
           20109
          ],
          [
           20110
          ],
          [
           20111
          ],
          [
           20112
          ],
          [
           20113
          ],
          [
           20114
          ],
          [
           20115
          ],
          [
           20116
          ],
          [
           20117
          ],
          [
           20118
          ],
          [
           20119
          ],
          [
           20120
          ],
          [
           20121
          ],
          [
           20122
          ],
          [
           20123
          ],
          [
           20124
          ],
          [
           20125
          ],
          [
           20126
          ],
          [
           20127
          ],
          [
           20128
          ],
          [
           20129
          ],
          [
           20130
          ],
          [
           20132
          ],
          [
           20133
          ],
          [
           20134
          ],
          [
           20135
          ],
          [
           20136
          ],
          [
           20137
          ],
          [
           20138
          ],
          [
           20140
          ],
          [
           20141
          ],
          [
           20142
          ],
          [
           20143
          ],
          [
           20144
          ],
          [
           20145
          ],
          [
           20146
          ],
          [
           20147
          ],
          [
           20149
          ],
          [
           20150
          ],
          [
           20151
          ],
          [
           20152
          ],
          [
           20153
          ],
          [
           20154
          ],
          [
           20155
          ],
          [
           20156
          ],
          [
           20157
          ],
          [
           20158
          ],
          [
           20159
          ],
          [
           20160
          ],
          [
           20162
          ],
          [
           20168
          ],
          [
           20169
          ],
          [
           20170
          ],
          [
           20171
          ],
          [
           20172
          ],
          [
           20173
          ],
          [
           20174
          ],
          [
           20175
          ],
          [
           20176
          ],
          [
           20177
          ],
          [
           20178
          ],
          [
           20179
          ],
          [
           20180
          ],
          [
           20181
          ],
          [
           20182
          ],
          [
           20183
          ],
          [
           20184
          ],
          [
           20185
          ],
          [
           20186
          ],
          [
           20187
          ],
          [
           20188
          ],
          [
           20189
          ],
          [
           20190
          ],
          [
           20191
          ],
          [
           20192
          ],
          [
           20193
          ],
          [
           20194
          ],
          [
           20195
          ],
          [
           20196
          ],
          [
           20197
          ],
          [
           20198
          ],
          [
           20199
          ],
          [
           20200
          ],
          [
           20201
          ],
          [
           20202
          ],
          [
           20203
          ],
          [
           20204
          ],
          [
           20205
          ],
          [
           20206
          ],
          [
           20207
          ],
          [
           20208
          ],
          [
           20209
          ],
          [
           20210
          ],
          [
           20211
          ],
          [
           20212
          ],
          [
           20213
          ],
          [
           20214
          ],
          [
           20217
          ],
          [
           20218
          ],
          [
           20220
          ],
          [
           20221
          ],
          [
           20222
          ],
          [
           20223
          ],
          [
           20225
          ],
          [
           20226
          ],
          [
           20227
          ],
          [
           20228
          ],
          [
           20229
          ],
          [
           20230
          ],
          [
           20231
          ],
          [
           20232
          ],
          [
           20233
          ],
          [
           20234
          ],
          [
           20235
          ],
          [
           20236
          ],
          [
           20237
          ],
          [
           20238
          ],
          [
           20239
          ],
          [
           20240
          ],
          [
           20241
          ],
          [
           20242
          ],
          [
           20243
          ],
          [
           20244
          ],
          [
           20245
          ],
          [
           20246
          ],
          [
           20247
          ],
          [
           20248
          ],
          [
           20249
          ],
          [
           20250
          ],
          [
           20251
          ],
          [
           20252
          ],
          [
           20103
          ],
          [
           20219
          ],
          [
           20253
          ],
          [
           20254
          ],
          [
           20256
          ],
          [
           20257
          ],
          [
           20258
          ],
          [
           20259
          ],
          [
           20260
          ],
          [
           20261
          ],
          [
           20262
          ],
          [
           20263
          ],
          [
           20264
          ],
          [
           20266
          ],
          [
           20267
          ],
          [
           20268
          ],
          [
           20272
          ],
          [
           20273
          ],
          [
           20274
          ],
          [
           20275
          ],
          [
           20278
          ],
          [
           20279
          ],
          [
           20280
          ],
          [
           20281
          ],
          [
           20282
          ],
          [
           20283
          ],
          [
           20284
          ],
          [
           20286
          ],
          [
           20288
          ],
          [
           20289
          ],
          [
           20292
          ],
          [
           20293
          ],
          [
           20294
          ],
          [
           20295
          ],
          [
           20296
          ],
          [
           20297
          ],
          [
           20298
          ],
          [
           20299
          ],
          [
           20300
          ],
          [
           20301
          ],
          [
           20302
          ],
          [
           20304
          ],
          [
           20305
          ],
          [
           20306
          ],
          [
           20308
          ],
          [
           20309
          ],
          [
           20310
          ],
          [
           20312
          ],
          [
           20314
          ],
          [
           20315
          ],
          [
           20316
          ],
          [
           20317
          ],
          [
           20318
          ],
          [
           20319
          ],
          [
           20320
          ],
          [
           20323
          ],
          [
           20324
          ],
          [
           20329
          ],
          [
           20330
          ],
          [
           20332
          ],
          [
           20333
          ],
          [
           20336
          ],
          [
           20338
          ],
          [
           20339
          ],
          [
           20342
          ],
          [
           20346
          ],
          [
           20347
          ],
          [
           20348
          ],
          [
           20349
          ],
          [
           20351
          ],
          [
           20352
          ],
          [
           20353
          ],
          [
           20354
          ],
          [
           20355
          ],
          [
           20356
          ],
          [
           20357
          ],
          [
           20358
          ],
          [
           20359
          ],
          [
           20360
          ],
          [
           20363
          ],
          [
           20364
          ],
          [
           20365
          ],
          [
           20366
          ],
          [
           20367
          ],
          [
           20368
          ],
          [
           20369
          ],
          [
           20370
          ],
          [
           20372
          ],
          [
           20373
          ],
          [
           20384
          ],
          [
           20385
          ],
          [
           20386
          ],
          [
           20387
          ],
          [
           20388
          ],
          [
           20389
          ],
          [
           20390
          ],
          [
           20391
          ],
          [
           20397
          ],
          [
           20398
          ],
          [
           20399
          ],
          [
           20400
          ],
          [
           20401
          ],
          [
           20402
          ],
          [
           20403
          ],
          [
           20404
          ],
          [
           20405
          ],
          [
           20406
          ],
          [
           20407
          ],
          [
           20408
          ],
          [
           20409
          ],
          [
           20412
          ],
          [
           20413
          ],
          [
           20414
          ],
          [
           20415
          ],
          [
           20416
          ],
          [
           20418
          ],
          [
           20419
          ],
          [
           20420
          ],
          [
           20421
          ],
          [
           20422
          ],
          [
           20423
          ],
          [
           20424
          ],
          [
           20426
          ],
          [
           20427
          ],
          [
           20428
          ],
          [
           20429
          ],
          [
           20431
          ],
          [
           20432
          ],
          [
           20433
          ],
          [
           20434
          ],
          [
           20435
          ],
          [
           20436
          ],
          [
           20437
          ],
          [
           20438
          ],
          [
           20439
          ],
          [
           20440
          ],
          [
           20441
          ],
          [
           20443
          ],
          [
           20444
          ],
          [
           20445
          ],
          [
           20446
          ]
         ],
         "hovertemplate": "Dataset=%{x}<br>AADBT=%{y}<br>ID=%{customdata[0]}<extra></extra>",
         "legendgroup": "",
         "marker": {
          "color": "#636efa"
         },
         "name": "",
         "notched": false,
         "offsetgroup": "",
         "orientation": "v",
         "showlegend": false,
         "type": "box",
         "x": [
          "BiciZen",
          "BiciZen",
          "BiciZen",
          "BiciZen",
          "BiciZen",
          "BiciZen",
          "BiciZen",
          "BiciZen",
          "BiciZen",
          "BiciZen",
          "BiciZen",
          "BiciZen",
          "BiciZen",
          "BiciZen",
          "BiciZen",
          "BiciZen",
          "BiciZen",
          "BiciZen",
          "BiciZen",
          "BiciZen",
          "BiciZen",
          "BiciZen",
          "BiciZen",
          "BiciZen",
          "BiciZen",
          "BiciZen",
          "BACC",
          "BACC",
          "BACC",
          "BACC",
          "BACC",
          "Counters",
          "Counters",
          "Counters",
          "Counters",
          "Counters",
          "Counters",
          "Counters",
          "Counters",
          "Counters",
          "Counters",
          "Counters",
          "Counters",
          "Counters",
          "Counters",
          "Counters",
          "Counters",
          "Counters",
          "Counters",
          "Counters",
          "Counters",
          "Counters",
          "Counters",
          "Counters",
          "Counters",
          "Counters",
          "Counters",
          "Counters",
          "Counters",
          "Counters",
          "Counters",
          "Counters",
          "Counters",
          "Counters",
          "Counters",
          "Counters",
          "Counters",
          "Counters",
          "Counters",
          "Counters",
          "Counters",
          "Counters",
          "Counters",
          "Counters",
          "Counters",
          "Counters",
          "Counters",
          "Counters",
          "Counters",
          "Counters",
          "Counters",
          "Counters",
          "Counters",
          "Counters",
          "Counters",
          "Counters",
          "Counters",
          "Counters",
          "Counters",
          "Counters",
          "Counters",
          "Counters",
          "Counters",
          "Counters",
          "Counters",
          "Counters",
          "Counters",
          "Counters",
          "Counters",
          "Counters",
          "Counters",
          "Counters",
          "Counters",
          "Counters",
          "Counters",
          "Counters",
          "Counters",
          "Counters",
          "Counters",
          "Counters",
          "Counters",
          "Counters",
          "Counters",
          "Counters",
          "Counters",
          "Counters",
          "Counters",
          "Counters",
          "Counters",
          "Counters",
          "Counters",
          "Counters",
          "Counters",
          "Counters",
          "Counters",
          "Counters",
          "Counters",
          "Counters",
          "Counters",
          "Counters",
          "Counters",
          "Counters",
          "Counters",
          "Counters",
          "Counters",
          "Counters",
          "Counters",
          "Counters",
          "Counters",
          "Counters",
          "Counters",
          "Counters",
          "Counters",
          "Counters",
          "Counters",
          "Counters",
          "Counters",
          "Counters",
          "Counters",
          "Counters",
          "Counters",
          "Counters",
          "Counters",
          "Counters",
          "Counters",
          "Counters",
          "Counters",
          "Counters",
          "Counters",
          "Counters",
          "Counters",
          "Counters",
          "Counters",
          "Counters",
          "Counters",
          "Counters",
          "Counters",
          "Counters",
          "Counters",
          "Counters",
          "Counters",
          "Counters",
          "Counters",
          "Counters",
          "Counters",
          "Counters",
          "Counters",
          "Counters",
          "Counters",
          "Counters",
          "Counters",
          "Counters",
          "Counters",
          "Counters",
          "Counters",
          "Counters",
          "Counters",
          "Counters",
          "Counters",
          "Counters",
          "Counters",
          "Counters",
          "Counters",
          "Counters",
          "Counters",
          "Counters",
          "Counters",
          "Counters",
          "Counters",
          "Counters",
          "Counters",
          "Counters",
          "Counters",
          "Counters",
          "Counters",
          "Counters",
          "Counters",
          "Counters",
          "Counters",
          "Counters",
          "Counters",
          "Counters",
          "Counters",
          "Counters",
          "Counters",
          "Counters",
          "Counters",
          "Counters",
          "Counters",
          "Counters",
          "Counters",
          "Counters",
          "Counters",
          "Counters",
          "Counters",
          "Counters",
          "Counters",
          "Counters",
          "Counters",
          "Counters",
          "Counters",
          "Counters",
          "Counters",
          "Counters",
          "Counters",
          "Counters",
          "Counters",
          "Counters",
          "Counters",
          "Counters",
          "Counters",
          "Counters",
          "Counters",
          "Counters",
          "Counters",
          "Counters",
          "Counters",
          "Counters",
          "Counters",
          "Counters",
          "Counters",
          "Counters",
          "Counters",
          "Counters",
          "Counters",
          "Counters",
          "Counters",
          "Counters",
          "Counters",
          "Counters",
          "Counters",
          "Counters",
          "Counters",
          "Counters",
          "Counters",
          "Counters",
          "Counters",
          "Counters",
          "Counters",
          "Counters",
          "Counters",
          "Counters",
          "Counters",
          "Counters",
          "Counters",
          "Counters",
          "Counters",
          "Counters",
          "Counters",
          "Counters",
          "Counters",
          "Counters",
          "Counters",
          "Counters",
          "Counters",
          "Counters",
          "Counters",
          "Counters",
          "Counters",
          "Counters",
          "Counters",
          "Counters",
          "Counters",
          "Counters",
          "Counters",
          "Counters",
          "Counters",
          "Counters",
          "Counters",
          "Counters",
          "Counters",
          "Counters",
          "Counters",
          "Counters",
          "Counters",
          "Counters",
          "Counters",
          "Counters",
          "Counters",
          "Counters",
          "Counters",
          "Counters",
          "Counters",
          "Counters",
          "Counters",
          "Counters",
          "Counters",
          "Counters",
          "Counters",
          "Counters",
          "Counters",
          "Counters",
          "Counters",
          "Counters",
          "Counters",
          "Counters",
          "Counters",
          "Counters",
          "Counters",
          "Counters",
          "Counters",
          "Counters",
          "Counters",
          "Counters",
          "Counters",
          "Counters",
          "Counters",
          "Counters",
          "Counters",
          "Counters",
          "Counters",
          "Counters",
          "Counters",
          "Counters",
          "Counters",
          "Counters",
          "Counters",
          "Counters",
          "Counters",
          "Counters",
          "Counters",
          "Counters",
          "Counters",
          "Counters",
          "Counters",
          "Counters",
          "Counters",
          "Counters",
          "Counters",
          "Counters",
          "Counters",
          "Counters",
          "Counters",
          "Counters",
          "Counters",
          "Counters",
          "Counters",
          "Counters",
          "Counters",
          "Counters",
          "Counters",
          "Counters",
          "Counters",
          "Counters",
          "Counters",
          "Counters",
          "Counters",
          "Counters",
          "Counters",
          "Counters",
          "Counters",
          "Counters",
          "Counters",
          "Counters",
          "Counters",
          "Counters",
          "Counters"
         ],
         "x0": " ",
         "xaxis": "x",
         "y": [
          776.1195834042296,
          1117.154364499531,
          12759.498063335372,
          225.43210541017442,
          1169.5915298825269,
          830.4739539695099,
          659.1989067674992,
          243.3635094498855,
          1035.0847557991824,
          3216.047064474485,
          2221.6700841621737,
          569.8519714660463,
          2834.965192284449,
          1169.9324633348726,
          3907.5841094682746,
          4991.024298325375,
          1338.9818153083238,
          782.6785291423225,
          -231.391290993055,
          5047.125589430093,
          7606.183050349043,
          7269.6733785309425,
          1628.1536191281295,
          4491.260372505846,
          5087.354243564838,
          5177.5139929709285,
          4541.63041561052,
          5487.17048402887,
          4877.750214284064,
          2999.6121437090296,
          1942.1345388465024,
          3886,
          8083,
          6807,
          2953,
          2929,
          5507,
          5053,
          4906,
          4989,
          4515,
          5062,
          8273,
          8418,
          8517,
          4180,
          6700,
          4069,
          5404,
          3043,
          3555,
          1474,
          1422,
          8677,
          9126,
          8794,
          4564,
          6986,
          5542,
          8834,
          5048,
          6539,
          3448,
          2943,
          4014,
          5134,
          4088,
          3575,
          4048,
          4768,
          3039,
          243,
          789,
          2279,
          3727,
          495,
          715,
          5312,
          5264,
          911,
          799,
          1146,
          1585,
          1418,
          1920,
          1102,
          2110,
          766,
          886,
          2759,
          1656,
          644,
          664,
          1096,
          1289,
          2567,
          2954,
          3860,
          3057,
          2953,
          2202,
          4124,
          4697,
          1239,
          5253,
          5493,
          4770,
          3456,
          2104,
          821,
          3006,
          2503,
          2304,
          667,
          1685,
          1605,
          3979,
          3495,
          6925,
          5089,
          8264,
          7020,
          4271,
          3490,
          1126,
          4541,
          3725,
          5110,
          5319,
          3648,
          3132,
          1230,
          1585,
          645,
          864,
          1429,
          1421,
          7264,
          2040,
          1189,
          2723,
          850,
          3527,
          5740,
          3034,
          1332,
          5474,
          3810,
          6610,
          4159,
          5025,
          3410,
          349,
          503,
          680,
          419,
          301,
          281,
          2282,
          2829,
          1381,
          1292,
          2346,
          2140,
          342,
          1060,
          1442,
          2108,
          3929,
          2801,
          4392,
          3229,
          5617,
          2501,
          2559,
          2443,
          2207,
          3300,
          2112,
          2722,
          2327,
          529,
          672,
          4260,
          4833,
          2000,
          2574,
          1622,
          792,
          1963,
          4046,
          4843,
          2873,
          4924,
          4140,
          4366,
          4334,
          3810,
          3768,
          6001,
          1949,
          4141,
          1427,
          1427,
          2993,
          4982,
          2227,
          5018,
          3150,
          4849,
          3236,
          4370,
          2004,
          1500,
          1664,
          1852,
          2931,
          4906,
          5018,
          2843,
          1078,
          1779,
          1666,
          2422,
          1262,
          2449,
          1191,
          3381,
          1019,
          568,
          1531,
          564,
          507,
          1231,
          1926,
          1418,
          3850,
          6905,
          740,
          750,
          5877,
          4898,
          1963,
          1379,
          3203,
          5245,
          2595,
          1231,
          1151,
          1229,
          1884,
          1699,
          1789,
          1922,
          1419,
          1497,
          3320,
          3976,
          536,
          7140,
          9461,
          9607,
          7138,
          2602,
          4442,
          9616,
          6489,
          1503,
          1426,
          8237,
          1466,
          4733,
          2304,
          5625,
          8020,
          3659,
          4368,
          6569,
          3045,
          1067,
          2678,
          4710,
          4484,
          8742,
          4397,
          5444,
          8732,
          8406,
          6930,
          3725,
          7969,
          7795,
          7817,
          5906,
          7555,
          4946,
          4129,
          4077,
          6024,
          7121,
          7249,
          5544,
          8759,
          9508,
          8813,
          7462,
          1577,
          5092,
          4062,
          6397,
          5629,
          1130,
          1135,
          1535,
          1205,
          1623,
          7755,
          4043,
          3971,
          5346,
          5925,
          5140,
          3884,
          4243,
          2597,
          1695,
          5486,
          7326,
          6328,
          6230,
          1533,
          1870,
          1698,
          2973,
          4920,
          3286,
          1758,
          3286,
          4395,
          1423,
          2589,
          2040,
          2198,
          3532,
          1167,
          2423,
          2376,
          775,
          3324,
          5394,
          1094,
          1485,
          1000,
          3288,
          2316,
          4182,
          1077,
          4110,
          6213,
          1506,
          2718,
          4089,
          3818,
          2422,
          3807,
          2699,
          6846,
          7370,
          778,
          3535,
          1302,
          2968,
          9368,
          674,
          1007,
          5696,
          4895,
          2112,
          2114,
          715,
          6308,
          6258,
          9865,
          487,
          745,
          1249,
          1035
         ],
         "y0": " ",
         "yaxis": "y"
        }
       ],
       "layout": {
        "boxmode": "group",
        "legend": {
         "tracegroupgap": 0
        },
        "template": {
         "data": {
          "bar": [
           {
            "error_x": {
             "color": "#2a3f5f"
            },
            "error_y": {
             "color": "#2a3f5f"
            },
            "marker": {
             "line": {
              "color": "#E5ECF6",
              "width": 0.5
             },
             "pattern": {
              "fillmode": "overlay",
              "size": 10,
              "solidity": 0.2
             }
            },
            "type": "bar"
           }
          ],
          "barpolar": [
           {
            "marker": {
             "line": {
              "color": "#E5ECF6",
              "width": 0.5
             },
             "pattern": {
              "fillmode": "overlay",
              "size": 10,
              "solidity": 0.2
             }
            },
            "type": "barpolar"
           }
          ],
          "carpet": [
           {
            "aaxis": {
             "endlinecolor": "#2a3f5f",
             "gridcolor": "white",
             "linecolor": "white",
             "minorgridcolor": "white",
             "startlinecolor": "#2a3f5f"
            },
            "baxis": {
             "endlinecolor": "#2a3f5f",
             "gridcolor": "white",
             "linecolor": "white",
             "minorgridcolor": "white",
             "startlinecolor": "#2a3f5f"
            },
            "type": "carpet"
           }
          ],
          "choropleth": [
           {
            "colorbar": {
             "outlinewidth": 0,
             "ticks": ""
            },
            "type": "choropleth"
           }
          ],
          "contour": [
           {
            "colorbar": {
             "outlinewidth": 0,
             "ticks": ""
            },
            "colorscale": [
             [
              0,
              "#0d0887"
             ],
             [
              0.1111111111111111,
              "#46039f"
             ],
             [
              0.2222222222222222,
              "#7201a8"
             ],
             [
              0.3333333333333333,
              "#9c179e"
             ],
             [
              0.4444444444444444,
              "#bd3786"
             ],
             [
              0.5555555555555556,
              "#d8576b"
             ],
             [
              0.6666666666666666,
              "#ed7953"
             ],
             [
              0.7777777777777778,
              "#fb9f3a"
             ],
             [
              0.8888888888888888,
              "#fdca26"
             ],
             [
              1,
              "#f0f921"
             ]
            ],
            "type": "contour"
           }
          ],
          "contourcarpet": [
           {
            "colorbar": {
             "outlinewidth": 0,
             "ticks": ""
            },
            "type": "contourcarpet"
           }
          ],
          "heatmap": [
           {
            "colorbar": {
             "outlinewidth": 0,
             "ticks": ""
            },
            "colorscale": [
             [
              0,
              "#0d0887"
             ],
             [
              0.1111111111111111,
              "#46039f"
             ],
             [
              0.2222222222222222,
              "#7201a8"
             ],
             [
              0.3333333333333333,
              "#9c179e"
             ],
             [
              0.4444444444444444,
              "#bd3786"
             ],
             [
              0.5555555555555556,
              "#d8576b"
             ],
             [
              0.6666666666666666,
              "#ed7953"
             ],
             [
              0.7777777777777778,
              "#fb9f3a"
             ],
             [
              0.8888888888888888,
              "#fdca26"
             ],
             [
              1,
              "#f0f921"
             ]
            ],
            "type": "heatmap"
           }
          ],
          "heatmapgl": [
           {
            "colorbar": {
             "outlinewidth": 0,
             "ticks": ""
            },
            "colorscale": [
             [
              0,
              "#0d0887"
             ],
             [
              0.1111111111111111,
              "#46039f"
             ],
             [
              0.2222222222222222,
              "#7201a8"
             ],
             [
              0.3333333333333333,
              "#9c179e"
             ],
             [
              0.4444444444444444,
              "#bd3786"
             ],
             [
              0.5555555555555556,
              "#d8576b"
             ],
             [
              0.6666666666666666,
              "#ed7953"
             ],
             [
              0.7777777777777778,
              "#fb9f3a"
             ],
             [
              0.8888888888888888,
              "#fdca26"
             ],
             [
              1,
              "#f0f921"
             ]
            ],
            "type": "heatmapgl"
           }
          ],
          "histogram": [
           {
            "marker": {
             "pattern": {
              "fillmode": "overlay",
              "size": 10,
              "solidity": 0.2
             }
            },
            "type": "histogram"
           }
          ],
          "histogram2d": [
           {
            "colorbar": {
             "outlinewidth": 0,
             "ticks": ""
            },
            "colorscale": [
             [
              0,
              "#0d0887"
             ],
             [
              0.1111111111111111,
              "#46039f"
             ],
             [
              0.2222222222222222,
              "#7201a8"
             ],
             [
              0.3333333333333333,
              "#9c179e"
             ],
             [
              0.4444444444444444,
              "#bd3786"
             ],
             [
              0.5555555555555556,
              "#d8576b"
             ],
             [
              0.6666666666666666,
              "#ed7953"
             ],
             [
              0.7777777777777778,
              "#fb9f3a"
             ],
             [
              0.8888888888888888,
              "#fdca26"
             ],
             [
              1,
              "#f0f921"
             ]
            ],
            "type": "histogram2d"
           }
          ],
          "histogram2dcontour": [
           {
            "colorbar": {
             "outlinewidth": 0,
             "ticks": ""
            },
            "colorscale": [
             [
              0,
              "#0d0887"
             ],
             [
              0.1111111111111111,
              "#46039f"
             ],
             [
              0.2222222222222222,
              "#7201a8"
             ],
             [
              0.3333333333333333,
              "#9c179e"
             ],
             [
              0.4444444444444444,
              "#bd3786"
             ],
             [
              0.5555555555555556,
              "#d8576b"
             ],
             [
              0.6666666666666666,
              "#ed7953"
             ],
             [
              0.7777777777777778,
              "#fb9f3a"
             ],
             [
              0.8888888888888888,
              "#fdca26"
             ],
             [
              1,
              "#f0f921"
             ]
            ],
            "type": "histogram2dcontour"
           }
          ],
          "mesh3d": [
           {
            "colorbar": {
             "outlinewidth": 0,
             "ticks": ""
            },
            "type": "mesh3d"
           }
          ],
          "parcoords": [
           {
            "line": {
             "colorbar": {
              "outlinewidth": 0,
              "ticks": ""
             }
            },
            "type": "parcoords"
           }
          ],
          "pie": [
           {
            "automargin": true,
            "type": "pie"
           }
          ],
          "scatter": [
           {
            "fillpattern": {
             "fillmode": "overlay",
             "size": 10,
             "solidity": 0.2
            },
            "type": "scatter"
           }
          ],
          "scatter3d": [
           {
            "line": {
             "colorbar": {
              "outlinewidth": 0,
              "ticks": ""
             }
            },
            "marker": {
             "colorbar": {
              "outlinewidth": 0,
              "ticks": ""
             }
            },
            "type": "scatter3d"
           }
          ],
          "scattercarpet": [
           {
            "marker": {
             "colorbar": {
              "outlinewidth": 0,
              "ticks": ""
             }
            },
            "type": "scattercarpet"
           }
          ],
          "scattergeo": [
           {
            "marker": {
             "colorbar": {
              "outlinewidth": 0,
              "ticks": ""
             }
            },
            "type": "scattergeo"
           }
          ],
          "scattergl": [
           {
            "marker": {
             "colorbar": {
              "outlinewidth": 0,
              "ticks": ""
             }
            },
            "type": "scattergl"
           }
          ],
          "scattermapbox": [
           {
            "marker": {
             "colorbar": {
              "outlinewidth": 0,
              "ticks": ""
             }
            },
            "type": "scattermapbox"
           }
          ],
          "scatterpolar": [
           {
            "marker": {
             "colorbar": {
              "outlinewidth": 0,
              "ticks": ""
             }
            },
            "type": "scatterpolar"
           }
          ],
          "scatterpolargl": [
           {
            "marker": {
             "colorbar": {
              "outlinewidth": 0,
              "ticks": ""
             }
            },
            "type": "scatterpolargl"
           }
          ],
          "scatterternary": [
           {
            "marker": {
             "colorbar": {
              "outlinewidth": 0,
              "ticks": ""
             }
            },
            "type": "scatterternary"
           }
          ],
          "surface": [
           {
            "colorbar": {
             "outlinewidth": 0,
             "ticks": ""
            },
            "colorscale": [
             [
              0,
              "#0d0887"
             ],
             [
              0.1111111111111111,
              "#46039f"
             ],
             [
              0.2222222222222222,
              "#7201a8"
             ],
             [
              0.3333333333333333,
              "#9c179e"
             ],
             [
              0.4444444444444444,
              "#bd3786"
             ],
             [
              0.5555555555555556,
              "#d8576b"
             ],
             [
              0.6666666666666666,
              "#ed7953"
             ],
             [
              0.7777777777777778,
              "#fb9f3a"
             ],
             [
              0.8888888888888888,
              "#fdca26"
             ],
             [
              1,
              "#f0f921"
             ]
            ],
            "type": "surface"
           }
          ],
          "table": [
           {
            "cells": {
             "fill": {
              "color": "#EBF0F8"
             },
             "line": {
              "color": "white"
             }
            },
            "header": {
             "fill": {
              "color": "#C8D4E3"
             },
             "line": {
              "color": "white"
             }
            },
            "type": "table"
           }
          ]
         },
         "layout": {
          "annotationdefaults": {
           "arrowcolor": "#2a3f5f",
           "arrowhead": 0,
           "arrowwidth": 1
          },
          "autotypenumbers": "strict",
          "coloraxis": {
           "colorbar": {
            "outlinewidth": 0,
            "ticks": ""
           }
          },
          "colorscale": {
           "diverging": [
            [
             0,
             "#8e0152"
            ],
            [
             0.1,
             "#c51b7d"
            ],
            [
             0.2,
             "#de77ae"
            ],
            [
             0.3,
             "#f1b6da"
            ],
            [
             0.4,
             "#fde0ef"
            ],
            [
             0.5,
             "#f7f7f7"
            ],
            [
             0.6,
             "#e6f5d0"
            ],
            [
             0.7,
             "#b8e186"
            ],
            [
             0.8,
             "#7fbc41"
            ],
            [
             0.9,
             "#4d9221"
            ],
            [
             1,
             "#276419"
            ]
           ],
           "sequential": [
            [
             0,
             "#0d0887"
            ],
            [
             0.1111111111111111,
             "#46039f"
            ],
            [
             0.2222222222222222,
             "#7201a8"
            ],
            [
             0.3333333333333333,
             "#9c179e"
            ],
            [
             0.4444444444444444,
             "#bd3786"
            ],
            [
             0.5555555555555556,
             "#d8576b"
            ],
            [
             0.6666666666666666,
             "#ed7953"
            ],
            [
             0.7777777777777778,
             "#fb9f3a"
            ],
            [
             0.8888888888888888,
             "#fdca26"
            ],
            [
             1,
             "#f0f921"
            ]
           ],
           "sequentialminus": [
            [
             0,
             "#0d0887"
            ],
            [
             0.1111111111111111,
             "#46039f"
            ],
            [
             0.2222222222222222,
             "#7201a8"
            ],
            [
             0.3333333333333333,
             "#9c179e"
            ],
            [
             0.4444444444444444,
             "#bd3786"
            ],
            [
             0.5555555555555556,
             "#d8576b"
            ],
            [
             0.6666666666666666,
             "#ed7953"
            ],
            [
             0.7777777777777778,
             "#fb9f3a"
            ],
            [
             0.8888888888888888,
             "#fdca26"
            ],
            [
             1,
             "#f0f921"
            ]
           ]
          },
          "colorway": [
           "#636efa",
           "#EF553B",
           "#00cc96",
           "#ab63fa",
           "#FFA15A",
           "#19d3f3",
           "#FF6692",
           "#B6E880",
           "#FF97FF",
           "#FECB52"
          ],
          "font": {
           "color": "#2a3f5f"
          },
          "geo": {
           "bgcolor": "white",
           "lakecolor": "white",
           "landcolor": "#E5ECF6",
           "showlakes": true,
           "showland": true,
           "subunitcolor": "white"
          },
          "hoverlabel": {
           "align": "left"
          },
          "hovermode": "closest",
          "mapbox": {
           "style": "light"
          },
          "paper_bgcolor": "white",
          "plot_bgcolor": "#E5ECF6",
          "polar": {
           "angularaxis": {
            "gridcolor": "white",
            "linecolor": "white",
            "ticks": ""
           },
           "bgcolor": "#E5ECF6",
           "radialaxis": {
            "gridcolor": "white",
            "linecolor": "white",
            "ticks": ""
           }
          },
          "scene": {
           "xaxis": {
            "backgroundcolor": "#E5ECF6",
            "gridcolor": "white",
            "gridwidth": 2,
            "linecolor": "white",
            "showbackground": true,
            "ticks": "",
            "zerolinecolor": "white"
           },
           "yaxis": {
            "backgroundcolor": "#E5ECF6",
            "gridcolor": "white",
            "gridwidth": 2,
            "linecolor": "white",
            "showbackground": true,
            "ticks": "",
            "zerolinecolor": "white"
           },
           "zaxis": {
            "backgroundcolor": "#E5ECF6",
            "gridcolor": "white",
            "gridwidth": 2,
            "linecolor": "white",
            "showbackground": true,
            "ticks": "",
            "zerolinecolor": "white"
           }
          },
          "shapedefaults": {
           "line": {
            "color": "#2a3f5f"
           }
          },
          "ternary": {
           "aaxis": {
            "gridcolor": "white",
            "linecolor": "white",
            "ticks": ""
           },
           "baxis": {
            "gridcolor": "white",
            "linecolor": "white",
            "ticks": ""
           },
           "bgcolor": "#E5ECF6",
           "caxis": {
            "gridcolor": "white",
            "linecolor": "white",
            "ticks": ""
           }
          },
          "title": {
           "x": 0.05
          },
          "xaxis": {
           "automargin": true,
           "gridcolor": "white",
           "linecolor": "white",
           "ticks": "",
           "title": {
            "standoff": 15
           },
           "zerolinecolor": "white",
           "zerolinewidth": 2
          },
          "yaxis": {
           "automargin": true,
           "gridcolor": "white",
           "linecolor": "white",
           "ticks": "",
           "title": {
            "standoff": 15
           },
           "zerolinecolor": "white",
           "zerolinewidth": 2
          }
         }
        },
        "title": {
         "text": "Boxplot of AADBT for BiciZen, BACC, and Counters"
        },
        "xaxis": {
         "anchor": "y",
         "domain": [
          0,
          1
         ],
         "title": {
          "text": "Dataset"
         }
        },
        "yaxis": {
         "anchor": "x",
         "domain": [
          0,
          1
         ],
         "title": {
          "text": "AADBT"
         }
        }
       }
      }
     },
     "metadata": {},
     "output_type": "display_data"
    }
   ],
   "source": [
    "# Combine data into a single DataFrame for Plotly, including id or ROOT_ID\n",
    "data = pd.concat([\n",
    "    pd.DataFrame({'Dataset': 'BiciZen', 'AADBT': bicizen['AADBT'], 'ID': bicizen['ROOT_ID']}),\n",
    "    pd.DataFrame({'Dataset': 'BACC', 'AADBT': bacc['AADBT'], 'ID': bacc['ROOT_ID']}),\n",
    "    pd.DataFrame({'Dataset': 'Counters', 'AADBT': counters['AADBT'], 'ID': counters['id']})\n",
    "])\n",
    "\n",
    "# Create the boxplot\n",
    "fig = px.box(data, x='Dataset', y='AADBT', hover_data=['ID'], title=\"Boxplot of AADBT for BiciZen, BACC, and Counters\")\n",
    "fig.show()\n"
   ]
  }
 ],
 "metadata": {
  "colab": {
   "collapsed_sections": [
    "5bf315c7",
    "eebb1a73",
    "12dd37b6"
   ],
   "provenance": []
  },
  "kernelspec": {
   "display_name": "ridership_model",
   "language": "python",
   "name": "python3"
  },
  "language_info": {
   "codemirror_mode": {
    "name": "ipython",
    "version": 3
   },
   "file_extension": ".py",
   "mimetype": "text/x-python",
   "name": "python",
   "nbconvert_exporter": "python",
   "pygments_lexer": "ipython3",
   "version": "3.11.9"
  },
  "papermill": {
   "default_parameters": {},
   "duration": 4.685965,
   "end_time": "2025-03-14T15:01:57.534804",
   "environment_variables": {},
   "exception": null,
   "input_path": "013-luca_traffic_indices_calculate.ipynb",
   "output_path": "013-luca_traffic_indices_calculate.ipynb",
   "parameters": {
    "SAVE_OUTPUT": true,
    "YEAR": 2024
   },
   "start_time": "2025-03-14T15:01:52.848839",
   "version": "2.6.0"
  }
 },
 "nbformat": 4,
 "nbformat_minor": 5
}
