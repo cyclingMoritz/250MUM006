{
 "cells": [
  {
   "cell_type": "code",
   "execution_count": 1,
   "id": "34332b88",
   "metadata": {
    "execution": {
     "iopub.execute_input": "2025-04-09T15:06:55.064280Z",
     "iopub.status.busy": "2025-04-09T15:06:55.064280Z",
     "iopub.status.idle": "2025-04-09T15:06:55.072403Z",
     "shell.execute_reply": "2025-04-09T15:06:55.072403Z"
    },
    "executionInfo": {
     "elapsed": 196,
     "status": "ok",
     "timestamp": 1737216414526,
     "user": {
      "displayName": "Luca Liebscht",
      "userId": "11880140528704889234"
     },
     "user_tz": -60
    },
    "id": "I_hrwU9x479z",
    "papermill": {
     "duration": 0.012412,
     "end_time": "2025-04-09T15:06:55.072403",
     "exception": false,
     "start_time": "2025-04-09T15:06:55.059991",
     "status": "completed"
    },
    "tags": [
     "parameters"
    ]
   },
   "outputs": [],
   "source": [
    "# parameters\n",
    "INPUT_DATA_PATH = \"../data/interim/\"\n",
    "INPUT_PROCESSED_DATA_PATH = \"../data/processed/\"\n",
    "\n",
    "YEAR = 2023\n",
    "SAVE_OUTPUT = True\n",
    "OUTPUT_DATA_PATH = \"../data/processed/\"\n",
    "OUTPUT_FIGURES_PATH = \"../reports/figures/\""
   ]
  },
  {
   "cell_type": "code",
   "execution_count": 2,
   "id": "89b29353",
   "metadata": {
    "execution": {
     "iopub.execute_input": "2025-04-09T15:06:55.082971Z",
     "iopub.status.busy": "2025-04-09T15:06:55.080657Z",
     "iopub.status.idle": "2025-04-09T15:06:55.085866Z",
     "shell.execute_reply": "2025-04-09T15:06:55.085866Z"
    },
    "papermill": {
     "duration": 0.009304,
     "end_time": "2025-04-09T15:06:55.085866",
     "exception": false,
     "start_time": "2025-04-09T15:06:55.076562",
     "status": "completed"
    },
    "tags": [
     "injected-parameters"
    ]
   },
   "outputs": [],
   "source": [
    "# Parameters\n",
    "YEAR = 2024\n",
    "SAVE_OUTPUT = True\n"
   ]
  },
  {
   "cell_type": "code",
   "execution_count": 3,
   "id": "f96ccfa5",
   "metadata": {
    "colab": {
     "base_uri": "https://localhost:8080/"
    },
    "execution": {
     "iopub.execute_input": "2025-04-09T15:06:55.092997Z",
     "iopub.status.busy": "2025-04-09T15:06:55.092997Z",
     "iopub.status.idle": "2025-04-09T15:06:56.058815Z",
     "shell.execute_reply": "2025-04-09T15:06:56.058815Z"
    },
    "executionInfo": {
     "elapsed": 19072,
     "status": "ok",
     "timestamp": 1737216453714,
     "user": {
      "displayName": "Luca Liebscht",
      "userId": "11880140528704889234"
     },
     "user_tz": -60
    },
    "id": "HnDB36CLTIxL",
    "outputId": "5e9ddd8f-0300-40ec-cf32-75cf8dc5e328",
    "papermill": {
     "duration": 0.968839,
     "end_time": "2025-04-09T15:06:56.058815",
     "exception": false,
     "start_time": "2025-04-09T15:06:55.089976",
     "status": "completed"
    },
    "tags": []
   },
   "outputs": [],
   "source": [
    "# Import necessary libraries\n",
    "import geopandas as gpd\n",
    "import pandas as pd\n",
    "from pathlib import Path\n",
    "import plotly.express as px\n",
    "import numpy as np\n"
   ]
  },
  {
   "cell_type": "code",
   "execution_count": 4,
   "id": "f14c2cdd",
   "metadata": {
    "execution": {
     "iopub.execute_input": "2025-04-09T15:06:56.069733Z",
     "iopub.status.busy": "2025-04-09T15:06:56.069733Z",
     "iopub.status.idle": "2025-04-09T15:06:56.075984Z",
     "shell.execute_reply": "2025-04-09T15:06:56.075984Z"
    },
    "papermill": {
     "duration": 0.014203,
     "end_time": "2025-04-09T15:06:56.078040",
     "exception": false,
     "start_time": "2025-04-09T15:06:56.063837",
     "status": "completed"
    },
    "tags": []
   },
   "outputs": [],
   "source": [
    "def read_and_merge_data(dataset, year,id_col):\n",
    "    # Read count data\n",
    "    aadbt_data = pd.read_parquet(Path(INPUT_PROCESSED_DATA_PATH) / f\"{dataset}_aadbt{year}.parquet\")\n",
    "    try:\n",
    "        aadbt_data = aadbt_data[[id_col, 'AADBT', 'Year']]\n",
    "    except KeyError:\n",
    "        aadbt_data[\"Year\"]=year\n",
    "        aadbt_data = aadbt_data[[id_col, 'AADBT', 'Year']]\n",
    "    print(\"AADBT\", aadbt_data.shape)\n",
    "    \n",
    "    # Read station data\n",
    "    try:\n",
    "        station_data = gpd.read_parquet(Path(INPUT_DATA_PATH) / f\"{dataset}/{dataset}_stations.parquet\")\n",
    "    except FileNotFoundError:\n",
    "        station_data = gpd.read_parquet(Path(INPUT_DATA_PATH) / f\"{dataset}/stations_data{year}.parquet\")\n",
    "    station_data = station_data[[id_col, 'Desc_aforament', 'direction_counter', 'directionality', 'geometry']]\n",
    "    print(\"Station\", station_data.shape)\n",
    "    \n",
    "    # Join the data\n",
    "    merged_data = pd.merge(station_data, aadbt_data, how='inner', left_on=id_col, right_on=id_col)\n",
    "    print(\"Joined:\", merged_data.shape)\n",
    "    print(merged_data.columns)\n",
    "    \n",
    "    return merged_data"
   ]
  },
  {
   "cell_type": "markdown",
   "id": "06a8ab48",
   "metadata": {
    "papermill": {
     "duration": 0.002963,
     "end_time": "2025-04-09T15:06:56.083930",
     "exception": false,
     "start_time": "2025-04-09T15:06:56.080967",
     "status": "completed"
    },
    "tags": []
   },
   "source": [
    "# Load data"
   ]
  },
  {
   "cell_type": "code",
   "execution_count": 5,
   "id": "b62fba10",
   "metadata": {
    "execution": {
     "iopub.execute_input": "2025-04-09T15:06:56.092083Z",
     "iopub.status.busy": "2025-04-09T15:06:56.092083Z",
     "iopub.status.idle": "2025-04-09T15:06:56.191387Z",
     "shell.execute_reply": "2025-04-09T15:06:56.191387Z"
    },
    "papermill": {
     "duration": 0.107038,
     "end_time": "2025-04-09T15:06:56.192877",
     "exception": false,
     "start_time": "2025-04-09T15:06:56.085839",
     "status": "completed"
    },
    "tags": []
   },
   "outputs": [
    {
     "name": "stdout",
     "output_type": "stream",
     "text": [
      "AADBT (26, 3)\n",
      "Station (55, 5)\n",
      "Joined: (26, 7)\n",
      "Index(['ROOT_ID', 'Desc_aforament', 'direction_counter', 'directionality',\n",
      "       'geometry', 'AADBT', 'Year'],\n",
      "      dtype='object')\n"
     ]
    },
    {
     "data": {
      "text/html": [
       "<div>\n",
       "<style scoped>\n",
       "    .dataframe tbody tr th:only-of-type {\n",
       "        vertical-align: middle;\n",
       "    }\n",
       "\n",
       "    .dataframe tbody tr th {\n",
       "        vertical-align: top;\n",
       "    }\n",
       "\n",
       "    .dataframe thead th {\n",
       "        text-align: right;\n",
       "    }\n",
       "</style>\n",
       "<table border=\"1\" class=\"dataframe\">\n",
       "  <thead>\n",
       "    <tr style=\"text-align: right;\">\n",
       "      <th></th>\n",
       "      <th>ROOT_ID</th>\n",
       "      <th>Desc_aforament</th>\n",
       "      <th>direction_counter</th>\n",
       "      <th>directionality</th>\n",
       "      <th>geometry</th>\n",
       "      <th>AADBT</th>\n",
       "      <th>Year</th>\n",
       "    </tr>\n",
       "  </thead>\n",
       "  <tbody>\n",
       "    <tr>\n",
       "      <th>0</th>\n",
       "      <td>1048273</td>\n",
       "      <td>C/ de Pi i Margall 114</td>\n",
       "      <td>N</td>\n",
       "      <td>NaN</td>\n",
       "      <td>POINT (430189.262 4584777.934)</td>\n",
       "      <td>383.739921</td>\n",
       "      <td>2024</td>\n",
       "    </tr>\n",
       "    <tr>\n",
       "      <th>1</th>\n",
       "      <td>1048896</td>\n",
       "      <td>C/ Jocs Florals 175</td>\n",
       "      <td>SE</td>\n",
       "      <td>NaN</td>\n",
       "      <td>POINT (427815.131 4580216.804)</td>\n",
       "      <td>488.159634</td>\n",
       "      <td>2024</td>\n",
       "    </tr>\n",
       "    <tr>\n",
       "      <th>2</th>\n",
       "      <td>1047975</td>\n",
       "      <td>Pg. Sant Joan 8</td>\n",
       "      <td>NW</td>\n",
       "      <td>NaN</td>\n",
       "      <td>POINT (431434.433 4582633.172)</td>\n",
       "      <td>4052.869891</td>\n",
       "      <td>2024</td>\n",
       "    </tr>\n",
       "    <tr>\n",
       "      <th>3</th>\n",
       "      <td>1048955</td>\n",
       "      <td>C/Rosselló 161</td>\n",
       "      <td>NE</td>\n",
       "      <td>NaN</td>\n",
       "      <td>POINT (429152.250 4582499.693)</td>\n",
       "      <td>215.127711</td>\n",
       "      <td>2024</td>\n",
       "    </tr>\n",
       "    <tr>\n",
       "      <th>4</th>\n",
       "      <td>1050910</td>\n",
       "      <td>Passeig Maragall, 242</td>\n",
       "      <td>SE</td>\n",
       "      <td>NaN</td>\n",
       "      <td>POINT (430865.603 4586454.646)</td>\n",
       "      <td>504.215104</td>\n",
       "      <td>2024</td>\n",
       "    </tr>\n",
       "  </tbody>\n",
       "</table>\n",
       "</div>"
      ],
      "text/plain": [
       "   ROOT_ID          Desc_aforament direction_counter  directionality  \\\n",
       "0  1048273  C/ de Pi i Margall 114                 N             NaN   \n",
       "1  1048896     C/ Jocs Florals 175                SE             NaN   \n",
       "2  1047975         Pg. Sant Joan 8                NW             NaN   \n",
       "3  1048955          C/Rosselló 161                NE             NaN   \n",
       "4  1050910   Passeig Maragall, 242                SE             NaN   \n",
       "\n",
       "                         geometry        AADBT  Year  \n",
       "0  POINT (430189.262 4584777.934)   383.739921  2024  \n",
       "1  POINT (427815.131 4580216.804)   488.159634  2024  \n",
       "2  POINT (431434.433 4582633.172)  4052.869891  2024  \n",
       "3  POINT (429152.250 4582499.693)   215.127711  2024  \n",
       "4  POINT (430865.603 4586454.646)   504.215104  2024  "
      ]
     },
     "execution_count": 5,
     "metadata": {},
     "output_type": "execute_result"
    }
   ],
   "source": [
    "try:\n",
    "    bicizen = read_and_merge_data(\"bicizen\", YEAR,'ROOT_ID')\n",
    "except FileNotFoundError:\n",
    "    #Make null dataframe to avoid errors in the rest of the code\n",
    "    bicizen = gpd.GeoDataFrame(columns=['ROOT_ID', 'AADBT', 'Year', 'Desc_aforament', 'direction_counter', 'directionality', 'geometry'])\n",
    "bicizen.head()"
   ]
  },
  {
   "cell_type": "code",
   "execution_count": 6,
   "id": "dadd59a9",
   "metadata": {
    "execution": {
     "iopub.execute_input": "2025-04-09T15:06:56.203764Z",
     "iopub.status.busy": "2025-04-09T15:06:56.203764Z",
     "iopub.status.idle": "2025-04-09T15:06:56.230653Z",
     "shell.execute_reply": "2025-04-09T15:06:56.230653Z"
    },
    "papermill": {
     "duration": 0.038082,
     "end_time": "2025-04-09T15:06:56.231991",
     "exception": false,
     "start_time": "2025-04-09T15:06:56.193909",
     "status": "completed"
    },
    "tags": []
   },
   "outputs": [
    {
     "name": "stdout",
     "output_type": "stream",
     "text": [
      "AADBT (5, 3)\n",
      "Station (6, 5)\n",
      "Joined: (5, 7)\n",
      "Index(['ROOT_ID', 'Desc_aforament', 'direction_counter', 'directionality',\n",
      "       'geometry', 'AADBT', 'Year'],\n",
      "      dtype='object')\n"
     ]
    },
    {
     "data": {
      "text/html": [
       "<div>\n",
       "<style scoped>\n",
       "    .dataframe tbody tr th:only-of-type {\n",
       "        vertical-align: middle;\n",
       "    }\n",
       "\n",
       "    .dataframe tbody tr th {\n",
       "        vertical-align: top;\n",
       "    }\n",
       "\n",
       "    .dataframe thead th {\n",
       "        text-align: right;\n",
       "    }\n",
       "</style>\n",
       "<table border=\"1\" class=\"dataframe\">\n",
       "  <thead>\n",
       "    <tr style=\"text-align: right;\">\n",
       "      <th></th>\n",
       "      <th>ROOT_ID</th>\n",
       "      <th>Desc_aforament</th>\n",
       "      <th>direction_counter</th>\n",
       "      <th>directionality</th>\n",
       "      <th>geometry</th>\n",
       "      <th>AADBT</th>\n",
       "      <th>Year</th>\n",
       "    </tr>\n",
       "  </thead>\n",
       "  <tbody>\n",
       "    <tr>\n",
       "      <th>0</th>\n",
       "      <td>1095689</td>\n",
       "      <td>Diagonal Plaza 5 Oros</td>\n",
       "      <td>NE</td>\n",
       "      <td>Unidirectional</td>\n",
       "      <td>POINT (2.15908 41.39633)</td>\n",
       "      <td>4541.630416</td>\n",
       "      <td>2024</td>\n",
       "    </tr>\n",
       "    <tr>\n",
       "      <th>1</th>\n",
       "      <td>1095690</td>\n",
       "      <td>Diagonal Amb Ganduxer</td>\n",
       "      <td>SW</td>\n",
       "      <td>Bidirectional</td>\n",
       "      <td>POINT (2.13942 41.39164)</td>\n",
       "      <td>5487.170484</td>\n",
       "      <td>2024</td>\n",
       "    </tr>\n",
       "    <tr>\n",
       "      <th>2</th>\n",
       "      <td>1095691</td>\n",
       "      <td>Meridiana Amb Aragó</td>\n",
       "      <td>N</td>\n",
       "      <td>Bidirectional</td>\n",
       "      <td>POINT (2.18686 41.40906)</td>\n",
       "      <td>4877.750214</td>\n",
       "      <td>2024</td>\n",
       "    </tr>\n",
       "    <tr>\n",
       "      <th>3</th>\n",
       "      <td>1095692</td>\n",
       "      <td>Diagonal Amb Glories</td>\n",
       "      <td>NE</td>\n",
       "      <td>Bidirectional</td>\n",
       "      <td>POINT (2.18353 41.40272)</td>\n",
       "      <td>2999.612144</td>\n",
       "      <td>2024</td>\n",
       "    </tr>\n",
       "    <tr>\n",
       "      <th>4</th>\n",
       "      <td>1095693</td>\n",
       "      <td>Gran Via Amb La Bordeta</td>\n",
       "      <td>SW</td>\n",
       "      <td>Bidirectional</td>\n",
       "      <td>POINT (2.14703 41.37364)</td>\n",
       "      <td>1942.134539</td>\n",
       "      <td>2024</td>\n",
       "    </tr>\n",
       "  </tbody>\n",
       "</table>\n",
       "</div>"
      ],
      "text/plain": [
       "   ROOT_ID           Desc_aforament direction_counter  directionality  \\\n",
       "0  1095689    Diagonal Plaza 5 Oros                NE  Unidirectional   \n",
       "1  1095690    Diagonal Amb Ganduxer                SW   Bidirectional   \n",
       "2  1095691      Meridiana Amb Aragó                 N   Bidirectional   \n",
       "3  1095692     Diagonal Amb Glories                NE   Bidirectional   \n",
       "4  1095693  Gran Via Amb La Bordeta                SW   Bidirectional   \n",
       "\n",
       "                   geometry        AADBT  Year  \n",
       "0  POINT (2.15908 41.39633)  4541.630416  2024  \n",
       "1  POINT (2.13942 41.39164)  5487.170484  2024  \n",
       "2  POINT (2.18686 41.40906)  4877.750214  2024  \n",
       "3  POINT (2.18353 41.40272)  2999.612144  2024  \n",
       "4  POINT (2.14703 41.37364)  1942.134539  2024  "
      ]
     },
     "execution_count": 6,
     "metadata": {},
     "output_type": "execute_result"
    }
   ],
   "source": [
    "bacc = read_and_merge_data(\"bacc\", YEAR,'ROOT_ID')\n",
    "bacc.head()"
   ]
  },
  {
   "cell_type": "code",
   "execution_count": 7,
   "id": "a949826c",
   "metadata": {
    "execution": {
     "iopub.execute_input": "2025-04-09T15:06:56.241295Z",
     "iopub.status.busy": "2025-04-09T15:06:56.241295Z",
     "iopub.status.idle": "2025-04-09T15:06:56.281800Z",
     "shell.execute_reply": "2025-04-09T15:06:56.281800Z"
    },
    "papermill": {
     "duration": 0.045532,
     "end_time": "2025-04-09T15:06:56.281800",
     "exception": false,
     "start_time": "2025-04-09T15:06:56.236268",
     "status": "completed"
    },
    "tags": []
   },
   "outputs": [
    {
     "name": "stdout",
     "output_type": "stream",
     "text": [
      "AADBT (327, 3)\n",
      "Station (381, 3)\n",
      "Joined: (327, 5)\n",
      "Index(['Id_aforament', 'Desc_aforament', 'geometry', 'AADBT', 'Year'], dtype='object')\n"
     ]
    },
    {
     "data": {
      "text/html": [
       "<div>\n",
       "<style scoped>\n",
       "    .dataframe tbody tr th:only-of-type {\n",
       "        vertical-align: middle;\n",
       "    }\n",
       "\n",
       "    .dataframe tbody tr th {\n",
       "        vertical-align: top;\n",
       "    }\n",
       "\n",
       "    .dataframe thead th {\n",
       "        text-align: right;\n",
       "    }\n",
       "</style>\n",
       "<table border=\"1\" class=\"dataframe\">\n",
       "  <thead>\n",
       "    <tr style=\"text-align: right;\">\n",
       "      <th></th>\n",
       "      <th>Id_aforament</th>\n",
       "      <th>Desc_aforament</th>\n",
       "      <th>geometry</th>\n",
       "      <th>AADBT</th>\n",
       "      <th>Year</th>\n",
       "    </tr>\n",
       "  </thead>\n",
       "  <tbody>\n",
       "    <tr>\n",
       "      <th>0</th>\n",
       "      <td>20001</td>\n",
       "      <td>DIPUTACIÓ - COMTE D'URGELL (carril BICI)</td>\n",
       "      <td>POINT (2.15709 41.38300)</td>\n",
       "      <td>3916.892128</td>\n",
       "      <td>2024</td>\n",
       "    </tr>\n",
       "    <tr>\n",
       "      <th>1</th>\n",
       "      <td>20002</td>\n",
       "      <td>DIPUTACIÓ - COMTE BORELL (carrril BICI)</td>\n",
       "      <td>POINT (2.15709 41.38300)</td>\n",
       "      <td>7152.887387</td>\n",
       "      <td>2024</td>\n",
       "    </tr>\n",
       "    <tr>\n",
       "      <th>2</th>\n",
       "      <td>20003</td>\n",
       "      <td>GRAN VIA DE LES CORTS CATALANES - MUNTANER (ca...</td>\n",
       "      <td>POINT (2.16165 41.38459)</td>\n",
       "      <td>3816.694268</td>\n",
       "      <td>2024</td>\n",
       "    </tr>\n",
       "    <tr>\n",
       "      <th>3</th>\n",
       "      <td>20005</td>\n",
       "      <td>MUNTANER - GRAN VIA DE LES CORTS CATALANES (ca...</td>\n",
       "      <td>POINT (2.16310 41.38388)</td>\n",
       "      <td>3055.405109</td>\n",
       "      <td>2024</td>\n",
       "    </tr>\n",
       "    <tr>\n",
       "      <th>4</th>\n",
       "      <td>20006</td>\n",
       "      <td>MUNTANER - SEPULVEDA (carril BICI sentit munta...</td>\n",
       "      <td>POINT (2.16313 41.38388)</td>\n",
       "      <td>2599.983660</td>\n",
       "      <td>2024</td>\n",
       "    </tr>\n",
       "  </tbody>\n",
       "</table>\n",
       "</div>"
      ],
      "text/plain": [
       "   Id_aforament                                     Desc_aforament  \\\n",
       "0         20001           DIPUTACIÓ - COMTE D'URGELL (carril BICI)   \n",
       "1         20002            DIPUTACIÓ - COMTE BORELL (carrril BICI)   \n",
       "2         20003  GRAN VIA DE LES CORTS CATALANES - MUNTANER (ca...   \n",
       "3         20005  MUNTANER - GRAN VIA DE LES CORTS CATALANES (ca...   \n",
       "4         20006  MUNTANER - SEPULVEDA (carril BICI sentit munta...   \n",
       "\n",
       "                   geometry        AADBT  Year  \n",
       "0  POINT (2.15709 41.38300)  3916.892128  2024  \n",
       "1  POINT (2.15709 41.38300)  7152.887387  2024  \n",
       "2  POINT (2.16165 41.38459)  3816.694268  2024  \n",
       "3  POINT (2.16310 41.38388)  3055.405109  2024  \n",
       "4  POINT (2.16313 41.38388)  2599.983660  2024  "
      ]
     },
     "execution_count": 7,
     "metadata": {},
     "output_type": "execute_result"
    }
   ],
   "source": [
    "# Read count data\n",
    "dataset = \"counter\"\n",
    "aadbt_data = pd.read_parquet(Path(INPUT_PROCESSED_DATA_PATH) / f\"{dataset}_aadbt{YEAR}.parquet\")\n",
    "aadbt_data[\"Year\"]=YEAR\n",
    "aadbt_data = aadbt_data[[\"Id_aforament\", 'AADBT', 'Year']]\n",
    "print(\"AADBT\", aadbt_data.shape)\n",
    "\n",
    "# Read station data\n",
    "\n",
    "station_data = gpd.read_parquet(Path(INPUT_DATA_PATH) / f\"{dataset}/stations_data{YEAR}.parquet\")\n",
    "station_data['Id_aforament'] = station_data['Id_aforament'].astype(int)\n",
    "station_data = station_data[[\"Id_aforament\", 'Desc_aforament', 'geometry']]\n",
    "print(\"Station\", station_data.shape)\n",
    "\n",
    "# Join the data\n",
    "merged_data = pd.merge(station_data, aadbt_data, how='inner', left_on=\"Id_aforament\", right_on=\"Id_aforament\")\n",
    "print(\"Joined:\", merged_data.shape)\n",
    "print(merged_data.columns)\n",
    "counters = merged_data\n",
    "counters.head()"
   ]
  },
  {
   "cell_type": "markdown",
   "id": "64493e40",
   "metadata": {
    "papermill": {
     "duration": 0.005528,
     "end_time": "2025-04-09T15:06:56.291217",
     "exception": false,
     "start_time": "2025-04-09T15:06:56.285689",
     "status": "completed"
    },
    "tags": []
   },
   "source": [
    "# Manage data"
   ]
  },
  {
   "cell_type": "markdown",
   "id": "8e8ab88a",
   "metadata": {
    "papermill": {
     "duration": 0.005895,
     "end_time": "2025-04-09T15:06:56.299962",
     "exception": false,
     "start_time": "2025-04-09T15:06:56.294067",
     "status": "completed"
    },
    "tags": []
   },
   "source": [
    "## Scale BiciZen and BACC"
   ]
  },
  {
   "cell_type": "code",
   "execution_count": 8,
   "id": "fa0a232b",
   "metadata": {
    "execution": {
     "iopub.execute_input": "2025-04-09T15:06:56.310176Z",
     "iopub.status.busy": "2025-04-09T15:06:56.310176Z",
     "iopub.status.idle": "2025-04-09T15:06:56.314155Z",
     "shell.execute_reply": "2025-04-09T15:06:56.314155Z"
    },
    "papermill": {
     "duration": 0.011521,
     "end_time": "2025-04-09T15:06:56.315932",
     "exception": false,
     "start_time": "2025-04-09T15:06:56.304411",
     "status": "completed"
    },
    "tags": []
   },
   "outputs": [],
   "source": [
    "bicizen[\"AADBT\"]= -477.175 + bicizen[\"AADBT\"] * 3.266\n",
    "\n",
    "# bacc[\"AADBT\"]= -477.175 + bacc[\"AADBT\"] * 3.266\n"
   ]
  },
  {
   "cell_type": "markdown",
   "id": "60e67cd4",
   "metadata": {
    "papermill": {
     "duration": 0.006019,
     "end_time": "2025-04-09T15:06:56.324448",
     "exception": false,
     "start_time": "2025-04-09T15:06:56.318429",
     "status": "completed"
    },
    "tags": []
   },
   "source": [
    "## Concat data"
   ]
  },
  {
   "cell_type": "code",
   "execution_count": 9,
   "id": "1e8fe500",
   "metadata": {
    "execution": {
     "iopub.execute_input": "2025-04-09T15:06:56.332065Z",
     "iopub.status.busy": "2025-04-09T15:06:56.332065Z",
     "iopub.status.idle": "2025-04-09T15:06:56.374936Z",
     "shell.execute_reply": "2025-04-09T15:06:56.374936Z"
    },
    "papermill": {
     "duration": 0.050766,
     "end_time": "2025-04-09T15:06:56.377479",
     "exception": false,
     "start_time": "2025-04-09T15:06:56.326713",
     "status": "completed"
    },
    "tags": []
   },
   "outputs": [
    {
     "name": "stdout",
     "output_type": "stream",
     "text": [
      "(26, 7)"
     ]
    },
    {
     "name": "stdout",
     "output_type": "stream",
     "text": [
      "\n",
      "(5, 7)\n",
      "(327, 5)\n"
     ]
    }
   ],
   "source": [
    "for df, name in zip([bicizen, bacc, counters], [\"BiciZen\", \"BACC\", \"Counters\"]):\n",
    "    if df.crs == None:\n",
    "        df.set_crs(epsg=25831, inplace=True)  # Set the CRS to 25831\n",
    "    elif df.crs != \"EPSG:25831\":\n",
    "        df.to_crs(epsg=25831, inplace=True)  # Transform the CRS to 25831\n",
    "    if 'ROOT_ID' in df.columns:\n",
    "        df.rename(columns={'ROOT_ID': 'id'}, inplace=True)\n",
    "    elif 'Id_aforament' in df.columns:\n",
    "        df.rename(columns={'Id_aforament': 'id'}, inplace=True)\n",
    "    print(df.shape)\n",
    "    df[\"Source\"] = name  # Add a new column with the name of the dataframe\n",
    "\n",
    "\n",
    "\n",
    "#Concat the three datasets\n",
    "datasets = pd.concat([bicizen, bacc, counters], ignore_index=True)\n",
    "\n"
   ]
  },
  {
   "cell_type": "markdown",
   "id": "6b0aa673",
   "metadata": {
    "papermill": {
     "duration": 0.004424,
     "end_time": "2025-04-09T15:06:56.386292",
     "exception": false,
     "start_time": "2025-04-09T15:06:56.381868",
     "status": "completed"
    },
    "tags": []
   },
   "source": [
    "## Visualize"
   ]
  },
  {
   "cell_type": "code",
   "execution_count": 10,
   "id": "bb0640c6",
   "metadata": {
    "execution": {
     "iopub.execute_input": "2025-04-09T15:06:56.394681Z",
     "iopub.status.busy": "2025-04-09T15:06:56.394681Z",
     "iopub.status.idle": "2025-04-09T15:06:57.348427Z",
     "shell.execute_reply": "2025-04-09T15:06:57.348427Z"
    },
    "papermill": {
     "duration": 0.961818,
     "end_time": "2025-04-09T15:06:57.351257",
     "exception": false,
     "start_time": "2025-04-09T15:06:56.389439",
     "status": "completed"
    },
    "tags": []
   },
   "outputs": [
    {
     "data": {
      "application/vnd.plotly.v1+json": {
       "config": {
        "plotlyServerURL": "https://plot.ly"
       },
       "data": [
        {
         "alignmentgroup": "True",
         "customdata": [
          [
           1048273
          ],
          [
           1048896
          ],
          [
           1047975
          ],
          [
           1048955
          ],
          [
           1050910
          ],
          [
           1050909
          ],
          [
           1046343
          ],
          [
           1046333
          ],
          [
           1059225
          ],
          [
           1048277
          ],
          [
           1048280
          ],
          [
           1053659
          ],
          [
           1054514
          ],
          [
           1048272
          ],
          [
           1048274
          ],
          [
           1049380
          ],
          [
           1051865
          ],
          [
           1048268
          ],
          [
           1055893
          ],
          [
           1057984
          ],
          [
           1029389
          ],
          [
           1047953
          ],
          [
           1046328
          ],
          [
           1048223
          ],
          [
           1052522
          ],
          [
           1048209
          ],
          [
           1095689
          ],
          [
           1095690
          ],
          [
           1095691
          ],
          [
           1095692
          ],
          [
           1095693
          ],
          [
           20001
          ],
          [
           20002
          ],
          [
           20003
          ],
          [
           20005
          ],
          [
           20006
          ],
          [
           20007
          ],
          [
           20008
          ],
          [
           20009
          ],
          [
           20010
          ],
          [
           20011
          ],
          [
           20012
          ],
          [
           20026
          ],
          [
           20027
          ],
          [
           20028
          ],
          [
           20029
          ],
          [
           20030
          ],
          [
           20031
          ],
          [
           20032
          ],
          [
           20033
          ],
          [
           20036
          ],
          [
           20038
          ],
          [
           20039
          ],
          [
           20040
          ],
          [
           20041
          ],
          [
           20042
          ],
          [
           20043
          ],
          [
           20046
          ],
          [
           20047
          ],
          [
           20050
          ],
          [
           20051
          ],
          [
           20052
          ],
          [
           20053
          ],
          [
           20054
          ],
          [
           20055
          ],
          [
           20056
          ],
          [
           20057
          ],
          [
           20060
          ],
          [
           20061
          ],
          [
           20062
          ],
          [
           20063
          ],
          [
           20064
          ],
          [
           20065
          ],
          [
           20068
          ],
          [
           20069
          ],
          [
           20070
          ],
          [
           20071
          ],
          [
           20072
          ],
          [
           20073
          ],
          [
           20074
          ],
          [
           20075
          ],
          [
           20076
          ],
          [
           20077
          ],
          [
           20078
          ],
          [
           20079
          ],
          [
           20080
          ],
          [
           20081
          ],
          [
           20082
          ],
          [
           20083
          ],
          [
           20084
          ],
          [
           20085
          ],
          [
           20088
          ],
          [
           20089
          ],
          [
           20090
          ],
          [
           20091
          ],
          [
           20092
          ],
          [
           20093
          ],
          [
           20094
          ],
          [
           20095
          ],
          [
           20096
          ],
          [
           20097
          ],
          [
           20098
          ],
          [
           20099
          ],
          [
           20101
          ],
          [
           20104
          ],
          [
           20105
          ],
          [
           20106
          ],
          [
           20107
          ],
          [
           20108
          ],
          [
           20109
          ],
          [
           20110
          ],
          [
           20111
          ],
          [
           20113
          ],
          [
           20116
          ],
          [
           20117
          ],
          [
           20118
          ],
          [
           20119
          ],
          [
           20120
          ],
          [
           20121
          ],
          [
           20122
          ],
          [
           20123
          ],
          [
           20124
          ],
          [
           20125
          ],
          [
           20126
          ],
          [
           20127
          ],
          [
           20128
          ],
          [
           20129
          ],
          [
           20130
          ],
          [
           20133
          ],
          [
           20134
          ],
          [
           20135
          ],
          [
           20136
          ],
          [
           20137
          ],
          [
           20138
          ],
          [
           20140
          ],
          [
           20141
          ],
          [
           20142
          ],
          [
           20143
          ],
          [
           20145
          ],
          [
           20146
          ],
          [
           20147
          ],
          [
           20149
          ],
          [
           20150
          ],
          [
           20151
          ],
          [
           20152
          ],
          [
           20153
          ],
          [
           20154
          ],
          [
           20155
          ],
          [
           20156
          ],
          [
           20157
          ],
          [
           20158
          ],
          [
           20159
          ],
          [
           20160
          ],
          [
           20168
          ],
          [
           20169
          ],
          [
           20170
          ],
          [
           20171
          ],
          [
           20172
          ],
          [
           20173
          ],
          [
           20174
          ],
          [
           20175
          ],
          [
           20176
          ],
          [
           20177
          ],
          [
           20178
          ],
          [
           20179
          ],
          [
           20180
          ],
          [
           20181
          ],
          [
           20182
          ],
          [
           20183
          ],
          [
           20184
          ],
          [
           20185
          ],
          [
           20186
          ],
          [
           20187
          ],
          [
           20188
          ],
          [
           20189
          ],
          [
           20190
          ],
          [
           20191
          ],
          [
           20192
          ],
          [
           20193
          ],
          [
           20194
          ],
          [
           20195
          ],
          [
           20196
          ],
          [
           20197
          ],
          [
           20198
          ],
          [
           20199
          ],
          [
           20200
          ],
          [
           20201
          ],
          [
           20202
          ],
          [
           20203
          ],
          [
           20204
          ],
          [
           20205
          ],
          [
           20206
          ],
          [
           20207
          ],
          [
           20208
          ],
          [
           20209
          ],
          [
           20210
          ],
          [
           20211
          ],
          [
           20212
          ],
          [
           20213
          ],
          [
           20214
          ],
          [
           20217
          ],
          [
           20218
          ],
          [
           20220
          ],
          [
           20221
          ],
          [
           20222
          ],
          [
           20223
          ],
          [
           20225
          ],
          [
           20226
          ],
          [
           20227
          ],
          [
           20228
          ],
          [
           20229
          ],
          [
           20230
          ],
          [
           20231
          ],
          [
           20232
          ],
          [
           20233
          ],
          [
           20234
          ],
          [
           20235
          ],
          [
           20236
          ],
          [
           20237
          ],
          [
           20238
          ],
          [
           20239
          ],
          [
           20240
          ],
          [
           20241
          ],
          [
           20242
          ],
          [
           20243
          ],
          [
           20244
          ],
          [
           20245
          ],
          [
           20246
          ],
          [
           20247
          ],
          [
           20248
          ],
          [
           20249
          ],
          [
           20250
          ],
          [
           20251
          ],
          [
           20252
          ],
          [
           20103
          ],
          [
           20219
          ],
          [
           20253
          ],
          [
           20254
          ],
          [
           20256
          ],
          [
           20257
          ],
          [
           20258
          ],
          [
           20259
          ],
          [
           20260
          ],
          [
           20261
          ],
          [
           20262
          ],
          [
           20263
          ],
          [
           20266
          ],
          [
           20273
          ],
          [
           20274
          ],
          [
           20275
          ],
          [
           20278
          ],
          [
           20279
          ],
          [
           20280
          ],
          [
           20281
          ],
          [
           20282
          ],
          [
           20283
          ],
          [
           20284
          ],
          [
           20286
          ],
          [
           20288
          ],
          [
           20289
          ],
          [
           20292
          ],
          [
           20293
          ],
          [
           20294
          ],
          [
           20295
          ],
          [
           20296
          ],
          [
           20297
          ],
          [
           20298
          ],
          [
           20300
          ],
          [
           20301
          ],
          [
           20304
          ],
          [
           20305
          ],
          [
           20306
          ],
          [
           20308
          ],
          [
           20309
          ],
          [
           20310
          ],
          [
           20312
          ],
          [
           20314
          ],
          [
           20315
          ],
          [
           20316
          ],
          [
           20317
          ],
          [
           20318
          ],
          [
           20319
          ],
          [
           20320
          ],
          [
           20323
          ],
          [
           20336
          ],
          [
           20338
          ],
          [
           20339
          ],
          [
           20342
          ],
          [
           20346
          ],
          [
           20347
          ],
          [
           20348
          ],
          [
           20349
          ],
          [
           20351
          ],
          [
           20353
          ],
          [
           20354
          ],
          [
           20355
          ],
          [
           20356
          ],
          [
           20357
          ],
          [
           20358
          ],
          [
           20359
          ],
          [
           20360
          ],
          [
           20363
          ],
          [
           20364
          ],
          [
           20365
          ],
          [
           20366
          ],
          [
           20367
          ],
          [
           20368
          ],
          [
           20369
          ],
          [
           20370
          ],
          [
           20371
          ],
          [
           20372
          ],
          [
           20373
          ],
          [
           20384
          ],
          [
           20385
          ],
          [
           20386
          ],
          [
           20387
          ],
          [
           20388
          ],
          [
           20389
          ],
          [
           20390
          ],
          [
           20391
          ],
          [
           20397
          ],
          [
           20398
          ],
          [
           20399
          ],
          [
           20400
          ],
          [
           20401
          ],
          [
           20402
          ],
          [
           20403
          ],
          [
           20404
          ],
          [
           20405
          ],
          [
           20406
          ],
          [
           20407
          ],
          [
           20408
          ],
          [
           20409
          ],
          [
           20412
          ],
          [
           20413
          ],
          [
           20414
          ],
          [
           20415
          ],
          [
           20416
          ],
          [
           20418
          ],
          [
           20419
          ],
          [
           20420
          ],
          [
           20421
          ],
          [
           20422
          ],
          [
           20423
          ],
          [
           20424
          ],
          [
           20426
          ],
          [
           20427
          ],
          [
           20428
          ],
          [
           20429
          ],
          [
           20432
          ],
          [
           20433
          ],
          [
           20434
          ],
          [
           20435
          ],
          [
           20436
          ],
          [
           20437
          ],
          [
           20438
          ],
          [
           20443
          ],
          [
           20444
          ]
         ],
         "hovertemplate": "Dataset=%{x}<br>AADBT=%{y}<br>ID=%{customdata[0]}<extra></extra>",
         "legendgroup": "",
         "marker": {
          "color": "#636efa"
         },
         "name": "",
         "notched": false,
         "offsetgroup": "",
         "orientation": "v",
         "showlegend": false,
         "type": "box",
         "x": [
          "BiciZen",
          "BiciZen",
          "BiciZen",
          "BiciZen",
          "BiciZen",
          "BiciZen",
          "BiciZen",
          "BiciZen",
          "BiciZen",
          "BiciZen",
          "BiciZen",
          "BiciZen",
          "BiciZen",
          "BiciZen",
          "BiciZen",
          "BiciZen",
          "BiciZen",
          "BiciZen",
          "BiciZen",
          "BiciZen",
          "BiciZen",
          "BiciZen",
          "BiciZen",
          "BiciZen",
          "BiciZen",
          "BiciZen",
          "BACC",
          "BACC",
          "BACC",
          "BACC",
          "BACC",
          "Counters",
          "Counters",
          "Counters",
          "Counters",
          "Counters",
          "Counters",
          "Counters",
          "Counters",
          "Counters",
          "Counters",
          "Counters",
          "Counters",
          "Counters",
          "Counters",
          "Counters",
          "Counters",
          "Counters",
          "Counters",
          "Counters",
          "Counters",
          "Counters",
          "Counters",
          "Counters",
          "Counters",
          "Counters",
          "Counters",
          "Counters",
          "Counters",
          "Counters",
          "Counters",
          "Counters",
          "Counters",
          "Counters",
          "Counters",
          "Counters",
          "Counters",
          "Counters",
          "Counters",
          "Counters",
          "Counters",
          "Counters",
          "Counters",
          "Counters",
          "Counters",
          "Counters",
          "Counters",
          "Counters",
          "Counters",
          "Counters",
          "Counters",
          "Counters",
          "Counters",
          "Counters",
          "Counters",
          "Counters",
          "Counters",
          "Counters",
          "Counters",
          "Counters",
          "Counters",
          "Counters",
          "Counters",
          "Counters",
          "Counters",
          "Counters",
          "Counters",
          "Counters",
          "Counters",
          "Counters",
          "Counters",
          "Counters",
          "Counters",
          "Counters",
          "Counters",
          "Counters",
          "Counters",
          "Counters",
          "Counters",
          "Counters",
          "Counters",
          "Counters",
          "Counters",
          "Counters",
          "Counters",
          "Counters",
          "Counters",
          "Counters",
          "Counters",
          "Counters",
          "Counters",
          "Counters",
          "Counters",
          "Counters",
          "Counters",
          "Counters",
          "Counters",
          "Counters",
          "Counters",
          "Counters",
          "Counters",
          "Counters",
          "Counters",
          "Counters",
          "Counters",
          "Counters",
          "Counters",
          "Counters",
          "Counters",
          "Counters",
          "Counters",
          "Counters",
          "Counters",
          "Counters",
          "Counters",
          "Counters",
          "Counters",
          "Counters",
          "Counters",
          "Counters",
          "Counters",
          "Counters",
          "Counters",
          "Counters",
          "Counters",
          "Counters",
          "Counters",
          "Counters",
          "Counters",
          "Counters",
          "Counters",
          "Counters",
          "Counters",
          "Counters",
          "Counters",
          "Counters",
          "Counters",
          "Counters",
          "Counters",
          "Counters",
          "Counters",
          "Counters",
          "Counters",
          "Counters",
          "Counters",
          "Counters",
          "Counters",
          "Counters",
          "Counters",
          "Counters",
          "Counters",
          "Counters",
          "Counters",
          "Counters",
          "Counters",
          "Counters",
          "Counters",
          "Counters",
          "Counters",
          "Counters",
          "Counters",
          "Counters",
          "Counters",
          "Counters",
          "Counters",
          "Counters",
          "Counters",
          "Counters",
          "Counters",
          "Counters",
          "Counters",
          "Counters",
          "Counters",
          "Counters",
          "Counters",
          "Counters",
          "Counters",
          "Counters",
          "Counters",
          "Counters",
          "Counters",
          "Counters",
          "Counters",
          "Counters",
          "Counters",
          "Counters",
          "Counters",
          "Counters",
          "Counters",
          "Counters",
          "Counters",
          "Counters",
          "Counters",
          "Counters",
          "Counters",
          "Counters",
          "Counters",
          "Counters",
          "Counters",
          "Counters",
          "Counters",
          "Counters",
          "Counters",
          "Counters",
          "Counters",
          "Counters",
          "Counters",
          "Counters",
          "Counters",
          "Counters",
          "Counters",
          "Counters",
          "Counters",
          "Counters",
          "Counters",
          "Counters",
          "Counters",
          "Counters",
          "Counters",
          "Counters",
          "Counters",
          "Counters",
          "Counters",
          "Counters",
          "Counters",
          "Counters",
          "Counters",
          "Counters",
          "Counters",
          "Counters",
          "Counters",
          "Counters",
          "Counters",
          "Counters",
          "Counters",
          "Counters",
          "Counters",
          "Counters",
          "Counters",
          "Counters",
          "Counters",
          "Counters",
          "Counters",
          "Counters",
          "Counters",
          "Counters",
          "Counters",
          "Counters",
          "Counters",
          "Counters",
          "Counters",
          "Counters",
          "Counters",
          "Counters",
          "Counters",
          "Counters",
          "Counters",
          "Counters",
          "Counters",
          "Counters",
          "Counters",
          "Counters",
          "Counters",
          "Counters",
          "Counters",
          "Counters",
          "Counters",
          "Counters",
          "Counters",
          "Counters",
          "Counters",
          "Counters",
          "Counters",
          "Counters",
          "Counters",
          "Counters",
          "Counters",
          "Counters",
          "Counters",
          "Counters",
          "Counters",
          "Counters",
          "Counters",
          "Counters",
          "Counters",
          "Counters",
          "Counters",
          "Counters",
          "Counters",
          "Counters",
          "Counters",
          "Counters",
          "Counters",
          "Counters",
          "Counters",
          "Counters",
          "Counters",
          "Counters",
          "Counters",
          "Counters",
          "Counters",
          "Counters",
          "Counters",
          "Counters",
          "Counters",
          "Counters",
          "Counters",
          "Counters",
          "Counters",
          "Counters",
          "Counters",
          "Counters",
          "Counters",
          "Counters",
          "Counters",
          "Counters",
          "Counters",
          "Counters",
          "Counters",
          "Counters",
          "Counters",
          "Counters",
          "Counters",
          "Counters",
          "Counters",
          "Counters",
          "Counters",
          "Counters"
         ],
         "x0": " ",
         "xaxis": "x",
         "y": [
          776.1195834042296,
          1117.154364499531,
          12759.498063335372,
          225.43210541017442,
          1169.5915298825269,
          830.4739539695099,
          659.1989067674992,
          243.3635094498855,
          1035.0847557991824,
          3216.047064474485,
          2221.6700841621737,
          569.8519714660463,
          2834.965192284449,
          1169.9324633348726,
          3907.5841094682746,
          4991.024298325375,
          1338.9818153083238,
          782.6785291423225,
          -231.391290993055,
          5047.125589430093,
          7606.183050349043,
          7269.6733785309425,
          1628.1536191281295,
          4491.260372505846,
          5087.354243564838,
          5177.5139929709285,
          4541.63041561052,
          5487.17048402887,
          4877.750214284064,
          2999.6121437090296,
          1942.1345388465024,
          3916.8921282798833,
          7152.887387387387,
          3816.6942675159235,
          3055.405109489051,
          2599.983660130719,
          5643.749271137026,
          5167.244897959184,
          5011.772594752187,
          5186.293768545994,
          4677.575667655787,
          5160.405247813411,
          4190.526143790849,
          6625.550724637681,
          4172.172514619883,
          5487.452095808383,
          3113.029239766082,
          3644.2332361516037,
          1508.2361516034985,
          1457.0787172011662,
          7695.370078740158,
          8704.176744186047,
          8513.714285714286,
          4666.766763848396,
          7146.322674418605,
          5689.152046783625,
          7846.657718120805,
          5125.728862973761,
          6659.507288629738,
          3221.439393939394,
          3876.7162162162163,
          2982.0981012658226,
          3430.1923076923076,
          5262.10294117647,
          4176.291176470589,
          3987.3614864864867,
          4138.8221574344025,
          4866.836734693878,
          3103.7755102040815,
          248.3002915451895,
          807.3586005830904,
          2440.6955128205127,
          3808.847953216374,
          5425.131195335277,
          5438.497041420118,
          944.6386292834891,
          826.9626168224299,
          1198.0652818991098,
          1659.5838323353294,
          1430.201166180758,
          1946.6384839650145,
          1249.2615894039734,
          2397.267973856209,
          785.5558823529411,
          905.0235294117647,
          2804.5947521865887,
          1683.2128279883382,
          667.0739644970414,
          686.9822485207101,
          1117.343023255814,
          1315.843023255814,
          2617.9418604651164,
          3015.2151162790697,
          3939.031976744186,
          3116.3343023255816,
          3824.455223880597,
          2852.1119402985073,
          4196.970930232558,
          4784.997093023256,
          1257.7325581395348,
          5347.595930232558,
          5567.405247813411,
          4860.427325581395,
          5334.90780141844,
          3078.8866279069766,
          2564.436046511628,
          2354.2732558139537,
          680.4651162790698,
          1721.5581395348838,
          1641.3866279069769,
          4057.0581395348836,
          3553.578488372093,
          6196.151408450704,
          4361.332361516035,
          3547.0320699708454,
          1136.906432748538,
          4623.023323615161,
          3793.655976676385,
          5201.666666666667,
          5419.714285714285,
          3702.2594752186587,
          3189.714285714286,
          1256.0494186046512,
          1616.2412790697674,
          658.2587209302326,
          883.0668604651163,
          1460.985465116279,
          1450.1075581395348,
          2070.0377906976746,
          1204.7267441860465,
          3108.237113402062,
          862.375,
          3588.4883720930234,
          6192.603092783505,
          3099.7725947521867,
          1262.5432835820895,
          5330.677215189873,
          4642.1155234657035,
          4249.827988338192,
          5855.47572815534,
          3475.0552325581393,
          355.0204081632653,
          512.4985422740525,
          691.1486880466472,
          427.98250728862973,
          306.95626822157436,
          287.3935860058309,
          2321.6239067055394,
          2881.253644314869,
          1403.4389534883721,
          1315.875,
          2394.470930232558,
          2183.3953488372094,
          1078.053412462908,
          1488.9911764705882,
          2154.4273255813955,
          4012.1598837209303,
          2860.5726744186045,
          4491.1308139534885,
          3278.6279069767443,
          5505.136842105263,
          2536.8343023255816,
          2601.8779069767443,
          2500.9883381924196,
          2259.32361516035,
          3369.475218658892,
          2155.32944606414,
          2784.0291545189502,
          2377.218658892128,
          538.3790087463557,
          688.2238372093024,
          4358.469387755102,
          4953.037900874636,
          2371.124113475177,
          3102.5238095238096,
          1655.4185303514378,
          2024.9421487603306,
          2235.8152173913045,
          4141.670926517572,
          4985.461538461538,
          2952.746794871795,
          5020.3121019108285,
          4396.067137809187,
          4639.554770318021,
          5061.654901960785,
          3908.3961661341855,
          3842.415335463259,
          6092.180327868852,
          1986.1401273885351,
          4216.41719745223,
          1453.78025477707,
          1453.78025477707,
          3057.8019169329073,
          5097.092651757189,
          2494.718309859155,
          5128.675241157556,
          3221.3418530351437,
          4964.613418530352,
          3308.7667731629394,
          4475.0319488817895,
          2065.4185303514378,
          1543.8274760383385,
          1697.067092651757,
          1887.6744186046512,
          2982.7238372093025,
          4994.148255813953,
          5115.354651162791,
          2904.8338192419824,
          1096.3779069767443,
          1814.0901162790697,
          1692.9767441860465,
          2460.7732558139537,
          1304.551724137931,
          2499.6831395348836,
          1214.6831395348838,
          2132.8833922261483,
          1030.3808139534883,
          578.5247813411079,
          1560.751461988304,
          575.8309037900875,
          517.8862973760932,
          1255.1220930232557,
          1953.1687898089172,
          1511.2006369426751,
          3930.2740524781343,
          6937.637195121952,
          756.4810495626822,
          765.9183673469388,
          5421.795275590551,
          5002.1516034985425,
          2005.2848837209303,
          1408.218023255814,
          3254.3720930232557,
          5345.251461988304,
          2645.8633720930234,
          1362.9684210526316,
          1172.0349854227404,
          1253.2944606413994,
          1929.9096209912536,
          1828.3806451612904,
          1826.66472303207,
          1959.0174927113703,
          1447.633431085044,
          1527.340175953079,
          3372.607558139535,
          4043.938953488372,
          7210.144144144144,
          2884.876811594203,
          5668.435294117647,
          8134.955555555555,
          6536.620795107034,
          1538.0,
          1456.6326530612246,
          7863.555555555556,
          1499.0901162790697,
          4828.524781341108,
          2350.081632653061,
          5729.111111111111,
          8103.769696969697,
          3726.1195335276966,
          4452.68221574344,
          6685.705539358601,
          3106.1516034985425,
          1085.6122448979593,
          6029.421875,
          4746.912023460411,
          4437.760479041916,
          4300.495049504951,
          5489.3663663663665,
          7030.8432835820895,
          6774.701388888889,
          6789.264900662251,
          7479.635555555556,
          7361.98695652174,
          7746.722222222223,
          6021.400584795321,
          7403.286738351255,
          5037.545454545455,
          4186.847507331378,
          4143.533724340176,
          6061.540059347181,
          7141.265243902439,
          7397.173529411764,
          6021.990353697749,
          5179.745614035088,
          4123.166180758018,
          5206.283524904215,
          5711.7588235294115,
          1194.3141025641025,
          1185.9235668789809,
          1617.548076923077,
          1257.9203821656051,
          1652.9418604651162,
          5844.645631067961,
          6706.507389162562,
          5056.255172413793,
          5968.012084592145,
          5099.6740506329115,
          3946.5813953488373,
          3775.969899665552,
          2654.218023255814,
          1727.735465116279,
          4957.54044117647,
          6870.960199004975,
          5647.8,
          6267.9726443769,
          1559.6967930029155,
          1902.3848396501458,
          1737.6763848396502,
          2320.4341085271317,
          3045.7580174927116,
          5039.023323615161,
          3354.3801916932907,
          1795.846645367412,
          3354.3801916932907,
          4488.91373801917,
          1453.073482428115,
          2645.8172413793104,
          2085.3194888178914,
          2246.115015974441,
          3619.929712460064,
          1182.7916666666667,
          2466.608974358974,
          2417.4551282051284,
          781.2692307692307,
          3384.2179487179487,
          5492.819935691318,
          1112.1570512820513,
          1509.746794871795,
          1014.2435897435897,
          3340.576923076923,
          2354.5096153846152,
          5051.780303030303,
          1106.4391025641025,
          4203.0,
          5700.635714285714,
          1685.4006968641115,
          1682.1233333333332,
          4277.778911564626,
          3982.179661016949,
          2575.3469387755104,
          3688.4940239043826,
          2817.745644599303,
          6956.788546255507,
          7380.19095477387,
          1585.496644295302,
          4149.6,
          1454.2272727272727,
          3395.3155893536123,
          696.2,
          1054.2,
          5771.635,
          5052.1970443349755,
          1783.7905759162304,
          2001.243654822335,
          947.56,
          580.7333333333333,
          886.96
         ],
         "y0": " ",
         "yaxis": "y"
        }
       ],
       "layout": {
        "boxmode": "group",
        "legend": {
         "tracegroupgap": 0
        },
        "template": {
         "data": {
          "bar": [
           {
            "error_x": {
             "color": "#2a3f5f"
            },
            "error_y": {
             "color": "#2a3f5f"
            },
            "marker": {
             "line": {
              "color": "#E5ECF6",
              "width": 0.5
             },
             "pattern": {
              "fillmode": "overlay",
              "size": 10,
              "solidity": 0.2
             }
            },
            "type": "bar"
           }
          ],
          "barpolar": [
           {
            "marker": {
             "line": {
              "color": "#E5ECF6",
              "width": 0.5
             },
             "pattern": {
              "fillmode": "overlay",
              "size": 10,
              "solidity": 0.2
             }
            },
            "type": "barpolar"
           }
          ],
          "carpet": [
           {
            "aaxis": {
             "endlinecolor": "#2a3f5f",
             "gridcolor": "white",
             "linecolor": "white",
             "minorgridcolor": "white",
             "startlinecolor": "#2a3f5f"
            },
            "baxis": {
             "endlinecolor": "#2a3f5f",
             "gridcolor": "white",
             "linecolor": "white",
             "minorgridcolor": "white",
             "startlinecolor": "#2a3f5f"
            },
            "type": "carpet"
           }
          ],
          "choropleth": [
           {
            "colorbar": {
             "outlinewidth": 0,
             "ticks": ""
            },
            "type": "choropleth"
           }
          ],
          "contour": [
           {
            "colorbar": {
             "outlinewidth": 0,
             "ticks": ""
            },
            "colorscale": [
             [
              0.0,
              "#0d0887"
             ],
             [
              0.1111111111111111,
              "#46039f"
             ],
             [
              0.2222222222222222,
              "#7201a8"
             ],
             [
              0.3333333333333333,
              "#9c179e"
             ],
             [
              0.4444444444444444,
              "#bd3786"
             ],
             [
              0.5555555555555556,
              "#d8576b"
             ],
             [
              0.6666666666666666,
              "#ed7953"
             ],
             [
              0.7777777777777778,
              "#fb9f3a"
             ],
             [
              0.8888888888888888,
              "#fdca26"
             ],
             [
              1.0,
              "#f0f921"
             ]
            ],
            "type": "contour"
           }
          ],
          "contourcarpet": [
           {
            "colorbar": {
             "outlinewidth": 0,
             "ticks": ""
            },
            "type": "contourcarpet"
           }
          ],
          "heatmap": [
           {
            "colorbar": {
             "outlinewidth": 0,
             "ticks": ""
            },
            "colorscale": [
             [
              0.0,
              "#0d0887"
             ],
             [
              0.1111111111111111,
              "#46039f"
             ],
             [
              0.2222222222222222,
              "#7201a8"
             ],
             [
              0.3333333333333333,
              "#9c179e"
             ],
             [
              0.4444444444444444,
              "#bd3786"
             ],
             [
              0.5555555555555556,
              "#d8576b"
             ],
             [
              0.6666666666666666,
              "#ed7953"
             ],
             [
              0.7777777777777778,
              "#fb9f3a"
             ],
             [
              0.8888888888888888,
              "#fdca26"
             ],
             [
              1.0,
              "#f0f921"
             ]
            ],
            "type": "heatmap"
           }
          ],
          "heatmapgl": [
           {
            "colorbar": {
             "outlinewidth": 0,
             "ticks": ""
            },
            "colorscale": [
             [
              0.0,
              "#0d0887"
             ],
             [
              0.1111111111111111,
              "#46039f"
             ],
             [
              0.2222222222222222,
              "#7201a8"
             ],
             [
              0.3333333333333333,
              "#9c179e"
             ],
             [
              0.4444444444444444,
              "#bd3786"
             ],
             [
              0.5555555555555556,
              "#d8576b"
             ],
             [
              0.6666666666666666,
              "#ed7953"
             ],
             [
              0.7777777777777778,
              "#fb9f3a"
             ],
             [
              0.8888888888888888,
              "#fdca26"
             ],
             [
              1.0,
              "#f0f921"
             ]
            ],
            "type": "heatmapgl"
           }
          ],
          "histogram": [
           {
            "marker": {
             "pattern": {
              "fillmode": "overlay",
              "size": 10,
              "solidity": 0.2
             }
            },
            "type": "histogram"
           }
          ],
          "histogram2d": [
           {
            "colorbar": {
             "outlinewidth": 0,
             "ticks": ""
            },
            "colorscale": [
             [
              0.0,
              "#0d0887"
             ],
             [
              0.1111111111111111,
              "#46039f"
             ],
             [
              0.2222222222222222,
              "#7201a8"
             ],
             [
              0.3333333333333333,
              "#9c179e"
             ],
             [
              0.4444444444444444,
              "#bd3786"
             ],
             [
              0.5555555555555556,
              "#d8576b"
             ],
             [
              0.6666666666666666,
              "#ed7953"
             ],
             [
              0.7777777777777778,
              "#fb9f3a"
             ],
             [
              0.8888888888888888,
              "#fdca26"
             ],
             [
              1.0,
              "#f0f921"
             ]
            ],
            "type": "histogram2d"
           }
          ],
          "histogram2dcontour": [
           {
            "colorbar": {
             "outlinewidth": 0,
             "ticks": ""
            },
            "colorscale": [
             [
              0.0,
              "#0d0887"
             ],
             [
              0.1111111111111111,
              "#46039f"
             ],
             [
              0.2222222222222222,
              "#7201a8"
             ],
             [
              0.3333333333333333,
              "#9c179e"
             ],
             [
              0.4444444444444444,
              "#bd3786"
             ],
             [
              0.5555555555555556,
              "#d8576b"
             ],
             [
              0.6666666666666666,
              "#ed7953"
             ],
             [
              0.7777777777777778,
              "#fb9f3a"
             ],
             [
              0.8888888888888888,
              "#fdca26"
             ],
             [
              1.0,
              "#f0f921"
             ]
            ],
            "type": "histogram2dcontour"
           }
          ],
          "mesh3d": [
           {
            "colorbar": {
             "outlinewidth": 0,
             "ticks": ""
            },
            "type": "mesh3d"
           }
          ],
          "parcoords": [
           {
            "line": {
             "colorbar": {
              "outlinewidth": 0,
              "ticks": ""
             }
            },
            "type": "parcoords"
           }
          ],
          "pie": [
           {
            "automargin": true,
            "type": "pie"
           }
          ],
          "scatter": [
           {
            "fillpattern": {
             "fillmode": "overlay",
             "size": 10,
             "solidity": 0.2
            },
            "type": "scatter"
           }
          ],
          "scatter3d": [
           {
            "line": {
             "colorbar": {
              "outlinewidth": 0,
              "ticks": ""
             }
            },
            "marker": {
             "colorbar": {
              "outlinewidth": 0,
              "ticks": ""
             }
            },
            "type": "scatter3d"
           }
          ],
          "scattercarpet": [
           {
            "marker": {
             "colorbar": {
              "outlinewidth": 0,
              "ticks": ""
             }
            },
            "type": "scattercarpet"
           }
          ],
          "scattergeo": [
           {
            "marker": {
             "colorbar": {
              "outlinewidth": 0,
              "ticks": ""
             }
            },
            "type": "scattergeo"
           }
          ],
          "scattergl": [
           {
            "marker": {
             "colorbar": {
              "outlinewidth": 0,
              "ticks": ""
             }
            },
            "type": "scattergl"
           }
          ],
          "scattermapbox": [
           {
            "marker": {
             "colorbar": {
              "outlinewidth": 0,
              "ticks": ""
             }
            },
            "type": "scattermapbox"
           }
          ],
          "scatterpolar": [
           {
            "marker": {
             "colorbar": {
              "outlinewidth": 0,
              "ticks": ""
             }
            },
            "type": "scatterpolar"
           }
          ],
          "scatterpolargl": [
           {
            "marker": {
             "colorbar": {
              "outlinewidth": 0,
              "ticks": ""
             }
            },
            "type": "scatterpolargl"
           }
          ],
          "scatterternary": [
           {
            "marker": {
             "colorbar": {
              "outlinewidth": 0,
              "ticks": ""
             }
            },
            "type": "scatterternary"
           }
          ],
          "surface": [
           {
            "colorbar": {
             "outlinewidth": 0,
             "ticks": ""
            },
            "colorscale": [
             [
              0.0,
              "#0d0887"
             ],
             [
              0.1111111111111111,
              "#46039f"
             ],
             [
              0.2222222222222222,
              "#7201a8"
             ],
             [
              0.3333333333333333,
              "#9c179e"
             ],
             [
              0.4444444444444444,
              "#bd3786"
             ],
             [
              0.5555555555555556,
              "#d8576b"
             ],
             [
              0.6666666666666666,
              "#ed7953"
             ],
             [
              0.7777777777777778,
              "#fb9f3a"
             ],
             [
              0.8888888888888888,
              "#fdca26"
             ],
             [
              1.0,
              "#f0f921"
             ]
            ],
            "type": "surface"
           }
          ],
          "table": [
           {
            "cells": {
             "fill": {
              "color": "#EBF0F8"
             },
             "line": {
              "color": "white"
             }
            },
            "header": {
             "fill": {
              "color": "#C8D4E3"
             },
             "line": {
              "color": "white"
             }
            },
            "type": "table"
           }
          ]
         },
         "layout": {
          "annotationdefaults": {
           "arrowcolor": "#2a3f5f",
           "arrowhead": 0,
           "arrowwidth": 1
          },
          "autotypenumbers": "strict",
          "coloraxis": {
           "colorbar": {
            "outlinewidth": 0,
            "ticks": ""
           }
          },
          "colorscale": {
           "diverging": [
            [
             0,
             "#8e0152"
            ],
            [
             0.1,
             "#c51b7d"
            ],
            [
             0.2,
             "#de77ae"
            ],
            [
             0.3,
             "#f1b6da"
            ],
            [
             0.4,
             "#fde0ef"
            ],
            [
             0.5,
             "#f7f7f7"
            ],
            [
             0.6,
             "#e6f5d0"
            ],
            [
             0.7,
             "#b8e186"
            ],
            [
             0.8,
             "#7fbc41"
            ],
            [
             0.9,
             "#4d9221"
            ],
            [
             1,
             "#276419"
            ]
           ],
           "sequential": [
            [
             0.0,
             "#0d0887"
            ],
            [
             0.1111111111111111,
             "#46039f"
            ],
            [
             0.2222222222222222,
             "#7201a8"
            ],
            [
             0.3333333333333333,
             "#9c179e"
            ],
            [
             0.4444444444444444,
             "#bd3786"
            ],
            [
             0.5555555555555556,
             "#d8576b"
            ],
            [
             0.6666666666666666,
             "#ed7953"
            ],
            [
             0.7777777777777778,
             "#fb9f3a"
            ],
            [
             0.8888888888888888,
             "#fdca26"
            ],
            [
             1.0,
             "#f0f921"
            ]
           ],
           "sequentialminus": [
            [
             0.0,
             "#0d0887"
            ],
            [
             0.1111111111111111,
             "#46039f"
            ],
            [
             0.2222222222222222,
             "#7201a8"
            ],
            [
             0.3333333333333333,
             "#9c179e"
            ],
            [
             0.4444444444444444,
             "#bd3786"
            ],
            [
             0.5555555555555556,
             "#d8576b"
            ],
            [
             0.6666666666666666,
             "#ed7953"
            ],
            [
             0.7777777777777778,
             "#fb9f3a"
            ],
            [
             0.8888888888888888,
             "#fdca26"
            ],
            [
             1.0,
             "#f0f921"
            ]
           ]
          },
          "colorway": [
           "#636efa",
           "#EF553B",
           "#00cc96",
           "#ab63fa",
           "#FFA15A",
           "#19d3f3",
           "#FF6692",
           "#B6E880",
           "#FF97FF",
           "#FECB52"
          ],
          "font": {
           "color": "#2a3f5f"
          },
          "geo": {
           "bgcolor": "white",
           "lakecolor": "white",
           "landcolor": "#E5ECF6",
           "showlakes": true,
           "showland": true,
           "subunitcolor": "white"
          },
          "hoverlabel": {
           "align": "left"
          },
          "hovermode": "closest",
          "mapbox": {
           "style": "light"
          },
          "paper_bgcolor": "white",
          "plot_bgcolor": "#E5ECF6",
          "polar": {
           "angularaxis": {
            "gridcolor": "white",
            "linecolor": "white",
            "ticks": ""
           },
           "bgcolor": "#E5ECF6",
           "radialaxis": {
            "gridcolor": "white",
            "linecolor": "white",
            "ticks": ""
           }
          },
          "scene": {
           "xaxis": {
            "backgroundcolor": "#E5ECF6",
            "gridcolor": "white",
            "gridwidth": 2,
            "linecolor": "white",
            "showbackground": true,
            "ticks": "",
            "zerolinecolor": "white"
           },
           "yaxis": {
            "backgroundcolor": "#E5ECF6",
            "gridcolor": "white",
            "gridwidth": 2,
            "linecolor": "white",
            "showbackground": true,
            "ticks": "",
            "zerolinecolor": "white"
           },
           "zaxis": {
            "backgroundcolor": "#E5ECF6",
            "gridcolor": "white",
            "gridwidth": 2,
            "linecolor": "white",
            "showbackground": true,
            "ticks": "",
            "zerolinecolor": "white"
           }
          },
          "shapedefaults": {
           "line": {
            "color": "#2a3f5f"
           }
          },
          "ternary": {
           "aaxis": {
            "gridcolor": "white",
            "linecolor": "white",
            "ticks": ""
           },
           "baxis": {
            "gridcolor": "white",
            "linecolor": "white",
            "ticks": ""
           },
           "bgcolor": "#E5ECF6",
           "caxis": {
            "gridcolor": "white",
            "linecolor": "white",
            "ticks": ""
           }
          },
          "title": {
           "x": 0.05
          },
          "xaxis": {
           "automargin": true,
           "gridcolor": "white",
           "linecolor": "white",
           "ticks": "",
           "title": {
            "standoff": 15
           },
           "zerolinecolor": "white",
           "zerolinewidth": 2
          },
          "yaxis": {
           "automargin": true,
           "gridcolor": "white",
           "linecolor": "white",
           "ticks": "",
           "title": {
            "standoff": 15
           },
           "zerolinecolor": "white",
           "zerolinewidth": 2
          }
         }
        },
        "title": {
         "text": "Boxplot of AADBT for BiciZen, BACC, and Counters"
        },
        "xaxis": {
         "anchor": "y",
         "domain": [
          0.0,
          1.0
         ],
         "title": {
          "text": "Dataset"
         }
        },
        "yaxis": {
         "anchor": "x",
         "domain": [
          0.0,
          1.0
         ],
         "title": {
          "text": "AADBT"
         }
        }
       }
      }
     },
     "metadata": {},
     "output_type": "display_data"
    }
   ],
   "source": [
    "# Combine data into a single DataFrame for Plotly, including id or ROOT_ID\n",
    "data = pd.concat([\n",
    "    pd.DataFrame({'Dataset': 'BiciZen', 'AADBT': bicizen['AADBT'], 'ID': bicizen['id']}),\n",
    "    pd.DataFrame({'Dataset': 'BACC', 'AADBT': bacc['AADBT'], 'ID': bacc['id']}),\n",
    "    pd.DataFrame({'Dataset': 'Counters', 'AADBT': counters['AADBT'], 'ID': counters['id']})\n",
    "])\n",
    "\n",
    "# Create the boxplot\n",
    "fig = px.box(data, x='Dataset', y='AADBT', hover_data=['ID'], title=\"Boxplot of AADBT for BiciZen, BACC, and Counters\")\n",
    "fig.show()\n"
   ]
  },
  {
   "cell_type": "markdown",
   "id": "3ac76699",
   "metadata": {
    "papermill": {
     "duration": 0.008092,
     "end_time": "2025-04-09T15:06:57.369076",
     "exception": false,
     "start_time": "2025-04-09T15:06:57.360984",
     "status": "completed"
    },
    "tags": []
   },
   "source": [
    "# Save output"
   ]
  },
  {
   "cell_type": "code",
   "execution_count": 11,
   "id": "8b432a4e",
   "metadata": {
    "execution": {
     "iopub.execute_input": "2025-04-09T15:06:57.389008Z",
     "iopub.status.busy": "2025-04-09T15:06:57.389008Z",
     "iopub.status.idle": "2025-04-09T15:06:57.401028Z",
     "shell.execute_reply": "2025-04-09T15:06:57.401028Z"
    },
    "papermill": {
     "duration": 0.022436,
     "end_time": "2025-04-09T15:06:57.402057",
     "exception": false,
     "start_time": "2025-04-09T15:06:57.379621",
     "status": "completed"
    },
    "tags": []
   },
   "outputs": [],
   "source": [
    "if SAVE_OUTPUT:\n",
    "    datasets.to_parquet(f'{OUTPUT_DATA_PATH}/datasets{YEAR}.parquet')\n",
    "    "
   ]
  }
 ],
 "metadata": {
  "colab": {
   "collapsed_sections": [
    "5bf315c7",
    "eebb1a73",
    "12dd37b6"
   ],
   "provenance": []
  },
  "kernelspec": {
   "display_name": "ridership_model",
   "language": "python",
   "name": "python3"
  },
  "language_info": {
   "codemirror_mode": {
    "name": "ipython",
    "version": 3
   },
   "file_extension": ".py",
   "mimetype": "text/x-python",
   "name": "python",
   "nbconvert_exporter": "python",
   "pygments_lexer": "ipython3",
   "version": "3.11.9"
  },
  "papermill": {
   "default_parameters": {},
   "duration": 4.477688,
   "end_time": "2025-04-09T15:06:57.762083",
   "environment_variables": {},
   "exception": null,
   "input_path": "015-luca_scale_predictions.ipynb",
   "output_path": "015-luca_scale_predictions.ipynb",
   "parameters": {
    "SAVE_OUTPUT": true,
    "YEAR": 2024
   },
   "start_time": "2025-04-09T15:06:53.284395",
   "version": "2.6.0"
  }
 },
 "nbformat": 4,
 "nbformat_minor": 5
}