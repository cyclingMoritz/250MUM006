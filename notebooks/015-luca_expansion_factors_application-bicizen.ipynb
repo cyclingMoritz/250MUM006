{
 "cells": [
  {
   "cell_type": "code",
   "execution_count": 1,
   "id": "4a2da81f",
   "metadata": {
    "execution": {
     "iopub.execute_input": "2025-04-08T13:16:21.903927Z",
     "iopub.status.busy": "2025-04-08T13:16:21.903927Z",
     "iopub.status.idle": "2025-04-08T13:16:21.916482Z",
     "shell.execute_reply": "2025-04-08T13:16:21.916482Z"
    },
    "papermill": {
     "duration": 0.029972,
     "end_time": "2025-04-08T13:16:21.916482",
     "exception": false,
     "start_time": "2025-04-08T13:16:21.886510",
     "status": "completed"
    },
    "tags": [
     "injected-parameters"
    ]
   },
   "outputs": [],
   "source": [
    "# Parameters\n",
    "YEAR = 2024\n",
    "SAVE_OUTPUT = True\n"
   ]
  },
  {
   "cell_type": "code",
   "execution_count": 2,
   "id": "34332b88",
   "metadata": {
    "execution": {
     "iopub.execute_input": "2025-04-08T13:16:21.959961Z",
     "iopub.status.busy": "2025-04-08T13:16:21.959961Z",
     "iopub.status.idle": "2025-04-08T13:16:21.966920Z",
     "shell.execute_reply": "2025-04-08T13:16:21.966920Z"
    },
    "executionInfo": {
     "elapsed": 196,
     "status": "ok",
     "timestamp": 1737216414526,
     "user": {
      "displayName": "Luca Liebscht",
      "userId": "11880140528704889234"
     },
     "user_tz": -60
    },
    "id": "I_hrwU9x479z",
    "papermill": {
     "duration": 0.036795,
     "end_time": "2025-04-08T13:16:21.970077",
     "exception": false,
     "start_time": "2025-04-08T13:16:21.933282",
     "status": "completed"
    },
    "tags": [
     "parameters"
    ]
   },
   "outputs": [],
   "source": [
    "# parameters\n",
    "INPUT_DATA_PATH = \"../data/interim/\"\n",
    "INPUT_PROCESSED_DATA_PATH = \"../data/processed/\"\n",
    "\n",
    "YEAR = 2024\n",
    "SAVE_OUTPUT = True\n",
    "OUTPUT_DATA_PATH = \"../data/processed/\"\n",
    "OUTPUT_FIGURES_PATH = \"../reports/figures/\""
   ]
  },
  {
   "cell_type": "code",
   "execution_count": 3,
   "id": "f96ccfa5",
   "metadata": {
    "colab": {
     "base_uri": "https://localhost:8080/"
    },
    "execution": {
     "iopub.execute_input": "2025-04-08T13:16:22.022913Z",
     "iopub.status.busy": "2025-04-08T13:16:22.020900Z",
     "iopub.status.idle": "2025-04-08T13:16:25.294809Z",
     "shell.execute_reply": "2025-04-08T13:16:25.293792Z"
    },
    "executionInfo": {
     "elapsed": 19072,
     "status": "ok",
     "timestamp": 1737216453714,
     "user": {
      "displayName": "Luca Liebscht",
      "userId": "11880140528704889234"
     },
     "user_tz": -60
    },
    "id": "HnDB36CLTIxL",
    "outputId": "5e9ddd8f-0300-40ec-cf32-75cf8dc5e328",
    "papermill": {
     "duration": 3.308192,
     "end_time": "2025-04-08T13:16:25.294809",
     "exception": false,
     "start_time": "2025-04-08T13:16:21.986617",
     "status": "completed"
    },
    "tags": []
   },
   "outputs": [],
   "source": [
    "# Import all necessary libraries\n",
    "import time\n",
    "start = time.time()\n",
    "import geopandas as gpd\n",
    "import pandas as pd\n",
    "from functools import reduce\n",
    "import matplotlib.pyplot as plt\n",
    "from pandas.api.types import CategoricalDtype\n",
    "import seaborn as sns\n",
    "\n",
    "import warnings\n",
    "from pathlib import Path\n"
   ]
  },
  {
   "cell_type": "markdown",
   "id": "06a8ab48",
   "metadata": {
    "papermill": {
     "duration": 0.021143,
     "end_time": "2025-04-08T13:16:25.336875",
     "exception": false,
     "start_time": "2025-04-08T13:16:25.315732",
     "status": "completed"
    },
    "tags": []
   },
   "source": [
    "# Load data"
   ]
  },
  {
   "cell_type": "code",
   "execution_count": 4,
   "id": "1d238869",
   "metadata": {
    "execution": {
     "iopub.execute_input": "2025-04-08T13:16:25.375849Z",
     "iopub.status.busy": "2025-04-08T13:16:25.371793Z",
     "iopub.status.idle": "2025-04-08T13:16:25.472111Z",
     "shell.execute_reply": "2025-04-08T13:16:25.472111Z"
    },
    "papermill": {
     "duration": 0.117905,
     "end_time": "2025-04-08T13:16:25.472111",
     "exception": false,
     "start_time": "2025-04-08T13:16:25.354206",
     "status": "completed"
    },
    "tags": []
   },
   "outputs": [
    {
     "name": "stdout",
     "output_type": "stream",
     "text": [
      "Index(['id', 'year', 'hour', 'Average_HOD', 'sum_of_Average_HOD', 'HOD'], dtype='object')\n"
     ]
    }
   ],
   "source": [
    "# Read expansion factors from the input path\n",
    "hod_weekday = pd.read_parquet(Path(INPUT_DATA_PATH) / f\"expansion_factors/hod_weekday_{YEAR}.parquet\")\n",
    "hod_weekend = pd.read_parquet(Path(INPUT_DATA_PATH) / f\"expansion_factors/hod_weekend_{YEAR}.parquet\")\n",
    "dow_factor = pd.read_parquet(Path(INPUT_DATA_PATH) / f\"expansion_factors/dow_factor_{YEAR}.parquet\")\n",
    "moy_factor = pd.read_parquet(Path(INPUT_DATA_PATH) / f\"expansion_factors/moy_factor_{YEAR}.parquet\")\n",
    "print(hod_weekday.columns)"
   ]
  },
  {
   "cell_type": "code",
   "execution_count": 5,
   "id": "9593f7c5",
   "metadata": {
    "execution": {
     "iopub.execute_input": "2025-04-08T13:16:25.513577Z",
     "iopub.status.busy": "2025-04-08T13:16:25.513577Z",
     "iopub.status.idle": "2025-04-08T13:16:25.585624Z",
     "shell.execute_reply": "2025-04-08T13:16:25.576566Z"
    },
    "papermill": {
     "duration": 0.097079,
     "end_time": "2025-04-08T13:16:25.589653",
     "exception": false,
     "start_time": "2025-04-08T13:16:25.492574",
     "status": "completed"
    },
    "tags": []
   },
   "outputs": [
    {
     "name": "stdout",
     "output_type": "stream",
     "text": [
      "(722, 10)\n",
      "Index(['ROOT_ID', 'Date', 'Hour', 'Count', 'date', 'Year', 'Month', 'weekday',\n",
      "       'Day', 'geometry'],\n",
      "      dtype='object')\n"
     ]
    }
   ],
   "source": [
    "bicizen = gpd.read_parquet(Path(INPUT_DATA_PATH) / f\"bicizen/bicizen.parquet\")\n",
    "print(bicizen.shape)\n",
    "print(bicizen.columns)"
   ]
  },
  {
   "cell_type": "markdown",
   "id": "b2f864e6",
   "metadata": {
    "papermill": {
     "duration": 0.028358,
     "end_time": "2025-04-08T13:16:25.644179",
     "exception": false,
     "start_time": "2025-04-08T13:16:25.615821",
     "status": "completed"
    },
    "tags": []
   },
   "source": [
    "# Filter data"
   ]
  },
  {
   "cell_type": "code",
   "execution_count": 6,
   "id": "d80b5b99",
   "metadata": {
    "execution": {
     "iopub.execute_input": "2025-04-08T13:16:25.697459Z",
     "iopub.status.busy": "2025-04-08T13:16:25.697459Z",
     "iopub.status.idle": "2025-04-08T13:16:25.717057Z",
     "shell.execute_reply": "2025-04-08T13:16:25.717057Z"
    },
    "papermill": {
     "duration": 0.054056,
     "end_time": "2025-04-08T13:16:25.718809",
     "exception": false,
     "start_time": "2025-04-08T13:16:25.664753",
     "status": "completed"
    },
    "tags": []
   },
   "outputs": [
    {
     "name": "stdout",
     "output_type": "stream",
     "text": [
      "BiciZen shape before Mask 2 (553, 10)\n",
      "(553, 10)\n"
     ]
    }
   ],
   "source": [
    "## Only keep months with more than 10 observations\n",
    "\n",
    "mask1 = bicizen.groupby(by=[\"ROOT_ID\",\"Month\"]).size() >= 10\n",
    "bicizen = bicizen[bicizen.set_index([\"ROOT_ID\",\"Month\"]).index.map(mask1)]\n",
    "print(\"BiciZen shape before Mask 2\", bicizen.shape)\n",
    "\n",
    "print(bicizen.shape)\n"
   ]
  },
  {
   "cell_type": "markdown",
   "id": "c87c69fe",
   "metadata": {
    "papermill": {
     "duration": 0.021049,
     "end_time": "2025-04-08T13:16:25.756579",
     "exception": false,
     "start_time": "2025-04-08T13:16:25.735530",
     "status": "completed"
    },
    "tags": []
   },
   "source": [
    "# Apply Expansion factors to Short Term Counts\n"
   ]
  },
  {
   "cell_type": "markdown",
   "id": "404118dd",
   "metadata": {
    "papermill": {
     "duration": 0.016817,
     "end_time": "2025-04-08T13:16:25.789895",
     "exception": false,
     "start_time": "2025-04-08T13:16:25.773078",
     "status": "completed"
    },
    "tags": []
   },
   "source": [
    "The code is based on what Mintu et al did on their paper. Concretely:\n",
    "* The first step in covered in the notebook: **SC_data_Imputation_Daily_Volume_v3.ipynb**\n",
    "* The rest of the steps are covered in the notebook: **Weekly_Annual_Volume_Estimation_Version3.ipynb**"
   ]
  },
  {
   "attachments": {
    "image.png": {
     "image/png": "[encoded data removed]"
    }
   },
   "cell_type": "markdown",
   "id": "5070bbea",
   "metadata": {
    "papermill": {
     "duration": 0.016876,
     "end_time": "2025-04-08T13:16:25.819017",
     "exception": false,
     "start_time": "2025-04-08T13:16:25.802141",
     "status": "completed"
    },
    "tags": []
   },
   "source": [
    "This research developed HOD, DOW, and MOY expansion factors to impute the short-term site volume to AADBT. The imputation factor can be implemented using five sequential steps, as shown in Figure 4. To apply the expansion factors, each short-term site should collect at least one hour of bicycle traffic or volume. \n",
    "\n",
    "![image.png](attachment:image.png)"
   ]
  },
  {
   "cell_type": "markdown",
   "id": "e23743e7",
   "metadata": {
    "papermill": {
     "duration": 0.016998,
     "end_time": "2025-04-08T13:16:25.853718",
     "exception": false,
     "start_time": "2025-04-08T13:16:25.836720",
     "status": "completed"
    },
    "tags": []
   },
   "source": [
    "## Apply Expansion Factors"
   ]
  },
  {
   "cell_type": "markdown",
   "id": "5092e37d",
   "metadata": {
    "papermill": {
     "duration": 0.017033,
     "end_time": "2025-04-08T13:16:25.883551",
     "exception": false,
     "start_time": "2025-04-08T13:16:25.866518",
     "status": "completed"
    },
    "tags": []
   },
   "source": [
    "### Step 0: Prepare data"
   ]
  },
  {
   "cell_type": "code",
   "execution_count": 7,
   "id": "52f8d680",
   "metadata": {
    "execution": {
     "iopub.execute_input": "2025-04-08T13:16:25.917346Z",
     "iopub.status.busy": "2025-04-08T13:16:25.917346Z",
     "iopub.status.idle": "2025-04-08T13:16:25.924508Z",
     "shell.execute_reply": "2025-04-08T13:16:25.924508Z"
    },
    "papermill": {
     "duration": 0.025199,
     "end_time": "2025-04-08T13:16:25.926019",
     "exception": false,
     "start_time": "2025-04-08T13:16:25.900820",
     "status": "completed"
    },
    "tags": []
   },
   "outputs": [],
   "source": [
    "# #Concat the two datasets\n",
    "# counts=pd.concat([bicizen,bacc])\n",
    "# print(counts.shape)\n",
    "# print(counts.columns)\n",
    "# counts.head()\n",
    "counts=bicizen\n"
   ]
  },
  {
   "cell_type": "code",
   "execution_count": 8,
   "id": "165c1f4b",
   "metadata": {
    "execution": {
     "iopub.execute_input": "2025-04-08T13:16:25.972485Z",
     "iopub.status.busy": "2025-04-08T13:16:25.972485Z",
     "iopub.status.idle": "2025-04-08T13:16:25.988799Z",
     "shell.execute_reply": "2025-04-08T13:16:25.987776Z"
    },
    "papermill": {
     "duration": 0.033497,
     "end_time": "2025-04-08T13:16:25.988799",
     "exception": false,
     "start_time": "2025-04-08T13:16:25.955302",
     "status": "completed"
    },
    "tags": []
   },
   "outputs": [],
   "source": [
    "counts_weekday = counts[counts[\"weekday\"]<5]\n",
    "counts_weekend = counts[counts[\"weekday\"]>4]"
   ]
  },
  {
   "cell_type": "markdown",
   "id": "179f3020",
   "metadata": {
    "papermill": {
     "duration": 0.014907,
     "end_time": "2025-04-08T13:16:26.022089",
     "exception": false,
     "start_time": "2025-04-08T13:16:26.007182",
     "status": "completed"
    },
    "tags": []
   },
   "source": [
    "### Step 1: Apply weekday and weekend HOD factor"
   ]
  },
  {
   "attachments": {
    "image.png": {
     "image/png": "[encoded data removed]"
    }
   },
   "cell_type": "markdown",
   "id": "404944fb",
   "metadata": {
    "papermill": {
     "duration": 0.017036,
     "end_time": "2025-04-08T13:16:26.056017",
     "exception": false,
     "start_time": "2025-04-08T13:16:26.038981",
     "status": "completed"
    },
    "tags": []
   },
   "source": [
    "![image.png](attachment:image.png)"
   ]
  },
  {
   "cell_type": "code",
   "execution_count": 9,
   "id": "59d28eb2",
   "metadata": {
    "execution": {
     "iopub.execute_input": "2025-04-08T13:16:26.089823Z",
     "iopub.status.busy": "2025-04-08T13:16:26.089823Z",
     "iopub.status.idle": "2025-04-08T13:16:26.217446Z",
     "shell.execute_reply": "2025-04-08T13:16:26.217446Z"
    },
    "papermill": {
     "duration": 0.146693,
     "end_time": "2025-04-08T13:16:26.219203",
     "exception": false,
     "start_time": "2025-04-08T13:16:26.072510",
     "status": "completed"
    },
    "tags": []
   },
   "outputs": [
    {
     "data": {
      "text/html": [
       "<div>\n",
       "<style scoped>\n",
       "    .dataframe tbody tr th:only-of-type {\n",
       "        vertical-align: middle;\n",
       "    }\n",
       "\n",
       "    .dataframe tbody tr th {\n",
       "        vertical-align: top;\n",
       "    }\n",
       "\n",
       "    .dataframe thead th {\n",
       "        text-align: right;\n",
       "    }\n",
       "</style>\n",
       "<table border=\"1\" class=\"dataframe\">\n",
       "  <thead>\n",
       "    <tr style=\"text-align: right;\">\n",
       "      <th></th>\n",
       "      <th>Year</th>\n",
       "      <th>ROOT_ID</th>\n",
       "      <th>Month</th>\n",
       "      <th>weekday</th>\n",
       "      <th>Day</th>\n",
       "      <th>TDV</th>\n",
       "    </tr>\n",
       "  </thead>\n",
       "  <tbody>\n",
       "    <tr>\n",
       "      <th>0</th>\n",
       "      <td>2024</td>\n",
       "      <td>1029389</td>\n",
       "      <td>11</td>\n",
       "      <td>0</td>\n",
       "      <td>11</td>\n",
       "      <td>3055.082444</td>\n",
       "    </tr>\n",
       "    <tr>\n",
       "      <th>1</th>\n",
       "      <td>2024</td>\n",
       "      <td>1029389</td>\n",
       "      <td>11</td>\n",
       "      <td>0</td>\n",
       "      <td>18</td>\n",
       "      <td>4246.958657</td>\n",
       "    </tr>\n",
       "    <tr>\n",
       "      <th>2</th>\n",
       "      <td>2024</td>\n",
       "      <td>1029389</td>\n",
       "      <td>11</td>\n",
       "      <td>0</td>\n",
       "      <td>25</td>\n",
       "      <td>1086.213200</td>\n",
       "    </tr>\n",
       "    <tr>\n",
       "      <th>3</th>\n",
       "      <td>2024</td>\n",
       "      <td>1029389</td>\n",
       "      <td>11</td>\n",
       "      <td>1</td>\n",
       "      <td>5</td>\n",
       "      <td>2696.936840</td>\n",
       "    </tr>\n",
       "    <tr>\n",
       "      <th>4</th>\n",
       "      <td>2024</td>\n",
       "      <td>1029389</td>\n",
       "      <td>11</td>\n",
       "      <td>1</td>\n",
       "      <td>19</td>\n",
       "      <td>4073.299500</td>\n",
       "    </tr>\n",
       "    <tr>\n",
       "      <th>...</th>\n",
       "      <td>...</td>\n",
       "      <td>...</td>\n",
       "      <td>...</td>\n",
       "      <td>...</td>\n",
       "      <td>...</td>\n",
       "      <td>...</td>\n",
       "    </tr>\n",
       "    <tr>\n",
       "      <th>341</th>\n",
       "      <td>2024</td>\n",
       "      <td>1059225</td>\n",
       "      <td>11</td>\n",
       "      <td>3</td>\n",
       "      <td>21</td>\n",
       "      <td>407.329950</td>\n",
       "    </tr>\n",
       "    <tr>\n",
       "      <th>342</th>\n",
       "      <td>2024</td>\n",
       "      <td>1059225</td>\n",
       "      <td>11</td>\n",
       "      <td>3</td>\n",
       "      <td>28</td>\n",
       "      <td>543.106600</td>\n",
       "    </tr>\n",
       "    <tr>\n",
       "      <th>343</th>\n",
       "      <td>2024</td>\n",
       "      <td>1059225</td>\n",
       "      <td>11</td>\n",
       "      <td>4</td>\n",
       "      <td>15</td>\n",
       "      <td>245.239661</td>\n",
       "    </tr>\n",
       "    <tr>\n",
       "      <th>344</th>\n",
       "      <td>2024</td>\n",
       "      <td>1059225</td>\n",
       "      <td>11</td>\n",
       "      <td>4</td>\n",
       "      <td>22</td>\n",
       "      <td>543.106600</td>\n",
       "    </tr>\n",
       "    <tr>\n",
       "      <th>345</th>\n",
       "      <td>2024</td>\n",
       "      <td>1059225</td>\n",
       "      <td>11</td>\n",
       "      <td>4</td>\n",
       "      <td>29</td>\n",
       "      <td>543.106600</td>\n",
       "    </tr>\n",
       "  </tbody>\n",
       "</table>\n",
       "<p>346 rows × 6 columns</p>\n",
       "</div>"
      ],
      "text/plain": [
       "     Year  ROOT_ID  Month  weekday  Day          TDV\n",
       "0    2024  1029389     11        0   11  3055.082444\n",
       "1    2024  1029389     11        0   18  4246.958657\n",
       "2    2024  1029389     11        0   25  1086.213200\n",
       "3    2024  1029389     11        1    5  2696.936840\n",
       "4    2024  1029389     11        1   19  4073.299500\n",
       "..    ...      ...    ...      ...  ...          ...\n",
       "341  2024  1059225     11        3   21   407.329950\n",
       "342  2024  1059225     11        3   28   543.106600\n",
       "343  2024  1059225     11        4   15   245.239661\n",
       "344  2024  1059225     11        4   22   543.106600\n",
       "345  2024  1059225     11        4   29   543.106600\n",
       "\n",
       "[346 rows x 6 columns]"
      ]
     },
     "execution_count": 9,
     "metadata": {},
     "output_type": "execute_result"
    }
   ],
   "source": [
    "# Calculate daily Volume for weekday\n",
    "# Merge counts_weekday data with hod_weekday factors on Year and Hour\n",
    "merged_weekday_data = pd.merge(counts_weekday, hod_weekday, left_on=['Year', 'Hour'], right_on=['year', 'hour'], how='inner')\n",
    "\n",
    "# Calculate total counts for each day and ROOT_ID\n",
    "weekday_daily_counts = pd.DataFrame({'total_count': merged_weekday_data.groupby(['Year', 'Month', 'Day','weekday',  'ROOT_ID'])['Count'].sum()}).reset_index()\n",
    "\n",
    "# Calculate total HOD factors for each day and ROOT_ID\n",
    "weekday_daily_factors = pd.DataFrame({'total_factor': merged_weekday_data.groupby(['Year', 'Month', 'Day','weekday',  'ROOT_ID'])['HOD'].sum()}).reset_index()\n",
    "\n",
    "# Merge the counts and factors dataframes\n",
    "merged_weekday_counts_factors = pd.merge(weekday_daily_counts, weekday_daily_factors, on=['Year', 'Month', 'Day','weekday',  'ROOT_ID'], how='inner')\n",
    "\n",
    "# Calculate the Daily Volume by dividing total counts by total factors\n",
    "merged_weekday_counts_factors['Daily_Volume'] = merged_weekday_counts_factors['total_count'] / merged_weekday_counts_factors['total_factor']\n",
    "\n",
    "# Calculate the mean Daily Volume (TDV) for each Year, ROOT_ID, Month, and Day\n",
    "weekday_daily_volume = pd.DataFrame({'TDV': merged_weekday_counts_factors.groupby(['Year', 'ROOT_ID', 'Month','weekday',  'Day'])['Daily_Volume'].mean()}).reset_index()\n",
    "\n",
    "weekday_daily_volume"
   ]
  },
  {
   "cell_type": "code",
   "execution_count": 10,
   "id": "8070cc53",
   "metadata": {
    "execution": {
     "iopub.execute_input": "2025-04-08T13:16:26.274315Z",
     "iopub.status.busy": "2025-04-08T13:16:26.272304Z",
     "iopub.status.idle": "2025-04-08T13:16:26.344441Z",
     "shell.execute_reply": "2025-04-08T13:16:26.344441Z"
    },
    "papermill": {
     "duration": 0.100091,
     "end_time": "2025-04-08T13:16:26.345952",
     "exception": false,
     "start_time": "2025-04-08T13:16:26.245861",
     "status": "completed"
    },
    "tags": []
   },
   "outputs": [
    {
     "data": {
      "text/html": [
       "<div>\n",
       "<style scoped>\n",
       "    .dataframe tbody tr th:only-of-type {\n",
       "        vertical-align: middle;\n",
       "    }\n",
       "\n",
       "    .dataframe tbody tr th {\n",
       "        vertical-align: top;\n",
       "    }\n",
       "\n",
       "    .dataframe thead th {\n",
       "        text-align: right;\n",
       "    }\n",
       "</style>\n",
       "<table border=\"1\" class=\"dataframe\">\n",
       "  <thead>\n",
       "    <tr style=\"text-align: right;\">\n",
       "      <th></th>\n",
       "      <th>Year</th>\n",
       "      <th>ROOT_ID</th>\n",
       "      <th>Month</th>\n",
       "      <th>weekday</th>\n",
       "      <th>Day</th>\n",
       "      <th>TDV</th>\n",
       "    </tr>\n",
       "  </thead>\n",
       "  <tbody>\n",
       "    <tr>\n",
       "      <th>0</th>\n",
       "      <td>2024</td>\n",
       "      <td>1048268</td>\n",
       "      <td>11</td>\n",
       "      <td>5</td>\n",
       "      <td>2</td>\n",
       "      <td>567.995381</td>\n",
       "    </tr>\n",
       "    <tr>\n",
       "      <th>1</th>\n",
       "      <td>2024</td>\n",
       "      <td>1048268</td>\n",
       "      <td>11</td>\n",
       "      <td>5</td>\n",
       "      <td>9</td>\n",
       "      <td>495.767846</td>\n",
       "    </tr>\n",
       "    <tr>\n",
       "      <th>2</th>\n",
       "      <td>2024</td>\n",
       "      <td>1048268</td>\n",
       "      <td>11</td>\n",
       "      <td>5</td>\n",
       "      <td>16</td>\n",
       "      <td>294.262246</td>\n",
       "    </tr>\n",
       "    <tr>\n",
       "      <th>3</th>\n",
       "      <td>2024</td>\n",
       "      <td>1048268</td>\n",
       "      <td>11</td>\n",
       "      <td>5</td>\n",
       "      <td>23</td>\n",
       "      <td>307.824432</td>\n",
       "    </tr>\n",
       "    <tr>\n",
       "      <th>4</th>\n",
       "      <td>2024</td>\n",
       "      <td>1048268</td>\n",
       "      <td>11</td>\n",
       "      <td>5</td>\n",
       "      <td>30</td>\n",
       "      <td>553.001082</td>\n",
       "    </tr>\n",
       "  </tbody>\n",
       "</table>\n",
       "</div>"
      ],
      "text/plain": [
       "   Year  ROOT_ID  Month  weekday  Day         TDV\n",
       "0  2024  1048268     11        5    2  567.995381\n",
       "1  2024  1048268     11        5    9  495.767846\n",
       "2  2024  1048268     11        5   16  294.262246\n",
       "3  2024  1048268     11        5   23  307.824432\n",
       "4  2024  1048268     11        5   30  553.001082"
      ]
     },
     "execution_count": 10,
     "metadata": {},
     "output_type": "execute_result"
    }
   ],
   "source": [
    "# Calculate daily Volume for weekend\n",
    "# Merge counts_weekend data with hod_weekend factors on Year and Hour\n",
    "merged_weekend_data = pd.merge(counts_weekend, hod_weekend, left_on=['Year', 'Hour'], right_on=['year', 'hour'], how='inner')\n",
    "\n",
    "# Calculate total counts for each day and ROOT_ID\n",
    "weekend_daily_counts = pd.DataFrame({'total_count': merged_weekend_data.groupby(['Year', 'Month', 'Day', 'weekday', 'ROOT_ID'])['Count'].sum()}).reset_index()\n",
    "\n",
    "# Calculate total HOD factors for each day and ROOT_ID\n",
    "weekend_daily_factors = pd.DataFrame({'total_factor': merged_weekend_data.groupby(['Year', 'Month', 'Day', 'weekday', 'ROOT_ID'])['HOD'].sum()}).reset_index()\n",
    "\n",
    "# Merge the counts and factors dataframes\n",
    "merged_weekend_counts_factors = pd.merge(weekend_daily_counts, weekend_daily_factors, on=['Year', 'Month', 'weekday', 'Day', 'ROOT_ID'], how='inner')\n",
    "\n",
    "# Calculate the Daily Volume by dividing total counts by total factors\n",
    "merged_weekend_counts_factors['Daily_Volume'] = merged_weekend_counts_factors['total_count'] / merged_weekend_counts_factors['total_factor']\n",
    "\n",
    "# Calculate the mean Daily Volume (TDV) for each Year, ROOT_ID, Month, and Day\n",
    "weekend_daily_volume = pd.DataFrame({'TDV': merged_weekend_counts_factors.groupby(['Year', 'ROOT_ID', 'Month', 'weekday', 'Day'])['Daily_Volume'].mean()}).reset_index()\n",
    "\n",
    "weekend_daily_volume.head()"
   ]
  },
  {
   "cell_type": "code",
   "execution_count": 11,
   "id": "6ee60a91",
   "metadata": {
    "execution": {
     "iopub.execute_input": "2025-04-08T13:16:26.378752Z",
     "iopub.status.busy": "2025-04-08T13:16:26.378752Z",
     "iopub.status.idle": "2025-04-08T13:16:26.388041Z",
     "shell.execute_reply": "2025-04-08T13:16:26.388041Z"
    },
    "papermill": {
     "duration": 0.025613,
     "end_time": "2025-04-08T13:16:26.388041",
     "exception": false,
     "start_time": "2025-04-08T13:16:26.362428",
     "status": "completed"
    },
    "tags": []
   },
   "outputs": [
    {
     "name": "stdout",
     "output_type": "stream",
     "text": [
      "(416, 6)\n"
     ]
    }
   ],
   "source": [
    "#Concat both datasets\n",
    "daily_volume=pd.concat([weekday_daily_volume,weekend_daily_volume])\n",
    "# daily_volume=weekday_daily_volume.copy()\n",
    "print(daily_volume.shape)"
   ]
  },
  {
   "cell_type": "code",
   "execution_count": 12,
   "id": "160847fd",
   "metadata": {
    "execution": {
     "iopub.execute_input": "2025-04-08T13:16:26.430203Z",
     "iopub.status.busy": "2025-04-08T13:16:26.430203Z",
     "iopub.status.idle": "2025-04-08T13:16:27.211819Z",
     "shell.execute_reply": "2025-04-08T13:16:27.211819Z"
    },
    "papermill": {
     "duration": 0.804915,
     "end_time": "2025-04-08T13:16:27.213366",
     "exception": false,
     "start_time": "2025-04-08T13:16:26.408451",
     "status": "completed"
    },
    "tags": []
   },
   "outputs": [
    {
     "data": {
      "image/png": "[encoded data removed]",
      "text/plain": [
       "<Figure size 1800x600 with 2 Axes>"
      ]
     },
     "metadata": {},
     "output_type": "display_data"
    }
   ],
   "source": [
    "# Make plots of TDV for weekday and weekend side by side\n",
    "fig, axes = plt.subplots(1, 2, figsize=(18, 6))\n",
    "\n",
    "# Plot TDV for weekday\n",
    "sns.histplot(weekday_daily_volume['TDV'], bins=30, kde=True, ax=axes[0])\n",
    "axes[0].set_title('Total Daily Volume (TDV) Distribution for Weekdays')\n",
    "axes[0].set_xlabel('TDV')\n",
    "axes[0].set_ylabel('Frequency')\n",
    "\n",
    "# Plot TDV for weekend\n",
    "sns.histplot(weekend_daily_volume['TDV'], bins=30, kde=True, ax=axes[1])\n",
    "axes[1].set_title('Total Daily Volume (TDV) Distribution for Weekends')\n",
    "axes[1].set_xlabel('TDV')\n",
    "axes[1].set_ylabel('Frequency')\n",
    "\n",
    "plt.tight_layout()\n",
    "plt.show()"
   ]
  },
  {
   "cell_type": "markdown",
   "id": "12d0b9be",
   "metadata": {
    "papermill": {
     "duration": 0.021089,
     "end_time": "2025-04-08T13:16:27.254987",
     "exception": false,
     "start_time": "2025-04-08T13:16:27.233898",
     "status": "completed"
    },
    "tags": []
   },
   "source": [
    "### Step 2: Apply DOW factor\n"
   ]
  },
  {
   "attachments": {
    "image.png": {
     "image/png": "[encoded data removed]"
    }
   },
   "cell_type": "markdown",
   "id": "b132ee5e",
   "metadata": {
    "papermill": {
     "duration": 0.020647,
     "end_time": "2025-04-08T13:16:27.296224",
     "exception": false,
     "start_time": "2025-04-08T13:16:27.275577",
     "status": "completed"
    },
    "tags": []
   },
   "source": [
    "![image.png](attachment:image.png)"
   ]
  },
  {
   "cell_type": "code",
   "execution_count": 13,
   "id": "87041eaf",
   "metadata": {
    "execution": {
     "iopub.execute_input": "2025-04-08T13:16:27.345655Z",
     "iopub.status.busy": "2025-04-08T13:16:27.345655Z",
     "iopub.status.idle": "2025-04-08T13:16:27.426326Z",
     "shell.execute_reply": "2025-04-08T13:16:27.426326Z"
    },
    "papermill": {
     "duration": 0.111541,
     "end_time": "2025-04-08T13:16:27.428372",
     "exception": false,
     "start_time": "2025-04-08T13:16:27.316831",
     "status": "completed"
    },
    "tags": []
   },
   "outputs": [
    {
     "data": {
      "text/html": [
       "<div>\n",
       "<style scoped>\n",
       "    .dataframe tbody tr th:only-of-type {\n",
       "        vertical-align: middle;\n",
       "    }\n",
       "\n",
       "    .dataframe tbody tr th {\n",
       "        vertical-align: top;\n",
       "    }\n",
       "\n",
       "    .dataframe thead th {\n",
       "        text-align: right;\n",
       "    }\n",
       "</style>\n",
       "<table border=\"1\" class=\"dataframe\">\n",
       "  <thead>\n",
       "    <tr style=\"text-align: right;\">\n",
       "      <th></th>\n",
       "      <th>Year</th>\n",
       "      <th>ROOT_ID</th>\n",
       "      <th>Month</th>\n",
       "      <th>TWV</th>\n",
       "    </tr>\n",
       "  </thead>\n",
       "  <tbody>\n",
       "    <tr>\n",
       "      <th>0</th>\n",
       "      <td>2024</td>\n",
       "      <td>1029389</td>\n",
       "      <td>11</td>\n",
       "      <td>19435.646048</td>\n",
       "    </tr>\n",
       "    <tr>\n",
       "      <th>1</th>\n",
       "      <td>2024</td>\n",
       "      <td>1046328</td>\n",
       "      <td>11</td>\n",
       "      <td>5062.057328</td>\n",
       "    </tr>\n",
       "    <tr>\n",
       "      <th>2</th>\n",
       "      <td>2024</td>\n",
       "      <td>1046333</td>\n",
       "      <td>11</td>\n",
       "      <td>1732.464571</td>\n",
       "    </tr>\n",
       "    <tr>\n",
       "      <th>3</th>\n",
       "      <td>2024</td>\n",
       "      <td>1046343</td>\n",
       "      <td>11</td>\n",
       "      <td>2732.300226</td>\n",
       "    </tr>\n",
       "    <tr>\n",
       "      <th>4</th>\n",
       "      <td>2024</td>\n",
       "      <td>1047953</td>\n",
       "      <td>11</td>\n",
       "      <td>18626.541362</td>\n",
       "    </tr>\n",
       "    <tr>\n",
       "      <th>5</th>\n",
       "      <td>2024</td>\n",
       "      <td>1047975</td>\n",
       "      <td>11</td>\n",
       "      <td>31826.289385</td>\n",
       "    </tr>\n",
       "    <tr>\n",
       "      <th>6</th>\n",
       "      <td>2024</td>\n",
       "      <td>1048209</td>\n",
       "      <td>11</td>\n",
       "      <td>13596.148172</td>\n",
       "    </tr>\n",
       "    <tr>\n",
       "      <th>7</th>\n",
       "      <td>2024</td>\n",
       "      <td>1048223</td>\n",
       "      <td>11</td>\n",
       "      <td>11946.118273</td>\n",
       "    </tr>\n",
       "    <tr>\n",
       "      <th>8</th>\n",
       "      <td>2024</td>\n",
       "      <td>1048268</td>\n",
       "      <td>11</td>\n",
       "      <td>3029.194935</td>\n",
       "    </tr>\n",
       "    <tr>\n",
       "      <th>9</th>\n",
       "      <td>2024</td>\n",
       "      <td>1048272</td>\n",
       "      <td>11</td>\n",
       "      <td>3960.309250</td>\n",
       "    </tr>\n",
       "    <tr>\n",
       "      <th>10</th>\n",
       "      <td>2024</td>\n",
       "      <td>1048273</td>\n",
       "      <td>11</td>\n",
       "      <td>3013.424590</td>\n",
       "    </tr>\n",
       "    <tr>\n",
       "      <th>11</th>\n",
       "      <td>2024</td>\n",
       "      <td>1048274</td>\n",
       "      <td>11</td>\n",
       "      <td>10542.725625</td>\n",
       "    </tr>\n",
       "    <tr>\n",
       "      <th>12</th>\n",
       "      <td>2024</td>\n",
       "      <td>1048277</td>\n",
       "      <td>11</td>\n",
       "      <td>8879.992248</td>\n",
       "    </tr>\n",
       "    <tr>\n",
       "      <th>13</th>\n",
       "      <td>2024</td>\n",
       "      <td>1048280</td>\n",
       "      <td>11</td>\n",
       "      <td>6489.109782</td>\n",
       "    </tr>\n",
       "    <tr>\n",
       "      <th>14</th>\n",
       "      <td>2024</td>\n",
       "      <td>1048896</td>\n",
       "      <td>11</td>\n",
       "      <td>3833.409459</td>\n",
       "    </tr>\n",
       "    <tr>\n",
       "      <th>15</th>\n",
       "      <td>2024</td>\n",
       "      <td>1048955</td>\n",
       "      <td>12</td>\n",
       "      <td>1299.179123</td>\n",
       "    </tr>\n",
       "    <tr>\n",
       "      <th>16</th>\n",
       "      <td>2024</td>\n",
       "      <td>1049380</td>\n",
       "      <td>11</td>\n",
       "      <td>13147.751890</td>\n",
       "    </tr>\n",
       "    <tr>\n",
       "      <th>17</th>\n",
       "      <td>2024</td>\n",
       "      <td>1050909</td>\n",
       "      <td>11</td>\n",
       "      <td>3144.114373</td>\n",
       "    </tr>\n",
       "    <tr>\n",
       "      <th>18</th>\n",
       "      <td>2024</td>\n",
       "      <td>1050910</td>\n",
       "      <td>11</td>\n",
       "      <td>3959.489509</td>\n",
       "    </tr>\n",
       "    <tr>\n",
       "      <th>19</th>\n",
       "      <td>2024</td>\n",
       "      <td>1051865</td>\n",
       "      <td>11</td>\n",
       "      <td>4366.771929</td>\n",
       "    </tr>\n",
       "    <tr>\n",
       "      <th>20</th>\n",
       "      <td>2024</td>\n",
       "      <td>1052522</td>\n",
       "      <td>11</td>\n",
       "      <td>13379.367848</td>\n",
       "    </tr>\n",
       "    <tr>\n",
       "      <th>21</th>\n",
       "      <td>2024</td>\n",
       "      <td>1053659</td>\n",
       "      <td>11</td>\n",
       "      <td>2517.474234</td>\n",
       "    </tr>\n",
       "    <tr>\n",
       "      <th>22</th>\n",
       "      <td>2024</td>\n",
       "      <td>1054514</td>\n",
       "      <td>11</td>\n",
       "      <td>7963.718053</td>\n",
       "    </tr>\n",
       "    <tr>\n",
       "      <th>23</th>\n",
       "      <td>2024</td>\n",
       "      <td>1055893</td>\n",
       "      <td>11</td>\n",
       "      <td>590.962957</td>\n",
       "    </tr>\n",
       "    <tr>\n",
       "      <th>24</th>\n",
       "      <td>2024</td>\n",
       "      <td>1057984</td>\n",
       "      <td>11</td>\n",
       "      <td>13282.641972</td>\n",
       "    </tr>\n",
       "    <tr>\n",
       "      <th>25</th>\n",
       "      <td>2024</td>\n",
       "      <td>1059225</td>\n",
       "      <td>11</td>\n",
       "      <td>3636.081089</td>\n",
       "    </tr>\n",
       "  </tbody>\n",
       "</table>\n",
       "</div>"
      ],
      "text/plain": [
       "    Year  ROOT_ID  Month           TWV\n",
       "0   2024  1029389     11  19435.646048\n",
       "1   2024  1046328     11   5062.057328\n",
       "2   2024  1046333     11   1732.464571\n",
       "3   2024  1046343     11   2732.300226\n",
       "4   2024  1047953     11  18626.541362\n",
       "5   2024  1047975     11  31826.289385\n",
       "6   2024  1048209     11  13596.148172\n",
       "7   2024  1048223     11  11946.118273\n",
       "8   2024  1048268     11   3029.194935\n",
       "9   2024  1048272     11   3960.309250\n",
       "10  2024  1048273     11   3013.424590\n",
       "11  2024  1048274     11  10542.725625\n",
       "12  2024  1048277     11   8879.992248\n",
       "13  2024  1048280     11   6489.109782\n",
       "14  2024  1048896     11   3833.409459\n",
       "15  2024  1048955     12   1299.179123\n",
       "16  2024  1049380     11  13147.751890\n",
       "17  2024  1050909     11   3144.114373\n",
       "18  2024  1050910     11   3959.489509\n",
       "19  2024  1051865     11   4366.771929\n",
       "20  2024  1052522     11  13379.367848\n",
       "21  2024  1053659     11   2517.474234\n",
       "22  2024  1054514     11   7963.718053\n",
       "23  2024  1055893     11    590.962957\n",
       "24  2024  1057984     11  13282.641972\n",
       "25  2024  1059225     11   3636.081089"
      ]
     },
     "execution_count": 13,
     "metadata": {},
     "output_type": "execute_result"
    }
   ],
   "source": [
    "# Merge daily volume data with day of week (DOW) factors\n",
    "merged_dow_data = pd.merge(daily_volume, dow_factor, on='weekday', how='inner')\n",
    "\n",
    "# Aggregate weekly volume by summing daily volumes for each Year, ROOT_ID, and Month\n",
    "weekly_volume_sum = merged_dow_data.groupby(['Year', 'ROOT_ID', 'Month'])['TDV'].sum().reset_index()\n",
    "weekly_volume_sum.rename(columns={'TDV': 'total_weekly_volume'}, inplace=True)\n",
    "\n",
    "# Aggregate DOW factors by summing them for each Year, ROOT_ID, and Month\n",
    "weekly_dow_factor_sum = merged_dow_data.groupby(['Year', 'ROOT_ID', 'Month'])['DOW'].sum().reset_index()\n",
    "weekly_dow_factor_sum.rename(columns={'DOW': 'total_dow_factor'}, inplace=True)\n",
    "\n",
    "# Merge the weekly volume and DOW factor dataframes\n",
    "merged_weekly_data = pd.merge(weekly_volume_sum, weekly_dow_factor_sum, on=['Year', 'ROOT_ID', 'Month'], how='inner')\n",
    "\n",
    "# Calculate the weekly volume by dividing total weekly volume by total DOW factor\n",
    "merged_weekly_data['Weekly_Volume'] = merged_weekly_data['total_weekly_volume'] / merged_weekly_data['total_dow_factor']\n",
    "\n",
    "# Calculate the mean weekly volume (TWV) for each Year, ROOT_ID, and Month\n",
    "mean_weekly_volume = merged_weekly_data.groupby(['Year', 'ROOT_ID', 'Month'])['Weekly_Volume'].mean().reset_index()\n",
    "mean_weekly_volume.rename(columns={'Weekly_Volume': 'TWV'}, inplace=True)\n",
    "\n",
    "mean_weekly_volume\n"
   ]
  },
  {
   "cell_type": "markdown",
   "id": "34b18d6b",
   "metadata": {
    "papermill": {
     "duration": 0.02471,
     "end_time": "2025-04-08T13:16:27.470101",
     "exception": false,
     "start_time": "2025-04-08T13:16:27.445391",
     "status": "completed"
    },
    "tags": []
   },
   "source": [
    "### Step 3: Divide by 7 to get ADBT"
   ]
  },
  {
   "cell_type": "code",
   "execution_count": 14,
   "id": "3e717f8c",
   "metadata": {
    "execution": {
     "iopub.execute_input": "2025-04-08T13:16:27.511722Z",
     "iopub.status.busy": "2025-04-08T13:16:27.511722Z",
     "iopub.status.idle": "2025-04-08T13:16:27.527771Z",
     "shell.execute_reply": "2025-04-08T13:16:27.527771Z"
    },
    "papermill": {
     "duration": 0.041282,
     "end_time": "2025-04-08T13:16:27.527771",
     "exception": false,
     "start_time": "2025-04-08T13:16:27.486489",
     "status": "completed"
    },
    "tags": []
   },
   "outputs": [
    {
     "data": {
      "text/html": [
       "<div>\n",
       "<style scoped>\n",
       "    .dataframe tbody tr th:only-of-type {\n",
       "        vertical-align: middle;\n",
       "    }\n",
       "\n",
       "    .dataframe tbody tr th {\n",
       "        vertical-align: top;\n",
       "    }\n",
       "\n",
       "    .dataframe thead th {\n",
       "        text-align: right;\n",
       "    }\n",
       "</style>\n",
       "<table border=\"1\" class=\"dataframe\">\n",
       "  <thead>\n",
       "    <tr style=\"text-align: right;\">\n",
       "      <th></th>\n",
       "      <th>Year</th>\n",
       "      <th>ROOT_ID</th>\n",
       "      <th>Month</th>\n",
       "      <th>TWV</th>\n",
       "      <th>AWV</th>\n",
       "    </tr>\n",
       "  </thead>\n",
       "  <tbody>\n",
       "    <tr>\n",
       "      <th>0</th>\n",
       "      <td>2024</td>\n",
       "      <td>1029389</td>\n",
       "      <td>11</td>\n",
       "      <td>19435.646048</td>\n",
       "      <td>2776.520864</td>\n",
       "    </tr>\n",
       "    <tr>\n",
       "      <th>1</th>\n",
       "      <td>2024</td>\n",
       "      <td>1046328</td>\n",
       "      <td>11</td>\n",
       "      <td>5062.057328</td>\n",
       "      <td>723.151047</td>\n",
       "    </tr>\n",
       "    <tr>\n",
       "      <th>2</th>\n",
       "      <td>2024</td>\n",
       "      <td>1046333</td>\n",
       "      <td>11</td>\n",
       "      <td>1732.464571</td>\n",
       "      <td>247.494939</td>\n",
       "    </tr>\n",
       "    <tr>\n",
       "      <th>3</th>\n",
       "      <td>2024</td>\n",
       "      <td>1046343</td>\n",
       "      <td>11</td>\n",
       "      <td>2732.300226</td>\n",
       "      <td>390.328604</td>\n",
       "    </tr>\n",
       "    <tr>\n",
       "      <th>4</th>\n",
       "      <td>2024</td>\n",
       "      <td>1047953</td>\n",
       "      <td>11</td>\n",
       "      <td>18626.541362</td>\n",
       "      <td>2660.934480</td>\n",
       "    </tr>\n",
       "  </tbody>\n",
       "</table>\n",
       "</div>"
      ],
      "text/plain": [
       "   Year  ROOT_ID  Month           TWV          AWV\n",
       "0  2024  1029389     11  19435.646048  2776.520864\n",
       "1  2024  1046328     11   5062.057328   723.151047\n",
       "2  2024  1046333     11   1732.464571   247.494939\n",
       "3  2024  1046343     11   2732.300226   390.328604\n",
       "4  2024  1047953     11  18626.541362  2660.934480"
      ]
     },
     "execution_count": 14,
     "metadata": {},
     "output_type": "execute_result"
    }
   ],
   "source": [
    "# Now divide TWV by 7 to get the weekly average volume\n",
    "mean_weekly_volume['AWV'] = mean_weekly_volume['TWV'] / 7\n",
    "mean_weekly_volume.head()"
   ]
  },
  {
   "cell_type": "code",
   "execution_count": 15,
   "id": "e5408b5b",
   "metadata": {
    "execution": {
     "iopub.execute_input": "2025-04-08T13:16:27.585373Z",
     "iopub.status.busy": "2025-04-08T13:16:27.585373Z",
     "iopub.status.idle": "2025-04-08T13:16:27.598029Z",
     "shell.execute_reply": "2025-04-08T13:16:27.598029Z"
    },
    "papermill": {
     "duration": 0.045629,
     "end_time": "2025-04-08T13:16:27.598029",
     "exception": false,
     "start_time": "2025-04-08T13:16:27.552400",
     "status": "completed"
    },
    "tags": []
   },
   "outputs": [
    {
     "data": {
      "text/plain": [
       "count      26.000000\n",
       "mean     1164.798265\n",
       "std      1034.684627\n",
       "min        84.423280\n",
       "25%       436.846399\n",
       "50%       673.487804\n",
       "75%      1835.334784\n",
       "max      4546.612769\n",
       "Name: AWV, dtype: float64"
      ]
     },
     "execution_count": 15,
     "metadata": {},
     "output_type": "execute_result"
    }
   ],
   "source": [
    "mean_weekly_volume['AWV'].describe()"
   ]
  },
  {
   "cell_type": "code",
   "execution_count": 16,
   "id": "c94ddeca",
   "metadata": {
    "execution": {
     "iopub.execute_input": "2025-04-08T13:16:27.652161Z",
     "iopub.status.busy": "2025-04-08T13:16:27.648059Z",
     "iopub.status.idle": "2025-04-08T13:16:27.965631Z",
     "shell.execute_reply": "2025-04-08T13:16:27.965631Z"
    },
    "papermill": {
     "duration": 0.346792,
     "end_time": "2025-04-08T13:16:27.965631",
     "exception": false,
     "start_time": "2025-04-08T13:16:27.618839",
     "status": "completed"
    },
    "tags": []
   },
   "outputs": [
    {
     "data": {
      "image/png": "[encoded data removed]",
      "text/plain": [
       "<Figure size 1000x600 with 1 Axes>"
      ]
     },
     "metadata": {},
     "output_type": "display_data"
    }
   ],
   "source": [
    "# Make a plot of AWV distribution\n",
    "plt.figure(figsize=(10, 6))\n",
    "\n",
    "# Plot AWV distribution\n",
    "sns.histplot(mean_weekly_volume['AWV'], bins=30, kde=True)\n",
    "plt.title('Average Weekly Volume (AWV) Distribution')\n",
    "plt.xlabel('AWV')\n",
    "plt.ylabel('Frequency')\n",
    "\n",
    "plt.show()\n",
    "\n"
   ]
  },
  {
   "cell_type": "markdown",
   "id": "74ef6aae",
   "metadata": {
    "papermill": {
     "duration": 0.02119,
     "end_time": "2025-04-08T13:16:28.008364",
     "exception": false,
     "start_time": "2025-04-08T13:16:27.987174",
     "status": "completed"
    },
    "tags": []
   },
   "source": [
    "### Step 4: Multiply by days of the month"
   ]
  },
  {
   "attachments": {
    "image.png": {
     "image/png": "[encoded data removed]"
    }
   },
   "cell_type": "markdown",
   "id": "1689ce40",
   "metadata": {
    "papermill": {
     "duration": 0.033077,
     "end_time": "2025-04-08T13:16:28.058472",
     "exception": false,
     "start_time": "2025-04-08T13:16:28.025395",
     "status": "completed"
    },
    "tags": []
   },
   "source": [
    "![image.png](attachment:image.png)"
   ]
  },
  {
   "cell_type": "code",
   "execution_count": 17,
   "id": "658f7d8b",
   "metadata": {
    "execution": {
     "iopub.execute_input": "2025-04-08T13:16:28.100158Z",
     "iopub.status.busy": "2025-04-08T13:16:28.100158Z",
     "iopub.status.idle": "2025-04-08T13:16:28.116793Z",
     "shell.execute_reply": "2025-04-08T13:16:28.116793Z"
    },
    "papermill": {
     "duration": 0.037601,
     "end_time": "2025-04-08T13:16:28.116793",
     "exception": false,
     "start_time": "2025-04-08T13:16:28.079192",
     "status": "completed"
    },
    "tags": []
   },
   "outputs": [],
   "source": [
    "# Calculate the number of days in the data collection month and multiply average weekly volume (AWV) to get monthly total volume\n",
    "# Create a dummy day column to get the date and days in the month\n",
    "mean_weekly_volume['days_in_month'] = pd.to_datetime(mean_weekly_volume[['Year', 'Month']].assign(day=1)).dt.days_in_month\n",
    "\n",
    "mean_monthly = mean_weekly_volume.groupby(['Year', 'Month','days_in_month', 'ROOT_ID'])['AWV'].sum().reset_index()\n",
    "mean_monthly[\"MTT\"] = mean_monthly.apply(lambda row: row[\"AWV\"] * row[\"days_in_month\"], axis=1)\n",
    "# mean_monthly[\"MTT\"].describe()"
   ]
  },
  {
   "cell_type": "markdown",
   "id": "e1b3d07c",
   "metadata": {
    "papermill": {
     "duration": 0.024703,
     "end_time": "2025-04-08T13:16:28.166086",
     "exception": false,
     "start_time": "2025-04-08T13:16:28.141383",
     "status": "completed"
    },
    "tags": []
   },
   "source": [
    "### Step 5: Apply MOY and divide by days in year"
   ]
  },
  {
   "attachments": {
    "image.png": {
     "image/png": "[encoded data removed]"
    }
   },
   "cell_type": "markdown",
   "id": "77d1b008",
   "metadata": {
    "papermill": {
     "duration": 0.024662,
     "end_time": "2025-04-08T13:16:28.215488",
     "exception": false,
     "start_time": "2025-04-08T13:16:28.190826",
     "status": "completed"
    },
    "tags": []
   },
   "source": [
    "![image.png](attachment:image.png)"
   ]
  },
  {
   "cell_type": "code",
   "execution_count": 18,
   "id": "af59159d",
   "metadata": {
    "execution": {
     "iopub.execute_input": "2025-04-08T13:16:28.256620Z",
     "iopub.status.busy": "2025-04-08T13:16:28.256620Z",
     "iopub.status.idle": "2025-04-08T13:16:28.284148Z",
     "shell.execute_reply": "2025-04-08T13:16:28.284148Z"
    },
    "papermill": {
     "duration": 0.049657,
     "end_time": "2025-04-08T13:16:28.285694",
     "exception": false,
     "start_time": "2025-04-08T13:16:28.236037",
     "status": "completed"
    },
    "tags": []
   },
   "outputs": [
    {
     "data": {
      "text/html": [
       "<div>\n",
       "<style scoped>\n",
       "    .dataframe tbody tr th:only-of-type {\n",
       "        vertical-align: middle;\n",
       "    }\n",
       "\n",
       "    .dataframe tbody tr th {\n",
       "        vertical-align: top;\n",
       "    }\n",
       "\n",
       "    .dataframe thead th {\n",
       "        text-align: right;\n",
       "    }\n",
       "</style>\n",
       "<table border=\"1\" class=\"dataframe\">\n",
       "  <thead>\n",
       "    <tr style=\"text-align: right;\">\n",
       "      <th></th>\n",
       "      <th>Year</th>\n",
       "      <th>ROOT_ID</th>\n",
       "      <th>ATT</th>\n",
       "    </tr>\n",
       "  </thead>\n",
       "  <tbody>\n",
       "    <tr>\n",
       "      <th>0</th>\n",
       "      <td>2024</td>\n",
       "      <td>1029389</td>\n",
       "      <td>903375.899687</td>\n",
       "    </tr>\n",
       "    <tr>\n",
       "      <th>1</th>\n",
       "      <td>2024</td>\n",
       "      <td>1046328</td>\n",
       "      <td>235286.266375</td>\n",
       "    </tr>\n",
       "    <tr>\n",
       "      <th>2</th>\n",
       "      <td>2024</td>\n",
       "      <td>1046333</td>\n",
       "      <td>80525.583573</td>\n",
       "    </tr>\n",
       "    <tr>\n",
       "      <th>3</th>\n",
       "      <td>2024</td>\n",
       "      <td>1046343</td>\n",
       "      <td>126998.308625</td>\n",
       "    </tr>\n",
       "    <tr>\n",
       "      <th>4</th>\n",
       "      <td>2024</td>\n",
       "      <td>1047953</td>\n",
       "      <td>865768.419524</td>\n",
       "    </tr>\n",
       "  </tbody>\n",
       "</table>\n",
       "</div>"
      ],
      "text/plain": [
       "   Year  ROOT_ID            ATT\n",
       "0  2024  1029389  903375.899687\n",
       "1  2024  1046328  235286.266375\n",
       "2  2024  1046333   80525.583573\n",
       "3  2024  1046343  126998.308625\n",
       "4  2024  1047953  865768.419524"
      ]
     },
     "execution_count": 18,
     "metadata": {},
     "output_type": "execute_result"
    }
   ],
   "source": [
    "# Calculate Annual Volume for group 1\n",
    "merged_group1 = pd.merge(mean_monthly, moy_factor[[\"month\",\"MOY\"]], left_on=['Month'], right_on=['month'], how='inner')\n",
    "\n",
    "# Calculate aggregated monthly volume\n",
    "agg_monthly_volume = pd.DataFrame({'agg_monthly_volume': merged_group1.groupby(['Year', 'ROOT_ID'])['MTT'].sum()}).reset_index()\n",
    "\n",
    "# Calculate aggregated MOY factor\n",
    "agg_moy_factor = pd.DataFrame({'agg_moy_factor': merged_group1.groupby(['Year', 'ROOT_ID'])['MOY'].sum()}).reset_index()\n",
    "\n",
    "# Merge the aggregated data\n",
    "merged_annual_data = pd.merge(agg_monthly_volume, agg_moy_factor, on=['Year', 'ROOT_ID'], how='inner')\n",
    "\n",
    "# Calculate Annual Volume\n",
    "merged_annual_data['Annual_Volume'] = merged_annual_data['agg_monthly_volume'] / merged_annual_data['agg_moy_factor']\n",
    "\n",
    "# Calculate the mean Annual Volume (ATT)\n",
    "annual_volume = pd.DataFrame({'ATT': merged_annual_data.groupby(['Year', 'ROOT_ID'])['Annual_Volume'].mean()}).reset_index()\n",
    "\n",
    "annual_volume.head(5)\n"
   ]
  },
  {
   "cell_type": "code",
   "execution_count": 19,
   "id": "42c646ec",
   "metadata": {
    "execution": {
     "iopub.execute_input": "2025-04-08T13:16:28.345154Z",
     "iopub.status.busy": "2025-04-08T13:16:28.345154Z",
     "iopub.status.idle": "2025-04-08T13:16:28.363505Z",
     "shell.execute_reply": "2025-04-08T13:16:28.363505Z"
    },
    "papermill": {
     "duration": 0.052895,
     "end_time": "2025-04-08T13:16:28.367602",
     "exception": false,
     "start_time": "2025-04-08T13:16:28.314707",
     "status": "completed"
    },
    "tags": []
   },
   "outputs": [
    {
     "data": {
      "text/html": [
       "<div>\n",
       "<style scoped>\n",
       "    .dataframe tbody tr th:only-of-type {\n",
       "        vertical-align: middle;\n",
       "    }\n",
       "\n",
       "    .dataframe tbody tr th {\n",
       "        vertical-align: top;\n",
       "    }\n",
       "\n",
       "    .dataframe thead th {\n",
       "        text-align: right;\n",
       "    }\n",
       "</style>\n",
       "<table border=\"1\" class=\"dataframe\">\n",
       "  <thead>\n",
       "    <tr style=\"text-align: right;\">\n",
       "      <th></th>\n",
       "      <th>Year</th>\n",
       "      <th>ROOT_ID</th>\n",
       "      <th>ATT</th>\n",
       "      <th>ATT_in_Million</th>\n",
       "      <th>AADBT</th>\n",
       "    </tr>\n",
       "  </thead>\n",
       "  <tbody>\n",
       "    <tr>\n",
       "      <th>0</th>\n",
       "      <td>2024</td>\n",
       "      <td>1029389</td>\n",
       "      <td>903375.899687</td>\n",
       "      <td>0.903376</td>\n",
       "      <td>2475.002465</td>\n",
       "    </tr>\n",
       "    <tr>\n",
       "      <th>1</th>\n",
       "      <td>2024</td>\n",
       "      <td>1046328</td>\n",
       "      <td>235286.266375</td>\n",
       "      <td>0.235286</td>\n",
       "      <td>644.619908</td>\n",
       "    </tr>\n",
       "    <tr>\n",
       "      <th>2</th>\n",
       "      <td>2024</td>\n",
       "      <td>1046333</td>\n",
       "      <td>80525.583573</td>\n",
       "      <td>0.080526</td>\n",
       "      <td>220.618037</td>\n",
       "    </tr>\n",
       "    <tr>\n",
       "      <th>3</th>\n",
       "      <td>2024</td>\n",
       "      <td>1046343</td>\n",
       "      <td>126998.308625</td>\n",
       "      <td>0.126998</td>\n",
       "      <td>347.940572</td>\n",
       "    </tr>\n",
       "    <tr>\n",
       "      <th>4</th>\n",
       "      <td>2024</td>\n",
       "      <td>1047953</td>\n",
       "      <td>865768.419524</td>\n",
       "      <td>0.865768</td>\n",
       "      <td>2371.968273</td>\n",
       "    </tr>\n",
       "  </tbody>\n",
       "</table>\n",
       "</div>"
      ],
      "text/plain": [
       "   Year  ROOT_ID            ATT  ATT_in_Million        AADBT\n",
       "0  2024  1029389  903375.899687        0.903376  2475.002465\n",
       "1  2024  1046328  235286.266375        0.235286   644.619908\n",
       "2  2024  1046333   80525.583573        0.080526   220.618037\n",
       "3  2024  1046343  126998.308625        0.126998   347.940572\n",
       "4  2024  1047953  865768.419524        0.865768  2371.968273"
      ]
     },
     "execution_count": 19,
     "metadata": {},
     "output_type": "execute_result"
    }
   ],
   "source": [
    "# Convert ATT to millions\n",
    "annual_volume['ATT_in_Million'] = annual_volume['ATT'] / 1000000\n",
    "\n",
    "# Calculate AADBT\n",
    "annual_volume['AADBT'] = annual_volume['ATT'] / 365\n",
    "\n",
    "annual_volume.head()"
   ]
  },
  {
   "cell_type": "code",
   "execution_count": 20,
   "id": "241ff6b9",
   "metadata": {
    "execution": {
     "iopub.execute_input": "2025-04-08T13:16:28.416868Z",
     "iopub.status.busy": "2025-04-08T13:16:28.416868Z",
     "iopub.status.idle": "2025-04-08T13:16:29.941630Z",
     "shell.execute_reply": "2025-04-08T13:16:29.941630Z"
    },
    "papermill": {
     "duration": 1.549402,
     "end_time": "2025-04-08T13:16:29.941630",
     "exception": false,
     "start_time": "2025-04-08T13:16:28.392228",
     "status": "completed"
    },
    "tags": []
   },
   "outputs": [
    {
     "data": {
      "application/vnd.plotly.v1+json": {
       "config": {
        "plotlyServerURL": "https://plot.ly"
       },
       "data": [
        {
         "alignmentgroup": "True",
         "bingroup": "x",
         "hovertemplate": "AADBT=%{x}<br>count=%{y}<extra></extra>",
         "legendgroup": "",
         "marker": {
          "color": "#636efa",
          "pattern": {
           "shape": ""
          }
         },
         "name": "",
         "nbinsx": 10,
         "offsetgroup": "",
         "orientation": "v",
         "showlegend": false,
         "type": "histogram",
         "x": [
          2475.002464895604,
          644.6199078775657,
          220.61803718612538,
          347.9405715760867,
          2371.9682726671595,
          4052.8698907946637,
          1731.3805857228808,
          1521.2600650660888,
          385.74817181332594,
          504.3194927540945,
          383.73992143424056,
          1342.5471859976346,
          1130.8089603412386,
          826.3457085615964,
          488.1596339557658,
          215.12771139319486,
          1674.2802505589023,
          400.38241089084806,
          504.2151040669096,
          556.079857718409,
          1703.775028648144,
          320.58388593571533,
          1014.1274318078534,
          75.25526913868494,
          1691.4576207685527,
          463.03115609282986
         ],
         "xaxis": "x",
         "yaxis": "y"
        }
       ],
       "layout": {
        "barmode": "relative",
        "legend": {
         "tracegroupgap": 0
        },
        "template": {
         "data": {
          "bar": [
           {
            "error_x": {
             "color": "#2a3f5f"
            },
            "error_y": {
             "color": "#2a3f5f"
            },
            "marker": {
             "line": {
              "color": "#E5ECF6",
              "width": 0.5
             },
             "pattern": {
              "fillmode": "overlay",
              "size": 10,
              "solidity": 0.2
             }
            },
            "type": "bar"
           }
          ],
          "barpolar": [
           {
            "marker": {
             "line": {
              "color": "#E5ECF6",
              "width": 0.5
             },
             "pattern": {
              "fillmode": "overlay",
              "size": 10,
              "solidity": 0.2
             }
            },
            "type": "barpolar"
           }
          ],
          "carpet": [
           {
            "aaxis": {
             "endlinecolor": "#2a3f5f",
             "gridcolor": "white",
             "linecolor": "white",
             "minorgridcolor": "white",
             "startlinecolor": "#2a3f5f"
            },
            "baxis": {
             "endlinecolor": "#2a3f5f",
             "gridcolor": "white",
             "linecolor": "white",
             "minorgridcolor": "white",
             "startlinecolor": "#2a3f5f"
            },
            "type": "carpet"
           }
          ],
          "choropleth": [
           {
            "colorbar": {
             "outlinewidth": 0,
             "ticks": ""
            },
            "type": "choropleth"
           }
          ],
          "contour": [
           {
            "colorbar": {
             "outlinewidth": 0,
             "ticks": ""
            },
            "colorscale": [
             [
              0,
              "#0d0887"
             ],
             [
              0.1111111111111111,
              "#46039f"
             ],
             [
              0.2222222222222222,
              "#7201a8"
             ],
             [
              0.3333333333333333,
              "#9c179e"
             ],
             [
              0.4444444444444444,
              "#bd3786"
             ],
             [
              0.5555555555555556,
              "#d8576b"
             ],
             [
              0.6666666666666666,
              "#ed7953"
             ],
             [
              0.7777777777777778,
              "#fb9f3a"
             ],
             [
              0.8888888888888888,
              "#fdca26"
             ],
             [
              1,
              "#f0f921"
             ]
            ],
            "type": "contour"
           }
          ],
          "contourcarpet": [
           {
            "colorbar": {
             "outlinewidth": 0,
             "ticks": ""
            },
            "type": "contourcarpet"
           }
          ],
          "heatmap": [
           {
            "colorbar": {
             "outlinewidth": 0,
             "ticks": ""
            },
            "colorscale": [
             [
              0,
              "#0d0887"
             ],
             [
              0.1111111111111111,
              "#46039f"
             ],
             [
              0.2222222222222222,
              "#7201a8"
             ],
             [
              0.3333333333333333,
              "#9c179e"
             ],
             [
              0.4444444444444444,
              "#bd3786"
             ],
             [
              0.5555555555555556,
              "#d8576b"
             ],
             [
              0.6666666666666666,
              "#ed7953"
             ],
             [
              0.7777777777777778,
              "#fb9f3a"
             ],
             [
              0.8888888888888888,
              "#fdca26"
             ],
             [
              1,
              "#f0f921"
             ]
            ],
            "type": "heatmap"
           }
          ],
          "heatmapgl": [
           {
            "colorbar": {
             "outlinewidth": 0,
             "ticks": ""
            },
            "colorscale": [
             [
              0,
              "#0d0887"
             ],
             [
              0.1111111111111111,
              "#46039f"
             ],
             [
              0.2222222222222222,
              "#7201a8"
             ],
             [
              0.3333333333333333,
              "#9c179e"
             ],
             [
              0.4444444444444444,
              "#bd3786"
             ],
             [
              0.5555555555555556,
              "#d8576b"
             ],
             [
              0.6666666666666666,
              "#ed7953"
             ],
             [
              0.7777777777777778,
              "#fb9f3a"
             ],
             [
              0.8888888888888888,
              "#fdca26"
             ],
             [
              1,
              "#f0f921"
             ]
            ],
            "type": "heatmapgl"
           }
          ],
          "histogram": [
           {
            "marker": {
             "pattern": {
              "fillmode": "overlay",
              "size": 10,
              "solidity": 0.2
             }
            },
            "type": "histogram"
           }
          ],
          "histogram2d": [
           {
            "colorbar": {
             "outlinewidth": 0,
             "ticks": ""
            },
            "colorscale": [
             [
              0,
              "#0d0887"
             ],
             [
              0.1111111111111111,
              "#46039f"
             ],
             [
              0.2222222222222222,
              "#7201a8"
             ],
             [
              0.3333333333333333,
              "#9c179e"
             ],
             [
              0.4444444444444444,
              "#bd3786"
             ],
             [
              0.5555555555555556,
              "#d8576b"
             ],
             [
              0.6666666666666666,
              "#ed7953"
             ],
             [
              0.7777777777777778,
              "#fb9f3a"
             ],
             [
              0.8888888888888888,
              "#fdca26"
             ],
             [
              1,
              "#f0f921"
             ]
            ],
            "type": "histogram2d"
           }
          ],
          "histogram2dcontour": [
           {
            "colorbar": {
             "outlinewidth": 0,
             "ticks": ""
            },
            "colorscale": [
             [
              0,
              "#0d0887"
             ],
             [
              0.1111111111111111,
              "#46039f"
             ],
             [
              0.2222222222222222,
              "#7201a8"
             ],
             [
              0.3333333333333333,
              "#9c179e"
             ],
             [
              0.4444444444444444,
              "#bd3786"
             ],
             [
              0.5555555555555556,
              "#d8576b"
             ],
             [
              0.6666666666666666,
              "#ed7953"
             ],
             [
              0.7777777777777778,
              "#fb9f3a"
             ],
             [
              0.8888888888888888,
              "#fdca26"
             ],
             [
              1,
              "#f0f921"
             ]
            ],
            "type": "histogram2dcontour"
           }
          ],
          "mesh3d": [
           {
            "colorbar": {
             "outlinewidth": 0,
             "ticks": ""
            },
            "type": "mesh3d"
           }
          ],
          "parcoords": [
           {
            "line": {
             "colorbar": {
              "outlinewidth": 0,
              "ticks": ""
             }
            },
            "type": "parcoords"
           }
          ],
          "pie": [
           {
            "automargin": true,
            "type": "pie"
           }
          ],
          "scatter": [
           {
            "fillpattern": {
             "fillmode": "overlay",
             "size": 10,
             "solidity": 0.2
            },
            "type": "scatter"
           }
          ],
          "scatter3d": [
           {
            "line": {
             "colorbar": {
              "outlinewidth": 0,
              "ticks": ""
             }
            },
            "marker": {
             "colorbar": {
              "outlinewidth": 0,
              "ticks": ""
             }
            },
            "type": "scatter3d"
           }
          ],
          "scattercarpet": [
           {
            "marker": {
             "colorbar": {
              "outlinewidth": 0,
              "ticks": ""
             }
            },
            "type": "scattercarpet"
           }
          ],
          "scattergeo": [
           {
            "marker": {
             "colorbar": {
              "outlinewidth": 0,
              "ticks": ""
             }
            },
            "type": "scattergeo"
           }
          ],
          "scattergl": [
           {
            "marker": {
             "colorbar": {
              "outlinewidth": 0,
              "ticks": ""
             }
            },
            "type": "scattergl"
           }
          ],
          "scattermapbox": [
           {
            "marker": {
             "colorbar": {
              "outlinewidth": 0,
              "ticks": ""
             }
            },
            "type": "scattermapbox"
           }
          ],
          "scatterpolar": [
           {
            "marker": {
             "colorbar": {
              "outlinewidth": 0,
              "ticks": ""
             }
            },
            "type": "scatterpolar"
           }
          ],
          "scatterpolargl": [
           {
            "marker": {
             "colorbar": {
              "outlinewidth": 0,
              "ticks": ""
             }
            },
            "type": "scatterpolargl"
           }
          ],
          "scatterternary": [
           {
            "marker": {
             "colorbar": {
              "outlinewidth": 0,
              "ticks": ""
             }
            },
            "type": "scatterternary"
           }
          ],
          "surface": [
           {
            "colorbar": {
             "outlinewidth": 0,
             "ticks": ""
            },
            "colorscale": [
             [
              0,
              "#0d0887"
             ],
             [
              0.1111111111111111,
              "#46039f"
             ],
             [
              0.2222222222222222,
              "#7201a8"
             ],
             [
              0.3333333333333333,
              "#9c179e"
             ],
             [
              0.4444444444444444,
              "#bd3786"
             ],
             [
              0.5555555555555556,
              "#d8576b"
             ],
             [
              0.6666666666666666,
              "#ed7953"
             ],
             [
              0.7777777777777778,
              "#fb9f3a"
             ],
             [
              0.8888888888888888,
              "#fdca26"
             ],
             [
              1,
              "#f0f921"
             ]
            ],
            "type": "surface"
           }
          ],
          "table": [
           {
            "cells": {
             "fill": {
              "color": "#EBF0F8"
             },
             "line": {
              "color": "white"
             }
            },
            "header": {
             "fill": {
              "color": "#C8D4E3"
             },
             "line": {
              "color": "white"
             }
            },
            "type": "table"
           }
          ]
         },
         "layout": {
          "annotationdefaults": {
           "arrowcolor": "#2a3f5f",
           "arrowhead": 0,
           "arrowwidth": 1
          },
          "autotypenumbers": "strict",
          "coloraxis": {
           "colorbar": {
            "outlinewidth": 0,
            "ticks": ""
           }
          },
          "colorscale": {
           "diverging": [
            [
             0,
             "#8e0152"
            ],
            [
             0.1,
             "#c51b7d"
            ],
            [
             0.2,
             "#de77ae"
            ],
            [
             0.3,
             "#f1b6da"
            ],
            [
             0.4,
             "#fde0ef"
            ],
            [
             0.5,
             "#f7f7f7"
            ],
            [
             0.6,
             "#e6f5d0"
            ],
            [
             0.7,
             "#b8e186"
            ],
            [
             0.8,
             "#7fbc41"
            ],
            [
             0.9,
             "#4d9221"
            ],
            [
             1,
             "#276419"
            ]
           ],
           "sequential": [
            [
             0,
             "#0d0887"
            ],
            [
             0.1111111111111111,
             "#46039f"
            ],
            [
             0.2222222222222222,
             "#7201a8"
            ],
            [
             0.3333333333333333,
             "#9c179e"
            ],
            [
             0.4444444444444444,
             "#bd3786"
            ],
            [
             0.5555555555555556,
             "#d8576b"
            ],
            [
             0.6666666666666666,
             "#ed7953"
            ],
            [
             0.7777777777777778,
             "#fb9f3a"
            ],
            [
             0.8888888888888888,
             "#fdca26"
            ],
            [
             1,
             "#f0f921"
            ]
           ],
           "sequentialminus": [
            [
             0,
             "#0d0887"
            ],
            [
             0.1111111111111111,
             "#46039f"
            ],
            [
             0.2222222222222222,
             "#7201a8"
            ],
            [
             0.3333333333333333,
             "#9c179e"
            ],
            [
             0.4444444444444444,
             "#bd3786"
            ],
            [
             0.5555555555555556,
             "#d8576b"
            ],
            [
             0.6666666666666666,
             "#ed7953"
            ],
            [
             0.7777777777777778,
             "#fb9f3a"
            ],
            [
             0.8888888888888888,
             "#fdca26"
            ],
            [
             1,
             "#f0f921"
            ]
           ]
          },
          "colorway": [
           "#636efa",
           "#EF553B",
           "#00cc96",
           "#ab63fa",
           "#FFA15A",
           "#19d3f3",
           "#FF6692",
           "#B6E880",
           "#FF97FF",
           "#FECB52"
          ],
          "font": {
           "color": "#2a3f5f"
          },
          "geo": {
           "bgcolor": "white",
           "lakecolor": "white",
           "landcolor": "#E5ECF6",
           "showlakes": true,
           "showland": true,
           "subunitcolor": "white"
          },
          "hoverlabel": {
           "align": "left"
          },
          "hovermode": "closest",
          "mapbox": {
           "style": "light"
          },
          "paper_bgcolor": "white",
          "plot_bgcolor": "#E5ECF6",
          "polar": {
           "angularaxis": {
            "gridcolor": "white",
            "linecolor": "white",
            "ticks": ""
           },
           "bgcolor": "#E5ECF6",
           "radialaxis": {
            "gridcolor": "white",
            "linecolor": "white",
            "ticks": ""
           }
          },
          "scene": {
           "xaxis": {
            "backgroundcolor": "#E5ECF6",
            "gridcolor": "white",
            "gridwidth": 2,
            "linecolor": "white",
            "showbackground": true,
            "ticks": "",
            "zerolinecolor": "white"
           },
           "yaxis": {
            "backgroundcolor": "#E5ECF6",
            "gridcolor": "white",
            "gridwidth": 2,
            "linecolor": "white",
            "showbackground": true,
            "ticks": "",
            "zerolinecolor": "white"
           },
           "zaxis": {
            "backgroundcolor": "#E5ECF6",
            "gridcolor": "white",
            "gridwidth": 2,
            "linecolor": "white",
            "showbackground": true,
            "ticks": "",
            "zerolinecolor": "white"
           }
          },
          "shapedefaults": {
           "line": {
            "color": "#2a3f5f"
           }
          },
          "ternary": {
           "aaxis": {
            "gridcolor": "white",
            "linecolor": "white",
            "ticks": ""
           },
           "baxis": {
            "gridcolor": "white",
            "linecolor": "white",
            "ticks": ""
           },
           "bgcolor": "#E5ECF6",
           "caxis": {
            "gridcolor": "white",
            "linecolor": "white",
            "ticks": ""
           }
          },
          "title": {
           "x": 0.05
          },
          "xaxis": {
           "automargin": true,
           "gridcolor": "white",
           "linecolor": "white",
           "ticks": "",
           "title": {
            "standoff": 15
           },
           "zerolinecolor": "white",
           "zerolinewidth": 2
          },
          "yaxis": {
           "automargin": true,
           "gridcolor": "white",
           "linecolor": "white",
           "ticks": "",
           "title": {
            "standoff": 15
           },
           "zerolinecolor": "white",
           "zerolinewidth": 2
          }
         }
        },
        "title": {
         "text": "Average Annual Daily Bicycle Traffic (AADBT) Distribution"
        },
        "xaxis": {
         "anchor": "y",
         "domain": [
          0,
          1
         ],
         "title": {
          "text": "AADBT"
         }
        },
        "yaxis": {
         "anchor": "x",
         "domain": [
          0,
          1
         ],
         "title": {
          "text": "Frequency"
         }
        }
       }
      }
     },
     "metadata": {},
     "output_type": "display_data"
    }
   ],
   "source": [
    "import plotly.express as px\n",
    "\n",
    "# Create a histogram for AADBT distribution with 10 bins\n",
    "fig = px.histogram(annual_volume, x='AADBT', nbins=10, title='Average Annual Daily Bicycle Traffic (AADBT) Distribution')\n",
    "fig.update_layout(xaxis_title='AADBT', yaxis_title='Frequency')\n",
    "fig.show()\n"
   ]
  },
  {
   "cell_type": "markdown",
   "id": "608bb79e",
   "metadata": {
    "papermill": {
     "duration": 0.033707,
     "end_time": "2025-04-08T13:16:30.007668",
     "exception": false,
     "start_time": "2025-04-08T13:16:29.973961",
     "status": "completed"
    },
    "tags": []
   },
   "source": [
    "## Results"
   ]
  },
  {
   "cell_type": "code",
   "execution_count": 21,
   "id": "4d8e797a",
   "metadata": {
    "execution": {
     "iopub.execute_input": "2025-04-08T13:16:30.079523Z",
     "iopub.status.busy": "2025-04-08T13:16:30.079523Z",
     "iopub.status.idle": "2025-04-08T13:16:30.094084Z",
     "shell.execute_reply": "2025-04-08T13:16:30.094084Z"
    },
    "papermill": {
     "duration": 0.059131,
     "end_time": "2025-04-08T13:16:30.096094",
     "exception": false,
     "start_time": "2025-04-08T13:16:30.036963",
     "status": "completed"
    },
    "tags": []
   },
   "outputs": [
    {
     "data": {
      "text/plain": [
       "count      26.000000\n",
       "mean     1040.217100\n",
       "std       920.491059\n",
       "min        75.255269\n",
       "25%       389.406732\n",
       "50%       600.349883\n",
       "75%      1636.025204\n",
       "max      4052.869891\n",
       "Name: AADBT, dtype: float64"
      ]
     },
     "execution_count": 21,
     "metadata": {},
     "output_type": "execute_result"
    }
   ],
   "source": [
    "annual_volume['AADBT'].describe()"
   ]
  },
  {
   "cell_type": "code",
   "execution_count": 22,
   "id": "fc48022c",
   "metadata": {
    "execution": {
     "iopub.execute_input": "2025-04-08T13:16:30.163504Z",
     "iopub.status.busy": "2025-04-08T13:16:30.163504Z",
     "iopub.status.idle": "2025-04-08T13:16:30.244368Z",
     "shell.execute_reply": "2025-04-08T13:16:30.244368Z"
    },
    "papermill": {
     "duration": 0.111576,
     "end_time": "2025-04-08T13:16:30.245878",
     "exception": false,
     "start_time": "2025-04-08T13:16:30.134302",
     "status": "completed"
    },
    "tags": []
   },
   "outputs": [
    {
     "data": {
      "application/vnd.plotly.v1+json": {
       "config": {
        "plotlyServerURL": "https://plot.ly"
       },
       "data": [
        {
         "alignmentgroup": "True",
         "hovertemplate": "Category=%{x}<br>Value=%{y}<extra></extra>",
         "legendgroup": "",
         "marker": {
          "color": "#636efa"
         },
         "name": "",
         "notched": false,
         "offsetgroup": "",
         "orientation": "v",
         "showlegend": false,
         "type": "box",
         "x": [
          "Weekday TDV",
          "Weekday TDV",
          "Weekday TDV",
          "Weekday TDV",
          "Weekday TDV",
          "Weekday TDV",
          "Weekday TDV",
          "Weekday TDV",
          "Weekday TDV",
          "Weekday TDV",
          "Weekday TDV",
          "Weekday TDV",
          "Weekday TDV",
          "Weekday TDV",
          "Weekday TDV",
          "Weekday TDV",
          "Weekday TDV",
          "Weekday TDV",
          "Weekday TDV",
          "Weekday TDV",
          "Weekday TDV",
          "Weekday TDV",
          "Weekday TDV",
          "Weekday TDV",
          "Weekday TDV",
          "Weekday TDV",
          "Weekday TDV",
          "Weekday TDV",
          "Weekday TDV",
          "Weekday TDV",
          "Weekday TDV",
          "Weekday TDV",
          "Weekday TDV",
          "Weekday TDV",
          "Weekday TDV",
          "Weekday TDV",
          "Weekday TDV",
          "Weekday TDV",
          "Weekday TDV",
          "Weekday TDV",
          "Weekday TDV",
          "Weekday TDV",
          "Weekday TDV",
          "Weekday TDV",
          "Weekday TDV",
          "Weekday TDV",
          "Weekday TDV",
          "Weekday TDV",
          "Weekday TDV",
          "Weekday TDV",
          "Weekday TDV",
          "Weekday TDV",
          "Weekday TDV",
          "Weekday TDV",
          "Weekday TDV",
          "Weekday TDV",
          "Weekday TDV",
          "Weekday TDV",
          "Weekday TDV",
          "Weekday TDV",
          "Weekday TDV",
          "Weekday TDV",
          "Weekday TDV",
          "Weekday TDV",
          "Weekday TDV",
          "Weekday TDV",
          "Weekday TDV",
          "Weekday TDV",
          "Weekday TDV",
          "Weekday TDV",
          "Weekday TDV",
          "Weekday TDV",
          "Weekday TDV",
          "Weekday TDV",
          "Weekday TDV",
          "Weekday TDV",
          "Weekday TDV",
          "Weekday TDV",
          "Weekday TDV",
          "Weekday TDV",
          "Weekday TDV",
          "Weekday TDV",
          "Weekday TDV",
          "Weekday TDV",
          "Weekday TDV",
          "Weekday TDV",
          "Weekday TDV",
          "Weekday TDV",
          "Weekday TDV",
          "Weekday TDV",
          "Weekday TDV",
          "Weekday TDV",
          "Weekday TDV",
          "Weekday TDV",
          "Weekday TDV",
          "Weekday TDV",
          "Weekday TDV",
          "Weekday TDV",
          "Weekday TDV",
          "Weekday TDV",
          "Weekday TDV",
          "Weekday TDV",
          "Weekday TDV",
          "Weekday TDV",
          "Weekday TDV",
          "Weekday TDV",
          "Weekday TDV",
          "Weekday TDV",
          "Weekday TDV",
          "Weekday TDV",
          "Weekday TDV",
          "Weekday TDV",
          "Weekday TDV",
          "Weekday TDV",
          "Weekday TDV",
          "Weekday TDV",
          "Weekday TDV",
          "Weekday TDV",
          "Weekday TDV",
          "Weekday TDV",
          "Weekday TDV",
          "Weekday TDV",
          "Weekday TDV",
          "Weekday TDV",
          "Weekday TDV",
          "Weekday TDV",
          "Weekday TDV",
          "Weekday TDV",
          "Weekday TDV",
          "Weekday TDV",
          "Weekday TDV",
          "Weekday TDV",
          "Weekday TDV",
          "Weekday TDV",
          "Weekday TDV",
          "Weekday TDV",
          "Weekday TDV",
          "Weekday TDV",
          "Weekday TDV",
          "Weekday TDV",
          "Weekday TDV",
          "Weekday TDV",
          "Weekday TDV",
          "Weekday TDV",
          "Weekday TDV",
          "Weekday TDV",
          "Weekday TDV",
          "Weekday TDV",
          "Weekday TDV",
          "Weekday TDV",
          "Weekday TDV",
          "Weekday TDV",
          "Weekday TDV",
          "Weekday TDV",
          "Weekday TDV",
          "Weekday TDV",
          "Weekday TDV",
          "Weekday TDV",
          "Weekday TDV",
          "Weekday TDV",
          "Weekday TDV",
          "Weekday TDV",
          "Weekday TDV",
          "Weekday TDV",
          "Weekday TDV",
          "Weekday TDV",
          "Weekday TDV",
          "Weekday TDV",
          "Weekday TDV",
          "Weekday TDV",
          "Weekday TDV",
          "Weekday TDV",
          "Weekday TDV",
          "Weekday TDV",
          "Weekday TDV",
          "Weekday TDV",
          "Weekday TDV",
          "Weekday TDV",
          "Weekday TDV",
          "Weekday TDV",
          "Weekday TDV",
          "Weekday TDV",
          "Weekday TDV",
          "Weekday TDV",
          "Weekday TDV",
          "Weekday TDV",
          "Weekday TDV",
          "Weekday TDV",
          "Weekday TDV",
          "Weekday TDV",
          "Weekday TDV",
          "Weekday TDV",
          "Weekday TDV",
          "Weekday TDV",
          "Weekday TDV",
          "Weekday TDV",
          "Weekday TDV",
          "Weekday TDV",
          "Weekday TDV",
          "Weekday TDV",
          "Weekday TDV",
          "Weekday TDV",
          "Weekday TDV",
          "Weekday TDV",
          "Weekday TDV",
          "Weekday TDV",
          "Weekday TDV",
          "Weekday TDV",
          "Weekday TDV",
          "Weekday TDV",
          "Weekday TDV",
          "Weekday TDV",
          "Weekday TDV",
          "Weekday TDV",
          "Weekday TDV",
          "Weekday TDV",
          "Weekday TDV",
          "Weekday TDV",
          "Weekday TDV",
          "Weekday TDV",
          "Weekday TDV",
          "Weekday TDV",
          "Weekday TDV",
          "Weekday TDV",
          "Weekday TDV",
          "Weekday TDV",
          "Weekday TDV",
          "Weekday TDV",
          "Weekday TDV",
          "Weekday TDV",
          "Weekday TDV",
          "Weekday TDV",
          "Weekday TDV",
          "Weekday TDV",
          "Weekday TDV",
          "Weekday TDV",
          "Weekday TDV",
          "Weekday TDV",
          "Weekday TDV",
          "Weekday TDV",
          "Weekday TDV",
          "Weekday TDV",
          "Weekday TDV",
          "Weekday TDV",
          "Weekday TDV",
          "Weekday TDV",
          "Weekday TDV",
          "Weekday TDV",
          "Weekday TDV",
          "Weekday TDV",
          "Weekday TDV",
          "Weekday TDV",
          "Weekday TDV",
          "Weekday TDV",
          "Weekday TDV",
          "Weekday TDV",
          "Weekday TDV",
          "Weekday TDV",
          "Weekday TDV",
          "Weekday TDV",
          "Weekday TDV",
          "Weekday TDV",
          "Weekday TDV",
          "Weekday TDV",
          "Weekday TDV",
          "Weekday TDV",
          "Weekday TDV",
          "Weekday TDV",
          "Weekday TDV",
          "Weekday TDV",
          "Weekday TDV",
          "Weekday TDV",
          "Weekday TDV",
          "Weekday TDV",
          "Weekday TDV",
          "Weekday TDV",
          "Weekday TDV",
          "Weekday TDV",
          "Weekday TDV",
          "Weekday TDV",
          "Weekday TDV",
          "Weekday TDV",
          "Weekday TDV",
          "Weekday TDV",
          "Weekday TDV",
          "Weekday TDV",
          "Weekday TDV",
          "Weekday TDV",
          "Weekday TDV",
          "Weekday TDV",
          "Weekday TDV",
          "Weekday TDV",
          "Weekday TDV",
          "Weekday TDV",
          "Weekday TDV",
          "Weekday TDV",
          "Weekday TDV",
          "Weekday TDV",
          "Weekday TDV",
          "Weekday TDV",
          "Weekday TDV",
          "Weekday TDV",
          "Weekday TDV",
          "Weekday TDV",
          "Weekday TDV",
          "Weekday TDV",
          "Weekday TDV",
          "Weekday TDV",
          "Weekday TDV",
          "Weekday TDV",
          "Weekday TDV",
          "Weekday TDV",
          "Weekday TDV",
          "Weekday TDV",
          "Weekday TDV",
          "Weekday TDV",
          "Weekday TDV",
          "Weekday TDV",
          "Weekday TDV",
          "Weekday TDV",
          "Weekday TDV",
          "Weekday TDV",
          "Weekday TDV",
          "Weekday TDV",
          "Weekday TDV",
          "Weekday TDV",
          "Weekday TDV",
          "Weekday TDV",
          "Weekday TDV",
          "Weekday TDV",
          "Weekday TDV",
          "Weekday TDV",
          "Weekday TDV",
          "Weekday TDV",
          "Weekday TDV",
          "Weekday TDV",
          "Weekday TDV",
          "Weekday TDV",
          "Weekday TDV",
          "Weekday TDV",
          "Weekday TDV",
          "Weekday TDV",
          "Weekday TDV",
          "Weekday TDV",
          "Weekday TDV",
          "Weekday TDV",
          "Weekend TDV",
          "Weekend TDV",
          "Weekend TDV",
          "Weekend TDV",
          "Weekend TDV",
          "Weekend TDV",
          "Weekend TDV",
          "Weekend TDV",
          "Weekend TDV",
          "Weekend TDV",
          "Weekend TDV",
          "Weekend TDV",
          "Weekend TDV",
          "Weekend TDV",
          "Weekend TDV",
          "Weekend TDV",
          "Weekend TDV",
          "Weekend TDV",
          "Weekend TDV",
          "Weekend TDV",
          "Weekend TDV",
          "Weekend TDV",
          "Weekend TDV",
          "Weekend TDV",
          "Weekend TDV",
          "Weekend TDV",
          "Weekend TDV",
          "Weekend TDV",
          "Weekend TDV",
          "Weekend TDV",
          "Weekend TDV",
          "Weekend TDV",
          "Weekend TDV",
          "Weekend TDV",
          "Weekend TDV",
          "Weekend TDV",
          "Weekend TDV",
          "Weekend TDV",
          "Weekend TDV",
          "Weekend TDV",
          "Weekend TDV",
          "Weekend TDV",
          "Weekend TDV",
          "Weekend TDV",
          "Weekend TDV",
          "Weekend TDV",
          "Weekend TDV",
          "Weekend TDV",
          "Weekend TDV",
          "Weekend TDV",
          "Weekend TDV",
          "Weekend TDV",
          "Weekend TDV",
          "Weekend TDV",
          "Weekend TDV",
          "Weekend TDV",
          "Weekend TDV",
          "Weekend TDV",
          "Weekend TDV",
          "Weekend TDV",
          "Weekend TDV",
          "Weekend TDV",
          "Weekend TDV",
          "Weekend TDV",
          "Weekend TDV",
          "Weekend TDV",
          "Weekend TDV",
          "Weekend TDV",
          "Weekend TDV",
          "Weekend TDV",
          "Weekly AWV",
          "Weekly AWV",
          "Weekly AWV",
          "Weekly AWV",
          "Weekly AWV",
          "Weekly AWV",
          "Weekly AWV",
          "Weekly AWV",
          "Weekly AWV",
          "Weekly AWV",
          "Weekly AWV",
          "Weekly AWV",
          "Weekly AWV",
          "Weekly AWV",
          "Weekly AWV",
          "Weekly AWV",
          "Weekly AWV",
          "Weekly AWV",
          "Weekly AWV",
          "Weekly AWV",
          "Weekly AWV",
          "Weekly AWV",
          "Weekly AWV",
          "Weekly AWV",
          "Weekly AWV",
          "Weekly AWV",
          "Annual AADBT",
          "Annual AADBT",
          "Annual AADBT",
          "Annual AADBT",
          "Annual AADBT",
          "Annual AADBT",
          "Annual AADBT",
          "Annual AADBT",
          "Annual AADBT",
          "Annual AADBT",
          "Annual AADBT",
          "Annual AADBT",
          "Annual AADBT",
          "Annual AADBT",
          "Annual AADBT",
          "Annual AADBT",
          "Annual AADBT",
          "Annual AADBT",
          "Annual AADBT",
          "Annual AADBT",
          "Annual AADBT",
          "Annual AADBT",
          "Annual AADBT",
          "Annual AADBT",
          "Annual AADBT",
          "Annual AADBT"
         ],
         "x0": " ",
         "xaxis": "x",
         "y": [
          3055.082443792057,
          4246.9586566911985,
          1086.2132000005306,
          2696.936840394627,
          4073.2995000019896,
          1674.350411390341,
          4271.745315307685,
          2485.124692743708,
          2912.777757598759,
          5385.807116669297,
          2379.2872331002113,
          3843.440334662495,
          2354.3007426534737,
          3530.192900001724,
          1326.2698224556746,
          2389.33967538672,
          317.2578958515566,
          237.94342188866747,
          396.5723698144458,
          502.3518663000737,
          879.115766025129,
          1181.078817572886,
          1488.3114767914142,
          528.8826310697672,
          1448.284266667374,
          316.81218333348806,
          497.84771666690983,
          189.53159549604666,
          226.29441666677718,
          171.24404079945066,
          90.51776666671087,
          372.07786919785354,
          452.58883333355436,
          226.29441666677718,
          606.708379527314,
          407.32995000019895,
          513.732122398352,
          386.08715060829076,
          705.1768414263563,
          497.84771666690983,
          181.03553333342174,
          770.598183597528,
          171.24404079945066,
          135.77665000006633,
          2220.8052709608965,
          3069.830237003056,
          2632.81636445738,
          2814.389906833751,
          2504.2984946521537,
          3886.409224181569,
          2640.7787073060626,
          3649.126252307179,
          2458.748692849564,
          3638.9358669883263,
          4533.619224455579,
          5051.699203583795,
          5302.109636069413,
          4203.667120033126,
          5971.108246843933,
          9041.850031769363,
          5260.507213643735,
          2771.1595095704874,
          3256.1886424653762,
          2300.1197449237857,
          3172.5789585155662,
          1272.0155545960629,
          1939.2363139224797,
          2531.7085429458803,
          1874.2705825583762,
          1736.7684138580018,
          1549.094455001688,
          2046.4282805881944,
          930.1946729946338,
          651.1362710962437,
          2937.739730188723,
          1674.794998387596,
          1516.2527639683733,
          2748.2081346926766,
          1783.8057360625498,
          2379.9718398139526,
          1762.9421035658906,
          562.6618995146905,
          582.0038493228491,
          158.6289479257783,
          317.2578958515566,
          984.2621463411995,
          158.6289479257783,
          453.9338559409276,
          555.2013177402241,
          634.5157917031132,
          158.6289479257783,
          317.2578958515566,
          396.5723698144458,
          643.1723657121777,
          79.31447396288915,
          1031.088161517559,
          475.88684377733495,
          168.72554536755516,
          79.31447396288915,
          475.88684377733495,
          237.94342188866747,
          237.94342188866747,
          617.0297362480617,
          705.1768414263563,
          352.58842071317815,
          705.1768414263563,
          705.1768414263563,
          88.14710517829454,
          617.0297362480617,
          1059.5109015836035,
          793.3239466046508,
          705.1768414263563,
          264.4413155348836,
          663.3605842361633,
          475.88684377733495,
          288.0849498879341,
          793.1447396288916,
          509.18040729867613,
          475.88684377733495,
          388.81145063710994,
          355.3123839811436,
          317.2578958515566,
          542.7360537712184,
          555.2013177402241,
          793.1447396288916,
          396.5723698144458,
          872.4592135917808,
          872.4592135917808,
          713.8302656660024,
          0,
          793.1447396288916,
          475.88684377733495,
          237.94342188866747,
          79.31447396288915,
          1650.979839475933,
          1200.3539578663922,
          2657.034877756787,
          1866.9948267618124,
          1357.8144194631363,
          1547.2307261768556,
          2243.589484831793,
          2630.7654377098265,
          1461.2124524609726,
          1272.9510182466904,
          2715.6288389262727,
          2075.3781883964325,
          3033.8211247620725,
          2617.377640775342,
          1943.2046120907844,
          876.0208479404884,
          933.4974133809062,
          1461.2124524609726,
          509.18040729867613,
          1269.0315834062264,
          774.032550516806,
          1337.809462592411,
          2300.1197449237857,
          2379.9718398139526,
          1086.2132000005306,
          939.8966684846931,
          1269.0315834062264,
          1016.0918201758454,
          1270.114775219807,
          1299.770201673272,
          1520.485896297035,
          1189.7171094433374,
          1272.9510182466904,
          1426.8225045225472,
          1057.7652621395343,
          899.1881838948127,
          950.4365500004642,
          473.82898874011664,
          701.5126916670093,
          848.7124035379491,
          594.0438085151221,
          1502.9613796741432,
          1586.6478932093016,
          1359.080715797814,
          663.456471871548,
          763.7706109480142,
          663.456471871548,
          552.88039322629,
          969.6181569612398,
          588.5751856633684,
          793.3239466046508,
          884.6086291620642,
          221.15215729051604,
          1116.2336075935607,
          221.15215729051604,
          331.728235935774,
          884.6086291620642,
          528.8826310697672,
          221.15215729051604,
          331.728235935774,
          196.9920310431502,
          389.13341032433107,
          375.7403449185358,
          178.87744472648365,
          368.9782449034953,
          79.31447396288915,
          135.9080715797814,
          88.14710517829454,
          0,
          1527.5412218960284,
          2088.615886687522,
          1625.9467162392277,
          2842.9239407509417,
          2680.6968266787253,
          2586.4155422657886,
          3449.8973051510497,
          2623.8452970915223,
          2296.1909967243855,
          2121.5850304111505,
          2461.0386352769347,
          2121.5850304111505,
          1612.4046231124744,
          1903.5473751093398,
          1665.6039532206723,
          1474.278987997407,
          0,
          2538.063166812453,
          1578.4069365316188,
          1744.9184271835616,
          396.5723698144458,
          352.58842071317815,
          713.8302656660024,
          705.1768414263563,
          396.5723698144458,
          756.1882355437386,
          969.6181569612398,
          617.0297362480617,
          352.58842071317815,
          617.0297362480617,
          396.5723698144458,
          88.14710517829454,
          440.73552589147266,
          793.3239466046508,
          793.3239466046508,
          440.73552589147266,
          440.73552589147266,
          352.58842071317815,
          352.58842071317815,
          237.94342188866747,
          705.1768414263563,
          317.2578958515566,
          528.8826310697672,
          237.94342188866747,
          1296.3226895035518,
          528.8826310697672,
          176.29421035658908,
          440.73552589147266,
          440.73552589147266,
          713.8302656660024,
          793.3239466046508,
          352.58842071317815,
          793.3239466046508,
          352.58842071317815,
          440.73552589147266,
          0,
          969.6181569612398,
          793.3239466046508,
          676.5341633853704,
          1044.183376726288,
          555.2013177402241,
          951.7736875546699,
          866.1506887802556,
          713.8302656660024,
          544.7206271291132,
          1269.0315834062264,
          713.8302656660024,
          475.88684377733495,
          951.7736875546699,
          317.2578958515566,
          692.6471630746529,
          713.8302656660024,
          713.8302656660024,
          475.88684377733495,
          951.7736875546699,
          634.5157917031132,
          555.2013177402241,
          396.5723698144458,
          4072.7177379770505,
          1824.2329011464506,
          1535.191186581455,
          2101.7957715022403,
          1803.8936417504215,
          1202.3781326709243,
          912.269007978458,
          396.5723698144458,
          245.9854966023302,
          317.2578958515566,
          288.0849498879341,
          339.4536048657841,
          317.2578958515566,
          79.31447396288915,
          237.94342188866747,
          555.2013177402241,
          158.6289479257783,
          475.88684377733495,
          396.5723698144458,
          396.5723698144458,
          0,
          317.2578958515566,
          317.2578958515566,
          317.2578958515566,
          1410.3536828527126,
          1498.500788031007,
          2027.3834191007743,
          1410.3536828527126,
          1851.0892087441853,
          793.3239466046508,
          793.3239466046508,
          481.5958643561834,
          1410.3536828527126,
          969.6181569612398,
          1322.206577674418,
          663.3605842361633,
          0,
          0,
          91.47041314899029,
          176.29421035658908,
          264.4413155348836,
          79.31447396288915,
          440.73552589147266,
          0,
          0,
          88.14710517829454,
          0,
          1493.5431500007294,
          1953.4088132887312,
          2987.0863000014588,
          2550.4924712079296,
          1620.9964496680466,
          1652.8135881716355,
          633.6243666669761,
          704.1338431825855,
          316.81218333348806,
          452.58883333355436,
          765.7568207167512,
          1086.2132000005306,
          485.2847486327725,
          407.32995000019895,
          543.1066000002653,
          245.23966069307016,
          543.1066000002653,
          543.1066000002653,
          567.9953806025328,
          495.7678458425414,
          294.26224572187425,
          307.82443187756,
          553.0010817625555,
          175.72967155241196,
          1142.2428650906777,
          95.14292806248716,
          615.0538504334419,
          193.1854745490953,
          416.0080736858203,
          98.08741524062475,
          94.66589676708881,
          265.1413947251472,
          263.5945073286179,
          458.19236620707,
          821.0382668336549,
          624.0121105287305,
          1142.2428650906777,
          666.0004964374101,
          882.7867371656228,
          1060.565578900589,
          1237.3265087173538,
          1191.300152138382,
          527.1890146572358,
          1883.558376853679,
          1040.020184214551,
          1405.8373724192957,
          1667.4860590906208,
          2209.51162270956,
          883.8046490838241,
          1008.023205655554,
          1581.5670439717076,
          351.4593431048239,
          297.46070750552485,
          442.4008654100444,
          102.60814395918668,
          88.38046490838241,
          87.86483577620598,
          392.349660962499,
          475.7146403124358,
          294.26224572187425,
          175.72967155241196,
          396.61427667403314,
          1106.002163525111,
          205.21628791837335,
          663.6012981150666,
          175.72967155241196,
          1836.8357930771956,
          190.28585612497432,
          882.7867371656228,
          594.9214150110497,
          196.1748304812495,
          513.0407197959333,
          663.6012981150666,
          263.5945073286179,
          95.14292806248716,
          439.32417888102987,
          312.0060552643653,
          196.1748304812495,
          410.4325758367467,
          442.4008654100444,
          439.32417888102987,
          641.4693126898981,
          527.1890146572358,
          0,
          205.21628791837335,
          0,
          0,
          0,
          2776.520863977839,
          723.151046895231,
          247.49493865370886,
          390.3286037519676,
          2660.934480334602,
          4546.612769233592,
          1942.3068816816383,
          1706.588324699079,
          432.7421335825555,
          565.7584643260251,
          430.48922710803316,
          1506.103660771263,
          1268.570321077628,
          927.0156831042187,
          547.6299227391431,
          185.59701764214,
          1878.2502699523243,
          449.1591960717816,
          565.6413584354076,
          623.8245613456855,
          1911.3382639663544,
          359.6391763565981,
          1137.6740076360031,
          84.42327951242656,
          1897.5202817813333,
          519.4401556354607,
          2475.002464895604,
          644.6199078775657,
          220.61803718612538,
          347.9405715760867,
          2371.9682726671595,
          4052.8698907946637,
          1731.3805857228808,
          1521.2600650660888,
          385.74817181332594,
          504.3194927540945,
          383.73992143424056,
          1342.5471859976346,
          1130.8089603412386,
          826.3457085615964,
          488.1596339557658,
          215.12771139319486,
          1674.2802505589023,
          400.38241089084806,
          504.2151040669096,
          556.079857718409,
          1703.775028648144,
          320.58388593571533,
          1014.1274318078534,
          75.25526913868494,
          1691.4576207685527,
          463.03115609282986
         ],
         "y0": " ",
         "yaxis": "y"
        }
       ],
       "layout": {
        "boxmode": "group",
        "legend": {
         "tracegroupgap": 0
        },
        "template": {
         "data": {
          "bar": [
           {
            "error_x": {
             "color": "#2a3f5f"
            },
            "error_y": {
             "color": "#2a3f5f"
            },
            "marker": {
             "line": {
              "color": "#E5ECF6",
              "width": 0.5
             },
             "pattern": {
              "fillmode": "overlay",
              "size": 10,
              "solidity": 0.2
             }
            },
            "type": "bar"
           }
          ],
          "barpolar": [
           {
            "marker": {
             "line": {
              "color": "#E5ECF6",
              "width": 0.5
             },
             "pattern": {
              "fillmode": "overlay",
              "size": 10,
              "solidity": 0.2
             }
            },
            "type": "barpolar"
           }
          ],
          "carpet": [
           {
            "aaxis": {
             "endlinecolor": "#2a3f5f",
             "gridcolor": "white",
             "linecolor": "white",
             "minorgridcolor": "white",
             "startlinecolor": "#2a3f5f"
            },
            "baxis": {
             "endlinecolor": "#2a3f5f",
             "gridcolor": "white",
             "linecolor": "white",
             "minorgridcolor": "white",
             "startlinecolor": "#2a3f5f"
            },
            "type": "carpet"
           }
          ],
          "choropleth": [
           {
            "colorbar": {
             "outlinewidth": 0,
             "ticks": ""
            },
            "type": "choropleth"
           }
          ],
          "contour": [
           {
            "colorbar": {
             "outlinewidth": 0,
             "ticks": ""
            },
            "colorscale": [
             [
              0,
              "#0d0887"
             ],
             [
              0.1111111111111111,
              "#46039f"
             ],
             [
              0.2222222222222222,
              "#7201a8"
             ],
             [
              0.3333333333333333,
              "#9c179e"
             ],
             [
              0.4444444444444444,
              "#bd3786"
             ],
             [
              0.5555555555555556,
              "#d8576b"
             ],
             [
              0.6666666666666666,
              "#ed7953"
             ],
             [
              0.7777777777777778,
              "#fb9f3a"
             ],
             [
              0.8888888888888888,
              "#fdca26"
             ],
             [
              1,
              "#f0f921"
             ]
            ],
            "type": "contour"
           }
          ],
          "contourcarpet": [
           {
            "colorbar": {
             "outlinewidth": 0,
             "ticks": ""
            },
            "type": "contourcarpet"
           }
          ],
          "heatmap": [
           {
            "colorbar": {
             "outlinewidth": 0,
             "ticks": ""
            },
            "colorscale": [
             [
              0,
              "#0d0887"
             ],
             [
              0.1111111111111111,
              "#46039f"
             ],
             [
              0.2222222222222222,
              "#7201a8"
             ],
             [
              0.3333333333333333,
              "#9c179e"
             ],
             [
              0.4444444444444444,
              "#bd3786"
             ],
             [
              0.5555555555555556,
              "#d8576b"
             ],
             [
              0.6666666666666666,
              "#ed7953"
             ],
             [
              0.7777777777777778,
              "#fb9f3a"
             ],
             [
              0.8888888888888888,
              "#fdca26"
             ],
             [
              1,
              "#f0f921"
             ]
            ],
            "type": "heatmap"
           }
          ],
          "heatmapgl": [
           {
            "colorbar": {
             "outlinewidth": 0,
             "ticks": ""
            },
            "colorscale": [
             [
              0,
              "#0d0887"
             ],
             [
              0.1111111111111111,
              "#46039f"
             ],
             [
              0.2222222222222222,
              "#7201a8"
             ],
             [
              0.3333333333333333,
              "#9c179e"
             ],
             [
              0.4444444444444444,
              "#bd3786"
             ],
             [
              0.5555555555555556,
              "#d8576b"
             ],
             [
              0.6666666666666666,
              "#ed7953"
             ],
             [
              0.7777777777777778,
              "#fb9f3a"
             ],
             [
              0.8888888888888888,
              "#fdca26"
             ],
             [
              1,
              "#f0f921"
             ]
            ],
            "type": "heatmapgl"
           }
          ],
          "histogram": [
           {
            "marker": {
             "pattern": {
              "fillmode": "overlay",
              "size": 10,
              "solidity": 0.2
             }
            },
            "type": "histogram"
           }
          ],
          "histogram2d": [
           {
            "colorbar": {
             "outlinewidth": 0,
             "ticks": ""
            },
            "colorscale": [
             [
              0,
              "#0d0887"
             ],
             [
              0.1111111111111111,
              "#46039f"
             ],
             [
              0.2222222222222222,
              "#7201a8"
             ],
             [
              0.3333333333333333,
              "#9c179e"
             ],
             [
              0.4444444444444444,
              "#bd3786"
             ],
             [
              0.5555555555555556,
              "#d8576b"
             ],
             [
              0.6666666666666666,
              "#ed7953"
             ],
             [
              0.7777777777777778,
              "#fb9f3a"
             ],
             [
              0.8888888888888888,
              "#fdca26"
             ],
             [
              1,
              "#f0f921"
             ]
            ],
            "type": "histogram2d"
           }
          ],
          "histogram2dcontour": [
           {
            "colorbar": {
             "outlinewidth": 0,
             "ticks": ""
            },
            "colorscale": [
             [
              0,
              "#0d0887"
             ],
             [
              0.1111111111111111,
              "#46039f"
             ],
             [
              0.2222222222222222,
              "#7201a8"
             ],
             [
              0.3333333333333333,
              "#9c179e"
             ],
             [
              0.4444444444444444,
              "#bd3786"
             ],
             [
              0.5555555555555556,
              "#d8576b"
             ],
             [
              0.6666666666666666,
              "#ed7953"
             ],
             [
              0.7777777777777778,
              "#fb9f3a"
             ],
             [
              0.8888888888888888,
              "#fdca26"
             ],
             [
              1,
              "#f0f921"
             ]
            ],
            "type": "histogram2dcontour"
           }
          ],
          "mesh3d": [
           {
            "colorbar": {
             "outlinewidth": 0,
             "ticks": ""
            },
            "type": "mesh3d"
           }
          ],
          "parcoords": [
           {
            "line": {
             "colorbar": {
              "outlinewidth": 0,
              "ticks": ""
             }
            },
            "type": "parcoords"
           }
          ],
          "pie": [
           {
            "automargin": true,
            "type": "pie"
           }
          ],
          "scatter": [
           {
            "fillpattern": {
             "fillmode": "overlay",
             "size": 10,
             "solidity": 0.2
            },
            "type": "scatter"
           }
          ],
          "scatter3d": [
           {
            "line": {
             "colorbar": {
              "outlinewidth": 0,
              "ticks": ""
             }
            },
            "marker": {
             "colorbar": {
              "outlinewidth": 0,
              "ticks": ""
             }
            },
            "type": "scatter3d"
           }
          ],
          "scattercarpet": [
           {
            "marker": {
             "colorbar": {
              "outlinewidth": 0,
              "ticks": ""
             }
            },
            "type": "scattercarpet"
           }
          ],
          "scattergeo": [
           {
            "marker": {
             "colorbar": {
              "outlinewidth": 0,
              "ticks": ""
             }
            },
            "type": "scattergeo"
           }
          ],
          "scattergl": [
           {
            "marker": {
             "colorbar": {
              "outlinewidth": 0,
              "ticks": ""
             }
            },
            "type": "scattergl"
           }
          ],
          "scattermapbox": [
           {
            "marker": {
             "colorbar": {
              "outlinewidth": 0,
              "ticks": ""
             }
            },
            "type": "scattermapbox"
           }
          ],
          "scatterpolar": [
           {
            "marker": {
             "colorbar": {
              "outlinewidth": 0,
              "ticks": ""
             }
            },
            "type": "scatterpolar"
           }
          ],
          "scatterpolargl": [
           {
            "marker": {
             "colorbar": {
              "outlinewidth": 0,
              "ticks": ""
             }
            },
            "type": "scatterpolargl"
           }
          ],
          "scatterternary": [
           {
            "marker": {
             "colorbar": {
              "outlinewidth": 0,
              "ticks": ""
             }
            },
            "type": "scatterternary"
           }
          ],
          "surface": [
           {
            "colorbar": {
             "outlinewidth": 0,
             "ticks": ""
            },
            "colorscale": [
             [
              0,
              "#0d0887"
             ],
             [
              0.1111111111111111,
              "#46039f"
             ],
             [
              0.2222222222222222,
              "#7201a8"
             ],
             [
              0.3333333333333333,
              "#9c179e"
             ],
             [
              0.4444444444444444,
              "#bd3786"
             ],
             [
              0.5555555555555556,
              "#d8576b"
             ],
             [
              0.6666666666666666,
              "#ed7953"
             ],
             [
              0.7777777777777778,
              "#fb9f3a"
             ],
             [
              0.8888888888888888,
              "#fdca26"
             ],
             [
              1,
              "#f0f921"
             ]
            ],
            "type": "surface"
           }
          ],
          "table": [
           {
            "cells": {
             "fill": {
              "color": "#EBF0F8"
             },
             "line": {
              "color": "white"
             }
            },
            "header": {
             "fill": {
              "color": "#C8D4E3"
             },
             "line": {
              "color": "white"
             }
            },
            "type": "table"
           }
          ]
         },
         "layout": {
          "annotationdefaults": {
           "arrowcolor": "#2a3f5f",
           "arrowhead": 0,
           "arrowwidth": 1
          },
          "autotypenumbers": "strict",
          "coloraxis": {
           "colorbar": {
            "outlinewidth": 0,
            "ticks": ""
           }
          },
          "colorscale": {
           "diverging": [
            [
             0,
             "#8e0152"
            ],
            [
             0.1,
             "#c51b7d"
            ],
            [
             0.2,
             "#de77ae"
            ],
            [
             0.3,
             "#f1b6da"
            ],
            [
             0.4,
             "#fde0ef"
            ],
            [
             0.5,
             "#f7f7f7"
            ],
            [
             0.6,
             "#e6f5d0"
            ],
            [
             0.7,
             "#b8e186"
            ],
            [
             0.8,
             "#7fbc41"
            ],
            [
             0.9,
             "#4d9221"
            ],
            [
             1,
             "#276419"
            ]
           ],
           "sequential": [
            [
             0,
             "#0d0887"
            ],
            [
             0.1111111111111111,
             "#46039f"
            ],
            [
             0.2222222222222222,
             "#7201a8"
            ],
            [
             0.3333333333333333,
             "#9c179e"
            ],
            [
             0.4444444444444444,
             "#bd3786"
            ],
            [
             0.5555555555555556,
             "#d8576b"
            ],
            [
             0.6666666666666666,
             "#ed7953"
            ],
            [
             0.7777777777777778,
             "#fb9f3a"
            ],
            [
             0.8888888888888888,
             "#fdca26"
            ],
            [
             1,
             "#f0f921"
            ]
           ],
           "sequentialminus": [
            [
             0,
             "#0d0887"
            ],
            [
             0.1111111111111111,
             "#46039f"
            ],
            [
             0.2222222222222222,
             "#7201a8"
            ],
            [
             0.3333333333333333,
             "#9c179e"
            ],
            [
             0.4444444444444444,
             "#bd3786"
            ],
            [
             0.5555555555555556,
             "#d8576b"
            ],
            [
             0.6666666666666666,
             "#ed7953"
            ],
            [
             0.7777777777777778,
             "#fb9f3a"
            ],
            [
             0.8888888888888888,
             "#fdca26"
            ],
            [
             1,
             "#f0f921"
            ]
           ]
          },
          "colorway": [
           "#636efa",
           "#EF553B",
           "#00cc96",
           "#ab63fa",
           "#FFA15A",
           "#19d3f3",
           "#FF6692",
           "#B6E880",
           "#FF97FF",
           "#FECB52"
          ],
          "font": {
           "color": "#2a3f5f"
          },
          "geo": {
           "bgcolor": "white",
           "lakecolor": "white",
           "landcolor": "#E5ECF6",
           "showlakes": true,
           "showland": true,
           "subunitcolor": "white"
          },
          "hoverlabel": {
           "align": "left"
          },
          "hovermode": "closest",
          "mapbox": {
           "style": "light"
          },
          "paper_bgcolor": "white",
          "plot_bgcolor": "#E5ECF6",
          "polar": {
           "angularaxis": {
            "gridcolor": "white",
            "linecolor": "white",
            "ticks": ""
           },
           "bgcolor": "#E5ECF6",
           "radialaxis": {
            "gridcolor": "white",
            "linecolor": "white",
            "ticks": ""
           }
          },
          "scene": {
           "xaxis": {
            "backgroundcolor": "#E5ECF6",
            "gridcolor": "white",
            "gridwidth": 2,
            "linecolor": "white",
            "showbackground": true,
            "ticks": "",
            "zerolinecolor": "white"
           },
           "yaxis": {
            "backgroundcolor": "#E5ECF6",
            "gridcolor": "white",
            "gridwidth": 2,
            "linecolor": "white",
            "showbackground": true,
            "ticks": "",
            "zerolinecolor": "white"
           },
           "zaxis": {
            "backgroundcolor": "#E5ECF6",
            "gridcolor": "white",
            "gridwidth": 2,
            "linecolor": "white",
            "showbackground": true,
            "ticks": "",
            "zerolinecolor": "white"
           }
          },
          "shapedefaults": {
           "line": {
            "color": "#2a3f5f"
           }
          },
          "ternary": {
           "aaxis": {
            "gridcolor": "white",
            "linecolor": "white",
            "ticks": ""
           },
           "baxis": {
            "gridcolor": "white",
            "linecolor": "white",
            "ticks": ""
           },
           "bgcolor": "#E5ECF6",
           "caxis": {
            "gridcolor": "white",
            "linecolor": "white",
            "ticks": ""
           }
          },
          "title": {
           "x": 0.05
          },
          "xaxis": {
           "automargin": true,
           "gridcolor": "white",
           "linecolor": "white",
           "ticks": "",
           "title": {
            "standoff": 15
           },
           "zerolinecolor": "white",
           "zerolinewidth": 2
          },
          "yaxis": {
           "automargin": true,
           "gridcolor": "white",
           "linecolor": "white",
           "ticks": "",
           "title": {
            "standoff": 15
           },
           "zerolinecolor": "white",
           "zerolinewidth": 2
          }
         }
        },
        "title": {
         "text": "Box Plots of TDV, AWV, and AADBT made with BiciZen data"
        },
        "xaxis": {
         "anchor": "y",
         "domain": [
          0,
          1
         ],
         "title": {
          "text": "Category"
         }
        },
        "yaxis": {
         "anchor": "x",
         "domain": [
          0,
          1
         ],
         "title": {
          "text": "Value"
         }
        }
       }
      }
     },
     "metadata": {},
     "output_type": "display_data"
    }
   ],
   "source": [
    "import plotly.express as px\n",
    "\n",
    "# Create a combined DataFrame for plotting\n",
    "combined_df = pd.DataFrame({\n",
    "    'Value': pd.concat([weekday_daily_volume['TDV'], weekend_daily_volume['TDV'], mean_weekly_volume['AWV'], annual_volume['AADBT']]),\n",
    "    'Category': ['Weekday TDV'] * len(weekday_daily_volume) + ['Weekend TDV'] * len(weekend_daily_volume) + ['Weekly AWV'] * len(mean_weekly_volume) + ['Annual AADBT'] * len(annual_volume)\n",
    "})\n",
    "\n",
    "\n",
    "# Create the box plot\n",
    "fig = px.box(combined_df, x='Category', y='Value', title='Box Plots of TDV, AWV, and AADBT made with BiciZen data')\n",
    "fig.show() "
   ]
  },
  {
   "cell_type": "markdown",
   "id": "42195e6c",
   "metadata": {
    "id": "a_ZrQ64i7plQ",
    "papermill": {
     "duration": 0.034536,
     "end_time": "2025-04-08T13:16:30.315732",
     "exception": false,
     "start_time": "2025-04-08T13:16:30.281196",
     "status": "completed"
    },
    "tags": []
   },
   "source": [
    "# Save output"
   ]
  },
  {
   "cell_type": "code",
   "execution_count": 23,
   "id": "84ff82cc",
   "metadata": {
    "execution": {
     "iopub.execute_input": "2025-04-08T13:16:30.387188Z",
     "iopub.status.busy": "2025-04-08T13:16:30.387188Z",
     "iopub.status.idle": "2025-04-08T13:16:31.548879Z",
     "shell.execute_reply": "2025-04-08T13:16:31.548879Z"
    },
    "papermill": {
     "duration": 1.200819,
     "end_time": "2025-04-08T13:16:31.550628",
     "exception": false,
     "start_time": "2025-04-08T13:16:30.349809",
     "status": "completed"
    },
    "tags": []
   },
   "outputs": [],
   "source": [
    "# Save expansion factors separately\n",
    "if SAVE_OUTPUT:\n",
    "    annual_volume.to_parquet(Path(OUTPUT_DATA_PATH) / f\"bicizen_aadbt{YEAR}.parquet\")\n",
    "    # Save the figure in OUTPUT_FIGURES_PATH\n",
    "    fig.write_image(Path(OUTPUT_FIGURES_PATH) / f\"bicizen_aadbt_distribution{YEAR}.png\")\n",
    "\n",
    "\n"
   ]
  }
 ],
 "metadata": {
  "colab": {
   "collapsed_sections": [
    "5bf315c7",
    "eebb1a73",
    "12dd37b6"
   ],
   "provenance": []
  },
  "kernelspec": {
   "display_name": "ridership_model",
   "language": "python",
   "name": "python3"
  },
  "language_info": {
   "codemirror_mode": {
    "name": "ipython",
    "version": 3
   },
   "file_extension": ".py",
   "mimetype": "text/x-python",
   "name": "python",
   "nbconvert_exporter": "python",
   "pygments_lexer": "ipython3",
   "version": "3.11.9"
  },
  "papermill": {
   "default_parameters": {},
   "duration": 12.811358,
   "end_time": "2025-04-08T13:16:32.322411",
   "environment_variables": {},
   "exception": null,
   "input_path": "015-luca_expansion_factors_application-bicizen.ipynb",
   "output_path": "015-luca_expansion_factors_application-bicizen.ipynb",
   "parameters": {
    "SAVE_OUTPUT": true,
    "YEAR": 2024
   },
   "start_time": "2025-04-08T13:16:19.511053",
   "version": "2.6.0"
  }
 },
 "nbformat": 4,
 "nbformat_minor": 5
}
