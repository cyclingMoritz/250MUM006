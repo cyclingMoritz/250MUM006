{
  "cells": [
    {
      "cell_type": "markdown",
      "metadata": {
        "id": "rP8SuqILhaPo"
      },
      "source": [
        "# Config"
      ]
    },
    {
      "cell_type": "code",
      "execution_count": 42,
      "metadata": {
        "id": "I_hrwU9x479z",
        "tags": [
          "parameters"
        ]
      },
      "outputs": [],
      "source": [
        "# parameters\n",
        "SAVE_OUTPUT = True\n",
        "SIZE_PLOTS = (12,10)\n",
        "BUFFER_SIZE = 402.336 \n",
        "\n",
        "#Location of the data\n",
        "INPUT_DATA_PATH = \"../data/raw/bicizen\"\n",
        "OUTPUT_DATA_PATH = \"../data/interim/bicizen\""
      ]
    },
    {
      "cell_type": "code",
      "execution_count": 4,
      "metadata": {
        "id": "HnDB36CLTIxL"
      },
      "outputs": [],
      "source": [
        "import numpy as np\n",
        "import pandas as pd\n",
        "import geopandas as gpd\n",
        "from pathlib import Path\n"
      ]
    },
    {
      "cell_type": "markdown",
      "metadata": {
        "id": "JMxfkSGDhuDI"
      },
      "source": [
        "# Load data"
      ]
    },
    {
      "cell_type": "code",
      "execution_count": 11,
      "metadata": {},
      "outputs": [],
      "source": [
        "counts=pd.read_csv(Path(INPUT_DATA_PATH) / \"Counts_BiciZen.csv\", sep=';')\n",
        "locations=pd.read_csv(Path(INPUT_DATA_PATH) /\"Station_Data_BiciZen.csv\",sep=';')\n"
      ]
    },
    {
      "cell_type": "markdown",
      "metadata": {
        "id": "ryt3odo6h1W5"
      },
      "source": [
        "# Data management"
      ]
    },
    {
      "cell_type": "markdown",
      "metadata": {},
      "source": [
        "## Explore data"
      ]
    },
    {
      "cell_type": "code",
      "execution_count": 40,
      "metadata": {},
      "outputs": [
        {
          "name": "stdout",
          "output_type": "stream",
          "text": [
            "(55, 16)\n",
            "Index(['ROOT_ID', 'Ubication', 'Street', 'Direcction', 'Cardinals',\n",
            "       'Infraestrucutura', 'Codigo Infraestructura', 'Num_carrils',\n",
            "       'Codi_districte', 'Codi_equip_mesura', 'Equip de mesura', 'Latitud',\n",
            "       'Longitud', 'X_ETRS89', 'Y_ETRS89', 'geometry'],\n",
            "      dtype='object')\n"
          ]
        }
      ],
      "source": [
        "#Explore stations\n",
        "locations.drop_duplicates(inplace=True)\n",
        "print(locations.shape)\n",
        "print(locations.columns)\n",
        "# print(locations.dtypes)\n",
        "# locations.head()"
      ]
    },
    {
      "cell_type": "code",
      "execution_count": null,
      "metadata": {
        "colab": {
          "base_uri": "https://localhost:8080/",
          "height": 429
        },
        "id": "F2PgA3ZMryBa",
        "outputId": "2ce67901-0e0d-4949-f411-7732f07e3c38"
      },
      "outputs": [
        {
          "name": "stdout",
          "output_type": "stream",
          "text": [
            "(929, 18)\n",
            "Index(['ROOT_ID', 'TIME_MINUTES', 'Factor', 'Volumen Bicicletas', 'SPOTTED_AT',\n",
            "       'Date', 'Weekday', 'Time', 'Year', 'Month', 'Day', 'Hour',\n",
            "       'NUMBER_BICYCLES', 'NUMBER_WOMEN_CYCLIST', 'NUMBER_CHILDREN',\n",
            "       'NUMBER_SENIORS', 'NUMBER_SCOOTERS', 'NUMBER_VEHICLES'],\n",
            "      dtype='object')\n",
            "ROOT_ID                   int64\n",
            "TIME_MINUTES              int64\n",
            "Factor                    int64\n",
            "Volumen Bicicletas        int64\n",
            "SPOTTED_AT               object\n",
            "Date                     object\n",
            "Weekday                  object\n",
            "Time                     object\n",
            "Year                      int64\n",
            "Month                     int64\n",
            "Day                       int64\n",
            "Hour                      int64\n",
            "NUMBER_BICYCLES         float64\n",
            "NUMBER_WOMEN_CYCLIST    float64\n",
            "NUMBER_CHILDREN         float64\n",
            "NUMBER_SENIORS          float64\n",
            "NUMBER_SCOOTERS         float64\n",
            "NUMBER_VEHICLES         float64\n",
            "dtype: object\n"
          ]
        },
        {
          "data": {
            "text/html": [
              "<div>\n",
              "<style scoped>\n",
              "    .dataframe tbody tr th:only-of-type {\n",
              "        vertical-align: middle;\n",
              "    }\n",
              "\n",
              "    .dataframe tbody tr th {\n",
              "        vertical-align: top;\n",
              "    }\n",
              "\n",
              "    .dataframe thead th {\n",
              "        text-align: right;\n",
              "    }\n",
              "</style>\n",
              "<table border=\"1\" class=\"dataframe\">\n",
              "  <thead>\n",
              "    <tr style=\"text-align: right;\">\n",
              "      <th></th>\n",
              "      <th>ROOT_ID</th>\n",
              "      <th>TIME_MINUTES</th>\n",
              "      <th>Factor</th>\n",
              "      <th>Volumen Bicicletas</th>\n",
              "      <th>SPOTTED_AT</th>\n",
              "      <th>Date</th>\n",
              "      <th>Weekday</th>\n",
              "      <th>Time</th>\n",
              "      <th>Year</th>\n",
              "      <th>Month</th>\n",
              "      <th>Day</th>\n",
              "      <th>Hour</th>\n",
              "      <th>NUMBER_BICYCLES</th>\n",
              "      <th>NUMBER_WOMEN_CYCLIST</th>\n",
              "      <th>NUMBER_CHILDREN</th>\n",
              "      <th>NUMBER_SENIORS</th>\n",
              "      <th>NUMBER_SCOOTERS</th>\n",
              "      <th>NUMBER_VEHICLES</th>\n",
              "    </tr>\n",
              "  </thead>\n",
              "  <tbody>\n",
              "    <tr>\n",
              "      <th>924</th>\n",
              "      <td>1047975</td>\n",
              "      <td>10</td>\n",
              "      <td>6</td>\n",
              "      <td>270</td>\n",
              "      <td>2024-10-28 09:03:00</td>\n",
              "      <td>28/10/2024</td>\n",
              "      <td>lunes</td>\n",
              "      <td>09:03:00</td>\n",
              "      <td>2024</td>\n",
              "      <td>10</td>\n",
              "      <td>28</td>\n",
              "      <td>9</td>\n",
              "      <td>45.0</td>\n",
              "      <td>16.0</td>\n",
              "      <td>NaN</td>\n",
              "      <td>4.0</td>\n",
              "      <td>4.0</td>\n",
              "      <td>NaN</td>\n",
              "    </tr>\n",
              "    <tr>\n",
              "      <th>925</th>\n",
              "      <td>1047953</td>\n",
              "      <td>10</td>\n",
              "      <td>6</td>\n",
              "      <td>192</td>\n",
              "      <td>2024-10-28 08:23:00</td>\n",
              "      <td>28/10/2024</td>\n",
              "      <td>lunes</td>\n",
              "      <td>08:23:00</td>\n",
              "      <td>2024</td>\n",
              "      <td>10</td>\n",
              "      <td>28</td>\n",
              "      <td>8</td>\n",
              "      <td>32.0</td>\n",
              "      <td>9.0</td>\n",
              "      <td>NaN</td>\n",
              "      <td>NaN</td>\n",
              "      <td>1.0</td>\n",
              "      <td>NaN</td>\n",
              "    </tr>\n",
              "    <tr>\n",
              "      <th>926</th>\n",
              "      <td>1046343</td>\n",
              "      <td>10</td>\n",
              "      <td>6</td>\n",
              "      <td>18</td>\n",
              "      <td>2024-10-25 13:47:00</td>\n",
              "      <td>25/10/2024</td>\n",
              "      <td>viernes</td>\n",
              "      <td>13:47:00</td>\n",
              "      <td>2024</td>\n",
              "      <td>10</td>\n",
              "      <td>25</td>\n",
              "      <td>13</td>\n",
              "      <td>3.0</td>\n",
              "      <td>1.0</td>\n",
              "      <td>NaN</td>\n",
              "      <td>NaN</td>\n",
              "      <td>NaN</td>\n",
              "      <td>NaN</td>\n",
              "    </tr>\n",
              "    <tr>\n",
              "      <th>927</th>\n",
              "      <td>1046328</td>\n",
              "      <td>10</td>\n",
              "      <td>6</td>\n",
              "      <td>24</td>\n",
              "      <td>2024-10-25 13:04:00</td>\n",
              "      <td>25/10/2024</td>\n",
              "      <td>viernes</td>\n",
              "      <td>13:04:00</td>\n",
              "      <td>2024</td>\n",
              "      <td>10</td>\n",
              "      <td>25</td>\n",
              "      <td>13</td>\n",
              "      <td>4.0</td>\n",
              "      <td>NaN</td>\n",
              "      <td>NaN</td>\n",
              "      <td>NaN</td>\n",
              "      <td>NaN</td>\n",
              "      <td>NaN</td>\n",
              "    </tr>\n",
              "    <tr>\n",
              "      <th>928</th>\n",
              "      <td>1046310</td>\n",
              "      <td>10</td>\n",
              "      <td>6</td>\n",
              "      <td>18</td>\n",
              "      <td>2024-10-25 12:39:00</td>\n",
              "      <td>25/10/2024</td>\n",
              "      <td>viernes</td>\n",
              "      <td>12:39:00</td>\n",
              "      <td>2024</td>\n",
              "      <td>10</td>\n",
              "      <td>25</td>\n",
              "      <td>12</td>\n",
              "      <td>3.0</td>\n",
              "      <td>1.0</td>\n",
              "      <td>NaN</td>\n",
              "      <td>NaN</td>\n",
              "      <td>NaN</td>\n",
              "      <td>NaN</td>\n",
              "    </tr>\n",
              "  </tbody>\n",
              "</table>\n",
              "</div>"
            ],
            "text/plain": [
              "     ROOT_ID  TIME_MINUTES  Factor  Volumen Bicicletas           SPOTTED_AT  \\\n",
              "924  1047975            10       6                 270  2024-10-28 09:03:00   \n",
              "925  1047953            10       6                 192  2024-10-28 08:23:00   \n",
              "926  1046343            10       6                  18  2024-10-25 13:47:00   \n",
              "927  1046328            10       6                  24  2024-10-25 13:04:00   \n",
              "928  1046310            10       6                  18  2024-10-25 12:39:00   \n",
              "\n",
              "           Date  Weekday      Time  Year  Month  Day  Hour  NUMBER_BICYCLES  \\\n",
              "924  28/10/2024    lunes  09:03:00  2024     10   28     9             45.0   \n",
              "925  28/10/2024    lunes  08:23:00  2024     10   28     8             32.0   \n",
              "926  25/10/2024  viernes  13:47:00  2024     10   25    13              3.0   \n",
              "927  25/10/2024  viernes  13:04:00  2024     10   25    13              4.0   \n",
              "928  25/10/2024  viernes  12:39:00  2024     10   25    12              3.0   \n",
              "\n",
              "     NUMBER_WOMEN_CYCLIST  NUMBER_CHILDREN  NUMBER_SENIORS  NUMBER_SCOOTERS  \\\n",
              "924                  16.0              NaN             4.0              4.0   \n",
              "925                   9.0              NaN             NaN              1.0   \n",
              "926                   1.0              NaN             NaN              NaN   \n",
              "927                   NaN              NaN             NaN              NaN   \n",
              "928                   1.0              NaN             NaN              NaN   \n",
              "\n",
              "     NUMBER_VEHICLES  \n",
              "924              NaN  \n",
              "925              NaN  \n",
              "926              NaN  \n",
              "927              NaN  \n",
              "928              NaN  "
            ]
          },
          "execution_count": 39,
          "metadata": {},
          "output_type": "execute_result"
        }
      ],
      "source": [
        "#Explore counts\n",
        "print(counts.shape)\n",
        "print(counts.columns)\n",
        "print(counts.dtypes)\n",
        "counts.tail()"
      ]
    },
    {
      "cell_type": "code",
      "execution_count": 29,
      "metadata": {},
      "outputs": [
        {
          "data": {
            "text/html": [
              "<div>\n",
              "<style scoped>\n",
              "    .dataframe tbody tr th:only-of-type {\n",
              "        vertical-align: middle;\n",
              "    }\n",
              "\n",
              "    .dataframe tbody tr th {\n",
              "        vertical-align: top;\n",
              "    }\n",
              "\n",
              "    .dataframe thead th {\n",
              "        text-align: right;\n",
              "    }\n",
              "</style>\n",
              "<table border=\"1\" class=\"dataframe\">\n",
              "  <thead>\n",
              "    <tr style=\"text-align: right;\">\n",
              "      <th></th>\n",
              "      <th>ROOT_ID</th>\n",
              "      <th>TIME_MINUTES</th>\n",
              "      <th>Factor</th>\n",
              "      <th>Volumen Bicicletas</th>\n",
              "      <th>Year</th>\n",
              "      <th>Month</th>\n",
              "      <th>Day</th>\n",
              "      <th>Hour</th>\n",
              "      <th>NUMBER_BICYCLES</th>\n",
              "      <th>NUMBER_WOMEN_CYCLIST</th>\n",
              "      <th>NUMBER_CHILDREN</th>\n",
              "      <th>NUMBER_SENIORS</th>\n",
              "      <th>NUMBER_SCOOTERS</th>\n",
              "      <th>NUMBER_VEHICLES</th>\n",
              "    </tr>\n",
              "  </thead>\n",
              "  <tbody>\n",
              "    <tr>\n",
              "      <th>count</th>\n",
              "      <td>9.290000e+02</td>\n",
              "      <td>929.000000</td>\n",
              "      <td>929.000000</td>\n",
              "      <td>929.000000</td>\n",
              "      <td>929.0</td>\n",
              "      <td>929.000000</td>\n",
              "      <td>929.000000</td>\n",
              "      <td>929.000000</td>\n",
              "      <td>906.000000</td>\n",
              "      <td>799.000000</td>\n",
              "      <td>407.000000</td>\n",
              "      <td>438.000000</td>\n",
              "      <td>811.000000</td>\n",
              "      <td>370.000000</td>\n",
              "    </tr>\n",
              "    <tr>\n",
              "      <th>mean</th>\n",
              "      <td>1.049844e+06</td>\n",
              "      <td>10.322928</td>\n",
              "      <td>5.935414</td>\n",
              "      <td>46.557589</td>\n",
              "      <td>2024.0</td>\n",
              "      <td>11.051668</td>\n",
              "      <td>16.155005</td>\n",
              "      <td>15.218515</td>\n",
              "      <td>8.249448</td>\n",
              "      <td>2.846058</td>\n",
              "      <td>0.253071</td>\n",
              "      <td>0.349315</td>\n",
              "      <td>3.086313</td>\n",
              "      <td>0.435135</td>\n",
              "    </tr>\n",
              "    <tr>\n",
              "      <th>std</th>\n",
              "      <td>1.119506e+04</td>\n",
              "      <td>2.522127</td>\n",
              "      <td>0.504425</td>\n",
              "      <td>45.792297</td>\n",
              "      <td>0.0</td>\n",
              "      <td>0.333993</td>\n",
              "      <td>8.533509</td>\n",
              "      <td>4.414494</td>\n",
              "      <td>8.717267</td>\n",
              "      <td>3.504037</td>\n",
              "      <td>0.763924</td>\n",
              "      <td>0.788294</td>\n",
              "      <td>3.231779</td>\n",
              "      <td>1.684412</td>\n",
              "    </tr>\n",
              "    <tr>\n",
              "      <th>min</th>\n",
              "      <td>7.479570e+05</td>\n",
              "      <td>10.000000</td>\n",
              "      <td>2.000000</td>\n",
              "      <td>0.000000</td>\n",
              "      <td>2024.0</td>\n",
              "      <td>10.000000</td>\n",
              "      <td>1.000000</td>\n",
              "      <td>0.000000</td>\n",
              "      <td>0.000000</td>\n",
              "      <td>0.000000</td>\n",
              "      <td>0.000000</td>\n",
              "      <td>0.000000</td>\n",
              "      <td>0.000000</td>\n",
              "      <td>0.000000</td>\n",
              "    </tr>\n",
              "    <tr>\n",
              "      <th>25%</th>\n",
              "      <td>1.048268e+06</td>\n",
              "      <td>10.000000</td>\n",
              "      <td>6.000000</td>\n",
              "      <td>18.000000</td>\n",
              "      <td>2024.0</td>\n",
              "      <td>11.000000</td>\n",
              "      <td>8.000000</td>\n",
              "      <td>10.000000</td>\n",
              "      <td>3.000000</td>\n",
              "      <td>1.000000</td>\n",
              "      <td>0.000000</td>\n",
              "      <td>0.000000</td>\n",
              "      <td>1.000000</td>\n",
              "      <td>0.000000</td>\n",
              "    </tr>\n",
              "    <tr>\n",
              "      <th>50%</th>\n",
              "      <td>1.048955e+06</td>\n",
              "      <td>10.000000</td>\n",
              "      <td>6.000000</td>\n",
              "      <td>30.000000</td>\n",
              "      <td>2024.0</td>\n",
              "      <td>11.000000</td>\n",
              "      <td>16.000000</td>\n",
              "      <td>17.000000</td>\n",
              "      <td>6.000000</td>\n",
              "      <td>2.000000</td>\n",
              "      <td>0.000000</td>\n",
              "      <td>0.000000</td>\n",
              "      <td>2.000000</td>\n",
              "      <td>0.000000</td>\n",
              "    </tr>\n",
              "    <tr>\n",
              "      <th>75%</th>\n",
              "      <td>1.052805e+06</td>\n",
              "      <td>10.000000</td>\n",
              "      <td>6.000000</td>\n",
              "      <td>60.000000</td>\n",
              "      <td>2024.0</td>\n",
              "      <td>11.000000</td>\n",
              "      <td>23.000000</td>\n",
              "      <td>18.000000</td>\n",
              "      <td>11.000000</td>\n",
              "      <td>4.000000</td>\n",
              "      <td>0.000000</td>\n",
              "      <td>0.000000</td>\n",
              "      <td>4.000000</td>\n",
              "      <td>0.000000</td>\n",
              "    </tr>\n",
              "    <tr>\n",
              "      <th>max</th>\n",
              "      <td>1.061432e+06</td>\n",
              "      <td>30.000000</td>\n",
              "      <td>6.000000</td>\n",
              "      <td>450.000000</td>\n",
              "      <td>2024.0</td>\n",
              "      <td>12.000000</td>\n",
              "      <td>31.000000</td>\n",
              "      <td>22.000000</td>\n",
              "      <td>129.000000</td>\n",
              "      <td>44.000000</td>\n",
              "      <td>11.000000</td>\n",
              "      <td>5.000000</td>\n",
              "      <td>37.000000</td>\n",
              "      <td>16.000000</td>\n",
              "    </tr>\n",
              "  </tbody>\n",
              "</table>\n",
              "</div>"
            ],
            "text/plain": [
              "            ROOT_ID  TIME_MINUTES      Factor  Volumen Bicicletas    Year  \\\n",
              "count  9.290000e+02    929.000000  929.000000          929.000000   929.0   \n",
              "mean   1.049844e+06     10.322928    5.935414           46.557589  2024.0   \n",
              "std    1.119506e+04      2.522127    0.504425           45.792297     0.0   \n",
              "min    7.479570e+05     10.000000    2.000000            0.000000  2024.0   \n",
              "25%    1.048268e+06     10.000000    6.000000           18.000000  2024.0   \n",
              "50%    1.048955e+06     10.000000    6.000000           30.000000  2024.0   \n",
              "75%    1.052805e+06     10.000000    6.000000           60.000000  2024.0   \n",
              "max    1.061432e+06     30.000000    6.000000          450.000000  2024.0   \n",
              "\n",
              "            Month         Day        Hour  NUMBER_BICYCLES  \\\n",
              "count  929.000000  929.000000  929.000000       906.000000   \n",
              "mean    11.051668   16.155005   15.218515         8.249448   \n",
              "std      0.333993    8.533509    4.414494         8.717267   \n",
              "min     10.000000    1.000000    0.000000         0.000000   \n",
              "25%     11.000000    8.000000   10.000000         3.000000   \n",
              "50%     11.000000   16.000000   17.000000         6.000000   \n",
              "75%     11.000000   23.000000   18.000000        11.000000   \n",
              "max     12.000000   31.000000   22.000000       129.000000   \n",
              "\n",
              "       NUMBER_WOMEN_CYCLIST  NUMBER_CHILDREN  NUMBER_SENIORS  NUMBER_SCOOTERS  \\\n",
              "count            799.000000       407.000000      438.000000       811.000000   \n",
              "mean               2.846058         0.253071        0.349315         3.086313   \n",
              "std                3.504037         0.763924        0.788294         3.231779   \n",
              "min                0.000000         0.000000        0.000000         0.000000   \n",
              "25%                1.000000         0.000000        0.000000         1.000000   \n",
              "50%                2.000000         0.000000        0.000000         2.000000   \n",
              "75%                4.000000         0.000000        0.000000         4.000000   \n",
              "max               44.000000        11.000000        5.000000        37.000000   \n",
              "\n",
              "       NUMBER_VEHICLES  \n",
              "count       370.000000  \n",
              "mean          0.435135  \n",
              "std           1.684412  \n",
              "min           0.000000  \n",
              "25%           0.000000  \n",
              "50%           0.000000  \n",
              "75%           0.000000  \n",
              "max          16.000000  "
            ]
          },
          "execution_count": 29,
          "metadata": {},
          "output_type": "execute_result"
        }
      ],
      "source": [
        "counts.describe()"
      ]
    },
    {
      "cell_type": "markdown",
      "metadata": {},
      "source": [
        "### Explore counts"
      ]
    },
    {
      "cell_type": "code",
      "execution_count": 26,
      "metadata": {},
      "outputs": [
        {
          "data": {
            "text/html": [
              "<div>\n",
              "<style scoped>\n",
              "    .dataframe tbody tr th:only-of-type {\n",
              "        vertical-align: middle;\n",
              "    }\n",
              "\n",
              "    .dataframe tbody tr th {\n",
              "        vertical-align: top;\n",
              "    }\n",
              "\n",
              "    .dataframe thead th {\n",
              "        text-align: right;\n",
              "    }\n",
              "</style>\n",
              "<table border=\"1\" class=\"dataframe\">\n",
              "  <thead>\n",
              "    <tr style=\"text-align: right;\">\n",
              "      <th></th>\n",
              "      <th>ROOT_ID</th>\n",
              "      <th>Year</th>\n",
              "      <th>Month</th>\n",
              "      <th>Day</th>\n",
              "      <th>Hour</th>\n",
              "      <th>Count</th>\n",
              "    </tr>\n",
              "  </thead>\n",
              "  <tbody>\n",
              "    <tr>\n",
              "      <th>0</th>\n",
              "      <td>1060335</td>\n",
              "      <td>2024</td>\n",
              "      <td>11</td>\n",
              "      <td>29</td>\n",
              "      <td>17</td>\n",
              "      <td>52</td>\n",
              "    </tr>\n",
              "    <tr>\n",
              "      <th>1</th>\n",
              "      <td>1048229</td>\n",
              "      <td>2024</td>\n",
              "      <td>11</td>\n",
              "      <td>29</td>\n",
              "      <td>17</td>\n",
              "      <td>70</td>\n",
              "    </tr>\n",
              "    <tr>\n",
              "      <th>2</th>\n",
              "      <td>1060335</td>\n",
              "      <td>2024</td>\n",
              "      <td>11</td>\n",
              "      <td>29</td>\n",
              "      <td>17</td>\n",
              "      <td>42</td>\n",
              "    </tr>\n",
              "    <tr>\n",
              "      <th>3</th>\n",
              "      <td>1048229</td>\n",
              "      <td>2024</td>\n",
              "      <td>11</td>\n",
              "      <td>29</td>\n",
              "      <td>17</td>\n",
              "      <td>68</td>\n",
              "    </tr>\n",
              "    <tr>\n",
              "      <th>4</th>\n",
              "      <td>1048249</td>\n",
              "      <td>2024</td>\n",
              "      <td>12</td>\n",
              "      <td>1</td>\n",
              "      <td>17</td>\n",
              "      <td>54</td>\n",
              "    </tr>\n",
              "    <tr>\n",
              "      <th>...</th>\n",
              "      <td>...</td>\n",
              "      <td>...</td>\n",
              "      <td>...</td>\n",
              "      <td>...</td>\n",
              "      <td>...</td>\n",
              "      <td>...</td>\n",
              "    </tr>\n",
              "    <tr>\n",
              "      <th>924</th>\n",
              "      <td>1047975</td>\n",
              "      <td>2024</td>\n",
              "      <td>10</td>\n",
              "      <td>28</td>\n",
              "      <td>9</td>\n",
              "      <td>270</td>\n",
              "    </tr>\n",
              "    <tr>\n",
              "      <th>925</th>\n",
              "      <td>1047953</td>\n",
              "      <td>2024</td>\n",
              "      <td>10</td>\n",
              "      <td>28</td>\n",
              "      <td>8</td>\n",
              "      <td>192</td>\n",
              "    </tr>\n",
              "    <tr>\n",
              "      <th>926</th>\n",
              "      <td>1046343</td>\n",
              "      <td>2024</td>\n",
              "      <td>10</td>\n",
              "      <td>25</td>\n",
              "      <td>13</td>\n",
              "      <td>18</td>\n",
              "    </tr>\n",
              "    <tr>\n",
              "      <th>927</th>\n",
              "      <td>1046328</td>\n",
              "      <td>2024</td>\n",
              "      <td>10</td>\n",
              "      <td>25</td>\n",
              "      <td>13</td>\n",
              "      <td>24</td>\n",
              "    </tr>\n",
              "    <tr>\n",
              "      <th>928</th>\n",
              "      <td>1046310</td>\n",
              "      <td>2024</td>\n",
              "      <td>10</td>\n",
              "      <td>25</td>\n",
              "      <td>12</td>\n",
              "      <td>18</td>\n",
              "    </tr>\n",
              "  </tbody>\n",
              "</table>\n",
              "<p>929 rows × 6 columns</p>\n",
              "</div>"
            ],
            "text/plain": [
              "     ROOT_ID  Year  Month  Day  Hour  Count\n",
              "0    1060335  2024     11   29    17     52\n",
              "1    1048229  2024     11   29    17     70\n",
              "2    1060335  2024     11   29    17     42\n",
              "3    1048229  2024     11   29    17     68\n",
              "4    1048249  2024     12    1    17     54\n",
              "..       ...   ...    ...  ...   ...    ...\n",
              "924  1047975  2024     10   28     9    270\n",
              "925  1047953  2024     10   28     8    192\n",
              "926  1046343  2024     10   25    13     18\n",
              "927  1046328  2024     10   25    13     24\n",
              "928  1046310  2024     10   25    12     18\n",
              "\n",
              "[929 rows x 6 columns]"
            ]
          },
          "execution_count": 26,
          "metadata": {},
          "output_type": "execute_result"
        }
      ],
      "source": [
        "attributes = ['ROOT_ID', 'Year', 'Month', 'Day', 'Hour','Volumen Bicicletas']\n",
        "df = counts[attributes].copy()\n",
        "#Make 'Year', 'Month', 'Day', 'Hour' int\n",
        "# Fill NaN values with 0 before converting to int\n",
        "df[['Year', 'Month', 'Day', 'Hour']] = df[['Year', 'Month', 'Day', 'Hour']].astype(int)\n",
        "df = df.rename(columns={'Volumen Bicicletas': 'Count'})\n",
        "df"
      ]
    },
    {
      "cell_type": "markdown",
      "metadata": {},
      "source": [
        "### Join with location"
      ]
    },
    {
      "cell_type": "code",
      "execution_count": 41,
      "metadata": {},
      "outputs": [
        {
          "name": "stdout",
          "output_type": "stream",
          "text": [
            "0\n",
            "(929, 8)\n"
          ]
        },
        {
          "data": {
            "text/html": [
              "<div>\n",
              "<style scoped>\n",
              "    .dataframe tbody tr th:only-of-type {\n",
              "        vertical-align: middle;\n",
              "    }\n",
              "\n",
              "    .dataframe tbody tr th {\n",
              "        vertical-align: top;\n",
              "    }\n",
              "\n",
              "    .dataframe thead th {\n",
              "        text-align: right;\n",
              "    }\n",
              "</style>\n",
              "<table border=\"1\" class=\"dataframe\">\n",
              "  <thead>\n",
              "    <tr style=\"text-align: right;\">\n",
              "      <th></th>\n",
              "      <th>ROOT_ID</th>\n",
              "      <th>Year</th>\n",
              "      <th>Month</th>\n",
              "      <th>Day</th>\n",
              "      <th>Hour</th>\n",
              "      <th>Count</th>\n",
              "      <th>Latitud</th>\n",
              "      <th>Longitud</th>\n",
              "    </tr>\n",
              "  </thead>\n",
              "  <tbody>\n",
              "    <tr>\n",
              "      <th>0</th>\n",
              "      <td>1060335</td>\n",
              "      <td>2024</td>\n",
              "      <td>11</td>\n",
              "      <td>29</td>\n",
              "      <td>17</td>\n",
              "      <td>52</td>\n",
              "      <td>41.40476</td>\n",
              "      <td>2.20095</td>\n",
              "    </tr>\n",
              "    <tr>\n",
              "      <th>1</th>\n",
              "      <td>1048229</td>\n",
              "      <td>2024</td>\n",
              "      <td>11</td>\n",
              "      <td>29</td>\n",
              "      <td>17</td>\n",
              "      <td>70</td>\n",
              "      <td>41.40476</td>\n",
              "      <td>2.20095</td>\n",
              "    </tr>\n",
              "    <tr>\n",
              "      <th>2</th>\n",
              "      <td>1060335</td>\n",
              "      <td>2024</td>\n",
              "      <td>11</td>\n",
              "      <td>29</td>\n",
              "      <td>17</td>\n",
              "      <td>42</td>\n",
              "      <td>41.40476</td>\n",
              "      <td>2.20095</td>\n",
              "    </tr>\n",
              "    <tr>\n",
              "      <th>3</th>\n",
              "      <td>1048229</td>\n",
              "      <td>2024</td>\n",
              "      <td>11</td>\n",
              "      <td>29</td>\n",
              "      <td>17</td>\n",
              "      <td>68</td>\n",
              "      <td>41.40476</td>\n",
              "      <td>2.20095</td>\n",
              "    </tr>\n",
              "    <tr>\n",
              "      <th>4</th>\n",
              "      <td>1048249</td>\n",
              "      <td>2024</td>\n",
              "      <td>12</td>\n",
              "      <td>1</td>\n",
              "      <td>17</td>\n",
              "      <td>54</td>\n",
              "      <td>41.43044</td>\n",
              "      <td>2.19482</td>\n",
              "    </tr>\n",
              "  </tbody>\n",
              "</table>\n",
              "</div>"
            ],
            "text/plain": [
              "   ROOT_ID  Year  Month  Day  Hour  Count   Latitud  Longitud\n",
              "0  1060335  2024     11   29    17     52  41.40476   2.20095\n",
              "1  1048229  2024     11   29    17     70  41.40476   2.20095\n",
              "2  1060335  2024     11   29    17     42  41.40476   2.20095\n",
              "3  1048229  2024     11   29    17     68  41.40476   2.20095\n",
              "4  1048249  2024     12    1    17     54  41.43044   2.19482"
            ]
          },
          "execution_count": 41,
          "metadata": {},
          "output_type": "execute_result"
        }
      ],
      "source": [
        "gdf = df.merge(locations[[\"ROOT_ID\", \"Latitud\", \"Longitud\"]], on=\"ROOT_ID\", how=\"left\")\n",
        "print(gdf.isna().sum().sum())\n",
        "print(gdf.shape)\n",
        "gdf.head()"
      ]
    },
    {
      "cell_type": "markdown",
      "metadata": {
        "id": "a_ZrQ64i7plQ"
      },
      "source": [
        "## Save output"
      ]
    },
    {
      "cell_type": "code",
      "execution_count": 43,
      "metadata": {
        "id": "6bj2-CeR7owh"
      },
      "outputs": [],
      "source": [
        "if SAVE_OUTPUT:\n",
        "    df.to_parquet(f'{OUTPUT_DATA_PATH}/bicizen.parquet')"
      ]
    },
    {
      "cell_type": "markdown",
      "metadata": {
        "id": "xT_uQYZSbEty"
      },
      "source": [
        "## Watermark"
      ]
    },
    {
      "cell_type": "code",
      "execution_count": null,
      "metadata": {
        "id": "iY8ZyfnAbFoO"
      },
      "outputs": [],
      "source": [
        "!python -m pip install watermark --quiet"
      ]
    },
    {
      "cell_type": "code",
      "execution_count": null,
      "metadata": {
        "id": "Cd2yG3BgbGE3"
      },
      "outputs": [],
      "source": [
        "%load_ext watermark"
      ]
    },
    {
      "cell_type": "code",
      "execution_count": null,
      "metadata": {
        "colab": {
          "base_uri": "https://localhost:8080/"
        },
        "id": "Ef6VBO1QbI-_",
        "outputId": "9551ad1c-634d-4484-dc4a-f6a971884ccc"
      },
      "outputs": [
        {
          "name": "stdout",
          "output_type": "stream",
          "text": [
            "Last updated: 2024-08-23T15:55:33.641180+00:00\n",
            "\n",
            "Python implementation: CPython\n",
            "Python version       : 3.10.12\n",
            "IPython version      : 7.34.0\n",
            "\n",
            "Compiler    : GCC 11.4.0\n",
            "OS          : Linux\n",
            "Release     : 6.1.85+\n",
            "Machine     : x86_64\n",
            "Processor   : x86_64\n",
            "CPU cores   : 2\n",
            "Architecture: 64bit\n",
            "\n"
          ]
        }
      ],
      "source": [
        "%watermark"
      ]
    },
    {
      "cell_type": "code",
      "execution_count": null,
      "metadata": {
        "colab": {
          "base_uri": "https://localhost:8080/"
        },
        "id": "EW9nOXoNbKrP",
        "outputId": "b68ae236-6367-4c9a-b720-5978d2bbcbf4"
      },
      "outputs": [
        {
          "name": "stdout",
          "output_type": "stream",
          "text": [
            "json  : 2.0.9\n",
            "pandas: 2.1.4\n",
            "google: 2.0.3\n",
            "numpy : 1.26.4\n",
            "\n"
          ]
        }
      ],
      "source": [
        "%watermark --iversions"
      ]
    },
    {
      "cell_type": "code",
      "execution_count": null,
      "metadata": {
        "colab": {
          "base_uri": "https://localhost:8080/"
        },
        "id": "2LOCLnX0bMxt",
        "outputId": "e68400d8-8277-4988-d42c-15e02490cce1"
      },
      "outputs": [
        {
          "name": "stdout",
          "output_type": "stream",
          "text": [
            "No LSB modules are available.\n",
            "Distributor ID:\tUbuntu\n",
            "Description:\tUbuntu 22.04.3 LTS\n",
            "Release:\t22.04\n",
            "Codename:\tjammy\n"
          ]
        }
      ],
      "source": [
        "!lsb_release -a"
      ]
    }
  ],
  "metadata": {
    "colab": {
      "provenance": [],
      "toc_visible": true
    },
    "kernelspec": {
      "display_name": "ridership_model",
      "language": "python",
      "name": "python3"
    },
    "language_info": {
      "codemirror_mode": {
        "name": "ipython",
        "version": 3
      },
      "file_extension": ".py",
      "mimetype": "text/x-python",
      "name": "python",
      "nbconvert_exporter": "python",
      "pygments_lexer": "ipython3",
      "version": "3.11.9"
    }
  },
  "nbformat": 4,
  "nbformat_minor": 0
}
