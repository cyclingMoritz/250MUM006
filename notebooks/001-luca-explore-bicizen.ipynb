{
  "cells": [
    {
      "cell_type": "markdown",
      "metadata": {
        "id": "rP8SuqILhaPo"
      },
      "source": [
        "## Config"
      ]
    },
    {
      "cell_type": "code",
      "execution_count": 85,
      "metadata": {
        "id": "I_hrwU9x479z",
        "tags": [
          "parameters"
        ]
      },
      "outputs": [],
      "source": [
        "# parameters\n",
        "SAVE_OUTPUT = True\n",
        "SIZE_PLOTS = (12,10)\n",
        "BUFFER_SIZE = 402.336 \n",
        "\n",
        "#Location of the data\n",
        "INPUT_DATA_PATH = \"../data/raw/bicizen\"\n",
        "OUTPUT_DATA_PATH = \"../data/interim/bicizen\"\n",
        "INPUT_PROCESSED_DATA_PATH = \"../data/processed/\"\n"
      ]
    },
    {
      "cell_type": "code",
      "execution_count": 86,
      "metadata": {
        "id": "HnDB36CLTIxL"
      },
      "outputs": [],
      "source": [
        "import numpy as np\n",
        "import pandas as pd\n",
        "import geopandas as gpd\n",
        "from pathlib import Path\n",
        "import plotly.express as px\n",
        "import plotly.graph_objects as go\n"
      ]
    },
    {
      "cell_type": "markdown",
      "metadata": {
        "id": "JMxfkSGDhuDI"
      },
      "source": [
        "# Load data"
      ]
    },
    {
      "cell_type": "code",
      "execution_count": 87,
      "metadata": {},
      "outputs": [],
      "source": [
        "counts=pd.read_csv(Path(INPUT_DATA_PATH) / \"Counts_BiciZen.csv\", sep=';')\n",
        "locations=pd.read_csv(Path(INPUT_DATA_PATH) /\"Station_Data_BiciZen.csv\",sep=';')\n",
        "counters=gpd.read_parquet(Path(INPUT_PROCESSED_DATA_PATH) /\"013_oriented_stations2023.parquet\")"
      ]
    },
    {
      "cell_type": "markdown",
      "metadata": {
        "id": "ryt3odo6h1W5"
      },
      "source": [
        "# Data management"
      ]
    },
    {
      "cell_type": "markdown",
      "metadata": {},
      "source": [
        "## Manage stations data"
      ]
    },
    {
      "cell_type": "markdown",
      "metadata": {},
      "source": [
        "### General adjustements"
      ]
    },
    {
      "cell_type": "code",
      "execution_count": 88,
      "metadata": {},
      "outputs": [
        {
          "name": "stdout",
          "output_type": "stream",
          "text": [
            "Remove the duplicated rows\n",
            "(929, 16)\n",
            "(55, 16)\n",
            "Drop columns where all values are NaN\n",
            "(55, 10)\n"
          ]
        },
        {
          "data": {
            "text/html": [
              "<div>\n",
              "<style scoped>\n",
              "    .dataframe tbody tr th:only-of-type {\n",
              "        vertical-align: middle;\n",
              "    }\n",
              "\n",
              "    .dataframe tbody tr th {\n",
              "        vertical-align: top;\n",
              "    }\n",
              "\n",
              "    .dataframe thead th {\n",
              "        text-align: right;\n",
              "    }\n",
              "</style>\n",
              "<table border=\"1\" class=\"dataframe\">\n",
              "  <thead>\n",
              "    <tr style=\"text-align: right;\">\n",
              "      <th></th>\n",
              "      <th>ROOT_ID</th>\n",
              "      <th>Location</th>\n",
              "      <th>Street</th>\n",
              "      <th>Direcction</th>\n",
              "      <th>Cardinals</th>\n",
              "      <th>Infraestrucutura</th>\n",
              "      <th>Codigo Infraestructura</th>\n",
              "      <th>Equip de mesura</th>\n",
              "      <th>Latitud</th>\n",
              "      <th>Longitud</th>\n",
              "      <th>geometry</th>\n",
              "    </tr>\n",
              "  </thead>\n",
              "  <tbody>\n",
              "    <tr>\n",
              "      <th>0</th>\n",
              "      <td>1060335</td>\n",
              "      <td>C/ Bilbao (Sentit Muntanya)</td>\n",
              "      <td>C/ Bilbao</td>\n",
              "      <td>(Sentit Muntanya)</td>\n",
              "      <td>(Sentit Muntanya)</td>\n",
              "      <td>Protected separator</td>\n",
              "      <td>7</td>\n",
              "      <td>BiciZen</td>\n",
              "      <td>41.40476</td>\n",
              "      <td>2.20095</td>\n",
              "      <td>POINT (2.20095 41.40476)</td>\n",
              "    </tr>\n",
              "    <tr>\n",
              "      <th>1</th>\n",
              "      <td>1048229</td>\n",
              "      <td>C/ de Bilbao 117 (Sentit Trànsit Rodat)</td>\n",
              "      <td>C/ de Bilbao 117</td>\n",
              "      <td>(Sentit Trànsit Rodat)</td>\n",
              "      <td>Sentit Mar</td>\n",
              "      <td>Protected separator</td>\n",
              "      <td>7</td>\n",
              "      <td>BiciZen</td>\n",
              "      <td>41.40476</td>\n",
              "      <td>2.20095</td>\n",
              "      <td>POINT (2.20095 41.40476)</td>\n",
              "    </tr>\n",
              "  </tbody>\n",
              "</table>\n",
              "</div>"
            ],
            "text/plain": [
              "   ROOT_ID                                 Location            Street  \\\n",
              "0  1060335              C/ Bilbao (Sentit Muntanya)         C/ Bilbao   \n",
              "1  1048229  C/ de Bilbao 117 (Sentit Trànsit Rodat)  C/ de Bilbao 117   \n",
              "\n",
              "               Direcction          Cardinals     Infraestrucutura  \\\n",
              "0       (Sentit Muntanya)  (Sentit Muntanya)  Protected separator   \n",
              "1  (Sentit Trànsit Rodat)         Sentit Mar  Protected separator   \n",
              "\n",
              "   Codigo Infraestructura Equip de mesura   Latitud  Longitud  \\\n",
              "0                       7        BiciZen   41.40476   2.20095   \n",
              "1                       7        BiciZen   41.40476   2.20095   \n",
              "\n",
              "                   geometry  \n",
              "0  POINT (2.20095 41.40476)  \n",
              "1  POINT (2.20095 41.40476)  "
            ]
          },
          "execution_count": 88,
          "metadata": {},
          "output_type": "execute_result"
        }
      ],
      "source": [
        "#Remove the duplicated rows\n",
        "print(\"Remove the duplicated rows\")\n",
        "print(locations.shape)\n",
        "locations=locations.drop_duplicates()\n",
        "print(locations.shape)\n",
        "\n",
        "# Drop columns where all values are NaN\n",
        "print(\"Drop columns where all values are NaN\")\n",
        "locations = locations.dropna(axis=1, how='all')\n",
        "print(locations.shape)\n",
        "\n",
        "#Make geodataframe\n",
        "locations = gpd.GeoDataFrame(locations, geometry=gpd.points_from_xy(locations.Longitud, locations.Latitud))\n",
        "locations.set_crs(\"epsg:4326\",inplace=True)\n",
        "locations.head(2)\n"
      ]
    },
    {
      "cell_type": "markdown",
      "metadata": {},
      "source": [
        "### Refine Attributes "
      ]
    },
    {
      "cell_type": "code",
      "execution_count": 89,
      "metadata": {},
      "outputs": [],
      "source": [
        "# Replace typos in the \"Cardinals\" column\n",
        "locations[\"Cardinals\"].replace({\n",
        "    'noroeste': 'NW',\n",
        "    'Este': 'E',\n",
        "    'sureste': 'SE',\n",
        "    'oeste': 'W',\n",
        "    '(Nord)': 'N',\n",
        "    'nordeste': 'NE',\n",
        "    'suroeste': 'SW',\n",
        "    'Oeste': 'W',\n",
        "    'Norte': 'N',\n",
        "    '(Sud)': 'S',\n",
        "    'Sur': 'S',\n",
        "    'sur': 'S'\n",
        "}, inplace=True)\n",
        "\n",
        "def assign_direction(text):\n",
        "    if text is None:\n",
        "        return 'No category'  # Or any other value you want to assign for None\n",
        "    elif 'Llobregat' in text:\n",
        "        return \"SW\"\n",
        "    elif 'mar' in text or 'baixada' in text or 'Mar' in text:\n",
        "        return \"SE\"\n",
        "    elif 'muntanya' in text or 'pujada' in text or 'montanya' in text or 'Muntanya' in text:\n",
        "        return \"NW\"\n",
        "    elif 'Besòs' in text:\n",
        "        return \"NE\"\n",
        "    elif 'carril BICI' == text:\n",
        "        return 'Unidirectional'\n",
        "    else:\n",
        "        return text  # Default category if no keyword matches\n",
        "    \n",
        "locations['direction_counter'] = locations['Cardinals'].apply(assign_direction)\n",
        "locations['direction_counter'].value_counts()\n",
        "locations['directionality'] = np.nan"
      ]
    },
    {
      "cell_type": "code",
      "execution_count": 90,
      "metadata": {},
      "outputs": [
        {
          "data": {
            "text/html": [
              "<div>\n",
              "<style scoped>\n",
              "    .dataframe tbody tr th:only-of-type {\n",
              "        vertical-align: middle;\n",
              "    }\n",
              "\n",
              "    .dataframe tbody tr th {\n",
              "        vertical-align: top;\n",
              "    }\n",
              "\n",
              "    .dataframe thead th {\n",
              "        text-align: right;\n",
              "    }\n",
              "</style>\n",
              "<table border=\"1\" class=\"dataframe\">\n",
              "  <thead>\n",
              "    <tr style=\"text-align: right;\">\n",
              "      <th></th>\n",
              "      <th>ROOT_ID</th>\n",
              "      <th>Desc_aforament</th>\n",
              "      <th>direction_counter</th>\n",
              "      <th>directionality</th>\n",
              "      <th>geometry</th>\n",
              "    </tr>\n",
              "  </thead>\n",
              "  <tbody>\n",
              "    <tr>\n",
              "      <th>0</th>\n",
              "      <td>1060335</td>\n",
              "      <td>C/ Bilbao</td>\n",
              "      <td>NW</td>\n",
              "      <td>NaN</td>\n",
              "      <td>POINT (2.20095 41.40476)</td>\n",
              "    </tr>\n",
              "    <tr>\n",
              "      <th>1</th>\n",
              "      <td>1048229</td>\n",
              "      <td>C/ de Bilbao 117</td>\n",
              "      <td>SE</td>\n",
              "      <td>NaN</td>\n",
              "      <td>POINT (2.20095 41.40476)</td>\n",
              "    </tr>\n",
              "    <tr>\n",
              "      <th>4</th>\n",
              "      <td>1048249</td>\n",
              "      <td>Rambla de l'Onze de Setembre 2</td>\n",
              "      <td>W</td>\n",
              "      <td>NaN</td>\n",
              "      <td>POINT (2.19482 41.43044)</td>\n",
              "    </tr>\n",
              "    <tr>\n",
              "      <th>6</th>\n",
              "      <td>1048273</td>\n",
              "      <td>C/ de Pi i Margall 114</td>\n",
              "      <td>N</td>\n",
              "      <td>NaN</td>\n",
              "      <td>POINT (2.16471 41.41152)</td>\n",
              "    </tr>\n",
              "    <tr>\n",
              "      <th>7</th>\n",
              "      <td>1048896</td>\n",
              "      <td>C/ Jocs Florals 175</td>\n",
              "      <td>SE</td>\n",
              "      <td>NaN</td>\n",
              "      <td>POINT (2.13685 41.37023)</td>\n",
              "    </tr>\n",
              "  </tbody>\n",
              "</table>\n",
              "</div>"
            ],
            "text/plain": [
              "   ROOT_ID                  Desc_aforament direction_counter  directionality  \\\n",
              "0  1060335                       C/ Bilbao                NW             NaN   \n",
              "1  1048229                C/ de Bilbao 117                SE             NaN   \n",
              "4  1048249  Rambla de l'Onze de Setembre 2                 W             NaN   \n",
              "6  1048273          C/ de Pi i Margall 114                 N             NaN   \n",
              "7  1048896             C/ Jocs Florals 175                SE             NaN   \n",
              "\n",
              "                   geometry  \n",
              "0  POINT (2.20095 41.40476)  \n",
              "1  POINT (2.20095 41.40476)  \n",
              "4  POINT (2.19482 41.43044)  \n",
              "6  POINT (2.16471 41.41152)  \n",
              "7  POINT (2.13685 41.37023)  "
            ]
          },
          "execution_count": 90,
          "metadata": {},
          "output_type": "execute_result"
        }
      ],
      "source": [
        "locations=locations[['ROOT_ID','Street', 'direction_counter','directionality',  'geometry']]\n",
        "locations.rename(columns={'Street': 'Desc_aforament', 'Codigo Infraestructura': 'code'}, inplace=True)\n",
        "locations.head()"
      ]
    },
    {
      "cell_type": "markdown",
      "metadata": {},
      "source": [
        "### Add real counters id"
      ]
    },
    {
      "cell_type": "code",
      "execution_count": 91,
      "metadata": {},
      "outputs": [
        {
          "name": "stdout",
          "output_type": "stream",
          "text": [
            "(28, 11)\n",
            "(14, 11)\n"
          ]
        }
      ],
      "source": [
        "#Project both to local coordinates\n",
        "locations.to_crs(\"epsg:25831\",inplace=True)\n",
        "counters.to_crs(\"epsg:25831\",inplace=True)\n",
        "\n",
        "#Make a spatial Join\n",
        "locations_buffer = locations.copy()\n",
        "locations_buffer[\"geometry\"] = locations_buffer[\"geometry\"].buffer(50)\n",
        "\n",
        "joined_buffer = gpd.sjoin(locations_buffer, counters, how=\"inner\",predicate=\"intersects\")\n",
        "print(joined_buffer.shape)\n",
        "\n",
        "#Keep the ones that match\n",
        "joined_match = joined_buffer[joined_buffer['direction_counter_left'] == joined_buffer['direction_counter_right']]\n",
        "print(joined_match.shape)"
      ]
    },
    {
      "cell_type": "code",
      "execution_count": 92,
      "metadata": {},
      "outputs": [
        {
          "data": {
            "text/plain": [
              "(17, 2)"
            ]
          },
          "execution_count": 92,
          "metadata": {},
          "output_type": "execute_result"
        }
      ],
      "source": [
        "\n",
        "id_to_root_id = {\n",
        "    #The ones found manually\n",
        "    1051865: 20348,  # RONDA GUINARDO - TORRENT MELIS 2 (sentit Llobregat) NE\n",
        "    1048223: 20248,  # MERIDIANA - CLOT #fix\n",
        "    1048244: 20227,  # GARCILASO - AV. MERIDIANA\n",
        "    #The ones from the spatial join\n",
        "    1048258: 20194,  # DE PI FERRER - C/DEL GARROFERS (carril BICI se...)\n",
        "    1053952: 20195,  # DE PI FERRER - ALSAMORA (carril BICI sentit mar)\n",
        "    1048280: 20169,  # AV. MARIA CRISTINA - PL. ESPANYA (carril BICI ...)\n",
        "    1057494: 20168,  # AV. MARIA CRISTINA - RIUS I TAULET (carril BIC...)\n",
        "    1051840: 20113,  # Pg. Pujades - Picasso (carril BICI sentit Besòs)\n",
        "    1047953: 20112,  # Pg. Pujajdes - Lluis Companys (carril BICI sen...)\n",
        "    1048272: 20241,  # ARISTIDES MAILLOL - CARDENAL REIG (carril BICI)\n",
        "    1054514: 20242,  # ARISTIDES MAILLOL - AV. DOCTOR MARAÑON (carril...)\n",
        "    1048274: 20099,  # TRAV. DE GRACIA - EN GRASSOT (sentit Besòs)\n",
        "    1049380: 20098,  # TRAV. DE GRACIA - HIPOLIT LAZARO (carril BICI)\n",
        "    1048268: 20347,  # RONDA GUINARDO - TORRENT MELIS 2 (sentit Llobr...)\n",
        "    1057984: 20325,  # CALABRIA - VALENCIA (sentit mar)\n",
        "    1029389: 20326,  # CALABRIA - ARAGO (sentit muntanya)\n",
        "    1046328: 20404,  # VIA AUGUSTA -PG. DE LA BONANOVA (carril bici -...)\n",
        "}\n",
        "\n",
        "# Convert the dictionary to a DataFrame\n",
        "id_to_root_id_df = pd.DataFrame(list(id_to_root_id.items()), columns=['ROOT_ID', 'id'])\n",
        "id_to_root_id_df.shape\n"
      ]
    },
    {
      "cell_type": "code",
      "execution_count": 93,
      "metadata": {},
      "outputs": [
        {
          "data": {
            "text/html": [
              "<div>\n",
              "<style scoped>\n",
              "    .dataframe tbody tr th:only-of-type {\n",
              "        vertical-align: middle;\n",
              "    }\n",
              "\n",
              "    .dataframe tbody tr th {\n",
              "        vertical-align: top;\n",
              "    }\n",
              "\n",
              "    .dataframe thead th {\n",
              "        text-align: right;\n",
              "    }\n",
              "</style>\n",
              "<table border=\"1\" class=\"dataframe\">\n",
              "  <thead>\n",
              "    <tr style=\"text-align: right;\">\n",
              "      <th></th>\n",
              "      <th>ROOT_ID</th>\n",
              "      <th>Desc_aforament</th>\n",
              "      <th>direction_counter</th>\n",
              "      <th>directionality</th>\n",
              "      <th>geometry</th>\n",
              "      <th>id</th>\n",
              "    </tr>\n",
              "  </thead>\n",
              "  <tbody>\n",
              "    <tr>\n",
              "      <th>0</th>\n",
              "      <td>1060335</td>\n",
              "      <td>C/ Bilbao</td>\n",
              "      <td>NW</td>\n",
              "      <td>NaN</td>\n",
              "      <td>POINT (433211.182 4583998.871)</td>\n",
              "      <td>NaN</td>\n",
              "    </tr>\n",
              "    <tr>\n",
              "      <th>1</th>\n",
              "      <td>1048229</td>\n",
              "      <td>C/ de Bilbao 117</td>\n",
              "      <td>SE</td>\n",
              "      <td>NaN</td>\n",
              "      <td>POINT (433211.182 4583998.871)</td>\n",
              "      <td>NaN</td>\n",
              "    </tr>\n",
              "    <tr>\n",
              "      <th>2</th>\n",
              "      <td>1048249</td>\n",
              "      <td>Rambla de l'Onze de Setembre 2</td>\n",
              "      <td>W</td>\n",
              "      <td>NaN</td>\n",
              "      <td>POINT (432725.306 4586854.582)</td>\n",
              "      <td>NaN</td>\n",
              "    </tr>\n",
              "    <tr>\n",
              "      <th>3</th>\n",
              "      <td>1048273</td>\n",
              "      <td>C/ de Pi i Margall 114</td>\n",
              "      <td>N</td>\n",
              "      <td>NaN</td>\n",
              "      <td>POINT (430189.262 4584777.934)</td>\n",
              "      <td>NaN</td>\n",
              "    </tr>\n",
              "    <tr>\n",
              "      <th>4</th>\n",
              "      <td>1048896</td>\n",
              "      <td>C/ Jocs Florals 175</td>\n",
              "      <td>SE</td>\n",
              "      <td>NaN</td>\n",
              "      <td>POINT (427815.131 4580216.804)</td>\n",
              "      <td>NaN</td>\n",
              "    </tr>\n",
              "  </tbody>\n",
              "</table>\n",
              "</div>"
            ],
            "text/plain": [
              "   ROOT_ID                  Desc_aforament direction_counter  directionality  \\\n",
              "0  1060335                       C/ Bilbao                NW             NaN   \n",
              "1  1048229                C/ de Bilbao 117                SE             NaN   \n",
              "2  1048249  Rambla de l'Onze de Setembre 2                 W             NaN   \n",
              "3  1048273          C/ de Pi i Margall 114                 N             NaN   \n",
              "4  1048896             C/ Jocs Florals 175                SE             NaN   \n",
              "\n",
              "                         geometry  id  \n",
              "0  POINT (433211.182 4583998.871) NaN  \n",
              "1  POINT (433211.182 4583998.871) NaN  \n",
              "2  POINT (432725.306 4586854.582) NaN  \n",
              "3  POINT (430189.262 4584777.934) NaN  \n",
              "4  POINT (427815.131 4580216.804) NaN  "
            ]
          },
          "execution_count": 93,
          "metadata": {},
          "output_type": "execute_result"
        }
      ],
      "source": [
        "locations=locations.merge(id_to_root_id_df, on=\"ROOT_ID\", how=\"left\")\n",
        "locations.head()"
      ]
    },
    {
      "cell_type": "markdown",
      "metadata": {},
      "source": [
        "## Manage count"
      ]
    },
    {
      "cell_type": "markdown",
      "metadata": {},
      "source": [
        "### Group or scale by hour"
      ]
    },
    {
      "cell_type": "code",
      "execution_count": 94,
      "metadata": {},
      "outputs": [
        {
          "data": {
            "text/plain": [
              "TIME_MINUTES\n",
              "10    914\n",
              "30     14\n",
              "60      1\n",
              "Name: count, dtype: int64"
            ]
          },
          "execution_count": 94,
          "metadata": {},
          "output_type": "execute_result"
        }
      ],
      "source": [
        "counts[\"TIME_MINUTES\"].value_counts()"
      ]
    },
    {
      "cell_type": "code",
      "execution_count": 69,
      "metadata": {},
      "outputs": [
        {
          "name": "stdout",
          "output_type": "stream",
          "text": [
            "(929, 19)\n",
            "(722, 5)\n"
          ]
        },
        {
          "data": {
            "text/html": [
              "<div>\n",
              "<style scoped>\n",
              "    .dataframe tbody tr th:only-of-type {\n",
              "        vertical-align: middle;\n",
              "    }\n",
              "\n",
              "    .dataframe tbody tr th {\n",
              "        vertical-align: top;\n",
              "    }\n",
              "\n",
              "    .dataframe thead th {\n",
              "        text-align: right;\n",
              "    }\n",
              "</style>\n",
              "<table border=\"1\" class=\"dataframe\">\n",
              "  <thead>\n",
              "    <tr style=\"text-align: right;\">\n",
              "      <th></th>\n",
              "      <th>ROOT_ID</th>\n",
              "      <th>Date</th>\n",
              "      <th>Hour</th>\n",
              "      <th>count</th>\n",
              "      <th>TIME_MINUTES</th>\n",
              "    </tr>\n",
              "  </thead>\n",
              "  <tbody>\n",
              "    <tr>\n",
              "      <th>0</th>\n",
              "      <td>747957</td>\n",
              "      <td>02/11/2024</td>\n",
              "      <td>12</td>\n",
              "      <td>19.0</td>\n",
              "      <td>10</td>\n",
              "    </tr>\n",
              "    <tr>\n",
              "      <th>1</th>\n",
              "      <td>1029389</td>\n",
              "      <td>05/11/2024</td>\n",
              "      <td>15</td>\n",
              "      <td>28.0</td>\n",
              "      <td>10</td>\n",
              "    </tr>\n",
              "    <tr>\n",
              "      <th>2</th>\n",
              "      <td>1029389</td>\n",
              "      <td>06/11/2024</td>\n",
              "      <td>8</td>\n",
              "      <td>58.0</td>\n",
              "      <td>10</td>\n",
              "    </tr>\n",
              "    <tr>\n",
              "      <th>3</th>\n",
              "      <td>1029389</td>\n",
              "      <td>06/11/2024</td>\n",
              "      <td>16</td>\n",
              "      <td>33.0</td>\n",
              "      <td>10</td>\n",
              "    </tr>\n",
              "    <tr>\n",
              "      <th>4</th>\n",
              "      <td>1029389</td>\n",
              "      <td>07/11/2024</td>\n",
              "      <td>14</td>\n",
              "      <td>26.0</td>\n",
              "      <td>10</td>\n",
              "    </tr>\n",
              "  </tbody>\n",
              "</table>\n",
              "</div>"
            ],
            "text/plain": [
              "   ROOT_ID        Date  Hour  count  TIME_MINUTES\n",
              "0   747957  02/11/2024    12   19.0            10\n",
              "1  1029389  05/11/2024    15   28.0            10\n",
              "2  1029389  06/11/2024     8   58.0            10\n",
              "3  1029389  06/11/2024    16   33.0            10\n",
              "4  1029389  07/11/2024    14   26.0            10"
            ]
          },
          "execution_count": 69,
          "metadata": {},
          "output_type": "execute_result"
        }
      ],
      "source": [
        "#Sum all into hour\n",
        "counts=counts.fillna(0)\n",
        "counts[\"count\"]=counts[\"NUMBER_BICYCLES\"]+counts[\"NUMBER_WOMEN_CYCLIST\"]+counts[\"NUMBER_CHILDREN\"]+counts[\"NUMBER_SENIORS\"]+counts[\"NUMBER_SCOOTERS\"]\n",
        "counts_by_hour = counts.groupby(['ROOT_ID', 'Date', 'Hour'])[['count', 'TIME_MINUTES']].sum().reset_index()\n",
        "print(counts.shape)\n",
        "print(counts_by_hour.shape)\n",
        "counts_by_hour.head()"
      ]
    },
    {
      "cell_type": "code",
      "execution_count": 70,
      "metadata": {},
      "outputs": [
        {
          "data": {
            "text/plain": [
              "count    722.000000\n",
              "mean      17.322715\n",
              "std       21.276197\n",
              "min        0.000000\n",
              "25%        4.000000\n",
              "50%       10.000000\n",
              "75%       23.750000\n",
              "max      215.000000\n",
              "Name: count, dtype: float64"
            ]
          },
          "execution_count": 70,
          "metadata": {},
          "output_type": "execute_result"
        }
      ],
      "source": [
        "counts_by_hour[\"count\"].describe()"
      ]
    },
    {
      "cell_type": "code",
      "execution_count": 71,
      "metadata": {},
      "outputs": [
        {
          "name": "stdout",
          "output_type": "stream",
          "text": [
            "Factor\n",
            "6.000000    632\n",
            "3.000000     46\n",
            "1.000000     26\n",
            "2.000000     11\n",
            "1.500000      3\n",
            "0.666667      2\n",
            "1.200000      1\n",
            "0.545455      1\n",
            "Name: count, dtype: int64\n",
            "\n",
            "\n",
            "count    722.000000\n",
            "mean      79.634441\n",
            "std       78.507556\n",
            "min        0.000000\n",
            "25%       24.000000\n",
            "50%       54.000000\n",
            "75%      114.000000\n",
            "max      684.000000\n",
            "Name: count, dtype: float64\n",
            "VAlues are [60. 60.]\n"
          ]
        }
      ],
      "source": [
        "#Make factor\n",
        "counts_by_hour[\"Factor\"]=60/counts_by_hour[\"TIME_MINUTES\"]\n",
        "print(counts_by_hour[\"Factor\"].value_counts())\n",
        "print(\"\\n\")\n",
        "#Apply factor\n",
        "counts_by_hour[\"count\"]=counts_by_hour[\"count\"]*counts_by_hour[\"Factor\"]\n",
        "print(counts_by_hour[\"count\"].describe())\n",
        "\n",
        "#Check it adds up\n",
        "print(\"VAlues are\",(counts_by_hour[\"TIME_MINUTES\"]*counts_by_hour[\"Factor\"]).unique())"
      ]
    },
    {
      "cell_type": "code",
      "execution_count": 72,
      "metadata": {},
      "outputs": [
        {
          "data": {
            "text/html": [
              "<div>\n",
              "<style scoped>\n",
              "    .dataframe tbody tr th:only-of-type {\n",
              "        vertical-align: middle;\n",
              "    }\n",
              "\n",
              "    .dataframe tbody tr th {\n",
              "        vertical-align: top;\n",
              "    }\n",
              "\n",
              "    .dataframe thead th {\n",
              "        text-align: right;\n",
              "    }\n",
              "</style>\n",
              "<table border=\"1\" class=\"dataframe\">\n",
              "  <thead>\n",
              "    <tr style=\"text-align: right;\">\n",
              "      <th></th>\n",
              "      <th>ROOT_ID</th>\n",
              "      <th>Date</th>\n",
              "      <th>Hour</th>\n",
              "      <th>Count</th>\n",
              "      <th>date</th>\n",
              "      <th>Year</th>\n",
              "      <th>Month</th>\n",
              "      <th>weekday</th>\n",
              "      <th>Day</th>\n",
              "    </tr>\n",
              "  </thead>\n",
              "  <tbody>\n",
              "    <tr>\n",
              "      <th>0</th>\n",
              "      <td>747957</td>\n",
              "      <td>02/11/2024</td>\n",
              "      <td>12</td>\n",
              "      <td>114.0</td>\n",
              "      <td>2024-11-02</td>\n",
              "      <td>2024</td>\n",
              "      <td>11</td>\n",
              "      <td>5</td>\n",
              "      <td>2</td>\n",
              "    </tr>\n",
              "    <tr>\n",
              "      <th>1</th>\n",
              "      <td>1029389</td>\n",
              "      <td>05/11/2024</td>\n",
              "      <td>15</td>\n",
              "      <td>168.0</td>\n",
              "      <td>2024-11-05</td>\n",
              "      <td>2024</td>\n",
              "      <td>11</td>\n",
              "      <td>1</td>\n",
              "      <td>5</td>\n",
              "    </tr>\n",
              "    <tr>\n",
              "      <th>2</th>\n",
              "      <td>1029389</td>\n",
              "      <td>06/11/2024</td>\n",
              "      <td>8</td>\n",
              "      <td>348.0</td>\n",
              "      <td>2024-11-06</td>\n",
              "      <td>2024</td>\n",
              "      <td>11</td>\n",
              "      <td>2</td>\n",
              "      <td>6</td>\n",
              "    </tr>\n",
              "    <tr>\n",
              "      <th>3</th>\n",
              "      <td>1029389</td>\n",
              "      <td>06/11/2024</td>\n",
              "      <td>16</td>\n",
              "      <td>198.0</td>\n",
              "      <td>2024-11-06</td>\n",
              "      <td>2024</td>\n",
              "      <td>11</td>\n",
              "      <td>2</td>\n",
              "      <td>6</td>\n",
              "    </tr>\n",
              "    <tr>\n",
              "      <th>4</th>\n",
              "      <td>1029389</td>\n",
              "      <td>07/11/2024</td>\n",
              "      <td>14</td>\n",
              "      <td>156.0</td>\n",
              "      <td>2024-11-07</td>\n",
              "      <td>2024</td>\n",
              "      <td>11</td>\n",
              "      <td>3</td>\n",
              "      <td>7</td>\n",
              "    </tr>\n",
              "    <tr>\n",
              "      <th>...</th>\n",
              "      <td>...</td>\n",
              "      <td>...</td>\n",
              "      <td>...</td>\n",
              "      <td>...</td>\n",
              "      <td>...</td>\n",
              "      <td>...</td>\n",
              "      <td>...</td>\n",
              "      <td>...</td>\n",
              "      <td>...</td>\n",
              "    </tr>\n",
              "    <tr>\n",
              "      <th>717</th>\n",
              "      <td>1060375</td>\n",
              "      <td>03/12/2024</td>\n",
              "      <td>9</td>\n",
              "      <td>30.0</td>\n",
              "      <td>2024-12-03</td>\n",
              "      <td>2024</td>\n",
              "      <td>12</td>\n",
              "      <td>1</td>\n",
              "      <td>3</td>\n",
              "    </tr>\n",
              "    <tr>\n",
              "      <th>718</th>\n",
              "      <td>1060375</td>\n",
              "      <td>13/12/2024</td>\n",
              "      <td>16</td>\n",
              "      <td>0.0</td>\n",
              "      <td>2024-12-13</td>\n",
              "      <td>2024</td>\n",
              "      <td>12</td>\n",
              "      <td>4</td>\n",
              "      <td>13</td>\n",
              "    </tr>\n",
              "    <tr>\n",
              "      <th>719</th>\n",
              "      <td>1060375</td>\n",
              "      <td>29/11/2024</td>\n",
              "      <td>17</td>\n",
              "      <td>6.0</td>\n",
              "      <td>2024-11-29</td>\n",
              "      <td>2024</td>\n",
              "      <td>11</td>\n",
              "      <td>4</td>\n",
              "      <td>29</td>\n",
              "    </tr>\n",
              "    <tr>\n",
              "      <th>720</th>\n",
              "      <td>1061432</td>\n",
              "      <td>03/12/2024</td>\n",
              "      <td>9</td>\n",
              "      <td>90.0</td>\n",
              "      <td>2024-12-03</td>\n",
              "      <td>2024</td>\n",
              "      <td>12</td>\n",
              "      <td>1</td>\n",
              "      <td>3</td>\n",
              "    </tr>\n",
              "    <tr>\n",
              "      <th>721</th>\n",
              "      <td>1061432</td>\n",
              "      <td>04/12/2024</td>\n",
              "      <td>19</td>\n",
              "      <td>144.0</td>\n",
              "      <td>2024-12-04</td>\n",
              "      <td>2024</td>\n",
              "      <td>12</td>\n",
              "      <td>2</td>\n",
              "      <td>4</td>\n",
              "    </tr>\n",
              "  </tbody>\n",
              "</table>\n",
              "<p>722 rows × 9 columns</p>\n",
              "</div>"
            ],
            "text/plain": [
              "     ROOT_ID        Date  Hour  Count       date  Year  Month  weekday  Day\n",
              "0     747957  02/11/2024    12  114.0 2024-11-02  2024     11        5    2\n",
              "1    1029389  05/11/2024    15  168.0 2024-11-05  2024     11        1    5\n",
              "2    1029389  06/11/2024     8  348.0 2024-11-06  2024     11        2    6\n",
              "3    1029389  06/11/2024    16  198.0 2024-11-06  2024     11        2    6\n",
              "4    1029389  07/11/2024    14  156.0 2024-11-07  2024     11        3    7\n",
              "..       ...         ...   ...    ...        ...   ...    ...      ...  ...\n",
              "717  1060375  03/12/2024     9   30.0 2024-12-03  2024     12        1    3\n",
              "718  1060375  13/12/2024    16    0.0 2024-12-13  2024     12        4   13\n",
              "719  1060375  29/11/2024    17    6.0 2024-11-29  2024     11        4   29\n",
              "720  1061432  03/12/2024     9   90.0 2024-12-03  2024     12        1    3\n",
              "721  1061432  04/12/2024    19  144.0 2024-12-04  2024     12        2    4\n",
              "\n",
              "[722 rows x 9 columns]"
            ]
          },
          "execution_count": 72,
          "metadata": {},
          "output_type": "execute_result"
        }
      ],
      "source": [
        "attributes = ['ROOT_ID', 'Date','Hour','count']\n",
        "df = counts_by_hour[attributes].copy()\n",
        "\n",
        "df[\"date\"] = pd.to_datetime(df[\"Date\"], dayfirst=True)\n",
        "\n",
        "# Extract Year, Month, Weekday, and Day from date\n",
        "df[\"Year\"] = df[\"date\"].dt.year\n",
        "df[\"Month\"] = df[\"date\"].dt.month\n",
        "df[\"weekday\"] = df[\"date\"].dt.weekday\n",
        "df[\"Day\"] = df[\"date\"].dt.day\n",
        "\n",
        "#Make 'Year', 'Month', 'Day', 'Hour' int\n",
        "# Fill NaN values with 0 before converting to int\n",
        "df[['Year', 'Month', 'Day', 'Hour']] = df[['Year', 'Month', 'Day', 'Hour']].astype(int)\n",
        "df=df.rename(columns={\"count\":\"Count\"})\n",
        "df"
      ]
    },
    {
      "cell_type": "markdown",
      "metadata": {},
      "source": [
        "### Join with location"
      ]
    },
    {
      "cell_type": "code",
      "execution_count": 73,
      "metadata": {},
      "outputs": [
        {
          "name": "stdout",
          "output_type": "stream",
          "text": [
            "0\n",
            "(722, 10)\n"
          ]
        },
        {
          "data": {
            "text/html": [
              "<div>\n",
              "<style scoped>\n",
              "    .dataframe tbody tr th:only-of-type {\n",
              "        vertical-align: middle;\n",
              "    }\n",
              "\n",
              "    .dataframe tbody tr th {\n",
              "        vertical-align: top;\n",
              "    }\n",
              "\n",
              "    .dataframe thead th {\n",
              "        text-align: right;\n",
              "    }\n",
              "</style>\n",
              "<table border=\"1\" class=\"dataframe\">\n",
              "  <thead>\n",
              "    <tr style=\"text-align: right;\">\n",
              "      <th></th>\n",
              "      <th>ROOT_ID</th>\n",
              "      <th>Date</th>\n",
              "      <th>Hour</th>\n",
              "      <th>Count</th>\n",
              "      <th>date</th>\n",
              "      <th>Year</th>\n",
              "      <th>Month</th>\n",
              "      <th>weekday</th>\n",
              "      <th>Day</th>\n",
              "      <th>geometry</th>\n",
              "    </tr>\n",
              "  </thead>\n",
              "  <tbody>\n",
              "    <tr>\n",
              "      <th>0</th>\n",
              "      <td>747957</td>\n",
              "      <td>02/11/2024</td>\n",
              "      <td>12</td>\n",
              "      <td>114.0</td>\n",
              "      <td>2024-11-02</td>\n",
              "      <td>2024</td>\n",
              "      <td>11</td>\n",
              "      <td>5</td>\n",
              "      <td>2</td>\n",
              "      <td>POINT (426930.939 4582277.492)</td>\n",
              "    </tr>\n",
              "    <tr>\n",
              "      <th>1</th>\n",
              "      <td>1029389</td>\n",
              "      <td>05/11/2024</td>\n",
              "      <td>15</td>\n",
              "      <td>168.0</td>\n",
              "      <td>2024-11-05</td>\n",
              "      <td>2024</td>\n",
              "      <td>11</td>\n",
              "      <td>1</td>\n",
              "      <td>5</td>\n",
              "      <td>POINT (429028.861 4581597.123)</td>\n",
              "    </tr>\n",
              "    <tr>\n",
              "      <th>2</th>\n",
              "      <td>1029389</td>\n",
              "      <td>06/11/2024</td>\n",
              "      <td>8</td>\n",
              "      <td>348.0</td>\n",
              "      <td>2024-11-06</td>\n",
              "      <td>2024</td>\n",
              "      <td>11</td>\n",
              "      <td>2</td>\n",
              "      <td>6</td>\n",
              "      <td>POINT (429028.861 4581597.123)</td>\n",
              "    </tr>\n",
              "    <tr>\n",
              "      <th>3</th>\n",
              "      <td>1029389</td>\n",
              "      <td>06/11/2024</td>\n",
              "      <td>16</td>\n",
              "      <td>198.0</td>\n",
              "      <td>2024-11-06</td>\n",
              "      <td>2024</td>\n",
              "      <td>11</td>\n",
              "      <td>2</td>\n",
              "      <td>6</td>\n",
              "      <td>POINT (429028.861 4581597.123)</td>\n",
              "    </tr>\n",
              "    <tr>\n",
              "      <th>4</th>\n",
              "      <td>1029389</td>\n",
              "      <td>07/11/2024</td>\n",
              "      <td>14</td>\n",
              "      <td>156.0</td>\n",
              "      <td>2024-11-07</td>\n",
              "      <td>2024</td>\n",
              "      <td>11</td>\n",
              "      <td>3</td>\n",
              "      <td>7</td>\n",
              "      <td>POINT (429028.861 4581597.123)</td>\n",
              "    </tr>\n",
              "  </tbody>\n",
              "</table>\n",
              "</div>"
            ],
            "text/plain": [
              "   ROOT_ID        Date  Hour  Count       date  Year  Month  weekday  Day  \\\n",
              "0   747957  02/11/2024    12  114.0 2024-11-02  2024     11        5    2   \n",
              "1  1029389  05/11/2024    15  168.0 2024-11-05  2024     11        1    5   \n",
              "2  1029389  06/11/2024     8  348.0 2024-11-06  2024     11        2    6   \n",
              "3  1029389  06/11/2024    16  198.0 2024-11-06  2024     11        2    6   \n",
              "4  1029389  07/11/2024    14  156.0 2024-11-07  2024     11        3    7   \n",
              "\n",
              "                         geometry  \n",
              "0  POINT (426930.939 4582277.492)  \n",
              "1  POINT (429028.861 4581597.123)  \n",
              "2  POINT (429028.861 4581597.123)  \n",
              "3  POINT (429028.861 4581597.123)  \n",
              "4  POINT (429028.861 4581597.123)  "
            ]
          },
          "execution_count": 73,
          "metadata": {},
          "output_type": "execute_result"
        }
      ],
      "source": [
        "gdf = df.merge(locations[[\"ROOT_ID\", \"geometry\",]], on=\"ROOT_ID\", how=\"left\")\n",
        "gdf = gpd.GeoDataFrame(gdf, geometry='geometry')\n",
        "print(gdf.isna().sum().sum())\n",
        "print(gdf.shape)\n",
        "gdf.head()"
      ]
    },
    {
      "cell_type": "code",
      "execution_count": 74,
      "metadata": {},
      "outputs": [
        {
          "data": {
            "text/plain": [
              "count    722.000000\n",
              "mean      79.634441\n",
              "std       78.507556\n",
              "min        0.000000\n",
              "25%       24.000000\n",
              "50%       54.000000\n",
              "75%      114.000000\n",
              "max      684.000000\n",
              "Name: Count, dtype: float64"
            ]
          },
          "execution_count": 74,
          "metadata": {},
          "output_type": "execute_result"
        }
      ],
      "source": [
        "gdf[\"Count\"].describe()"
      ]
    },
    {
      "cell_type": "markdown",
      "metadata": {},
      "source": [
        "### Metadata counters"
      ]
    },
    {
      "cell_type": "code",
      "execution_count": 75,
      "metadata": {},
      "outputs": [],
      "source": [
        "#Get number of observations by location\n",
        "observations = gdf.groupby(\"ROOT_ID\")[\"Count\"].count().reset_index()\n",
        "observations.columns = [\"ROOT_ID\", \"Observations\"]\n",
        "\n",
        "# Get number of days with data per location\n",
        "days_with_data = gdf.groupby(\"ROOT_ID\")[\"date\"].nunique().reset_index()\n",
        "days_with_data.columns = [\"ROOT_ID\", \"DaysWithData\"]\n",
        "\n",
        "# Get if location has weekend data or not\n",
        "weekend_data = gdf[gdf[\"weekday\"].isin([5, 6])].groupby(\"ROOT_ID\")[\"weekday\"].nunique().reset_index()\n",
        "weekend_data[\"HasWeekendData\"] = weekend_data[\"weekday\"] > 0\n",
        "weekend_data = weekend_data[[\"ROOT_ID\", \"HasWeekendData\"]]\n",
        "\n",
        "# Merge the new attributes\n",
        "locations = locations.merge(days_with_data, on=\"ROOT_ID\", how=\"left\")\n",
        "locations = locations.merge(weekend_data, on=\"ROOT_ID\", how=\"left\")\n",
        "locations=locations.merge(observations, on=\"ROOT_ID\", how=\"left\")\n",
        "locations[\"HasWeekendData\"] = locations[\"HasWeekendData\"].fillna(False)\n",
        "\n"
      ]
    },
    {
      "cell_type": "markdown",
      "metadata": {},
      "source": [
        "## Plot observations "
      ]
    },
    {
      "cell_type": "code",
      "execution_count": 76,
      "metadata": {},
      "outputs": [
        {
          "data": {
            "application/vnd.plotly.v1+json": {
              "config": {
                "plotlyServerURL": "https://plot.ly"
              },
              "data": [
                {
                  "alignmentgroup": "True",
                  "bingroup": "x",
                  "hovertemplate": "Count=%{x}<br>count=%{y}<extra></extra>",
                  "legendgroup": "",
                  "marker": {
                    "color": "#636efa",
                    "pattern": {
                      "shape": ""
                    }
                  },
                  "name": "",
                  "nbinsx": 30,
                  "offsetgroup": "",
                  "orientation": "v",
                  "showlegend": false,
                  "type": "histogram",
                  "x": [
                    114,
                    168,
                    348,
                    198,
                    156,
                    216,
                    120,
                    216,
                    156,
                    204,
                    228,
                    252,
                    216,
                    276,
                    186,
                    348,
                    192,
                    72,
                    216,
                    114,
                    174,
                    54,
                    72,
                    72,
                    108,
                    504,
                    210,
                    222,
                    102,
                    78,
                    168,
                    150,
                    24,
                    36,
                    24,
                    42,
                    48,
                    18,
                    36,
                    24,
                    18,
                    30,
                    84,
                    31.5,
                    96,
                    180,
                    12,
                    6,
                    12,
                    6,
                    6,
                    30,
                    12,
                    60,
                    6,
                    12,
                    18,
                    18,
                    6,
                    24,
                    0,
                    48,
                    72,
                    36,
                    30,
                    30,
                    42,
                    24,
                    36,
                    36,
                    36,
                    30,
                    18,
                    6,
                    24,
                    24,
                    6,
                    36,
                    18,
                    30,
                    12,
                    12,
                    12,
                    18,
                    0,
                    168,
                    162,
                    264,
                    156,
                    144,
                    186,
                    174,
                    258,
                    186,
                    294,
                    252,
                    186,
                    246,
                    342,
                    162,
                    156,
                    430,
                    300,
                    198,
                    231,
                    186,
                    318,
                    684,
                    102,
                    258,
                    282,
                    228,
                    300,
                    408,
                    324,
                    414,
                    198,
                    252,
                    228,
                    216,
                    105,
                    234,
                    201,
                    318,
                    132,
                    258,
                    162,
                    72,
                    132,
                    198,
                    240,
                    90,
                    228,
                    108,
                    66,
                    174,
                    132,
                    94,
                    192,
                    90,
                    96,
                    60,
                    42,
                    186,
                    66,
                    162,
                    36,
                    162,
                    114,
                    132,
                    96,
                    162,
                    120,
                    60,
                    174,
                    138,
                    96,
                    120,
                    42,
                    12,
                    94,
                    86,
                    54,
                    126,
                    0,
                    6,
                    30,
                    42,
                    12,
                    26,
                    12,
                    43,
                    36,
                    37,
                    78,
                    35,
                    48,
                    24,
                    72,
                    21,
                    6,
                    30,
                    78,
                    30,
                    38,
                    12,
                    12,
                    6,
                    36,
                    18,
                    6,
                    12,
                    30,
                    24,
                    78,
                    18,
                    18,
                    42,
                    24,
                    42,
                    30,
                    36,
                    54,
                    18,
                    18,
                    30,
                    12,
                    18,
                    48,
                    42,
                    48,
                    42,
                    48,
                    66,
                    18,
                    48,
                    54,
                    24,
                    6,
                    42,
                    0,
                    6,
                    24,
                    0,
                    18,
                    42,
                    36,
                    48,
                    36,
                    54,
                    24,
                    30,
                    60,
                    24,
                    18,
                    6,
                    30,
                    12,
                    30,
                    36,
                    66,
                    36,
                    6,
                    30,
                    60,
                    28,
                    24,
                    42,
                    66,
                    18,
                    6,
                    6,
                    36,
                    24,
                    60,
                    54,
                    18,
                    6,
                    36,
                    12,
                    6,
                    76,
                    42,
                    60,
                    72,
                    144,
                    108,
                    102,
                    96,
                    102,
                    108,
                    150,
                    138,
                    66,
                    36,
                    84,
                    66,
                    84,
                    42,
                    159,
                    276,
                    168,
                    72,
                    138,
                    78,
                    78,
                    201,
                    186,
                    132,
                    90,
                    198,
                    36,
                    42,
                    36,
                    132,
                    186,
                    192,
                    147,
                    96,
                    108,
                    54,
                    69,
                    152,
                    60,
                    90,
                    78,
                    66,
                    72,
                    102,
                    62.4,
                    174,
                    72,
                    72,
                    84,
                    81,
                    42,
                    66,
                    48,
                    51,
                    162,
                    96,
                    45,
                    114,
                    87,
                    96,
                    36,
                    96,
                    72,
                    114,
                    90,
                    48,
                    102,
                    96,
                    27,
                    30,
                    96,
                    42,
                    12,
                    30,
                    120,
                    96,
                    72,
                    57,
                    36,
                    108,
                    36,
                    90,
                    58,
                    72,
                    57,
                    36,
                    60,
                    54,
                    234,
                    216,
                    168,
                    204,
                    318,
                    126,
                    228,
                    204,
                    126,
                    66,
                    72,
                    36,
                    60,
                    12,
                    12,
                    36,
                    21,
                    12,
                    54,
                    18,
                    12,
                    30,
                    48,
                    12,
                    48,
                    18,
                    6,
                    6,
                    6,
                    9,
                    24,
                    30,
                    24,
                    0,
                    18,
                    18,
                    6,
                    0,
                    30,
                    24,
                    39,
                    18,
                    36,
                    6,
                    0,
                    6,
                    12,
                    60,
                    78,
                    93,
                    141,
                    150,
                    108,
                    198,
                    174,
                    204,
                    126,
                    150,
                    0,
                    60,
                    60,
                    126,
                    135,
                    126,
                    210,
                    114,
                    192,
                    96,
                    66,
                    123,
                    228,
                    150,
                    144,
                    150,
                    81,
                    108,
                    201,
                    240,
                    144,
                    174,
                    126,
                    144,
                    132,
                    126,
                    102,
                    168,
                    198,
                    180,
                    24,
                    6,
                    48,
                    42,
                    6,
                    30,
                    18,
                    24,
                    30,
                    30,
                    24,
                    30,
                    57,
                    30,
                    30,
                    24,
                    30,
                    24,
                    42,
                    42,
                    54,
                    24,
                    6,
                    18,
                    54,
                    66,
                    30,
                    54,
                    24,
                    6,
                    12,
                    12,
                    36,
                    12,
                    54,
                    30,
                    24,
                    66,
                    18,
                    18,
                    30,
                    22,
                    24,
                    0,
                    60,
                    12,
                    48,
                    72,
                    30,
                    54,
                    66,
                    12,
                    54,
                    24,
                    36,
                    54,
                    24,
                    54,
                    36,
                    204,
                    168,
                    108,
                    120,
                    126,
                    180,
                    204,
                    19.5,
                    52,
                    18,
                    23,
                    54,
                    55,
                    54,
                    36,
                    60,
                    30,
                    72,
                    36,
                    18,
                    84,
                    38,
                    54,
                    36,
                    54,
                    48,
                    12,
                    6,
                    42,
                    36,
                    72,
                    54,
                    42,
                    30,
                    30,
                    72,
                    96,
                    24,
                    36,
                    30,
                    36,
                    138,
                    126,
                    138,
                    132,
                    78,
                    132,
                    234,
                    132,
                    132,
                    60,
                    48,
                    48,
                    24,
                    24,
                    42,
                    30,
                    18,
                    66,
                    48,
                    54,
                    132,
                    69,
                    21,
                    66,
                    84,
                    78,
                    75,
                    57,
                    48,
                    12,
                    24,
                    24,
                    12,
                    0,
                    18,
                    30,
                    54,
                    60,
                    30,
                    6,
                    6,
                    36,
                    24,
                    12,
                    42,
                    30,
                    24,
                    18,
                    30,
                    24,
                    24,
                    36,
                    12,
                    24,
                    42,
                    30,
                    24,
                    24,
                    54.666666666666664,
                    108,
                    96,
                    54,
                    66,
                    96,
                    126,
                    30,
                    90,
                    102,
                    96,
                    138,
                    54,
                    42,
                    58,
                    49,
                    47,
                    31,
                    91,
                    91,
                    75,
                    71,
                    90,
                    60,
                    144,
                    42,
                    102,
                    48,
                    108,
                    72,
                    78,
                    144,
                    90,
                    138,
                    162,
                    156,
                    246,
                    204,
                    0,
                    0,
                    0,
                    0,
                    0,
                    12,
                    18,
                    30,
                    6,
                    12,
                    0,
                    0,
                    12,
                    6,
                    0,
                    0,
                    0,
                    0,
                    79,
                    141,
                    147,
                    155,
                    144,
                    0,
                    6,
                    48,
                    42,
                    36,
                    30,
                    18,
                    42,
                    30,
                    72,
                    138,
                    246,
                    150,
                    234,
                    78,
                    66,
                    42,
                    156,
                    126,
                    150,
                    246,
                    78,
                    120,
                    18,
                    18,
                    24,
                    36,
                    18,
                    12,
                    66,
                    18,
                    30,
                    12,
                    84,
                    18,
                    48,
                    24,
                    30,
                    48,
                    24,
                    66,
                    24,
                    30,
                    30,
                    84,
                    60,
                    24,
                    48,
                    42,
                    30,
                    108,
                    66,
                    180,
                    60,
                    114,
                    72,
                    99,
                    30,
                    0,
                    6,
                    90,
                    144
                  ],
                  "xaxis": "x",
                  "yaxis": "y"
                }
              ],
              "layout": {
                "barmode": "relative",
                "legend": {
                  "tracegroupgap": 0
                },
                "template": {
                  "data": {
                    "bar": [
                      {
                        "error_x": {
                          "color": "#2a3f5f"
                        },
                        "error_y": {
                          "color": "#2a3f5f"
                        },
                        "marker": {
                          "line": {
                            "color": "#E5ECF6",
                            "width": 0.5
                          },
                          "pattern": {
                            "fillmode": "overlay",
                            "size": 10,
                            "solidity": 0.2
                          }
                        },
                        "type": "bar"
                      }
                    ],
                    "barpolar": [
                      {
                        "marker": {
                          "line": {
                            "color": "#E5ECF6",
                            "width": 0.5
                          },
                          "pattern": {
                            "fillmode": "overlay",
                            "size": 10,
                            "solidity": 0.2
                          }
                        },
                        "type": "barpolar"
                      }
                    ],
                    "carpet": [
                      {
                        "aaxis": {
                          "endlinecolor": "#2a3f5f",
                          "gridcolor": "white",
                          "linecolor": "white",
                          "minorgridcolor": "white",
                          "startlinecolor": "#2a3f5f"
                        },
                        "baxis": {
                          "endlinecolor": "#2a3f5f",
                          "gridcolor": "white",
                          "linecolor": "white",
                          "minorgridcolor": "white",
                          "startlinecolor": "#2a3f5f"
                        },
                        "type": "carpet"
                      }
                    ],
                    "choropleth": [
                      {
                        "colorbar": {
                          "outlinewidth": 0,
                          "ticks": ""
                        },
                        "type": "choropleth"
                      }
                    ],
                    "contour": [
                      {
                        "colorbar": {
                          "outlinewidth": 0,
                          "ticks": ""
                        },
                        "colorscale": [
                          [
                            0,
                            "#0d0887"
                          ],
                          [
                            0.1111111111111111,
                            "#46039f"
                          ],
                          [
                            0.2222222222222222,
                            "#7201a8"
                          ],
                          [
                            0.3333333333333333,
                            "#9c179e"
                          ],
                          [
                            0.4444444444444444,
                            "#bd3786"
                          ],
                          [
                            0.5555555555555556,
                            "#d8576b"
                          ],
                          [
                            0.6666666666666666,
                            "#ed7953"
                          ],
                          [
                            0.7777777777777778,
                            "#fb9f3a"
                          ],
                          [
                            0.8888888888888888,
                            "#fdca26"
                          ],
                          [
                            1,
                            "#f0f921"
                          ]
                        ],
                        "type": "contour"
                      }
                    ],
                    "contourcarpet": [
                      {
                        "colorbar": {
                          "outlinewidth": 0,
                          "ticks": ""
                        },
                        "type": "contourcarpet"
                      }
                    ],
                    "heatmap": [
                      {
                        "colorbar": {
                          "outlinewidth": 0,
                          "ticks": ""
                        },
                        "colorscale": [
                          [
                            0,
                            "#0d0887"
                          ],
                          [
                            0.1111111111111111,
                            "#46039f"
                          ],
                          [
                            0.2222222222222222,
                            "#7201a8"
                          ],
                          [
                            0.3333333333333333,
                            "#9c179e"
                          ],
                          [
                            0.4444444444444444,
                            "#bd3786"
                          ],
                          [
                            0.5555555555555556,
                            "#d8576b"
                          ],
                          [
                            0.6666666666666666,
                            "#ed7953"
                          ],
                          [
                            0.7777777777777778,
                            "#fb9f3a"
                          ],
                          [
                            0.8888888888888888,
                            "#fdca26"
                          ],
                          [
                            1,
                            "#f0f921"
                          ]
                        ],
                        "type": "heatmap"
                      }
                    ],
                    "heatmapgl": [
                      {
                        "colorbar": {
                          "outlinewidth": 0,
                          "ticks": ""
                        },
                        "colorscale": [
                          [
                            0,
                            "#0d0887"
                          ],
                          [
                            0.1111111111111111,
                            "#46039f"
                          ],
                          [
                            0.2222222222222222,
                            "#7201a8"
                          ],
                          [
                            0.3333333333333333,
                            "#9c179e"
                          ],
                          [
                            0.4444444444444444,
                            "#bd3786"
                          ],
                          [
                            0.5555555555555556,
                            "#d8576b"
                          ],
                          [
                            0.6666666666666666,
                            "#ed7953"
                          ],
                          [
                            0.7777777777777778,
                            "#fb9f3a"
                          ],
                          [
                            0.8888888888888888,
                            "#fdca26"
                          ],
                          [
                            1,
                            "#f0f921"
                          ]
                        ],
                        "type": "heatmapgl"
                      }
                    ],
                    "histogram": [
                      {
                        "marker": {
                          "pattern": {
                            "fillmode": "overlay",
                            "size": 10,
                            "solidity": 0.2
                          }
                        },
                        "type": "histogram"
                      }
                    ],
                    "histogram2d": [
                      {
                        "colorbar": {
                          "outlinewidth": 0,
                          "ticks": ""
                        },
                        "colorscale": [
                          [
                            0,
                            "#0d0887"
                          ],
                          [
                            0.1111111111111111,
                            "#46039f"
                          ],
                          [
                            0.2222222222222222,
                            "#7201a8"
                          ],
                          [
                            0.3333333333333333,
                            "#9c179e"
                          ],
                          [
                            0.4444444444444444,
                            "#bd3786"
                          ],
                          [
                            0.5555555555555556,
                            "#d8576b"
                          ],
                          [
                            0.6666666666666666,
                            "#ed7953"
                          ],
                          [
                            0.7777777777777778,
                            "#fb9f3a"
                          ],
                          [
                            0.8888888888888888,
                            "#fdca26"
                          ],
                          [
                            1,
                            "#f0f921"
                          ]
                        ],
                        "type": "histogram2d"
                      }
                    ],
                    "histogram2dcontour": [
                      {
                        "colorbar": {
                          "outlinewidth": 0,
                          "ticks": ""
                        },
                        "colorscale": [
                          [
                            0,
                            "#0d0887"
                          ],
                          [
                            0.1111111111111111,
                            "#46039f"
                          ],
                          [
                            0.2222222222222222,
                            "#7201a8"
                          ],
                          [
                            0.3333333333333333,
                            "#9c179e"
                          ],
                          [
                            0.4444444444444444,
                            "#bd3786"
                          ],
                          [
                            0.5555555555555556,
                            "#d8576b"
                          ],
                          [
                            0.6666666666666666,
                            "#ed7953"
                          ],
                          [
                            0.7777777777777778,
                            "#fb9f3a"
                          ],
                          [
                            0.8888888888888888,
                            "#fdca26"
                          ],
                          [
                            1,
                            "#f0f921"
                          ]
                        ],
                        "type": "histogram2dcontour"
                      }
                    ],
                    "mesh3d": [
                      {
                        "colorbar": {
                          "outlinewidth": 0,
                          "ticks": ""
                        },
                        "type": "mesh3d"
                      }
                    ],
                    "parcoords": [
                      {
                        "line": {
                          "colorbar": {
                            "outlinewidth": 0,
                            "ticks": ""
                          }
                        },
                        "type": "parcoords"
                      }
                    ],
                    "pie": [
                      {
                        "automargin": true,
                        "type": "pie"
                      }
                    ],
                    "scatter": [
                      {
                        "fillpattern": {
                          "fillmode": "overlay",
                          "size": 10,
                          "solidity": 0.2
                        },
                        "type": "scatter"
                      }
                    ],
                    "scatter3d": [
                      {
                        "line": {
                          "colorbar": {
                            "outlinewidth": 0,
                            "ticks": ""
                          }
                        },
                        "marker": {
                          "colorbar": {
                            "outlinewidth": 0,
                            "ticks": ""
                          }
                        },
                        "type": "scatter3d"
                      }
                    ],
                    "scattercarpet": [
                      {
                        "marker": {
                          "colorbar": {
                            "outlinewidth": 0,
                            "ticks": ""
                          }
                        },
                        "type": "scattercarpet"
                      }
                    ],
                    "scattergeo": [
                      {
                        "marker": {
                          "colorbar": {
                            "outlinewidth": 0,
                            "ticks": ""
                          }
                        },
                        "type": "scattergeo"
                      }
                    ],
                    "scattergl": [
                      {
                        "marker": {
                          "colorbar": {
                            "outlinewidth": 0,
                            "ticks": ""
                          }
                        },
                        "type": "scattergl"
                      }
                    ],
                    "scattermapbox": [
                      {
                        "marker": {
                          "colorbar": {
                            "outlinewidth": 0,
                            "ticks": ""
                          }
                        },
                        "type": "scattermapbox"
                      }
                    ],
                    "scatterpolar": [
                      {
                        "marker": {
                          "colorbar": {
                            "outlinewidth": 0,
                            "ticks": ""
                          }
                        },
                        "type": "scatterpolar"
                      }
                    ],
                    "scatterpolargl": [
                      {
                        "marker": {
                          "colorbar": {
                            "outlinewidth": 0,
                            "ticks": ""
                          }
                        },
                        "type": "scatterpolargl"
                      }
                    ],
                    "scatterternary": [
                      {
                        "marker": {
                          "colorbar": {
                            "outlinewidth": 0,
                            "ticks": ""
                          }
                        },
                        "type": "scatterternary"
                      }
                    ],
                    "surface": [
                      {
                        "colorbar": {
                          "outlinewidth": 0,
                          "ticks": ""
                        },
                        "colorscale": [
                          [
                            0,
                            "#0d0887"
                          ],
                          [
                            0.1111111111111111,
                            "#46039f"
                          ],
                          [
                            0.2222222222222222,
                            "#7201a8"
                          ],
                          [
                            0.3333333333333333,
                            "#9c179e"
                          ],
                          [
                            0.4444444444444444,
                            "#bd3786"
                          ],
                          [
                            0.5555555555555556,
                            "#d8576b"
                          ],
                          [
                            0.6666666666666666,
                            "#ed7953"
                          ],
                          [
                            0.7777777777777778,
                            "#fb9f3a"
                          ],
                          [
                            0.8888888888888888,
                            "#fdca26"
                          ],
                          [
                            1,
                            "#f0f921"
                          ]
                        ],
                        "type": "surface"
                      }
                    ],
                    "table": [
                      {
                        "cells": {
                          "fill": {
                            "color": "#EBF0F8"
                          },
                          "line": {
                            "color": "white"
                          }
                        },
                        "header": {
                          "fill": {
                            "color": "#C8D4E3"
                          },
                          "line": {
                            "color": "white"
                          }
                        },
                        "type": "table"
                      }
                    ]
                  },
                  "layout": {
                    "annotationdefaults": {
                      "arrowcolor": "#2a3f5f",
                      "arrowhead": 0,
                      "arrowwidth": 1
                    },
                    "autotypenumbers": "strict",
                    "coloraxis": {
                      "colorbar": {
                        "outlinewidth": 0,
                        "ticks": ""
                      }
                    },
                    "colorscale": {
                      "diverging": [
                        [
                          0,
                          "#8e0152"
                        ],
                        [
                          0.1,
                          "#c51b7d"
                        ],
                        [
                          0.2,
                          "#de77ae"
                        ],
                        [
                          0.3,
                          "#f1b6da"
                        ],
                        [
                          0.4,
                          "#fde0ef"
                        ],
                        [
                          0.5,
                          "#f7f7f7"
                        ],
                        [
                          0.6,
                          "#e6f5d0"
                        ],
                        [
                          0.7,
                          "#b8e186"
                        ],
                        [
                          0.8,
                          "#7fbc41"
                        ],
                        [
                          0.9,
                          "#4d9221"
                        ],
                        [
                          1,
                          "#276419"
                        ]
                      ],
                      "sequential": [
                        [
                          0,
                          "#0d0887"
                        ],
                        [
                          0.1111111111111111,
                          "#46039f"
                        ],
                        [
                          0.2222222222222222,
                          "#7201a8"
                        ],
                        [
                          0.3333333333333333,
                          "#9c179e"
                        ],
                        [
                          0.4444444444444444,
                          "#bd3786"
                        ],
                        [
                          0.5555555555555556,
                          "#d8576b"
                        ],
                        [
                          0.6666666666666666,
                          "#ed7953"
                        ],
                        [
                          0.7777777777777778,
                          "#fb9f3a"
                        ],
                        [
                          0.8888888888888888,
                          "#fdca26"
                        ],
                        [
                          1,
                          "#f0f921"
                        ]
                      ],
                      "sequentialminus": [
                        [
                          0,
                          "#0d0887"
                        ],
                        [
                          0.1111111111111111,
                          "#46039f"
                        ],
                        [
                          0.2222222222222222,
                          "#7201a8"
                        ],
                        [
                          0.3333333333333333,
                          "#9c179e"
                        ],
                        [
                          0.4444444444444444,
                          "#bd3786"
                        ],
                        [
                          0.5555555555555556,
                          "#d8576b"
                        ],
                        [
                          0.6666666666666666,
                          "#ed7953"
                        ],
                        [
                          0.7777777777777778,
                          "#fb9f3a"
                        ],
                        [
                          0.8888888888888888,
                          "#fdca26"
                        ],
                        [
                          1,
                          "#f0f921"
                        ]
                      ]
                    },
                    "colorway": [
                      "#636efa",
                      "#EF553B",
                      "#00cc96",
                      "#ab63fa",
                      "#FFA15A",
                      "#19d3f3",
                      "#FF6692",
                      "#B6E880",
                      "#FF97FF",
                      "#FECB52"
                    ],
                    "font": {
                      "color": "#2a3f5f"
                    },
                    "geo": {
                      "bgcolor": "white",
                      "lakecolor": "white",
                      "landcolor": "#E5ECF6",
                      "showlakes": true,
                      "showland": true,
                      "subunitcolor": "white"
                    },
                    "hoverlabel": {
                      "align": "left"
                    },
                    "hovermode": "closest",
                    "mapbox": {
                      "style": "light"
                    },
                    "paper_bgcolor": "white",
                    "plot_bgcolor": "#E5ECF6",
                    "polar": {
                      "angularaxis": {
                        "gridcolor": "white",
                        "linecolor": "white",
                        "ticks": ""
                      },
                      "bgcolor": "#E5ECF6",
                      "radialaxis": {
                        "gridcolor": "white",
                        "linecolor": "white",
                        "ticks": ""
                      }
                    },
                    "scene": {
                      "xaxis": {
                        "backgroundcolor": "#E5ECF6",
                        "gridcolor": "white",
                        "gridwidth": 2,
                        "linecolor": "white",
                        "showbackground": true,
                        "ticks": "",
                        "zerolinecolor": "white"
                      },
                      "yaxis": {
                        "backgroundcolor": "#E5ECF6",
                        "gridcolor": "white",
                        "gridwidth": 2,
                        "linecolor": "white",
                        "showbackground": true,
                        "ticks": "",
                        "zerolinecolor": "white"
                      },
                      "zaxis": {
                        "backgroundcolor": "#E5ECF6",
                        "gridcolor": "white",
                        "gridwidth": 2,
                        "linecolor": "white",
                        "showbackground": true,
                        "ticks": "",
                        "zerolinecolor": "white"
                      }
                    },
                    "shapedefaults": {
                      "line": {
                        "color": "#2a3f5f"
                      }
                    },
                    "ternary": {
                      "aaxis": {
                        "gridcolor": "white",
                        "linecolor": "white",
                        "ticks": ""
                      },
                      "baxis": {
                        "gridcolor": "white",
                        "linecolor": "white",
                        "ticks": ""
                      },
                      "bgcolor": "#E5ECF6",
                      "caxis": {
                        "gridcolor": "white",
                        "linecolor": "white",
                        "ticks": ""
                      }
                    },
                    "title": {
                      "x": 0.05
                    },
                    "xaxis": {
                      "automargin": true,
                      "gridcolor": "white",
                      "linecolor": "white",
                      "ticks": "",
                      "title": {
                        "standoff": 15
                      },
                      "zerolinecolor": "white",
                      "zerolinewidth": 2
                    },
                    "yaxis": {
                      "automargin": true,
                      "gridcolor": "white",
                      "linecolor": "white",
                      "ticks": "",
                      "title": {
                        "standoff": 15
                      },
                      "zerolinecolor": "white",
                      "zerolinewidth": 2
                    }
                  }
                },
                "title": {
                  "text": "Histogram of Counts"
                },
                "xaxis": {
                  "anchor": "y",
                  "domain": [
                    0,
                    1
                  ],
                  "title": {
                    "text": "Count"
                  }
                },
                "yaxis": {
                  "anchor": "x",
                  "domain": [
                    0,
                    1
                  ],
                  "title": {
                    "text": "Frequency"
                  }
                }
              }
            }
          },
          "metadata": {},
          "output_type": "display_data"
        },
        {
          "name": "stdout",
          "output_type": "stream",
          "text": [
            "Observations > 700 1\n",
            "ID of the observations > 700 [1047975]\n"
          ]
        }
      ],
      "source": [
        "import plotly.express as px\n",
        "\n",
        "# Create a histogram of the Count column\n",
        "fig = px.histogram(df, x=\"Count\", nbins=30,title=\"Histogram of Counts\")\n",
        "fig.update_layout(xaxis_title=\"Count\", yaxis_title=\"Frequency\")\n",
        "fig.show()\n",
        "print(\"Observations > 700\",len(df[df[\"Count\"]>600]))\n",
        "print(\"ID of the observations > 700\",df[df[\"Count\"]>600][\"ROOT_ID\"].unique())"
      ]
    },
    {
      "cell_type": "code",
      "execution_count": null,
      "metadata": {
        "vscode": {
          "languageId": "markdown"
        }
      },
      "outputs": [],
      "source": []
    },
    {
      "cell_type": "code",
      "execution_count": 77,
      "metadata": {},
      "outputs": [
        {
          "data": {
            "application/vnd.plotly.v1+json": {
              "config": {
                "plotlyServerURL": "https://plot.ly"
              },
              "data": [
                {
                  "alignmentgroup": "True",
                  "hovertemplate": "Weekend=False<br>date=%{x}<br>Count=%{y}<extra></extra>",
                  "legendgroup": "False",
                  "marker": {
                    "color": "blue",
                    "pattern": {
                      "shape": ""
                    }
                  },
                  "name": "False",
                  "offsetgroup": "False",
                  "orientation": "v",
                  "showlegend": true,
                  "textposition": "auto",
                  "type": "bar",
                  "x": [
                    "2024-10-25T00:00:00",
                    "2024-10-28T00:00:00",
                    "2024-10-29T00:00:00",
                    "2024-10-30T00:00:00",
                    "2024-10-31T00:00:00",
                    "2024-11-01T00:00:00",
                    "2024-11-04T00:00:00",
                    "2024-11-05T00:00:00",
                    "2024-11-06T00:00:00",
                    "2024-11-07T00:00:00",
                    "2024-11-08T00:00:00",
                    "2024-11-11T00:00:00",
                    "2024-11-12T00:00:00",
                    "2024-11-13T00:00:00",
                    "2024-11-14T00:00:00",
                    "2024-11-15T00:00:00",
                    "2024-11-18T00:00:00",
                    "2024-11-19T00:00:00",
                    "2024-11-20T00:00:00",
                    "2024-11-21T00:00:00",
                    "2024-11-22T00:00:00",
                    "2024-11-25T00:00:00",
                    "2024-11-26T00:00:00",
                    "2024-11-27T00:00:00",
                    "2024-11-28T00:00:00",
                    "2024-11-29T00:00:00",
                    "2024-12-02T00:00:00",
                    "2024-12-03T00:00:00",
                    "2024-12-04T00:00:00",
                    "2024-12-05T00:00:00",
                    "2024-12-09T00:00:00",
                    "2024-12-10T00:00:00",
                    "2024-12-11T00:00:00",
                    "2024-12-12T00:00:00",
                    "2024-12-13T00:00:00",
                    "2024-12-16T00:00:00",
                    "2024-12-17T00:00:00",
                    "2024-12-18T00:00:00",
                    "2024-12-19T00:00:00"
                  ],
                  "xaxis": "x",
                  "y": [
                    3,
                    3,
                    3,
                    7,
                    8,
                    6,
                    13,
                    24,
                    29,
                    33,
                    13,
                    25,
                    19,
                    21,
                    25,
                    27,
                    20,
                    31,
                    32,
                    41,
                    31,
                    37,
                    26,
                    39,
                    23,
                    46,
                    2,
                    6,
                    7,
                    2,
                    5,
                    4,
                    5,
                    3,
                    11,
                    3,
                    5,
                    3,
                    1
                  ],
                  "yaxis": "y"
                },
                {
                  "alignmentgroup": "True",
                  "hovertemplate": "Weekend=True<br>date=%{x}<br>Count=%{y}<extra></extra>",
                  "legendgroup": "True",
                  "marker": {
                    "color": "red",
                    "pattern": {
                      "shape": ""
                    }
                  },
                  "name": "True",
                  "offsetgroup": "True",
                  "orientation": "v",
                  "showlegend": true,
                  "textposition": "auto",
                  "type": "bar",
                  "x": [
                    "2024-11-02T00:00:00",
                    "2024-11-03T00:00:00",
                    "2024-11-09T00:00:00",
                    "2024-11-10T00:00:00",
                    "2024-11-16T00:00:00",
                    "2024-11-17T00:00:00",
                    "2024-11-23T00:00:00",
                    "2024-11-24T00:00:00",
                    "2024-11-30T00:00:00",
                    "2024-12-01T00:00:00"
                  ],
                  "xaxis": "x",
                  "y": [
                    12,
                    6,
                    8,
                    8,
                    9,
                    9,
                    9,
                    8,
                    8,
                    3
                  ],
                  "yaxis": "y"
                },
                {
                  "marker": {
                    "color": "LightGreen",
                    "size": 10
                  },
                  "mode": "markers",
                  "name": "October",
                  "type": "scatter",
                  "x": [
                    null
                  ],
                  "y": [
                    null
                  ]
                },
                {
                  "marker": {
                    "color": "Orange",
                    "size": 10
                  },
                  "mode": "markers",
                  "name": "November",
                  "type": "scatter",
                  "x": [
                    null
                  ],
                  "y": [
                    null
                  ]
                },
                {
                  "marker": {
                    "color": "LightCoral",
                    "size": 10
                  },
                  "mode": "markers",
                  "name": "December",
                  "type": "scatter",
                  "x": [
                    null
                  ],
                  "y": [
                    null
                  ]
                }
              ],
              "layout": {
                "barmode": "relative",
                "legend": {
                  "title": {
                    "text": "Weekend"
                  },
                  "tracegroupgap": 0
                },
                "shapes": [
                  {
                    "fillcolor": "LightGreen",
                    "layer": "below",
                    "line": {
                      "width": 0
                    },
                    "opacity": 0.2,
                    "type": "rect",
                    "x0": "2024-10-25T00:00:00",
                    "x1": "2024-10-31T00:00:00",
                    "y0": 0,
                    "y1": 46
                  },
                  {
                    "fillcolor": "Orange",
                    "layer": "below",
                    "line": {
                      "width": 0
                    },
                    "opacity": 0.2,
                    "type": "rect",
                    "x0": "2024-11-01T00:00:00",
                    "x1": "2024-11-30T00:00:00",
                    "y0": 0,
                    "y1": 46
                  },
                  {
                    "fillcolor": "LightCoral",
                    "layer": "below",
                    "line": {
                      "width": 0
                    },
                    "opacity": 0.2,
                    "type": "rect",
                    "x0": "2024-12-01T00:00:00",
                    "x1": "2024-12-19T00:00:00",
                    "y0": 0,
                    "y1": 46
                  }
                ],
                "template": {
                  "data": {
                    "bar": [
                      {
                        "error_x": {
                          "color": "#2a3f5f"
                        },
                        "error_y": {
                          "color": "#2a3f5f"
                        },
                        "marker": {
                          "line": {
                            "color": "#E5ECF6",
                            "width": 0.5
                          },
                          "pattern": {
                            "fillmode": "overlay",
                            "size": 10,
                            "solidity": 0.2
                          }
                        },
                        "type": "bar"
                      }
                    ],
                    "barpolar": [
                      {
                        "marker": {
                          "line": {
                            "color": "#E5ECF6",
                            "width": 0.5
                          },
                          "pattern": {
                            "fillmode": "overlay",
                            "size": 10,
                            "solidity": 0.2
                          }
                        },
                        "type": "barpolar"
                      }
                    ],
                    "carpet": [
                      {
                        "aaxis": {
                          "endlinecolor": "#2a3f5f",
                          "gridcolor": "white",
                          "linecolor": "white",
                          "minorgridcolor": "white",
                          "startlinecolor": "#2a3f5f"
                        },
                        "baxis": {
                          "endlinecolor": "#2a3f5f",
                          "gridcolor": "white",
                          "linecolor": "white",
                          "minorgridcolor": "white",
                          "startlinecolor": "#2a3f5f"
                        },
                        "type": "carpet"
                      }
                    ],
                    "choropleth": [
                      {
                        "colorbar": {
                          "outlinewidth": 0,
                          "ticks": ""
                        },
                        "type": "choropleth"
                      }
                    ],
                    "contour": [
                      {
                        "colorbar": {
                          "outlinewidth": 0,
                          "ticks": ""
                        },
                        "colorscale": [
                          [
                            0,
                            "#0d0887"
                          ],
                          [
                            0.1111111111111111,
                            "#46039f"
                          ],
                          [
                            0.2222222222222222,
                            "#7201a8"
                          ],
                          [
                            0.3333333333333333,
                            "#9c179e"
                          ],
                          [
                            0.4444444444444444,
                            "#bd3786"
                          ],
                          [
                            0.5555555555555556,
                            "#d8576b"
                          ],
                          [
                            0.6666666666666666,
                            "#ed7953"
                          ],
                          [
                            0.7777777777777778,
                            "#fb9f3a"
                          ],
                          [
                            0.8888888888888888,
                            "#fdca26"
                          ],
                          [
                            1,
                            "#f0f921"
                          ]
                        ],
                        "type": "contour"
                      }
                    ],
                    "contourcarpet": [
                      {
                        "colorbar": {
                          "outlinewidth": 0,
                          "ticks": ""
                        },
                        "type": "contourcarpet"
                      }
                    ],
                    "heatmap": [
                      {
                        "colorbar": {
                          "outlinewidth": 0,
                          "ticks": ""
                        },
                        "colorscale": [
                          [
                            0,
                            "#0d0887"
                          ],
                          [
                            0.1111111111111111,
                            "#46039f"
                          ],
                          [
                            0.2222222222222222,
                            "#7201a8"
                          ],
                          [
                            0.3333333333333333,
                            "#9c179e"
                          ],
                          [
                            0.4444444444444444,
                            "#bd3786"
                          ],
                          [
                            0.5555555555555556,
                            "#d8576b"
                          ],
                          [
                            0.6666666666666666,
                            "#ed7953"
                          ],
                          [
                            0.7777777777777778,
                            "#fb9f3a"
                          ],
                          [
                            0.8888888888888888,
                            "#fdca26"
                          ],
                          [
                            1,
                            "#f0f921"
                          ]
                        ],
                        "type": "heatmap"
                      }
                    ],
                    "heatmapgl": [
                      {
                        "colorbar": {
                          "outlinewidth": 0,
                          "ticks": ""
                        },
                        "colorscale": [
                          [
                            0,
                            "#0d0887"
                          ],
                          [
                            0.1111111111111111,
                            "#46039f"
                          ],
                          [
                            0.2222222222222222,
                            "#7201a8"
                          ],
                          [
                            0.3333333333333333,
                            "#9c179e"
                          ],
                          [
                            0.4444444444444444,
                            "#bd3786"
                          ],
                          [
                            0.5555555555555556,
                            "#d8576b"
                          ],
                          [
                            0.6666666666666666,
                            "#ed7953"
                          ],
                          [
                            0.7777777777777778,
                            "#fb9f3a"
                          ],
                          [
                            0.8888888888888888,
                            "#fdca26"
                          ],
                          [
                            1,
                            "#f0f921"
                          ]
                        ],
                        "type": "heatmapgl"
                      }
                    ],
                    "histogram": [
                      {
                        "marker": {
                          "pattern": {
                            "fillmode": "overlay",
                            "size": 10,
                            "solidity": 0.2
                          }
                        },
                        "type": "histogram"
                      }
                    ],
                    "histogram2d": [
                      {
                        "colorbar": {
                          "outlinewidth": 0,
                          "ticks": ""
                        },
                        "colorscale": [
                          [
                            0,
                            "#0d0887"
                          ],
                          [
                            0.1111111111111111,
                            "#46039f"
                          ],
                          [
                            0.2222222222222222,
                            "#7201a8"
                          ],
                          [
                            0.3333333333333333,
                            "#9c179e"
                          ],
                          [
                            0.4444444444444444,
                            "#bd3786"
                          ],
                          [
                            0.5555555555555556,
                            "#d8576b"
                          ],
                          [
                            0.6666666666666666,
                            "#ed7953"
                          ],
                          [
                            0.7777777777777778,
                            "#fb9f3a"
                          ],
                          [
                            0.8888888888888888,
                            "#fdca26"
                          ],
                          [
                            1,
                            "#f0f921"
                          ]
                        ],
                        "type": "histogram2d"
                      }
                    ],
                    "histogram2dcontour": [
                      {
                        "colorbar": {
                          "outlinewidth": 0,
                          "ticks": ""
                        },
                        "colorscale": [
                          [
                            0,
                            "#0d0887"
                          ],
                          [
                            0.1111111111111111,
                            "#46039f"
                          ],
                          [
                            0.2222222222222222,
                            "#7201a8"
                          ],
                          [
                            0.3333333333333333,
                            "#9c179e"
                          ],
                          [
                            0.4444444444444444,
                            "#bd3786"
                          ],
                          [
                            0.5555555555555556,
                            "#d8576b"
                          ],
                          [
                            0.6666666666666666,
                            "#ed7953"
                          ],
                          [
                            0.7777777777777778,
                            "#fb9f3a"
                          ],
                          [
                            0.8888888888888888,
                            "#fdca26"
                          ],
                          [
                            1,
                            "#f0f921"
                          ]
                        ],
                        "type": "histogram2dcontour"
                      }
                    ],
                    "mesh3d": [
                      {
                        "colorbar": {
                          "outlinewidth": 0,
                          "ticks": ""
                        },
                        "type": "mesh3d"
                      }
                    ],
                    "parcoords": [
                      {
                        "line": {
                          "colorbar": {
                            "outlinewidth": 0,
                            "ticks": ""
                          }
                        },
                        "type": "parcoords"
                      }
                    ],
                    "pie": [
                      {
                        "automargin": true,
                        "type": "pie"
                      }
                    ],
                    "scatter": [
                      {
                        "fillpattern": {
                          "fillmode": "overlay",
                          "size": 10,
                          "solidity": 0.2
                        },
                        "type": "scatter"
                      }
                    ],
                    "scatter3d": [
                      {
                        "line": {
                          "colorbar": {
                            "outlinewidth": 0,
                            "ticks": ""
                          }
                        },
                        "marker": {
                          "colorbar": {
                            "outlinewidth": 0,
                            "ticks": ""
                          }
                        },
                        "type": "scatter3d"
                      }
                    ],
                    "scattercarpet": [
                      {
                        "marker": {
                          "colorbar": {
                            "outlinewidth": 0,
                            "ticks": ""
                          }
                        },
                        "type": "scattercarpet"
                      }
                    ],
                    "scattergeo": [
                      {
                        "marker": {
                          "colorbar": {
                            "outlinewidth": 0,
                            "ticks": ""
                          }
                        },
                        "type": "scattergeo"
                      }
                    ],
                    "scattergl": [
                      {
                        "marker": {
                          "colorbar": {
                            "outlinewidth": 0,
                            "ticks": ""
                          }
                        },
                        "type": "scattergl"
                      }
                    ],
                    "scattermapbox": [
                      {
                        "marker": {
                          "colorbar": {
                            "outlinewidth": 0,
                            "ticks": ""
                          }
                        },
                        "type": "scattermapbox"
                      }
                    ],
                    "scatterpolar": [
                      {
                        "marker": {
                          "colorbar": {
                            "outlinewidth": 0,
                            "ticks": ""
                          }
                        },
                        "type": "scatterpolar"
                      }
                    ],
                    "scatterpolargl": [
                      {
                        "marker": {
                          "colorbar": {
                            "outlinewidth": 0,
                            "ticks": ""
                          }
                        },
                        "type": "scatterpolargl"
                      }
                    ],
                    "scatterternary": [
                      {
                        "marker": {
                          "colorbar": {
                            "outlinewidth": 0,
                            "ticks": ""
                          }
                        },
                        "type": "scatterternary"
                      }
                    ],
                    "surface": [
                      {
                        "colorbar": {
                          "outlinewidth": 0,
                          "ticks": ""
                        },
                        "colorscale": [
                          [
                            0,
                            "#0d0887"
                          ],
                          [
                            0.1111111111111111,
                            "#46039f"
                          ],
                          [
                            0.2222222222222222,
                            "#7201a8"
                          ],
                          [
                            0.3333333333333333,
                            "#9c179e"
                          ],
                          [
                            0.4444444444444444,
                            "#bd3786"
                          ],
                          [
                            0.5555555555555556,
                            "#d8576b"
                          ],
                          [
                            0.6666666666666666,
                            "#ed7953"
                          ],
                          [
                            0.7777777777777778,
                            "#fb9f3a"
                          ],
                          [
                            0.8888888888888888,
                            "#fdca26"
                          ],
                          [
                            1,
                            "#f0f921"
                          ]
                        ],
                        "type": "surface"
                      }
                    ],
                    "table": [
                      {
                        "cells": {
                          "fill": {
                            "color": "#EBF0F8"
                          },
                          "line": {
                            "color": "white"
                          }
                        },
                        "header": {
                          "fill": {
                            "color": "#C8D4E3"
                          },
                          "line": {
                            "color": "white"
                          }
                        },
                        "type": "table"
                      }
                    ]
                  },
                  "layout": {
                    "annotationdefaults": {
                      "arrowcolor": "#2a3f5f",
                      "arrowhead": 0,
                      "arrowwidth": 1
                    },
                    "autotypenumbers": "strict",
                    "coloraxis": {
                      "colorbar": {
                        "outlinewidth": 0,
                        "ticks": ""
                      }
                    },
                    "colorscale": {
                      "diverging": [
                        [
                          0,
                          "#8e0152"
                        ],
                        [
                          0.1,
                          "#c51b7d"
                        ],
                        [
                          0.2,
                          "#de77ae"
                        ],
                        [
                          0.3,
                          "#f1b6da"
                        ],
                        [
                          0.4,
                          "#fde0ef"
                        ],
                        [
                          0.5,
                          "#f7f7f7"
                        ],
                        [
                          0.6,
                          "#e6f5d0"
                        ],
                        [
                          0.7,
                          "#b8e186"
                        ],
                        [
                          0.8,
                          "#7fbc41"
                        ],
                        [
                          0.9,
                          "#4d9221"
                        ],
                        [
                          1,
                          "#276419"
                        ]
                      ],
                      "sequential": [
                        [
                          0,
                          "#0d0887"
                        ],
                        [
                          0.1111111111111111,
                          "#46039f"
                        ],
                        [
                          0.2222222222222222,
                          "#7201a8"
                        ],
                        [
                          0.3333333333333333,
                          "#9c179e"
                        ],
                        [
                          0.4444444444444444,
                          "#bd3786"
                        ],
                        [
                          0.5555555555555556,
                          "#d8576b"
                        ],
                        [
                          0.6666666666666666,
                          "#ed7953"
                        ],
                        [
                          0.7777777777777778,
                          "#fb9f3a"
                        ],
                        [
                          0.8888888888888888,
                          "#fdca26"
                        ],
                        [
                          1,
                          "#f0f921"
                        ]
                      ],
                      "sequentialminus": [
                        [
                          0,
                          "#0d0887"
                        ],
                        [
                          0.1111111111111111,
                          "#46039f"
                        ],
                        [
                          0.2222222222222222,
                          "#7201a8"
                        ],
                        [
                          0.3333333333333333,
                          "#9c179e"
                        ],
                        [
                          0.4444444444444444,
                          "#bd3786"
                        ],
                        [
                          0.5555555555555556,
                          "#d8576b"
                        ],
                        [
                          0.6666666666666666,
                          "#ed7953"
                        ],
                        [
                          0.7777777777777778,
                          "#fb9f3a"
                        ],
                        [
                          0.8888888888888888,
                          "#fdca26"
                        ],
                        [
                          1,
                          "#f0f921"
                        ]
                      ]
                    },
                    "colorway": [
                      "#636efa",
                      "#EF553B",
                      "#00cc96",
                      "#ab63fa",
                      "#FFA15A",
                      "#19d3f3",
                      "#FF6692",
                      "#B6E880",
                      "#FF97FF",
                      "#FECB52"
                    ],
                    "font": {
                      "color": "#2a3f5f"
                    },
                    "geo": {
                      "bgcolor": "white",
                      "lakecolor": "white",
                      "landcolor": "#E5ECF6",
                      "showlakes": true,
                      "showland": true,
                      "subunitcolor": "white"
                    },
                    "hoverlabel": {
                      "align": "left"
                    },
                    "hovermode": "closest",
                    "mapbox": {
                      "style": "light"
                    },
                    "paper_bgcolor": "white",
                    "plot_bgcolor": "#E5ECF6",
                    "polar": {
                      "angularaxis": {
                        "gridcolor": "white",
                        "linecolor": "white",
                        "ticks": ""
                      },
                      "bgcolor": "#E5ECF6",
                      "radialaxis": {
                        "gridcolor": "white",
                        "linecolor": "white",
                        "ticks": ""
                      }
                    },
                    "scene": {
                      "xaxis": {
                        "backgroundcolor": "#E5ECF6",
                        "gridcolor": "white",
                        "gridwidth": 2,
                        "linecolor": "white",
                        "showbackground": true,
                        "ticks": "",
                        "zerolinecolor": "white"
                      },
                      "yaxis": {
                        "backgroundcolor": "#E5ECF6",
                        "gridcolor": "white",
                        "gridwidth": 2,
                        "linecolor": "white",
                        "showbackground": true,
                        "ticks": "",
                        "zerolinecolor": "white"
                      },
                      "zaxis": {
                        "backgroundcolor": "#E5ECF6",
                        "gridcolor": "white",
                        "gridwidth": 2,
                        "linecolor": "white",
                        "showbackground": true,
                        "ticks": "",
                        "zerolinecolor": "white"
                      }
                    },
                    "shapedefaults": {
                      "line": {
                        "color": "#2a3f5f"
                      }
                    },
                    "ternary": {
                      "aaxis": {
                        "gridcolor": "white",
                        "linecolor": "white",
                        "ticks": ""
                      },
                      "baxis": {
                        "gridcolor": "white",
                        "linecolor": "white",
                        "ticks": ""
                      },
                      "bgcolor": "#E5ECF6",
                      "caxis": {
                        "gridcolor": "white",
                        "linecolor": "white",
                        "ticks": ""
                      }
                    },
                    "title": {
                      "x": 0.05
                    },
                    "xaxis": {
                      "automargin": true,
                      "gridcolor": "white",
                      "linecolor": "white",
                      "ticks": "",
                      "title": {
                        "standoff": 15
                      },
                      "zerolinecolor": "white",
                      "zerolinewidth": 2
                    },
                    "yaxis": {
                      "automargin": true,
                      "gridcolor": "white",
                      "linecolor": "white",
                      "ticks": "",
                      "title": {
                        "standoff": 15
                      },
                      "zerolinecolor": "white",
                      "zerolinewidth": 2
                    }
                  }
                },
                "title": {
                  "text": "Number of Observations by Day (Weekends Highlighted)"
                },
                "xaxis": {
                  "anchor": "y",
                  "domain": [
                    0,
                    1
                  ],
                  "title": {
                    "text": "Date"
                  }
                },
                "yaxis": {
                  "anchor": "x",
                  "domain": [
                    0,
                    1
                  ],
                  "title": {
                    "text": "Number of Observations"
                  }
                }
              }
            }
          },
          "metadata": {},
          "output_type": "display_data"
        }
      ],
      "source": [
        "\n",
        "\n",
        "\n",
        "# Group data by date and calculate the total number of observations per day\n",
        "observations_by_day = gdf.groupby(\"date\")[\"Count\"].count().reset_index()\n",
        "observations_by_day[\"weekday\"] = observations_by_day[\"date\"].dt.weekday\n",
        "observations_by_day[\"is_weekend\"] = observations_by_day[\"weekday\"].isin([5, 6])\n",
        "observations_by_day[\"Month\"] = observations_by_day[\"date\"].dt.month\n",
        "\n",
        "# Create the plot\n",
        "fig = px.bar(\n",
        "    observations_by_day,\n",
        "    x=\"date\",\n",
        "    y=\"Count\",\n",
        "    color=\"is_weekend\",\n",
        "    color_discrete_map={True: \"red\", False: \"blue\"},\n",
        "    labels={\"is_weekend\": \"Weekend\"},\n",
        "    title=\"Number of Observations by Day (Weekends Highlighted)\"\n",
        ")\n",
        "\n",
        "fig.update_layout(xaxis_title=\"Date\", yaxis_title=\"Number of Observations\")\n",
        "\n",
        "# Add background highlights for each month with a different color\n",
        "month_colors = ['LightGreen', 'Orange', 'LightCoral']  # Replaced 'LightBlue' with 'Orange'\n",
        "month_name = ['October','November','December']\n",
        "for i, (month, month_data) in enumerate(observations_by_day.groupby(\"Month\")):\n",
        "    start_date = month_data['date'].min()\n",
        "    end_date = month_data['date'].max()\n",
        "    fig.add_shape(\n",
        "        type=\"rect\",\n",
        "        x0=start_date,\n",
        "        x1=end_date,\n",
        "        y0=0,\n",
        "        y1=observations_by_day['Count'].max(),\n",
        "        fillcolor=month_colors[i % len(month_colors)],\n",
        "        opacity=0.2,\n",
        "        layer=\"below\",\n",
        "        line_width=0\n",
        "    )\n",
        "\n",
        "# Add month colors to the legend\n",
        "for i, color in enumerate(month_colors):\n",
        "    fig.add_trace(\n",
        "        go.Scatter(\n",
        "            x=[None], y=[None], mode='markers',\n",
        "            marker=dict(size=10, color=color),\n",
        "            name=month_name[i]\n",
        "        )\n",
        "    )\n",
        "\n",
        "# Show the updated figure\n",
        "fig.show()\n"
      ]
    },
    {
      "cell_type": "markdown",
      "metadata": {
        "id": "a_ZrQ64i7plQ"
      },
      "source": [
        "## Save output"
      ]
    },
    {
      "cell_type": "code",
      "execution_count": 78,
      "metadata": {
        "id": "6bj2-CeR7owh"
      },
      "outputs": [],
      "source": [
        "if SAVE_OUTPUT:\n",
        "    gdf.to_parquet(f'{OUTPUT_DATA_PATH}/bicizen.parquet')\n",
        "    locations.to_parquet(f'{OUTPUT_DATA_PATH}/bicizen_stations.parquet')\n"
      ]
    },
    {
      "cell_type": "markdown",
      "metadata": {
        "id": "xT_uQYZSbEty"
      },
      "source": [
        "## Watermark"
      ]
    },
    {
      "cell_type": "code",
      "execution_count": 79,
      "metadata": {
        "id": "iY8ZyfnAbFoO"
      },
      "outputs": [],
      "source": [
        "!python -m pip install watermark --quiet"
      ]
    },
    {
      "cell_type": "code",
      "execution_count": 80,
      "metadata": {
        "id": "Cd2yG3BgbGE3"
      },
      "outputs": [
        {
          "name": "stdout",
          "output_type": "stream",
          "text": [
            "The watermark extension is already loaded. To reload it, use:\n",
            "  %reload_ext watermark\n"
          ]
        }
      ],
      "source": [
        "%load_ext watermark"
      ]
    },
    {
      "cell_type": "code",
      "execution_count": 81,
      "metadata": {
        "colab": {
          "base_uri": "https://localhost:8080/"
        },
        "id": "Ef6VBO1QbI-_",
        "outputId": "9551ad1c-634d-4484-dc4a-f6a971884ccc"
      },
      "outputs": [
        {
          "name": "stdout",
          "output_type": "stream",
          "text": [
            "Last updated: 2025-04-09T15:50:04.491999+02:00\n",
            "\n",
            "Python implementation: CPython\n",
            "Python version       : 3.11.9\n",
            "IPython version      : 8.25.0\n",
            "\n",
            "Compiler    : MSC v.1938 64 bit (AMD64)\n",
            "OS          : Windows\n",
            "Release     : 10\n",
            "Machine     : AMD64\n",
            "Processor   : AMD64 Family 25 Model 68 Stepping 1, AuthenticAMD\n",
            "CPU cores   : 16\n",
            "Architecture: 64bit\n",
            "\n"
          ]
        }
      ],
      "source": [
        "%watermark"
      ]
    },
    {
      "cell_type": "code",
      "execution_count": 82,
      "metadata": {
        "colab": {
          "base_uri": "https://localhost:8080/"
        },
        "id": "EW9nOXoNbKrP",
        "outputId": "b68ae236-6367-4c9a-b720-5978d2bbcbf4"
      },
      "outputs": [
        {
          "name": "stdout",
          "output_type": "stream",
          "text": [
            "numpy    : 1.24.4\n",
            "pandas   : 2.0.3\n",
            "plotly   : 5.24.1\n",
            "geopandas: 0.13.2\n",
            "\n"
          ]
        }
      ],
      "source": [
        "%watermark --iversions"
      ]
    },
    {
      "cell_type": "code",
      "execution_count": 83,
      "metadata": {
        "colab": {
          "base_uri": "https://localhost:8080/"
        },
        "id": "2LOCLnX0bMxt",
        "outputId": "e68400d8-8277-4988-d42c-15e02490cce1"
      },
      "outputs": [
        {
          "name": "stderr",
          "output_type": "stream",
          "text": [
            "\"lsb_release\" no se reconoce como un comando interno o externo,\n",
            "programa o archivo por lotes ejecutable.\n"
          ]
        }
      ],
      "source": [
        "!lsb_release -a"
      ]
    }
  ],
  "metadata": {
    "colab": {
      "provenance": [],
      "toc_visible": true
    },
    "kernelspec": {
      "display_name": "ridership_model",
      "language": "python",
      "name": "python3"
    },
    "language_info": {
      "codemirror_mode": {
        "name": "ipython",
        "version": 3
      },
      "file_extension": ".py",
      "mimetype": "text/x-python",
      "name": "python",
      "nbconvert_exporter": "python",
      "pygments_lexer": "ipython3",
      "version": "3.11.9"
    }
  },
  "nbformat": 4,
  "nbformat_minor": 0
}
