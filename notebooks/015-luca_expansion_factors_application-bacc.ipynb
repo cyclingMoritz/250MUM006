{
 "cells": [
  {
   "cell_type": "code",
   "execution_count": 1,
   "id": "34332b88",
   "metadata": {
    "execution": {
     "iopub.execute_input": "2025-04-08T13:11:35.754939Z",
     "iopub.status.busy": "2025-04-08T13:11:35.754939Z",
     "iopub.status.idle": "2025-04-08T13:11:35.766813Z",
     "shell.execute_reply": "2025-04-08T13:11:35.766813Z"
    },
    "executionInfo": {
     "elapsed": 196,
     "status": "ok",
     "timestamp": 1737216414526,
     "user": {
      "displayName": "Luca Liebscht",
      "userId": "11880140528704889234"
     },
     "user_tz": -60
    },
    "id": "I_hrwU9x479z",
    "papermill": {
     "duration": 0.03294,
     "end_time": "2025-04-08T13:11:35.766813",
     "exception": false,
     "start_time": "2025-04-08T13:11:35.733873",
     "status": "completed"
    },
    "tags": [
     "parameters"
    ]
   },
   "outputs": [],
   "source": [
    "# parameters\n",
    "INPUT_DATA_PATH = \"../data/interim/\"\n",
    "INPUT_PROCESSED_DATA_PATH = \"../data/processed/\"\n",
    "\n",
    "YEAR = 2017\n",
    "SAVE_OUTPUT = True\n",
    "OUTPUT_DATA_PATH = \"../data/processed/\"\n",
    "OUTPUT_FIGURES_PATH = \"../reports/figures/\""
   ]
  },
  {
   "cell_type": "code",
   "execution_count": 2,
   "id": "b7059897",
   "metadata": {
    "execution": {
     "iopub.execute_input": "2025-04-08T13:11:35.803259Z",
     "iopub.status.busy": "2025-04-08T13:11:35.803259Z",
     "iopub.status.idle": "2025-04-08T13:11:35.809312Z",
     "shell.execute_reply": "2025-04-08T13:11:35.809312Z"
    },
    "papermill": {
     "duration": 0.028617,
     "end_time": "2025-04-08T13:11:35.811701",
     "exception": false,
     "start_time": "2025-04-08T13:11:35.783084",
     "status": "completed"
    },
    "tags": [
     "injected-parameters"
    ]
   },
   "outputs": [],
   "source": [
    "# Parameters\n",
    "YEAR = 2024\n",
    "SAVE_OUTPUT = True\n"
   ]
  },
  {
   "cell_type": "code",
   "execution_count": 3,
   "id": "f96ccfa5",
   "metadata": {
    "colab": {
     "base_uri": "https://localhost:8080/"
    },
    "execution": {
     "iopub.execute_input": "2025-04-08T13:11:35.844743Z",
     "iopub.status.busy": "2025-04-08T13:11:35.844743Z",
     "iopub.status.idle": "2025-04-08T13:11:38.642575Z",
     "shell.execute_reply": "2025-04-08T13:11:38.642575Z"
    },
    "executionInfo": {
     "elapsed": 19072,
     "status": "ok",
     "timestamp": 1737216453714,
     "user": {
      "displayName": "Luca Liebscht",
      "userId": "11880140528704889234"
     },
     "user_tz": -60
    },
    "id": "HnDB36CLTIxL",
    "outputId": "5e9ddd8f-0300-40ec-cf32-75cf8dc5e328",
    "papermill": {
     "duration": 2.816374,
     "end_time": "2025-04-08T13:11:38.644330",
     "exception": false,
     "start_time": "2025-04-08T13:11:35.827956",
     "status": "completed"
    },
    "tags": []
   },
   "outputs": [],
   "source": [
    "# Import all necessary libraries\n",
    "import time\n",
    "start = time.time()\n",
    "import geopandas as gpd\n",
    "import pandas as pd\n",
    "from functools import reduce\n",
    "import matplotlib.pyplot as plt\n",
    "from pandas.api.types import CategoricalDtype\n",
    "import seaborn as sns\n",
    "\n",
    "import warnings\n",
    "from pathlib import Path\n"
   ]
  },
  {
   "cell_type": "markdown",
   "id": "06a8ab48",
   "metadata": {
    "papermill": {
     "duration": 0.018591,
     "end_time": "2025-04-08T13:11:38.683167",
     "exception": false,
     "start_time": "2025-04-08T13:11:38.664576",
     "status": "completed"
    },
    "tags": []
   },
   "source": [
    "# Load data"
   ]
  },
  {
   "cell_type": "code",
   "execution_count": 4,
   "id": "1d238869",
   "metadata": {
    "execution": {
     "iopub.execute_input": "2025-04-08T13:11:38.718157Z",
     "iopub.status.busy": "2025-04-08T13:11:38.718157Z",
     "iopub.status.idle": "2025-04-08T13:11:38.806805Z",
     "shell.execute_reply": "2025-04-08T13:11:38.806805Z"
    },
    "papermill": {
     "duration": 0.104987,
     "end_time": "2025-04-08T13:11:38.806805",
     "exception": false,
     "start_time": "2025-04-08T13:11:38.701818",
     "status": "completed"
    },
    "tags": []
   },
   "outputs": [
    {
     "name": "stdout",
     "output_type": "stream",
     "text": [
      "Index(['id', 'year', 'hour', 'Average_HOD', 'sum_of_Average_HOD', 'HOD'], dtype='object')\n"
     ]
    }
   ],
   "source": [
    "# Read expansion factors from the input path\n",
    "hod_weekday = pd.read_parquet(Path(INPUT_DATA_PATH) / f\"expansion_factors/hod_weekday_{YEAR}.parquet\")\n",
    "hod_weekend = pd.read_parquet(Path(INPUT_DATA_PATH) / f\"expansion_factors/hod_weekend_{YEAR}.parquet\")\n",
    "dow_factor = pd.read_parquet(Path(INPUT_DATA_PATH) / f\"expansion_factors/dow_factor_{YEAR}.parquet\")\n",
    "moy_factor = pd.read_parquet(Path(INPUT_DATA_PATH) / f\"expansion_factors/moy_factor_{YEAR}.parquet\")\n",
    "print(hod_weekday.columns)"
   ]
  },
  {
   "cell_type": "code",
   "execution_count": 5,
   "id": "87cb4af2",
   "metadata": {
    "execution": {
     "iopub.execute_input": "2025-04-08T13:11:38.839166Z",
     "iopub.status.busy": "2025-04-08T13:11:38.839166Z",
     "iopub.status.idle": "2025-04-08T13:11:38.857335Z",
     "shell.execute_reply": "2025-04-08T13:11:38.857335Z"
    },
    "papermill": {
     "duration": 0.036924,
     "end_time": "2025-04-08T13:11:38.859476",
     "exception": false,
     "start_time": "2025-04-08T13:11:38.822552",
     "status": "completed"
    },
    "tags": []
   },
   "outputs": [
    {
     "name": "stdout",
     "output_type": "stream",
     "text": [
      "(60, 10)\n",
      "Index(['ROOT_ID', 'Year', 'Month', 'weekday', 'Day', 'Hour', 'Count',\n",
      "       'Latitud', 'Longitud', 'geometry'],\n",
      "      dtype='object')\n"
     ]
    }
   ],
   "source": [
    "bacc = gpd.read_parquet(Path(INPUT_DATA_PATH) / f\"bacc/bacc.parquet\")\n",
    "bacc = bacc[bacc['Year'] == YEAR]\n",
    "print(bacc.shape)\n",
    "print(bacc.columns)"
   ]
  },
  {
   "cell_type": "markdown",
   "id": "c87c69fe",
   "metadata": {
    "papermill": {
     "duration": 0.014092,
     "end_time": "2025-04-08T13:11:38.888263",
     "exception": false,
     "start_time": "2025-04-08T13:11:38.874171",
     "status": "completed"
    },
    "tags": []
   },
   "source": [
    "# Apply Expansion factors to Short Term Counts\n"
   ]
  },
  {
   "cell_type": "markdown",
   "id": "404118dd",
   "metadata": {
    "papermill": {
     "duration": 0.01657,
     "end_time": "2025-04-08T13:11:38.921134",
     "exception": false,
     "start_time": "2025-04-08T13:11:38.904564",
     "status": "completed"
    },
    "tags": []
   },
   "source": [
    "The code is based on what Mintu et al did on their paper. Concretely:\n",
    "* The first step in covered in the notebook: **SC_data_Imputation_Daily_Volume_v3.ipynb**\n",
    "* The rest of the steps are covered in the notebook: **Weekly_Annual_Volume_Estimation_Version3.ipynb**"
   ]
  },
  {
   "attachments": {
    "image.png": {
     "image/png": "[encoded data removed]"
    }
   },
   "cell_type": "markdown",
   "id": "5070bbea",
   "metadata": {
    "papermill": {
     "duration": 0.012398,
     "end_time": "2025-04-08T13:11:38.950032",
     "exception": false,
     "start_time": "2025-04-08T13:11:38.937634",
     "status": "completed"
    },
    "tags": []
   },
   "source": [
    "This research developed HOD, DOW, and MOY expansion factors to impute the short-term site volume to AADBT. The imputation factor can be implemented using five sequential steps, as shown in Figure 4. To apply the expansion factors, each short-term site should collect at least one hour of bicycle traffic or volume. \n",
    "\n",
    "![image.png](attachment:image.png)"
   ]
  },
  {
   "cell_type": "markdown",
   "id": "e23743e7",
   "metadata": {
    "papermill": {
     "duration": 0.015311,
     "end_time": "2025-04-08T13:11:38.983698",
     "exception": false,
     "start_time": "2025-04-08T13:11:38.968387",
     "status": "completed"
    },
    "tags": []
   },
   "source": [
    "## Apply Expansion Factors"
   ]
  },
  {
   "cell_type": "markdown",
   "id": "5092e37d",
   "metadata": {
    "papermill": {
     "duration": 0.012597,
     "end_time": "2025-04-08T13:11:39.009258",
     "exception": false,
     "start_time": "2025-04-08T13:11:38.996661",
     "status": "completed"
    },
    "tags": []
   },
   "source": [
    "### Step 0: Prepare data"
   ]
  },
  {
   "cell_type": "code",
   "execution_count": 6,
   "id": "52f8d680",
   "metadata": {
    "execution": {
     "iopub.execute_input": "2025-04-08T13:11:39.042094Z",
     "iopub.status.busy": "2025-04-08T13:11:39.042094Z",
     "iopub.status.idle": "2025-04-08T13:11:39.048874Z",
     "shell.execute_reply": "2025-04-08T13:11:39.048874Z"
    },
    "papermill": {
     "duration": 0.025085,
     "end_time": "2025-04-08T13:11:39.050624",
     "exception": false,
     "start_time": "2025-04-08T13:11:39.025539",
     "status": "completed"
    },
    "tags": []
   },
   "outputs": [],
   "source": [
    "# #Concat the two datasets\n",
    "# counts=pd.concat([bicizen,bacc])\n",
    "# print(counts.shape)\n",
    "# print(counts.columns)\n",
    "# counts.head()\n",
    "counts=bacc"
   ]
  },
  {
   "cell_type": "code",
   "execution_count": 7,
   "id": "165c1f4b",
   "metadata": {
    "execution": {
     "iopub.execute_input": "2025-04-08T13:11:39.088008Z",
     "iopub.status.busy": "2025-04-08T13:11:39.086269Z",
     "iopub.status.idle": "2025-04-08T13:11:39.099198Z",
     "shell.execute_reply": "2025-04-08T13:11:39.099198Z"
    },
    "papermill": {
     "duration": 0.034032,
     "end_time": "2025-04-08T13:11:39.100949",
     "exception": false,
     "start_time": "2025-04-08T13:11:39.066917",
     "status": "completed"
    },
    "tags": []
   },
   "outputs": [],
   "source": [
    "counts_weekday = counts[counts[\"weekday\"]<5]\n",
    "counts_weekend = counts[counts[\"weekday\"]>4]"
   ]
  },
  {
   "cell_type": "markdown",
   "id": "179f3020",
   "metadata": {
    "papermill": {
     "duration": 0.016513,
     "end_time": "2025-04-08T13:11:39.133785",
     "exception": false,
     "start_time": "2025-04-08T13:11:39.117272",
     "status": "completed"
    },
    "tags": []
   },
   "source": [
    "### Step 1: Apply weekday and weekend HOD factor"
   ]
  },
  {
   "attachments": {
    "image.png": {
     "image/png": "[encoded data removed]"
    }
   },
   "cell_type": "markdown",
   "id": "404944fb",
   "metadata": {
    "papermill": {
     "duration": 0.015949,
     "end_time": "2025-04-08T13:11:39.163784",
     "exception": false,
     "start_time": "2025-04-08T13:11:39.147835",
     "status": "completed"
    },
    "tags": []
   },
   "source": [
    "![image.png](attachment:image.png)"
   ]
  },
  {
   "cell_type": "code",
   "execution_count": 8,
   "id": "59d28eb2",
   "metadata": {
    "execution": {
     "iopub.execute_input": "2025-04-08T13:11:39.203653Z",
     "iopub.status.busy": "2025-04-08T13:11:39.201264Z",
     "iopub.status.idle": "2025-04-08T13:11:39.258590Z",
     "shell.execute_reply": "2025-04-08T13:11:39.258590Z"
    },
    "papermill": {
     "duration": 0.079961,
     "end_time": "2025-04-08T13:11:39.258590",
     "exception": false,
     "start_time": "2025-04-08T13:11:39.178629",
     "status": "completed"
    },
    "tags": []
   },
   "outputs": [
    {
     "data": {
      "text/html": [
       "<div>\n",
       "<style scoped>\n",
       "    .dataframe tbody tr th:only-of-type {\n",
       "        vertical-align: middle;\n",
       "    }\n",
       "\n",
       "    .dataframe tbody tr th {\n",
       "        vertical-align: top;\n",
       "    }\n",
       "\n",
       "    .dataframe thead th {\n",
       "        text-align: right;\n",
       "    }\n",
       "</style>\n",
       "<table border=\"1\" class=\"dataframe\">\n",
       "  <thead>\n",
       "    <tr style=\"text-align: right;\">\n",
       "      <th></th>\n",
       "      <th>Year</th>\n",
       "      <th>ROOT_ID</th>\n",
       "      <th>Month</th>\n",
       "      <th>weekday</th>\n",
       "      <th>Day</th>\n",
       "      <th>TDV</th>\n",
       "    </tr>\n",
       "  </thead>\n",
       "  <tbody>\n",
       "    <tr>\n",
       "      <th>0</th>\n",
       "      <td>2024</td>\n",
       "      <td>1095689</td>\n",
       "      <td>9</td>\n",
       "      <td>1</td>\n",
       "      <td>17</td>\n",
       "      <td>8217.041914</td>\n",
       "    </tr>\n",
       "    <tr>\n",
       "      <th>1</th>\n",
       "      <td>2024</td>\n",
       "      <td>1095689</td>\n",
       "      <td>10</td>\n",
       "      <td>2</td>\n",
       "      <td>2</td>\n",
       "      <td>8258.942854</td>\n",
       "    </tr>\n",
       "    <tr>\n",
       "      <th>2</th>\n",
       "      <td>2024</td>\n",
       "      <td>1095690</td>\n",
       "      <td>9</td>\n",
       "      <td>3</td>\n",
       "      <td>26</td>\n",
       "      <td>6485.284952</td>\n",
       "    </tr>\n",
       "    <tr>\n",
       "      <th>3</th>\n",
       "      <td>2024</td>\n",
       "      <td>1095690</td>\n",
       "      <td>10</td>\n",
       "      <td>3</td>\n",
       "      <td>3</td>\n",
       "      <td>5830.471316</td>\n",
       "    </tr>\n",
       "    <tr>\n",
       "      <th>4</th>\n",
       "      <td>2024</td>\n",
       "      <td>1095691</td>\n",
       "      <td>9</td>\n",
       "      <td>2</td>\n",
       "      <td>25</td>\n",
       "      <td>3153.714416</td>\n",
       "    </tr>\n",
       "    <tr>\n",
       "      <th>5</th>\n",
       "      <td>2024</td>\n",
       "      <td>1095691</td>\n",
       "      <td>10</td>\n",
       "      <td>1</td>\n",
       "      <td>8</td>\n",
       "      <td>3160.400736</td>\n",
       "    </tr>\n",
       "    <tr>\n",
       "      <th>6</th>\n",
       "      <td>2024</td>\n",
       "      <td>1095692</td>\n",
       "      <td>9</td>\n",
       "      <td>3</td>\n",
       "      <td>19</td>\n",
       "      <td>5351.730781</td>\n",
       "    </tr>\n",
       "    <tr>\n",
       "      <th>7</th>\n",
       "      <td>2024</td>\n",
       "      <td>1095692</td>\n",
       "      <td>10</td>\n",
       "      <td>2</td>\n",
       "      <td>9</td>\n",
       "      <td>5738.200095</td>\n",
       "    </tr>\n",
       "    <tr>\n",
       "      <th>8</th>\n",
       "      <td>2024</td>\n",
       "      <td>1095693</td>\n",
       "      <td>9</td>\n",
       "      <td>2</td>\n",
       "      <td>18</td>\n",
       "      <td>1693.422059</td>\n",
       "    </tr>\n",
       "    <tr>\n",
       "      <th>9</th>\n",
       "      <td>2024</td>\n",
       "      <td>1095693</td>\n",
       "      <td>10</td>\n",
       "      <td>3</td>\n",
       "      <td>10</td>\n",
       "      <td>1698.771115</td>\n",
       "    </tr>\n",
       "  </tbody>\n",
       "</table>\n",
       "</div>"
      ],
      "text/plain": [
       "   Year  ROOT_ID  Month  weekday  Day          TDV\n",
       "0  2024  1095689      9        1   17  8217.041914\n",
       "1  2024  1095689     10        2    2  8258.942854\n",
       "2  2024  1095690      9        3   26  6485.284952\n",
       "3  2024  1095690     10        3    3  5830.471316\n",
       "4  2024  1095691      9        2   25  3153.714416\n",
       "5  2024  1095691     10        1    8  3160.400736\n",
       "6  2024  1095692      9        3   19  5351.730781\n",
       "7  2024  1095692     10        2    9  5738.200095\n",
       "8  2024  1095693      9        2   18  1693.422059\n",
       "9  2024  1095693     10        3   10  1698.771115"
      ]
     },
     "execution_count": 8,
     "metadata": {},
     "output_type": "execute_result"
    }
   ],
   "source": [
    "# Calculate daily Volume for weekday\n",
    "# Merge counts_weekday data with hod_weekday factors on Year and Hour\n",
    "merged_weekday_data = pd.merge(counts_weekday, hod_weekday, left_on=['Year', 'Hour'], right_on=['year', 'hour'], how='inner')\n",
    "\n",
    "# Calculate total counts for each day and ROOT_ID\n",
    "weekday_daily_counts = pd.DataFrame({'total_count': merged_weekday_data.groupby(['Year', 'Month', 'Day','weekday',  'ROOT_ID'])['Count'].sum()}).reset_index()\n",
    "\n",
    "# Calculate total HOD factors for each day and ROOT_ID\n",
    "weekday_daily_factors = pd.DataFrame({'total_factor': merged_weekday_data.groupby(['Year', 'Month', 'Day','weekday',  'ROOT_ID'])['HOD'].sum()}).reset_index()\n",
    "\n",
    "# Merge the counts and factors dataframes\n",
    "merged_weekday_counts_factors = pd.merge(weekday_daily_counts, weekday_daily_factors, on=['Year', 'Month', 'Day','weekday',  'ROOT_ID'], how='inner')\n",
    "\n",
    "# Calculate the Daily Volume by dividing total counts by total factors\n",
    "merged_weekday_counts_factors['Daily_Volume'] = merged_weekday_counts_factors['total_count'] / merged_weekday_counts_factors['total_factor']\n",
    "\n",
    "# Calculate the mean Daily Volume (TDV) for each Year, ROOT_ID, Month, and Day\n",
    "weekday_daily_volume = pd.DataFrame({'TDV': merged_weekday_counts_factors.groupby(['Year', 'ROOT_ID', 'Month','weekday',  'Day'])['Daily_Volume'].mean()}).reset_index()\n",
    "\n",
    "weekday_daily_volume"
   ]
  },
  {
   "cell_type": "code",
   "execution_count": 9,
   "id": "8070cc53",
   "metadata": {
    "execution": {
     "iopub.execute_input": "2025-04-08T13:11:39.291064Z",
     "iopub.status.busy": "2025-04-08T13:11:39.291064Z",
     "iopub.status.idle": "2025-04-08T13:11:39.326077Z",
     "shell.execute_reply": "2025-04-08T13:11:39.326077Z"
    },
    "papermill": {
     "duration": 0.052322,
     "end_time": "2025-04-08T13:11:39.329107",
     "exception": false,
     "start_time": "2025-04-08T13:11:39.276785",
     "status": "completed"
    },
    "tags": []
   },
   "outputs": [
    {
     "data": {
      "text/html": [
       "<div>\n",
       "<style scoped>\n",
       "    .dataframe tbody tr th:only-of-type {\n",
       "        vertical-align: middle;\n",
       "    }\n",
       "\n",
       "    .dataframe tbody tr th {\n",
       "        vertical-align: top;\n",
       "    }\n",
       "\n",
       "    .dataframe thead th {\n",
       "        text-align: right;\n",
       "    }\n",
       "</style>\n",
       "<table border=\"1\" class=\"dataframe\">\n",
       "  <thead>\n",
       "    <tr style=\"text-align: right;\">\n",
       "      <th></th>\n",
       "      <th>Year</th>\n",
       "      <th>ROOT_ID</th>\n",
       "      <th>Month</th>\n",
       "      <th>weekday</th>\n",
       "      <th>Day</th>\n",
       "      <th>TDV</th>\n",
       "    </tr>\n",
       "  </thead>\n",
       "  <tbody>\n",
       "  </tbody>\n",
       "</table>\n",
       "</div>"
      ],
      "text/plain": [
       "Empty DataFrame\n",
       "Columns: [Year, ROOT_ID, Month, weekday, Day, TDV]\n",
       "Index: []"
      ]
     },
     "execution_count": 9,
     "metadata": {},
     "output_type": "execute_result"
    }
   ],
   "source": [
    "# Calculate daily Volume for weekend\n",
    "# Merge counts_weekend data with hod_weekend factors on Year and Hour\n",
    "merged_weekend_data = pd.merge(counts_weekend, hod_weekend, left_on=['Year', 'Hour'], right_on=['year', 'hour'], how='inner')\n",
    "\n",
    "# Calculate total counts for each day and ROOT_ID\n",
    "weekend_daily_counts = pd.DataFrame({'total_count': merged_weekend_data.groupby(['Year', 'Month', 'Day', 'weekday', 'ROOT_ID'])['Count'].sum()}).reset_index()\n",
    "\n",
    "# Calculate total HOD factors for each day and ROOT_ID\n",
    "weekend_daily_factors = pd.DataFrame({'total_factor': merged_weekend_data.groupby(['Year', 'Month', 'Day', 'weekday', 'ROOT_ID'])['HOD'].sum()}).reset_index()\n",
    "\n",
    "# Merge the counts and factors dataframes\n",
    "merged_weekend_counts_factors = pd.merge(weekend_daily_counts, weekend_daily_factors, on=['Year', 'Month', 'weekday', 'Day', 'ROOT_ID'], how='inner')\n",
    "\n",
    "# Calculate the Daily Volume by dividing total counts by total factors\n",
    "merged_weekend_counts_factors['Daily_Volume'] = merged_weekend_counts_factors['total_count'] / merged_weekend_counts_factors['total_factor']\n",
    "\n",
    "# Calculate the mean Daily Volume (TDV) for each Year, ROOT_ID, Month, and Day\n",
    "weekend_daily_volume = pd.DataFrame({'TDV': merged_weekend_counts_factors.groupby(['Year', 'ROOT_ID', 'Month', 'weekday', 'Day'])['Daily_Volume'].mean()}).reset_index()\n",
    "\n",
    "weekend_daily_volume"
   ]
  },
  {
   "cell_type": "code",
   "execution_count": 10,
   "id": "6ee60a91",
   "metadata": {
    "execution": {
     "iopub.execute_input": "2025-04-08T13:11:39.358870Z",
     "iopub.status.busy": "2025-04-08T13:11:39.358870Z",
     "iopub.status.idle": "2025-04-08T13:11:39.367419Z",
     "shell.execute_reply": "2025-04-08T13:11:39.367419Z"
    },
    "papermill": {
     "duration": 0.02695,
     "end_time": "2025-04-08T13:11:39.368942",
     "exception": false,
     "start_time": "2025-04-08T13:11:39.341992",
     "status": "completed"
    },
    "tags": []
   },
   "outputs": [
    {
     "name": "stdout",
     "output_type": "stream",
     "text": [
      "(10, 6)\n"
     ]
    }
   ],
   "source": [
    "#Concat both datasets\n",
    "daily_volume=pd.concat([weekday_daily_volume,weekend_daily_volume])\n",
    "print(daily_volume.shape)"
   ]
  },
  {
   "cell_type": "code",
   "execution_count": 11,
   "id": "160847fd",
   "metadata": {
    "execution": {
     "iopub.execute_input": "2025-04-08T13:11:39.404518Z",
     "iopub.status.busy": "2025-04-08T13:11:39.404518Z",
     "iopub.status.idle": "2025-04-08T13:11:40.082723Z",
     "shell.execute_reply": "2025-04-08T13:11:40.082723Z"
    },
    "papermill": {
     "duration": 0.697863,
     "end_time": "2025-04-08T13:11:40.085452",
     "exception": false,
     "start_time": "2025-04-08T13:11:39.387589",
     "status": "completed"
    },
    "tags": []
   },
   "outputs": [
    {
     "data": {
      "image/png": "[encoded data removed]",
      "text/plain": [
       "<Figure size 1800x600 with 2 Axes>"
      ]
     },
     "metadata": {},
     "output_type": "display_data"
    }
   ],
   "source": [
    "# Make plots of TDV for weekday and weekend side by side\n",
    "fig, axes = plt.subplots(1, 2, figsize=(18, 6))\n",
    "\n",
    "# Plot TDV for weekday\n",
    "sns.histplot(weekday_daily_volume['TDV'], bins=30, kde=True, ax=axes[0])\n",
    "axes[0].set_title('Total Daily Volume (TDV) Distribution for Weekdays')\n",
    "axes[0].set_xlabel('TDV')\n",
    "axes[0].set_ylabel('Frequency')\n",
    "\n",
    "# Plot TDV for weekend\n",
    "sns.histplot(weekend_daily_volume['TDV'], bins=30, kde=True, ax=axes[1])\n",
    "axes[1].set_title('Total Daily Volume (TDV) Distribution for Weekends')\n",
    "axes[1].set_xlabel('TDV')\n",
    "axes[1].set_ylabel('Frequency')\n",
    "\n",
    "plt.tight_layout()\n",
    "plt.show()"
   ]
  },
  {
   "cell_type": "markdown",
   "id": "12d0b9be",
   "metadata": {
    "papermill": {
     "duration": 0.016288,
     "end_time": "2025-04-08T13:11:40.118908",
     "exception": false,
     "start_time": "2025-04-08T13:11:40.102620",
     "status": "completed"
    },
    "tags": []
   },
   "source": [
    "### Step 2: Apply DOW factor\n"
   ]
  },
  {
   "attachments": {
    "image.png": {
     "image/png": "[encoded data removed]"
    }
   },
   "cell_type": "markdown",
   "id": "b132ee5e",
   "metadata": {
    "papermill": {
     "duration": 0.016742,
     "end_time": "2025-04-08T13:11:40.152088",
     "exception": false,
     "start_time": "2025-04-08T13:11:40.135346",
     "status": "completed"
    },
    "tags": []
   },
   "source": [
    "![image.png](attachment:image.png)"
   ]
  },
  {
   "cell_type": "code",
   "execution_count": 12,
   "id": "87041eaf",
   "metadata": {
    "execution": {
     "iopub.execute_input": "2025-04-08T13:11:40.186434Z",
     "iopub.status.busy": "2025-04-08T13:11:40.186434Z",
     "iopub.status.idle": "2025-04-08T13:11:40.218263Z",
     "shell.execute_reply": "2025-04-08T13:11:40.218263Z"
    },
    "papermill": {
     "duration": 0.050204,
     "end_time": "2025-04-08T13:11:40.220779",
     "exception": false,
     "start_time": "2025-04-08T13:11:40.170575",
     "status": "completed"
    },
    "tags": []
   },
   "outputs": [
    {
     "data": {
      "text/html": [
       "<div>\n",
       "<style scoped>\n",
       "    .dataframe tbody tr th:only-of-type {\n",
       "        vertical-align: middle;\n",
       "    }\n",
       "\n",
       "    .dataframe tbody tr th {\n",
       "        vertical-align: top;\n",
       "    }\n",
       "\n",
       "    .dataframe thead th {\n",
       "        text-align: right;\n",
       "    }\n",
       "</style>\n",
       "<table border=\"1\" class=\"dataframe\">\n",
       "  <thead>\n",
       "    <tr style=\"text-align: right;\">\n",
       "      <th></th>\n",
       "      <th>Year</th>\n",
       "      <th>ROOT_ID</th>\n",
       "      <th>Month</th>\n",
       "      <th>TWV</th>\n",
       "    </tr>\n",
       "  </thead>\n",
       "  <tbody>\n",
       "    <tr>\n",
       "      <th>0</th>\n",
       "      <td>2024</td>\n",
       "      <td>1095689</td>\n",
       "      <td>9</td>\n",
       "      <td>52824.826251</td>\n",
       "    </tr>\n",
       "    <tr>\n",
       "      <th>1</th>\n",
       "      <td>2024</td>\n",
       "      <td>1095689</td>\n",
       "      <td>10</td>\n",
       "      <td>53899.843486</td>\n",
       "    </tr>\n",
       "    <tr>\n",
       "      <th>2</th>\n",
       "      <td>2024</td>\n",
       "      <td>1095690</td>\n",
       "      <td>9</td>\n",
       "      <td>40585.406729</td>\n",
       "    </tr>\n",
       "    <tr>\n",
       "      <th>3</th>\n",
       "      <td>2024</td>\n",
       "      <td>1095690</td>\n",
       "      <td>10</td>\n",
       "      <td>36487.533165</td>\n",
       "    </tr>\n",
       "    <tr>\n",
       "      <th>4</th>\n",
       "      <td>2024</td>\n",
       "      <td>1095691</td>\n",
       "      <td>9</td>\n",
       "      <td>20581.897273</td>\n",
       "    </tr>\n",
       "    <tr>\n",
       "      <th>5</th>\n",
       "      <td>2024</td>\n",
       "      <td>1095691</td>\n",
       "      <td>10</td>\n",
       "      <td>20317.240866</td>\n",
       "    </tr>\n",
       "    <tr>\n",
       "      <th>6</th>\n",
       "      <td>2024</td>\n",
       "      <td>1095692</td>\n",
       "      <td>9</td>\n",
       "      <td>33491.538469</td>\n",
       "    </tr>\n",
       "    <tr>\n",
       "      <th>7</th>\n",
       "      <td>2024</td>\n",
       "      <td>1095692</td>\n",
       "      <td>10</td>\n",
       "      <td>37448.871179</td>\n",
       "    </tr>\n",
       "    <tr>\n",
       "      <th>8</th>\n",
       "      <td>2024</td>\n",
       "      <td>1095693</td>\n",
       "      <td>9</td>\n",
       "      <td>11051.678832</td>\n",
       "    </tr>\n",
       "    <tr>\n",
       "      <th>9</th>\n",
       "      <td>2024</td>\n",
       "      <td>1095693</td>\n",
       "      <td>10</td>\n",
       "      <td>10631.038906</td>\n",
       "    </tr>\n",
       "  </tbody>\n",
       "</table>\n",
       "</div>"
      ],
      "text/plain": [
       "   Year  ROOT_ID  Month           TWV\n",
       "0  2024  1095689      9  52824.826251\n",
       "1  2024  1095689     10  53899.843486\n",
       "2  2024  1095690      9  40585.406729\n",
       "3  2024  1095690     10  36487.533165\n",
       "4  2024  1095691      9  20581.897273\n",
       "5  2024  1095691     10  20317.240866\n",
       "6  2024  1095692      9  33491.538469\n",
       "7  2024  1095692     10  37448.871179\n",
       "8  2024  1095693      9  11051.678832\n",
       "9  2024  1095693     10  10631.038906"
      ]
     },
     "execution_count": 12,
     "metadata": {},
     "output_type": "execute_result"
    }
   ],
   "source": [
    "# Merge daily volume data with day of week (DOW) factors\n",
    "merged_dow_data = pd.merge(daily_volume, dow_factor, on='weekday', how='inner')\n",
    "\n",
    "# Aggregate weekly volume by summing daily volumes for each Year, ROOT_ID, and Month\n",
    "weekly_volume_sum = merged_dow_data.groupby(['Year', 'ROOT_ID', 'Month'])['TDV'].sum().reset_index()\n",
    "weekly_volume_sum.rename(columns={'TDV': 'total_weekly_volume'}, inplace=True)\n",
    "\n",
    "# Aggregate DOW factors by summing them for each Year, ROOT_ID, and Month\n",
    "weekly_dow_factor_sum = merged_dow_data.groupby(['Year', 'ROOT_ID', 'Month'])['DOW'].sum().reset_index()\n",
    "weekly_dow_factor_sum.rename(columns={'DOW': 'total_dow_factor'}, inplace=True)\n",
    "\n",
    "# Merge the weekly volume and DOW factor dataframes\n",
    "merged_weekly_data = pd.merge(weekly_volume_sum, weekly_dow_factor_sum, on=['Year', 'ROOT_ID', 'Month'], how='inner')\n",
    "\n",
    "# Calculate the weekly volume by dividing total weekly volume by total DOW factor\n",
    "merged_weekly_data['Weekly_Volume'] = merged_weekly_data['total_weekly_volume'] / merged_weekly_data['total_dow_factor']\n",
    "\n",
    "# Calculate the mean weekly volume (TWV) for each Year, ROOT_ID, and Month\n",
    "mean_weekly_volume = merged_weekly_data.groupby(['Year', 'ROOT_ID', 'Month'])['Weekly_Volume'].mean().reset_index()\n",
    "mean_weekly_volume.rename(columns={'Weekly_Volume': 'TWV'}, inplace=True)\n",
    "\n",
    "mean_weekly_volume\n"
   ]
  },
  {
   "cell_type": "markdown",
   "id": "34b18d6b",
   "metadata": {
    "papermill": {
     "duration": 0.017021,
     "end_time": "2025-04-08T13:11:40.254219",
     "exception": false,
     "start_time": "2025-04-08T13:11:40.237198",
     "status": "completed"
    },
    "tags": []
   },
   "source": [
    "### Step 3: Divide by 7 to get ADBT"
   ]
  },
  {
   "cell_type": "code",
   "execution_count": 13,
   "id": "3e717f8c",
   "metadata": {
    "execution": {
     "iopub.execute_input": "2025-04-08T13:11:40.287050Z",
     "iopub.status.busy": "2025-04-08T13:11:40.287050Z",
     "iopub.status.idle": "2025-04-08T13:11:40.301855Z",
     "shell.execute_reply": "2025-04-08T13:11:40.301855Z"
    },
    "papermill": {
     "duration": 0.033323,
     "end_time": "2025-04-08T13:11:40.303863",
     "exception": false,
     "start_time": "2025-04-08T13:11:40.270540",
     "status": "completed"
    },
    "tags": []
   },
   "outputs": [
    {
     "data": {
      "text/html": [
       "<div>\n",
       "<style scoped>\n",
       "    .dataframe tbody tr th:only-of-type {\n",
       "        vertical-align: middle;\n",
       "    }\n",
       "\n",
       "    .dataframe tbody tr th {\n",
       "        vertical-align: top;\n",
       "    }\n",
       "\n",
       "    .dataframe thead th {\n",
       "        text-align: right;\n",
       "    }\n",
       "</style>\n",
       "<table border=\"1\" class=\"dataframe\">\n",
       "  <thead>\n",
       "    <tr style=\"text-align: right;\">\n",
       "      <th></th>\n",
       "      <th>Year</th>\n",
       "      <th>ROOT_ID</th>\n",
       "      <th>Month</th>\n",
       "      <th>TWV</th>\n",
       "      <th>AWV</th>\n",
       "    </tr>\n",
       "  </thead>\n",
       "  <tbody>\n",
       "    <tr>\n",
       "      <th>0</th>\n",
       "      <td>2024</td>\n",
       "      <td>1095689</td>\n",
       "      <td>9</td>\n",
       "      <td>52824.826251</td>\n",
       "      <td>7546.403750</td>\n",
       "    </tr>\n",
       "    <tr>\n",
       "      <th>1</th>\n",
       "      <td>2024</td>\n",
       "      <td>1095689</td>\n",
       "      <td>10</td>\n",
       "      <td>53899.843486</td>\n",
       "      <td>7699.977641</td>\n",
       "    </tr>\n",
       "    <tr>\n",
       "      <th>2</th>\n",
       "      <td>2024</td>\n",
       "      <td>1095690</td>\n",
       "      <td>9</td>\n",
       "      <td>40585.406729</td>\n",
       "      <td>5797.915247</td>\n",
       "    </tr>\n",
       "    <tr>\n",
       "      <th>3</th>\n",
       "      <td>2024</td>\n",
       "      <td>1095690</td>\n",
       "      <td>10</td>\n",
       "      <td>36487.533165</td>\n",
       "      <td>5212.504738</td>\n",
       "    </tr>\n",
       "    <tr>\n",
       "      <th>4</th>\n",
       "      <td>2024</td>\n",
       "      <td>1095691</td>\n",
       "      <td>9</td>\n",
       "      <td>20581.897273</td>\n",
       "      <td>2940.271039</td>\n",
       "    </tr>\n",
       "  </tbody>\n",
       "</table>\n",
       "</div>"
      ],
      "text/plain": [
       "   Year  ROOT_ID  Month           TWV          AWV\n",
       "0  2024  1095689      9  52824.826251  7546.403750\n",
       "1  2024  1095689     10  53899.843486  7699.977641\n",
       "2  2024  1095690      9  40585.406729  5797.915247\n",
       "3  2024  1095690     10  36487.533165  5212.504738\n",
       "4  2024  1095691      9  20581.897273  2940.271039"
      ]
     },
     "execution_count": 13,
     "metadata": {},
     "output_type": "execute_result"
    }
   ],
   "source": [
    "# Now divide TWV by 7 to get the weekly average volume\n",
    "mean_weekly_volume['AWV'] = mean_weekly_volume['TWV'] / 7\n",
    "mean_weekly_volume.head()"
   ]
  },
  {
   "cell_type": "code",
   "execution_count": 14,
   "id": "e5408b5b",
   "metadata": {
    "execution": {
     "iopub.execute_input": "2025-04-08T13:11:40.336514Z",
     "iopub.status.busy": "2025-04-08T13:11:40.336514Z",
     "iopub.status.idle": "2025-04-08T13:11:40.349132Z",
     "shell.execute_reply": "2025-04-08T13:11:40.349132Z"
    },
    "papermill": {
     "duration": 0.02902,
     "end_time": "2025-04-08T13:11:40.349132",
     "exception": false,
     "start_time": "2025-04-08T13:11:40.320112",
     "status": "completed"
    },
    "tags": []
   },
   "outputs": [
    {
     "data": {
      "text/plain": [
       "count      10.000000\n",
       "mean     4533.141074\n",
       "std      2233.858635\n",
       "min      1518.719844\n",
       "25%      2911.914995\n",
       "50%      4998.505117\n",
       "75%      5685.896120\n",
       "max      7699.977641\n",
       "Name: AWV, dtype: float64"
      ]
     },
     "execution_count": 14,
     "metadata": {},
     "output_type": "execute_result"
    }
   ],
   "source": [
    "mean_weekly_volume['AWV'].describe()"
   ]
  },
  {
   "cell_type": "code",
   "execution_count": 15,
   "id": "c94ddeca",
   "metadata": {
    "execution": {
     "iopub.execute_input": "2025-04-08T13:11:40.390377Z",
     "iopub.status.busy": "2025-04-08T13:11:40.390377Z",
     "iopub.status.idle": "2025-04-08T13:11:40.692054Z",
     "shell.execute_reply": "2025-04-08T13:11:40.692054Z"
    },
    "papermill": {
     "duration": 0.327473,
     "end_time": "2025-04-08T13:11:40.695067",
     "exception": false,
     "start_time": "2025-04-08T13:11:40.367594",
     "status": "completed"
    },
    "tags": []
   },
   "outputs": [
    {
     "data": {
      "image/png": "[encoded data removed]",
      "text/plain": [
       "<Figure size 1000x600 with 1 Axes>"
      ]
     },
     "metadata": {},
     "output_type": "display_data"
    }
   ],
   "source": [
    "# Make a plot of AWV distribution\n",
    "plt.figure(figsize=(10, 6))\n",
    "\n",
    "# Plot AWV distribution\n",
    "sns.histplot(mean_weekly_volume['AWV'], bins=30, kde=True)\n",
    "plt.title('Average Weekly Volume (AWV) Distribution')\n",
    "plt.xlabel('AWV')\n",
    "plt.ylabel('Frequency')\n",
    "\n",
    "plt.show()\n",
    "\n"
   ]
  },
  {
   "cell_type": "markdown",
   "id": "74ef6aae",
   "metadata": {
    "papermill": {
     "duration": 0.021282,
     "end_time": "2025-04-08T13:11:40.729108",
     "exception": false,
     "start_time": "2025-04-08T13:11:40.707826",
     "status": "completed"
    },
    "tags": []
   },
   "source": [
    "### Step 4: Multiply by days of the month"
   ]
  },
  {
   "attachments": {
    "image.png": {
     "image/png": "[encoded data removed]"
    }
   },
   "cell_type": "markdown",
   "id": "1689ce40",
   "metadata": {
    "papermill": {
     "duration": 0.016917,
     "end_time": "2025-04-08T13:11:40.762173",
     "exception": false,
     "start_time": "2025-04-08T13:11:40.745256",
     "status": "completed"
    },
    "tags": []
   },
   "source": [
    "![image.png](attachment:image.png)"
   ]
  },
  {
   "cell_type": "code",
   "execution_count": 16,
   "id": "658f7d8b",
   "metadata": {
    "execution": {
     "iopub.execute_input": "2025-04-08T13:11:40.801816Z",
     "iopub.status.busy": "2025-04-08T13:11:40.801816Z",
     "iopub.status.idle": "2025-04-08T13:11:40.826717Z",
     "shell.execute_reply": "2025-04-08T13:11:40.826717Z"
    },
    "papermill": {
     "duration": 0.048569,
     "end_time": "2025-04-08T13:11:40.828224",
     "exception": false,
     "start_time": "2025-04-08T13:11:40.779655",
     "status": "completed"
    },
    "tags": []
   },
   "outputs": [
    {
     "data": {
      "text/plain": [
       "count        10.000000\n",
       "mean     138262.582604\n",
       "std       68209.969777\n",
       "min       47080.315155\n",
       "25%       88650.186478\n",
       "50%      152561.405870\n",
       "75%      171914.343291\n",
       "max      238699.306869\n",
       "Name: MTT, dtype: float64"
      ]
     },
     "execution_count": 16,
     "metadata": {},
     "output_type": "execute_result"
    }
   ],
   "source": [
    "# Calculate the number of days in the data collection month and multiply average weekly volume (AWV) to get monthly total volume\n",
    "# Create a dummy day column to get the date and days in the month\n",
    "mean_weekly_volume['day'] = 1\n",
    "date_columns = [\"Year\", \"Month\", \"day\"]\n",
    "mean_weekly_volume['date'] = mean_weekly_volume[date_columns].apply(lambda x: '-'.join(x.values.astype(str)), axis=\"columns\")\n",
    "mean_weekly_volume['date'] = pd.to_datetime(mean_weekly_volume['date'], errors='coerce')\n",
    "mean_weekly_volume['days_in_month'] = mean_weekly_volume['date'].dt.days_in_month\n",
    "mean_weekly_volume.head()\n",
    "\n",
    "mean_monthly = mean_weekly_volume.groupby(['Year', 'Month','days_in_month', 'ROOT_ID'])['AWV'].sum().reset_index()\n",
    "mean_monthly[\"MTT\"] = mean_weekly_volume[\"AWV\"]*mean_weekly_volume[\"days_in_month\"]\n",
    "mean_monthly[\"MTT\"].describe()"
   ]
  },
  {
   "cell_type": "markdown",
   "id": "e1b3d07c",
   "metadata": {
    "papermill": {
     "duration": 0.062591,
     "end_time": "2025-04-08T13:11:40.911244",
     "exception": false,
     "start_time": "2025-04-08T13:11:40.848653",
     "status": "completed"
    },
    "tags": []
   },
   "source": [
    "### Step 5: Apply MOY and divide by days in year"
   ]
  },
  {
   "attachments": {
    "image.png": {
     "image/png": "[encoded data removed]"
    }
   },
   "cell_type": "markdown",
   "id": "77d1b008",
   "metadata": {
    "papermill": {
     "duration": 0.018415,
     "end_time": "2025-04-08T13:11:40.954316",
     "exception": false,
     "start_time": "2025-04-08T13:11:40.935901",
     "status": "completed"
    },
    "tags": []
   },
   "source": [
    "![image.png](attachment:image.png)"
   ]
  },
  {
   "cell_type": "code",
   "execution_count": 17,
   "id": "af59159d",
   "metadata": {
    "execution": {
     "iopub.execute_input": "2025-04-08T13:11:40.995626Z",
     "iopub.status.busy": "2025-04-08T13:11:40.995626Z",
     "iopub.status.idle": "2025-04-08T13:11:41.025166Z",
     "shell.execute_reply": "2025-04-08T13:11:41.025166Z"
    },
    "papermill": {
     "duration": 0.053127,
     "end_time": "2025-04-08T13:11:41.028197",
     "exception": false,
     "start_time": "2025-04-08T13:11:40.975070",
     "status": "completed"
    },
    "tags": []
   },
   "outputs": [
    {
     "data": {
      "text/html": [
       "<div>\n",
       "<style scoped>\n",
       "    .dataframe tbody tr th:only-of-type {\n",
       "        vertical-align: middle;\n",
       "    }\n",
       "\n",
       "    .dataframe tbody tr th {\n",
       "        vertical-align: top;\n",
       "    }\n",
       "\n",
       "    .dataframe thead th {\n",
       "        text-align: right;\n",
       "    }\n",
       "</style>\n",
       "<table border=\"1\" class=\"dataframe\">\n",
       "  <thead>\n",
       "    <tr style=\"text-align: right;\">\n",
       "      <th></th>\n",
       "      <th>Year</th>\n",
       "      <th>ROOT_ID</th>\n",
       "      <th>ATT</th>\n",
       "    </tr>\n",
       "  </thead>\n",
       "  <tbody>\n",
       "    <tr>\n",
       "      <th>0</th>\n",
       "      <td>2024</td>\n",
       "      <td>1095689</td>\n",
       "      <td>1.657695e+06</td>\n",
       "    </tr>\n",
       "    <tr>\n",
       "      <th>1</th>\n",
       "      <td>2024</td>\n",
       "      <td>1095690</td>\n",
       "      <td>2.002817e+06</td>\n",
       "    </tr>\n",
       "    <tr>\n",
       "      <th>2</th>\n",
       "      <td>2024</td>\n",
       "      <td>1095691</td>\n",
       "      <td>1.780379e+06</td>\n",
       "    </tr>\n",
       "    <tr>\n",
       "      <th>3</th>\n",
       "      <td>2024</td>\n",
       "      <td>1095692</td>\n",
       "      <td>1.094858e+06</td>\n",
       "    </tr>\n",
       "    <tr>\n",
       "      <th>4</th>\n",
       "      <td>2024</td>\n",
       "      <td>1095693</td>\n",
       "      <td>7.088791e+05</td>\n",
       "    </tr>\n",
       "  </tbody>\n",
       "</table>\n",
       "</div>"
      ],
      "text/plain": [
       "   Year  ROOT_ID           ATT\n",
       "0  2024  1095689  1.657695e+06\n",
       "1  2024  1095690  2.002817e+06\n",
       "2  2024  1095691  1.780379e+06\n",
       "3  2024  1095692  1.094858e+06\n",
       "4  2024  1095693  7.088791e+05"
      ]
     },
     "execution_count": 17,
     "metadata": {},
     "output_type": "execute_result"
    }
   ],
   "source": [
    "# Calculate Annual Volume for group 1\n",
    "merged_group1 = pd.merge(mean_monthly, moy_factor[[\"month\",\"MOY\"]], left_on=['Month'], right_on=['month'], how='inner')\n",
    "\n",
    "# Calculate aggregated monthly volume\n",
    "agg_monthly_volume = pd.DataFrame({'agg_monthly_volume': merged_group1.groupby(['Year', 'ROOT_ID'])['MTT'].sum()}).reset_index()\n",
    "\n",
    "# Calculate aggregated MOY factor\n",
    "agg_moy_factor = pd.DataFrame({'agg_moy_factor': merged_group1.groupby(['Year', 'ROOT_ID'])['MOY'].sum()}).reset_index()\n",
    "\n",
    "# Merge the aggregated data\n",
    "merged_annual_data = pd.merge(agg_monthly_volume, agg_moy_factor, on=['Year', 'ROOT_ID'], how='inner')\n",
    "\n",
    "# Calculate Annual Volume\n",
    "merged_annual_data['Annual_Volume'] = merged_annual_data['agg_monthly_volume'] / merged_annual_data['agg_moy_factor']\n",
    "\n",
    "# Calculate the mean Annual Volume (ATT)\n",
    "annual_volume = pd.DataFrame({'ATT': merged_annual_data.groupby(['Year', 'ROOT_ID'])['Annual_Volume'].mean()}).reset_index()\n",
    "\n",
    "annual_volume.head(5)\n"
   ]
  },
  {
   "cell_type": "code",
   "execution_count": 18,
   "id": "42c646ec",
   "metadata": {
    "execution": {
     "iopub.execute_input": "2025-04-08T13:11:41.065991Z",
     "iopub.status.busy": "2025-04-08T13:11:41.065991Z",
     "iopub.status.idle": "2025-04-08T13:11:41.080139Z",
     "shell.execute_reply": "2025-04-08T13:11:41.080139Z"
    },
    "papermill": {
     "duration": 0.037252,
     "end_time": "2025-04-08T13:11:41.082148",
     "exception": false,
     "start_time": "2025-04-08T13:11:41.044896",
     "status": "completed"
    },
    "tags": []
   },
   "outputs": [
    {
     "data": {
      "text/html": [
       "<div>\n",
       "<style scoped>\n",
       "    .dataframe tbody tr th:only-of-type {\n",
       "        vertical-align: middle;\n",
       "    }\n",
       "\n",
       "    .dataframe tbody tr th {\n",
       "        vertical-align: top;\n",
       "    }\n",
       "\n",
       "    .dataframe thead th {\n",
       "        text-align: right;\n",
       "    }\n",
       "</style>\n",
       "<table border=\"1\" class=\"dataframe\">\n",
       "  <thead>\n",
       "    <tr style=\"text-align: right;\">\n",
       "      <th></th>\n",
       "      <th>Year</th>\n",
       "      <th>ROOT_ID</th>\n",
       "      <th>ATT</th>\n",
       "      <th>ATT_in_Million</th>\n",
       "      <th>AADBT</th>\n",
       "    </tr>\n",
       "  </thead>\n",
       "  <tbody>\n",
       "    <tr>\n",
       "      <th>0</th>\n",
       "      <td>2024</td>\n",
       "      <td>1095689</td>\n",
       "      <td>1.657695e+06</td>\n",
       "      <td>1.657695</td>\n",
       "      <td>4541.630416</td>\n",
       "    </tr>\n",
       "    <tr>\n",
       "      <th>1</th>\n",
       "      <td>2024</td>\n",
       "      <td>1095690</td>\n",
       "      <td>2.002817e+06</td>\n",
       "      <td>2.002817</td>\n",
       "      <td>5487.170484</td>\n",
       "    </tr>\n",
       "    <tr>\n",
       "      <th>2</th>\n",
       "      <td>2024</td>\n",
       "      <td>1095691</td>\n",
       "      <td>1.780379e+06</td>\n",
       "      <td>1.780379</td>\n",
       "      <td>4877.750214</td>\n",
       "    </tr>\n",
       "    <tr>\n",
       "      <th>3</th>\n",
       "      <td>2024</td>\n",
       "      <td>1095692</td>\n",
       "      <td>1.094858e+06</td>\n",
       "      <td>1.094858</td>\n",
       "      <td>2999.612144</td>\n",
       "    </tr>\n",
       "    <tr>\n",
       "      <th>4</th>\n",
       "      <td>2024</td>\n",
       "      <td>1095693</td>\n",
       "      <td>7.088791e+05</td>\n",
       "      <td>0.708879</td>\n",
       "      <td>1942.134539</td>\n",
       "    </tr>\n",
       "  </tbody>\n",
       "</table>\n",
       "</div>"
      ],
      "text/plain": [
       "   Year  ROOT_ID           ATT  ATT_in_Million        AADBT\n",
       "0  2024  1095689  1.657695e+06        1.657695  4541.630416\n",
       "1  2024  1095690  2.002817e+06        2.002817  5487.170484\n",
       "2  2024  1095691  1.780379e+06        1.780379  4877.750214\n",
       "3  2024  1095692  1.094858e+06        1.094858  2999.612144\n",
       "4  2024  1095693  7.088791e+05        0.708879  1942.134539"
      ]
     },
     "execution_count": 18,
     "metadata": {},
     "output_type": "execute_result"
    }
   ],
   "source": [
    "# Convert ATT to millions\n",
    "annual_volume['ATT_in_Million'] = annual_volume['ATT'] / 1000000\n",
    "\n",
    "# Calculate AADBT\n",
    "annual_volume['AADBT'] = annual_volume['ATT'] / 365\n",
    "\n",
    "annual_volume.head()"
   ]
  },
  {
   "cell_type": "code",
   "execution_count": 19,
   "id": "241ff6b9",
   "metadata": {
    "execution": {
     "iopub.execute_input": "2025-04-08T13:11:41.119522Z",
     "iopub.status.busy": "2025-04-08T13:11:41.119522Z",
     "iopub.status.idle": "2025-04-08T13:11:41.420480Z",
     "shell.execute_reply": "2025-04-08T13:11:41.419474Z"
    },
    "papermill": {
     "duration": 0.319189,
     "end_time": "2025-04-08T13:11:41.420480",
     "exception": false,
     "start_time": "2025-04-08T13:11:41.101291",
     "status": "completed"
    },
    "tags": []
   },
   "outputs": [
    {
     "data": {
      "image/png": "[encoded data removed]",
      "text/plain": [
       "<Figure size 1000x600 with 1 Axes>"
      ]
     },
     "metadata": {},
     "output_type": "display_data"
    }
   ],
   "source": [
    "# Make a plot of AADBT distribution\n",
    "plt.figure(figsize=(10, 6))\n",
    "\n",
    "# Plot AADBT distribution\n",
    "sns.histplot(annual_volume['AADBT'], bins=30, kde=True)\n",
    "plt.title('Average Annual Daily Bicycle Traffic (AADBT) Distribution')\n",
    "plt.xlabel('AADBT')\n",
    "plt.ylabel('Frequency')\n",
    "\n",
    "plt.show()\n",
    "\n"
   ]
  },
  {
   "cell_type": "markdown",
   "id": "608bb79e",
   "metadata": {
    "papermill": {
     "duration": 0.018055,
     "end_time": "2025-04-08T13:11:41.458708",
     "exception": false,
     "start_time": "2025-04-08T13:11:41.440653",
     "status": "completed"
    },
    "tags": []
   },
   "source": [
    "## Results"
   ]
  },
  {
   "cell_type": "code",
   "execution_count": 20,
   "id": "4d8e797a",
   "metadata": {
    "execution": {
     "iopub.execute_input": "2025-04-08T13:11:41.502022Z",
     "iopub.status.busy": "2025-04-08T13:11:41.502022Z",
     "iopub.status.idle": "2025-04-08T13:11:41.514195Z",
     "shell.execute_reply": "2025-04-08T13:11:41.514195Z"
    },
    "papermill": {
     "duration": 0.038628,
     "end_time": "2025-04-08T13:11:41.516203",
     "exception": false,
     "start_time": "2025-04-08T13:11:41.477575",
     "status": "completed"
    },
    "tags": []
   },
   "outputs": [
    {
     "name": "stdout",
     "output_type": "stream",
     "text": [
      "(5, 5)\n",
      "Index(['Year', 'ROOT_ID', 'ATT', 'ATT_in_Million', 'AADBT'], dtype='object')\n"
     ]
    },
    {
     "data": {
      "text/plain": [
       "count       5.000000\n",
       "mean     3969.659559\n",
       "std      1458.292529\n",
       "min      1942.134539\n",
       "25%      2999.612144\n",
       "50%      4541.630416\n",
       "75%      4877.750214\n",
       "max      5487.170484\n",
       "Name: AADBT, dtype: float64"
      ]
     },
     "execution_count": 20,
     "metadata": {},
     "output_type": "execute_result"
    }
   ],
   "source": [
    "print(annual_volume.shape)\n",
    "print(annual_volume.columns)\n",
    "annual_volume['AADBT'].describe()"
   ]
  },
  {
   "cell_type": "code",
   "execution_count": 21,
   "id": "fc48022c",
   "metadata": {
    "execution": {
     "iopub.execute_input": "2025-04-08T13:11:41.558402Z",
     "iopub.status.busy": "2025-04-08T13:11:41.558402Z",
     "iopub.status.idle": "2025-04-08T13:11:42.974238Z",
     "shell.execute_reply": "2025-04-08T13:11:42.974238Z"
    },
    "papermill": {
     "duration": 1.439468,
     "end_time": "2025-04-08T13:11:42.977584",
     "exception": false,
     "start_time": "2025-04-08T13:11:41.538116",
     "status": "completed"
    },
    "tags": []
   },
   "outputs": [
    {
     "data": {
      "application/vnd.plotly.v1+json": {
       "config": {
        "plotlyServerURL": "https://plot.ly"
       },
       "data": [
        {
         "alignmentgroup": "True",
         "hovertemplate": "Category=%{x}<br>Value=%{y}<extra></extra>",
         "legendgroup": "",
         "marker": {
          "color": "#636efa"
         },
         "name": "",
         "notched": false,
         "offsetgroup": "",
         "orientation": "v",
         "showlegend": false,
         "type": "box",
         "x": [
          "Weekday TDV",
          "Weekday TDV",
          "Weekday TDV",
          "Weekday TDV",
          "Weekday TDV",
          "Weekday TDV",
          "Weekday TDV",
          "Weekday TDV",
          "Weekday TDV",
          "Weekday TDV",
          "Weekly AWV",
          "Weekly AWV",
          "Weekly AWV",
          "Weekly AWV",
          "Weekly AWV",
          "Weekly AWV",
          "Weekly AWV",
          "Weekly AWV",
          "Weekly AWV",
          "Weekly AWV",
          "Annual AADBT",
          "Annual AADBT",
          "Annual AADBT",
          "Annual AADBT",
          "Annual AADBT"
         ],
         "x0": " ",
         "xaxis": "x",
         "y": [
          8217.041913639705,
          8258.942854286452,
          6485.28495180341,
          5830.471315526057,
          3153.714415699301,
          3160.400736015271,
          5351.730780902587,
          5738.200095165667,
          1693.4220586913982,
          1698.7711149441745,
          7546.403750152524,
          7699.977640922448,
          5797.915246993539,
          5212.504737829094,
          2940.271038942483,
          2902.462980827893,
          4784.5054955945025,
          5349.838739831318,
          1578.8112617586557,
          1518.719843720694,
          4541.63041561052,
          5487.17048402887,
          4877.750214284064,
          2999.6121437090296,
          1942.1345388465024
         ],
         "y0": " ",
         "yaxis": "y"
        }
       ],
       "layout": {
        "boxmode": "group",
        "legend": {
         "tracegroupgap": 0
        },
        "template": {
         "data": {
          "bar": [
           {
            "error_x": {
             "color": "#2a3f5f"
            },
            "error_y": {
             "color": "#2a3f5f"
            },
            "marker": {
             "line": {
              "color": "#E5ECF6",
              "width": 0.5
             },
             "pattern": {
              "fillmode": "overlay",
              "size": 10,
              "solidity": 0.2
             }
            },
            "type": "bar"
           }
          ],
          "barpolar": [
           {
            "marker": {
             "line": {
              "color": "#E5ECF6",
              "width": 0.5
             },
             "pattern": {
              "fillmode": "overlay",
              "size": 10,
              "solidity": 0.2
             }
            },
            "type": "barpolar"
           }
          ],
          "carpet": [
           {
            "aaxis": {
             "endlinecolor": "#2a3f5f",
             "gridcolor": "white",
             "linecolor": "white",
             "minorgridcolor": "white",
             "startlinecolor": "#2a3f5f"
            },
            "baxis": {
             "endlinecolor": "#2a3f5f",
             "gridcolor": "white",
             "linecolor": "white",
             "minorgridcolor": "white",
             "startlinecolor": "#2a3f5f"
            },
            "type": "carpet"
           }
          ],
          "choropleth": [
           {
            "colorbar": {
             "outlinewidth": 0,
             "ticks": ""
            },
            "type": "choropleth"
           }
          ],
          "contour": [
           {
            "colorbar": {
             "outlinewidth": 0,
             "ticks": ""
            },
            "colorscale": [
             [
              0.0,
              "#0d0887"
             ],
             [
              0.1111111111111111,
              "#46039f"
             ],
             [
              0.2222222222222222,
              "#7201a8"
             ],
             [
              0.3333333333333333,
              "#9c179e"
             ],
             [
              0.4444444444444444,
              "#bd3786"
             ],
             [
              0.5555555555555556,
              "#d8576b"
             ],
             [
              0.6666666666666666,
              "#ed7953"
             ],
             [
              0.7777777777777778,
              "#fb9f3a"
             ],
             [
              0.8888888888888888,
              "#fdca26"
             ],
             [
              1.0,
              "#f0f921"
             ]
            ],
            "type": "contour"
           }
          ],
          "contourcarpet": [
           {
            "colorbar": {
             "outlinewidth": 0,
             "ticks": ""
            },
            "type": "contourcarpet"
           }
          ],
          "heatmap": [
           {
            "colorbar": {
             "outlinewidth": 0,
             "ticks": ""
            },
            "colorscale": [
             [
              0.0,
              "#0d0887"
             ],
             [
              0.1111111111111111,
              "#46039f"
             ],
             [
              0.2222222222222222,
              "#7201a8"
             ],
             [
              0.3333333333333333,
              "#9c179e"
             ],
             [
              0.4444444444444444,
              "#bd3786"
             ],
             [
              0.5555555555555556,
              "#d8576b"
             ],
             [
              0.6666666666666666,
              "#ed7953"
             ],
             [
              0.7777777777777778,
              "#fb9f3a"
             ],
             [
              0.8888888888888888,
              "#fdca26"
             ],
             [
              1.0,
              "#f0f921"
             ]
            ],
            "type": "heatmap"
           }
          ],
          "heatmapgl": [
           {
            "colorbar": {
             "outlinewidth": 0,
             "ticks": ""
            },
            "colorscale": [
             [
              0.0,
              "#0d0887"
             ],
             [
              0.1111111111111111,
              "#46039f"
             ],
             [
              0.2222222222222222,
              "#7201a8"
             ],
             [
              0.3333333333333333,
              "#9c179e"
             ],
             [
              0.4444444444444444,
              "#bd3786"
             ],
             [
              0.5555555555555556,
              "#d8576b"
             ],
             [
              0.6666666666666666,
              "#ed7953"
             ],
             [
              0.7777777777777778,
              "#fb9f3a"
             ],
             [
              0.8888888888888888,
              "#fdca26"
             ],
             [
              1.0,
              "#f0f921"
             ]
            ],
            "type": "heatmapgl"
           }
          ],
          "histogram": [
           {
            "marker": {
             "pattern": {
              "fillmode": "overlay",
              "size": 10,
              "solidity": 0.2
             }
            },
            "type": "histogram"
           }
          ],
          "histogram2d": [
           {
            "colorbar": {
             "outlinewidth": 0,
             "ticks": ""
            },
            "colorscale": [
             [
              0.0,
              "#0d0887"
             ],
             [
              0.1111111111111111,
              "#46039f"
             ],
             [
              0.2222222222222222,
              "#7201a8"
             ],
             [
              0.3333333333333333,
              "#9c179e"
             ],
             [
              0.4444444444444444,
              "#bd3786"
             ],
             [
              0.5555555555555556,
              "#d8576b"
             ],
             [
              0.6666666666666666,
              "#ed7953"
             ],
             [
              0.7777777777777778,
              "#fb9f3a"
             ],
             [
              0.8888888888888888,
              "#fdca26"
             ],
             [
              1.0,
              "#f0f921"
             ]
            ],
            "type": "histogram2d"
           }
          ],
          "histogram2dcontour": [
           {
            "colorbar": {
             "outlinewidth": 0,
             "ticks": ""
            },
            "colorscale": [
             [
              0.0,
              "#0d0887"
             ],
             [
              0.1111111111111111,
              "#46039f"
             ],
             [
              0.2222222222222222,
              "#7201a8"
             ],
             [
              0.3333333333333333,
              "#9c179e"
             ],
             [
              0.4444444444444444,
              "#bd3786"
             ],
             [
              0.5555555555555556,
              "#d8576b"
             ],
             [
              0.6666666666666666,
              "#ed7953"
             ],
             [
              0.7777777777777778,
              "#fb9f3a"
             ],
             [
              0.8888888888888888,
              "#fdca26"
             ],
             [
              1.0,
              "#f0f921"
             ]
            ],
            "type": "histogram2dcontour"
           }
          ],
          "mesh3d": [
           {
            "colorbar": {
             "outlinewidth": 0,
             "ticks": ""
            },
            "type": "mesh3d"
           }
          ],
          "parcoords": [
           {
            "line": {
             "colorbar": {
              "outlinewidth": 0,
              "ticks": ""
             }
            },
            "type": "parcoords"
           }
          ],
          "pie": [
           {
            "automargin": true,
            "type": "pie"
           }
          ],
          "scatter": [
           {
            "fillpattern": {
             "fillmode": "overlay",
             "size": 10,
             "solidity": 0.2
            },
            "type": "scatter"
           }
          ],
          "scatter3d": [
           {
            "line": {
             "colorbar": {
              "outlinewidth": 0,
              "ticks": ""
             }
            },
            "marker": {
             "colorbar": {
              "outlinewidth": 0,
              "ticks": ""
             }
            },
            "type": "scatter3d"
           }
          ],
          "scattercarpet": [
           {
            "marker": {
             "colorbar": {
              "outlinewidth": 0,
              "ticks": ""
             }
            },
            "type": "scattercarpet"
           }
          ],
          "scattergeo": [
           {
            "marker": {
             "colorbar": {
              "outlinewidth": 0,
              "ticks": ""
             }
            },
            "type": "scattergeo"
           }
          ],
          "scattergl": [
           {
            "marker": {
             "colorbar": {
              "outlinewidth": 0,
              "ticks": ""
             }
            },
            "type": "scattergl"
           }
          ],
          "scattermapbox": [
           {
            "marker": {
             "colorbar": {
              "outlinewidth": 0,
              "ticks": ""
             }
            },
            "type": "scattermapbox"
           }
          ],
          "scatterpolar": [
           {
            "marker": {
             "colorbar": {
              "outlinewidth": 0,
              "ticks": ""
             }
            },
            "type": "scatterpolar"
           }
          ],
          "scatterpolargl": [
           {
            "marker": {
             "colorbar": {
              "outlinewidth": 0,
              "ticks": ""
             }
            },
            "type": "scatterpolargl"
           }
          ],
          "scatterternary": [
           {
            "marker": {
             "colorbar": {
              "outlinewidth": 0,
              "ticks": ""
             }
            },
            "type": "scatterternary"
           }
          ],
          "surface": [
           {
            "colorbar": {
             "outlinewidth": 0,
             "ticks": ""
            },
            "colorscale": [
             [
              0.0,
              "#0d0887"
             ],
             [
              0.1111111111111111,
              "#46039f"
             ],
             [
              0.2222222222222222,
              "#7201a8"
             ],
             [
              0.3333333333333333,
              "#9c179e"
             ],
             [
              0.4444444444444444,
              "#bd3786"
             ],
             [
              0.5555555555555556,
              "#d8576b"
             ],
             [
              0.6666666666666666,
              "#ed7953"
             ],
             [
              0.7777777777777778,
              "#fb9f3a"
             ],
             [
              0.8888888888888888,
              "#fdca26"
             ],
             [
              1.0,
              "#f0f921"
             ]
            ],
            "type": "surface"
           }
          ],
          "table": [
           {
            "cells": {
             "fill": {
              "color": "#EBF0F8"
             },
             "line": {
              "color": "white"
             }
            },
            "header": {
             "fill": {
              "color": "#C8D4E3"
             },
             "line": {
              "color": "white"
             }
            },
            "type": "table"
           }
          ]
         },
         "layout": {
          "annotationdefaults": {
           "arrowcolor": "#2a3f5f",
           "arrowhead": 0,
           "arrowwidth": 1
          },
          "autotypenumbers": "strict",
          "coloraxis": {
           "colorbar": {
            "outlinewidth": 0,
            "ticks": ""
           }
          },
          "colorscale": {
           "diverging": [
            [
             0,
             "#8e0152"
            ],
            [
             0.1,
             "#c51b7d"
            ],
            [
             0.2,
             "#de77ae"
            ],
            [
             0.3,
             "#f1b6da"
            ],
            [
             0.4,
             "#fde0ef"
            ],
            [
             0.5,
             "#f7f7f7"
            ],
            [
             0.6,
             "#e6f5d0"
            ],
            [
             0.7,
             "#b8e186"
            ],
            [
             0.8,
             "#7fbc41"
            ],
            [
             0.9,
             "#4d9221"
            ],
            [
             1,
             "#276419"
            ]
           ],
           "sequential": [
            [
             0.0,
             "#0d0887"
            ],
            [
             0.1111111111111111,
             "#46039f"
            ],
            [
             0.2222222222222222,
             "#7201a8"
            ],
            [
             0.3333333333333333,
             "#9c179e"
            ],
            [
             0.4444444444444444,
             "#bd3786"
            ],
            [
             0.5555555555555556,
             "#d8576b"
            ],
            [
             0.6666666666666666,
             "#ed7953"
            ],
            [
             0.7777777777777778,
             "#fb9f3a"
            ],
            [
             0.8888888888888888,
             "#fdca26"
            ],
            [
             1.0,
             "#f0f921"
            ]
           ],
           "sequentialminus": [
            [
             0.0,
             "#0d0887"
            ],
            [
             0.1111111111111111,
             "#46039f"
            ],
            [
             0.2222222222222222,
             "#7201a8"
            ],
            [
             0.3333333333333333,
             "#9c179e"
            ],
            [
             0.4444444444444444,
             "#bd3786"
            ],
            [
             0.5555555555555556,
             "#d8576b"
            ],
            [
             0.6666666666666666,
             "#ed7953"
            ],
            [
             0.7777777777777778,
             "#fb9f3a"
            ],
            [
             0.8888888888888888,
             "#fdca26"
            ],
            [
             1.0,
             "#f0f921"
            ]
           ]
          },
          "colorway": [
           "#636efa",
           "#EF553B",
           "#00cc96",
           "#ab63fa",
           "#FFA15A",
           "#19d3f3",
           "#FF6692",
           "#B6E880",
           "#FF97FF",
           "#FECB52"
          ],
          "font": {
           "color": "#2a3f5f"
          },
          "geo": {
           "bgcolor": "white",
           "lakecolor": "white",
           "landcolor": "#E5ECF6",
           "showlakes": true,
           "showland": true,
           "subunitcolor": "white"
          },
          "hoverlabel": {
           "align": "left"
          },
          "hovermode": "closest",
          "mapbox": {
           "style": "light"
          },
          "paper_bgcolor": "white",
          "plot_bgcolor": "#E5ECF6",
          "polar": {
           "angularaxis": {
            "gridcolor": "white",
            "linecolor": "white",
            "ticks": ""
           },
           "bgcolor": "#E5ECF6",
           "radialaxis": {
            "gridcolor": "white",
            "linecolor": "white",
            "ticks": ""
           }
          },
          "scene": {
           "xaxis": {
            "backgroundcolor": "#E5ECF6",
            "gridcolor": "white",
            "gridwidth": 2,
            "linecolor": "white",
            "showbackground": true,
            "ticks": "",
            "zerolinecolor": "white"
           },
           "yaxis": {
            "backgroundcolor": "#E5ECF6",
            "gridcolor": "white",
            "gridwidth": 2,
            "linecolor": "white",
            "showbackground": true,
            "ticks": "",
            "zerolinecolor": "white"
           },
           "zaxis": {
            "backgroundcolor": "#E5ECF6",
            "gridcolor": "white",
            "gridwidth": 2,
            "linecolor": "white",
            "showbackground": true,
            "ticks": "",
            "zerolinecolor": "white"
           }
          },
          "shapedefaults": {
           "line": {
            "color": "#2a3f5f"
           }
          },
          "ternary": {
           "aaxis": {
            "gridcolor": "white",
            "linecolor": "white",
            "ticks": ""
           },
           "baxis": {
            "gridcolor": "white",
            "linecolor": "white",
            "ticks": ""
           },
           "bgcolor": "#E5ECF6",
           "caxis": {
            "gridcolor": "white",
            "linecolor": "white",
            "ticks": ""
           }
          },
          "title": {
           "x": 0.05
          },
          "xaxis": {
           "automargin": true,
           "gridcolor": "white",
           "linecolor": "white",
           "ticks": "",
           "title": {
            "standoff": 15
           },
           "zerolinecolor": "white",
           "zerolinewidth": 2
          },
          "yaxis": {
           "automargin": true,
           "gridcolor": "white",
           "linecolor": "white",
           "ticks": "",
           "title": {
            "standoff": 15
           },
           "zerolinecolor": "white",
           "zerolinewidth": 2
          }
         }
        },
        "title": {
         "text": "Box Plots of TDV, AWV, and AADBT made with BACC data"
        },
        "xaxis": {
         "anchor": "y",
         "domain": [
          0.0,
          1.0
         ],
         "title": {
          "text": "Category"
         }
        },
        "yaxis": {
         "anchor": "x",
         "domain": [
          0.0,
          1.0
         ],
         "title": {
          "text": "Value"
         }
        }
       }
      }
     },
     "metadata": {},
     "output_type": "display_data"
    }
   ],
   "source": [
    "import plotly.express as px\n",
    "\n",
    "# Create a combined DataFrame for plotting\n",
    "combined_df = pd.DataFrame({\n",
    "    'Value': pd.concat([weekday_daily_volume['TDV'], weekend_daily_volume['TDV'], mean_weekly_volume['AWV'], annual_volume['AADBT']]),\n",
    "    'Category': ['Weekday TDV'] * len(weekday_daily_volume) + ['Weekend TDV'] * len(weekend_daily_volume) + ['Weekly AWV'] * len(mean_weekly_volume) + ['Annual AADBT'] * len(annual_volume)\n",
    "})\n",
    "\n",
    "\n",
    "# Create the box plot\n",
    "fig = px.box(combined_df, x='Category', y='Value', title='Box Plots of TDV, AWV, and AADBT made with BACC data')\n",
    "fig.show()"
   ]
  },
  {
   "cell_type": "markdown",
   "id": "42195e6c",
   "metadata": {
    "id": "a_ZrQ64i7plQ",
    "papermill": {
     "duration": 0.02554,
     "end_time": "2025-04-08T13:11:43.027239",
     "exception": false,
     "start_time": "2025-04-08T13:11:43.001699",
     "status": "completed"
    },
    "tags": []
   },
   "source": [
    "# Save output"
   ]
  },
  {
   "cell_type": "code",
   "execution_count": 22,
   "id": "84ff82cc",
   "metadata": {
    "execution": {
     "iopub.execute_input": "2025-04-08T13:11:43.081423Z",
     "iopub.status.busy": "2025-04-08T13:11:43.081423Z",
     "iopub.status.idle": "2025-04-08T13:11:44.107705Z",
     "shell.execute_reply": "2025-04-08T13:11:44.107705Z"
    },
    "papermill": {
     "duration": 1.054664,
     "end_time": "2025-04-08T13:11:44.107705",
     "exception": false,
     "start_time": "2025-04-08T13:11:43.053041",
     "status": "completed"
    },
    "tags": []
   },
   "outputs": [],
   "source": [
    "# Save expansion factors separately\n",
    "if SAVE_OUTPUT:\n",
    "    annual_volume.to_parquet(Path(OUTPUT_DATA_PATH) / f\"bacc_aadbt{YEAR}.parquet\")\n",
    "    # Save the figure in OUTPUT_FIGURES_PATH\n",
    "    fig.write_image(Path(OUTPUT_FIGURES_PATH) / \"bacc_aadbt_distribution{YEAR}.png\")\n",
    "\n",
    "\n"
   ]
  }
 ],
 "metadata": {
  "colab": {
   "collapsed_sections": [
    "5bf315c7",
    "eebb1a73",
    "12dd37b6"
   ],
   "provenance": []
  },
  "kernelspec": {
   "display_name": "ridership_model",
   "language": "python",
   "name": "python3"
  },
  "language_info": {
   "codemirror_mode": {
    "name": "ipython",
    "version": 3
   },
   "file_extension": ".py",
   "mimetype": "text/x-python",
   "name": "python",
   "nbconvert_exporter": "python",
   "pygments_lexer": "ipython3",
   "version": "3.11.9"
  },
  "papermill": {
   "default_parameters": {},
   "duration": 11.095301,
   "end_time": "2025-04-08T13:11:44.805478",
   "environment_variables": {},
   "exception": null,
   "input_path": "015-luca_expansion_factors_application-bacc.ipynb",
   "output_path": "015-luca_expansion_factors_application-bacc.ipynb",
   "parameters": {
    "SAVE_OUTPUT": true,
    "YEAR": 2024
   },
   "start_time": "2025-04-08T13:11:33.710177",
   "version": "2.6.0"
  }
 },
 "nbformat": 4,
 "nbformat_minor": 5
}