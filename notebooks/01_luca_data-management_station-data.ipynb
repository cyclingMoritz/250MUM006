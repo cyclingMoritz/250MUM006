{
 "cells": [
  {
   "cell_type": "markdown",
   "id": "cbbb44cd",
   "metadata": {
    "id": "rP8SuqILhaPo",
    "papermill": {
     "duration": 0.005322,
     "end_time": "2024-10-20T10:17:11.944270",
     "exception": false,
     "start_time": "2024-10-20T10:17:11.938948",
     "status": "completed"
    },
    "tags": []
   },
   "source": [
    "## Config"
   ]
  },
  {
   "cell_type": "code",
   "execution_count": 1,
   "id": "57c27fa6",
   "metadata": {
    "execution": {
     "iopub.execute_input": "2024-10-20T10:17:11.956529Z",
     "iopub.status.busy": "2024-10-20T10:17:11.956529Z",
     "iopub.status.idle": "2024-10-20T10:17:11.965289Z",
     "shell.execute_reply": "2024-10-20T10:17:11.965289Z"
    },
    "id": "I_hrwU9x479z",
    "papermill": {
     "duration": 0.020244,
     "end_time": "2024-10-20T10:17:11.968775",
     "exception": false,
     "start_time": "2024-10-20T10:17:11.948531",
     "status": "completed"
    },
    "tags": [
     "parameters"
    ]
   },
   "outputs": [],
   "source": [
    "# parameters\n",
    "SAVE_OUTPUT = True\n",
    "SIZE_PLOTS = (12,10)\n",
    "YEAR = 2017\n",
    "\n",
    "#Location of the data\n",
    "INPUT_DATA_PATH = \"../data/raw/\"\n",
    "INPUT_PROCESSED_DATA_PATH = \"../data/processed/\"\n",
    "OUTPUT_DATA_PATH = \"../data/interim/\""
   ]
  },
  {
   "cell_type": "code",
   "execution_count": 2,
   "id": "bb2494aa",
   "metadata": {
    "execution": {
     "iopub.execute_input": "2024-10-20T10:17:11.979977Z",
     "iopub.status.busy": "2024-10-20T10:17:11.978964Z",
     "iopub.status.idle": "2024-10-20T10:17:11.982800Z",
     "shell.execute_reply": "2024-10-20T10:17:11.982800Z"
    },
    "papermill": {
     "duration": 0.012773,
     "end_time": "2024-10-20T10:17:11.985823",
     "exception": false,
     "start_time": "2024-10-20T10:17:11.973050",
     "status": "completed"
    },
    "tags": [
     "injected-parameters"
    ]
   },
   "outputs": [],
   "source": [
    "# Parameters\n",
    "YEAR = 2023\n",
    "SAVE_OUTPUT = True\n"
   ]
  },
  {
   "cell_type": "code",
   "execution_count": 3,
   "id": "1ccabef0",
   "metadata": {
    "execution": {
     "iopub.execute_input": "2024-10-20T10:17:11.996015Z",
     "iopub.status.busy": "2024-10-20T10:17:11.996015Z",
     "iopub.status.idle": "2024-10-20T10:17:12.789891Z",
     "shell.execute_reply": "2024-10-20T10:17:12.789891Z"
    },
    "id": "HnDB36CLTIxL",
    "papermill": {
     "duration": 0.802974,
     "end_time": "2024-10-20T10:17:12.792989",
     "exception": false,
     "start_time": "2024-10-20T10:17:11.990015",
     "status": "completed"
    },
    "tags": []
   },
   "outputs": [],
   "source": [
    "import numpy as np\n",
    "import pandas as pd\n",
    "import geopandas as gpd\n",
    "import geoarrow.pandas as _\n",
    "import arrow\n",
    "from pathlib import Path\n",
    "import json\n",
    "import csv"
   ]
  },
  {
   "cell_type": "markdown",
   "id": "40e14a87",
   "metadata": {
    "id": "JMxfkSGDhuDI",
    "papermill": {
     "duration": 0.006306,
     "end_time": "2024-10-20T10:17:12.804862",
     "exception": false,
     "start_time": "2024-10-20T10:17:12.798556",
     "status": "completed"
    },
    "tags": []
   },
   "source": [
    "## Load data"
   ]
  },
  {
   "cell_type": "code",
   "execution_count": 4,
   "id": "6b1c4cd7",
   "metadata": {
    "execution": {
     "iopub.execute_input": "2024-10-20T10:17:12.823617Z",
     "iopub.status.busy": "2024-10-20T10:17:12.822543Z",
     "iopub.status.idle": "2024-10-20T10:17:12.844015Z",
     "shell.execute_reply": "2024-10-20T10:17:12.843165Z"
    },
    "papermill": {
     "duration": 0.032471,
     "end_time": "2024-10-20T10:17:12.846460",
     "exception": false,
     "start_time": "2024-10-20T10:17:12.813989",
     "status": "completed"
    },
    "tags": []
   },
   "outputs": [],
   "source": [
    "df = pd.read_csv(f\"{INPUT_DATA_PATH}/{YEAR}_aforament_descripcio.csv\", sep=\",\", on_bad_lines='skip')\n",
    "stations_data = gpd.GeoDataFrame(df, geometry=gpd.points_from_xy(df.Longitud, df.Latitud))\n",
    "stations_data = stations_data.set_crs(epsg=4326)"
   ]
  },
  {
   "cell_type": "markdown",
   "id": "8150484f",
   "metadata": {
    "id": "ryt3odo6h1W5",
    "papermill": {
     "duration": 0.00533,
     "end_time": "2024-10-20T10:17:12.857729",
     "exception": false,
     "start_time": "2024-10-20T10:17:12.852399",
     "status": "completed"
    },
    "tags": []
   },
   "source": [
    "## Data management"
   ]
  },
  {
   "cell_type": "code",
   "execution_count": 5,
   "id": "0d05c0bc",
   "metadata": {
    "colab": {
     "base_uri": "https://localhost:8080/",
     "height": 429
    },
    "execution": {
     "iopub.execute_input": "2024-10-20T10:17:12.873011Z",
     "iopub.status.busy": "2024-10-20T10:17:12.871617Z",
     "iopub.status.idle": "2024-10-20T10:17:12.897561Z",
     "shell.execute_reply": "2024-10-20T10:17:12.897561Z"
    },
    "id": "F2PgA3ZMryBa",
    "outputId": "2ce67901-0e0d-4949-f411-7732f07e3c38",
    "papermill": {
     "duration": 0.036907,
     "end_time": "2024-10-20T10:17:12.900096",
     "exception": false,
     "start_time": "2024-10-20T10:17:12.863189",
     "status": "completed"
    },
    "tags": []
   },
   "outputs": [
    {
     "name": "stdout",
     "output_type": "stream",
     "text": [
      "(832, 14)\n",
      "Index(['Id_aforament', 'Desc_aforament', 'Codi_tipus_aforament',\n",
      "       'Desc_tipus_aforament', 'Num_carrils', 'Codi_districte', 'Codi_Barri',\n",
      "       'Codi_tipus_equip_mesura', 'Desc_tipus_equip_mesura', 'Longitud',\n",
      "       'Latitud', 'X_ETRS89', 'Y_ETRS89', 'geometry'],\n",
      "      dtype='object')\n"
     ]
    },
    {
     "data": {
      "text/html": [
       "<div>\n",
       "<style scoped>\n",
       "    .dataframe tbody tr th:only-of-type {\n",
       "        vertical-align: middle;\n",
       "    }\n",
       "\n",
       "    .dataframe tbody tr th {\n",
       "        vertical-align: top;\n",
       "    }\n",
       "\n",
       "    .dataframe thead th {\n",
       "        text-align: right;\n",
       "    }\n",
       "</style>\n",
       "<table border=\"1\" class=\"dataframe\">\n",
       "  <thead>\n",
       "    <tr style=\"text-align: right;\">\n",
       "      <th></th>\n",
       "      <th>Id_aforament</th>\n",
       "      <th>Desc_aforament</th>\n",
       "      <th>Codi_tipus_aforament</th>\n",
       "      <th>Desc_tipus_aforament</th>\n",
       "      <th>Num_carrils</th>\n",
       "      <th>Codi_districte</th>\n",
       "      <th>Codi_Barri</th>\n",
       "      <th>Codi_tipus_equip_mesura</th>\n",
       "      <th>Desc_tipus_equip_mesura</th>\n",
       "      <th>Longitud</th>\n",
       "      <th>Latitud</th>\n",
       "      <th>X_ETRS89</th>\n",
       "      <th>Y_ETRS89</th>\n",
       "      <th>geometry</th>\n",
       "    </tr>\n",
       "  </thead>\n",
       "  <tbody>\n",
       "    <tr>\n",
       "      <th>0</th>\n",
       "      <td>10001</td>\n",
       "      <td>ARAGÓ - NAVAS (Llobregat)</td>\n",
       "      <td>1</td>\n",
       "      <td>Trànsit</td>\n",
       "      <td>2</td>\n",
       "      <td>10</td>\n",
       "      <td>65</td>\n",
       "      <td>1</td>\n",
       "      <td>Espira</td>\n",
       "      <td>2.190735</td>\n",
       "      <td>41.411680</td>\n",
       "      <td>432364.559</td>\n",
       "      <td>4584775.026</td>\n",
       "      <td>POINT (2.19074 41.41168)</td>\n",
       "    </tr>\n",
       "    <tr>\n",
       "      <th>1</th>\n",
       "      <td>10002</td>\n",
       "      <td>BAC DE RODA - BOLIVIA (Pujada)</td>\n",
       "      <td>1</td>\n",
       "      <td>Trànsit</td>\n",
       "      <td>3</td>\n",
       "      <td>10</td>\n",
       "      <td>71</td>\n",
       "      <td>1</td>\n",
       "      <td>Espira</td>\n",
       "      <td>2.198983</td>\n",
       "      <td>41.411337</td>\n",
       "      <td>433053.504</td>\n",
       "      <td>4584730.520</td>\n",
       "      <td>POINT (2.19898 41.41134)</td>\n",
       "    </tr>\n",
       "    <tr>\n",
       "      <th>2</th>\n",
       "      <td>10005</td>\n",
       "      <td>ARAGÓ - BILBAO (Besòs)</td>\n",
       "      <td>1</td>\n",
       "      <td>Trànsit</td>\n",
       "      <td>2</td>\n",
       "      <td>10</td>\n",
       "      <td>65</td>\n",
       "      <td>1</td>\n",
       "      <td>Espira</td>\n",
       "      <td>2.191886</td>\n",
       "      <td>41.412286</td>\n",
       "      <td>432461.330</td>\n",
       "      <td>4584841.413</td>\n",
       "      <td>POINT (2.19189 41.41229)</td>\n",
       "    </tr>\n",
       "    <tr>\n",
       "      <th>3</th>\n",
       "      <td>10007</td>\n",
       "      <td>CANTÀBRIA - GUIPÚSCOA (Baixada)</td>\n",
       "      <td>1</td>\n",
       "      <td>Trànsit</td>\n",
       "      <td>2</td>\n",
       "      <td>10</td>\n",
       "      <td>72</td>\n",
       "      <td>1</td>\n",
       "      <td>Espira</td>\n",
       "      <td>2.201899</td>\n",
       "      <td>41.419286</td>\n",
       "      <td>433305.332</td>\n",
       "      <td>4585610.784</td>\n",
       "      <td>POINT (2.20190 41.41929)</td>\n",
       "    </tr>\n",
       "    <tr>\n",
       "      <th>4</th>\n",
       "      <td>10008</td>\n",
       "      <td>CANTÀBRIA - GUIPÚSCOA (Pujada)</td>\n",
       "      <td>1</td>\n",
       "      <td>Trànsit</td>\n",
       "      <td>2</td>\n",
       "      <td>10</td>\n",
       "      <td>72</td>\n",
       "      <td>1</td>\n",
       "      <td>Espira</td>\n",
       "      <td>2.201063</td>\n",
       "      <td>41.420043</td>\n",
       "      <td>433236.312</td>\n",
       "      <td>4585695.525</td>\n",
       "      <td>POINT (2.20106 41.42004)</td>\n",
       "    </tr>\n",
       "  </tbody>\n",
       "</table>\n",
       "</div>"
      ],
      "text/plain": [
       "  Id_aforament                   Desc_aforament  Codi_tipus_aforament  \\\n",
       "0        10001        ARAGÓ - NAVAS (Llobregat)                     1   \n",
       "1        10002   BAC DE RODA - BOLIVIA (Pujada)                     1   \n",
       "2        10005           ARAGÓ - BILBAO (Besòs)                     1   \n",
       "3        10007  CANTÀBRIA - GUIPÚSCOA (Baixada)                     1   \n",
       "4        10008   CANTÀBRIA - GUIPÚSCOA (Pujada)                     1   \n",
       "\n",
       "  Desc_tipus_aforament  Num_carrils  Codi_districte  Codi_Barri  \\\n",
       "0              Trànsit            2              10          65   \n",
       "1              Trànsit            3              10          71   \n",
       "2              Trànsit            2              10          65   \n",
       "3              Trànsit            2              10          72   \n",
       "4              Trànsit            2              10          72   \n",
       "\n",
       "   Codi_tipus_equip_mesura Desc_tipus_equip_mesura  Longitud    Latitud  \\\n",
       "0                        1                  Espira  2.190735  41.411680   \n",
       "1                        1                  Espira  2.198983  41.411337   \n",
       "2                        1                  Espira  2.191886  41.412286   \n",
       "3                        1                  Espira  2.201899  41.419286   \n",
       "4                        1                  Espira  2.201063  41.420043   \n",
       "\n",
       "     X_ETRS89     Y_ETRS89                  geometry  \n",
       "0  432364.559  4584775.026  POINT (2.19074 41.41168)  \n",
       "1  433053.504  4584730.520  POINT (2.19898 41.41134)  \n",
       "2  432461.330  4584841.413  POINT (2.19189 41.41229)  \n",
       "3  433305.332  4585610.784  POINT (2.20190 41.41929)  \n",
       "4  433236.312  4585695.525  POINT (2.20106 41.42004)  "
      ]
     },
     "execution_count": 5,
     "metadata": {},
     "output_type": "execute_result"
    }
   ],
   "source": [
    "print(stations_data.shape)\n",
    "print(stations_data.columns)\n",
    "stations_data.head()"
   ]
  },
  {
   "cell_type": "code",
   "execution_count": 6,
   "id": "dda534c5",
   "metadata": {
    "execution": {
     "iopub.execute_input": "2024-10-20T10:17:12.916405Z",
     "iopub.status.busy": "2024-10-20T10:17:12.915158Z",
     "iopub.status.idle": "2024-10-20T10:17:12.923985Z",
     "shell.execute_reply": "2024-10-20T10:17:12.923350Z"
    },
    "papermill": {
     "duration": 0.021566,
     "end_time": "2024-10-20T10:17:12.926210",
     "exception": false,
     "start_time": "2024-10-20T10:17:12.904644",
     "status": "completed"
    },
    "tags": []
   },
   "outputs": [
    {
     "data": {
      "text/plain": [
       "Id_aforament                 object\n",
       "Desc_aforament               object\n",
       "Codi_tipus_aforament          int64\n",
       "Desc_tipus_aforament         object\n",
       "Num_carrils                   int64\n",
       "Codi_districte                int64\n",
       "Codi_Barri                    int64\n",
       "Codi_tipus_equip_mesura       int64\n",
       "Desc_tipus_equip_mesura      object\n",
       "Longitud                    float64\n",
       "Latitud                     float64\n",
       "X_ETRS89                    float64\n",
       "Y_ETRS89                    float64\n",
       "geometry                   geometry\n",
       "dtype: object"
      ]
     },
     "execution_count": 6,
     "metadata": {},
     "output_type": "execute_result"
    }
   ],
   "source": [
    "stations_data.dtypes"
   ]
  },
  {
   "cell_type": "markdown",
   "id": "64ba51a7",
   "metadata": {
    "papermill": {
     "duration": 0.005966,
     "end_time": "2024-10-20T10:17:12.937898",
     "exception": false,
     "start_time": "2024-10-20T10:17:12.931932",
     "status": "completed"
    },
    "tags": []
   },
   "source": [
    "## Select Bicycle Counters"
   ]
  },
  {
   "cell_type": "code",
   "execution_count": 7,
   "id": "9639984c",
   "metadata": {
    "execution": {
     "iopub.execute_input": "2024-10-20T10:17:12.949944Z",
     "iopub.status.busy": "2024-10-20T10:17:12.949944Z",
     "iopub.status.idle": "2024-10-20T10:17:12.958757Z",
     "shell.execute_reply": "2024-10-20T10:17:12.957900Z"
    },
    "papermill": {
     "duration": 0.018579,
     "end_time": "2024-10-20T10:17:12.960793",
     "exception": false,
     "start_time": "2024-10-20T10:17:12.942214",
     "status": "completed"
    },
    "tags": []
   },
   "outputs": [
    {
     "data": {
      "text/plain": [
       "Desc_tipus_aforament\n",
       "Trànsit    399\n",
       "Bicis      371\n",
       "Rondes      62\n",
       "Name: count, dtype: int64"
      ]
     },
     "execution_count": 7,
     "metadata": {},
     "output_type": "execute_result"
    }
   ],
   "source": [
    "stations_data[\"Desc_tipus_aforament\"].value_counts(dropna=False)"
   ]
  },
  {
   "cell_type": "code",
   "execution_count": 8,
   "id": "c766e185",
   "metadata": {
    "execution": {
     "iopub.execute_input": "2024-10-20T10:17:12.972120Z",
     "iopub.status.busy": "2024-10-20T10:17:12.972120Z",
     "iopub.status.idle": "2024-10-20T10:17:12.984928Z",
     "shell.execute_reply": "2024-10-20T10:17:12.984928Z"
    },
    "papermill": {
     "duration": 0.020101,
     "end_time": "2024-10-20T10:17:12.987486",
     "exception": false,
     "start_time": "2024-10-20T10:17:12.967385",
     "status": "completed"
    },
    "tags": []
   },
   "outputs": [],
   "source": [
    "if YEAR != 2017:\n",
    "    bike_stations_data=stations_data[stations_data[\"Desc_tipus_aforament\"]==\"Bicis\"].copy()\n",
    "else:\n",
    "    bike_stations_data=stations_data[stations_data[\"Desc_tipus_aforament\"]==\"bicis\"].copy()"
   ]
  },
  {
   "cell_type": "code",
   "execution_count": 9,
   "id": "a4b6560f",
   "metadata": {
    "execution": {
     "iopub.execute_input": "2024-10-20T10:17:13.000441Z",
     "iopub.status.busy": "2024-10-20T10:17:12.998929Z",
     "iopub.status.idle": "2024-10-20T10:17:13.016591Z",
     "shell.execute_reply": "2024-10-20T10:17:13.016591Z"
    },
    "papermill": {
     "duration": 0.025567,
     "end_time": "2024-10-20T10:17:13.018482",
     "exception": false,
     "start_time": "2024-10-20T10:17:12.992915",
     "status": "completed"
    },
    "tags": []
   },
   "outputs": [
    {
     "data": {
      "text/html": [
       "<div>\n",
       "<style scoped>\n",
       "    .dataframe tbody tr th:only-of-type {\n",
       "        vertical-align: middle;\n",
       "    }\n",
       "\n",
       "    .dataframe tbody tr th {\n",
       "        vertical-align: top;\n",
       "    }\n",
       "\n",
       "    .dataframe thead th {\n",
       "        text-align: right;\n",
       "    }\n",
       "</style>\n",
       "<table border=\"1\" class=\"dataframe\">\n",
       "  <thead>\n",
       "    <tr style=\"text-align: right;\">\n",
       "      <th></th>\n",
       "      <th>Id_aforament</th>\n",
       "      <th>Desc_aforament</th>\n",
       "      <th>Num_carrils</th>\n",
       "      <th>Codi_districte</th>\n",
       "      <th>Codi_Barri</th>\n",
       "      <th>Codi_tipus_equip_mesura</th>\n",
       "      <th>Desc_tipus_equip_mesura</th>\n",
       "      <th>geometry</th>\n",
       "    </tr>\n",
       "  </thead>\n",
       "  <tbody>\n",
       "    <tr>\n",
       "      <th>399</th>\n",
       "      <td>20001</td>\n",
       "      <td>DIPUTACIÓ - COMTE D'URGELL (carril BICI)</td>\n",
       "      <td>1</td>\n",
       "      <td>2</td>\n",
       "      <td>8</td>\n",
       "      <td>1</td>\n",
       "      <td>Espira</td>\n",
       "      <td>POINT (2.15709 41.38300)</td>\n",
       "    </tr>\n",
       "    <tr>\n",
       "      <th>400</th>\n",
       "      <td>20002</td>\n",
       "      <td>DIPUTACIÓ - COMTE BORELL (carrril BICI)</td>\n",
       "      <td>1</td>\n",
       "      <td>2</td>\n",
       "      <td>9</td>\n",
       "      <td>1</td>\n",
       "      <td>Espira</td>\n",
       "      <td>POINT (2.15709 41.38300)</td>\n",
       "    </tr>\n",
       "    <tr>\n",
       "      <th>401</th>\n",
       "      <td>20003</td>\n",
       "      <td>GRAN VIA DE LES CORTS CATALANES - MUNTANER (ca...</td>\n",
       "      <td>1</td>\n",
       "      <td>2</td>\n",
       "      <td>10</td>\n",
       "      <td>1</td>\n",
       "      <td>Espira</td>\n",
       "      <td>POINT (2.16165 41.38459)</td>\n",
       "    </tr>\n",
       "    <tr>\n",
       "      <th>402</th>\n",
       "      <td>20005</td>\n",
       "      <td>MUNTANER - GRAN VIA DE LES CORTS CATALANES (ca...</td>\n",
       "      <td>1</td>\n",
       "      <td>2</td>\n",
       "      <td>10</td>\n",
       "      <td>1</td>\n",
       "      <td>Espira</td>\n",
       "      <td>POINT (2.16310 41.38388)</td>\n",
       "    </tr>\n",
       "    <tr>\n",
       "      <th>403</th>\n",
       "      <td>20006</td>\n",
       "      <td>MUNTANER - SEPULVEDA (carril BICI sentit munta...</td>\n",
       "      <td>1</td>\n",
       "      <td>2</td>\n",
       "      <td>10</td>\n",
       "      <td>1</td>\n",
       "      <td>Espira</td>\n",
       "      <td>POINT (2.16313 41.38388)</td>\n",
       "    </tr>\n",
       "  </tbody>\n",
       "</table>\n",
       "</div>"
      ],
      "text/plain": [
       "    Id_aforament                                     Desc_aforament  \\\n",
       "399        20001           DIPUTACIÓ - COMTE D'URGELL (carril BICI)   \n",
       "400        20002            DIPUTACIÓ - COMTE BORELL (carrril BICI)   \n",
       "401        20003  GRAN VIA DE LES CORTS CATALANES - MUNTANER (ca...   \n",
       "402        20005  MUNTANER - GRAN VIA DE LES CORTS CATALANES (ca...   \n",
       "403        20006  MUNTANER - SEPULVEDA (carril BICI sentit munta...   \n",
       "\n",
       "     Num_carrils  Codi_districte  Codi_Barri  Codi_tipus_equip_mesura  \\\n",
       "399            1               2           8                        1   \n",
       "400            1               2           9                        1   \n",
       "401            1               2          10                        1   \n",
       "402            1               2          10                        1   \n",
       "403            1               2          10                        1   \n",
       "\n",
       "    Desc_tipus_equip_mesura                  geometry  \n",
       "399                  Espira  POINT (2.15709 41.38300)  \n",
       "400                  Espira  POINT (2.15709 41.38300)  \n",
       "401                  Espira  POINT (2.16165 41.38459)  \n",
       "402                  Espira  POINT (2.16310 41.38388)  \n",
       "403                  Espira  POINT (2.16313 41.38388)  "
      ]
     },
     "execution_count": 9,
     "metadata": {},
     "output_type": "execute_result"
    }
   ],
   "source": [
    "bike_stations_data_clean=bike_stations_data.drop(columns=['Longitud', 'Latitud', 'X_ETRS89', 'Y_ETRS89','Codi_tipus_aforament','Desc_tipus_aforament']).copy()\n",
    "bike_stations_data_clean.head()\n"
   ]
  },
  {
   "cell_type": "markdown",
   "id": "bc319ca2",
   "metadata": {
    "id": "a_ZrQ64i7plQ",
    "papermill": {
     "duration": 0.005763,
     "end_time": "2024-10-20T10:17:13.030317",
     "exception": false,
     "start_time": "2024-10-20T10:17:13.024554",
     "status": "completed"
    },
    "tags": []
   },
   "source": [
    "## Save output"
   ]
  },
  {
   "cell_type": "code",
   "execution_count": 10,
   "id": "561aa549",
   "metadata": {
    "execution": {
     "iopub.execute_input": "2024-10-20T10:17:13.047048Z",
     "iopub.status.busy": "2024-10-20T10:17:13.047048Z",
     "iopub.status.idle": "2024-10-20T10:17:13.074808Z",
     "shell.execute_reply": "2024-10-20T10:17:13.074808Z"
    },
    "id": "6bj2-CeR7owh",
    "papermill": {
     "duration": 0.038191,
     "end_time": "2024-10-20T10:17:13.077305",
     "exception": false,
     "start_time": "2024-10-20T10:17:13.039114",
     "status": "completed"
    },
    "tags": []
   },
   "outputs": [],
   "source": [
    "if SAVE_OUTPUT:\n",
    "    bike_stations_data_clean.to_parquet(f'{OUTPUT_DATA_PATH}/stations_data{YEAR}.parquet')"
   ]
  },
  {
   "cell_type": "code",
   "execution_count": 11,
   "id": "a901a00d",
   "metadata": {
    "execution": {
     "iopub.execute_input": "2024-10-20T10:17:13.091883Z",
     "iopub.status.busy": "2024-10-20T10:17:13.091883Z",
     "iopub.status.idle": "2024-10-20T10:17:13.100460Z",
     "shell.execute_reply": "2024-10-20T10:17:13.100460Z"
    },
    "papermill": {
     "duration": 0.015582,
     "end_time": "2024-10-20T10:17:13.100460",
     "exception": false,
     "start_time": "2024-10-20T10:17:13.084878",
     "status": "completed"
    },
    "tags": []
   },
   "outputs": [],
   "source": [
    "# Define the new row data\n",
    "new_row = {\n",
    "    'Year': YEAR,\n",
    "    'Columns': stations_data.shape[1],\n",
    "    'Counters': stations_data.shape[0],\n",
    "    'Bike Counters': bike_stations_data.shape[0],\n",
    "    'Car Counters': stations_data.shape[0]-bike_stations_data.shape[0]\n",
    "}\n",
    "\n",
    "# Convert the new row data to a DataFrame\n",
    "new_row_df = pd.DataFrame([new_row])\n",
    "\n",
    "# Define the path to the CSV file\n",
    "csv_file_path = f\"{INPUT_PROCESSED_DATA_PATH}/log_stations.csv\"\n",
    "\n",
    "# Check if the CSV file exists\n",
    "if Path(csv_file_path).is_file():\n",
    "    # If the file exists, append the new row\n",
    "    new_row_df.to_csv(csv_file_path, mode='a', header=False, index=False)\n",
    "else:\n",
    "    # If the file does not exist, create it with the new row\n",
    "    new_row_df.to_csv(csv_file_path, mode='w', header=True, index=False)"
   ]
  },
  {
   "cell_type": "markdown",
   "id": "845f655e",
   "metadata": {
    "id": "xT_uQYZSbEty",
    "papermill": {
     "duration": 0.007998,
     "end_time": "2024-10-20T10:17:13.116565",
     "exception": false,
     "start_time": "2024-10-20T10:17:13.108567",
     "status": "completed"
    },
    "tags": []
   },
   "source": [
    "## Watermark"
   ]
  },
  {
   "cell_type": "code",
   "execution_count": 12,
   "id": "639fa1cd",
   "metadata": {
    "execution": {
     "iopub.execute_input": "2024-10-20T10:17:13.129058Z",
     "iopub.status.busy": "2024-10-20T10:17:13.129058Z",
     "iopub.status.idle": "2024-10-20T10:17:16.291954Z",
     "shell.execute_reply": "2024-10-20T10:17:16.291954Z"
    },
    "id": "iY8ZyfnAbFoO",
    "papermill": {
     "duration": 3.171414,
     "end_time": "2024-10-20T10:17:16.293964",
     "exception": false,
     "start_time": "2024-10-20T10:17:13.122550",
     "status": "completed"
    },
    "tags": []
   },
   "outputs": [],
   "source": [
    "!python -m pip install watermark --quiet"
   ]
  },
  {
   "cell_type": "code",
   "execution_count": 13,
   "id": "1151b699",
   "metadata": {
    "execution": {
     "iopub.execute_input": "2024-10-20T10:17:16.307786Z",
     "iopub.status.busy": "2024-10-20T10:17:16.307786Z",
     "iopub.status.idle": "2024-10-20T10:17:16.331437Z",
     "shell.execute_reply": "2024-10-20T10:17:16.331437Z"
    },
    "id": "Cd2yG3BgbGE3",
    "papermill": {
     "duration": 0.033526,
     "end_time": "2024-10-20T10:17:16.333811",
     "exception": false,
     "start_time": "2024-10-20T10:17:16.300285",
     "status": "completed"
    },
    "tags": []
   },
   "outputs": [],
   "source": [
    "%load_ext watermark"
   ]
  },
  {
   "cell_type": "code",
   "execution_count": 14,
   "id": "ddf27bdc",
   "metadata": {
    "colab": {
     "base_uri": "https://localhost:8080/"
    },
    "execution": {
     "iopub.execute_input": "2024-10-20T10:17:16.346515Z",
     "iopub.status.busy": "2024-10-20T10:17:16.345514Z",
     "iopub.status.idle": "2024-10-20T10:17:16.350088Z",
     "shell.execute_reply": "2024-10-20T10:17:16.350088Z"
    },
    "id": "Ef6VBO1QbI-_",
    "outputId": "9551ad1c-634d-4484-dc4a-f6a971884ccc",
    "papermill": {
     "duration": 0.012776,
     "end_time": "2024-10-20T10:17:16.352098",
     "exception": false,
     "start_time": "2024-10-20T10:17:16.339322",
     "status": "completed"
    },
    "tags": []
   },
   "outputs": [
    {
     "name": "stdout",
     "output_type": "stream",
     "text": [
      "Last updated: 2024-10-20T12:17:16.347512+02:00\n",
      "\n",
      "Python implementation: CPython\n",
      "Python version       : 3.11.9\n",
      "IPython version      : 8.25.0\n",
      "\n",
      "Compiler    : MSC v.1938 64 bit (AMD64)\n",
      "OS          : Windows\n",
      "Release     : 10\n",
      "Machine     : AMD64\n",
      "Processor   : AMD64 Family 25 Model 68 Stepping 1, AuthenticAMD\n",
      "CPU cores   : 16\n",
      "Architecture: 64bit\n",
      "\n"
     ]
    }
   ],
   "source": [
    "%watermark"
   ]
  },
  {
   "cell_type": "code",
   "execution_count": 15,
   "id": "84426b05",
   "metadata": {
    "colab": {
     "base_uri": "https://localhost:8080/"
    },
    "execution": {
     "iopub.execute_input": "2024-10-20T10:17:16.366826Z",
     "iopub.status.busy": "2024-10-20T10:17:16.365831Z",
     "iopub.status.idle": "2024-10-20T10:17:16.380504Z",
     "shell.execute_reply": "2024-10-20T10:17:16.380504Z"
    },
    "id": "EW9nOXoNbKrP",
    "outputId": "b68ae236-6367-4c9a-b720-5978d2bbcbf4",
    "papermill": {
     "duration": 0.026196,
     "end_time": "2024-10-20T10:17:16.383615",
     "exception": false,
     "start_time": "2024-10-20T10:17:16.357419",
     "status": "completed"
    },
    "tags": []
   },
   "outputs": [
    {
     "name": "stdout",
     "output_type": "stream",
     "text": [
      "json     : 2.0.9\n",
      "numpy    : 1.24.4\n",
      "arrow    : 1.3.0\n",
      "pandas   : 2.0.3\n",
      "csv      : 1.0\n",
      "geopandas: 0.13.2\n",
      "\n"
     ]
    }
   ],
   "source": [
    "%watermark --iversions"
   ]
  },
  {
   "cell_type": "code",
   "execution_count": 16,
   "id": "23c6b31d",
   "metadata": {
    "colab": {
     "base_uri": "https://localhost:8080/"
    },
    "execution": {
     "iopub.execute_input": "2024-10-20T10:17:16.396354Z",
     "iopub.status.busy": "2024-10-20T10:17:16.395334Z",
     "iopub.status.idle": "2024-10-20T10:17:16.429360Z",
     "shell.execute_reply": "2024-10-20T10:17:16.429360Z"
    },
    "id": "2LOCLnX0bMxt",
    "outputId": "e68400d8-8277-4988-d42c-15e02490cce1",
    "papermill": {
     "duration": 0.042541,
     "end_time": "2024-10-20T10:17:16.431366",
     "exception": false,
     "start_time": "2024-10-20T10:17:16.388825",
     "status": "completed"
    },
    "tags": []
   },
   "outputs": [
    {
     "name": "stderr",
     "output_type": "stream",
     "text": [
      "\"lsb_release\" no se reconoce como un comando interno o externo,\n",
      "programa o archivo por lotes ejecutable.\n"
     ]
    }
   ],
   "source": [
    "!lsb_release -a"
   ]
  }
 ],
 "metadata": {
  "colab": {
   "provenance": [],
   "toc_visible": true
  },
  "kernelspec": {
   "display_name": "ridership_model",
   "language": "python",
   "name": "python3"
  },
  "language_info": {
   "codemirror_mode": {
    "name": "ipython",
    "version": 3
   },
   "file_extension": ".py",
   "mimetype": "text/x-python",
   "name": "python",
   "nbconvert_exporter": "python",
   "pygments_lexer": "ipython3",
   "version": "3.11.9"
  },
  "papermill": {
   "default_parameters": {},
   "duration": 6.206936,
   "end_time": "2024-10-20T10:17:16.770521",
   "environment_variables": {},
   "exception": null,
   "input_path": "01_luca_data-management_station-data.ipynb",
   "output_path": "01_luca_data-management_station-data.ipynb",
   "parameters": {
    "SAVE_OUTPUT": true,
    "YEAR": 2023
   },
   "start_time": "2024-10-20T10:17:10.563585",
   "version": "2.6.0"
  }
 },
 "nbformat": 4,
 "nbformat_minor": 5
}