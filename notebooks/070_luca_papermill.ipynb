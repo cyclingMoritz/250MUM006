{
 "cells": [
  {
   "cell_type": "markdown",
   "metadata": {
    "id": "rP8SuqILhaPo"
   },
   "source": [
    "## Config"
   ]
  },
  {
   "cell_type": "code",
   "execution_count": 4,
   "metadata": {
    "id": "I_hrwU9x479z"
   },
   "outputs": [],
   "source": [
    "# parameters\n",
    "SAVE_OUTPUT = True\n",
    "SIZE_PLOTS = (30,30)\n",
    "YEARS = [2024]#[2017, 2018, 2019, 2020,2021,2022,2023,2024]\n",
    "\n",
    "#Location of the data\n",
    "INPUT_DATA_PATH = \"../data/raw/\"\n",
    "OUTPUT_DATA_PATH = \"../data/interim/\""
   ]
  },
  {
   "cell_type": "code",
   "execution_count": 2,
   "metadata": {
    "id": "HnDB36CLTIxL"
   },
   "outputs": [],
   "source": [
    "import numpy as np\n",
    "import pandas as pd\n",
    "import geopandas as gpd\n",
    "import papermill as pm\n",
    "\n",
    "import matplotlib.pyplot as plt\n",
    "import seaborn as sns\n",
    "from pathlib import Path\n",
    "import warnings\n",
    "warnings.filterwarnings('ignore', category=FutureWarning)"
   ]
  },
  {
   "cell_type": "markdown",
   "metadata": {
    "id": "ryt3odo6h1W5"
   },
   "source": [
    "# Execute notebooks"
   ]
  },
  {
   "cell_type": "markdown",
   "metadata": {},
   "source": [
    "## 1. Get data as geoparquet"
   ]
  },
  {
   "cell_type": "markdown",
   "metadata": {},
   "source": [
    "### 1.1 Store station data as parquet"
   ]
  },
  {
   "cell_type": "code",
   "execution_count": 6,
   "metadata": {
    "colab": {
     "base_uri": "https://localhost:8080/",
     "height": 429
    },
    "id": "F2PgA3ZMryBa",
    "outputId": "2ce67901-0e0d-4949-f411-7732f07e3c38"
   },
   "outputs": [
    {
     "data": {
      "application/vnd.jupyter.widget-view+json": {
       "model_id": "8a1c2492378a4471974296bd12737bdb",
       "version_major": 2,
       "version_minor": 0
      },
      "text/plain": [
       "Executing:   0%|          | 0/22 [00:00<?, ?cell/s]"
      ]
     },
     "metadata": {},
     "output_type": "display_data"
    }
   ],
   "source": [
    "for year in YEARS:\n",
    "    pm.execute_notebook(\n",
    "       '011-luca_data-management_station-data.ipynb',\n",
    "       '011-luca_data-management_station-data.ipynb',\n",
    "       parameters=dict(YEAR=year, SAVE_OUTPUT=True)\n",
    "    )\n"
   ]
  },
  {
   "cell_type": "markdown",
   "metadata": {},
   "source": [
    "### 1.2  Store counters data as parquet"
   ]
  },
  {
   "cell_type": "code",
   "execution_count": 7,
   "metadata": {},
   "outputs": [
    {
     "data": {
      "application/vnd.jupyter.widget-view+json": {
       "model_id": "e394a130eed04c44979b5abd1b082575",
       "version_major": 2,
       "version_minor": 0
      },
      "text/plain": [
       "Executing:   0%|          | 0/45 [00:00<?, ?cell/s]"
      ]
     },
     "metadata": {},
     "output_type": "display_data"
    }
   ],
   "source": [
    "for year in YEARS:\n",
    "    pm.execute_notebook(\n",
    "       '011-luca_data-management_counters-data.ipynb',\n",
    "       '011-luca_data-management_counters-data.ipynb',\n",
    "       parameters=dict(YEAR=year, SAVE_OUTPUT=True)\n",
    "    )"
   ]
  },
  {
   "cell_type": "markdown",
   "metadata": {},
   "source": [
    "## 2. Clean data"
   ]
  },
  {
   "cell_type": "markdown",
   "metadata": {},
   "source": [
    "### 2.1 Remove observations where the error is not 0"
   ]
  },
  {
   "cell_type": "code",
   "execution_count": 9,
   "metadata": {},
   "outputs": [
    {
     "data": {
      "application/vnd.jupyter.widget-view+json": {
       "model_id": "968d392d17e8416cb9c8bb37167da2bb",
       "version_major": 2,
       "version_minor": 0
      },
      "text/plain": [
       "Executing:   0%|          | 0/38 [00:00<?, ?cell/s]"
      ]
     },
     "metadata": {},
     "output_type": "display_data"
    },
    {
     "ename": "PapermillExecutionError",
     "evalue": "\n---------------------------------------------------------------------------\nException encountered at \"In [22]\":\n---------------------------------------------------------------------------\nKeyError                                  Traceback (most recent call last)\nCell In[22], line 1\n----> 1 stations_data_clean=counters_data_clean[['Id_aforament','Desc_aforament', 'Num_carrils', 'Codi_districte', 'Codi_barri',\n      2        'Codi_tipus_equip_mesura', 'Desc_tipus_equip_mesura', 'geometry']]\n      3 stations_data_clean=stations_data_clean.drop_duplicates()\n      4 print(stations_data_clean.shape)\n\nFile ~\\anaconda3\\envs\\ridership_model\\Lib\\site-packages\\geopandas\\geodataframe.py:1475, in GeoDataFrame.__getitem__(self, key)\n   1469 def __getitem__(self, key):\n   1470     \"\"\"\n   1471     If the result is a column containing only 'geometry', return a\n   1472     GeoSeries. If it's a DataFrame with any columns of GeometryDtype,\n   1473     return a GeoDataFrame.\n   1474     \"\"\"\n-> 1475     result = super().__getitem__(key)\n   1476     # Custom logic to avoid waiting for pandas GH51895\n   1477     # result is not geometry dtype for multi-indexes\n   1478     if (\n   1479         pd.api.types.is_scalar(key)\n   1480         and key == \"\"\n   (...)\n   1483         and not is_geometry_type(result)\n   1484     ):\n\nFile ~\\anaconda3\\envs\\ridership_model\\Lib\\site-packages\\pandas\\core\\frame.py:3767, in DataFrame.__getitem__(self, key)\n   3765     if is_iterator(key):\n   3766         key = list(key)\n-> 3767     indexer = self.columns._get_indexer_strict(key, \"columns\")[1]\n   3769 # take() does not accept boolean indexers\n   3770 if getattr(indexer, \"dtype\", None) == bool:\n\nFile ~\\anaconda3\\envs\\ridership_model\\Lib\\site-packages\\pandas\\core\\indexes\\base.py:5877, in Index._get_indexer_strict(self, key, axis_name)\n   5874 else:\n   5875     keyarr, indexer, new_indexer = self._reindex_non_unique(keyarr)\n-> 5877 self._raise_if_missing(keyarr, indexer, axis_name)\n   5879 keyarr = self.take(indexer)\n   5880 if isinstance(key, Index):\n   5881     # GH 42790 - Preserve name from an Index\n\nFile ~\\anaconda3\\envs\\ridership_model\\Lib\\site-packages\\pandas\\core\\indexes\\base.py:5941, in Index._raise_if_missing(self, key, indexer, axis_name)\n   5938     raise KeyError(f\"None of [{key}] are in the [{axis_name}]\")\n   5940 not_found = list(ensure_index(key)[missing_mask.nonzero()[0]].unique())\n-> 5941 raise KeyError(f\"{not_found} not in index\")\n\nKeyError: \"['Codi_barri'] not in index\"\n",
     "output_type": "error",
     "traceback": [
      "\u001b[1;31m---------------------------------------------------------------------------\u001b[0m",
      "\u001b[1;31mPapermillExecutionError\u001b[0m                   Traceback (most recent call last)",
      "Cell \u001b[1;32mIn[9], line 1\u001b[0m\n\u001b[1;32m----> 1\u001b[0m \u001b[43mpm\u001b[49m\u001b[38;5;241;43m.\u001b[39;49m\u001b[43mexecute_notebook\u001b[49m\u001b[43m(\u001b[49m\n\u001b[0;32m      2\u001b[0m \u001b[43m    \u001b[49m\u001b[38;5;124;43m'\u001b[39;49m\u001b[38;5;124;43m012-luca_data-cleaning_counters.ipynb\u001b[39;49m\u001b[38;5;124;43m'\u001b[39;49m\u001b[43m,\u001b[49m\n\u001b[0;32m      3\u001b[0m \u001b[43m    \u001b[49m\u001b[38;5;124;43m'\u001b[39;49m\u001b[38;5;124;43m012-luca_data-cleaning_counters.ipynb\u001b[39;49m\u001b[38;5;124;43m'\u001b[39;49m\u001b[43m,\u001b[49m\n\u001b[0;32m      4\u001b[0m \u001b[43m    \u001b[49m\u001b[43mparameters\u001b[49m\u001b[38;5;241;43m=\u001b[39;49m\u001b[38;5;28;43mdict\u001b[39;49m\u001b[43m(\u001b[49m\u001b[43mYEARS\u001b[49m\u001b[38;5;241;43m=\u001b[39;49m\u001b[43mYEARS\u001b[49m\u001b[43m,\u001b[49m\u001b[43m \u001b[49m\u001b[43mSAVE_OUTPUT\u001b[49m\u001b[38;5;241;43m=\u001b[39;49m\u001b[38;5;28;43;01mTrue\u001b[39;49;00m\u001b[43m)\u001b[49m\n\u001b[0;32m      5\u001b[0m \u001b[43m)\u001b[49m\n",
      "File \u001b[1;32mc:\\Users\\lucal\\anaconda3\\envs\\ridership_model\\Lib\\site-packages\\papermill\\execute.py:131\u001b[0m, in \u001b[0;36mexecute_notebook\u001b[1;34m(input_path, output_path, parameters, engine_name, request_save_on_cell_execute, prepare_only, kernel_name, language, progress_bar, log_output, stdout_file, stderr_file, start_timeout, report_mode, cwd, **engine_kwargs)\u001b[0m\n\u001b[0;32m    116\u001b[0m         nb \u001b[38;5;241m=\u001b[39m papermill_engines\u001b[38;5;241m.\u001b[39mexecute_notebook_with_engine(\n\u001b[0;32m    117\u001b[0m             engine_name,\n\u001b[0;32m    118\u001b[0m             nb,\n\u001b[1;32m   (...)\u001b[0m\n\u001b[0;32m    127\u001b[0m             \u001b[38;5;241m*\u001b[39m\u001b[38;5;241m*\u001b[39mengine_kwargs,\n\u001b[0;32m    128\u001b[0m         )\n\u001b[0;32m    130\u001b[0m     \u001b[38;5;66;03m# Check for errors first (it saves on error before raising)\u001b[39;00m\n\u001b[1;32m--> 131\u001b[0m     \u001b[43mraise_for_execution_errors\u001b[49m\u001b[43m(\u001b[49m\u001b[43mnb\u001b[49m\u001b[43m,\u001b[49m\u001b[43m \u001b[49m\u001b[43moutput_path\u001b[49m\u001b[43m)\u001b[49m\n\u001b[0;32m    133\u001b[0m \u001b[38;5;66;03m# Write final output in case the engine didn't write it on cell completion.\u001b[39;00m\n\u001b[0;32m    134\u001b[0m write_ipynb(nb, output_path)\n",
      "File \u001b[1;32mc:\\Users\\lucal\\anaconda3\\envs\\ridership_model\\Lib\\site-packages\\papermill\\execute.py:251\u001b[0m, in \u001b[0;36mraise_for_execution_errors\u001b[1;34m(nb, output_path)\u001b[0m\n\u001b[0;32m    248\u001b[0m nb\u001b[38;5;241m.\u001b[39mcells\u001b[38;5;241m.\u001b[39minsert(\u001b[38;5;241m0\u001b[39m, error_msg_cell)\n\u001b[0;32m    250\u001b[0m write_ipynb(nb, output_path)\n\u001b[1;32m--> 251\u001b[0m \u001b[38;5;28;01mraise\u001b[39;00m error\n",
      "\u001b[1;31mPapermillExecutionError\u001b[0m: \n---------------------------------------------------------------------------\nException encountered at \"In [22]\":\n---------------------------------------------------------------------------\nKeyError                                  Traceback (most recent call last)\nCell In[22], line 1\n----> 1 stations_data_clean=counters_data_clean[['Id_aforament','Desc_aforament', 'Num_carrils', 'Codi_districte', 'Codi_barri',\n      2        'Codi_tipus_equip_mesura', 'Desc_tipus_equip_mesura', 'geometry']]\n      3 stations_data_clean=stations_data_clean.drop_duplicates()\n      4 print(stations_data_clean.shape)\n\nFile ~\\anaconda3\\envs\\ridership_model\\Lib\\site-packages\\geopandas\\geodataframe.py:1475, in GeoDataFrame.__getitem__(self, key)\n   1469 def __getitem__(self, key):\n   1470     \"\"\"\n   1471     If the result is a column containing only 'geometry', return a\n   1472     GeoSeries. If it's a DataFrame with any columns of GeometryDtype,\n   1473     return a GeoDataFrame.\n   1474     \"\"\"\n-> 1475     result = super().__getitem__(key)\n   1476     # Custom logic to avoid waiting for pandas GH51895\n   1477     # result is not geometry dtype for multi-indexes\n   1478     if (\n   1479         pd.api.types.is_scalar(key)\n   1480         and key == \"\"\n   (...)\n   1483         and not is_geometry_type(result)\n   1484     ):\n\nFile ~\\anaconda3\\envs\\ridership_model\\Lib\\site-packages\\pandas\\core\\frame.py:3767, in DataFrame.__getitem__(self, key)\n   3765     if is_iterator(key):\n   3766         key = list(key)\n-> 3767     indexer = self.columns._get_indexer_strict(key, \"columns\")[1]\n   3769 # take() does not accept boolean indexers\n   3770 if getattr(indexer, \"dtype\", None) == bool:\n\nFile ~\\anaconda3\\envs\\ridership_model\\Lib\\site-packages\\pandas\\core\\indexes\\base.py:5877, in Index._get_indexer_strict(self, key, axis_name)\n   5874 else:\n   5875     keyarr, indexer, new_indexer = self._reindex_non_unique(keyarr)\n-> 5877 self._raise_if_missing(keyarr, indexer, axis_name)\n   5879 keyarr = self.take(indexer)\n   5880 if isinstance(key, Index):\n   5881     # GH 42790 - Preserve name from an Index\n\nFile ~\\anaconda3\\envs\\ridership_model\\Lib\\site-packages\\pandas\\core\\indexes\\base.py:5941, in Index._raise_if_missing(self, key, indexer, axis_name)\n   5938     raise KeyError(f\"None of [{key}] are in the [{axis_name}]\")\n   5940 not_found = list(ensure_index(key)[missing_mask.nonzero()[0]].unique())\n-> 5941 raise KeyError(f\"{not_found} not in index\")\n\nKeyError: \"['Codi_barri'] not in index\"\n"
     ]
    }
   ],
   "source": [
    "pm.execute_notebook(\n",
    "    '012-luca_data-cleaning_counters.ipynb',\n",
    "    '012-luca_data-cleaning_counters.ipynb',\n",
    "    parameters=dict(YEARS=YEARS, SAVE_OUTPUT=True)\n",
    ")"
   ]
  },
  {
   "cell_type": "markdown",
   "metadata": {},
   "source": [
    "### 2.2 Remove observation whith strange patterns"
   ]
  },
  {
   "cell_type": "code",
   "execution_count": null,
   "metadata": {},
   "outputs": [],
   "source": [
    "for year in YEARS:\n",
    "    pm.execute_notebook(\n",
    "       '012-luca_flag_counters.ipynb',\n",
    "       '012-luca_flag_counters.ipynb',\n",
    "       parameters=dict(YEAR=year, SAVE_OUTPUT=True)\n",
    "    )"
   ]
  },
  {
   "cell_type": "markdown",
   "metadata": {},
   "source": [
    "## 3.1 Traffic indices"
   ]
  },
  {
   "cell_type": "markdown",
   "metadata": {},
   "source": [
    "### Calculate traffic indices"
   ]
  },
  {
   "cell_type": "code",
   "execution_count": null,
   "metadata": {},
   "outputs": [
    {
     "data": {
      "application/vnd.jupyter.widget-view+json": {
       "model_id": "5d612b7684684d7388e03600c8f96bfc",
       "version_major": 2,
       "version_minor": 0
      },
      "text/plain": [
       "Executing:   0%|          | 0/35 [00:00<?, ?cell/s]"
      ]
     },
     "metadata": {},
     "output_type": "display_data"
    },
    {
     "data": {
      "application/vnd.jupyter.widget-view+json": {
       "model_id": "e3702a4153d940d1a6fa6756a074bef7",
       "version_major": 2,
       "version_minor": 0
      },
      "text/plain": [
       "Executing:   0%|          | 0/35 [00:00<?, ?cell/s]"
      ]
     },
     "metadata": {},
     "output_type": "display_data"
    },
    {
     "data": {
      "application/vnd.jupyter.widget-view+json": {
       "model_id": "e4feeff545a540db8944e7c0d4648fcc",
       "version_major": 2,
       "version_minor": 0
      },
      "text/plain": [
       "Executing:   0%|          | 0/35 [00:00<?, ?cell/s]"
      ]
     },
     "metadata": {},
     "output_type": "display_data"
    },
    {
     "data": {
      "application/vnd.jupyter.widget-view+json": {
       "model_id": "799bb27efb3247b080475c503a96133e",
       "version_major": 2,
       "version_minor": 0
      },
      "text/plain": [
       "Executing:   0%|          | 0/35 [00:00<?, ?cell/s]"
      ]
     },
     "metadata": {},
     "output_type": "display_data"
    },
    {
     "data": {
      "application/vnd.jupyter.widget-view+json": {
       "model_id": "b4c372ffb3ca4176bb3c04aa771fa9a5",
       "version_major": 2,
       "version_minor": 0
      },
      "text/plain": [
       "Executing:   0%|          | 0/35 [00:00<?, ?cell/s]"
      ]
     },
     "metadata": {},
     "output_type": "display_data"
    },
    {
     "data": {
      "application/vnd.jupyter.widget-view+json": {
       "model_id": "28f945e2fae94f768899e52c4f54743d",
       "version_major": 2,
       "version_minor": 0
      },
      "text/plain": [
       "Executing:   0%|          | 0/35 [00:00<?, ?cell/s]"
      ]
     },
     "metadata": {},
     "output_type": "display_data"
    },
    {
     "data": {
      "application/vnd.jupyter.widget-view+json": {
       "model_id": "57aea4f0a22045f6bc048eb9620b6b38",
       "version_major": 2,
       "version_minor": 0
      },
      "text/plain": [
       "Executing:   0%|          | 0/35 [00:00<?, ?cell/s]"
      ]
     },
     "metadata": {},
     "output_type": "display_data"
    },
    {
     "data": {
      "application/vnd.jupyter.widget-view+json": {
       "model_id": "2d49cd1e698043c79ffec2603d183731",
       "version_major": 2,
       "version_minor": 0
      },
      "text/plain": [
       "Executing:   0%|          | 0/35 [00:00<?, ?cell/s]"
      ]
     },
     "metadata": {},
     "output_type": "display_data"
    }
   ],
   "source": [
    "for year in YEARS:\n",
    "    pm.execute_notebook(\n",
    "       '013-luca_traffic_indices_1.ipynb',\n",
    "       '013-luca_traffic_indices_1.ipynb',\n",
    "       parameters=dict(YEAR=year, SAVE_OUTPUT=True)\n",
    "    )"
   ]
  },
  {
   "cell_type": "markdown",
   "metadata": {},
   "source": [
    "### Cluster by traffic indices"
   ]
  },
  {
   "cell_type": "code",
   "execution_count": null,
   "metadata": {},
   "outputs": [],
   "source": [
    "pm.execute_notebook(\n",
    "    '02_luca_traffic_indices_1.ipynb',\n",
    "    '02_luca_traffic_indices_1.ipynb',\n",
    "    parameters=dict(YEARS=YEARS, SAVE_OUTPUT=True)\n",
    ")"
   ]
  },
  {
   "cell_type": "markdown",
   "metadata": {},
   "source": [
    "## 5. Clean explanatory variables data"
   ]
  },
  {
   "cell_type": "markdown",
   "metadata": {},
   "source": [
    "### Population"
   ]
  },
  {
   "cell_type": "code",
   "execution_count": null,
   "metadata": {},
   "outputs": [],
   "source": [
    "for year in YEARS:\n",
    "    pm.execute_notebook(\n",
    "       '001-luca-explore-population.ipynb',\n",
    "       '001-luca-explore-population.ipynb',\n",
    "       parameters=dict(YEAR=year, SAVE_OUTPUT=True)\n",
    "    )"
   ]
  },
  {
   "cell_type": "markdown",
   "metadata": {
    "id": "a_ZrQ64i7plQ"
   },
   "source": [
    "## Save output"
   ]
  },
  {
   "cell_type": "markdown",
   "metadata": {
    "id": "xT_uQYZSbEty"
   },
   "source": [
    "## Watermark"
   ]
  },
  {
   "cell_type": "code",
   "execution_count": null,
   "metadata": {
    "id": "iY8ZyfnAbFoO"
   },
   "outputs": [],
   "source": [
    "!python -m pip install watermark --quiet"
   ]
  },
  {
   "cell_type": "code",
   "execution_count": null,
   "metadata": {
    "id": "Cd2yG3BgbGE3"
   },
   "outputs": [],
   "source": [
    "%load_ext watermark"
   ]
  },
  {
   "cell_type": "code",
   "execution_count": null,
   "metadata": {
    "colab": {
     "base_uri": "https://localhost:8080/"
    },
    "id": "Ef6VBO1QbI-_",
    "outputId": "9551ad1c-634d-4484-dc4a-f6a971884ccc"
   },
   "outputs": [],
   "source": [
    "%watermark"
   ]
  },
  {
   "cell_type": "code",
   "execution_count": null,
   "metadata": {
    "colab": {
     "base_uri": "https://localhost:8080/"
    },
    "id": "EW9nOXoNbKrP",
    "outputId": "b68ae236-6367-4c9a-b720-5978d2bbcbf4"
   },
   "outputs": [],
   "source": [
    "%watermark --iversions"
   ]
  },
  {
   "cell_type": "code",
   "execution_count": null,
   "metadata": {
    "colab": {
     "base_uri": "https://localhost:8080/"
    },
    "id": "2LOCLnX0bMxt",
    "outputId": "e68400d8-8277-4988-d42c-15e02490cce1"
   },
   "outputs": [],
   "source": [
    "!lsb_release -a"
   ]
  }
 ],
 "metadata": {
  "colab": {
   "provenance": [],
   "toc_visible": true
  },
  "kernelspec": {
   "display_name": "ridership_model",
   "language": "python",
   "name": "python3"
  },
  "language_info": {
   "codemirror_mode": {
    "name": "ipython",
    "version": 3
   },
   "file_extension": ".py",
   "mimetype": "text/x-python",
   "name": "python",
   "nbconvert_exporter": "python",
   "pygments_lexer": "ipython3",
   "version": "3.11.9"
  }
 },
 "nbformat": 4,
 "nbformat_minor": 0
}
