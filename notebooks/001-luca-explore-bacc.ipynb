{
  "cells": [
    {
      "cell_type": "markdown",
      "metadata": {
        "id": "rP8SuqILhaPo"
      },
      "source": [
        "## Config"
      ]
    },
    {
      "cell_type": "code",
      "execution_count": 17,
      "metadata": {
        "id": "I_hrwU9x479z",
        "tags": [
          "parameters"
        ]
      },
      "outputs": [],
      "source": [
        "# parameters\n",
        "SAVE_OUTPUT = True\n",
        "SIZE_PLOTS = (12,10)\n",
        "BUFFER_SIZE = 402.336 \n",
        "\n",
        "#Location of the data\n",
        "INPUT_DATA_PATH = \"../data/raw/bacc\"\n",
        "OUTPUT_DATA_PATH = \"../data/interim/bacc\""
      ]
    },
    {
      "cell_type": "code",
      "execution_count": 18,
      "metadata": {
        "id": "HnDB36CLTIxL"
      },
      "outputs": [],
      "source": [
        "import numpy as np\n",
        "import pandas as pd\n",
        "import geopandas as gpd\n",
        "from pathlib import Path\n"
      ]
    },
    {
      "cell_type": "markdown",
      "metadata": {
        "id": "JMxfkSGDhuDI"
      },
      "source": [
        "# Load data"
      ]
    },
    {
      "cell_type": "code",
      "execution_count": 19,
      "metadata": {},
      "outputs": [],
      "source": [
        "counts=pd.read_parquet(Path(INPUT_DATA_PATH) / \"data_bacc.parquet\")\n",
        "counts['Location'] = counts['Location'].apply(lambda x: x.split('_')[1])"
      ]
    },
    {
      "cell_type": "markdown",
      "metadata": {
        "id": "ryt3odo6h1W5"
      },
      "source": [
        "# Data management"
      ]
    },
    {
      "cell_type": "markdown",
      "metadata": {},
      "source": [
        "## Explore data"
      ]
    },
    {
      "cell_type": "code",
      "execution_count": 20,
      "metadata": {
        "colab": {
          "base_uri": "https://localhost:8080/",
          "height": 429
        },
        "id": "F2PgA3ZMryBa",
        "outputId": "2ce67901-0e0d-4949-f411-7732f07e3c38"
      },
      "outputs": [
        {
          "name": "stdout",
          "output_type": "stream",
          "text": [
            "(352, 22)\n",
            "Index(['Location', 'date', 'Procesado video', 'Start time', 'End time',\n",
            "       'Total vehicles', 'Bicing Mechanical Men', 'Bicing Mechanical Women',\n",
            "       'Bicing Electric Men', 'Bicing Electric Women', 'Urban Mechanical Men',\n",
            "       'Urban Mechanical Women', 'Urban Electric Men', 'Urban Electric Women',\n",
            "       'Scooter Electric Men', 'Scooter Electric Women',\n",
            "       'Foldable Mechanical Men', 'Foldable Mechanical Women',\n",
            "       'Foldable Electric Men', 'Foldable Electric Women', 'Cargo-Bike',\n",
            "       'Others'],\n",
            "      dtype='object')\n",
            "Location                     object\n",
            "date                         object\n",
            "Procesado video              object\n",
            "Start time                   object\n",
            "End time                     object\n",
            "Total vehicles                int64\n",
            "Bicing Mechanical Men         int64\n",
            "Bicing Mechanical Women       int64\n",
            "Bicing Electric Men           int64\n",
            "Bicing Electric Women         int64\n",
            "Urban Mechanical Men          int64\n",
            "Urban Mechanical Women        int64\n",
            "Urban Electric Men            int64\n",
            "Urban Electric Women          int64\n",
            "Scooter Electric Men          int64\n",
            "Scooter Electric Women        int64\n",
            "Foldable Mechanical Men       int64\n",
            "Foldable Mechanical Women     int64\n",
            "Foldable Electric Men         int64\n",
            "Foldable Electric Women       int64\n",
            "Cargo-Bike                    int64\n",
            "Others                        int64\n",
            "dtype: object\n"
          ]
        },
        {
          "data": {
            "text/html": [
              "<div>\n",
              "<style scoped>\n",
              "    .dataframe tbody tr th:only-of-type {\n",
              "        vertical-align: middle;\n",
              "    }\n",
              "\n",
              "    .dataframe tbody tr th {\n",
              "        vertical-align: top;\n",
              "    }\n",
              "\n",
              "    .dataframe thead th {\n",
              "        text-align: right;\n",
              "    }\n",
              "</style>\n",
              "<table border=\"1\" class=\"dataframe\">\n",
              "  <thead>\n",
              "    <tr style=\"text-align: right;\">\n",
              "      <th></th>\n",
              "      <th>Location</th>\n",
              "      <th>date</th>\n",
              "      <th>Procesado video</th>\n",
              "      <th>Start time</th>\n",
              "      <th>End time</th>\n",
              "      <th>Total vehicles</th>\n",
              "      <th>Bicing Mechanical Men</th>\n",
              "      <th>Bicing Mechanical Women</th>\n",
              "      <th>Bicing Electric Men</th>\n",
              "      <th>Bicing Electric Women</th>\n",
              "      <th>...</th>\n",
              "      <th>Urban Electric Men</th>\n",
              "      <th>Urban Electric Women</th>\n",
              "      <th>Scooter Electric Men</th>\n",
              "      <th>Scooter Electric Women</th>\n",
              "      <th>Foldable Mechanical Men</th>\n",
              "      <th>Foldable Mechanical Women</th>\n",
              "      <th>Foldable Electric Men</th>\n",
              "      <th>Foldable Electric Women</th>\n",
              "      <th>Cargo-Bike</th>\n",
              "      <th>Others</th>\n",
              "    </tr>\n",
              "  </thead>\n",
              "  <tbody>\n",
              "    <tr>\n",
              "      <th>347</th>\n",
              "      <td>DiagonalAmbGanduxer</td>\n",
              "      <td>2024-09-26</td>\n",
              "      <td>4</td>\n",
              "      <td>18:30:00</td>\n",
              "      <td>18:45:00</td>\n",
              "      <td>182</td>\n",
              "      <td>1</td>\n",
              "      <td>1</td>\n",
              "      <td>36</td>\n",
              "      <td>5</td>\n",
              "      <td>...</td>\n",
              "      <td>26</td>\n",
              "      <td>5</td>\n",
              "      <td>34</td>\n",
              "      <td>13</td>\n",
              "      <td>7</td>\n",
              "      <td>3</td>\n",
              "      <td>4</td>\n",
              "      <td>7</td>\n",
              "      <td>2</td>\n",
              "      <td>3</td>\n",
              "    </tr>\n",
              "    <tr>\n",
              "      <th>348</th>\n",
              "      <td>DiagonalAmbGanduxer</td>\n",
              "      <td>2024-09-26</td>\n",
              "      <td>5</td>\n",
              "      <td>18:45:00</td>\n",
              "      <td>19:00:00</td>\n",
              "      <td>186</td>\n",
              "      <td>1</td>\n",
              "      <td>0</td>\n",
              "      <td>37</td>\n",
              "      <td>13</td>\n",
              "      <td>...</td>\n",
              "      <td>23</td>\n",
              "      <td>7</td>\n",
              "      <td>36</td>\n",
              "      <td>9</td>\n",
              "      <td>9</td>\n",
              "      <td>2</td>\n",
              "      <td>7</td>\n",
              "      <td>3</td>\n",
              "      <td>0</td>\n",
              "      <td>5</td>\n",
              "    </tr>\n",
              "    <tr>\n",
              "      <th>349</th>\n",
              "      <td>DiagonalAmbGanduxer</td>\n",
              "      <td>2024-09-26</td>\n",
              "      <td>6</td>\n",
              "      <td>19:00:00</td>\n",
              "      <td>19:15:00</td>\n",
              "      <td>166</td>\n",
              "      <td>1</td>\n",
              "      <td>0</td>\n",
              "      <td>31</td>\n",
              "      <td>14</td>\n",
              "      <td>...</td>\n",
              "      <td>25</td>\n",
              "      <td>7</td>\n",
              "      <td>28</td>\n",
              "      <td>8</td>\n",
              "      <td>2</td>\n",
              "      <td>2</td>\n",
              "      <td>8</td>\n",
              "      <td>3</td>\n",
              "      <td>1</td>\n",
              "      <td>2</td>\n",
              "    </tr>\n",
              "    <tr>\n",
              "      <th>350</th>\n",
              "      <td>DiagonalAmbGanduxer</td>\n",
              "      <td>2024-09-26</td>\n",
              "      <td>7</td>\n",
              "      <td>19:15:00</td>\n",
              "      <td>19:30:00</td>\n",
              "      <td>210</td>\n",
              "      <td>1</td>\n",
              "      <td>0</td>\n",
              "      <td>41</td>\n",
              "      <td>20</td>\n",
              "      <td>...</td>\n",
              "      <td>21</td>\n",
              "      <td>1</td>\n",
              "      <td>32</td>\n",
              "      <td>14</td>\n",
              "      <td>9</td>\n",
              "      <td>5</td>\n",
              "      <td>8</td>\n",
              "      <td>6</td>\n",
              "      <td>1</td>\n",
              "      <td>4</td>\n",
              "    </tr>\n",
              "    <tr>\n",
              "      <th>351</th>\n",
              "      <td>DiagonalAmbGanduxer</td>\n",
              "      <td>2024-09-26</td>\n",
              "      <td>8</td>\n",
              "      <td>19:30:00</td>\n",
              "      <td>19:45:00</td>\n",
              "      <td>135</td>\n",
              "      <td>0</td>\n",
              "      <td>1</td>\n",
              "      <td>24</td>\n",
              "      <td>10</td>\n",
              "      <td>...</td>\n",
              "      <td>12</td>\n",
              "      <td>3</td>\n",
              "      <td>26</td>\n",
              "      <td>8</td>\n",
              "      <td>4</td>\n",
              "      <td>0</td>\n",
              "      <td>7</td>\n",
              "      <td>1</td>\n",
              "      <td>2</td>\n",
              "      <td>5</td>\n",
              "    </tr>\n",
              "  </tbody>\n",
              "</table>\n",
              "<p>5 rows × 22 columns</p>\n",
              "</div>"
            ],
            "text/plain": [
              "                Location        date Procesado video Start time  End time  \\\n",
              "347  DiagonalAmbGanduxer  2024-09-26               4   18:30:00  18:45:00   \n",
              "348  DiagonalAmbGanduxer  2024-09-26               5   18:45:00  19:00:00   \n",
              "349  DiagonalAmbGanduxer  2024-09-26               6   19:00:00  19:15:00   \n",
              "350  DiagonalAmbGanduxer  2024-09-26               7   19:15:00  19:30:00   \n",
              "351  DiagonalAmbGanduxer  2024-09-26               8   19:30:00  19:45:00   \n",
              "\n",
              "     Total vehicles  Bicing Mechanical Men  Bicing Mechanical Women  \\\n",
              "347             182                      1                        1   \n",
              "348             186                      1                        0   \n",
              "349             166                      1                        0   \n",
              "350             210                      1                        0   \n",
              "351             135                      0                        1   \n",
              "\n",
              "     Bicing Electric Men  Bicing Electric Women  ...  Urban Electric Men  \\\n",
              "347                   36                      5  ...                  26   \n",
              "348                   37                     13  ...                  23   \n",
              "349                   31                     14  ...                  25   \n",
              "350                   41                     20  ...                  21   \n",
              "351                   24                     10  ...                  12   \n",
              "\n",
              "     Urban Electric Women  Scooter Electric Men  Scooter Electric Women  \\\n",
              "347                     5                    34                      13   \n",
              "348                     7                    36                       9   \n",
              "349                     7                    28                       8   \n",
              "350                     1                    32                      14   \n",
              "351                     3                    26                       8   \n",
              "\n",
              "     Foldable Mechanical Men  Foldable Mechanical Women  \\\n",
              "347                        7                          3   \n",
              "348                        9                          2   \n",
              "349                        2                          2   \n",
              "350                        9                          5   \n",
              "351                        4                          0   \n",
              "\n",
              "     Foldable Electric Men  Foldable Electric Women  Cargo-Bike  Others  \n",
              "347                      4                        7           2       3  \n",
              "348                      7                        3           0       5  \n",
              "349                      8                        3           1       2  \n",
              "350                      8                        6           1       4  \n",
              "351                      7                        1           2       5  \n",
              "\n",
              "[5 rows x 22 columns]"
            ]
          },
          "execution_count": 20,
          "metadata": {},
          "output_type": "execute_result"
        }
      ],
      "source": [
        "#Explore counts\n",
        "print(counts.shape)\n",
        "print(counts.columns)\n",
        "print(counts.dtypes)\n",
        "counts.tail()"
      ]
    },
    {
      "cell_type": "code",
      "execution_count": null,
      "metadata": {},
      "outputs": [],
      "source": []
    },
    {
      "cell_type": "code",
      "execution_count": 21,
      "metadata": {},
      "outputs": [
        {
          "data": {
            "text/html": [
              "<div>\n",
              "<style scoped>\n",
              "    .dataframe tbody tr th:only-of-type {\n",
              "        vertical-align: middle;\n",
              "    }\n",
              "\n",
              "    .dataframe tbody tr th {\n",
              "        vertical-align: top;\n",
              "    }\n",
              "\n",
              "    .dataframe thead th {\n",
              "        text-align: right;\n",
              "    }\n",
              "</style>\n",
              "<table border=\"1\" class=\"dataframe\">\n",
              "  <thead>\n",
              "    <tr style=\"text-align: right;\">\n",
              "      <th></th>\n",
              "      <th>Total vehicles</th>\n",
              "      <th>Bicing Mechanical Men</th>\n",
              "      <th>Bicing Mechanical Women</th>\n",
              "      <th>Bicing Electric Men</th>\n",
              "      <th>Bicing Electric Women</th>\n",
              "      <th>Urban Mechanical Men</th>\n",
              "      <th>Urban Mechanical Women</th>\n",
              "      <th>Urban Electric Men</th>\n",
              "      <th>Urban Electric Women</th>\n",
              "      <th>Scooter Electric Men</th>\n",
              "      <th>Scooter Electric Women</th>\n",
              "      <th>Foldable Mechanical Men</th>\n",
              "      <th>Foldable Mechanical Women</th>\n",
              "      <th>Foldable Electric Men</th>\n",
              "      <th>Foldable Electric Women</th>\n",
              "      <th>Cargo-Bike</th>\n",
              "      <th>Others</th>\n",
              "    </tr>\n",
              "  </thead>\n",
              "  <tbody>\n",
              "    <tr>\n",
              "      <th>count</th>\n",
              "      <td>352.000000</td>\n",
              "      <td>352.000000</td>\n",
              "      <td>352.000000</td>\n",
              "      <td>352.000000</td>\n",
              "      <td>352.000000</td>\n",
              "      <td>352.000000</td>\n",
              "      <td>352.000000</td>\n",
              "      <td>352.000000</td>\n",
              "      <td>352.000000</td>\n",
              "      <td>352.000000</td>\n",
              "      <td>352.000000</td>\n",
              "      <td>352.000000</td>\n",
              "      <td>352.000000</td>\n",
              "      <td>352.000000</td>\n",
              "      <td>352.000000</td>\n",
              "      <td>352.000000</td>\n",
              "      <td>352.00000</td>\n",
              "    </tr>\n",
              "    <tr>\n",
              "      <th>mean</th>\n",
              "      <td>128.446023</td>\n",
              "      <td>3.315341</td>\n",
              "      <td>1.840909</td>\n",
              "      <td>19.423295</td>\n",
              "      <td>9.866477</td>\n",
              "      <td>23.303977</td>\n",
              "      <td>9.352273</td>\n",
              "      <td>6.295455</td>\n",
              "      <td>2.750000</td>\n",
              "      <td>22.107955</td>\n",
              "      <td>9.721591</td>\n",
              "      <td>6.289773</td>\n",
              "      <td>3.715909</td>\n",
              "      <td>4.775568</td>\n",
              "      <td>3.678977</td>\n",
              "      <td>1.039773</td>\n",
              "      <td>0.96875</td>\n",
              "    </tr>\n",
              "    <tr>\n",
              "      <th>std</th>\n",
              "      <td>55.239313</td>\n",
              "      <td>2.667733</td>\n",
              "      <td>1.843670</td>\n",
              "      <td>11.561791</td>\n",
              "      <td>6.370052</td>\n",
              "      <td>9.839231</td>\n",
              "      <td>5.473666</td>\n",
              "      <td>4.741546</td>\n",
              "      <td>2.653815</td>\n",
              "      <td>9.915296</td>\n",
              "      <td>6.370497</td>\n",
              "      <td>3.635236</td>\n",
              "      <td>2.780473</td>\n",
              "      <td>3.647295</td>\n",
              "      <td>3.296689</td>\n",
              "      <td>1.385150</td>\n",
              "      <td>1.18232</td>\n",
              "    </tr>\n",
              "    <tr>\n",
              "      <th>min</th>\n",
              "      <td>27.000000</td>\n",
              "      <td>0.000000</td>\n",
              "      <td>0.000000</td>\n",
              "      <td>1.000000</td>\n",
              "      <td>0.000000</td>\n",
              "      <td>4.000000</td>\n",
              "      <td>0.000000</td>\n",
              "      <td>0.000000</td>\n",
              "      <td>0.000000</td>\n",
              "      <td>3.000000</td>\n",
              "      <td>0.000000</td>\n",
              "      <td>0.000000</td>\n",
              "      <td>0.000000</td>\n",
              "      <td>0.000000</td>\n",
              "      <td>0.000000</td>\n",
              "      <td>0.000000</td>\n",
              "      <td>0.00000</td>\n",
              "    </tr>\n",
              "    <tr>\n",
              "      <th>25%</th>\n",
              "      <td>87.750000</td>\n",
              "      <td>1.000000</td>\n",
              "      <td>0.000000</td>\n",
              "      <td>11.000000</td>\n",
              "      <td>5.000000</td>\n",
              "      <td>16.000000</td>\n",
              "      <td>5.000000</td>\n",
              "      <td>3.000000</td>\n",
              "      <td>1.000000</td>\n",
              "      <td>15.000000</td>\n",
              "      <td>5.000000</td>\n",
              "      <td>4.000000</td>\n",
              "      <td>2.000000</td>\n",
              "      <td>2.000000</td>\n",
              "      <td>1.000000</td>\n",
              "      <td>0.000000</td>\n",
              "      <td>0.00000</td>\n",
              "    </tr>\n",
              "    <tr>\n",
              "      <th>50%</th>\n",
              "      <td>124.500000</td>\n",
              "      <td>3.000000</td>\n",
              "      <td>1.000000</td>\n",
              "      <td>17.000000</td>\n",
              "      <td>9.000000</td>\n",
              "      <td>23.000000</td>\n",
              "      <td>8.000000</td>\n",
              "      <td>5.000000</td>\n",
              "      <td>2.000000</td>\n",
              "      <td>21.000000</td>\n",
              "      <td>8.000000</td>\n",
              "      <td>6.000000</td>\n",
              "      <td>3.000000</td>\n",
              "      <td>4.000000</td>\n",
              "      <td>3.000000</td>\n",
              "      <td>1.000000</td>\n",
              "      <td>1.00000</td>\n",
              "    </tr>\n",
              "    <tr>\n",
              "      <th>75%</th>\n",
              "      <td>166.000000</td>\n",
              "      <td>5.000000</td>\n",
              "      <td>3.000000</td>\n",
              "      <td>27.000000</td>\n",
              "      <td>14.000000</td>\n",
              "      <td>29.250000</td>\n",
              "      <td>13.000000</td>\n",
              "      <td>8.000000</td>\n",
              "      <td>4.000000</td>\n",
              "      <td>28.000000</td>\n",
              "      <td>13.000000</td>\n",
              "      <td>9.000000</td>\n",
              "      <td>5.000000</td>\n",
              "      <td>7.000000</td>\n",
              "      <td>5.000000</td>\n",
              "      <td>2.000000</td>\n",
              "      <td>2.00000</td>\n",
              "    </tr>\n",
              "    <tr>\n",
              "      <th>max</th>\n",
              "      <td>278.000000</td>\n",
              "      <td>16.000000</td>\n",
              "      <td>11.000000</td>\n",
              "      <td>52.000000</td>\n",
              "      <td>31.000000</td>\n",
              "      <td>61.000000</td>\n",
              "      <td>31.000000</td>\n",
              "      <td>26.000000</td>\n",
              "      <td>18.000000</td>\n",
              "      <td>53.000000</td>\n",
              "      <td>34.000000</td>\n",
              "      <td>20.000000</td>\n",
              "      <td>15.000000</td>\n",
              "      <td>17.000000</td>\n",
              "      <td>17.000000</td>\n",
              "      <td>8.000000</td>\n",
              "      <td>7.00000</td>\n",
              "    </tr>\n",
              "  </tbody>\n",
              "</table>\n",
              "</div>"
            ],
            "text/plain": [
              "       Total vehicles  Bicing Mechanical Men  Bicing Mechanical Women  \\\n",
              "count      352.000000             352.000000               352.000000   \n",
              "mean       128.446023               3.315341                 1.840909   \n",
              "std         55.239313               2.667733                 1.843670   \n",
              "min         27.000000               0.000000                 0.000000   \n",
              "25%         87.750000               1.000000                 0.000000   \n",
              "50%        124.500000               3.000000                 1.000000   \n",
              "75%        166.000000               5.000000                 3.000000   \n",
              "max        278.000000              16.000000                11.000000   \n",
              "\n",
              "       Bicing Electric Men  Bicing Electric Women  Urban Mechanical Men  \\\n",
              "count           352.000000             352.000000            352.000000   \n",
              "mean             19.423295               9.866477             23.303977   \n",
              "std              11.561791               6.370052              9.839231   \n",
              "min               1.000000               0.000000              4.000000   \n",
              "25%              11.000000               5.000000             16.000000   \n",
              "50%              17.000000               9.000000             23.000000   \n",
              "75%              27.000000              14.000000             29.250000   \n",
              "max              52.000000              31.000000             61.000000   \n",
              "\n",
              "       Urban Mechanical Women  Urban Electric Men  Urban Electric Women  \\\n",
              "count              352.000000          352.000000            352.000000   \n",
              "mean                 9.352273            6.295455              2.750000   \n",
              "std                  5.473666            4.741546              2.653815   \n",
              "min                  0.000000            0.000000              0.000000   \n",
              "25%                  5.000000            3.000000              1.000000   \n",
              "50%                  8.000000            5.000000              2.000000   \n",
              "75%                 13.000000            8.000000              4.000000   \n",
              "max                 31.000000           26.000000             18.000000   \n",
              "\n",
              "       Scooter Electric Men  Scooter Electric Women  Foldable Mechanical Men  \\\n",
              "count            352.000000              352.000000               352.000000   \n",
              "mean              22.107955                9.721591                 6.289773   \n",
              "std                9.915296                6.370497                 3.635236   \n",
              "min                3.000000                0.000000                 0.000000   \n",
              "25%               15.000000                5.000000                 4.000000   \n",
              "50%               21.000000                8.000000                 6.000000   \n",
              "75%               28.000000               13.000000                 9.000000   \n",
              "max               53.000000               34.000000                20.000000   \n",
              "\n",
              "       Foldable Mechanical Women  Foldable Electric Men  \\\n",
              "count                 352.000000             352.000000   \n",
              "mean                    3.715909               4.775568   \n",
              "std                     2.780473               3.647295   \n",
              "min                     0.000000               0.000000   \n",
              "25%                     2.000000               2.000000   \n",
              "50%                     3.000000               4.000000   \n",
              "75%                     5.000000               7.000000   \n",
              "max                    15.000000              17.000000   \n",
              "\n",
              "       Foldable Electric Women  Cargo-Bike     Others  \n",
              "count               352.000000  352.000000  352.00000  \n",
              "mean                  3.678977    1.039773    0.96875  \n",
              "std                   3.296689    1.385150    1.18232  \n",
              "min                   0.000000    0.000000    0.00000  \n",
              "25%                   1.000000    0.000000    0.00000  \n",
              "50%                   3.000000    1.000000    1.00000  \n",
              "75%                   5.000000    2.000000    2.00000  \n",
              "max                  17.000000    8.000000    7.00000  "
            ]
          },
          "execution_count": 21,
          "metadata": {},
          "output_type": "execute_result"
        }
      ],
      "source": [
        "counts.describe()"
      ]
    },
    {
      "cell_type": "markdown",
      "metadata": {},
      "source": [
        "## Add location & BiciZen ID"
      ]
    },
    {
      "cell_type": "code",
      "execution_count": 22,
      "metadata": {},
      "outputs": [
        {
          "data": {
            "text/plain": [
              "Index(['Location', 'date', 'Procesado video', 'Start time', 'End time',\n",
              "       'Total vehicles', 'Bicing Mechanical Men', 'Bicing Mechanical Women',\n",
              "       'Bicing Electric Men', 'Bicing Electric Women', 'Urban Mechanical Men',\n",
              "       'Urban Mechanical Women', 'Urban Electric Men', 'Urban Electric Women',\n",
              "       'Scooter Electric Men', 'Scooter Electric Women',\n",
              "       'Foldable Mechanical Men', 'Foldable Mechanical Women',\n",
              "       'Foldable Electric Men', 'Foldable Electric Women', 'Cargo-Bike',\n",
              "       'Others', 'Latitud', 'Longitud', 'ROOT_ID'],\n",
              "      dtype='object')"
            ]
          },
          "execution_count": 22,
          "metadata": {},
          "output_type": "execute_result"
        }
      ],
      "source": [
        "locations = {\n",
        "    'DiagonalAmb5D': {'lat': 41.396333, 'lon': 2.159083, 'ROOT_ID': 1095689},\n",
        "    'DiagonalAmbGanduxer': {'lat': 41.391639, 'lon': 2.139417, 'ROOT_ID': 1095690},\n",
        "    'MeridianaAmbAragó': {'lat': 41.409056, 'lon': 2.186861, 'ROOT_ID': 1095691},\n",
        "    'DiagonalAmbGlories': {'lat': 41.402722, 'lon': 2.183528, 'ROOT_ID': 1095692},\n",
        "    'GranVíaAmbLaBordeta': {'lat': 41.373639, 'lon': 2.147028, 'ROOT_ID': 1095693},\n",
        "    'AragoAmbRCatalunya': {'lat': 41.391139, 'lon': 2.163694, 'ROOT_ID': 1095694}\n",
        "}\n",
        "\n",
        "# Join count with locations\n",
        "locations_df = pd.DataFrame.from_dict(locations, orient='index').reset_index()\n",
        "locations_df.columns = ['Location', 'Latitud', 'Longitud','ROOT_ID']\n",
        "counts = counts.merge(locations_df, on='Location', how='left')\n",
        "counts.columns\n",
        "\n"
      ]
    },
    {
      "cell_type": "markdown",
      "metadata": {},
      "source": [
        "### Join with location"
      ]
    },
    {
      "cell_type": "code",
      "execution_count": 24,
      "metadata": {},
      "outputs": [
        {
          "name": "stdout",
          "output_type": "stream",
          "text": [
            "0\n",
            "(352, 8)\n"
          ]
        },
        {
          "data": {
            "text/html": [
              "<div>\n",
              "<style scoped>\n",
              "    .dataframe tbody tr th:only-of-type {\n",
              "        vertical-align: middle;\n",
              "    }\n",
              "\n",
              "    .dataframe tbody tr th {\n",
              "        vertical-align: top;\n",
              "    }\n",
              "\n",
              "    .dataframe thead th {\n",
              "        text-align: right;\n",
              "    }\n",
              "</style>\n",
              "<table border=\"1\" class=\"dataframe\">\n",
              "  <thead>\n",
              "    <tr style=\"text-align: right;\">\n",
              "      <th></th>\n",
              "      <th>ROOT_ID</th>\n",
              "      <th>Latitud</th>\n",
              "      <th>Longitud</th>\n",
              "      <th>date</th>\n",
              "      <th>Procesado video</th>\n",
              "      <th>Start time</th>\n",
              "      <th>Total vehicles</th>\n",
              "      <th>geometry</th>\n",
              "    </tr>\n",
              "  </thead>\n",
              "  <tbody>\n",
              "    <tr>\n",
              "      <th>0</th>\n",
              "      <td>1095694</td>\n",
              "      <td>41.391139</td>\n",
              "      <td>2.163694</td>\n",
              "      <td>2023-09-28</td>\n",
              "      <td>1</td>\n",
              "      <td>07:45:00</td>\n",
              "      <td>54</td>\n",
              "      <td>POINT (2.16369 41.39114)</td>\n",
              "    </tr>\n",
              "    <tr>\n",
              "      <th>1</th>\n",
              "      <td>1095694</td>\n",
              "      <td>41.391139</td>\n",
              "      <td>2.163694</td>\n",
              "      <td>2023-09-28</td>\n",
              "      <td>2</td>\n",
              "      <td>08:00:00</td>\n",
              "      <td>40</td>\n",
              "      <td>POINT (2.16369 41.39114)</td>\n",
              "    </tr>\n",
              "    <tr>\n",
              "      <th>2</th>\n",
              "      <td>1095694</td>\n",
              "      <td>41.391139</td>\n",
              "      <td>2.163694</td>\n",
              "      <td>2023-09-28</td>\n",
              "      <td>3</td>\n",
              "      <td>08:15:00</td>\n",
              "      <td>67</td>\n",
              "      <td>POINT (2.16369 41.39114)</td>\n",
              "    </tr>\n",
              "    <tr>\n",
              "      <th>3</th>\n",
              "      <td>1095694</td>\n",
              "      <td>41.391139</td>\n",
              "      <td>2.163694</td>\n",
              "      <td>2023-09-28</td>\n",
              "      <td>4</td>\n",
              "      <td>08:30:00</td>\n",
              "      <td>55</td>\n",
              "      <td>POINT (2.16369 41.39114)</td>\n",
              "    </tr>\n",
              "    <tr>\n",
              "      <th>4</th>\n",
              "      <td>1095694</td>\n",
              "      <td>41.391139</td>\n",
              "      <td>2.163694</td>\n",
              "      <td>2023-09-28</td>\n",
              "      <td>5</td>\n",
              "      <td>08:45:00</td>\n",
              "      <td>79</td>\n",
              "      <td>POINT (2.16369 41.39114)</td>\n",
              "    </tr>\n",
              "  </tbody>\n",
              "</table>\n",
              "</div>"
            ],
            "text/plain": [
              "   ROOT_ID    Latitud  Longitud        date Procesado video Start time  \\\n",
              "0  1095694  41.391139  2.163694  2023-09-28               1   07:45:00   \n",
              "1  1095694  41.391139  2.163694  2023-09-28               2   08:00:00   \n",
              "2  1095694  41.391139  2.163694  2023-09-28               3   08:15:00   \n",
              "3  1095694  41.391139  2.163694  2023-09-28               4   08:30:00   \n",
              "4  1095694  41.391139  2.163694  2023-09-28               5   08:45:00   \n",
              "\n",
              "   Total vehicles                  geometry  \n",
              "0              54  POINT (2.16369 41.39114)  \n",
              "1              40  POINT (2.16369 41.39114)  \n",
              "2              67  POINT (2.16369 41.39114)  \n",
              "3              55  POINT (2.16369 41.39114)  \n",
              "4              79  POINT (2.16369 41.39114)  "
            ]
          },
          "execution_count": 24,
          "metadata": {},
          "output_type": "execute_result"
        }
      ],
      "source": [
        "df=counts[['ROOT_ID','Latitud', 'Longitud', 'date', 'Procesado video', 'Start time','Total vehicles']]\n",
        "gdf = gpd.GeoDataFrame(df, geometry=gpd.points_from_xy(df.Longitud, df.Latitud))\n",
        "print(gdf.isna().sum().sum())\n",
        "print(gdf.shape)\n",
        "gdf.head()"
      ]
    },
    {
      "cell_type": "markdown",
      "metadata": {},
      "source": [
        "## Adapt data\n"
      ]
    },
    {
      "cell_type": "code",
      "execution_count": 26,
      "metadata": {},
      "outputs": [
        {
          "data": {
            "text/plain": [
              "count     352.000000\n",
              "mean      513.784091\n",
              "std       220.957252\n",
              "min       108.000000\n",
              "25%       351.000000\n",
              "50%       498.000000\n",
              "75%       664.000000\n",
              "max      1112.000000\n",
              "Name: Count, dtype: float64"
            ]
          },
          "execution_count": 26,
          "metadata": {},
          "output_type": "execute_result"
        }
      ],
      "source": [
        "#Scale to 1 hour\n",
        "gdf[\"Factor\"]=4\n",
        "gdf[\"Count\"]=gdf[\"Total vehicles\"]*gdf[\"Factor\"]\n",
        "gdf[\"Count\"].describe()\n",
        "\n"
      ]
    },
    {
      "cell_type": "code",
      "execution_count": 27,
      "metadata": {},
      "outputs": [
        {
          "data": {
            "text/plain": [
              "count    352.000000\n",
              "mean     304.579545\n",
              "std      158.437184\n",
              "min       54.000000\n",
              "25%      179.500000\n",
              "50%      291.000000\n",
              "75%      400.500000\n",
              "max      868.000000\n",
              "Name: Count, dtype: float64"
            ]
          },
          "execution_count": 27,
          "metadata": {},
          "output_type": "execute_result"
        }
      ],
      "source": [
        "# Account for bidirectionality except for ROOT_ID 1095689\n",
        "gdf.loc[gdf['ROOT_ID'] != 1095689, 'Count'] = gdf['Count'] / 2\n",
        "gdf[\"Count\"].describe()\n"
      ]
    },
    {
      "cell_type": "markdown",
      "metadata": {
        "id": "a_ZrQ64i7plQ"
      },
      "source": [
        "## Save output"
      ]
    },
    {
      "cell_type": "code",
      "execution_count": 29,
      "metadata": {
        "id": "6bj2-CeR7owh"
      },
      "outputs": [],
      "source": [
        "if SAVE_OUTPUT:\n",
        "    gdf.to_parquet(f'{OUTPUT_DATA_PATH}/BACC.parquet')"
      ]
    },
    {
      "cell_type": "markdown",
      "metadata": {
        "id": "xT_uQYZSbEty"
      },
      "source": [
        "## Watermark"
      ]
    },
    {
      "cell_type": "code",
      "execution_count": 30,
      "metadata": {
        "id": "iY8ZyfnAbFoO"
      },
      "outputs": [],
      "source": [
        "!python -m pip install watermark --quiet"
      ]
    },
    {
      "cell_type": "code",
      "execution_count": 31,
      "metadata": {
        "id": "Cd2yG3BgbGE3"
      },
      "outputs": [],
      "source": [
        "%load_ext watermark"
      ]
    },
    {
      "cell_type": "code",
      "execution_count": 32,
      "metadata": {
        "colab": {
          "base_uri": "https://localhost:8080/"
        },
        "id": "Ef6VBO1QbI-_",
        "outputId": "9551ad1c-634d-4484-dc4a-f6a971884ccc"
      },
      "outputs": [
        {
          "name": "stdout",
          "output_type": "stream",
          "text": [
            "Last updated: 2025-03-21T20:12:44.654442+01:00\n",
            "\n",
            "Python implementation: CPython\n",
            "Python version       : 3.11.9\n",
            "IPython version      : 8.25.0\n",
            "\n",
            "Compiler    : MSC v.1938 64 bit (AMD64)\n",
            "OS          : Windows\n",
            "Release     : 10\n",
            "Machine     : AMD64\n",
            "Processor   : AMD64 Family 25 Model 68 Stepping 1, AuthenticAMD\n",
            "CPU cores   : 16\n",
            "Architecture: 64bit\n",
            "\n"
          ]
        }
      ],
      "source": [
        "%watermark"
      ]
    },
    {
      "cell_type": "code",
      "execution_count": 33,
      "metadata": {
        "colab": {
          "base_uri": "https://localhost:8080/"
        },
        "id": "EW9nOXoNbKrP",
        "outputId": "b68ae236-6367-4c9a-b720-5978d2bbcbf4"
      },
      "outputs": [
        {
          "name": "stdout",
          "output_type": "stream",
          "text": [
            "geopandas: 0.13.2\n",
            "pandas   : 2.0.3\n",
            "numpy    : 1.24.4\n",
            "\n"
          ]
        }
      ],
      "source": [
        "%watermark --iversions"
      ]
    },
    {
      "cell_type": "code",
      "execution_count": 34,
      "metadata": {
        "colab": {
          "base_uri": "https://localhost:8080/"
        },
        "id": "2LOCLnX0bMxt",
        "outputId": "e68400d8-8277-4988-d42c-15e02490cce1"
      },
      "outputs": [
        {
          "name": "stderr",
          "output_type": "stream",
          "text": [
            "\"lsb_release\" no se reconoce como un comando interno o externo,\n",
            "programa o archivo por lotes ejecutable.\n"
          ]
        }
      ],
      "source": [
        "!lsb_release -a"
      ]
    }
  ],
  "metadata": {
    "colab": {
      "provenance": [],
      "toc_visible": true
    },
    "kernelspec": {
      "display_name": "ridership_model",
      "language": "python",
      "name": "python3"
    },
    "language_info": {
      "codemirror_mode": {
        "name": "ipython",
        "version": 3
      },
      "file_extension": ".py",
      "mimetype": "text/x-python",
      "name": "python",
      "nbconvert_exporter": "python",
      "pygments_lexer": "ipython3",
      "version": "3.11.9"
    }
  },
  "nbformat": 4,
  "nbformat_minor": 0
}
