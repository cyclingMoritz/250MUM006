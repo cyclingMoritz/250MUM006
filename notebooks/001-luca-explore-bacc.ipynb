{
  "cells": [
    {
      "cell_type": "markdown",
      "metadata": {
        "id": "rP8SuqILhaPo"
      },
      "source": [
        "## Config"
      ]
    },
    {
      "cell_type": "code",
      "execution_count": 23,
      "metadata": {
        "id": "I_hrwU9x479z",
        "tags": [
          "parameters"
        ]
      },
      "outputs": [],
      "source": [
        "# parameters\n",
        "SAVE_OUTPUT = True\n",
        "SIZE_PLOTS = (12,10)\n",
        "BUFFER_SIZE = 402.336 \n",
        "\n",
        "#Location of the data\n",
        "INPUT_DATA_PATH = \"../data/raw/bacc\"\n",
        "OUTPUT_DATA_PATH = \"../data/interim/bacc\""
      ]
    },
    {
      "cell_type": "code",
      "execution_count": 24,
      "metadata": {
        "id": "HnDB36CLTIxL"
      },
      "outputs": [],
      "source": [
        "import numpy as np\n",
        "import pandas as pd\n",
        "import geopandas as gpd\n",
        "from pathlib import Path\n"
      ]
    },
    {
      "cell_type": "markdown",
      "metadata": {
        "id": "JMxfkSGDhuDI"
      },
      "source": [
        "# Load data"
      ]
    },
    {
      "cell_type": "code",
      "execution_count": 25,
      "metadata": {},
      "outputs": [],
      "source": [
        "counts=pd.read_parquet(Path(INPUT_DATA_PATH) / \"data_bacc.parquet\")\n",
        "counts['Location'] = counts['Location'].apply(lambda x: x.split('_')[1])"
      ]
    },
    {
      "cell_type": "code",
      "execution_count": 32,
      "metadata": {},
      "outputs": [
        {
          "data": {
            "text/plain": [
              "Location\n",
              "DiagonalAmb5D          64\n",
              "MeridianaAmbAragó      64\n",
              "DiagonalAmbGanduxer    64\n",
              "DiagonalAmbGlories     64\n",
              "GranVíaAmbLaBordeta    64\n",
              "AragoAmbRCatalunya     32\n",
              "Name: count, dtype: int64"
            ]
          },
          "execution_count": 32,
          "metadata": {},
          "output_type": "execute_result"
        }
      ],
      "source": [
        "counts[\"Location\"].value_counts()"
      ]
    },
    {
      "cell_type": "markdown",
      "metadata": {
        "id": "ryt3odo6h1W5"
      },
      "source": [
        "# Data management"
      ]
    },
    {
      "cell_type": "markdown",
      "metadata": {},
      "source": [
        "## Explore data"
      ]
    },
    {
      "cell_type": "code",
      "execution_count": 26,
      "metadata": {
        "colab": {
          "base_uri": "https://localhost:8080/",
          "height": 429
        },
        "id": "F2PgA3ZMryBa",
        "outputId": "2ce67901-0e0d-4949-f411-7732f07e3c38"
      },
      "outputs": [
        {
          "name": "stdout",
          "output_type": "stream",
          "text": [
            "(352, 22)\n",
            "Index(['Location', 'date', 'Procesado video', 'Start time', 'End time',\n",
            "       'Total vehicles', 'Bicing Mechanical Men', 'Bicing Mechanical Women',\n",
            "       'Bicing Electric Men', 'Bicing Electric Women', 'Urban Mechanical Men',\n",
            "       'Urban Mechanical Women', 'Urban Electric Men', 'Urban Electric Women',\n",
            "       'Scooter Electric Men', 'Scooter Electric Women',\n",
            "       'Foldable Mechanical Men', 'Foldable Mechanical Women',\n",
            "       'Foldable Electric Men', 'Foldable Electric Women', 'Cargo-Bike',\n",
            "       'Others'],\n",
            "      dtype='object')\n",
            "Location                     object\n",
            "date                         object\n",
            "Procesado video              object\n",
            "Start time                   object\n",
            "End time                     object\n",
            "Total vehicles                int64\n",
            "Bicing Mechanical Men         int64\n",
            "Bicing Mechanical Women       int64\n",
            "Bicing Electric Men           int64\n",
            "Bicing Electric Women         int64\n",
            "Urban Mechanical Men          int64\n",
            "Urban Mechanical Women        int64\n",
            "Urban Electric Men            int64\n",
            "Urban Electric Women          int64\n",
            "Scooter Electric Men          int64\n",
            "Scooter Electric Women        int64\n",
            "Foldable Mechanical Men       int64\n",
            "Foldable Mechanical Women     int64\n",
            "Foldable Electric Men         int64\n",
            "Foldable Electric Women       int64\n",
            "Cargo-Bike                    int64\n",
            "Others                        int64\n",
            "dtype: object\n"
          ]
        },
        {
          "data": {
            "text/html": [
              "<div>\n",
              "<style scoped>\n",
              "    .dataframe tbody tr th:only-of-type {\n",
              "        vertical-align: middle;\n",
              "    }\n",
              "\n",
              "    .dataframe tbody tr th {\n",
              "        vertical-align: top;\n",
              "    }\n",
              "\n",
              "    .dataframe thead th {\n",
              "        text-align: right;\n",
              "    }\n",
              "</style>\n",
              "<table border=\"1\" class=\"dataframe\">\n",
              "  <thead>\n",
              "    <tr style=\"text-align: right;\">\n",
              "      <th></th>\n",
              "      <th>Location</th>\n",
              "      <th>date</th>\n",
              "      <th>Procesado video</th>\n",
              "      <th>Start time</th>\n",
              "      <th>End time</th>\n",
              "      <th>Total vehicles</th>\n",
              "      <th>Bicing Mechanical Men</th>\n",
              "      <th>Bicing Mechanical Women</th>\n",
              "      <th>Bicing Electric Men</th>\n",
              "      <th>Bicing Electric Women</th>\n",
              "      <th>...</th>\n",
              "      <th>Urban Electric Men</th>\n",
              "      <th>Urban Electric Women</th>\n",
              "      <th>Scooter Electric Men</th>\n",
              "      <th>Scooter Electric Women</th>\n",
              "      <th>Foldable Mechanical Men</th>\n",
              "      <th>Foldable Mechanical Women</th>\n",
              "      <th>Foldable Electric Men</th>\n",
              "      <th>Foldable Electric Women</th>\n",
              "      <th>Cargo-Bike</th>\n",
              "      <th>Others</th>\n",
              "    </tr>\n",
              "  </thead>\n",
              "  <tbody>\n",
              "    <tr>\n",
              "      <th>347</th>\n",
              "      <td>DiagonalAmbGanduxer</td>\n",
              "      <td>2024-09-26</td>\n",
              "      <td>4</td>\n",
              "      <td>18:30:00</td>\n",
              "      <td>18:45:00</td>\n",
              "      <td>182</td>\n",
              "      <td>1</td>\n",
              "      <td>1</td>\n",
              "      <td>36</td>\n",
              "      <td>5</td>\n",
              "      <td>...</td>\n",
              "      <td>26</td>\n",
              "      <td>5</td>\n",
              "      <td>34</td>\n",
              "      <td>13</td>\n",
              "      <td>7</td>\n",
              "      <td>3</td>\n",
              "      <td>4</td>\n",
              "      <td>7</td>\n",
              "      <td>2</td>\n",
              "      <td>3</td>\n",
              "    </tr>\n",
              "    <tr>\n",
              "      <th>348</th>\n",
              "      <td>DiagonalAmbGanduxer</td>\n",
              "      <td>2024-09-26</td>\n",
              "      <td>5</td>\n",
              "      <td>18:45:00</td>\n",
              "      <td>19:00:00</td>\n",
              "      <td>186</td>\n",
              "      <td>1</td>\n",
              "      <td>0</td>\n",
              "      <td>37</td>\n",
              "      <td>13</td>\n",
              "      <td>...</td>\n",
              "      <td>23</td>\n",
              "      <td>7</td>\n",
              "      <td>36</td>\n",
              "      <td>9</td>\n",
              "      <td>9</td>\n",
              "      <td>2</td>\n",
              "      <td>7</td>\n",
              "      <td>3</td>\n",
              "      <td>0</td>\n",
              "      <td>5</td>\n",
              "    </tr>\n",
              "    <tr>\n",
              "      <th>349</th>\n",
              "      <td>DiagonalAmbGanduxer</td>\n",
              "      <td>2024-09-26</td>\n",
              "      <td>6</td>\n",
              "      <td>19:00:00</td>\n",
              "      <td>19:15:00</td>\n",
              "      <td>166</td>\n",
              "      <td>1</td>\n",
              "      <td>0</td>\n",
              "      <td>31</td>\n",
              "      <td>14</td>\n",
              "      <td>...</td>\n",
              "      <td>25</td>\n",
              "      <td>7</td>\n",
              "      <td>28</td>\n",
              "      <td>8</td>\n",
              "      <td>2</td>\n",
              "      <td>2</td>\n",
              "      <td>8</td>\n",
              "      <td>3</td>\n",
              "      <td>1</td>\n",
              "      <td>2</td>\n",
              "    </tr>\n",
              "    <tr>\n",
              "      <th>350</th>\n",
              "      <td>DiagonalAmbGanduxer</td>\n",
              "      <td>2024-09-26</td>\n",
              "      <td>7</td>\n",
              "      <td>19:15:00</td>\n",
              "      <td>19:30:00</td>\n",
              "      <td>210</td>\n",
              "      <td>1</td>\n",
              "      <td>0</td>\n",
              "      <td>41</td>\n",
              "      <td>20</td>\n",
              "      <td>...</td>\n",
              "      <td>21</td>\n",
              "      <td>1</td>\n",
              "      <td>32</td>\n",
              "      <td>14</td>\n",
              "      <td>9</td>\n",
              "      <td>5</td>\n",
              "      <td>8</td>\n",
              "      <td>6</td>\n",
              "      <td>1</td>\n",
              "      <td>4</td>\n",
              "    </tr>\n",
              "    <tr>\n",
              "      <th>351</th>\n",
              "      <td>DiagonalAmbGanduxer</td>\n",
              "      <td>2024-09-26</td>\n",
              "      <td>8</td>\n",
              "      <td>19:30:00</td>\n",
              "      <td>19:45:00</td>\n",
              "      <td>135</td>\n",
              "      <td>0</td>\n",
              "      <td>1</td>\n",
              "      <td>24</td>\n",
              "      <td>10</td>\n",
              "      <td>...</td>\n",
              "      <td>12</td>\n",
              "      <td>3</td>\n",
              "      <td>26</td>\n",
              "      <td>8</td>\n",
              "      <td>4</td>\n",
              "      <td>0</td>\n",
              "      <td>7</td>\n",
              "      <td>1</td>\n",
              "      <td>2</td>\n",
              "      <td>5</td>\n",
              "    </tr>\n",
              "  </tbody>\n",
              "</table>\n",
              "<p>5 rows × 22 columns</p>\n",
              "</div>"
            ],
            "text/plain": [
              "                Location        date Procesado video Start time  End time  \\\n",
              "347  DiagonalAmbGanduxer  2024-09-26               4   18:30:00  18:45:00   \n",
              "348  DiagonalAmbGanduxer  2024-09-26               5   18:45:00  19:00:00   \n",
              "349  DiagonalAmbGanduxer  2024-09-26               6   19:00:00  19:15:00   \n",
              "350  DiagonalAmbGanduxer  2024-09-26               7   19:15:00  19:30:00   \n",
              "351  DiagonalAmbGanduxer  2024-09-26               8   19:30:00  19:45:00   \n",
              "\n",
              "     Total vehicles  Bicing Mechanical Men  Bicing Mechanical Women  \\\n",
              "347             182                      1                        1   \n",
              "348             186                      1                        0   \n",
              "349             166                      1                        0   \n",
              "350             210                      1                        0   \n",
              "351             135                      0                        1   \n",
              "\n",
              "     Bicing Electric Men  Bicing Electric Women  ...  Urban Electric Men  \\\n",
              "347                   36                      5  ...                  26   \n",
              "348                   37                     13  ...                  23   \n",
              "349                   31                     14  ...                  25   \n",
              "350                   41                     20  ...                  21   \n",
              "351                   24                     10  ...                  12   \n",
              "\n",
              "     Urban Electric Women  Scooter Electric Men  Scooter Electric Women  \\\n",
              "347                     5                    34                      13   \n",
              "348                     7                    36                       9   \n",
              "349                     7                    28                       8   \n",
              "350                     1                    32                      14   \n",
              "351                     3                    26                       8   \n",
              "\n",
              "     Foldable Mechanical Men  Foldable Mechanical Women  \\\n",
              "347                        7                          3   \n",
              "348                        9                          2   \n",
              "349                        2                          2   \n",
              "350                        9                          5   \n",
              "351                        4                          0   \n",
              "\n",
              "     Foldable Electric Men  Foldable Electric Women  Cargo-Bike  Others  \n",
              "347                      4                        7           2       3  \n",
              "348                      7                        3           0       5  \n",
              "349                      8                        3           1       2  \n",
              "350                      8                        6           1       4  \n",
              "351                      7                        1           2       5  \n",
              "\n",
              "[5 rows x 22 columns]"
            ]
          },
          "execution_count": 26,
          "metadata": {},
          "output_type": "execute_result"
        }
      ],
      "source": [
        "#Explore counts\n",
        "print(counts.shape)\n",
        "print(counts.columns)\n",
        "print(counts.dtypes)\n",
        "counts.tail()"
      ]
    },
    {
      "cell_type": "markdown",
      "metadata": {},
      "source": [
        "## Group or scale it by hour\n"
      ]
    },
    {
      "cell_type": "code",
      "execution_count": 27,
      "metadata": {},
      "outputs": [
        {
          "data": {
            "text/html": [
              "<div>\n",
              "<style scoped>\n",
              "    .dataframe tbody tr th:only-of-type {\n",
              "        vertical-align: middle;\n",
              "    }\n",
              "\n",
              "    .dataframe tbody tr th {\n",
              "        vertical-align: top;\n",
              "    }\n",
              "\n",
              "    .dataframe thead th {\n",
              "        text-align: right;\n",
              "    }\n",
              "</style>\n",
              "<table border=\"1\" class=\"dataframe\">\n",
              "  <thead>\n",
              "    <tr style=\"text-align: right;\">\n",
              "      <th></th>\n",
              "      <th>Location</th>\n",
              "      <th>datetime</th>\n",
              "      <th>Hour</th>\n",
              "      <th>minutes</th>\n",
              "    </tr>\n",
              "  </thead>\n",
              "  <tbody>\n",
              "    <tr>\n",
              "      <th>0</th>\n",
              "      <td>AragoAmbRCatalunya</td>\n",
              "      <td>2023-09-28 07:45:00</td>\n",
              "      <td>7</td>\n",
              "      <td>15.0</td>\n",
              "    </tr>\n",
              "    <tr>\n",
              "      <th>1</th>\n",
              "      <td>AragoAmbRCatalunya</td>\n",
              "      <td>2023-09-28 08:00:00</td>\n",
              "      <td>8</td>\n",
              "      <td>15.0</td>\n",
              "    </tr>\n",
              "  </tbody>\n",
              "</table>\n",
              "</div>"
            ],
            "text/plain": [
              "             Location            datetime  Hour  minutes\n",
              "0  AragoAmbRCatalunya 2023-09-28 07:45:00     7     15.0\n",
              "1  AragoAmbRCatalunya 2023-09-28 08:00:00     8     15.0"
            ]
          },
          "execution_count": 27,
          "metadata": {},
          "output_type": "execute_result"
        }
      ],
      "source": [
        "#Handle temporal data\n",
        "counts[\"datetime\"] = pd.to_datetime(counts[\"date\"].astype(str) + ' ' + counts[\"Start time\"].astype(str))\n",
        "counts[\"end_datetime\"] = pd.to_datetime(counts[\"date\"].astype(str) + ' ' + counts[\"End time\"].astype(str))\n",
        "# Calculate the difference between End time and Start time in minutes\n",
        "counts[\"minutes\"] = (counts[\"end_datetime\"] - counts[\"datetime\"]).dt.total_seconds() / 60\n",
        "\n",
        "counts[\"Hour\"] = counts[\"datetime\"].dt.hour\n",
        "counts[['Location', 'datetime', 'Hour', \"minutes\"]].head(2)"
      ]
    },
    {
      "cell_type": "code",
      "execution_count": 28,
      "metadata": {},
      "outputs": [
        {
          "name": "stdout",
          "output_type": "stream",
          "text": [
            "(352, 26)\n",
            "(132, 5)\n"
          ]
        },
        {
          "data": {
            "text/html": [
              "<div>\n",
              "<style scoped>\n",
              "    .dataframe tbody tr th:only-of-type {\n",
              "        vertical-align: middle;\n",
              "    }\n",
              "\n",
              "    .dataframe tbody tr th {\n",
              "        vertical-align: top;\n",
              "    }\n",
              "\n",
              "    .dataframe thead th {\n",
              "        text-align: right;\n",
              "    }\n",
              "</style>\n",
              "<table border=\"1\" class=\"dataframe\">\n",
              "  <thead>\n",
              "    <tr style=\"text-align: right;\">\n",
              "      <th></th>\n",
              "      <th>Location</th>\n",
              "      <th>date</th>\n",
              "      <th>Hour</th>\n",
              "      <th>Count</th>\n",
              "      <th>minutes</th>\n",
              "    </tr>\n",
              "  </thead>\n",
              "  <tbody>\n",
              "    <tr>\n",
              "      <th>0</th>\n",
              "      <td>AragoAmbRCatalunya</td>\n",
              "      <td>2023-09-07</td>\n",
              "      <td>7</td>\n",
              "      <td>56</td>\n",
              "      <td>15.0</td>\n",
              "    </tr>\n",
              "    <tr>\n",
              "      <th>1</th>\n",
              "      <td>AragoAmbRCatalunya</td>\n",
              "      <td>2023-09-07</td>\n",
              "      <td>8</td>\n",
              "      <td>222</td>\n",
              "      <td>60.0</td>\n",
              "    </tr>\n",
              "    <tr>\n",
              "      <th>2</th>\n",
              "      <td>AragoAmbRCatalunya</td>\n",
              "      <td>2023-09-07</td>\n",
              "      <td>9</td>\n",
              "      <td>141</td>\n",
              "      <td>45.0</td>\n",
              "    </tr>\n",
              "    <tr>\n",
              "      <th>3</th>\n",
              "      <td>AragoAmbRCatalunya</td>\n",
              "      <td>2023-09-07</td>\n",
              "      <td>17</td>\n",
              "      <td>54</td>\n",
              "      <td>15.0</td>\n",
              "    </tr>\n",
              "    <tr>\n",
              "      <th>4</th>\n",
              "      <td>AragoAmbRCatalunya</td>\n",
              "      <td>2023-09-07</td>\n",
              "      <td>18</td>\n",
              "      <td>230</td>\n",
              "      <td>60.0</td>\n",
              "    </tr>\n",
              "  </tbody>\n",
              "</table>\n",
              "</div>"
            ],
            "text/plain": [
              "             Location        date  Hour  Count  minutes\n",
              "0  AragoAmbRCatalunya  2023-09-07     7     56     15.0\n",
              "1  AragoAmbRCatalunya  2023-09-07     8    222     60.0\n",
              "2  AragoAmbRCatalunya  2023-09-07     9    141     45.0\n",
              "3  AragoAmbRCatalunya  2023-09-07    17     54     15.0\n",
              "4  AragoAmbRCatalunya  2023-09-07    18    230     60.0"
            ]
          },
          "execution_count": 28,
          "metadata": {},
          "output_type": "execute_result"
        }
      ],
      "source": [
        "#Group by hour\n",
        "counts_by_hour = counts.groupby(['Location', 'date', 'Hour'])[['Total vehicles', 'minutes']].sum().reset_index()\n",
        "counts_by_hour.rename(columns={'Total vehicles': 'Count'}, inplace=True)\n",
        "print(counts.shape)\n",
        "print(counts_by_hour.shape)\n",
        "counts_by_hour.head()"
      ]
    },
    {
      "cell_type": "code",
      "execution_count": 29,
      "metadata": {},
      "outputs": [
        {
          "data": {
            "text/plain": [
              "count    132.000000\n",
              "mean     505.477273\n",
              "std      204.591010\n",
              "min      144.000000\n",
              "25%      362.000000\n",
              "50%      483.166667\n",
              "75%      678.083333\n",
              "max      978.000000\n",
              "Name: Count, dtype: float64"
            ]
          },
          "execution_count": 29,
          "metadata": {},
          "output_type": "execute_result"
        }
      ],
      "source": [
        "#Make factor\n",
        "counts_by_hour[\"Factor\"]=60/counts_by_hour[\"minutes\"]\n",
        "counts_by_hour[\"Factor\"].value_counts()\n",
        "\n",
        "#Apply factor\n",
        "counts_by_hour[\"Count\"]=counts_by_hour[\"Count\"]*counts_by_hour[\"Factor\"]\n",
        "counts_by_hour[\"Count\"].describe()"
      ]
    },
    {
      "cell_type": "code",
      "execution_count": 30,
      "metadata": {},
      "outputs": [
        {
          "data": {
            "text/html": [
              "<div>\n",
              "<style scoped>\n",
              "    .dataframe tbody tr th:only-of-type {\n",
              "        vertical-align: middle;\n",
              "    }\n",
              "\n",
              "    .dataframe tbody tr th {\n",
              "        vertical-align: top;\n",
              "    }\n",
              "\n",
              "    .dataframe thead th {\n",
              "        text-align: right;\n",
              "    }\n",
              "</style>\n",
              "<table border=\"1\" class=\"dataframe\">\n",
              "  <thead>\n",
              "    <tr style=\"text-align: right;\">\n",
              "      <th></th>\n",
              "      <th>Location</th>\n",
              "      <th>Count</th>\n",
              "    </tr>\n",
              "  </thead>\n",
              "  <tbody>\n",
              "    <tr>\n",
              "      <th>0</th>\n",
              "      <td>AragoAmbRCatalunya</td>\n",
              "      <td>229.416667</td>\n",
              "    </tr>\n",
              "    <tr>\n",
              "      <th>1</th>\n",
              "      <td>DiagonalAmb5D</td>\n",
              "      <td>505.083333</td>\n",
              "    </tr>\n",
              "    <tr>\n",
              "      <th>2</th>\n",
              "      <td>DiagonalAmbGanduxer</td>\n",
              "      <td>780.472222</td>\n",
              "    </tr>\n",
              "    <tr>\n",
              "      <th>3</th>\n",
              "      <td>DiagonalAmbGlories</td>\n",
              "      <td>625.027778</td>\n",
              "    </tr>\n",
              "    <tr>\n",
              "      <th>4</th>\n",
              "      <td>GranVíaAmbLaBordeta</td>\n",
              "      <td>380.222222</td>\n",
              "    </tr>\n",
              "    <tr>\n",
              "      <th>5</th>\n",
              "      <td>MeridianaAmbAragó</td>\n",
              "      <td>374.611111</td>\n",
              "    </tr>\n",
              "  </tbody>\n",
              "</table>\n",
              "</div>"
            ],
            "text/plain": [
              "              Location       Count\n",
              "0   AragoAmbRCatalunya  229.416667\n",
              "1        DiagonalAmb5D  505.083333\n",
              "2  DiagonalAmbGanduxer  780.472222\n",
              "3   DiagonalAmbGlories  625.027778\n",
              "4  GranVíaAmbLaBordeta  380.222222\n",
              "5    MeridianaAmbAragó  374.611111"
            ]
          },
          "execution_count": 30,
          "metadata": {},
          "output_type": "execute_result"
        }
      ],
      "source": [
        "test = counts_by_hour.copy()\n",
        "test = test.groupby('Location').agg({'Count': 'mean'}).reset_index()\n",
        "test \n"
      ]
    },
    {
      "cell_type": "code",
      "execution_count": 8,
      "metadata": {},
      "outputs": [
        {
          "data": {
            "text/plain": [
              "count    132.000000\n",
              "mean     298.655303\n",
              "std      145.955804\n",
              "min       72.000000\n",
              "25%      184.000000\n",
              "50%      304.000000\n",
              "75%      388.166667\n",
              "max      696.000000\n",
              "Name: Count, dtype: float64"
            ]
          },
          "execution_count": 8,
          "metadata": {},
          "output_type": "execute_result"
        }
      ],
      "source": [
        "#Most of the locations are bidirectional, except \n",
        "counts_by_hour.loc[counts_by_hour['Location'] != 'DiagonalAmb5D', 'Count'] = counts_by_hour['Count'] / 2\n",
        "counts_by_hour[\"Count\"].describe()"
      ]
    },
    {
      "cell_type": "markdown",
      "metadata": {},
      "source": [
        "## Add location & BiciZen ID"
      ]
    },
    {
      "cell_type": "code",
      "execution_count": 9,
      "metadata": {},
      "outputs": [
        {
          "data": {
            "text/plain": [
              "Index(['Location', 'date', 'Hour', 'Count', 'minutes', 'Factor', 'Latitud',\n",
              "       'Longitud', 'ROOT_ID'],\n",
              "      dtype='object')"
            ]
          },
          "execution_count": 9,
          "metadata": {},
          "output_type": "execute_result"
        }
      ],
      "source": [
        "locations = {\n",
        "    'DiagonalAmb5D': {'lat': 41.396333, 'lon': 2.159083, 'ROOT_ID': 1095689},\n",
        "    'DiagonalAmbGanduxer': {'lat': 41.391639, 'lon': 2.139417, 'ROOT_ID': 1095690},\n",
        "    'MeridianaAmbAragó': {'lat': 41.409056, 'lon': 2.186861, 'ROOT_ID': 1095691},\n",
        "    'DiagonalAmbGlories': {'lat': 41.402722, 'lon': 2.183528, 'ROOT_ID': 1095692},\n",
        "    'GranVíaAmbLaBordeta': {'lat': 41.373639, 'lon': 2.147028, 'ROOT_ID': 1095693},\n",
        "    'AragoAmbRCatalunya': {'lat': 41.391139, 'lon': 2.163694, 'ROOT_ID': 1095694}\n",
        "}\n",
        "\n",
        "# Join count with locations\n",
        "locations_df = pd.DataFrame.from_dict(locations, orient='index').reset_index()\n",
        "locations_df.columns = ['Location', 'Latitud', 'Longitud','ROOT_ID']\n",
        "df = counts_by_hour.merge(locations_df, on='Location', how='left')\n",
        "\n",
        "df.columns\n",
        "\n"
      ]
    },
    {
      "cell_type": "markdown",
      "metadata": {},
      "source": [
        "### Deal with date and Join with location"
      ]
    },
    {
      "cell_type": "code",
      "execution_count": 10,
      "metadata": {},
      "outputs": [],
      "source": [
        "# Convert date column to datetime\n",
        "df[\"date\"] = pd.to_datetime(df[\"date\"])\n",
        "\n",
        "# Extract Year, Month, Weekday, and Day from date\n",
        "df[\"Year\"] = df[\"date\"].dt.year\n",
        "df[\"Month\"] = df[\"date\"].dt.month\n",
        "df[\"weekday\"] = df[\"date\"].dt.weekday\n",
        "df[\"Day\"] = df[\"date\"].dt.day\n",
        "\n"
      ]
    },
    {
      "cell_type": "code",
      "execution_count": 11,
      "metadata": {},
      "outputs": [
        {
          "data": {
            "text/plain": [
              "Index(['Location', 'date', 'Hour', 'Count', 'minutes', 'Factor', 'Latitud',\n",
              "       'Longitud', 'ROOT_ID', 'Year', 'Month', 'weekday', 'Day'],\n",
              "      dtype='object')"
            ]
          },
          "execution_count": 11,
          "metadata": {},
          "output_type": "execute_result"
        }
      ],
      "source": [
        "df.columns"
      ]
    },
    {
      "cell_type": "code",
      "execution_count": 12,
      "metadata": {},
      "outputs": [],
      "source": [
        "df=df[['ROOT_ID', 'Year', 'Month', 'weekday', 'Day', 'Hour', 'Count',\n",
        "       'Latitud', 'Longitud']]"
      ]
    },
    {
      "cell_type": "code",
      "execution_count": 13,
      "metadata": {},
      "outputs": [
        {
          "name": "stdout",
          "output_type": "stream",
          "text": [
            "0\n",
            "(132, 10)\n"
          ]
        },
        {
          "data": {
            "text/html": [
              "<div>\n",
              "<style scoped>\n",
              "    .dataframe tbody tr th:only-of-type {\n",
              "        vertical-align: middle;\n",
              "    }\n",
              "\n",
              "    .dataframe tbody tr th {\n",
              "        vertical-align: top;\n",
              "    }\n",
              "\n",
              "    .dataframe thead th {\n",
              "        text-align: right;\n",
              "    }\n",
              "</style>\n",
              "<table border=\"1\" class=\"dataframe\">\n",
              "  <thead>\n",
              "    <tr style=\"text-align: right;\">\n",
              "      <th></th>\n",
              "      <th>ROOT_ID</th>\n",
              "      <th>Year</th>\n",
              "      <th>Month</th>\n",
              "      <th>weekday</th>\n",
              "      <th>Day</th>\n",
              "      <th>Hour</th>\n",
              "      <th>Count</th>\n",
              "      <th>Latitud</th>\n",
              "      <th>Longitud</th>\n",
              "      <th>geometry</th>\n",
              "    </tr>\n",
              "  </thead>\n",
              "  <tbody>\n",
              "    <tr>\n",
              "      <th>0</th>\n",
              "      <td>1095694</td>\n",
              "      <td>2023</td>\n",
              "      <td>9</td>\n",
              "      <td>3</td>\n",
              "      <td>7</td>\n",
              "      <td>7</td>\n",
              "      <td>112.0</td>\n",
              "      <td>41.391139</td>\n",
              "      <td>2.163694</td>\n",
              "      <td>POINT (2.16369 41.39114)</td>\n",
              "    </tr>\n",
              "    <tr>\n",
              "      <th>1</th>\n",
              "      <td>1095694</td>\n",
              "      <td>2023</td>\n",
              "      <td>9</td>\n",
              "      <td>3</td>\n",
              "      <td>7</td>\n",
              "      <td>8</td>\n",
              "      <td>111.0</td>\n",
              "      <td>41.391139</td>\n",
              "      <td>2.163694</td>\n",
              "      <td>POINT (2.16369 41.39114)</td>\n",
              "    </tr>\n",
              "    <tr>\n",
              "      <th>2</th>\n",
              "      <td>1095694</td>\n",
              "      <td>2023</td>\n",
              "      <td>9</td>\n",
              "      <td>3</td>\n",
              "      <td>7</td>\n",
              "      <td>9</td>\n",
              "      <td>94.0</td>\n",
              "      <td>41.391139</td>\n",
              "      <td>2.163694</td>\n",
              "      <td>POINT (2.16369 41.39114)</td>\n",
              "    </tr>\n",
              "    <tr>\n",
              "      <th>3</th>\n",
              "      <td>1095694</td>\n",
              "      <td>2023</td>\n",
              "      <td>9</td>\n",
              "      <td>3</td>\n",
              "      <td>7</td>\n",
              "      <td>17</td>\n",
              "      <td>108.0</td>\n",
              "      <td>41.391139</td>\n",
              "      <td>2.163694</td>\n",
              "      <td>POINT (2.16369 41.39114)</td>\n",
              "    </tr>\n",
              "    <tr>\n",
              "      <th>4</th>\n",
              "      <td>1095694</td>\n",
              "      <td>2023</td>\n",
              "      <td>9</td>\n",
              "      <td>3</td>\n",
              "      <td>7</td>\n",
              "      <td>18</td>\n",
              "      <td>115.0</td>\n",
              "      <td>41.391139</td>\n",
              "      <td>2.163694</td>\n",
              "      <td>POINT (2.16369 41.39114)</td>\n",
              "    </tr>\n",
              "  </tbody>\n",
              "</table>\n",
              "</div>"
            ],
            "text/plain": [
              "   ROOT_ID  Year  Month  weekday  Day  Hour  Count    Latitud  Longitud  \\\n",
              "0  1095694  2023      9        3    7     7  112.0  41.391139  2.163694   \n",
              "1  1095694  2023      9        3    7     8  111.0  41.391139  2.163694   \n",
              "2  1095694  2023      9        3    7     9   94.0  41.391139  2.163694   \n",
              "3  1095694  2023      9        3    7    17  108.0  41.391139  2.163694   \n",
              "4  1095694  2023      9        3    7    18  115.0  41.391139  2.163694   \n",
              "\n",
              "                   geometry  \n",
              "0  POINT (2.16369 41.39114)  \n",
              "1  POINT (2.16369 41.39114)  \n",
              "2  POINT (2.16369 41.39114)  \n",
              "3  POINT (2.16369 41.39114)  \n",
              "4  POINT (2.16369 41.39114)  "
            ]
          },
          "execution_count": 13,
          "metadata": {},
          "output_type": "execute_result"
        }
      ],
      "source": [
        "gdf = gpd.GeoDataFrame(df, geometry=gpd.points_from_xy(df.Longitud, df.Latitud))\n",
        "print(gdf.isna().sum().sum())\n",
        "print(gdf.shape)\n",
        "gdf.head()"
      ]
    },
    {
      "cell_type": "markdown",
      "metadata": {},
      "source": [
        "# Station data"
      ]
    },
    {
      "cell_type": "code",
      "execution_count": 37,
      "metadata": {},
      "outputs": [
        {
          "data": {
            "text/html": [
              "<div>\n",
              "<style scoped>\n",
              "    .dataframe tbody tr th:only-of-type {\n",
              "        vertical-align: middle;\n",
              "    }\n",
              "\n",
              "    .dataframe tbody tr th {\n",
              "        vertical-align: top;\n",
              "    }\n",
              "\n",
              "    .dataframe thead th {\n",
              "        text-align: right;\n",
              "    }\n",
              "</style>\n",
              "<table border=\"1\" class=\"dataframe\">\n",
              "  <thead>\n",
              "    <tr style=\"text-align: right;\">\n",
              "      <th></th>\n",
              "      <th>Location</th>\n",
              "      <th>Latitud</th>\n",
              "      <th>Longitud</th>\n",
              "      <th>ROOT_ID</th>\n",
              "      <th>Desc</th>\n",
              "      <th>Direction</th>\n",
              "      <th>Directionality</th>\n",
              "    </tr>\n",
              "  </thead>\n",
              "  <tbody>\n",
              "    <tr>\n",
              "      <th>0</th>\n",
              "      <td>DiagonalAmb5D</td>\n",
              "      <td>41.396333</td>\n",
              "      <td>2.159083</td>\n",
              "      <td>1095689</td>\n",
              "      <td>Diagonal Plaza 5 Oros</td>\n",
              "      <td>NE</td>\n",
              "      <td>Unidirectional</td>\n",
              "    </tr>\n",
              "    <tr>\n",
              "      <th>1</th>\n",
              "      <td>DiagonalAmbGanduxer</td>\n",
              "      <td>41.391639</td>\n",
              "      <td>2.139417</td>\n",
              "      <td>1095690</td>\n",
              "      <td>Diagonal Amb Ganduxer</td>\n",
              "      <td>SW</td>\n",
              "      <td>Bidirectional</td>\n",
              "    </tr>\n",
              "    <tr>\n",
              "      <th>2</th>\n",
              "      <td>MeridianaAmbAragó</td>\n",
              "      <td>41.409056</td>\n",
              "      <td>2.186861</td>\n",
              "      <td>1095691</td>\n",
              "      <td>Meridiana Amb Aragó</td>\n",
              "      <td>N</td>\n",
              "      <td>Bidirectional</td>\n",
              "    </tr>\n",
              "    <tr>\n",
              "      <th>3</th>\n",
              "      <td>DiagonalAmbGlories</td>\n",
              "      <td>41.402722</td>\n",
              "      <td>2.183528</td>\n",
              "      <td>1095692</td>\n",
              "      <td>Diagonal Amb Glories</td>\n",
              "      <td>NE</td>\n",
              "      <td>Bidirectional</td>\n",
              "    </tr>\n",
              "    <tr>\n",
              "      <th>4</th>\n",
              "      <td>GranVíaAmbLaBordeta</td>\n",
              "      <td>41.373639</td>\n",
              "      <td>2.147028</td>\n",
              "      <td>1095693</td>\n",
              "      <td>Gran Via Amb La Bordeta</td>\n",
              "      <td>SW</td>\n",
              "      <td>Bidirectional</td>\n",
              "    </tr>\n",
              "    <tr>\n",
              "      <th>5</th>\n",
              "      <td>AragoAmbRCatalunya</td>\n",
              "      <td>41.391139</td>\n",
              "      <td>2.163694</td>\n",
              "      <td>1095694</td>\n",
              "      <td>Aragó Amb Ronda Catalunya</td>\n",
              "      <td>SW</td>\n",
              "      <td>Unidirectional</td>\n",
              "    </tr>\n",
              "  </tbody>\n",
              "</table>\n",
              "</div>"
            ],
            "text/plain": [
              "              Location    Latitud  Longitud  ROOT_ID  \\\n",
              "0        DiagonalAmb5D  41.396333  2.159083  1095689   \n",
              "1  DiagonalAmbGanduxer  41.391639  2.139417  1095690   \n",
              "2    MeridianaAmbAragó  41.409056  2.186861  1095691   \n",
              "3   DiagonalAmbGlories  41.402722  2.183528  1095692   \n",
              "4  GranVíaAmbLaBordeta  41.373639  2.147028  1095693   \n",
              "5   AragoAmbRCatalunya  41.391139  2.163694  1095694   \n",
              "\n",
              "                        Desc Direction  Directionality  \n",
              "0      Diagonal Plaza 5 Oros        NE  Unidirectional  \n",
              "1      Diagonal Amb Ganduxer        SW   Bidirectional  \n",
              "2        Meridiana Amb Aragó         N   Bidirectional  \n",
              "3       Diagonal Amb Glories        NE   Bidirectional  \n",
              "4    Gran Via Amb La Bordeta        SW   Bidirectional  \n",
              "5  Aragó Amb Ronda Catalunya        SW  Unidirectional  "
            ]
          },
          "execution_count": 37,
          "metadata": {},
          "output_type": "execute_result"
        }
      ],
      "source": [
        "stations_details = {\n",
        "    1095689: {'Desc': 'Diagonal Plaza 5 Oros', 'Direction': 'NE', 'Directionality': 'Unidirectional'},\n",
        "    1095690: {'Desc': 'Diagonal Amb Ganduxer', 'Direction': 'SW', 'Directionality': 'Bidirectional'},\n",
        "    1095691: {'Desc': 'Meridiana Amb Aragó', 'Direction': 'N', 'Directionality': 'Bidirectional'},\n",
        "    1095692: {'Desc': 'Diagonal Amb Glories', 'Direction': 'NE', 'Directionality': 'Bidirectional'},\n",
        "    1095693: {'Desc': 'Gran Via Amb La Bordeta', 'Direction': 'SW', 'Directionality': 'Bidirectional'},\n",
        "    1095694: {'Desc': 'Aragó Amb Ronda Catalunya', 'Direction': 'SW', 'Directionality': 'Unidirectional'}\n",
        "}\n",
        "stations = pd.DataFrame.from_dict(stations_details, orient='index').reset_index()\n",
        "#Rename indes to ROOT_ID\n",
        "stations.rename(columns={'index': 'ROOT_ID'}, inplace=True)\n",
        "\n",
        "stations=pd.merge(locations_df,stations, on='ROOT_ID', how='inner')\n",
        "stations\n"
      ]
    },
    {
      "cell_type": "markdown",
      "metadata": {
        "id": "a_ZrQ64i7plQ"
      },
      "source": [
        "## Save output"
      ]
    },
    {
      "cell_type": "code",
      "execution_count": 38,
      "metadata": {
        "id": "6bj2-CeR7owh"
      },
      "outputs": [],
      "source": [
        "if SAVE_OUTPUT:\n",
        "    gdf.to_parquet(f'{OUTPUT_DATA_PATH}/BACC.parquet')\n",
        "    stations.to_parquet(f'{OUTPUT_DATA_PATH}/bacc_stations.parquet')"
      ]
    },
    {
      "cell_type": "markdown",
      "metadata": {
        "id": "xT_uQYZSbEty"
      },
      "source": [
        "## Watermark"
      ]
    },
    {
      "cell_type": "code",
      "execution_count": 139,
      "metadata": {
        "id": "iY8ZyfnAbFoO"
      },
      "outputs": [],
      "source": [
        "!python -m pip install watermark --quiet"
      ]
    },
    {
      "cell_type": "code",
      "execution_count": 140,
      "metadata": {
        "id": "Cd2yG3BgbGE3"
      },
      "outputs": [
        {
          "name": "stdout",
          "output_type": "stream",
          "text": [
            "The watermark extension is already loaded. To reload it, use:\n",
            "  %reload_ext watermark\n"
          ]
        }
      ],
      "source": [
        "%load_ext watermark"
      ]
    },
    {
      "cell_type": "code",
      "execution_count": 141,
      "metadata": {
        "colab": {
          "base_uri": "https://localhost:8080/"
        },
        "id": "Ef6VBO1QbI-_",
        "outputId": "9551ad1c-634d-4484-dc4a-f6a971884ccc"
      },
      "outputs": [
        {
          "name": "stdout",
          "output_type": "stream",
          "text": [
            "Last updated: 2025-03-21T20:50:22.194862+01:00\n",
            "\n",
            "Python implementation: CPython\n",
            "Python version       : 3.11.9\n",
            "IPython version      : 8.25.0\n",
            "\n",
            "Compiler    : MSC v.1938 64 bit (AMD64)\n",
            "OS          : Windows\n",
            "Release     : 10\n",
            "Machine     : AMD64\n",
            "Processor   : AMD64 Family 25 Model 68 Stepping 1, AuthenticAMD\n",
            "CPU cores   : 16\n",
            "Architecture: 64bit\n",
            "\n"
          ]
        }
      ],
      "source": [
        "%watermark"
      ]
    },
    {
      "cell_type": "code",
      "execution_count": 142,
      "metadata": {
        "colab": {
          "base_uri": "https://localhost:8080/"
        },
        "id": "EW9nOXoNbKrP",
        "outputId": "b68ae236-6367-4c9a-b720-5978d2bbcbf4"
      },
      "outputs": [
        {
          "name": "stdout",
          "output_type": "stream",
          "text": [
            "geopandas: 0.13.2\n",
            "pandas   : 2.0.3\n",
            "numpy    : 1.24.4\n",
            "\n"
          ]
        }
      ],
      "source": [
        "%watermark --iversions"
      ]
    },
    {
      "cell_type": "code",
      "execution_count": 143,
      "metadata": {
        "colab": {
          "base_uri": "https://localhost:8080/"
        },
        "id": "2LOCLnX0bMxt",
        "outputId": "e68400d8-8277-4988-d42c-15e02490cce1"
      },
      "outputs": [
        {
          "name": "stderr",
          "output_type": "stream",
          "text": [
            "\"lsb_release\" no se reconoce como un comando interno o externo,\n",
            "programa o archivo por lotes ejecutable.\n"
          ]
        }
      ],
      "source": [
        "!lsb_release -a"
      ]
    }
  ],
  "metadata": {
    "colab": {
      "provenance": [],
      "toc_visible": true
    },
    "kernelspec": {
      "display_name": "ridership_model",
      "language": "python",
      "name": "python3"
    },
    "language_info": {
      "codemirror_mode": {
        "name": "ipython",
        "version": 3
      },
      "file_extension": ".py",
      "mimetype": "text/x-python",
      "name": "python",
      "nbconvert_exporter": "python",
      "pygments_lexer": "ipython3",
      "version": "3.11.9"
    }
  },
  "nbformat": 4,
  "nbformat_minor": 0
}
