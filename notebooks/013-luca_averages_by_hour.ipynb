{
 "cells": [
  {
   "cell_type": "markdown",
   "id": "33c70fad",
   "metadata": {
    "id": "rP8SuqILhaPo",
    "papermill": {
     "duration": 0.006006,
     "end_time": "2025-03-14T15:01:54.233824",
     "exception": false,
     "start_time": "2025-03-14T15:01:54.227818",
     "status": "completed"
    },
    "tags": []
   },
   "source": [
    "## Config"
   ]
  },
  {
   "cell_type": "code",
   "execution_count": 2,
   "id": "34332b88",
   "metadata": {
    "execution": {
     "iopub.execute_input": "2025-03-14T15:01:54.244830Z",
     "iopub.status.busy": "2025-03-14T15:01:54.243834Z",
     "iopub.status.idle": "2025-03-14T15:01:54.250652Z",
     "shell.execute_reply": "2025-03-14T15:01:54.250652Z"
    },
    "executionInfo": {
     "elapsed": 196,
     "status": "ok",
     "timestamp": 1737216414526,
     "user": {
      "displayName": "Luca Liebscht",
      "userId": "11880140528704889234"
     },
     "user_tz": -60
    },
    "id": "I_hrwU9x479z",
    "papermill": {
     "duration": 0.013824,
     "end_time": "2025-03-14T15:01:54.251658",
     "exception": false,
     "start_time": "2025-03-14T15:01:54.237834",
     "status": "completed"
    },
    "tags": [
     "parameters"
    ]
   },
   "outputs": [],
   "source": [
    "# parameters\n",
    "INPUT_DATA_PATH = \"../data/interim/\"\n",
    "INPUT_PROCESSED_DATA_PATH = \"../data/processed/\"\n",
    "\n",
    "YEARS = [2018,2019,2020,2021,2022,2023,2024]\n",
    "\n",
    "SAVE_OUTPUT = True\n",
    "OUTPUT_DATA_PATH = \"../data/interim/\"\n"
   ]
  },
  {
   "cell_type": "code",
   "execution_count": 3,
   "id": "f96ccfa5",
   "metadata": {
    "colab": {
     "base_uri": "https://localhost:8080/"
    },
    "execution": {
     "iopub.execute_input": "2025-03-14T15:01:54.277134Z",
     "iopub.status.busy": "2025-03-14T15:01:54.277134Z",
     "iopub.status.idle": "2025-03-14T15:01:55.391379Z",
     "shell.execute_reply": "2025-03-14T15:01:55.391379Z"
    },
    "executionInfo": {
     "elapsed": 19072,
     "status": "ok",
     "timestamp": 1737216453714,
     "user": {
      "displayName": "Luca Liebscht",
      "userId": "11880140528704889234"
     },
     "user_tz": -60
    },
    "id": "HnDB36CLTIxL",
    "outputId": "5e9ddd8f-0300-40ec-cf32-75cf8dc5e328",
    "papermill": {
     "duration": 1.123307,
     "end_time": "2025-03-14T15:01:55.393427",
     "exception": false,
     "start_time": "2025-03-14T15:01:54.270120",
     "status": "completed"
    },
    "tags": []
   },
   "outputs": [],
   "source": [
    "# Import all necessary libraries\n",
    "import time\n",
    "start = time.time()\n",
    "import geopandas as gpd\n",
    "import pandas as pd\n",
    "from functools import reduce\n",
    "import matplotlib.pyplot as plt\n",
    "import seaborn as sns\n",
    "from sklearn.preprocessing import StandardScaler\n",
    "import plotly.express as px\n",
    "\n",
    "import warnings\n",
    "from pathlib import Path\n"
   ]
  },
  {
   "cell_type": "markdown",
   "id": "06a8ab48",
   "metadata": {
    "papermill": {
     "duration": 0.004997,
     "end_time": "2025-03-14T15:01:55.403523",
     "exception": false,
     "start_time": "2025-03-14T15:01:55.398526",
     "status": "completed"
    },
    "tags": []
   },
   "source": [
    "# Load data"
   ]
  },
  {
   "cell_type": "code",
   "execution_count": 4,
   "id": "1d238869",
   "metadata": {
    "execution": {
     "iopub.execute_input": "2025-03-14T15:01:55.414333Z",
     "iopub.status.busy": "2025-03-14T15:01:55.414333Z",
     "iopub.status.idle": "2025-03-14T15:01:55.599283Z",
     "shell.execute_reply": "2025-03-14T15:01:55.599283Z"
    },
    "papermill": {
     "duration": 0.192256,
     "end_time": "2025-03-14T15:01:55.600290",
     "exception": false,
     "start_time": "2025-03-14T15:01:55.408034",
     "status": "completed"
    },
    "tags": []
   },
   "outputs": [
    {
     "name": "stdout",
     "output_type": "stream",
     "text": [
      "(11319864, 11)\n",
      "Index(['Id_aforament', 'date', 'hour', 'intensity', 'prev_hour_count',\n",
      "       'Daily_Counts', 'duration', 'Number_of_hrs_data_collected', 'day',\n",
      "       'month', 'Number_of_days_data_collected'],\n",
      "      dtype='object')\n"
     ]
    },
    {
     "data": {
      "text/html": [
       "<div>\n",
       "<style scoped>\n",
       "    .dataframe tbody tr th:only-of-type {\n",
       "        vertical-align: middle;\n",
       "    }\n",
       "\n",
       "    .dataframe tbody tr th {\n",
       "        vertical-align: top;\n",
       "    }\n",
       "\n",
       "    .dataframe thead th {\n",
       "        text-align: right;\n",
       "    }\n",
       "</style>\n",
       "<table border=\"1\" class=\"dataframe\">\n",
       "  <thead>\n",
       "    <tr style=\"text-align: right;\">\n",
       "      <th></th>\n",
       "      <th>Id_aforament</th>\n",
       "      <th>date</th>\n",
       "      <th>hour</th>\n",
       "      <th>intensity</th>\n",
       "      <th>prev_hour_count</th>\n",
       "      <th>Daily_Counts</th>\n",
       "      <th>duration</th>\n",
       "      <th>Number_of_hrs_data_collected</th>\n",
       "      <th>day</th>\n",
       "      <th>month</th>\n",
       "      <th>Number_of_days_data_collected</th>\n",
       "    </tr>\n",
       "  </thead>\n",
       "  <tbody>\n",
       "    <tr>\n",
       "      <th>0</th>\n",
       "      <td>20005</td>\n",
       "      <td>2018-12-01</td>\n",
       "      <td>00</td>\n",
       "      <td>132.0</td>\n",
       "      <td>NaN</td>\n",
       "      <td>1835.0</td>\n",
       "      <td>1</td>\n",
       "      <td>24</td>\n",
       "      <td>1</td>\n",
       "      <td>12</td>\n",
       "      <td>30</td>\n",
       "    </tr>\n",
       "    <tr>\n",
       "      <th>1</th>\n",
       "      <td>20005</td>\n",
       "      <td>2018-12-01</td>\n",
       "      <td>01</td>\n",
       "      <td>72.0</td>\n",
       "      <td>NaN</td>\n",
       "      <td>1835.0</td>\n",
       "      <td>1</td>\n",
       "      <td>24</td>\n",
       "      <td>1</td>\n",
       "      <td>12</td>\n",
       "      <td>30</td>\n",
       "    </tr>\n",
       "    <tr>\n",
       "      <th>2</th>\n",
       "      <td>20005</td>\n",
       "      <td>2018-12-01</td>\n",
       "      <td>02</td>\n",
       "      <td>34.0</td>\n",
       "      <td>NaN</td>\n",
       "      <td>1835.0</td>\n",
       "      <td>1</td>\n",
       "      <td>24</td>\n",
       "      <td>1</td>\n",
       "      <td>12</td>\n",
       "      <td>30</td>\n",
       "    </tr>\n",
       "    <tr>\n",
       "      <th>3</th>\n",
       "      <td>20005</td>\n",
       "      <td>2018-12-01</td>\n",
       "      <td>03</td>\n",
       "      <td>19.0</td>\n",
       "      <td>NaN</td>\n",
       "      <td>1835.0</td>\n",
       "      <td>1</td>\n",
       "      <td>24</td>\n",
       "      <td>1</td>\n",
       "      <td>12</td>\n",
       "      <td>30</td>\n",
       "    </tr>\n",
       "    <tr>\n",
       "      <th>4</th>\n",
       "      <td>20005</td>\n",
       "      <td>2018-12-01</td>\n",
       "      <td>04</td>\n",
       "      <td>12.0</td>\n",
       "      <td>NaN</td>\n",
       "      <td>1835.0</td>\n",
       "      <td>1</td>\n",
       "      <td>24</td>\n",
       "      <td>1</td>\n",
       "      <td>12</td>\n",
       "      <td>30</td>\n",
       "    </tr>\n",
       "  </tbody>\n",
       "</table>\n",
       "</div>"
      ],
      "text/plain": [
       "   Id_aforament       date hour  intensity  prev_hour_count  Daily_Counts  \\\n",
       "0         20005 2018-12-01   00      132.0              NaN        1835.0   \n",
       "1         20005 2018-12-01   01       72.0              NaN        1835.0   \n",
       "2         20005 2018-12-01   02       34.0              NaN        1835.0   \n",
       "3         20005 2018-12-01   03       19.0              NaN        1835.0   \n",
       "4         20005 2018-12-01   04       12.0              NaN        1835.0   \n",
       "\n",
       "   duration  Number_of_hrs_data_collected  day  month  \\\n",
       "0         1                            24    1     12   \n",
       "1         1                            24    1     12   \n",
       "2         1                            24    1     12   \n",
       "3         1                            24    1     12   \n",
       "4         1                            24    1     12   \n",
       "\n",
       "   Number_of_days_data_collected  \n",
       "0                             30  \n",
       "1                             30  \n",
       "2                             30  \n",
       "3                             30  \n",
       "4                             30  "
      ]
     },
     "execution_count": 4,
     "metadata": {},
     "output_type": "execute_result"
    }
   ],
   "source": [
    "#Read observations by hour \n",
    "data_all_years = []\n",
    "for YEAR in YEARS:\n",
    "    counters_hour = pd.read_parquet(Path(INPUT_DATA_PATH) / f'cleaned_data{YEAR}.parquet')\n",
    "    data_all_years.append(counters_hour)\n",
    "\n",
    "counters_hour = pd.concat(data_all_years)\n",
    "\n",
    "\n",
    "# Explore the data (shape, columns, head, etc)\n",
    "print(counters_hour.shape)\n",
    "print(counters_hour.columns)\n",
    "counters_hour.head()"
   ]
  },
  {
   "cell_type": "markdown",
   "id": "db39a2aa",
   "metadata": {
    "papermill": {
     "duration": 0.005081,
     "end_time": "2025-03-14T15:01:55.611214",
     "exception": false,
     "start_time": "2025-03-14T15:01:55.606133",
     "status": "completed"
    },
    "tags": []
   },
   "source": [
    "## Fix formats"
   ]
  },
  {
   "cell_type": "code",
   "execution_count": 5,
   "id": "5d3c8b53",
   "metadata": {
    "execution": {
     "iopub.execute_input": "2025-03-14T15:01:55.622497Z",
     "iopub.status.busy": "2025-03-14T15:01:55.622497Z",
     "iopub.status.idle": "2025-03-14T15:01:55.627248Z",
     "shell.execute_reply": "2025-03-14T15:01:55.627248Z"
    },
    "papermill": {
     "duration": 0.013437,
     "end_time": "2025-03-14T15:01:55.629254",
     "exception": false,
     "start_time": "2025-03-14T15:01:55.615817",
     "status": "completed"
    },
    "tags": []
   },
   "outputs": [
    {
     "data": {
      "text/plain": [
       "Id_aforament                              int32\n",
       "date                             datetime64[ns]\n",
       "hour                                     object\n",
       "intensity                               float64\n",
       "prev_hour_count                         float64\n",
       "Daily_Counts                            float64\n",
       "duration                                  int64\n",
       "Number_of_hrs_data_collected              int64\n",
       "day                                       int32\n",
       "month                                     int32\n",
       "Number_of_days_data_collected             int64\n",
       "dtype: object"
      ]
     },
     "execution_count": 5,
     "metadata": {},
     "output_type": "execute_result"
    }
   ],
   "source": [
    "counters_hour.dtypes"
   ]
  },
  {
   "cell_type": "code",
   "execution_count": 6,
   "id": "389cebd5",
   "metadata": {
    "execution": {
     "iopub.execute_input": "2025-03-14T15:01:55.640327Z",
     "iopub.status.busy": "2025-03-14T15:01:55.639079Z",
     "iopub.status.idle": "2025-03-14T15:01:55.923682Z",
     "shell.execute_reply": "2025-03-14T15:01:55.923682Z"
    },
    "papermill": {
     "duration": 0.291953,
     "end_time": "2025-03-14T15:01:55.926016",
     "exception": false,
     "start_time": "2025-03-14T15:01:55.634063",
     "status": "completed"
    },
    "tags": []
   },
   "outputs": [],
   "source": [
    "counters_hour.rename(columns={'Id_aforament': 'id'}, inplace=True)\n",
    "counters_hour[\"intensity\"] = counters_hour[\"intensity\"].astype(int)\n",
    "#Make date column datetime\n",
    "counters_hour['date'] = pd.to_datetime(counters_hour['date'])\n",
    "counters_hour[\"weekday\"] = counters_hour[\"date\"].dt.weekday\n",
    "counters_hour[\"hour\"] = counters_hour[\"hour\"].astype(int)\n",
    "counters_hour[\"year\"] = counters_hour[\"date\"].dt.year"
   ]
  },
  {
   "cell_type": "markdown",
   "id": "c87c69fe",
   "metadata": {
    "papermill": {
     "duration": 0.004988,
     "end_time": "2025-03-14T15:01:56.052265",
     "exception": false,
     "start_time": "2025-03-14T15:01:56.047277",
     "status": "completed"
    },
    "tags": []
   },
   "source": [
    "# Visualize data"
   ]
  },
  {
   "cell_type": "markdown",
   "id": "d9a6aa64",
   "metadata": {},
   "source": [
    "## Visualize by year"
   ]
  },
  {
   "cell_type": "code",
   "execution_count": 7,
   "id": "a43070ff",
   "metadata": {},
   "outputs": [
    {
     "data": {
      "application/vnd.plotly.v1+json": {
       "config": {
        "plotlyServerURL": "https://plot.ly"
       },
       "data": [
        {
         "customdata": [
          [
           159
          ],
          [
           159
          ],
          [
           159
          ],
          [
           159
          ],
          [
           159
          ],
          [
           159
          ],
          [
           159
          ],
          [
           159
          ],
          [
           159
          ],
          [
           159
          ],
          [
           159
          ],
          [
           159
          ],
          [
           159
          ],
          [
           159
          ],
          [
           159
          ],
          [
           159
          ],
          [
           159
          ],
          [
           159
          ],
          [
           159
          ],
          [
           159
          ],
          [
           159
          ],
          [
           159
          ],
          [
           159
          ],
          [
           159
          ]
         ],
         "hovertemplate": "year=2018<br>hour=%{x}<br>intensity=%{y}<br>id=%{customdata[0]}<extra></extra>",
         "legendgroup": "2018",
         "line": {
          "color": "#636efa",
          "dash": "solid"
         },
         "marker": {
          "symbol": "circle"
         },
         "mode": "lines+markers",
         "name": "2018",
         "orientation": "v",
         "showlegend": true,
         "type": "scatter",
         "x": [
          0,
          1,
          2,
          3,
          4,
          5,
          6,
          7,
          8,
          9,
          10,
          11,
          12,
          13,
          14,
          15,
          16,
          17,
          18,
          19,
          20,
          21,
          22,
          23
         ],
         "xaxis": "x",
         "y": [
          41.14710668489227,
          21.9858751545922,
          11.573976436893837,
          8.21343487600078,
          5.705070624227039,
          9.85816572284059,
          23.16962832780056,
          83.13584586343813,
          162.1433964720432,
          146.32656382217016,
          95.65202108963094,
          103.52268437154201,
          113.02180563691988,
          130.25854325327086,
          145.8123413395821,
          134.83082731237388,
          138.33138058972858,
          148.35312113519495,
          174.568443663347,
          160.46852828223655,
          131.9809282041268,
          101.7178285491115,
          67.29160971164487,
          52.52658985875155
         ],
         "yaxis": "y"
        },
        {
         "customdata": [
          [
           219
          ],
          [
           219
          ],
          [
           219
          ],
          [
           219
          ],
          [
           219
          ],
          [
           219
          ],
          [
           219
          ],
          [
           219
          ],
          [
           219
          ],
          [
           219
          ],
          [
           219
          ],
          [
           219
          ],
          [
           219
          ],
          [
           219
          ],
          [
           219
          ],
          [
           219
          ],
          [
           219
          ],
          [
           219
          ],
          [
           219
          ],
          [
           219
          ],
          [
           219
          ],
          [
           219
          ],
          [
           219
          ],
          [
           219
          ]
         ],
         "hovertemplate": "year=2019<br>hour=%{x}<br>intensity=%{y}<br>id=%{customdata[0]}<extra></extra>",
         "legendgroup": "2019",
         "line": {
          "color": "#EF553B",
          "dash": "solid"
         },
         "marker": {
          "symbol": "circle"
         },
         "mode": "lines+markers",
         "name": "2019",
         "orientation": "v",
         "showlegend": true,
         "type": "scatter",
         "x": [
          0,
          1,
          2,
          3,
          4,
          5,
          6,
          7,
          8,
          9,
          10,
          11,
          12,
          13,
          14,
          15,
          16,
          17,
          18,
          19,
          20,
          21,
          22,
          23
         ],
         "xaxis": "x",
         "y": [
          43.5990854196829,
          25.249267276386878,
          14.511688265828596,
          11.125304565839189,
          8.09041632826018,
          12.269836505526325,
          26.397807125957836,
          83.578321974646,
          148.96191602810833,
          130.19772943959885,
          84.96594159398283,
          93.41775839542356,
          104.29856280235884,
          120.66829690313924,
          135.64620925880152,
          130.69767647162683,
          132.26326847699426,
          142.3503831349977,
          163.2962322115894,
          151.040202690773,
          127.33742363784032,
          101.22587308873901,
          71.28426144990995,
          55.632208058194145
         ],
         "yaxis": "y"
        },
        {
         "customdata": [
          [
           240
          ],
          [
           240
          ],
          [
           240
          ],
          [
           240
          ],
          [
           240
          ],
          [
           240
          ],
          [
           240
          ],
          [
           240
          ],
          [
           240
          ],
          [
           240
          ],
          [
           240
          ],
          [
           240
          ],
          [
           240
          ],
          [
           240
          ],
          [
           240
          ],
          [
           240
          ],
          [
           240
          ],
          [
           240
          ],
          [
           240
          ],
          [
           240
          ],
          [
           240
          ],
          [
           240
          ],
          [
           240
          ],
          [
           240
          ]
         ],
         "hovertemplate": "year=2020<br>hour=%{x}<br>intensity=%{y}<br>id=%{customdata[0]}<extra></extra>",
         "legendgroup": "2020",
         "line": {
          "color": "#00cc96",
          "dash": "solid"
         },
         "marker": {
          "symbol": "circle"
         },
         "mode": "lines+markers",
         "name": "2020",
         "orientation": "v",
         "showlegend": true,
         "type": "scatter",
         "x": [
          0,
          1,
          2,
          3,
          4,
          5,
          6,
          7,
          8,
          9,
          10,
          11,
          12,
          13,
          14,
          15,
          16,
          17,
          18,
          19,
          20,
          21,
          22,
          23
         ],
         "xaxis": "x",
         "y": [
          28.322915247640363,
          15.774525639778146,
          8.32394667704583,
          5.709078524861341,
          5.238221270798872,
          10.333287924491582,
          27.36522331419675,
          80.21023645032597,
          126.17078914079984,
          120.68932567870002,
          90.64007005935585,
          97.38550160552691,
          109.19815121144303,
          129.4703512698258,
          139.57265739028898,
          121.68183321981122,
          120.43608056825921,
          130.35043300574097,
          150.9503357010801,
          148.86787973143913,
          159.52108592001557,
          130.88967597547924,
          78.955882066751,
          45.591106353994356
         ],
         "yaxis": "y"
        },
        {
         "customdata": [
          [
           256
          ],
          [
           256
          ],
          [
           256
          ],
          [
           256
          ],
          [
           256
          ],
          [
           256
          ],
          [
           256
          ],
          [
           256
          ],
          [
           256
          ],
          [
           256
          ],
          [
           256
          ],
          [
           256
          ],
          [
           256
          ],
          [
           256
          ],
          [
           256
          ],
          [
           256
          ],
          [
           256
          ],
          [
           256
          ],
          [
           256
          ],
          [
           256
          ],
          [
           256
          ],
          [
           256
          ],
          [
           256
          ],
          [
           256
          ]
         ],
         "hovertemplate": "year=2021<br>hour=%{x}<br>intensity=%{y}<br>id=%{customdata[0]}<extra></extra>",
         "legendgroup": "2021",
         "line": {
          "color": "#ab63fa",
          "dash": "solid"
         },
         "marker": {
          "symbol": "circle"
         },
         "mode": "lines+markers",
         "name": "2021",
         "orientation": "v",
         "showlegend": true,
         "type": "scatter",
         "x": [
          0,
          1,
          2,
          3,
          4,
          5,
          6,
          7,
          8,
          9,
          10,
          11,
          12,
          13,
          14,
          15,
          16,
          17,
          18,
          19,
          20,
          21,
          22,
          23
         ],
         "xaxis": "x",
         "y": [
          45.31808695652174,
          24.104240802675584,
          11.7125618729097,
          8.04676923076923,
          7.732468227424749,
          15.81419397993311,
          36.25971906354515,
          108.71621404682274,
          172.92207357859533,
          157.9945016722408,
          118.79703010033445,
          134.51684280936456,
          151.09333779264213,
          179.4799464882943,
          199.89759197324415,
          177.5088026755853,
          177.99682943143813,
          186.79098327759198,
          210.29834113712374,
          204.39396655518394,
          188.56184615384615,
          161.10798662207358,
          105.85416722408027,
          66.42298327759197
         ],
         "yaxis": "y"
        },
        {
         "customdata": [
          [
           319
          ],
          [
           319
          ],
          [
           319
          ],
          [
           319
          ],
          [
           319
          ],
          [
           319
          ],
          [
           319
          ],
          [
           319
          ],
          [
           319
          ],
          [
           319
          ],
          [
           319
          ],
          [
           319
          ],
          [
           319
          ],
          [
           319
          ],
          [
           319
          ],
          [
           319
          ],
          [
           319
          ],
          [
           319
          ],
          [
           319
          ],
          [
           319
          ],
          [
           319
          ],
          [
           319
          ],
          [
           319
          ],
          [
           319
          ]
         ],
         "hovertemplate": "year=2022<br>hour=%{x}<br>intensity=%{y}<br>id=%{customdata[0]}<extra></extra>",
         "legendgroup": "2022",
         "line": {
          "color": "#FFA15A",
          "dash": "solid"
         },
         "marker": {
          "symbol": "circle"
         },
         "mode": "lines+markers",
         "name": "2022",
         "orientation": "v",
         "showlegend": true,
         "type": "scatter",
         "x": [
          0,
          1,
          2,
          3,
          4,
          5,
          6,
          7,
          8,
          9,
          10,
          11,
          12,
          13,
          14,
          15,
          16,
          17,
          18,
          19,
          20,
          21,
          22,
          23
         ],
         "xaxis": "x",
         "y": [
          71.95037657679123,
          40.391136878052656,
          22.543925134680805,
          15.79457041125627,
          12.769778554315742,
          21.9865650107877,
          42.38711299951025,
          114.07422996995328,
          179.81879310116614,
          160.90996571761374,
          119.05240307614926,
          133.17874492051516,
          149.78793895352686,
          179.56317092218296,
          205.45387761585195,
          190.29723755443487,
          191.65219923493362,
          196.24057234377688,
          220.76257792955565,
          217.20155131106964,
          199.5431706574541,
          166.5126341844366,
          123.94864260281406,
          98.31099021826894
         ],
         "yaxis": "y"
        },
        {
         "customdata": [
          [
           347
          ],
          [
           347
          ],
          [
           347
          ],
          [
           347
          ],
          [
           347
          ],
          [
           347
          ],
          [
           347
          ],
          [
           347
          ],
          [
           347
          ],
          [
           347
          ],
          [
           347
          ],
          [
           347
          ],
          [
           347
          ],
          [
           347
          ],
          [
           347
          ],
          [
           347
          ],
          [
           347
          ],
          [
           347
          ],
          [
           347
          ],
          [
           347
          ],
          [
           347
          ],
          [
           347
          ],
          [
           347
          ],
          [
           347
          ]
         ],
         "hovertemplate": "year=2023<br>hour=%{x}<br>intensity=%{y}<br>id=%{customdata[0]}<extra></extra>",
         "legendgroup": "2023",
         "line": {
          "color": "#19d3f3",
          "dash": "solid"
         },
         "marker": {
          "symbol": "circle"
         },
         "mode": "lines+markers",
         "name": "2023",
         "orientation": "v",
         "showlegend": true,
         "type": "scatter",
         "x": [
          0,
          1,
          2,
          3,
          4,
          5,
          6,
          7,
          8,
          9,
          10,
          11,
          12,
          13,
          14,
          15,
          16,
          17,
          18,
          19,
          20,
          21,
          22,
          23
         ],
         "xaxis": "x",
         "y": [
          82.42272188346884,
          47.23761432926829,
          27.386062415311653,
          18.842924288617887,
          14.639185298102982,
          23.689648966802167,
          44.81342098577236,
          116.93938431571816,
          185.5629763719512,
          169.64109078590786,
          124.89885035569105,
          141.364456300813,
          158.86442454268294,
          190.18911966463415,
          216.0060975609756,
          204.2311886009485,
          207.24712059620597,
          214.36844723915988,
          238.84397230691056,
          227.98846121273712,
          210.19933519647697,
          179.22047552506774,
          136.168879149729,
          111.11227557588076
         ],
         "yaxis": "y"
        },
        {
         "customdata": [
          [
           364
          ],
          [
           364
          ],
          [
           364
          ],
          [
           364
          ],
          [
           364
          ],
          [
           364
          ],
          [
           364
          ],
          [
           364
          ],
          [
           364
          ],
          [
           364
          ],
          [
           364
          ],
          [
           364
          ],
          [
           364
          ],
          [
           364
          ],
          [
           364
          ],
          [
           364
          ],
          [
           364
          ],
          [
           364
          ],
          [
           364
          ],
          [
           364
          ],
          [
           364
          ],
          [
           364
          ],
          [
           364
          ],
          [
           364
          ]
         ],
         "hovertemplate": "year=2024<br>hour=%{x}<br>intensity=%{y}<br>id=%{customdata[0]}<extra></extra>",
         "legendgroup": "2024",
         "line": {
          "color": "#FF6692",
          "dash": "solid"
         },
         "marker": {
          "symbol": "circle"
         },
         "mode": "lines+markers",
         "name": "2024",
         "orientation": "v",
         "showlegend": true,
         "type": "scatter",
         "x": [
          0,
          1,
          2,
          3,
          4,
          5,
          6,
          7,
          8,
          9,
          10,
          11,
          12,
          13,
          14,
          15,
          16,
          17,
          18,
          19,
          20,
          21,
          22,
          23
         ],
         "xaxis": "x",
         "y": [
          85.30566504366644,
          49.55859224051318,
          29.56396359842337,
          21.19023881289126,
          15.618305124043589,
          24.0147808949687,
          43.79387897055414,
          112.17376729268103,
          176.82812620758946,
          162.2747024499575,
          122.03987943426849,
          138.06353852693408,
          158.46737576319654,
          191.39590578870082,
          216.5122691088956,
          205.12571489295928,
          208.65386621840946,
          217.97995401499344,
          240.08760336965761,
          230.9668540845506,
          219.60251951464565,
          189.3090366334338,
          146.31557693793957,
          117.14447600278228
         ],
         "yaxis": "y"
        }
       ],
       "layout": {
        "legend": {
         "title": {
          "text": "year"
         },
         "tracegroupgap": 0
        },
        "template": {
         "data": {
          "bar": [
           {
            "error_x": {
             "color": "#2a3f5f"
            },
            "error_y": {
             "color": "#2a3f5f"
            },
            "marker": {
             "line": {
              "color": "#E5ECF6",
              "width": 0.5
             },
             "pattern": {
              "fillmode": "overlay",
              "size": 10,
              "solidity": 0.2
             }
            },
            "type": "bar"
           }
          ],
          "barpolar": [
           {
            "marker": {
             "line": {
              "color": "#E5ECF6",
              "width": 0.5
             },
             "pattern": {
              "fillmode": "overlay",
              "size": 10,
              "solidity": 0.2
             }
            },
            "type": "barpolar"
           }
          ],
          "carpet": [
           {
            "aaxis": {
             "endlinecolor": "#2a3f5f",
             "gridcolor": "white",
             "linecolor": "white",
             "minorgridcolor": "white",
             "startlinecolor": "#2a3f5f"
            },
            "baxis": {
             "endlinecolor": "#2a3f5f",
             "gridcolor": "white",
             "linecolor": "white",
             "minorgridcolor": "white",
             "startlinecolor": "#2a3f5f"
            },
            "type": "carpet"
           }
          ],
          "choropleth": [
           {
            "colorbar": {
             "outlinewidth": 0,
             "ticks": ""
            },
            "type": "choropleth"
           }
          ],
          "contour": [
           {
            "colorbar": {
             "outlinewidth": 0,
             "ticks": ""
            },
            "colorscale": [
             [
              0,
              "#0d0887"
             ],
             [
              0.1111111111111111,
              "#46039f"
             ],
             [
              0.2222222222222222,
              "#7201a8"
             ],
             [
              0.3333333333333333,
              "#9c179e"
             ],
             [
              0.4444444444444444,
              "#bd3786"
             ],
             [
              0.5555555555555556,
              "#d8576b"
             ],
             [
              0.6666666666666666,
              "#ed7953"
             ],
             [
              0.7777777777777778,
              "#fb9f3a"
             ],
             [
              0.8888888888888888,
              "#fdca26"
             ],
             [
              1,
              "#f0f921"
             ]
            ],
            "type": "contour"
           }
          ],
          "contourcarpet": [
           {
            "colorbar": {
             "outlinewidth": 0,
             "ticks": ""
            },
            "type": "contourcarpet"
           }
          ],
          "heatmap": [
           {
            "colorbar": {
             "outlinewidth": 0,
             "ticks": ""
            },
            "colorscale": [
             [
              0,
              "#0d0887"
             ],
             [
              0.1111111111111111,
              "#46039f"
             ],
             [
              0.2222222222222222,
              "#7201a8"
             ],
             [
              0.3333333333333333,
              "#9c179e"
             ],
             [
              0.4444444444444444,
              "#bd3786"
             ],
             [
              0.5555555555555556,
              "#d8576b"
             ],
             [
              0.6666666666666666,
              "#ed7953"
             ],
             [
              0.7777777777777778,
              "#fb9f3a"
             ],
             [
              0.8888888888888888,
              "#fdca26"
             ],
             [
              1,
              "#f0f921"
             ]
            ],
            "type": "heatmap"
           }
          ],
          "heatmapgl": [
           {
            "colorbar": {
             "outlinewidth": 0,
             "ticks": ""
            },
            "colorscale": [
             [
              0,
              "#0d0887"
             ],
             [
              0.1111111111111111,
              "#46039f"
             ],
             [
              0.2222222222222222,
              "#7201a8"
             ],
             [
              0.3333333333333333,
              "#9c179e"
             ],
             [
              0.4444444444444444,
              "#bd3786"
             ],
             [
              0.5555555555555556,
              "#d8576b"
             ],
             [
              0.6666666666666666,
              "#ed7953"
             ],
             [
              0.7777777777777778,
              "#fb9f3a"
             ],
             [
              0.8888888888888888,
              "#fdca26"
             ],
             [
              1,
              "#f0f921"
             ]
            ],
            "type": "heatmapgl"
           }
          ],
          "histogram": [
           {
            "marker": {
             "pattern": {
              "fillmode": "overlay",
              "size": 10,
              "solidity": 0.2
             }
            },
            "type": "histogram"
           }
          ],
          "histogram2d": [
           {
            "colorbar": {
             "outlinewidth": 0,
             "ticks": ""
            },
            "colorscale": [
             [
              0,
              "#0d0887"
             ],
             [
              0.1111111111111111,
              "#46039f"
             ],
             [
              0.2222222222222222,
              "#7201a8"
             ],
             [
              0.3333333333333333,
              "#9c179e"
             ],
             [
              0.4444444444444444,
              "#bd3786"
             ],
             [
              0.5555555555555556,
              "#d8576b"
             ],
             [
              0.6666666666666666,
              "#ed7953"
             ],
             [
              0.7777777777777778,
              "#fb9f3a"
             ],
             [
              0.8888888888888888,
              "#fdca26"
             ],
             [
              1,
              "#f0f921"
             ]
            ],
            "type": "histogram2d"
           }
          ],
          "histogram2dcontour": [
           {
            "colorbar": {
             "outlinewidth": 0,
             "ticks": ""
            },
            "colorscale": [
             [
              0,
              "#0d0887"
             ],
             [
              0.1111111111111111,
              "#46039f"
             ],
             [
              0.2222222222222222,
              "#7201a8"
             ],
             [
              0.3333333333333333,
              "#9c179e"
             ],
             [
              0.4444444444444444,
              "#bd3786"
             ],
             [
              0.5555555555555556,
              "#d8576b"
             ],
             [
              0.6666666666666666,
              "#ed7953"
             ],
             [
              0.7777777777777778,
              "#fb9f3a"
             ],
             [
              0.8888888888888888,
              "#fdca26"
             ],
             [
              1,
              "#f0f921"
             ]
            ],
            "type": "histogram2dcontour"
           }
          ],
          "mesh3d": [
           {
            "colorbar": {
             "outlinewidth": 0,
             "ticks": ""
            },
            "type": "mesh3d"
           }
          ],
          "parcoords": [
           {
            "line": {
             "colorbar": {
              "outlinewidth": 0,
              "ticks": ""
             }
            },
            "type": "parcoords"
           }
          ],
          "pie": [
           {
            "automargin": true,
            "type": "pie"
           }
          ],
          "scatter": [
           {
            "fillpattern": {
             "fillmode": "overlay",
             "size": 10,
             "solidity": 0.2
            },
            "type": "scatter"
           }
          ],
          "scatter3d": [
           {
            "line": {
             "colorbar": {
              "outlinewidth": 0,
              "ticks": ""
             }
            },
            "marker": {
             "colorbar": {
              "outlinewidth": 0,
              "ticks": ""
             }
            },
            "type": "scatter3d"
           }
          ],
          "scattercarpet": [
           {
            "marker": {
             "colorbar": {
              "outlinewidth": 0,
              "ticks": ""
             }
            },
            "type": "scattercarpet"
           }
          ],
          "scattergeo": [
           {
            "marker": {
             "colorbar": {
              "outlinewidth": 0,
              "ticks": ""
             }
            },
            "type": "scattergeo"
           }
          ],
          "scattergl": [
           {
            "marker": {
             "colorbar": {
              "outlinewidth": 0,
              "ticks": ""
             }
            },
            "type": "scattergl"
           }
          ],
          "scattermapbox": [
           {
            "marker": {
             "colorbar": {
              "outlinewidth": 0,
              "ticks": ""
             }
            },
            "type": "scattermapbox"
           }
          ],
          "scatterpolar": [
           {
            "marker": {
             "colorbar": {
              "outlinewidth": 0,
              "ticks": ""
             }
            },
            "type": "scatterpolar"
           }
          ],
          "scatterpolargl": [
           {
            "marker": {
             "colorbar": {
              "outlinewidth": 0,
              "ticks": ""
             }
            },
            "type": "scatterpolargl"
           }
          ],
          "scatterternary": [
           {
            "marker": {
             "colorbar": {
              "outlinewidth": 0,
              "ticks": ""
             }
            },
            "type": "scatterternary"
           }
          ],
          "surface": [
           {
            "colorbar": {
             "outlinewidth": 0,
             "ticks": ""
            },
            "colorscale": [
             [
              0,
              "#0d0887"
             ],
             [
              0.1111111111111111,
              "#46039f"
             ],
             [
              0.2222222222222222,
              "#7201a8"
             ],
             [
              0.3333333333333333,
              "#9c179e"
             ],
             [
              0.4444444444444444,
              "#bd3786"
             ],
             [
              0.5555555555555556,
              "#d8576b"
             ],
             [
              0.6666666666666666,
              "#ed7953"
             ],
             [
              0.7777777777777778,
              "#fb9f3a"
             ],
             [
              0.8888888888888888,
              "#fdca26"
             ],
             [
              1,
              "#f0f921"
             ]
            ],
            "type": "surface"
           }
          ],
          "table": [
           {
            "cells": {
             "fill": {
              "color": "#EBF0F8"
             },
             "line": {
              "color": "white"
             }
            },
            "header": {
             "fill": {
              "color": "#C8D4E3"
             },
             "line": {
              "color": "white"
             }
            },
            "type": "table"
           }
          ]
         },
         "layout": {
          "annotationdefaults": {
           "arrowcolor": "#2a3f5f",
           "arrowhead": 0,
           "arrowwidth": 1
          },
          "autotypenumbers": "strict",
          "coloraxis": {
           "colorbar": {
            "outlinewidth": 0,
            "ticks": ""
           }
          },
          "colorscale": {
           "diverging": [
            [
             0,
             "#8e0152"
            ],
            [
             0.1,
             "#c51b7d"
            ],
            [
             0.2,
             "#de77ae"
            ],
            [
             0.3,
             "#f1b6da"
            ],
            [
             0.4,
             "#fde0ef"
            ],
            [
             0.5,
             "#f7f7f7"
            ],
            [
             0.6,
             "#e6f5d0"
            ],
            [
             0.7,
             "#b8e186"
            ],
            [
             0.8,
             "#7fbc41"
            ],
            [
             0.9,
             "#4d9221"
            ],
            [
             1,
             "#276419"
            ]
           ],
           "sequential": [
            [
             0,
             "#0d0887"
            ],
            [
             0.1111111111111111,
             "#46039f"
            ],
            [
             0.2222222222222222,
             "#7201a8"
            ],
            [
             0.3333333333333333,
             "#9c179e"
            ],
            [
             0.4444444444444444,
             "#bd3786"
            ],
            [
             0.5555555555555556,
             "#d8576b"
            ],
            [
             0.6666666666666666,
             "#ed7953"
            ],
            [
             0.7777777777777778,
             "#fb9f3a"
            ],
            [
             0.8888888888888888,
             "#fdca26"
            ],
            [
             1,
             "#f0f921"
            ]
           ],
           "sequentialminus": [
            [
             0,
             "#0d0887"
            ],
            [
             0.1111111111111111,
             "#46039f"
            ],
            [
             0.2222222222222222,
             "#7201a8"
            ],
            [
             0.3333333333333333,
             "#9c179e"
            ],
            [
             0.4444444444444444,
             "#bd3786"
            ],
            [
             0.5555555555555556,
             "#d8576b"
            ],
            [
             0.6666666666666666,
             "#ed7953"
            ],
            [
             0.7777777777777778,
             "#fb9f3a"
            ],
            [
             0.8888888888888888,
             "#fdca26"
            ],
            [
             1,
             "#f0f921"
            ]
           ]
          },
          "colorway": [
           "#636efa",
           "#EF553B",
           "#00cc96",
           "#ab63fa",
           "#FFA15A",
           "#19d3f3",
           "#FF6692",
           "#B6E880",
           "#FF97FF",
           "#FECB52"
          ],
          "font": {
           "color": "#2a3f5f"
          },
          "geo": {
           "bgcolor": "white",
           "lakecolor": "white",
           "landcolor": "#E5ECF6",
           "showlakes": true,
           "showland": true,
           "subunitcolor": "white"
          },
          "hoverlabel": {
           "align": "left"
          },
          "hovermode": "closest",
          "mapbox": {
           "style": "light"
          },
          "paper_bgcolor": "white",
          "plot_bgcolor": "#E5ECF6",
          "polar": {
           "angularaxis": {
            "gridcolor": "white",
            "linecolor": "white",
            "ticks": ""
           },
           "bgcolor": "#E5ECF6",
           "radialaxis": {
            "gridcolor": "white",
            "linecolor": "white",
            "ticks": ""
           }
          },
          "scene": {
           "xaxis": {
            "backgroundcolor": "#E5ECF6",
            "gridcolor": "white",
            "gridwidth": 2,
            "linecolor": "white",
            "showbackground": true,
            "ticks": "",
            "zerolinecolor": "white"
           },
           "yaxis": {
            "backgroundcolor": "#E5ECF6",
            "gridcolor": "white",
            "gridwidth": 2,
            "linecolor": "white",
            "showbackground": true,
            "ticks": "",
            "zerolinecolor": "white"
           },
           "zaxis": {
            "backgroundcolor": "#E5ECF6",
            "gridcolor": "white",
            "gridwidth": 2,
            "linecolor": "white",
            "showbackground": true,
            "ticks": "",
            "zerolinecolor": "white"
           }
          },
          "shapedefaults": {
           "line": {
            "color": "#2a3f5f"
           }
          },
          "ternary": {
           "aaxis": {
            "gridcolor": "white",
            "linecolor": "white",
            "ticks": ""
           },
           "baxis": {
            "gridcolor": "white",
            "linecolor": "white",
            "ticks": ""
           },
           "bgcolor": "#E5ECF6",
           "caxis": {
            "gridcolor": "white",
            "linecolor": "white",
            "ticks": ""
           }
          },
          "title": {
           "x": 0.05
          },
          "xaxis": {
           "automargin": true,
           "gridcolor": "white",
           "linecolor": "white",
           "ticks": "",
           "title": {
            "standoff": 15
           },
           "zerolinecolor": "white",
           "zerolinewidth": 2
          },
          "yaxis": {
           "automargin": true,
           "gridcolor": "white",
           "linecolor": "white",
           "ticks": "",
           "title": {
            "standoff": 15
           },
           "zerolinecolor": "white",
           "zerolinewidth": 2
          }
         }
        },
        "title": {
         "text": "Average intensity by hour of the day for each year"
        },
        "xaxis": {
         "anchor": "y",
         "domain": [
          0,
          1
         ],
         "title": {
          "text": "Hour"
         }
        },
        "yaxis": {
         "anchor": "x",
         "domain": [
          0,
          1
         ],
         "title": {
          "text": "Intensity"
         }
        }
       }
      }
     },
     "metadata": {},
     "output_type": "display_data"
    }
   ],
   "source": [
    "# Aggregate hours by year\n",
    "counters_by_year = counters_hour.groupby(['hour', 'year']).agg({'intensity': 'mean', 'id': pd.Series.nunique}).reset_index()\n",
    "\n",
    "# Visualize the data using Plotly Express\n",
    "fig = px.line(counters_by_year, x='hour', y='intensity', color='year', \n",
    "              title='Average intensity by hour of the day for each year', markers=True,\n",
    "              hover_data={'id': True})\n",
    "fig.update_layout(xaxis_title='Hour', yaxis_title='Intensity')\n",
    "fig.show()\n"
   ]
  },
  {
   "cell_type": "code",
   "execution_count": 8,
   "id": "b5f1c653",
   "metadata": {},
   "outputs": [
    {
     "data": {
      "text/html": [
       "<div>\n",
       "<style scoped>\n",
       "    .dataframe tbody tr th:only-of-type {\n",
       "        vertical-align: middle;\n",
       "    }\n",
       "\n",
       "    .dataframe tbody tr th {\n",
       "        vertical-align: top;\n",
       "    }\n",
       "\n",
       "    .dataframe thead th {\n",
       "        text-align: right;\n",
       "    }\n",
       "</style>\n",
       "<table border=\"1\" class=\"dataframe\">\n",
       "  <thead>\n",
       "    <tr style=\"text-align: right;\">\n",
       "      <th></th>\n",
       "      <th>hour</th>\n",
       "      <th>year</th>\n",
       "      <th>intensity</th>\n",
       "      <th>id</th>\n",
       "    </tr>\n",
       "  </thead>\n",
       "  <tbody>\n",
       "    <tr>\n",
       "      <th>0</th>\n",
       "      <td>0</td>\n",
       "      <td>2018</td>\n",
       "      <td>41.147107</td>\n",
       "      <td>159</td>\n",
       "    </tr>\n",
       "    <tr>\n",
       "      <th>1</th>\n",
       "      <td>0</td>\n",
       "      <td>2019</td>\n",
       "      <td>43.599085</td>\n",
       "      <td>219</td>\n",
       "    </tr>\n",
       "    <tr>\n",
       "      <th>2</th>\n",
       "      <td>0</td>\n",
       "      <td>2020</td>\n",
       "      <td>28.322915</td>\n",
       "      <td>240</td>\n",
       "    </tr>\n",
       "    <tr>\n",
       "      <th>3</th>\n",
       "      <td>0</td>\n",
       "      <td>2021</td>\n",
       "      <td>45.318087</td>\n",
       "      <td>256</td>\n",
       "    </tr>\n",
       "    <tr>\n",
       "      <th>4</th>\n",
       "      <td>0</td>\n",
       "      <td>2022</td>\n",
       "      <td>71.950377</td>\n",
       "      <td>319</td>\n",
       "    </tr>\n",
       "    <tr>\n",
       "      <th>...</th>\n",
       "      <td>...</td>\n",
       "      <td>...</td>\n",
       "      <td>...</td>\n",
       "      <td>...</td>\n",
       "    </tr>\n",
       "    <tr>\n",
       "      <th>163</th>\n",
       "      <td>23</td>\n",
       "      <td>2020</td>\n",
       "      <td>45.591106</td>\n",
       "      <td>240</td>\n",
       "    </tr>\n",
       "    <tr>\n",
       "      <th>164</th>\n",
       "      <td>23</td>\n",
       "      <td>2021</td>\n",
       "      <td>66.422983</td>\n",
       "      <td>256</td>\n",
       "    </tr>\n",
       "    <tr>\n",
       "      <th>165</th>\n",
       "      <td>23</td>\n",
       "      <td>2022</td>\n",
       "      <td>98.310990</td>\n",
       "      <td>319</td>\n",
       "    </tr>\n",
       "    <tr>\n",
       "      <th>166</th>\n",
       "      <td>23</td>\n",
       "      <td>2023</td>\n",
       "      <td>111.112276</td>\n",
       "      <td>347</td>\n",
       "    </tr>\n",
       "    <tr>\n",
       "      <th>167</th>\n",
       "      <td>23</td>\n",
       "      <td>2024</td>\n",
       "      <td>117.144476</td>\n",
       "      <td>364</td>\n",
       "    </tr>\n",
       "  </tbody>\n",
       "</table>\n",
       "<p>168 rows × 4 columns</p>\n",
       "</div>"
      ],
      "text/plain": [
       "     hour  year   intensity   id\n",
       "0       0  2018   41.147107  159\n",
       "1       0  2019   43.599085  219\n",
       "2       0  2020   28.322915  240\n",
       "3       0  2021   45.318087  256\n",
       "4       0  2022   71.950377  319\n",
       "..    ...   ...         ...  ...\n",
       "163    23  2020   45.591106  240\n",
       "164    23  2021   66.422983  256\n",
       "165    23  2022   98.310990  319\n",
       "166    23  2023  111.112276  347\n",
       "167    23  2024  117.144476  364\n",
       "\n",
       "[168 rows x 4 columns]"
      ]
     },
     "execution_count": 8,
     "metadata": {},
     "output_type": "execute_result"
    }
   ],
   "source": [
    "counters_by_year"
   ]
  },
  {
   "cell_type": "markdown",
   "id": "b1b29587",
   "metadata": {},
   "source": [
    "## Visualize by month"
   ]
  },
  {
   "cell_type": "code",
   "execution_count": 9,
   "id": "a7559df9",
   "metadata": {},
   "outputs": [
    {
     "data": {
      "application/vnd.plotly.v1+json": {
       "config": {
        "plotlyServerURL": "https://plot.ly"
       },
       "data": [
        {
         "hovertemplate": "month=1<br>hour=%{x}<br>intensity=%{y}<extra></extra>",
         "legendgroup": "1",
         "line": {
          "color": "rgb(167, 119, 12)",
          "dash": "solid"
         },
         "marker": {
          "symbol": "circle"
         },
         "mode": "lines+markers",
         "name": "1",
         "orientation": "v",
         "showlegend": true,
         "type": "scatter",
         "x": [
          0,
          1,
          2,
          3,
          4,
          5,
          6,
          7,
          8,
          9,
          10,
          11,
          12,
          13,
          14,
          15,
          16,
          17,
          18,
          19,
          20,
          21,
          22,
          23
         ],
         "xaxis": "x",
         "y": [
          44.6969770843491,
          23.785470502194052,
          12.468551925889809,
          8.616284739151633,
          7.65644807411019,
          15.339316187225744,
          32.575390053632375,
          94.91891150658215,
          161.90617381764991,
          148.89367991223793,
          106.34809239395418,
          122.17336055582642,
          141.72528644563627,
          173.15909921989274,
          194.1990797172111,
          175.6900901999025,
          176.40465017064847,
          181.23394076060458,
          200.78029010238907,
          186.9088554363725,
          169.6201243295953,
          143.6845745977572,
          98.12768161872258,
          66.9247927840078
         ],
         "yaxis": "y"
        },
        {
         "hovertemplate": "month=2<br>hour=%{x}<br>intensity=%{y}<extra></extra>",
         "legendgroup": "2",
         "line": {
          "color": "rgb(197, 96, 51)",
          "dash": "solid"
         },
         "marker": {
          "symbol": "circle"
         },
         "mode": "lines+markers",
         "name": "2",
         "orientation": "v",
         "showlegend": true,
         "type": "scatter",
         "x": [
          0,
          1,
          2,
          3,
          4,
          5,
          6,
          7,
          8,
          9,
          10,
          11,
          12,
          13,
          14,
          15,
          16,
          17,
          18,
          19,
          20,
          21,
          22,
          23
         ],
         "xaxis": "x",
         "y": [
          46.8619751827299,
          24.712799592044874,
          13.786333503314635,
          10.074927757946625,
          8.600815910249873,
          16.44514703382628,
          35.70433452320245,
          108.17256501784804,
          184.36831548529662,
          164.92476627570966,
          113.62168961414244,
          127.01128675845656,
          147.14771375148734,
          176.70198878123406,
          203.76875743668197,
          183.57239503654597,
          184.25677375488695,
          191.4936936936937,
          215.43253442121366,
          200.90878803331634,
          181.5143294237634,
          152.82372938976712,
          103.13282338942716,
          70.95590685024648
         ],
         "yaxis": "y"
        },
        {
         "hovertemplate": "month=3<br>hour=%{x}<br>intensity=%{y}<extra></extra>",
         "legendgroup": "3",
         "line": {
          "color": "rgb(217, 67, 96)",
          "dash": "solid"
         },
         "marker": {
          "symbol": "circle"
         },
         "mode": "lines+markers",
         "name": "3",
         "orientation": "v",
         "showlegend": true,
         "type": "scatter",
         "x": [
          0,
          1,
          2,
          3,
          4,
          5,
          6,
          7,
          8,
          9,
          10,
          11,
          12,
          13,
          14,
          15,
          16,
          17,
          18,
          19,
          20,
          21,
          22,
          23
         ],
         "xaxis": "x",
         "y": [
          47.06335951631687,
          24.772108927819215,
          14.02237530044354,
          10.179522759372599,
          8.424412121812821,
          16.105260549594867,
          35.066010853135765,
          107.92816611740218,
          179.41410412072256,
          158.02443194489183,
          107.91887404911168,
          118.91057313477216,
          133.88366330500284,
          164.7508982332681,
          190.51678767004486,
          175.54020368213693,
          173.81165597046362,
          182.31414624476548,
          206.19855291523155,
          193.25633719057413,
          175.4492900859826,
          145.66786431102412,
          99.48598756101792,
          70.61741457491885
         ],
         "yaxis": "y"
        },
        {
         "hovertemplate": "month=4<br>hour=%{x}<br>intensity=%{y}<extra></extra>",
         "legendgroup": "4",
         "line": {
          "color": "rgb(221, 38, 163)",
          "dash": "solid"
         },
         "marker": {
          "symbol": "circle"
         },
         "mode": "lines+markers",
         "name": "4",
         "orientation": "v",
         "showlegend": true,
         "type": "scatter",
         "x": [
          0,
          1,
          2,
          3,
          4,
          5,
          6,
          7,
          8,
          9,
          10,
          11,
          12,
          13,
          14,
          15,
          16,
          17,
          18,
          19,
          20,
          21,
          22,
          23
         ],
         "xaxis": "x",
         "y": [
          46.72105249790466,
          25.821425850201916,
          14.903385568790796,
          10.545170548345313,
          8.311203108729332,
          15.175856551443882,
          31.21598557387042,
          88.88040027429965,
          146.15838264800752,
          134.73009422700835,
          99.55451705483453,
          112.21311558682346,
          128.83557260051305,
          154.41886572016355,
          171.5619333045488,
          155.54082747060167,
          155.73812003149365,
          163.5388464175958,
          181.2042262464125,
          173.64635664033727,
          161.03352551240698,
          139.38762603814797,
          98.34061412643182,
          70.42846620780738
         ],
         "yaxis": "y"
        },
        {
         "hovertemplate": "month=5<br>hour=%{x}<br>intensity=%{y}<extra></extra>",
         "legendgroup": "5",
         "line": {
          "color": "rgb(196, 59, 224)",
          "dash": "solid"
         },
         "marker": {
          "symbol": "circle"
         },
         "mode": "lines+markers",
         "name": "5",
         "orientation": "v",
         "showlegend": true,
         "type": "scatter",
         "x": [
          0,
          1,
          2,
          3,
          4,
          5,
          6,
          7,
          8,
          9,
          10,
          11,
          12,
          13,
          14,
          15,
          16,
          17,
          18,
          19,
          20,
          21,
          22,
          23
         ],
         "xaxis": "x",
         "y": [
          58.626900554756524,
          32.50809019930142,
          18.462245736593385,
          12.677522087528251,
          10.10455619478118,
          17.808198068625437,
          39.97965892747072,
          113.32764023012122,
          183.9780922539552,
          171.90964659954798,
          119.41550236285185,
          126.39405691391,
          144.12636120813642,
          170.2565235257859,
          192.49021471132113,
          176.23369118553524,
          176.48050647215945,
          187.22801520443807,
          213.66658105609204,
          206.63761043764126,
          215.79150400657488,
          178.5252208752825,
          126.50878364495583,
          89.29723135401684
         ],
         "yaxis": "y"
        },
        {
         "hovertemplate": "month=6<br>hour=%{x}<br>intensity=%{y}<extra></extra>",
         "legendgroup": "6",
         "line": {
          "color": "rgb(153, 97, 244)",
          "dash": "solid"
         },
         "marker": {
          "symbol": "circle"
         },
         "mode": "lines+markers",
         "name": "6",
         "orientation": "v",
         "showlegend": true,
         "type": "scatter",
         "x": [
          0,
          1,
          2,
          3,
          4,
          5,
          6,
          7,
          8,
          9,
          10,
          11,
          12,
          13,
          14,
          15,
          16,
          17,
          18,
          19,
          20,
          21,
          22,
          23
         ],
         "xaxis": "x",
         "y": [
          76.74776366948531,
          45.8268305282906,
          26.953397319122324,
          19.843443269256912,
          15.473422333396776,
          23.153620272438076,
          44.713097147828925,
          114.46899045651051,
          184.36654068898014,
          169.5730172109084,
          124.2831779004323,
          136.60896163571604,
          150.34011256423503,
          179.74463688517903,
          199.58345795154844,
          186.47244351396176,
          188.24250251502215,
          199.70314581690639,
          227.94510454335355,
          224.04189890970392,
          210.08398814540905,
          175.85086598330568,
          133.56344653198838,
          103.96737268549988
         ],
         "yaxis": "y"
        },
        {
         "hovertemplate": "month=7<br>hour=%{x}<br>intensity=%{y}<extra></extra>",
         "legendgroup": "7",
         "line": {
          "color": "rgb(95, 127, 228)",
          "dash": "solid"
         },
         "marker": {
          "symbol": "circle"
         },
         "mode": "lines+markers",
         "name": "7",
         "orientation": "v",
         "showlegend": true,
         "type": "scatter",
         "x": [
          0,
          1,
          2,
          3,
          4,
          5,
          6,
          7,
          8,
          9,
          10,
          11,
          12,
          13,
          14,
          15,
          16,
          17,
          18,
          19,
          20,
          21,
          22,
          23
         ],
         "xaxis": "x",
         "y": [
          93.8612441531524,
          55.18281376915105,
          30.062319693022996,
          20.253059966949557,
          15.656107329916253,
          25.39215192000672,
          49.031173850936895,
          121.95919110438899,
          183.86174831246674,
          164.85527826793268,
          120.15589726353528,
          133.69106237571071,
          145.50962104024873,
          173.58936223846734,
          194.47886732207377,
          191.34179200627398,
          191.86891857827072,
          201.7749768926981,
          229.44643307285102,
          228.06876172870628,
          213.92314371341345,
          183.7768254768507,
          144.77816990168893,
          116.76220485673473
         ],
         "yaxis": "y"
        },
        {
         "hovertemplate": "month=8<br>hour=%{x}<br>intensity=%{y}<extra></extra>",
         "legendgroup": "8",
         "line": {
          "color": "rgb(40, 144, 183)",
          "dash": "solid"
         },
         "marker": {
          "symbol": "circle"
         },
         "mode": "lines+markers",
         "name": "8",
         "orientation": "v",
         "showlegend": true,
         "type": "scatter",
         "x": [
          0,
          1,
          2,
          3,
          4,
          5,
          6,
          7,
          8,
          9,
          10,
          11,
          12,
          13,
          14,
          15,
          16,
          17,
          18,
          19,
          20,
          21,
          22,
          23
         ],
         "xaxis": "x",
         "y": [
          89.56145146711933,
          53.49705694318909,
          30.15497894667225,
          20.936178655673377,
          16.113710015211304,
          24.198254006745884,
          43.29937611604682,
          96.62787416503164,
          134.41187363594278,
          126.32133330393951,
          110.72994422521549,
          127.08749807103018,
          138.6762417054298,
          157.6562024646723,
          170.66524106611405,
          170.31242697471396,
          171.36348405017526,
          178.55865170520931,
          204.5945195211746,
          207.55598421551554,
          196.46716342232315,
          171.8860033949869,
          135.78891558828067,
          111.61477921562576
         ],
         "yaxis": "y"
        },
        {
         "hovertemplate": "month=9<br>hour=%{x}<br>intensity=%{y}<extra></extra>",
         "legendgroup": "9",
         "line": {
          "color": "rgb(15, 151, 136)",
          "dash": "solid"
         },
         "marker": {
          "symbol": "circle"
         },
         "mode": "lines+markers",
         "name": "9",
         "orientation": "v",
         "showlegend": true,
         "type": "scatter",
         "x": [
          0,
          1,
          2,
          3,
          4,
          5,
          6,
          7,
          8,
          9,
          10,
          11,
          12,
          13,
          14,
          15,
          16,
          17,
          18,
          19,
          20,
          21,
          22,
          23
         ],
         "xaxis": "x",
         "y": [
          74.36915668311018,
          43.039840263096075,
          24.849377495889122,
          17.673291050035235,
          13.35055203194738,
          20.3723044397463,
          38.346370683579984,
          108.93455485083392,
          175.88809020436926,
          154.42600422832982,
          115.59112050739958,
          130.2017618040874,
          145.3798449612403,
          170.75099835564953,
          193.30267794221282,
          179.525463941743,
          185.3787174066244,
          194.7663143058492,
          224.67199906037115,
          220.56692506459947,
          202.27719050974864,
          163.13927648578812,
          121.57448907681466,
          97.99415081042989
         ],
         "yaxis": "y"
        },
        {
         "hovertemplate": "month=10<br>hour=%{x}<br>intensity=%{y}<extra></extra>",
         "legendgroup": "10",
         "line": {
          "color": "rgb(39, 153, 79)",
          "dash": "solid"
         },
         "marker": {
          "symbol": "circle"
         },
         "mode": "lines+markers",
         "name": "10",
         "orientation": "v",
         "showlegend": true,
         "type": "scatter",
         "x": [
          0,
          1,
          2,
          3,
          4,
          5,
          6,
          7,
          8,
          9,
          10,
          11,
          12,
          13,
          14,
          15,
          16,
          17,
          18,
          19,
          20,
          21,
          22,
          23
         ],
         "xaxis": "x",
         "y": [
          63.338307308509656,
          35.336343897255844,
          19.62833779913148,
          13.4141180818627,
          10.450753025963227,
          18.032546428901412,
          38.29395731312945,
          117.88318857987619,
          190.83860759493672,
          168.16829899288552,
          115.60577011919061,
          128.56345283193198,
          146.60371431211308,
          174.572022544581,
          204.66067633742955,
          189.56774923773446,
          194.63240321537467,
          205.86251501432136,
          231.57248452369953,
          221.01247343620068,
          197.32070590409313,
          160.64247436015893,
          111.41654347223505,
          88.17739998152084
         ],
         "yaxis": "y"
        },
        {
         "hovertemplate": "month=11<br>hour=%{x}<br>intensity=%{y}<extra></extra>",
         "legendgroup": "11",
         "line": {
          "color": "rgb(119, 141, 17)",
          "dash": "solid"
         },
         "marker": {
          "symbol": "circle"
         },
         "mode": "lines+markers",
         "name": "11",
         "orientation": "v",
         "showlegend": true,
         "type": "scatter",
         "x": [
          0,
          1,
          2,
          3,
          4,
          5,
          6,
          7,
          8,
          9,
          10,
          11,
          12,
          13,
          14,
          15,
          16,
          17,
          18,
          19,
          20,
          21,
          22,
          23
         ],
         "xaxis": "x",
         "y": [
          55.435129155226186,
          30.249273585157145,
          17.601818036414045,
          12.97718124383547,
          10.064510969530563,
          17.214005811318742,
          35.73259936555328,
          109.3032548716445,
          180.99853384160158,
          160.9918694852451,
          113.00069309306107,
          127.81526404179884,
          146.10492362647616,
          176.16151734065525,
          201.6443632873937,
          184.73060005864633,
          187.34689307706662,
          197.36939194412605,
          216.01714072454882,
          198.43291658891584,
          181.1211579985605,
          154.5536214112441,
          105.18958760962866,
          78.74001012982166
         ],
         "yaxis": "y"
        },
        {
         "hovertemplate": "month=12<br>hour=%{x}<br>intensity=%{y}<extra></extra>",
         "legendgroup": "12",
         "line": {
          "color": "rgb(167, 119, 12)",
          "dash": "solid"
         },
         "marker": {
          "symbol": "circle"
         },
         "mode": "lines+markers",
         "name": "12",
         "orientation": "v",
         "showlegend": true,
         "type": "scatter",
         "x": [
          0,
          1,
          2,
          3,
          4,
          5,
          6,
          7,
          8,
          9,
          10,
          11,
          12,
          13,
          14,
          15,
          16,
          17,
          18,
          19,
          20,
          21,
          22,
          23
         ],
         "xaxis": "x",
         "y": [
          58.64487546926089,
          33.40754046744439,
          19.512109958422474,
          14.06008557703952,
          10.800569168045856,
          17.493763371412424,
          32.82727162636741,
          84.41024502482541,
          138.8344770516288,
          136.3115892302103,
          109.79233439631857,
          127.11801154482703,
          144.8646106648367,
          173.88802325112016,
          189.54993339522866,
          170.90780284987687,
          174.50068623097727,
          175.98159286319785,
          186.68021636459048,
          179.1765026440076,
          166.3544181164978,
          143.67654301053565,
          104.17442376781173,
          79.39115165704598
         ],
         "yaxis": "y"
        }
       ],
       "layout": {
        "legend": {
         "title": {
          "text": "month"
         },
         "tracegroupgap": 0
        },
        "template": {
         "data": {
          "bar": [
           {
            "error_x": {
             "color": "#2a3f5f"
            },
            "error_y": {
             "color": "#2a3f5f"
            },
            "marker": {
             "line": {
              "color": "#E5ECF6",
              "width": 0.5
             },
             "pattern": {
              "fillmode": "overlay",
              "size": 10,
              "solidity": 0.2
             }
            },
            "type": "bar"
           }
          ],
          "barpolar": [
           {
            "marker": {
             "line": {
              "color": "#E5ECF6",
              "width": 0.5
             },
             "pattern": {
              "fillmode": "overlay",
              "size": 10,
              "solidity": 0.2
             }
            },
            "type": "barpolar"
           }
          ],
          "carpet": [
           {
            "aaxis": {
             "endlinecolor": "#2a3f5f",
             "gridcolor": "white",
             "linecolor": "white",
             "minorgridcolor": "white",
             "startlinecolor": "#2a3f5f"
            },
            "baxis": {
             "endlinecolor": "#2a3f5f",
             "gridcolor": "white",
             "linecolor": "white",
             "minorgridcolor": "white",
             "startlinecolor": "#2a3f5f"
            },
            "type": "carpet"
           }
          ],
          "choropleth": [
           {
            "colorbar": {
             "outlinewidth": 0,
             "ticks": ""
            },
            "type": "choropleth"
           }
          ],
          "contour": [
           {
            "colorbar": {
             "outlinewidth": 0,
             "ticks": ""
            },
            "colorscale": [
             [
              0,
              "#0d0887"
             ],
             [
              0.1111111111111111,
              "#46039f"
             ],
             [
              0.2222222222222222,
              "#7201a8"
             ],
             [
              0.3333333333333333,
              "#9c179e"
             ],
             [
              0.4444444444444444,
              "#bd3786"
             ],
             [
              0.5555555555555556,
              "#d8576b"
             ],
             [
              0.6666666666666666,
              "#ed7953"
             ],
             [
              0.7777777777777778,
              "#fb9f3a"
             ],
             [
              0.8888888888888888,
              "#fdca26"
             ],
             [
              1,
              "#f0f921"
             ]
            ],
            "type": "contour"
           }
          ],
          "contourcarpet": [
           {
            "colorbar": {
             "outlinewidth": 0,
             "ticks": ""
            },
            "type": "contourcarpet"
           }
          ],
          "heatmap": [
           {
            "colorbar": {
             "outlinewidth": 0,
             "ticks": ""
            },
            "colorscale": [
             [
              0,
              "#0d0887"
             ],
             [
              0.1111111111111111,
              "#46039f"
             ],
             [
              0.2222222222222222,
              "#7201a8"
             ],
             [
              0.3333333333333333,
              "#9c179e"
             ],
             [
              0.4444444444444444,
              "#bd3786"
             ],
             [
              0.5555555555555556,
              "#d8576b"
             ],
             [
              0.6666666666666666,
              "#ed7953"
             ],
             [
              0.7777777777777778,
              "#fb9f3a"
             ],
             [
              0.8888888888888888,
              "#fdca26"
             ],
             [
              1,
              "#f0f921"
             ]
            ],
            "type": "heatmap"
           }
          ],
          "heatmapgl": [
           {
            "colorbar": {
             "outlinewidth": 0,
             "ticks": ""
            },
            "colorscale": [
             [
              0,
              "#0d0887"
             ],
             [
              0.1111111111111111,
              "#46039f"
             ],
             [
              0.2222222222222222,
              "#7201a8"
             ],
             [
              0.3333333333333333,
              "#9c179e"
             ],
             [
              0.4444444444444444,
              "#bd3786"
             ],
             [
              0.5555555555555556,
              "#d8576b"
             ],
             [
              0.6666666666666666,
              "#ed7953"
             ],
             [
              0.7777777777777778,
              "#fb9f3a"
             ],
             [
              0.8888888888888888,
              "#fdca26"
             ],
             [
              1,
              "#f0f921"
             ]
            ],
            "type": "heatmapgl"
           }
          ],
          "histogram": [
           {
            "marker": {
             "pattern": {
              "fillmode": "overlay",
              "size": 10,
              "solidity": 0.2
             }
            },
            "type": "histogram"
           }
          ],
          "histogram2d": [
           {
            "colorbar": {
             "outlinewidth": 0,
             "ticks": ""
            },
            "colorscale": [
             [
              0,
              "#0d0887"
             ],
             [
              0.1111111111111111,
              "#46039f"
             ],
             [
              0.2222222222222222,
              "#7201a8"
             ],
             [
              0.3333333333333333,
              "#9c179e"
             ],
             [
              0.4444444444444444,
              "#bd3786"
             ],
             [
              0.5555555555555556,
              "#d8576b"
             ],
             [
              0.6666666666666666,
              "#ed7953"
             ],
             [
              0.7777777777777778,
              "#fb9f3a"
             ],
             [
              0.8888888888888888,
              "#fdca26"
             ],
             [
              1,
              "#f0f921"
             ]
            ],
            "type": "histogram2d"
           }
          ],
          "histogram2dcontour": [
           {
            "colorbar": {
             "outlinewidth": 0,
             "ticks": ""
            },
            "colorscale": [
             [
              0,
              "#0d0887"
             ],
             [
              0.1111111111111111,
              "#46039f"
             ],
             [
              0.2222222222222222,
              "#7201a8"
             ],
             [
              0.3333333333333333,
              "#9c179e"
             ],
             [
              0.4444444444444444,
              "#bd3786"
             ],
             [
              0.5555555555555556,
              "#d8576b"
             ],
             [
              0.6666666666666666,
              "#ed7953"
             ],
             [
              0.7777777777777778,
              "#fb9f3a"
             ],
             [
              0.8888888888888888,
              "#fdca26"
             ],
             [
              1,
              "#f0f921"
             ]
            ],
            "type": "histogram2dcontour"
           }
          ],
          "mesh3d": [
           {
            "colorbar": {
             "outlinewidth": 0,
             "ticks": ""
            },
            "type": "mesh3d"
           }
          ],
          "parcoords": [
           {
            "line": {
             "colorbar": {
              "outlinewidth": 0,
              "ticks": ""
             }
            },
            "type": "parcoords"
           }
          ],
          "pie": [
           {
            "automargin": true,
            "type": "pie"
           }
          ],
          "scatter": [
           {
            "fillpattern": {
             "fillmode": "overlay",
             "size": 10,
             "solidity": 0.2
            },
            "type": "scatter"
           }
          ],
          "scatter3d": [
           {
            "line": {
             "colorbar": {
              "outlinewidth": 0,
              "ticks": ""
             }
            },
            "marker": {
             "colorbar": {
              "outlinewidth": 0,
              "ticks": ""
             }
            },
            "type": "scatter3d"
           }
          ],
          "scattercarpet": [
           {
            "marker": {
             "colorbar": {
              "outlinewidth": 0,
              "ticks": ""
             }
            },
            "type": "scattercarpet"
           }
          ],
          "scattergeo": [
           {
            "marker": {
             "colorbar": {
              "outlinewidth": 0,
              "ticks": ""
             }
            },
            "type": "scattergeo"
           }
          ],
          "scattergl": [
           {
            "marker": {
             "colorbar": {
              "outlinewidth": 0,
              "ticks": ""
             }
            },
            "type": "scattergl"
           }
          ],
          "scattermapbox": [
           {
            "marker": {
             "colorbar": {
              "outlinewidth": 0,
              "ticks": ""
             }
            },
            "type": "scattermapbox"
           }
          ],
          "scatterpolar": [
           {
            "marker": {
             "colorbar": {
              "outlinewidth": 0,
              "ticks": ""
             }
            },
            "type": "scatterpolar"
           }
          ],
          "scatterpolargl": [
           {
            "marker": {
             "colorbar": {
              "outlinewidth": 0,
              "ticks": ""
             }
            },
            "type": "scatterpolargl"
           }
          ],
          "scatterternary": [
           {
            "marker": {
             "colorbar": {
              "outlinewidth": 0,
              "ticks": ""
             }
            },
            "type": "scatterternary"
           }
          ],
          "surface": [
           {
            "colorbar": {
             "outlinewidth": 0,
             "ticks": ""
            },
            "colorscale": [
             [
              0,
              "#0d0887"
             ],
             [
              0.1111111111111111,
              "#46039f"
             ],
             [
              0.2222222222222222,
              "#7201a8"
             ],
             [
              0.3333333333333333,
              "#9c179e"
             ],
             [
              0.4444444444444444,
              "#bd3786"
             ],
             [
              0.5555555555555556,
              "#d8576b"
             ],
             [
              0.6666666666666666,
              "#ed7953"
             ],
             [
              0.7777777777777778,
              "#fb9f3a"
             ],
             [
              0.8888888888888888,
              "#fdca26"
             ],
             [
              1,
              "#f0f921"
             ]
            ],
            "type": "surface"
           }
          ],
          "table": [
           {
            "cells": {
             "fill": {
              "color": "#EBF0F8"
             },
             "line": {
              "color": "white"
             }
            },
            "header": {
             "fill": {
              "color": "#C8D4E3"
             },
             "line": {
              "color": "white"
             }
            },
            "type": "table"
           }
          ]
         },
         "layout": {
          "annotationdefaults": {
           "arrowcolor": "#2a3f5f",
           "arrowhead": 0,
           "arrowwidth": 1
          },
          "autotypenumbers": "strict",
          "coloraxis": {
           "colorbar": {
            "outlinewidth": 0,
            "ticks": ""
           }
          },
          "colorscale": {
           "diverging": [
            [
             0,
             "#8e0152"
            ],
            [
             0.1,
             "#c51b7d"
            ],
            [
             0.2,
             "#de77ae"
            ],
            [
             0.3,
             "#f1b6da"
            ],
            [
             0.4,
             "#fde0ef"
            ],
            [
             0.5,
             "#f7f7f7"
            ],
            [
             0.6,
             "#e6f5d0"
            ],
            [
             0.7,
             "#b8e186"
            ],
            [
             0.8,
             "#7fbc41"
            ],
            [
             0.9,
             "#4d9221"
            ],
            [
             1,
             "#276419"
            ]
           ],
           "sequential": [
            [
             0,
             "#0d0887"
            ],
            [
             0.1111111111111111,
             "#46039f"
            ],
            [
             0.2222222222222222,
             "#7201a8"
            ],
            [
             0.3333333333333333,
             "#9c179e"
            ],
            [
             0.4444444444444444,
             "#bd3786"
            ],
            [
             0.5555555555555556,
             "#d8576b"
            ],
            [
             0.6666666666666666,
             "#ed7953"
            ],
            [
             0.7777777777777778,
             "#fb9f3a"
            ],
            [
             0.8888888888888888,
             "#fdca26"
            ],
            [
             1,
             "#f0f921"
            ]
           ],
           "sequentialminus": [
            [
             0,
             "#0d0887"
            ],
            [
             0.1111111111111111,
             "#46039f"
            ],
            [
             0.2222222222222222,
             "#7201a8"
            ],
            [
             0.3333333333333333,
             "#9c179e"
            ],
            [
             0.4444444444444444,
             "#bd3786"
            ],
            [
             0.5555555555555556,
             "#d8576b"
            ],
            [
             0.6666666666666666,
             "#ed7953"
            ],
            [
             0.7777777777777778,
             "#fb9f3a"
            ],
            [
             0.8888888888888888,
             "#fdca26"
            ],
            [
             1,
             "#f0f921"
            ]
           ]
          },
          "colorway": [
           "#636efa",
           "#EF553B",
           "#00cc96",
           "#ab63fa",
           "#FFA15A",
           "#19d3f3",
           "#FF6692",
           "#B6E880",
           "#FF97FF",
           "#FECB52"
          ],
          "font": {
           "color": "#2a3f5f"
          },
          "geo": {
           "bgcolor": "white",
           "lakecolor": "white",
           "landcolor": "#E5ECF6",
           "showlakes": true,
           "showland": true,
           "subunitcolor": "white"
          },
          "hoverlabel": {
           "align": "left"
          },
          "hovermode": "closest",
          "mapbox": {
           "style": "light"
          },
          "paper_bgcolor": "white",
          "plot_bgcolor": "#E5ECF6",
          "polar": {
           "angularaxis": {
            "gridcolor": "white",
            "linecolor": "white",
            "ticks": ""
           },
           "bgcolor": "#E5ECF6",
           "radialaxis": {
            "gridcolor": "white",
            "linecolor": "white",
            "ticks": ""
           }
          },
          "scene": {
           "xaxis": {
            "backgroundcolor": "#E5ECF6",
            "gridcolor": "white",
            "gridwidth": 2,
            "linecolor": "white",
            "showbackground": true,
            "ticks": "",
            "zerolinecolor": "white"
           },
           "yaxis": {
            "backgroundcolor": "#E5ECF6",
            "gridcolor": "white",
            "gridwidth": 2,
            "linecolor": "white",
            "showbackground": true,
            "ticks": "",
            "zerolinecolor": "white"
           },
           "zaxis": {
            "backgroundcolor": "#E5ECF6",
            "gridcolor": "white",
            "gridwidth": 2,
            "linecolor": "white",
            "showbackground": true,
            "ticks": "",
            "zerolinecolor": "white"
           }
          },
          "shapedefaults": {
           "line": {
            "color": "#2a3f5f"
           }
          },
          "ternary": {
           "aaxis": {
            "gridcolor": "white",
            "linecolor": "white",
            "ticks": ""
           },
           "baxis": {
            "gridcolor": "white",
            "linecolor": "white",
            "ticks": ""
           },
           "bgcolor": "#E5ECF6",
           "caxis": {
            "gridcolor": "white",
            "linecolor": "white",
            "ticks": ""
           }
          },
          "title": {
           "x": 0.05
          },
          "xaxis": {
           "automargin": true,
           "gridcolor": "white",
           "linecolor": "white",
           "ticks": "",
           "title": {
            "standoff": 15
           },
           "zerolinecolor": "white",
           "zerolinewidth": 2
          },
          "yaxis": {
           "automargin": true,
           "gridcolor": "white",
           "linecolor": "white",
           "ticks": "",
           "title": {
            "standoff": 15
           },
           "zerolinecolor": "white",
           "zerolinewidth": 2
          }
         }
        },
        "title": {
         "text": "Average intensity by hour of the day for each month"
        },
        "xaxis": {
         "anchor": "y",
         "domain": [
          0,
          1
         ],
         "title": {
          "text": "Hour"
         }
        },
        "yaxis": {
         "anchor": "x",
         "domain": [
          0,
          1
         ],
         "title": {
          "text": "Intensity"
         }
        }
       }
      }
     },
     "metadata": {},
     "output_type": "display_data"
    }
   ],
   "source": [
    "counters_by_month = counters_hour.groupby(['hour', 'month']).agg({'intensity': 'mean'}).reset_index()\n",
    "# Visualize the data using Plotly Express\n",
    "fig = px.line(counters_by_month, x='hour', y='intensity', color='month', \n",
    "              title='Average intensity by hour of the day for each month', markers=True,\n",
    "              color_discrete_sequence=px.colors.cyclical.Phase\n",
    ") \n",
    "fig.update_layout(xaxis_title='Hour', yaxis_title='Intensity')\n",
    "fig.show()\n"
   ]
  },
  {
   "cell_type": "markdown",
   "id": "a09a44e8",
   "metadata": {},
   "source": [
    "## By weekday"
   ]
  },
  {
   "cell_type": "code",
   "execution_count": 16,
   "id": "f1e7c1b8",
   "metadata": {},
   "outputs": [
    {
     "data": {
      "application/vnd.plotly.v1+json": {
       "config": {
        "plotlyServerURL": "https://plot.ly"
       },
       "data": [
        {
         "hovertemplate": "weekday=0<br>hour=%{x}<br>intensity=%{y}<extra></extra>",
         "legendgroup": "0",
         "line": {
          "color": "rgb(158,1,66)",
          "dash": "solid"
         },
         "marker": {
          "symbol": "circle"
         },
         "mode": "lines+markers",
         "name": "0",
         "orientation": "v",
         "showlegend": true,
         "type": "scatter",
         "x": [
          0,
          1,
          2,
          3,
          4,
          5,
          6,
          7,
          8,
          9,
          10,
          11,
          12,
          13,
          14,
          15,
          16,
          17,
          18,
          19,
          20,
          21,
          22,
          23
         ],
         "xaxis": "x",
         "y": [
          51.38836508626505,
          27.477747965164212,
          14.89558257011377,
          9.485422631271266,
          8.636052943204472,
          18.83781272015949,
          41.4779278401511,
          125.94378906659871,
          202.6698694407387,
          172.0654595056436,
          107.36178855695292,
          113.62768875631436,
          129.58330460330072,
          162.90820379836015,
          192.24361069057005,
          182.02356362328183,
          182.28057500037474,
          201.89276452865258,
          239.91692773522402,
          218.88446030009143,
          196.34387600617572,
          159.14674801013297,
          107.03327687257357,
          74.676749658987
         ],
         "yaxis": "y"
        },
        {
         "hovertemplate": "weekday=1<br>hour=%{x}<br>intensity=%{y}<extra></extra>",
         "legendgroup": "1",
         "line": {
          "color": "rgb(213,62,79)",
          "dash": "solid"
         },
         "marker": {
          "symbol": "circle"
         },
         "mode": "lines+markers",
         "name": "1",
         "orientation": "v",
         "showlegend": true,
         "type": "scatter",
         "x": [
          0,
          1,
          2,
          3,
          4,
          5,
          6,
          7,
          8,
          9,
          10,
          11,
          12,
          13,
          14,
          15,
          16,
          17,
          18,
          19,
          20,
          21,
          22,
          23
         ],
         "xaxis": "x",
         "y": [
          49.15070655556062,
          24.524035031798796,
          12.869708422506564,
          8.430308273758026,
          7.845969369943688,
          18.898668852359485,
          45.25760818420533,
          141.6632970569039,
          233.40445942048783,
          195.25126360366104,
          118.0685457553542,
          123.1638662477422,
          138.5073843024756,
          172.2971935097066,
          202.8991697402972,
          190.05714676016575,
          194.01495074601945,
          214.4584794256485,
          257.00431067194876,
          234.59789323497716,
          208.44079656360518,
          168.6274759801466,
          112.94151753866703,
          83.86098082965256
         ],
         "yaxis": "y"
        },
        {
         "hovertemplate": "weekday=2<br>hour=%{x}<br>intensity=%{y}<extra></extra>",
         "legendgroup": "2",
         "line": {
          "color": "rgb(244,109,67)",
          "dash": "solid"
         },
         "marker": {
          "symbol": "circle"
         },
         "mode": "lines+markers",
         "name": "2",
         "orientation": "v",
         "showlegend": true,
         "type": "scatter",
         "x": [
          0,
          1,
          2,
          3,
          4,
          5,
          6,
          7,
          8,
          9,
          10,
          11,
          12,
          13,
          14,
          15,
          16,
          17,
          18,
          19,
          20,
          21,
          22,
          23
         ],
         "xaxis": "x",
         "y": [
          55.62663603989702,
          27.175096736399095,
          14.144387747236653,
          9.166694929625233,
          8.203878705659273,
          18.69233971048453,
          44.07057517690043,
          137.15024588773952,
          222.44689903957328,
          190.54747406231212,
          117.96432700756934,
          122.35148843017251,
          138.39564031017312,
          173.6457058288498,
          203.3576086453821,
          193.19923844173462,
          195.07791326868823,
          213.78428168406123,
          254.53130251129232,
          234.5067291534987,
          210.1647062450861,
          170.16302588373134,
          117.16795905468112,
          89.59521790741054
         ],
         "yaxis": "y"
        },
        {
         "hovertemplate": "weekday=3<br>hour=%{x}<br>intensity=%{y}<extra></extra>",
         "legendgroup": "3",
         "line": {
          "color": "rgb(253,174,97)",
          "dash": "solid"
         },
         "marker": {
          "symbol": "circle"
         },
         "mode": "lines+markers",
         "name": "3",
         "orientation": "v",
         "showlegend": true,
         "type": "scatter",
         "x": [
          0,
          1,
          2,
          3,
          4,
          5,
          6,
          7,
          8,
          9,
          10,
          11,
          12,
          13,
          14,
          15,
          16,
          17,
          18,
          19,
          20,
          21,
          22,
          23
         ],
         "xaxis": "x",
         "y": [
          62.73781735049934,
          30.811559980748406,
          15.77028937552641,
          10.06435747804115,
          9.006392130910841,
          19.839369510287572,
          44.10875646733245,
          135.69329803874385,
          223.27624533750452,
          193.47297256647815,
          122.58024004331608,
          128.44078630730357,
          142.07849536758513,
          176.0695163036939,
          207.74094573456864,
          193.94236553964626,
          202.16487185657562,
          216.49667609192636,
          254.05456623751655,
          238.77624533750452,
          213.92585128143423,
          176.03704427866683,
          123.4025388039947,
          96.36197509324991
         ],
         "yaxis": "y"
        },
        {
         "hovertemplate": "weekday=4<br>hour=%{x}<br>intensity=%{y}<extra></extra>",
         "legendgroup": "4",
         "line": {
          "color": "rgb(254,224,139)",
          "dash": "solid"
         },
         "marker": {
          "symbol": "circle"
         },
         "mode": "lines+markers",
         "name": "4",
         "orientation": "v",
         "showlegend": true,
         "type": "scatter",
         "x": [
          0,
          1,
          2,
          3,
          4,
          5,
          6,
          7,
          8,
          9,
          10,
          11,
          12,
          13,
          14,
          15,
          16,
          17,
          18,
          19,
          20,
          21,
          22,
          23
         ],
         "xaxis": "x",
         "y": [
          70.86789097799155,
          37.06509255210611,
          19.995306806587962,
          13.190861390467862,
          11.013103046203177,
          21.786590875965604,
          43.76020988194141,
          126.61977845795073,
          194.34726716222124,
          172.42744497886605,
          120.69145897099548,
          131.37723363941117,
          148.32039061361317,
          180.28154787931788,
          224.29223145314094,
          219.82948549774085,
          207.25739688092114,
          200.61856872176068,
          202.33553417869115,
          204.88269931496868,
          199.53065150852646,
          171.10792887334208,
          130.4230432881504,
          99.88172278093572
         ],
         "yaxis": "y"
        },
        {
         "hovertemplate": "weekday=5<br>hour=%{x}<br>intensity=%{y}<extra></extra>",
         "legendgroup": "5",
         "line": {
          "color": "rgb(255,255,191)",
          "dash": "solid"
         },
         "marker": {
          "symbol": "circle"
         },
         "mode": "lines+markers",
         "name": "5",
         "orientation": "v",
         "showlegend": true,
         "type": "scatter",
         "x": [
          0,
          1,
          2,
          3,
          4,
          5,
          6,
          7,
          8,
          9,
          10,
          11,
          12,
          13,
          14,
          15,
          16,
          17,
          18,
          19,
          20,
          21,
          22,
          23
         ],
         "xaxis": "x",
         "y": [
          79.98959816206008,
          53.39044947779391,
          33.10902197353028,
          26.066230672736754,
          18.021254704083216,
          18.873993995687044,
          26.994362147458034,
          42.124441500232564,
          67.29648057055067,
          92.10883874332266,
          110.8253957067753,
          137.27781927863677,
          153.04497596865355,
          166.65038266924128,
          162.60774640939266,
          138.46843507308066,
          146.052023284331,
          139.1612002988062,
          141.32200594793443,
          152.8239580543771,
          153.7325684646718,
          142.95809666098182,
          114.17147528506392,
          90.37428293562982
         ],
         "yaxis": "y"
        },
        {
         "hovertemplate": "weekday=6<br>hour=%{x}<br>intensity=%{y}<extra></extra>",
         "legendgroup": "6",
         "line": {
          "color": "rgb(230,245,152)",
          "dash": "solid"
         },
         "marker": {
          "symbol": "circle"
         },
         "mode": "lines+markers",
         "name": "6",
         "orientation": "v",
         "showlegend": true,
         "type": "scatter",
         "x": [
          0,
          1,
          2,
          3,
          4,
          5,
          6,
          7,
          8,
          9,
          10,
          11,
          12,
          13,
          14,
          15,
          16,
          17,
          18,
          19,
          20,
          21,
          22,
          23
         ],
         "xaxis": "x",
         "y": [
          73.55410779005443,
          50.36807970536016,
          31.17729747179058,
          23.645331689923847,
          16.12759900808499,
          15.801440917961585,
          21.695015480330444,
          32.358879546888524,
          50.96873119983566,
          68.68443603175302,
          93.29154377778757,
          127.9892884917316,
          147.42138780061921,
          159.4315123769277,
          150.45421197047733,
          130.5752373406113,
          134.17679857962466,
          134.17103197311852,
          135.73677568927823,
          143.1550087306129,
          145.41506360875115,
          129.3951225954131,
          102.39587093366201,
          78.12776041437397
         ],
         "yaxis": "y"
        }
       ],
       "layout": {
        "legend": {
         "title": {
          "text": "weekday"
         },
         "tracegroupgap": 0
        },
        "template": {
         "data": {
          "bar": [
           {
            "error_x": {
             "color": "#2a3f5f"
            },
            "error_y": {
             "color": "#2a3f5f"
            },
            "marker": {
             "line": {
              "color": "#E5ECF6",
              "width": 0.5
             },
             "pattern": {
              "fillmode": "overlay",
              "size": 10,
              "solidity": 0.2
             }
            },
            "type": "bar"
           }
          ],
          "barpolar": [
           {
            "marker": {
             "line": {
              "color": "#E5ECF6",
              "width": 0.5
             },
             "pattern": {
              "fillmode": "overlay",
              "size": 10,
              "solidity": 0.2
             }
            },
            "type": "barpolar"
           }
          ],
          "carpet": [
           {
            "aaxis": {
             "endlinecolor": "#2a3f5f",
             "gridcolor": "white",
             "linecolor": "white",
             "minorgridcolor": "white",
             "startlinecolor": "#2a3f5f"
            },
            "baxis": {
             "endlinecolor": "#2a3f5f",
             "gridcolor": "white",
             "linecolor": "white",
             "minorgridcolor": "white",
             "startlinecolor": "#2a3f5f"
            },
            "type": "carpet"
           }
          ],
          "choropleth": [
           {
            "colorbar": {
             "outlinewidth": 0,
             "ticks": ""
            },
            "type": "choropleth"
           }
          ],
          "contour": [
           {
            "colorbar": {
             "outlinewidth": 0,
             "ticks": ""
            },
            "colorscale": [
             [
              0,
              "#0d0887"
             ],
             [
              0.1111111111111111,
              "#46039f"
             ],
             [
              0.2222222222222222,
              "#7201a8"
             ],
             [
              0.3333333333333333,
              "#9c179e"
             ],
             [
              0.4444444444444444,
              "#bd3786"
             ],
             [
              0.5555555555555556,
              "#d8576b"
             ],
             [
              0.6666666666666666,
              "#ed7953"
             ],
             [
              0.7777777777777778,
              "#fb9f3a"
             ],
             [
              0.8888888888888888,
              "#fdca26"
             ],
             [
              1,
              "#f0f921"
             ]
            ],
            "type": "contour"
           }
          ],
          "contourcarpet": [
           {
            "colorbar": {
             "outlinewidth": 0,
             "ticks": ""
            },
            "type": "contourcarpet"
           }
          ],
          "heatmap": [
           {
            "colorbar": {
             "outlinewidth": 0,
             "ticks": ""
            },
            "colorscale": [
             [
              0,
              "#0d0887"
             ],
             [
              0.1111111111111111,
              "#46039f"
             ],
             [
              0.2222222222222222,
              "#7201a8"
             ],
             [
              0.3333333333333333,
              "#9c179e"
             ],
             [
              0.4444444444444444,
              "#bd3786"
             ],
             [
              0.5555555555555556,
              "#d8576b"
             ],
             [
              0.6666666666666666,
              "#ed7953"
             ],
             [
              0.7777777777777778,
              "#fb9f3a"
             ],
             [
              0.8888888888888888,
              "#fdca26"
             ],
             [
              1,
              "#f0f921"
             ]
            ],
            "type": "heatmap"
           }
          ],
          "heatmapgl": [
           {
            "colorbar": {
             "outlinewidth": 0,
             "ticks": ""
            },
            "colorscale": [
             [
              0,
              "#0d0887"
             ],
             [
              0.1111111111111111,
              "#46039f"
             ],
             [
              0.2222222222222222,
              "#7201a8"
             ],
             [
              0.3333333333333333,
              "#9c179e"
             ],
             [
              0.4444444444444444,
              "#bd3786"
             ],
             [
              0.5555555555555556,
              "#d8576b"
             ],
             [
              0.6666666666666666,
              "#ed7953"
             ],
             [
              0.7777777777777778,
              "#fb9f3a"
             ],
             [
              0.8888888888888888,
              "#fdca26"
             ],
             [
              1,
              "#f0f921"
             ]
            ],
            "type": "heatmapgl"
           }
          ],
          "histogram": [
           {
            "marker": {
             "pattern": {
              "fillmode": "overlay",
              "size": 10,
              "solidity": 0.2
             }
            },
            "type": "histogram"
           }
          ],
          "histogram2d": [
           {
            "colorbar": {
             "outlinewidth": 0,
             "ticks": ""
            },
            "colorscale": [
             [
              0,
              "#0d0887"
             ],
             [
              0.1111111111111111,
              "#46039f"
             ],
             [
              0.2222222222222222,
              "#7201a8"
             ],
             [
              0.3333333333333333,
              "#9c179e"
             ],
             [
              0.4444444444444444,
              "#bd3786"
             ],
             [
              0.5555555555555556,
              "#d8576b"
             ],
             [
              0.6666666666666666,
              "#ed7953"
             ],
             [
              0.7777777777777778,
              "#fb9f3a"
             ],
             [
              0.8888888888888888,
              "#fdca26"
             ],
             [
              1,
              "#f0f921"
             ]
            ],
            "type": "histogram2d"
           }
          ],
          "histogram2dcontour": [
           {
            "colorbar": {
             "outlinewidth": 0,
             "ticks": ""
            },
            "colorscale": [
             [
              0,
              "#0d0887"
             ],
             [
              0.1111111111111111,
              "#46039f"
             ],
             [
              0.2222222222222222,
              "#7201a8"
             ],
             [
              0.3333333333333333,
              "#9c179e"
             ],
             [
              0.4444444444444444,
              "#bd3786"
             ],
             [
              0.5555555555555556,
              "#d8576b"
             ],
             [
              0.6666666666666666,
              "#ed7953"
             ],
             [
              0.7777777777777778,
              "#fb9f3a"
             ],
             [
              0.8888888888888888,
              "#fdca26"
             ],
             [
              1,
              "#f0f921"
             ]
            ],
            "type": "histogram2dcontour"
           }
          ],
          "mesh3d": [
           {
            "colorbar": {
             "outlinewidth": 0,
             "ticks": ""
            },
            "type": "mesh3d"
           }
          ],
          "parcoords": [
           {
            "line": {
             "colorbar": {
              "outlinewidth": 0,
              "ticks": ""
             }
            },
            "type": "parcoords"
           }
          ],
          "pie": [
           {
            "automargin": true,
            "type": "pie"
           }
          ],
          "scatter": [
           {
            "fillpattern": {
             "fillmode": "overlay",
             "size": 10,
             "solidity": 0.2
            },
            "type": "scatter"
           }
          ],
          "scatter3d": [
           {
            "line": {
             "colorbar": {
              "outlinewidth": 0,
              "ticks": ""
             }
            },
            "marker": {
             "colorbar": {
              "outlinewidth": 0,
              "ticks": ""
             }
            },
            "type": "scatter3d"
           }
          ],
          "scattercarpet": [
           {
            "marker": {
             "colorbar": {
              "outlinewidth": 0,
              "ticks": ""
             }
            },
            "type": "scattercarpet"
           }
          ],
          "scattergeo": [
           {
            "marker": {
             "colorbar": {
              "outlinewidth": 0,
              "ticks": ""
             }
            },
            "type": "scattergeo"
           }
          ],
          "scattergl": [
           {
            "marker": {
             "colorbar": {
              "outlinewidth": 0,
              "ticks": ""
             }
            },
            "type": "scattergl"
           }
          ],
          "scattermapbox": [
           {
            "marker": {
             "colorbar": {
              "outlinewidth": 0,
              "ticks": ""
             }
            },
            "type": "scattermapbox"
           }
          ],
          "scatterpolar": [
           {
            "marker": {
             "colorbar": {
              "outlinewidth": 0,
              "ticks": ""
             }
            },
            "type": "scatterpolar"
           }
          ],
          "scatterpolargl": [
           {
            "marker": {
             "colorbar": {
              "outlinewidth": 0,
              "ticks": ""
             }
            },
            "type": "scatterpolargl"
           }
          ],
          "scatterternary": [
           {
            "marker": {
             "colorbar": {
              "outlinewidth": 0,
              "ticks": ""
             }
            },
            "type": "scatterternary"
           }
          ],
          "surface": [
           {
            "colorbar": {
             "outlinewidth": 0,
             "ticks": ""
            },
            "colorscale": [
             [
              0,
              "#0d0887"
             ],
             [
              0.1111111111111111,
              "#46039f"
             ],
             [
              0.2222222222222222,
              "#7201a8"
             ],
             [
              0.3333333333333333,
              "#9c179e"
             ],
             [
              0.4444444444444444,
              "#bd3786"
             ],
             [
              0.5555555555555556,
              "#d8576b"
             ],
             [
              0.6666666666666666,
              "#ed7953"
             ],
             [
              0.7777777777777778,
              "#fb9f3a"
             ],
             [
              0.8888888888888888,
              "#fdca26"
             ],
             [
              1,
              "#f0f921"
             ]
            ],
            "type": "surface"
           }
          ],
          "table": [
           {
            "cells": {
             "fill": {
              "color": "#EBF0F8"
             },
             "line": {
              "color": "white"
             }
            },
            "header": {
             "fill": {
              "color": "#C8D4E3"
             },
             "line": {
              "color": "white"
             }
            },
            "type": "table"
           }
          ]
         },
         "layout": {
          "annotationdefaults": {
           "arrowcolor": "#2a3f5f",
           "arrowhead": 0,
           "arrowwidth": 1
          },
          "autotypenumbers": "strict",
          "coloraxis": {
           "colorbar": {
            "outlinewidth": 0,
            "ticks": ""
           }
          },
          "colorscale": {
           "diverging": [
            [
             0,
             "#8e0152"
            ],
            [
             0.1,
             "#c51b7d"
            ],
            [
             0.2,
             "#de77ae"
            ],
            [
             0.3,
             "#f1b6da"
            ],
            [
             0.4,
             "#fde0ef"
            ],
            [
             0.5,
             "#f7f7f7"
            ],
            [
             0.6,
             "#e6f5d0"
            ],
            [
             0.7,
             "#b8e186"
            ],
            [
             0.8,
             "#7fbc41"
            ],
            [
             0.9,
             "#4d9221"
            ],
            [
             1,
             "#276419"
            ]
           ],
           "sequential": [
            [
             0,
             "#0d0887"
            ],
            [
             0.1111111111111111,
             "#46039f"
            ],
            [
             0.2222222222222222,
             "#7201a8"
            ],
            [
             0.3333333333333333,
             "#9c179e"
            ],
            [
             0.4444444444444444,
             "#bd3786"
            ],
            [
             0.5555555555555556,
             "#d8576b"
            ],
            [
             0.6666666666666666,
             "#ed7953"
            ],
            [
             0.7777777777777778,
             "#fb9f3a"
            ],
            [
             0.8888888888888888,
             "#fdca26"
            ],
            [
             1,
             "#f0f921"
            ]
           ],
           "sequentialminus": [
            [
             0,
             "#0d0887"
            ],
            [
             0.1111111111111111,
             "#46039f"
            ],
            [
             0.2222222222222222,
             "#7201a8"
            ],
            [
             0.3333333333333333,
             "#9c179e"
            ],
            [
             0.4444444444444444,
             "#bd3786"
            ],
            [
             0.5555555555555556,
             "#d8576b"
            ],
            [
             0.6666666666666666,
             "#ed7953"
            ],
            [
             0.7777777777777778,
             "#fb9f3a"
            ],
            [
             0.8888888888888888,
             "#fdca26"
            ],
            [
             1,
             "#f0f921"
            ]
           ]
          },
          "colorway": [
           "#636efa",
           "#EF553B",
           "#00cc96",
           "#ab63fa",
           "#FFA15A",
           "#19d3f3",
           "#FF6692",
           "#B6E880",
           "#FF97FF",
           "#FECB52"
          ],
          "font": {
           "color": "#2a3f5f"
          },
          "geo": {
           "bgcolor": "white",
           "lakecolor": "white",
           "landcolor": "#E5ECF6",
           "showlakes": true,
           "showland": true,
           "subunitcolor": "white"
          },
          "hoverlabel": {
           "align": "left"
          },
          "hovermode": "closest",
          "mapbox": {
           "style": "light"
          },
          "paper_bgcolor": "white",
          "plot_bgcolor": "#E5ECF6",
          "polar": {
           "angularaxis": {
            "gridcolor": "white",
            "linecolor": "white",
            "ticks": ""
           },
           "bgcolor": "#E5ECF6",
           "radialaxis": {
            "gridcolor": "white",
            "linecolor": "white",
            "ticks": ""
           }
          },
          "scene": {
           "xaxis": {
            "backgroundcolor": "#E5ECF6",
            "gridcolor": "white",
            "gridwidth": 2,
            "linecolor": "white",
            "showbackground": true,
            "ticks": "",
            "zerolinecolor": "white"
           },
           "yaxis": {
            "backgroundcolor": "#E5ECF6",
            "gridcolor": "white",
            "gridwidth": 2,
            "linecolor": "white",
            "showbackground": true,
            "ticks": "",
            "zerolinecolor": "white"
           },
           "zaxis": {
            "backgroundcolor": "#E5ECF6",
            "gridcolor": "white",
            "gridwidth": 2,
            "linecolor": "white",
            "showbackground": true,
            "ticks": "",
            "zerolinecolor": "white"
           }
          },
          "shapedefaults": {
           "line": {
            "color": "#2a3f5f"
           }
          },
          "ternary": {
           "aaxis": {
            "gridcolor": "white",
            "linecolor": "white",
            "ticks": ""
           },
           "baxis": {
            "gridcolor": "white",
            "linecolor": "white",
            "ticks": ""
           },
           "bgcolor": "#E5ECF6",
           "caxis": {
            "gridcolor": "white",
            "linecolor": "white",
            "ticks": ""
           }
          },
          "title": {
           "x": 0.05
          },
          "xaxis": {
           "automargin": true,
           "gridcolor": "white",
           "linecolor": "white",
           "ticks": "",
           "title": {
            "standoff": 15
           },
           "zerolinecolor": "white",
           "zerolinewidth": 2
          },
          "yaxis": {
           "automargin": true,
           "gridcolor": "white",
           "linecolor": "white",
           "ticks": "",
           "title": {
            "standoff": 15
           },
           "zerolinecolor": "white",
           "zerolinewidth": 2
          }
         }
        },
        "title": {
         "text": "Average intensity by hour of the day for each weekday"
        },
        "xaxis": {
         "anchor": "y",
         "domain": [
          0,
          1
         ],
         "title": {
          "text": "Hour"
         }
        },
        "yaxis": {
         "anchor": "x",
         "domain": [
          0,
          1
         ],
         "title": {
          "text": "Intensity"
         }
        }
       }
      }
     },
     "metadata": {},
     "output_type": "display_data"
    }
   ],
   "source": [
    "\n",
    "# Aggregate hours by weekday\n",
    "counters_by_weekday = counters_hour.groupby(['hour', 'weekday']).agg({'intensity': 'mean'}).reset_index()\n",
    "\n",
    "# Visualize the data using Plotly Express with a divergent color palette\n",
    "fig = px.line(counters_by_weekday, x='hour', y='intensity', color='weekday', title='Average intensity by hour of the day for each weekday', markers=True,\n",
    "              color_discrete_sequence=px.colors.diverging.Spectral\n",
    ")\n",
    "fig.update_layout(xaxis_title='Hour', yaxis_title='Intensity')\n",
    "fig.show()\n"
   ]
  },
  {
   "cell_type": "markdown",
   "id": "42195e6c",
   "metadata": {
    "id": "a_ZrQ64i7plQ",
    "papermill": {
     "duration": 0.007,
     "end_time": "2025-03-14T15:01:57.033614",
     "exception": false,
     "start_time": "2025-03-14T15:01:57.026614",
     "status": "completed"
    },
    "tags": []
   },
   "source": [
    "# Save output"
   ]
  }
 ],
 "metadata": {
  "colab": {
   "collapsed_sections": [
    "5bf315c7",
    "eebb1a73",
    "12dd37b6"
   ],
   "provenance": []
  },
  "kernelspec": {
   "display_name": "ridership_model",
   "language": "python",
   "name": "python3"
  },
  "language_info": {
   "codemirror_mode": {
    "name": "ipython",
    "version": 3
   },
   "file_extension": ".py",
   "mimetype": "text/x-python",
   "name": "python",
   "nbconvert_exporter": "python",
   "pygments_lexer": "ipython3",
   "version": "3.11.9"
  },
  "papermill": {
   "default_parameters": {},
   "duration": 4.685965,
   "end_time": "2025-03-14T15:01:57.534804",
   "environment_variables": {},
   "exception": null,
   "input_path": "013-luca_traffic_indices_calculate.ipynb",
   "output_path": "013-luca_traffic_indices_calculate.ipynb",
   "parameters": {
    "SAVE_OUTPUT": true,
    "YEAR": 2024
   },
   "start_time": "2025-03-14T15:01:52.848839",
   "version": "2.6.0"
  }
 },
 "nbformat": 4,
 "nbformat_minor": 5
}
