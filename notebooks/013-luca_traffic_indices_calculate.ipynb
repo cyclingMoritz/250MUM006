{
 "cells": [
  {
   "cell_type": "markdown",
   "id": "33c70fad",
   "metadata": {
    "id": "rP8SuqILhaPo",
    "papermill": {
     "duration": 0.006006,
     "end_time": "2025-03-14T15:01:54.233824",
     "exception": false,
     "start_time": "2025-03-14T15:01:54.227818",
     "status": "completed"
    },
    "tags": []
   },
   "source": [
    "## Config"
   ]
  },
  {
   "cell_type": "code",
   "execution_count": 34,
   "id": "34332b88",
   "metadata": {
    "execution": {
     "iopub.execute_input": "2025-03-14T15:01:54.244830Z",
     "iopub.status.busy": "2025-03-14T15:01:54.243834Z",
     "iopub.status.idle": "2025-03-14T15:01:54.250652Z",
     "shell.execute_reply": "2025-03-14T15:01:54.250652Z"
    },
    "executionInfo": {
     "elapsed": 196,
     "status": "ok",
     "timestamp": 1737216414526,
     "user": {
      "displayName": "Luca Liebscht",
      "userId": "11880140528704889234"
     },
     "user_tz": -60
    },
    "id": "I_hrwU9x479z",
    "papermill": {
     "duration": 0.013824,
     "end_time": "2025-03-14T15:01:54.251658",
     "exception": false,
     "start_time": "2025-03-14T15:01:54.237834",
     "status": "completed"
    },
    "tags": [
     "parameters"
    ]
   },
   "outputs": [],
   "source": [
    "# parameters\n",
    "INPUT_DATA_PATH = \"../data/interim/\"\n",
    "INPUT_PROCESSED_DATA_PATH = \"../data/processed/\"\n",
    "\n",
    "YEAR = 2017\n",
    "SAVE_OUTPUT = True\n",
    "OUTPUT_DATA_PATH = \"../data/interim/\"\n"
   ]
  },
  {
   "cell_type": "code",
   "execution_count": 35,
   "id": "5c6e8545",
   "metadata": {
    "execution": {
     "iopub.execute_input": "2025-03-14T15:01:54.261716Z",
     "iopub.status.busy": "2025-03-14T15:01:54.261716Z",
     "iopub.status.idle": "2025-03-14T15:01:54.264679Z",
     "shell.execute_reply": "2025-03-14T15:01:54.264679Z"
    },
    "papermill": {
     "duration": 0.01041,
     "end_time": "2025-03-14T15:01:54.266108",
     "exception": false,
     "start_time": "2025-03-14T15:01:54.255698",
     "status": "completed"
    },
    "tags": [
     "injected-parameters"
    ]
   },
   "outputs": [],
   "source": [
    "# Parameters\n",
    "YEAR = 2024\n",
    "SAVE_OUTPUT = True\n"
   ]
  },
  {
   "cell_type": "code",
   "execution_count": 36,
   "id": "f96ccfa5",
   "metadata": {
    "colab": {
     "base_uri": "https://localhost:8080/"
    },
    "execution": {
     "iopub.execute_input": "2025-03-14T15:01:54.277134Z",
     "iopub.status.busy": "2025-03-14T15:01:54.277134Z",
     "iopub.status.idle": "2025-03-14T15:01:55.391379Z",
     "shell.execute_reply": "2025-03-14T15:01:55.391379Z"
    },
    "executionInfo": {
     "elapsed": 19072,
     "status": "ok",
     "timestamp": 1737216453714,
     "user": {
      "displayName": "Luca Liebscht",
      "userId": "11880140528704889234"
     },
     "user_tz": -60
    },
    "id": "HnDB36CLTIxL",
    "outputId": "5e9ddd8f-0300-40ec-cf32-75cf8dc5e328",
    "papermill": {
     "duration": 1.123307,
     "end_time": "2025-03-14T15:01:55.393427",
     "exception": false,
     "start_time": "2025-03-14T15:01:54.270120",
     "status": "completed"
    },
    "tags": []
   },
   "outputs": [],
   "source": [
    "# Import all necessary libraries\n",
    "import time\n",
    "start = time.time()\n",
    "import geopandas as gpd\n",
    "import pandas as pd\n",
    "from functools import reduce\n",
    "import matplotlib.pyplot as plt\n",
    "import warnings\n",
    "from pathlib import Path\n"
   ]
  },
  {
   "cell_type": "markdown",
   "id": "06a8ab48",
   "metadata": {
    "papermill": {
     "duration": 0.004997,
     "end_time": "2025-03-14T15:01:55.403523",
     "exception": false,
     "start_time": "2025-03-14T15:01:55.398526",
     "status": "completed"
    },
    "tags": []
   },
   "source": [
    "# Load data"
   ]
  },
  {
   "cell_type": "code",
   "execution_count": 37,
   "id": "1d238869",
   "metadata": {
    "execution": {
     "iopub.execute_input": "2025-03-14T15:01:55.414333Z",
     "iopub.status.busy": "2025-03-14T15:01:55.414333Z",
     "iopub.status.idle": "2025-03-14T15:01:55.599283Z",
     "shell.execute_reply": "2025-03-14T15:01:55.599283Z"
    },
    "papermill": {
     "duration": 0.192256,
     "end_time": "2025-03-14T15:01:55.600290",
     "exception": false,
     "start_time": "2025-03-14T15:01:55.408034",
     "status": "completed"
    },
    "tags": []
   },
   "outputs": [
    {
     "name": "stdout",
     "output_type": "stream",
     "text": [
      "(2484288, 11)\n",
      "Index(['Id_aforament', 'date', 'hour', 'intensity', 'prev_hour_count',\n",
      "       'Daily_Counts', 'duration', 'Number_of_hrs_data_collected', 'day',\n",
      "       'month', 'Number_of_days_data_collected'],\n",
      "      dtype='object')\n"
     ]
    },
    {
     "data": {
      "text/html": [
       "<div>\n",
       "<style scoped>\n",
       "    .dataframe tbody tr th:only-of-type {\n",
       "        vertical-align: middle;\n",
       "    }\n",
       "\n",
       "    .dataframe tbody tr th {\n",
       "        vertical-align: top;\n",
       "    }\n",
       "\n",
       "    .dataframe thead th {\n",
       "        text-align: right;\n",
       "    }\n",
       "</style>\n",
       "<table border=\"1\" class=\"dataframe\">\n",
       "  <thead>\n",
       "    <tr style=\"text-align: right;\">\n",
       "      <th></th>\n",
       "      <th>Id_aforament</th>\n",
       "      <th>date</th>\n",
       "      <th>hour</th>\n",
       "      <th>intensity</th>\n",
       "      <th>prev_hour_count</th>\n",
       "      <th>Daily_Counts</th>\n",
       "      <th>duration</th>\n",
       "      <th>Number_of_hrs_data_collected</th>\n",
       "      <th>day</th>\n",
       "      <th>month</th>\n",
       "      <th>Number_of_days_data_collected</th>\n",
       "    </tr>\n",
       "  </thead>\n",
       "  <tbody>\n",
       "    <tr>\n",
       "      <th>0</th>\n",
       "      <td>20001</td>\n",
       "      <td>2024-01-01</td>\n",
       "      <td>00</td>\n",
       "      <td>126.0</td>\n",
       "      <td>NaN</td>\n",
       "      <td>3461.0</td>\n",
       "      <td>1</td>\n",
       "      <td>24</td>\n",
       "      <td>1</td>\n",
       "      <td>1</td>\n",
       "      <td>25</td>\n",
       "    </tr>\n",
       "    <tr>\n",
       "      <th>1</th>\n",
       "      <td>20001</td>\n",
       "      <td>2024-01-01</td>\n",
       "      <td>01</td>\n",
       "      <td>138.0</td>\n",
       "      <td>NaN</td>\n",
       "      <td>3461.0</td>\n",
       "      <td>1</td>\n",
       "      <td>24</td>\n",
       "      <td>1</td>\n",
       "      <td>1</td>\n",
       "      <td>25</td>\n",
       "    </tr>\n",
       "    <tr>\n",
       "      <th>2</th>\n",
       "      <td>20001</td>\n",
       "      <td>2024-01-01</td>\n",
       "      <td>02</td>\n",
       "      <td>103.0</td>\n",
       "      <td>NaN</td>\n",
       "      <td>3461.0</td>\n",
       "      <td>1</td>\n",
       "      <td>24</td>\n",
       "      <td>1</td>\n",
       "      <td>1</td>\n",
       "      <td>25</td>\n",
       "    </tr>\n",
       "    <tr>\n",
       "      <th>3</th>\n",
       "      <td>20001</td>\n",
       "      <td>2024-01-01</td>\n",
       "      <td>03</td>\n",
       "      <td>95.0</td>\n",
       "      <td>NaN</td>\n",
       "      <td>3461.0</td>\n",
       "      <td>1</td>\n",
       "      <td>24</td>\n",
       "      <td>1</td>\n",
       "      <td>1</td>\n",
       "      <td>25</td>\n",
       "    </tr>\n",
       "    <tr>\n",
       "      <th>4</th>\n",
       "      <td>20001</td>\n",
       "      <td>2024-01-01</td>\n",
       "      <td>04</td>\n",
       "      <td>76.0</td>\n",
       "      <td>NaN</td>\n",
       "      <td>3461.0</td>\n",
       "      <td>1</td>\n",
       "      <td>24</td>\n",
       "      <td>1</td>\n",
       "      <td>1</td>\n",
       "      <td>25</td>\n",
       "    </tr>\n",
       "  </tbody>\n",
       "</table>\n",
       "</div>"
      ],
      "text/plain": [
       "   Id_aforament       date hour  intensity  prev_hour_count  Daily_Counts  \\\n",
       "0         20001 2024-01-01   00      126.0              NaN        3461.0   \n",
       "1         20001 2024-01-01   01      138.0              NaN        3461.0   \n",
       "2         20001 2024-01-01   02      103.0              NaN        3461.0   \n",
       "3         20001 2024-01-01   03       95.0              NaN        3461.0   \n",
       "4         20001 2024-01-01   04       76.0              NaN        3461.0   \n",
       "\n",
       "   duration  Number_of_hrs_data_collected  day  month  \\\n",
       "0         1                            24    1      1   \n",
       "1         1                            24    1      1   \n",
       "2         1                            24    1      1   \n",
       "3         1                            24    1      1   \n",
       "4         1                            24    1      1   \n",
       "\n",
       "   Number_of_days_data_collected  \n",
       "0                             25  \n",
       "1                             25  \n",
       "2                             25  \n",
       "3                             25  \n",
       "4                             25  "
      ]
     },
     "execution_count": 37,
     "metadata": {},
     "output_type": "execute_result"
    }
   ],
   "source": [
    "#Read observations by hour \n",
    "counters_hour = pd.read_parquet(Path(INPUT_DATA_PATH) / f'cleaned_data{YEAR}.parquet')\n",
    "\n",
    "# Explore the data (shape, columns, head, etc)\n",
    "print(counters_hour.shape)\n",
    "print(counters_hour.columns)\n",
    "counters_hour.head()"
   ]
  },
  {
   "cell_type": "code",
   "execution_count": 38,
   "id": "82939a58",
   "metadata": {},
   "outputs": [
    {
     "name": "stdout",
     "output_type": "stream",
     "text": [
      "(381, 8)\n",
      "Index(['Id_aforament', 'Desc_aforament', 'Num_carrils', 'Codi_districte',\n",
      "       'Codi_Barri', 'Codi_tipus_equip_mesura', 'Desc_tipus_equip_mesura',\n",
      "       'geometry'],\n",
      "      dtype='object')\n"
     ]
    },
    {
     "data": {
      "text/html": [
       "<div>\n",
       "<style scoped>\n",
       "    .dataframe tbody tr th:only-of-type {\n",
       "        vertical-align: middle;\n",
       "    }\n",
       "\n",
       "    .dataframe tbody tr th {\n",
       "        vertical-align: top;\n",
       "    }\n",
       "\n",
       "    .dataframe thead th {\n",
       "        text-align: right;\n",
       "    }\n",
       "</style>\n",
       "<table border=\"1\" class=\"dataframe\">\n",
       "  <thead>\n",
       "    <tr style=\"text-align: right;\">\n",
       "      <th></th>\n",
       "      <th>Id_aforament</th>\n",
       "      <th>Desc_aforament</th>\n",
       "      <th>Num_carrils</th>\n",
       "      <th>Codi_districte</th>\n",
       "      <th>Codi_Barri</th>\n",
       "      <th>Codi_tipus_equip_mesura</th>\n",
       "      <th>Desc_tipus_equip_mesura</th>\n",
       "      <th>geometry</th>\n",
       "    </tr>\n",
       "  </thead>\n",
       "  <tbody>\n",
       "    <tr>\n",
       "      <th>395</th>\n",
       "      <td>20001</td>\n",
       "      <td>DIPUTACIÓ - COMTE D'URGELL (carril BICI)</td>\n",
       "      <td>1</td>\n",
       "      <td>2</td>\n",
       "      <td>8</td>\n",
       "      <td>1</td>\n",
       "      <td>Espira</td>\n",
       "      <td>POINT (2.15709 41.38300)</td>\n",
       "    </tr>\n",
       "    <tr>\n",
       "      <th>396</th>\n",
       "      <td>20002</td>\n",
       "      <td>DIPUTACIÓ - COMTE BORELL (carrril BICI)</td>\n",
       "      <td>1</td>\n",
       "      <td>2</td>\n",
       "      <td>9</td>\n",
       "      <td>1</td>\n",
       "      <td>Espira</td>\n",
       "      <td>POINT (2.15709 41.38300)</td>\n",
       "    </tr>\n",
       "    <tr>\n",
       "      <th>397</th>\n",
       "      <td>20003</td>\n",
       "      <td>GRAN VIA DE LES CORTS CATALANES - MUNTANER (ca...</td>\n",
       "      <td>1</td>\n",
       "      <td>2</td>\n",
       "      <td>10</td>\n",
       "      <td>1</td>\n",
       "      <td>Espira</td>\n",
       "      <td>POINT (2.16165 41.38459)</td>\n",
       "    </tr>\n",
       "    <tr>\n",
       "      <th>398</th>\n",
       "      <td>20005</td>\n",
       "      <td>MUNTANER - GRAN VIA DE LES CORTS CATALANES (ca...</td>\n",
       "      <td>1</td>\n",
       "      <td>2</td>\n",
       "      <td>10</td>\n",
       "      <td>1</td>\n",
       "      <td>Espira</td>\n",
       "      <td>POINT (2.16310 41.38388)</td>\n",
       "    </tr>\n",
       "    <tr>\n",
       "      <th>399</th>\n",
       "      <td>20006</td>\n",
       "      <td>MUNTANER - SEPULVEDA (carril BICI sentit munta...</td>\n",
       "      <td>1</td>\n",
       "      <td>2</td>\n",
       "      <td>10</td>\n",
       "      <td>1</td>\n",
       "      <td>Espira</td>\n",
       "      <td>POINT (2.16313 41.38388)</td>\n",
       "    </tr>\n",
       "  </tbody>\n",
       "</table>\n",
       "</div>"
      ],
      "text/plain": [
       "    Id_aforament                                     Desc_aforament  \\\n",
       "395        20001           DIPUTACIÓ - COMTE D'URGELL (carril BICI)   \n",
       "396        20002            DIPUTACIÓ - COMTE BORELL (carrril BICI)   \n",
       "397        20003  GRAN VIA DE LES CORTS CATALANES - MUNTANER (ca...   \n",
       "398        20005  MUNTANER - GRAN VIA DE LES CORTS CATALANES (ca...   \n",
       "399        20006  MUNTANER - SEPULVEDA (carril BICI sentit munta...   \n",
       "\n",
       "     Num_carrils  Codi_districte  Codi_Barri  Codi_tipus_equip_mesura  \\\n",
       "395            1               2           8                        1   \n",
       "396            1               2           9                        1   \n",
       "397            1               2          10                        1   \n",
       "398            1               2          10                        1   \n",
       "399            1               2          10                        1   \n",
       "\n",
       "    Desc_tipus_equip_mesura                  geometry  \n",
       "395                  Espira  POINT (2.15709 41.38300)  \n",
       "396                  Espira  POINT (2.15709 41.38300)  \n",
       "397                  Espira  POINT (2.16165 41.38459)  \n",
       "398                  Espira  POINT (2.16310 41.38388)  \n",
       "399                  Espira  POINT (2.16313 41.38388)  "
      ]
     },
     "execution_count": 38,
     "metadata": {},
     "output_type": "execute_result"
    }
   ],
   "source": [
    "#Station data\n",
    "stations = gpd.read_parquet(Path(INPUT_DATA_PATH) / f'stations_data{YEAR}.parquet')\n",
    "\n",
    "# Explore the data (shape, columns, head, etc)\n",
    "print(stations.shape)\n",
    "print(stations.columns)\n",
    "stations.head()"
   ]
  },
  {
   "cell_type": "code",
   "execution_count": 39,
   "id": "a65eca7f",
   "metadata": {},
   "outputs": [
    {
     "name": "stdout",
     "output_type": "stream",
     "text": [
      "(185, 22)\n",
      "Index(['hex_id', 'date', 'commute_count_origin',\n",
      "       'weekday_commute_count_origin', 'weekend_commute_count_origin',\n",
      "       'commute_count_destination', 'weekday_commute_count_destination',\n",
      "       'weekend_commute_count_destination', 'leisure_count_origin',\n",
      "       'weekday_leisure_count_origin', 'weekend_leisure_count_origin',\n",
      "       'leisure_count_destination', 'weekday_leisure_count_destination',\n",
      "       'weekend_leisure_count_destination', 'INSPIREID', 'NATCODE', 'NAMEUNIT',\n",
      "       'CODNUT1', 'CODNUT2', 'CODNUT3', 'CODIGOINE', 'geometry'],\n",
      "      dtype='object')\n"
     ]
    }
   ],
   "source": [
    "strava = gpd.read_parquet(Path(INPUT_DATA_PATH) / f'strava_hexagons_Barcelona_{YEAR}.parquet')\n",
    "\n",
    "# Explore the data (shape, columns, head, etc)\n",
    "print(strava.shape)\n",
    "print(strava.columns)\n",
    "# strava.head()"
   ]
  },
  {
   "cell_type": "markdown",
   "id": "db39a2aa",
   "metadata": {
    "papermill": {
     "duration": 0.005081,
     "end_time": "2025-03-14T15:01:55.611214",
     "exception": false,
     "start_time": "2025-03-14T15:01:55.606133",
     "status": "completed"
    },
    "tags": []
   },
   "source": [
    "## Fix formats"
   ]
  },
  {
   "cell_type": "code",
   "execution_count": 40,
   "id": "5d3c8b53",
   "metadata": {
    "execution": {
     "iopub.execute_input": "2025-03-14T15:01:55.622497Z",
     "iopub.status.busy": "2025-03-14T15:01:55.622497Z",
     "iopub.status.idle": "2025-03-14T15:01:55.627248Z",
     "shell.execute_reply": "2025-03-14T15:01:55.627248Z"
    },
    "papermill": {
     "duration": 0.013437,
     "end_time": "2025-03-14T15:01:55.629254",
     "exception": false,
     "start_time": "2025-03-14T15:01:55.615817",
     "status": "completed"
    },
    "tags": []
   },
   "outputs": [
    {
     "data": {
      "text/plain": [
       "Id_aforament                              int32\n",
       "date                             datetime64[ns]\n",
       "hour                                     object\n",
       "intensity                               float64\n",
       "prev_hour_count                         float64\n",
       "Daily_Counts                            float64\n",
       "duration                                  int64\n",
       "Number_of_hrs_data_collected              int64\n",
       "day                                       int32\n",
       "month                                     int32\n",
       "Number_of_days_data_collected             int64\n",
       "dtype: object"
      ]
     },
     "execution_count": 40,
     "metadata": {},
     "output_type": "execute_result"
    }
   ],
   "source": [
    "counters_hour.dtypes"
   ]
  },
  {
   "cell_type": "code",
   "execution_count": 53,
   "id": "389cebd5",
   "metadata": {
    "execution": {
     "iopub.execute_input": "2025-03-14T15:01:55.640327Z",
     "iopub.status.busy": "2025-03-14T15:01:55.639079Z",
     "iopub.status.idle": "2025-03-14T15:01:55.923682Z",
     "shell.execute_reply": "2025-03-14T15:01:55.923682Z"
    },
    "papermill": {
     "duration": 0.291953,
     "end_time": "2025-03-14T15:01:55.926016",
     "exception": false,
     "start_time": "2025-03-14T15:01:55.634063",
     "status": "completed"
    },
    "tags": []
   },
   "outputs": [],
   "source": [
    "counters_hour.rename(columns={'Id_aforament': 'id'}, inplace=True)\n",
    "counters_hour[\"intensity\"] = counters_hour[\"intensity\"].astype(int)\n",
    "#Make date column datetime\n",
    "counters_hour['date'] = pd.to_datetime(counters_hour['date'])\n",
    "counters_hour[\"weekday\"] = counters_hour[\"date\"].dt.weekday\n",
    "counters_hour[\"hour\"] = counters_hour[\"hour\"].astype(int)\n",
    "counters_hour[\"year\"] = counters_hour[\"date\"].dt.year\n",
    "\n",
    "stations.rename(columns={'Id_aforament': 'id'}, inplace=True)\n",
    "stations['id']=stations['id'].astype(int)"
   ]
  },
  {
   "cell_type": "code",
   "execution_count": 42,
   "id": "96ea2f67",
   "metadata": {
    "execution": {
     "iopub.execute_input": "2025-03-14T15:01:55.941127Z",
     "iopub.status.busy": "2025-03-14T15:01:55.941127Z",
     "iopub.status.idle": "2025-03-14T15:01:56.022596Z",
     "shell.execute_reply": "2025-03-14T15:01:56.022596Z"
    },
    "papermill": {
     "duration": 0.09347,
     "end_time": "2025-03-14T15:01:56.024601",
     "exception": false,
     "start_time": "2025-03-14T15:01:55.931131",
     "status": "completed"
    },
    "tags": []
   },
   "outputs": [],
   "source": [
    "essential_attributes = [\n",
    "    'id',\n",
    "    'date', \n",
    "    'weekday', \n",
    "    'hour', \n",
    "    'intensity', \n",
    "    'month', \n",
    "    'day'\n",
    "]\n",
    "data_indices = counters_hour[essential_attributes].copy()\n",
    "indices = counters_hour[\"id\"].drop_duplicates().reset_index(drop=True)"
   ]
  },
  {
   "cell_type": "markdown",
   "id": "c87c69fe",
   "metadata": {
    "papermill": {
     "duration": 0.004988,
     "end_time": "2025-03-14T15:01:56.052265",
     "exception": false,
     "start_time": "2025-03-14T15:01:56.047277",
     "status": "completed"
    },
    "tags": []
   },
   "source": [
    "# Traffic Indices Of Permanent Counters\n"
   ]
  },
  {
   "cell_type": "markdown",
   "id": "e23743e7",
   "metadata": {
    "papermill": {
     "duration": 0.006284,
     "end_time": "2025-03-14T15:01:56.065332",
     "exception": false,
     "start_time": "2025-03-14T15:01:56.059048",
     "status": "completed"
    },
    "tags": []
   },
   "source": [
    "## Calculate Bicycle Traffic Indices"
   ]
  },
  {
   "cell_type": "markdown",
   "id": "179f3020",
   "metadata": {
    "papermill": {
     "duration": 0.005028,
     "end_time": "2025-03-14T15:01:56.075357",
     "exception": false,
     "start_time": "2025-03-14T15:01:56.070329",
     "status": "completed"
    },
    "tags": []
   },
   "source": [
    "### WWI"
   ]
  },
  {
   "cell_type": "markdown",
   "id": "404944fb",
   "metadata": {
    "papermill": {
     "duration": 0.01433,
     "end_time": "2025-03-14T15:01:56.096168",
     "exception": false,
     "start_time": "2025-03-14T15:01:56.081838",
     "status": "completed"
    },
    "tags": []
   },
   "source": [
    "The weekend/weekday index (WWI) is the ratio of the average weekend daily traffic to a particular\n",
    "site's average weekday daily traffic."
   ]
  },
  {
   "cell_type": "code",
   "execution_count": 43,
   "id": "b3ef3824",
   "metadata": {
    "execution": {
     "iopub.execute_input": "2025-03-14T15:01:56.111698Z",
     "iopub.status.busy": "2025-03-14T15:01:56.111698Z",
     "iopub.status.idle": "2025-03-14T15:01:56.302012Z",
     "shell.execute_reply": "2025-03-14T15:01:56.302012Z"
    },
    "papermill": {
     "duration": 0.198859,
     "end_time": "2025-03-14T15:01:56.303020",
     "exception": false,
     "start_time": "2025-03-14T15:01:56.104161",
     "status": "completed"
    },
    "tags": []
   },
   "outputs": [
    {
     "name": "stdout",
     "output_type": "stream",
     "text": [
      "(364, 2)\n",
      "count    364.000000\n",
      "mean       0.762555\n",
      "std        0.110293\n",
      "min        0.410000\n",
      "25%        0.700000\n",
      "50%        0.760000\n",
      "75%        0.820000\n",
      "max        1.190000\n",
      "Name: WWI, dtype: float64\n"
     ]
    }
   ],
   "source": [
    "def calculate_wwi(df):\n",
    "    # Identify weekends (Saturday=5, Sunday=6) and weekdays (Monday=0 to Friday=4)\n",
    "    df['is_weekend'] = df['weekday'].isin([5, 6])\n",
    "\n",
    "    # Calculate average daily traffic for weekends and weekdays by counter id\n",
    "    daily_traffic = df.groupby(['id', 'date', 'is_weekend'])['intensity'].sum().reset_index()\n",
    "\n",
    "    avg_traffic = daily_traffic.groupby(['id', 'is_weekend'])['intensity'].mean().unstack()\n",
    "\n",
    "    # Ensure columns exist for both weekend (True) and weekday (False)\n",
    "    avg_traffic = avg_traffic.rename(columns={True: 'weekend_avg', False: 'weekday_avg'}).fillna(0)\n",
    "\n",
    "    # Calculate WWI (weekend/weekday index)\n",
    "    avg_traffic['WWI'] = avg_traffic['weekend_avg'] / avg_traffic['weekday_avg']\n",
    "\n",
    "    # Prepare final indices DataFrame\n",
    "    indices = avg_traffic.reset_index()[['id', 'WWI']]\n",
    "\n",
    "    #Round WWI to 2 decimal places\n",
    "    indices['WWI'] = indices['WWI'].round(2)\n",
    "\n",
    "    indices.reset_index(drop=True, inplace=True)\n",
    "    return indices\n",
    "\n",
    "WWI_indices = calculate_wwi(data_indices)\n",
    "\n",
    "print(WWI_indices.shape)\n",
    "print(WWI_indices[\"WWI\"].describe())\n"
   ]
  },
  {
   "cell_type": "markdown",
   "id": "12d0b9be",
   "metadata": {
    "papermill": {
     "duration": 0.0057,
     "end_time": "2025-03-14T15:01:56.319120",
     "exception": false,
     "start_time": "2025-03-14T15:01:56.313420",
     "status": "completed"
    },
    "tags": []
   },
   "source": [
    "### AMI\n"
   ]
  },
  {
   "cell_type": "markdown",
   "id": "b132ee5e",
   "metadata": {
    "papermill": {
     "duration": 0.005187,
     "end_time": "2025-03-14T15:01:56.329533",
     "exception": false,
     "start_time": "2025-03-14T15:01:56.324346",
     "status": "completed"
    },
    "tags": []
   },
   "source": [
    "The AM to midday index (AMI) is the ratio of the average weekday volume observed between 7 and 9 am to the average weekday volume between 11 am and 1 pm. "
   ]
  },
  {
   "cell_type": "code",
   "execution_count": 44,
   "id": "c8d7037e",
   "metadata": {
    "execution": {
     "iopub.execute_input": "2025-03-14T15:01:56.341837Z",
     "iopub.status.busy": "2025-03-14T15:01:56.341837Z",
     "iopub.status.idle": "2025-03-14T15:01:56.475659Z",
     "shell.execute_reply": "2025-03-14T15:01:56.475659Z"
    },
    "papermill": {
     "duration": 0.141133,
     "end_time": "2025-03-14T15:01:56.476665",
     "exception": false,
     "start_time": "2025-03-14T15:01:56.335532",
     "status": "completed"
    },
    "tags": []
   },
   "outputs": [
    {
     "name": "stdout",
     "output_type": "stream",
     "text": [
      "(364, 2)\n",
      "count    364.000000\n",
      "mean       1.174038\n",
      "std        0.383460\n",
      "min        0.380000\n",
      "25%        0.920000\n",
      "50%        1.110000\n",
      "75%        1.370000\n",
      "max        3.010000\n",
      "Name: AMI, dtype: float64\n"
     ]
    }
   ],
   "source": [
    "def calculate_ami(df):\n",
    "    # Filter for weekdays (Monday=0 to Friday=4)\n",
    "    weekday_df = df[df['weekday'].between(0, 4)]\n",
    "\n",
    "    # Calculate traffic for AM (7-9) and midday (11-13) by id and date\n",
    "    am_traffic = weekday_df[weekday_df['hour'].between(7, 9)].groupby(['id', 'date'])['intensity'].sum().reset_index()\n",
    "    midday_traffic = weekday_df[weekday_df['hour'].between(11, 13)].groupby(['id', 'date'])['intensity'].sum().reset_index()\n",
    "\n",
    "    # Calculate mean traffic for AM and midday by id\n",
    "    am_mean = am_traffic.groupby('id')['intensity'].mean()\n",
    "    midday_mean = midday_traffic.groupby('id')['intensity'].mean()\n",
    "\n",
    "    # Combine and calculate AMI (AM to midday index)\n",
    "    ami_df = pd.DataFrame({'id': am_mean.index, 'AM_mean': am_mean, 'Midday_mean': midday_mean}).fillna(0)\n",
    "    ami_df['AMI'] = ami_df['AM_mean'] / ami_df['Midday_mean']\n",
    "\n",
    "    #Round AMI to 2 decimal places\n",
    "    ami_df['AMI'] = ami_df['AMI'].round(2)\n",
    "\n",
    "    ami_df.reset_index(drop=True, inplace=True)\n",
    "    return ami_df[['id', 'AMI']]\n",
    "\n",
    "AMI_indices = calculate_ami(data_indices)\n",
    "\n",
    "print(AMI_indices.shape)\n",
    "print(AMI_indices[\"AMI\"].describe())\n"
   ]
  },
  {
   "cell_type": "markdown",
   "id": "34b18d6b",
   "metadata": {
    "papermill": {
     "duration": 0.006996,
     "end_time": "2025-03-14T15:01:56.498311",
     "exception": false,
     "start_time": "2025-03-14T15:01:56.491315",
     "status": "completed"
    },
    "tags": []
   },
   "source": [
    "### PMI"
   ]
  },
  {
   "cell_type": "markdown",
   "id": "2402fe23",
   "metadata": {
    "papermill": {
     "duration": 0.006527,
     "end_time": "2025-03-14T15:01:56.509847",
     "exception": false,
     "start_time": "2025-03-14T15:01:56.503320",
     "status": "completed"
    },
    "tags": []
   },
   "source": [
    "The PM to midday index (PMI) is the ratio of the average weekday volume observed between 5 pm and 7 pm to the average weekday volume observed between 11 am and 1 pm."
   ]
  },
  {
   "cell_type": "code",
   "execution_count": 45,
   "id": "836795e0",
   "metadata": {
    "execution": {
     "iopub.execute_input": "2025-03-14T15:01:56.520544Z",
     "iopub.status.busy": "2025-03-14T15:01:56.520544Z",
     "iopub.status.idle": "2025-03-14T15:01:56.653750Z",
     "shell.execute_reply": "2025-03-14T15:01:56.653750Z"
    },
    "papermill": {
     "duration": 0.141303,
     "end_time": "2025-03-14T15:01:56.655194",
     "exception": false,
     "start_time": "2025-03-14T15:01:56.513891",
     "status": "completed"
    },
    "tags": []
   },
   "outputs": [
    {
     "name": "stdout",
     "output_type": "stream",
     "text": [
      "(364, 2)\n",
      "count    364.000000\n",
      "mean       1.583104\n",
      "std        0.263192\n",
      "min        0.670000\n",
      "25%        1.417500\n",
      "50%        1.560000\n",
      "75%        1.740000\n",
      "max        2.480000\n",
      "Name: PMI, dtype: float64\n"
     ]
    }
   ],
   "source": [
    "def calculate_pmi(df):\n",
    "    # Filter for weekdays (Monday=0 to Friday=4)\n",
    "    weekday_df = df[df['weekday'].between(0, 4)]\n",
    "\n",
    "    # Calculate traffic for PM (17-19) and midday (11-13) by id and date\n",
    "    pm_traffic = weekday_df[weekday_df['hour'].between(17, 19)].groupby(['id', 'date'])['intensity'].sum().reset_index()\n",
    "    midday_traffic = weekday_df[weekday_df['hour'].between(11, 13)].groupby(['id', 'date'])['intensity'].sum().reset_index()\n",
    "\n",
    "    # Calculate mean traffic for PM and midday by id\n",
    "    pm_mean = pm_traffic.groupby('id')['intensity'].mean()\n",
    "    midday_mean = midday_traffic.groupby('id')['intensity'].mean()\n",
    "\n",
    "    # Combine and calculate PMI (PM to midday index)\n",
    "    pmi_df = pd.DataFrame({'id': pm_mean.index, 'PM_mean': pm_mean, 'Midday_mean': midday_mean}).fillna(0)\n",
    "    pmi_df['PMI'] = pmi_df['PM_mean'] / pmi_df['Midday_mean']\n",
    "\n",
    "    #Round PMI to 2 decimal places\n",
    "    pmi_df['PMI'] = pmi_df['PMI'].round(2)\n",
    "\n",
    "    pmi_df.reset_index(drop=True, inplace=True)\n",
    "    return pmi_df[['id', 'PMI']]\n",
    "PMI_indices = calculate_pmi(data_indices)\n",
    "\n",
    "print(PMI_indices.shape)\n",
    "print(PMI_indices[\"PMI\"].describe())"
   ]
  },
  {
   "cell_type": "markdown",
   "id": "aac4fba6",
   "metadata": {
    "papermill": {
     "duration": 0.013381,
     "end_time": "2025-03-14T15:01:56.674652",
     "exception": false,
     "start_time": "2025-03-14T15:01:56.661271",
     "status": "completed"
    },
    "tags": []
   },
   "source": [
    "### PHI\n",
    "\n"
   ]
  },
  {
   "cell_type": "markdown",
   "id": "d994e674",
   "metadata": {
    "papermill": {
     "duration": 0.005,
     "end_time": "2025-03-14T15:01:56.684647",
     "exception": false,
     "start_time": "2025-03-14T15:01:56.679647",
     "status": "completed"
    },
    "tags": []
   },
   "source": [
    "The peak hour index (PHI) is introduced here as the maximum value of the AMI and PMI for a given site. This index was created to help classify sites where a given “count station” might only capture one predominant direction of travel, such as in the case of a one-way couplet, where the morning commute volume peak might be observed by a different counter than that observing the evening commute volume peak. By considering the maximum value, the degree to which a given site has “commute-related” peaking can be better represented.\n"
   ]
  },
  {
   "cell_type": "code",
   "execution_count": 46,
   "id": "1c98b356",
   "metadata": {
    "execution": {
     "iopub.execute_input": "2025-03-14T15:01:56.695692Z",
     "iopub.status.busy": "2025-03-14T15:01:56.695692Z",
     "iopub.status.idle": "2025-03-14T15:01:56.706154Z",
     "shell.execute_reply": "2025-03-14T15:01:56.706154Z"
    },
    "papermill": {
     "duration": 0.019004,
     "end_time": "2025-03-14T15:01:56.708249",
     "exception": false,
     "start_time": "2025-03-14T15:01:56.689245",
     "status": "completed"
    },
    "tags": []
   },
   "outputs": [
    {
     "name": "stdout",
     "output_type": "stream",
     "text": [
      "(364, 2)\n",
      "count    364.000000\n",
      "mean       1.644863\n",
      "std        0.280117\n",
      "min        0.790000\n",
      "25%        1.457500\n",
      "50%        1.610000\n",
      "75%        1.810000\n",
      "max        3.010000\n",
      "Name: PHI, dtype: float64\n"
     ]
    }
   ],
   "source": [
    "def calculate_phi(ami_df, pmi_df):\n",
    "    # Merge AMI and PMI\n",
    "    phi_df = ami_df.merge(pmi_df, on='id', how='outer').fillna(0)\n",
    "\n",
    "    # Calculate PHI (Peak Hour Index)\n",
    "    phi_df['PHI'] = phi_df[['AMI', 'PMI']].max(axis=1)\n",
    "\n",
    "    #Round PHI to 2 decimal places\n",
    "    phi_df['PHI'] = phi_df['PHI'].round(2)\n",
    "\n",
    "    phi_df.reset_index(drop=True, inplace=True)\n",
    "    return phi_df[['id', 'PHI']]\n",
    "\n",
    "PHI_indices = calculate_phi(AMI_indices, PMI_indices)\n",
    "\n",
    "print(PHI_indices.shape)\n",
    "print(PHI_indices[\"PHI\"].describe())"
   ]
  },
  {
   "cell_type": "markdown",
   "id": "f7e642f1",
   "metadata": {
    "papermill": {
     "duration": 0.004387,
     "end_time": "2025-03-14T15:01:56.717805",
     "exception": false,
     "start_time": "2025-03-14T15:01:56.713418",
     "status": "completed"
    },
    "tags": []
   },
   "source": [
    "### SF\n"
   ]
  },
  {
   "cell_type": "markdown",
   "id": "52bb9c3a",
   "metadata": {
    "papermill": {
     "duration": 0.005325,
     "end_time": "2025-03-14T15:01:56.728595",
     "exception": false,
     "start_time": "2025-03-14T15:01:56.723270",
     "status": "completed"
    },
    "tags": []
   },
   "source": [
    "Seasonal Factor (SF): This study created seasonal factors by dividing the average daily volume in June, July, and August by the average daily volume in December, January, and February. This SF is useful for identifying sites that have seasonal activity variations. The factor varies from zero to infinite. If the factor is calculated for multiple years in a single site, the average factor was taken to decide the final seasonality of that site. This factor was developed to separate the MOY pattern."
   ]
  },
  {
   "cell_type": "code",
   "execution_count": 47,
   "id": "eefeac32",
   "metadata": {
    "execution": {
     "iopub.execute_input": "2025-03-14T15:01:56.740011Z",
     "iopub.status.busy": "2025-03-14T15:01:56.740011Z",
     "iopub.status.idle": "2025-03-14T15:01:56.921696Z",
     "shell.execute_reply": "2025-03-14T15:01:56.921696Z"
    },
    "papermill": {
     "duration": 0.189789,
     "end_time": "2025-03-14T15:01:56.923719",
     "exception": false,
     "start_time": "2025-03-14T15:01:56.733930",
     "status": "completed"
    },
    "tags": []
   },
   "outputs": [
    {
     "name": "stdout",
     "output_type": "stream",
     "text": [
      "(347,)\n",
      "(349,)\n",
      "(332,)\n",
      "(332,)\n",
      "(332, 2)\n",
      "count    332.000000\n",
      "mean       1.138614\n",
      "std        0.543820\n",
      "min        0.046000\n",
      "25%        0.986000\n",
      "50%        1.090500\n",
      "75%        1.209250\n",
      "max        9.557000\n",
      "Name: SF, dtype: float64\n"
     ]
    }
   ],
   "source": [
    "def calculate_sf(df):\n",
    "    # Calculate daily volume by id and date\n",
    "    daily_volume = df.groupby(['id', 'date', 'month'])['intensity'].sum().reset_index()\n",
    "\n",
    "    # Identify summer (June=6, July=7, August=8) and winter (December=12, January=1, February=2) months\n",
    "    summer_volume = daily_volume[daily_volume['month'].isin([6, 7, 8])]\n",
    "    winter_volume = daily_volume[daily_volume['month'].isin([12, 1, 2])]\n",
    "\n",
    "    # Mean daily volume by season and id\n",
    "    summer_mean = summer_volume.groupby('id')['intensity'].mean()\n",
    "    winter_mean = winter_volume.groupby('id')['intensity'].mean()\n",
    "    print(summer_mean.shape)\n",
    "    print(winter_mean.shape)\n",
    "    # Keep only ids with data for both seasons\n",
    "    summer_mean = summer_mean[summer_mean.index.isin(winter_mean.index)]\n",
    "    winter_mean = winter_mean[winter_mean.index.isin(summer_mean.index)]\n",
    "    print(summer_mean.shape)\n",
    "    print(winter_mean.shape)\n",
    "    # Combine and calculate Seasonal Factor (SF)\n",
    "    sf_df = pd.DataFrame({'id': summer_mean.index, 'Summer_mean': summer_mean, 'Winter_mean': winter_mean}).fillna(0)\n",
    "    sf_df['SF'] = sf_df['Summer_mean'] / sf_df['Winter_mean']\n",
    "\n",
    "    #Round SF to 2 decimal places\n",
    "    sf_df['SF'] = sf_df['SF'].round(3)\n",
    "\n",
    "    sf_df.reset_index(drop=True, inplace=True)\n",
    "    return sf_df[['id', 'SF']]\n",
    "SF_indices = calculate_sf(data_indices)\n",
    "\n",
    "print(SF_indices.shape)\n",
    "print(SF_indices[\"SF\"].describe())"
   ]
  },
  {
   "cell_type": "markdown",
   "id": "34b81041",
   "metadata": {
    "papermill": {
     "duration": 0.009469,
     "end_time": "2025-03-14T15:01:56.942188",
     "exception": false,
     "start_time": "2025-03-14T15:01:56.932719",
     "status": "completed"
    },
    "tags": []
   },
   "source": [
    "### SRR"
   ]
  },
  {
   "cell_type": "markdown",
   "id": "6ec81e4f",
   "metadata": {
    "papermill": {
     "duration": 0.006415,
     "end_time": "2025-03-14T15:01:56.957041",
     "exception": false,
     "start_time": "2025-03-14T15:01:56.950626",
     "status": "completed"
    },
    "tags": []
   },
   "source": [
    "The ratio of Strava annual recreational trips and Strava annual total trips is known as the Strava recreational ratio. The ratio varies from 0 to 1. The higher value of the recreational ratio indicates more recreational activities on that site. SRR was developed to separate the weekend HOD factor pattern"
   ]
  },
  {
   "cell_type": "code",
   "execution_count": 54,
   "id": "f544db9a",
   "metadata": {},
   "outputs": [],
   "source": [
    "# Aggregate data\n",
    "strava['stv_com_total'] = strava['commute_count_origin'] + strava['commute_count_destination']\n",
    "strava['stv_rec_total'] = strava['leisure_count_origin'] + strava['leisure_count_destination']\n",
    "\n",
    "#Keep only necessary columns\n",
    "stv = strava[['hex_id', 'stv_com_total', 'stv_rec_total','geometry']].copy()"
   ]
  },
  {
   "cell_type": "code",
   "execution_count": 55,
   "id": "d2d505ad",
   "metadata": {},
   "outputs": [
    {
     "name": "stdout",
     "output_type": "stream",
     "text": [
      "(381, 2)\n",
      "count    381.000000\n",
      "mean       0.721073\n",
      "std        0.095237\n",
      "min        0.366000\n",
      "25%        0.679000\n",
      "50%        0.734000\n",
      "75%        0.784000\n",
      "max        0.895000\n",
      "Name: SRR, dtype: float64\n"
     ]
    }
   ],
   "source": [
    "def calculate_srr(gdf,stv):\n",
    "    #Manage crs\n",
    "    gdf = gdf[['id', 'geometry']]\n",
    "    gdf = gdf.to_crs('EPSG:25831')\n",
    "    stv = stv.to_crs('EPSG:25831')\n",
    "\n",
    "    # Spatial join between Strava data and stations\n",
    "    srr = gpd.sjoin(gdf, stv, how='left', predicate='within')\n",
    "    \n",
    "    # Calculate SRR (Strava Ratio)\n",
    "    srr['stv_total'] = srr['stv_com_total'] + srr['stv_rec_total']\n",
    "    srr['SRR'] = srr['stv_rec_total'] / srr['stv_total']\n",
    "    #Round SF to 2 decimal places\n",
    "    srr['SRR'] = srr['SRR'].round(3)\n",
    "    srr.reset_index(drop=True, inplace=True)\n",
    "\n",
    "    return srr[['id', 'SRR']]\n",
    "\n",
    "SRR_indices = calculate_srr(stations,stv)\n",
    "print(SRR_indices.shape)\n",
    "print(SRR_indices[\"SRR\"].describe())"
   ]
  },
  {
   "cell_type": "markdown",
   "id": "faef4c97",
   "metadata": {},
   "source": [
    "### Calculate index"
   ]
  },
  {
   "cell_type": "code",
   "execution_count": 50,
   "id": "e6bfdf35",
   "metadata": {
    "papermill": {
     "duration": 0.006173,
     "end_time": "2025-03-14T15:01:56.969878",
     "exception": false,
     "start_time": "2025-03-14T15:01:56.963705",
     "status": "completed"
    },
    "tags": []
   },
   "outputs": [
    {
     "data": {
      "text/plain": [
       "Index(['hex_id', 'date', 'commute_count_origin',\n",
       "       'weekday_commute_count_origin', 'weekend_commute_count_origin',\n",
       "       'commute_count_destination', 'weekday_commute_count_destination',\n",
       "       'weekend_commute_count_destination', 'leisure_count_origin',\n",
       "       'weekday_leisure_count_origin', 'weekend_leisure_count_origin',\n",
       "       'leisure_count_destination', 'weekday_leisure_count_destination',\n",
       "       'weekend_leisure_count_destination', 'INSPIREID', 'NATCODE', 'NAMEUNIT',\n",
       "       'CODNUT1', 'CODNUT2', 'CODNUT3', 'CODIGOINE', 'geometry',\n",
       "       'stv_com_total', 'stv_rec_total'],\n",
       "      dtype='object')"
      ]
     },
     "execution_count": 50,
     "metadata": {},
     "output_type": "execute_result"
    }
   ],
   "source": [
    "strava.columns"
   ]
  },
  {
   "cell_type": "markdown",
   "id": "608bb79e",
   "metadata": {
    "papermill": {
     "duration": 0.006086,
     "end_time": "2025-03-14T15:01:56.981267",
     "exception": false,
     "start_time": "2025-03-14T15:01:56.975181",
     "status": "completed"
    },
    "tags": []
   },
   "source": [
    "## Summary Indices"
   ]
  },
  {
   "cell_type": "code",
   "execution_count": 56,
   "id": "199bde98",
   "metadata": {
    "execution": {
     "iopub.execute_input": "2025-03-14T15:01:56.994410Z",
     "iopub.status.busy": "2025-03-14T15:01:56.993414Z",
     "iopub.status.idle": "2025-03-14T15:01:57.019241Z",
     "shell.execute_reply": "2025-03-14T15:01:57.019241Z"
    },
    "papermill": {
     "duration": 0.032987,
     "end_time": "2025-03-14T15:01:57.020249",
     "exception": false,
     "start_time": "2025-03-14T15:01:56.987262",
     "status": "completed"
    },
    "tags": []
   },
   "outputs": [
    {
     "data": {
      "text/html": [
       "<div>\n",
       "<style scoped>\n",
       "    .dataframe tbody tr th:only-of-type {\n",
       "        vertical-align: middle;\n",
       "    }\n",
       "\n",
       "    .dataframe tbody tr th {\n",
       "        vertical-align: top;\n",
       "    }\n",
       "\n",
       "    .dataframe thead th {\n",
       "        text-align: right;\n",
       "    }\n",
       "</style>\n",
       "<table border=\"1\" class=\"dataframe\">\n",
       "  <thead>\n",
       "    <tr style=\"text-align: right;\">\n",
       "      <th></th>\n",
       "      <th>id</th>\n",
       "      <th>WWI</th>\n",
       "      <th>AMI</th>\n",
       "      <th>PMI</th>\n",
       "      <th>PHI</th>\n",
       "      <th>SF</th>\n",
       "      <th>SRR</th>\n",
       "    </tr>\n",
       "  </thead>\n",
       "  <tbody>\n",
       "    <tr>\n",
       "      <th>count</th>\n",
       "      <td>381.000000</td>\n",
       "      <td>364.000000</td>\n",
       "      <td>364.000000</td>\n",
       "      <td>364.000000</td>\n",
       "      <td>364.000000</td>\n",
       "      <td>332.000000</td>\n",
       "      <td>381.000000</td>\n",
       "    </tr>\n",
       "    <tr>\n",
       "      <th>mean</th>\n",
       "      <td>20299.257218</td>\n",
       "      <td>0.762555</td>\n",
       "      <td>1.174038</td>\n",
       "      <td>1.583104</td>\n",
       "      <td>1.644863</td>\n",
       "      <td>1.138614</td>\n",
       "      <td>0.721073</td>\n",
       "    </tr>\n",
       "    <tr>\n",
       "      <th>std</th>\n",
       "      <td>874.611172</td>\n",
       "      <td>0.110293</td>\n",
       "      <td>0.383460</td>\n",
       "      <td>0.263192</td>\n",
       "      <td>0.280117</td>\n",
       "      <td>0.543820</td>\n",
       "      <td>0.095237</td>\n",
       "    </tr>\n",
       "    <tr>\n",
       "      <th>min</th>\n",
       "      <td>20001.000000</td>\n",
       "      <td>0.410000</td>\n",
       "      <td>0.380000</td>\n",
       "      <td>0.670000</td>\n",
       "      <td>0.790000</td>\n",
       "      <td>0.046000</td>\n",
       "      <td>0.366000</td>\n",
       "    </tr>\n",
       "    <tr>\n",
       "      <th>25%</th>\n",
       "      <td>20116.000000</td>\n",
       "      <td>0.700000</td>\n",
       "      <td>0.920000</td>\n",
       "      <td>1.417500</td>\n",
       "      <td>1.457500</td>\n",
       "      <td>0.986000</td>\n",
       "      <td>0.679000</td>\n",
       "    </tr>\n",
       "    <tr>\n",
       "      <th>50%</th>\n",
       "      <td>20221.000000</td>\n",
       "      <td>0.760000</td>\n",
       "      <td>1.110000</td>\n",
       "      <td>1.560000</td>\n",
       "      <td>1.610000</td>\n",
       "      <td>1.090500</td>\n",
       "      <td>0.734000</td>\n",
       "    </tr>\n",
       "    <tr>\n",
       "      <th>75%</th>\n",
       "      <td>20328.000000</td>\n",
       "      <td>0.820000</td>\n",
       "      <td>1.370000</td>\n",
       "      <td>1.740000</td>\n",
       "      <td>1.810000</td>\n",
       "      <td>1.209250</td>\n",
       "      <td>0.784000</td>\n",
       "    </tr>\n",
       "    <tr>\n",
       "      <th>max</th>\n",
       "      <td>30005.000000</td>\n",
       "      <td>1.190000</td>\n",
       "      <td>3.010000</td>\n",
       "      <td>2.480000</td>\n",
       "      <td>3.010000</td>\n",
       "      <td>9.557000</td>\n",
       "      <td>0.895000</td>\n",
       "    </tr>\n",
       "  </tbody>\n",
       "</table>\n",
       "</div>"
      ],
      "text/plain": [
       "                 id         WWI         AMI         PMI         PHI  \\\n",
       "count    381.000000  364.000000  364.000000  364.000000  364.000000   \n",
       "mean   20299.257218    0.762555    1.174038    1.583104    1.644863   \n",
       "std      874.611172    0.110293    0.383460    0.263192    0.280117   \n",
       "min    20001.000000    0.410000    0.380000    0.670000    0.790000   \n",
       "25%    20116.000000    0.700000    0.920000    1.417500    1.457500   \n",
       "50%    20221.000000    0.760000    1.110000    1.560000    1.610000   \n",
       "75%    20328.000000    0.820000    1.370000    1.740000    1.810000   \n",
       "max    30005.000000    1.190000    3.010000    2.480000    3.010000   \n",
       "\n",
       "               SF         SRR  \n",
       "count  332.000000  381.000000  \n",
       "mean     1.138614    0.721073  \n",
       "std      0.543820    0.095237  \n",
       "min      0.046000    0.366000  \n",
       "25%      0.986000    0.679000  \n",
       "50%      1.090500    0.734000  \n",
       "75%      1.209250    0.784000  \n",
       "max      9.557000    0.895000  "
      ]
     },
     "execution_count": 56,
     "metadata": {},
     "output_type": "execute_result"
    }
   ],
   "source": [
    "# Merge all indices by id\n",
    "indices = reduce(lambda left, right: pd.merge(left, right, on='id', how='outer'), [WWI_indices, AMI_indices, PMI_indices, PHI_indices, SF_indices, SRR_indices])\n",
    "indices.describe()"
   ]
  },
  {
   "cell_type": "markdown",
   "id": "42195e6c",
   "metadata": {
    "id": "a_ZrQ64i7plQ",
    "papermill": {
     "duration": 0.007,
     "end_time": "2025-03-14T15:01:57.033614",
     "exception": false,
     "start_time": "2025-03-14T15:01:57.026614",
     "status": "completed"
    },
    "tags": []
   },
   "source": [
    "# Save output"
   ]
  },
  {
   "cell_type": "code",
   "execution_count": 57,
   "id": "84ff82cc",
   "metadata": {
    "execution": {
     "iopub.execute_input": "2025-03-14T15:01:57.047626Z",
     "iopub.status.busy": "2025-03-14T15:01:57.047626Z",
     "iopub.status.idle": "2025-03-14T15:01:57.059458Z",
     "shell.execute_reply": "2025-03-14T15:01:57.059458Z"
    },
    "papermill": {
     "duration": 0.020301,
     "end_time": "2025-03-14T15:01:57.060465",
     "exception": false,
     "start_time": "2025-03-14T15:01:57.040164",
     "status": "completed"
    },
    "tags": []
   },
   "outputs": [
    {
     "name": "stdout",
     "output_type": "stream",
     "text": [
      "Indices saved to csv\n"
     ]
    }
   ],
   "source": [
    "# Add a column with the year\n",
    "indices['year'] = YEAR\n",
    "\n",
    "# Add the results to a csv file, if it is the first year, create the file, if not, append the results\n",
    "if SAVE_OUTPUT:\n",
    "    output_file = Path(OUTPUT_DATA_PATH) / 'indices.csv'\n",
    "    if output_file.exists():\n",
    "        indices.to_csv(output_file, mode='a', header=False, index=False)\n",
    "    else:\n",
    "        indices.to_csv(output_file, index=False)\n",
    "    print(\"Indices saved to csv\")\n"
   ]
  }
 ],
 "metadata": {
  "colab": {
   "collapsed_sections": [
    "5bf315c7",
    "eebb1a73",
    "12dd37b6"
   ],
   "provenance": []
  },
  "kernelspec": {
   "display_name": "ridership_model",
   "language": "python",
   "name": "python3"
  },
  "language_info": {
   "codemirror_mode": {
    "name": "ipython",
    "version": 3
   },
   "file_extension": ".py",
   "mimetype": "text/x-python",
   "name": "python",
   "nbconvert_exporter": "python",
   "pygments_lexer": "ipython3",
   "version": "3.11.9"
  },
  "papermill": {
   "default_parameters": {},
   "duration": 4.685965,
   "end_time": "2025-03-14T15:01:57.534804",
   "environment_variables": {},
   "exception": null,
   "input_path": "013-luca_traffic_indices_calculate.ipynb",
   "output_path": "013-luca_traffic_indices_calculate.ipynb",
   "parameters": {
    "SAVE_OUTPUT": true,
    "YEAR": 2024
   },
   "start_time": "2025-03-14T15:01:52.848839",
   "version": "2.6.0"
  }
 },
 "nbformat": 4,
 "nbformat_minor": 5
}
