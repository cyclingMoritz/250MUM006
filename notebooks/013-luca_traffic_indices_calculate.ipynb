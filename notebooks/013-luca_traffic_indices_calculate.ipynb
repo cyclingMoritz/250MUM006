{
 "cells": [
  {
   "cell_type": "markdown",
   "id": "33c70fad",
   "metadata": {
    "id": "rP8SuqILhaPo",
    "papermill": {
     "duration": 0.004443,
     "end_time": "2025-03-12T13:58:40.700359",
     "exception": false,
     "start_time": "2025-03-12T13:58:40.695916",
     "status": "completed"
    },
    "tags": []
   },
   "source": [
    "## Config"
   ]
  },
  {
   "cell_type": "code",
   "execution_count": 1,
   "id": "34332b88",
   "metadata": {
    "execution": {
     "iopub.execute_input": "2025-03-12T13:58:40.714490Z",
     "iopub.status.busy": "2025-03-12T13:58:40.714490Z",
     "iopub.status.idle": "2025-03-12T13:58:40.722143Z",
     "shell.execute_reply": "2025-03-12T13:58:40.722143Z"
    },
    "executionInfo": {
     "elapsed": 196,
     "status": "ok",
     "timestamp": 1737216414526,
     "user": {
      "displayName": "Luca Liebscht",
      "userId": "11880140528704889234"
     },
     "user_tz": -60
    },
    "id": "I_hrwU9x479z",
    "papermill": {
     "duration": 0.019128,
     "end_time": "2025-03-12T13:58:40.723545",
     "exception": false,
     "start_time": "2025-03-12T13:58:40.704417",
     "status": "completed"
    },
    "tags": [
     "parameters"
    ]
   },
   "outputs": [],
   "source": [
    "# parameters\n",
    "INPUT_DATA_PATH = \"../data/interim/\"\n",
    "INPUT_PROCESSED_DATA_PATH = \"../data/processed/\"\n",
    "\n",
    "YEAR = 2017\n",
    "SAVE_OUTPUT = True\n",
    "OUTPUT_DATA_PATH = \"../data/interim/\"\n"
   ]
  },
  {
   "cell_type": "code",
   "execution_count": 2,
   "id": "32b4a2cb",
   "metadata": {
    "execution": {
     "iopub.execute_input": "2025-03-12T13:58:40.736674Z",
     "iopub.status.busy": "2025-03-12T13:58:40.733441Z",
     "iopub.status.idle": "2025-03-12T13:58:40.739975Z",
     "shell.execute_reply": "2025-03-12T13:58:40.739755Z"
    },
    "papermill": {
     "duration": 0.012302,
     "end_time": "2025-03-12T13:58:40.741725",
     "exception": false,
     "start_time": "2025-03-12T13:58:40.729423",
     "status": "completed"
    },
    "tags": [
     "injected-parameters"
    ]
   },
   "outputs": [],
   "source": [
    "# Parameters\n",
    "YEARS = [2017, 2018, 2019, 2020, 2021, 2022, 2023, 2024]\n",
    "SAVE_OUTPUT = True\n"
   ]
  },
  {
   "cell_type": "code",
   "execution_count": 3,
   "id": "f96ccfa5",
   "metadata": {
    "colab": {
     "base_uri": "https://localhost:8080/"
    },
    "execution": {
     "iopub.execute_input": "2025-03-12T13:58:40.753631Z",
     "iopub.status.busy": "2025-03-12T13:58:40.753631Z",
     "iopub.status.idle": "2025-03-12T13:58:41.968160Z",
     "shell.execute_reply": "2025-03-12T13:58:41.967651Z"
    },
    "executionInfo": {
     "elapsed": 19072,
     "status": "ok",
     "timestamp": 1737216453714,
     "user": {
      "displayName": "Luca Liebscht",
      "userId": "11880140528704889234"
     },
     "user_tz": -60
    },
    "id": "HnDB36CLTIxL",
    "outputId": "5e9ddd8f-0300-40ec-cf32-75cf8dc5e328",
    "papermill": {
     "duration": 1.224325,
     "end_time": "2025-03-12T13:58:41.970237",
     "exception": false,
     "start_time": "2025-03-12T13:58:40.745912",
     "status": "completed"
    },
    "tags": []
   },
   "outputs": [],
   "source": [
    "# Import all necessary libraries\n",
    "import time\n",
    "start = time.time()\n",
    "import geopandas as gpd\n",
    "import pandas as pd\n",
    "from functools import reduce\n",
    "import matplotlib.pyplot as plt\n",
    "import warnings\n",
    "from pathlib import Path\n"
   ]
  },
  {
   "cell_type": "markdown",
   "id": "06a8ab48",
   "metadata": {
    "papermill": {
     "duration": 0.007929,
     "end_time": "2025-03-12T13:58:41.981386",
     "exception": false,
     "start_time": "2025-03-12T13:58:41.973457",
     "status": "completed"
    },
    "tags": []
   },
   "source": [
    "# Load data"
   ]
  },
  {
   "cell_type": "code",
   "execution_count": 4,
   "id": "1d238869",
   "metadata": {
    "execution": {
     "iopub.execute_input": "2025-03-12T13:58:41.992767Z",
     "iopub.status.busy": "2025-03-12T13:58:41.992767Z",
     "iopub.status.idle": "2025-03-12T13:58:42.065607Z",
     "shell.execute_reply": "2025-03-12T13:58:42.065607Z"
    },
    "papermill": {
     "duration": 0.080984,
     "end_time": "2025-03-12T13:58:42.067419",
     "exception": false,
     "start_time": "2025-03-12T13:58:41.986435",
     "status": "completed"
    },
    "tags": []
   },
   "outputs": [
    {
     "name": "stdout",
     "output_type": "stream",
     "text": [
      "(143136, 11)\n",
      "Index(['Id_aforament', 'date', 'hour', 'intensity', 'prev_hour_count',\n",
      "       'Daily_Counts', 'duration', 'Number_of_hrs_data_collected', 'day',\n",
      "       'month', 'Number_of_days_data_collected'],\n",
      "      dtype='object')\n"
     ]
    },
    {
     "data": {
      "text/html": [
       "<div>\n",
       "<style scoped>\n",
       "    .dataframe tbody tr th:only-of-type {\n",
       "        vertical-align: middle;\n",
       "    }\n",
       "\n",
       "    .dataframe tbody tr th {\n",
       "        vertical-align: top;\n",
       "    }\n",
       "\n",
       "    .dataframe thead th {\n",
       "        text-align: right;\n",
       "    }\n",
       "</style>\n",
       "<table border=\"1\" class=\"dataframe\">\n",
       "  <thead>\n",
       "    <tr style=\"text-align: right;\">\n",
       "      <th></th>\n",
       "      <th>Id_aforament</th>\n",
       "      <th>date</th>\n",
       "      <th>hour</th>\n",
       "      <th>intensity</th>\n",
       "      <th>prev_hour_count</th>\n",
       "      <th>Daily_Counts</th>\n",
       "      <th>duration</th>\n",
       "      <th>Number_of_hrs_data_collected</th>\n",
       "      <th>day</th>\n",
       "      <th>month</th>\n",
       "      <th>Number_of_days_data_collected</th>\n",
       "    </tr>\n",
       "  </thead>\n",
       "  <tbody>\n",
       "    <tr>\n",
       "      <th>0</th>\n",
       "      <td>20003</td>\n",
       "      <td>2017-03-01</td>\n",
       "      <td>00</td>\n",
       "      <td>71.0</td>\n",
       "      <td>NaN</td>\n",
       "      <td>4615.0</td>\n",
       "      <td>1</td>\n",
       "      <td>24</td>\n",
       "      <td>1</td>\n",
       "      <td>3</td>\n",
       "      <td>22</td>\n",
       "    </tr>\n",
       "    <tr>\n",
       "      <th>1</th>\n",
       "      <td>20003</td>\n",
       "      <td>2017-03-01</td>\n",
       "      <td>01</td>\n",
       "      <td>19.0</td>\n",
       "      <td>NaN</td>\n",
       "      <td>4615.0</td>\n",
       "      <td>1</td>\n",
       "      <td>24</td>\n",
       "      <td>1</td>\n",
       "      <td>3</td>\n",
       "      <td>22</td>\n",
       "    </tr>\n",
       "    <tr>\n",
       "      <th>2</th>\n",
       "      <td>20003</td>\n",
       "      <td>2017-03-01</td>\n",
       "      <td>02</td>\n",
       "      <td>31.0</td>\n",
       "      <td>NaN</td>\n",
       "      <td>4615.0</td>\n",
       "      <td>1</td>\n",
       "      <td>24</td>\n",
       "      <td>1</td>\n",
       "      <td>3</td>\n",
       "      <td>22</td>\n",
       "    </tr>\n",
       "    <tr>\n",
       "      <th>3</th>\n",
       "      <td>20003</td>\n",
       "      <td>2017-03-01</td>\n",
       "      <td>03</td>\n",
       "      <td>4.0</td>\n",
       "      <td>NaN</td>\n",
       "      <td>4615.0</td>\n",
       "      <td>1</td>\n",
       "      <td>24</td>\n",
       "      <td>1</td>\n",
       "      <td>3</td>\n",
       "      <td>22</td>\n",
       "    </tr>\n",
       "    <tr>\n",
       "      <th>4</th>\n",
       "      <td>20003</td>\n",
       "      <td>2017-03-01</td>\n",
       "      <td>04</td>\n",
       "      <td>15.0</td>\n",
       "      <td>NaN</td>\n",
       "      <td>4615.0</td>\n",
       "      <td>1</td>\n",
       "      <td>24</td>\n",
       "      <td>1</td>\n",
       "      <td>3</td>\n",
       "      <td>22</td>\n",
       "    </tr>\n",
       "  </tbody>\n",
       "</table>\n",
       "</div>"
      ],
      "text/plain": [
       "   Id_aforament       date hour  intensity  prev_hour_count  Daily_Counts  \\\n",
       "0         20003 2017-03-01   00       71.0              NaN        4615.0   \n",
       "1         20003 2017-03-01   01       19.0              NaN        4615.0   \n",
       "2         20003 2017-03-01   02       31.0              NaN        4615.0   \n",
       "3         20003 2017-03-01   03        4.0              NaN        4615.0   \n",
       "4         20003 2017-03-01   04       15.0              NaN        4615.0   \n",
       "\n",
       "   duration  Number_of_hrs_data_collected  day  month  \\\n",
       "0         1                            24    1      3   \n",
       "1         1                            24    1      3   \n",
       "2         1                            24    1      3   \n",
       "3         1                            24    1      3   \n",
       "4         1                            24    1      3   \n",
       "\n",
       "   Number_of_days_data_collected  \n",
       "0                             22  \n",
       "1                             22  \n",
       "2                             22  \n",
       "3                             22  \n",
       "4                             22  "
      ]
     },
     "execution_count": 4,
     "metadata": {},
     "output_type": "execute_result"
    }
   ],
   "source": [
    "#Read observations by hour \n",
    "counters_hour = pd.read_parquet(Path(INPUT_DATA_PATH) / f'cleaned_data{YEAR}.parquet')\n",
    "\n",
    "# Explore the data (shape, columns, head, etc)\n",
    "print(counters_hour.shape)\n",
    "print(counters_hour.columns)\n",
    "counters_hour.head()"
   ]
  },
  {
   "cell_type": "markdown",
   "id": "db39a2aa",
   "metadata": {
    "papermill": {
     "duration": 0.005655,
     "end_time": "2025-03-12T13:58:42.078657",
     "exception": false,
     "start_time": "2025-03-12T13:58:42.073002",
     "status": "completed"
    },
    "tags": []
   },
   "source": [
    "## Fix formats"
   ]
  },
  {
   "cell_type": "code",
   "execution_count": 5,
   "id": "5d3c8b53",
   "metadata": {
    "execution": {
     "iopub.execute_input": "2025-03-12T13:58:42.088842Z",
     "iopub.status.busy": "2025-03-12T13:58:42.088842Z",
     "iopub.status.idle": "2025-03-12T13:58:42.098887Z",
     "shell.execute_reply": "2025-03-12T13:58:42.098376Z"
    },
    "papermill": {
     "duration": 0.014195,
     "end_time": "2025-03-12T13:58:42.098887",
     "exception": false,
     "start_time": "2025-03-12T13:58:42.084692",
     "status": "completed"
    },
    "tags": []
   },
   "outputs": [
    {
     "data": {
      "text/plain": [
       "Id_aforament                              int32\n",
       "date                             datetime64[ns]\n",
       "hour                                     object\n",
       "intensity                               float64\n",
       "prev_hour_count                         float64\n",
       "Daily_Counts                            float64\n",
       "duration                                  int64\n",
       "Number_of_hrs_data_collected              int64\n",
       "day                                       int32\n",
       "month                                     int32\n",
       "Number_of_days_data_collected             int64\n",
       "dtype: object"
      ]
     },
     "execution_count": 5,
     "metadata": {},
     "output_type": "execute_result"
    }
   ],
   "source": [
    "counters_hour.dtypes"
   ]
  },
  {
   "cell_type": "code",
   "execution_count": 6,
   "id": "389cebd5",
   "metadata": {
    "execution": {
     "iopub.execute_input": "2025-03-12T13:58:42.111149Z",
     "iopub.status.busy": "2025-03-12T13:58:42.111149Z",
     "iopub.status.idle": "2025-03-12T13:58:42.144287Z",
     "shell.execute_reply": "2025-03-12T13:58:42.144287Z"
    },
    "papermill": {
     "duration": 0.04221,
     "end_time": "2025-03-12T13:58:42.147895",
     "exception": false,
     "start_time": "2025-03-12T13:58:42.105685",
     "status": "completed"
    },
    "tags": []
   },
   "outputs": [],
   "source": [
    "counters_hour.rename(columns={'Id_aforament': 'id'}, inplace=True)\n",
    "counters_hour[\"intensity\"] = counters_hour[\"intensity\"].astype(int)\n",
    "#Make date column datetime\n",
    "counters_hour['date'] = pd.to_datetime(counters_hour['date'])\n",
    "counters_hour[\"weekday\"] = counters_hour[\"date\"].dt.weekday\n",
    "counters_hour[\"hour\"] = counters_hour[\"hour\"].astype(int)\n",
    "counters_hour[\"year\"] = counters_hour[\"date\"].dt.year"
   ]
  },
  {
   "cell_type": "code",
   "execution_count": 7,
   "id": "96ea2f67",
   "metadata": {
    "execution": {
     "iopub.execute_input": "2025-03-12T13:58:42.160135Z",
     "iopub.status.busy": "2025-03-12T13:58:42.160135Z",
     "iopub.status.idle": "2025-03-12T13:58:42.170179Z",
     "shell.execute_reply": "2025-03-12T13:58:42.170179Z"
    },
    "papermill": {
     "duration": 0.021209,
     "end_time": "2025-03-12T13:58:42.172880",
     "exception": false,
     "start_time": "2025-03-12T13:58:42.151671",
     "status": "completed"
    },
    "tags": []
   },
   "outputs": [],
   "source": [
    "essential_attributes = [\n",
    "    'id',\n",
    "    'date', \n",
    "    'weekday', \n",
    "    'hour', \n",
    "    'intensity', \n",
    "    'month', \n",
    "    'day'\n",
    "]\n",
    "data_indices = counters_hour[essential_attributes].copy()\n",
    "indices = counters_hour[\"id\"].drop_duplicates().reset_index(drop=True)"
   ]
  },
  {
   "cell_type": "code",
   "execution_count": 8,
   "id": "5df78492",
   "metadata": {
    "execution": {
     "iopub.execute_input": "2025-03-12T13:58:42.183509Z",
     "iopub.status.busy": "2025-03-12T13:58:42.183509Z",
     "iopub.status.idle": "2025-03-12T13:58:42.189452Z",
     "shell.execute_reply": "2025-03-12T13:58:42.189452Z"
    },
    "papermill": {
     "duration": 0.012528,
     "end_time": "2025-03-12T13:58:42.189452",
     "exception": false,
     "start_time": "2025-03-12T13:58:42.176924",
     "status": "completed"
    },
    "tags": []
   },
   "outputs": [
    {
     "data": {
      "text/plain": [
       "id                    int32\n",
       "date         datetime64[ns]\n",
       "weekday               int32\n",
       "hour                  int32\n",
       "intensity             int32\n",
       "month                 int32\n",
       "day                   int32\n",
       "dtype: object"
      ]
     },
     "execution_count": 8,
     "metadata": {},
     "output_type": "execute_result"
    }
   ],
   "source": [
    "data_indices.dtypes"
   ]
  },
  {
   "cell_type": "markdown",
   "id": "c87c69fe",
   "metadata": {
    "papermill": {
     "duration": 0.004149,
     "end_time": "2025-03-12T13:58:42.201497",
     "exception": false,
     "start_time": "2025-03-12T13:58:42.197348",
     "status": "completed"
    },
    "tags": []
   },
   "source": [
    "# Traffic Indices Of Permanent Counters\n"
   ]
  },
  {
   "cell_type": "markdown",
   "id": "e23743e7",
   "metadata": {
    "papermill": {
     "duration": 0.00556,
     "end_time": "2025-03-12T13:58:42.211222",
     "exception": false,
     "start_time": "2025-03-12T13:58:42.205662",
     "status": "completed"
    },
    "tags": []
   },
   "source": [
    "## Calculate Bicycle Traffic Indices"
   ]
  },
  {
   "cell_type": "markdown",
   "id": "179f3020",
   "metadata": {
    "papermill": {
     "duration": 0.004222,
     "end_time": "2025-03-12T13:58:42.222261",
     "exception": false,
     "start_time": "2025-03-12T13:58:42.218039",
     "status": "completed"
    },
    "tags": []
   },
   "source": [
    "### WW1"
   ]
  },
  {
   "cell_type": "markdown",
   "id": "404944fb",
   "metadata": {
    "papermill": {
     "duration": 0.004021,
     "end_time": "2025-03-12T13:58:42.230310",
     "exception": false,
     "start_time": "2025-03-12T13:58:42.226289",
     "status": "completed"
    },
    "tags": []
   },
   "source": [
    "The weekend/weekday index (WWI) is the ratio of the average weekend daily traffic to a particular\n",
    "site's average weekday daily traffic."
   ]
  },
  {
   "cell_type": "code",
   "execution_count": 9,
   "id": "b3ef3824",
   "metadata": {
    "execution": {
     "iopub.execute_input": "2025-03-12T13:58:42.243262Z",
     "iopub.status.busy": "2025-03-12T13:58:42.243262Z",
     "iopub.status.idle": "2025-03-12T13:58:42.271326Z",
     "shell.execute_reply": "2025-03-12T13:58:42.271326Z"
    },
    "papermill": {
     "duration": 0.037514,
     "end_time": "2025-03-12T13:58:42.272348",
     "exception": false,
     "start_time": "2025-03-12T13:58:42.234834",
     "status": "completed"
    },
    "tags": []
   },
   "outputs": [
    {
     "name": "stdout",
     "output_type": "stream",
     "text": [
      "(50, 2)\n",
      "count    50.000000\n",
      "mean      0.672200\n",
      "std       0.151473\n",
      "min       0.470000\n",
      "25%       0.570000\n",
      "50%       0.635000\n",
      "75%       0.740000\n",
      "max       1.220000\n",
      "Name: WWI, dtype: float64\n"
     ]
    }
   ],
   "source": [
    "def calculate_wwi(df):\n",
    "    # Identify weekends (Saturday=5, Sunday=6) and weekdays (Monday=0 to Friday=4)\n",
    "    df['is_weekend'] = df['weekday'].isin([5, 6])\n",
    "\n",
    "    # Calculate average daily traffic for weekends and weekdays by counter id\n",
    "    daily_traffic = df.groupby(['id', 'date', 'is_weekend'])['intensity'].sum().reset_index()\n",
    "\n",
    "    avg_traffic = daily_traffic.groupby(['id', 'is_weekend'])['intensity'].mean().unstack()\n",
    "\n",
    "    # Ensure columns exist for both weekend (True) and weekday (False)\n",
    "    avg_traffic = avg_traffic.rename(columns={True: 'weekend_avg', False: 'weekday_avg'}).fillna(0)\n",
    "\n",
    "    # Calculate WWI (weekend/weekday index)\n",
    "    avg_traffic['WWI'] = avg_traffic['weekend_avg'] / avg_traffic['weekday_avg']\n",
    "\n",
    "    # Prepare final indices DataFrame\n",
    "    indices = avg_traffic.reset_index()[['id', 'WWI']]\n",
    "\n",
    "    #Round WWI to 2 decimal places\n",
    "    indices['WWI'] = indices['WWI'].round(2)\n",
    "\n",
    "    indices.reset_index(drop=True, inplace=True)\n",
    "    return indices\n",
    "\n",
    "WWI_indices = calculate_wwi(data_indices)\n",
    "\n",
    "print(WWI_indices.shape)\n",
    "print(WWI_indices[\"WWI\"].describe())\n"
   ]
  },
  {
   "cell_type": "markdown",
   "id": "12d0b9be",
   "metadata": {
    "papermill": {
     "duration": 0.005305,
     "end_time": "2025-03-12T13:58:42.282143",
     "exception": false,
     "start_time": "2025-03-12T13:58:42.276838",
     "status": "completed"
    },
    "tags": []
   },
   "source": [
    "### AMI\n"
   ]
  },
  {
   "cell_type": "markdown",
   "id": "b132ee5e",
   "metadata": {
    "papermill": {
     "duration": 0.008084,
     "end_time": "2025-03-12T13:58:42.292763",
     "exception": false,
     "start_time": "2025-03-12T13:58:42.284679",
     "status": "completed"
    },
    "tags": []
   },
   "source": [
    "The AM to midday index (AMI) is the ratio of the average weekday volume observed between 7 and 9 am to the average weekday volume between 11 am and 1 pm. "
   ]
  },
  {
   "cell_type": "code",
   "execution_count": 10,
   "id": "c8d7037e",
   "metadata": {
    "execution": {
     "iopub.execute_input": "2025-03-12T13:58:42.304940Z",
     "iopub.status.busy": "2025-03-12T13:58:42.304940Z",
     "iopub.status.idle": "2025-03-12T13:58:42.324469Z",
     "shell.execute_reply": "2025-03-12T13:58:42.324469Z"
    },
    "papermill": {
     "duration": 0.027289,
     "end_time": "2025-03-12T13:58:42.325974",
     "exception": false,
     "start_time": "2025-03-12T13:58:42.298685",
     "status": "completed"
    },
    "tags": []
   },
   "outputs": [
    {
     "name": "stdout",
     "output_type": "stream",
     "text": [
      "(50, 2)\n",
      "count    50.000000\n",
      "mean      1.311000\n",
      "std       0.454493\n",
      "min       0.610000\n",
      "25%       1.070000\n",
      "50%       1.220000\n",
      "75%       1.487500\n",
      "max       2.820000\n",
      "Name: AMI, dtype: float64\n"
     ]
    }
   ],
   "source": [
    "def calculate_ami(df):\n",
    "    # Filter for weekdays (Monday=0 to Friday=4)\n",
    "    weekday_df = df[df['weekday'].between(0, 4)]\n",
    "\n",
    "    # Calculate traffic for AM (7-9) and midday (11-13) by id and date\n",
    "    am_traffic = weekday_df[weekday_df['hour'].between(7, 9)].groupby(['id', 'date'])['intensity'].sum().reset_index()\n",
    "    midday_traffic = weekday_df[weekday_df['hour'].between(11, 13)].groupby(['id', 'date'])['intensity'].sum().reset_index()\n",
    "\n",
    "    # Calculate mean traffic for AM and midday by id\n",
    "    am_mean = am_traffic.groupby('id')['intensity'].mean()\n",
    "    midday_mean = midday_traffic.groupby('id')['intensity'].mean()\n",
    "\n",
    "    # Combine and calculate AMI (AM to midday index)\n",
    "    ami_df = pd.DataFrame({'id': am_mean.index, 'AM_mean': am_mean, 'Midday_mean': midday_mean}).fillna(0)\n",
    "    ami_df['AMI'] = ami_df['AM_mean'] / ami_df['Midday_mean']\n",
    "\n",
    "    #Round AMI to 2 decimal places\n",
    "    ami_df['AMI'] = ami_df['AMI'].round(2)\n",
    "\n",
    "    ami_df.reset_index(drop=True, inplace=True)\n",
    "    return ami_df[['id', 'AMI']]\n",
    "\n",
    "AMI_indices = calculate_ami(data_indices)\n",
    "\n",
    "print(AMI_indices.shape)\n",
    "print(AMI_indices[\"AMI\"].describe())\n"
   ]
  },
  {
   "cell_type": "markdown",
   "id": "34b18d6b",
   "metadata": {
    "papermill": {
     "duration": 0.004479,
     "end_time": "2025-03-12T13:58:42.334513",
     "exception": false,
     "start_time": "2025-03-12T13:58:42.330034",
     "status": "completed"
    },
    "tags": []
   },
   "source": [
    "### PMI"
   ]
  },
  {
   "cell_type": "markdown",
   "id": "2402fe23",
   "metadata": {
    "papermill": {
     "duration": 0.00444,
     "end_time": "2025-03-12T13:58:42.343375",
     "exception": false,
     "start_time": "2025-03-12T13:58:42.338935",
     "status": "completed"
    },
    "tags": []
   },
   "source": [
    "The PM to midday index (PMI) is the ratio of the average weekday volume observed between 5 pm and 7 pm to the average weekday volume observed between 11 am and 1 pm."
   ]
  },
  {
   "cell_type": "code",
   "execution_count": 11,
   "id": "836795e0",
   "metadata": {
    "execution": {
     "iopub.execute_input": "2025-03-12T13:58:42.359032Z",
     "iopub.status.busy": "2025-03-12T13:58:42.359032Z",
     "iopub.status.idle": "2025-03-12T13:58:42.378591Z",
     "shell.execute_reply": "2025-03-12T13:58:42.378591Z"
    },
    "papermill": {
     "duration": 0.028122,
     "end_time": "2025-03-12T13:58:42.379596",
     "exception": false,
     "start_time": "2025-03-12T13:58:42.351474",
     "status": "completed"
    },
    "tags": []
   },
   "outputs": [
    {
     "name": "stdout",
     "output_type": "stream",
     "text": [
      "(50, 2)\n",
      "count    50.000000\n",
      "mean      1.607600\n",
      "std       0.304024\n",
      "min       0.990000\n",
      "25%       1.425000\n",
      "50%       1.630000\n",
      "75%       1.765000\n",
      "max       2.800000\n",
      "Name: PMI, dtype: float64\n"
     ]
    }
   ],
   "source": [
    "def calculate_pmi(df):\n",
    "    # Filter for weekdays (Monday=0 to Friday=4)\n",
    "    weekday_df = df[df['weekday'].between(0, 4)]\n",
    "\n",
    "    # Calculate traffic for PM (17-19) and midday (11-13) by id and date\n",
    "    pm_traffic = weekday_df[weekday_df['hour'].between(17, 19)].groupby(['id', 'date'])['intensity'].sum().reset_index()\n",
    "    midday_traffic = weekday_df[weekday_df['hour'].between(11, 13)].groupby(['id', 'date'])['intensity'].sum().reset_index()\n",
    "\n",
    "    # Calculate mean traffic for PM and midday by id\n",
    "    pm_mean = pm_traffic.groupby('id')['intensity'].mean()\n",
    "    midday_mean = midday_traffic.groupby('id')['intensity'].mean()\n",
    "\n",
    "    # Combine and calculate PMI (PM to midday index)\n",
    "    pmi_df = pd.DataFrame({'id': pm_mean.index, 'PM_mean': pm_mean, 'Midday_mean': midday_mean}).fillna(0)\n",
    "    pmi_df['PMI'] = pmi_df['PM_mean'] / pmi_df['Midday_mean']\n",
    "\n",
    "    #Round PMI to 2 decimal places\n",
    "    pmi_df['PMI'] = pmi_df['PMI'].round(2)\n",
    "\n",
    "    pmi_df.reset_index(drop=True, inplace=True)\n",
    "    return pmi_df[['id', 'PMI']]\n",
    "PMI_indices = calculate_pmi(data_indices)\n",
    "\n",
    "print(PMI_indices.shape)\n",
    "print(PMI_indices[\"PMI\"].describe())"
   ]
  },
  {
   "cell_type": "markdown",
   "id": "aac4fba6",
   "metadata": {
    "papermill": {
     "duration": 0.003051,
     "end_time": "2025-03-12T13:58:42.388140",
     "exception": false,
     "start_time": "2025-03-12T13:58:42.385089",
     "status": "completed"
    },
    "tags": []
   },
   "source": [
    "### PHI\n",
    "\n"
   ]
  },
  {
   "cell_type": "markdown",
   "id": "d994e674",
   "metadata": {
    "papermill": {
     "duration": 0.008945,
     "end_time": "2025-03-12T13:58:42.401124",
     "exception": false,
     "start_time": "2025-03-12T13:58:42.392179",
     "status": "completed"
    },
    "tags": []
   },
   "source": [
    "The peak hour index (PHI) is introduced here as the maximum value of the AMI and PMI for a given site. This index was created to help classify sites where a given “count station” might only capture one predominant direction of travel, such as in the case of a one-way couplet, where the morning commute volume peak might be observed by a different counter than that observing the evening commute volume peak. By considering the maximum value, the degree to which a given site has “commute-related” peaking can be better represented.\n"
   ]
  },
  {
   "cell_type": "code",
   "execution_count": 12,
   "id": "1c98b356",
   "metadata": {
    "execution": {
     "iopub.execute_input": "2025-03-12T13:58:42.413895Z",
     "iopub.status.busy": "2025-03-12T13:58:42.413895Z",
     "iopub.status.idle": "2025-03-12T13:58:42.423117Z",
     "shell.execute_reply": "2025-03-12T13:58:42.423117Z"
    },
    "papermill": {
     "duration": 0.016745,
     "end_time": "2025-03-12T13:58:42.423117",
     "exception": false,
     "start_time": "2025-03-12T13:58:42.406372",
     "status": "completed"
    },
    "tags": []
   },
   "outputs": [
    {
     "name": "stdout",
     "output_type": "stream",
     "text": [
      "(50, 2)\n",
      "count    50.000000\n",
      "mean      1.707200\n",
      "std       0.353068\n",
      "min       1.110000\n",
      "25%       1.532500\n",
      "50%       1.705000\n",
      "75%       1.835000\n",
      "max       2.820000\n",
      "Name: PHI, dtype: float64\n"
     ]
    }
   ],
   "source": [
    "def calculate_phi(ami_df, pmi_df):\n",
    "    # Merge AMI and PMI\n",
    "    phi_df = ami_df.merge(pmi_df, on='id', how='outer').fillna(0)\n",
    "\n",
    "    # Calculate PHI (Peak Hour Index)\n",
    "    phi_df['PHI'] = phi_df[['AMI', 'PMI']].max(axis=1)\n",
    "\n",
    "    #Round PHI to 2 decimal places\n",
    "    phi_df['PHI'] = phi_df['PHI'].round(2)\n",
    "\n",
    "    phi_df.reset_index(drop=True, inplace=True)\n",
    "    return phi_df[['id', 'PHI']]\n",
    "\n",
    "PHI_indices = calculate_phi(AMI_indices, PMI_indices)\n",
    "\n",
    "print(PHI_indices.shape)\n",
    "print(PHI_indices[\"PHI\"].describe())"
   ]
  },
  {
   "cell_type": "markdown",
   "id": "f7e642f1",
   "metadata": {
    "papermill": {
     "duration": 0.007367,
     "end_time": "2025-03-12T13:58:42.434760",
     "exception": false,
     "start_time": "2025-03-12T13:58:42.427393",
     "status": "completed"
    },
    "tags": []
   },
   "source": [
    "### SF\n"
   ]
  },
  {
   "cell_type": "markdown",
   "id": "52bb9c3a",
   "metadata": {
    "papermill": {
     "duration": 0.004356,
     "end_time": "2025-03-12T13:58:42.443159",
     "exception": false,
     "start_time": "2025-03-12T13:58:42.438803",
     "status": "completed"
    },
    "tags": []
   },
   "source": [
    "Seasonal Factor (SF): This study created seasonal factors by dividing the average daily volume in June, July, and August by the average daily volume in December, January, and February. This SF is useful for identifying sites that have seasonal activity variations. The factor varies from zero to infinite. If the factor is calculated for multiple years in a single site, the average factor was taken to decide the final seasonality of that site. This factor was developed to separate the MOY pattern."
   ]
  },
  {
   "cell_type": "code",
   "execution_count": 13,
   "id": "eefeac32",
   "metadata": {
    "execution": {
     "iopub.execute_input": "2025-03-12T13:58:42.455089Z",
     "iopub.status.busy": "2025-03-12T13:58:42.455089Z",
     "iopub.status.idle": "2025-03-12T13:58:42.480400Z",
     "shell.execute_reply": "2025-03-12T13:58:42.480400Z"
    },
    "papermill": {
     "duration": 0.030081,
     "end_time": "2025-03-12T13:58:42.480400",
     "exception": false,
     "start_time": "2025-03-12T13:58:42.450319",
     "status": "completed"
    },
    "tags": []
   },
   "outputs": [
    {
     "name": "stdout",
     "output_type": "stream",
     "text": [
      "(35,)\n",
      "(27,)\n",
      "(24,)\n",
      "(24,)\n",
      "(24, 2)\n",
      "count    24.000000\n",
      "mean      1.144042\n",
      "std       0.205731\n",
      "min       0.785000\n",
      "25%       1.013000\n",
      "50%       1.102000\n",
      "75%       1.235750\n",
      "max       1.723000\n",
      "Name: SF, dtype: float64\n"
     ]
    }
   ],
   "source": [
    "def calculate_sf(df):\n",
    "    # Calculate daily volume by id and date\n",
    "    daily_volume = df.groupby(['id', 'date', 'month'])['intensity'].sum().reset_index()\n",
    "\n",
    "    # Identify summer (June=6, July=7, August=8) and winter (December=12, January=1, February=2) months\n",
    "    summer_volume = daily_volume[daily_volume['month'].isin([6, 7, 8])]\n",
    "    winter_volume = daily_volume[daily_volume['month'].isin([12, 1, 2])]\n",
    "\n",
    "    # Mean daily volume by season and id\n",
    "    summer_mean = summer_volume.groupby('id')['intensity'].mean()\n",
    "    winter_mean = winter_volume.groupby('id')['intensity'].mean()\n",
    "    print(summer_mean.shape)\n",
    "    print(winter_mean.shape)\n",
    "    # Keep only ids with data for both seasons\n",
    "    summer_mean = summer_mean[summer_mean.index.isin(winter_mean.index)]\n",
    "    winter_mean = winter_mean[winter_mean.index.isin(summer_mean.index)]\n",
    "    print(summer_mean.shape)\n",
    "    print(winter_mean.shape)\n",
    "    # Combine and calculate Seasonal Factor (SF)\n",
    "    sf_df = pd.DataFrame({'id': summer_mean.index, 'Summer_mean': summer_mean, 'Winter_mean': winter_mean}).fillna(0)\n",
    "    sf_df['SF'] = sf_df['Summer_mean'] / sf_df['Winter_mean']\n",
    "\n",
    "    #Round SF to 2 decimal places\n",
    "    sf_df['SF'] = sf_df['SF'].round(3)\n",
    "\n",
    "    sf_df.reset_index(drop=True, inplace=True)\n",
    "    return sf_df[['id', 'SF']]\n",
    "SF_indices = calculate_sf(data_indices)\n",
    "\n",
    "print(SF_indices.shape)\n",
    "print(SF_indices[\"SF\"].describe())"
   ]
  },
  {
   "cell_type": "markdown",
   "id": "34b81041",
   "metadata": {
    "papermill": {
     "duration": 0.008379,
     "end_time": "2025-03-12T13:58:42.492707",
     "exception": false,
     "start_time": "2025-03-12T13:58:42.484328",
     "status": "completed"
    },
    "tags": []
   },
   "source": [
    "### SRR ~Pending"
   ]
  },
  {
   "cell_type": "markdown",
   "id": "6ec81e4f",
   "metadata": {
    "papermill": {
     "duration": 0.004275,
     "end_time": "2025-03-12T13:58:42.502722",
     "exception": false,
     "start_time": "2025-03-12T13:58:42.498447",
     "status": "completed"
    },
    "tags": []
   },
   "source": [
    "The ratio of Strava annual recreational trips and Strava annual total trips is known as the Strava recreational ratio. The ratio varies from 0 to 1. The higher value of the recreational ratio indicates more recreational activities on that site. SRR was developed to separate the weekend HOD factor pattern"
   ]
  },
  {
   "cell_type": "code",
   "execution_count": null,
   "id": "e6bfdf35",
   "metadata": {
    "papermill": {
     "duration": 0.004496,
     "end_time": "2025-03-12T13:58:42.513435",
     "exception": false,
     "start_time": "2025-03-12T13:58:42.508939",
     "status": "completed"
    },
    "tags": []
   },
   "outputs": [],
   "source": []
  },
  {
   "cell_type": "markdown",
   "id": "608bb79e",
   "metadata": {
    "papermill": {
     "duration": 0.008361,
     "end_time": "2025-03-12T13:58:42.526261",
     "exception": false,
     "start_time": "2025-03-12T13:58:42.517900",
     "status": "completed"
    },
    "tags": []
   },
   "source": [
    "## Summary Indices"
   ]
  },
  {
   "cell_type": "code",
   "execution_count": 14,
   "id": "199bde98",
   "metadata": {
    "execution": {
     "iopub.execute_input": "2025-03-12T13:58:42.538401Z",
     "iopub.status.busy": "2025-03-12T13:58:42.538401Z",
     "iopub.status.idle": "2025-03-12T13:58:42.558887Z",
     "shell.execute_reply": "2025-03-12T13:58:42.558371Z"
    },
    "papermill": {
     "duration": 0.028565,
     "end_time": "2025-03-12T13:58:42.558887",
     "exception": false,
     "start_time": "2025-03-12T13:58:42.530322",
     "status": "completed"
    },
    "tags": []
   },
   "outputs": [
    {
     "data": {
      "text/html": [
       "<div>\n",
       "<style scoped>\n",
       "    .dataframe tbody tr th:only-of-type {\n",
       "        vertical-align: middle;\n",
       "    }\n",
       "\n",
       "    .dataframe tbody tr th {\n",
       "        vertical-align: top;\n",
       "    }\n",
       "\n",
       "    .dataframe thead th {\n",
       "        text-align: right;\n",
       "    }\n",
       "</style>\n",
       "<table border=\"1\" class=\"dataframe\">\n",
       "  <thead>\n",
       "    <tr style=\"text-align: right;\">\n",
       "      <th></th>\n",
       "      <th>id</th>\n",
       "      <th>WWI</th>\n",
       "      <th>AMI</th>\n",
       "      <th>PMI</th>\n",
       "      <th>PHI</th>\n",
       "      <th>SF</th>\n",
       "    </tr>\n",
       "  </thead>\n",
       "  <tbody>\n",
       "    <tr>\n",
       "      <th>count</th>\n",
       "      <td>50.000000</td>\n",
       "      <td>50.000000</td>\n",
       "      <td>50.000000</td>\n",
       "      <td>50.000000</td>\n",
       "      <td>50.000000</td>\n",
       "      <td>24.000000</td>\n",
       "    </tr>\n",
       "    <tr>\n",
       "      <th>mean</th>\n",
       "      <td>20036.700000</td>\n",
       "      <td>0.672200</td>\n",
       "      <td>1.311000</td>\n",
       "      <td>1.607600</td>\n",
       "      <td>1.707200</td>\n",
       "      <td>1.144042</td>\n",
       "    </tr>\n",
       "    <tr>\n",
       "      <th>std</th>\n",
       "      <td>21.105421</td>\n",
       "      <td>0.151473</td>\n",
       "      <td>0.454493</td>\n",
       "      <td>0.304024</td>\n",
       "      <td>0.353068</td>\n",
       "      <td>0.205731</td>\n",
       "    </tr>\n",
       "    <tr>\n",
       "      <th>min</th>\n",
       "      <td>20003.000000</td>\n",
       "      <td>0.470000</td>\n",
       "      <td>0.610000</td>\n",
       "      <td>0.990000</td>\n",
       "      <td>1.110000</td>\n",
       "      <td>0.785000</td>\n",
       "    </tr>\n",
       "    <tr>\n",
       "      <th>25%</th>\n",
       "      <td>20016.250000</td>\n",
       "      <td>0.570000</td>\n",
       "      <td>1.070000</td>\n",
       "      <td>1.425000</td>\n",
       "      <td>1.532500</td>\n",
       "      <td>1.013000</td>\n",
       "    </tr>\n",
       "    <tr>\n",
       "      <th>50%</th>\n",
       "      <td>20039.500000</td>\n",
       "      <td>0.635000</td>\n",
       "      <td>1.220000</td>\n",
       "      <td>1.630000</td>\n",
       "      <td>1.705000</td>\n",
       "      <td>1.102000</td>\n",
       "    </tr>\n",
       "    <tr>\n",
       "      <th>75%</th>\n",
       "      <td>20052.750000</td>\n",
       "      <td>0.740000</td>\n",
       "      <td>1.487500</td>\n",
       "      <td>1.765000</td>\n",
       "      <td>1.835000</td>\n",
       "      <td>1.235750</td>\n",
       "    </tr>\n",
       "    <tr>\n",
       "      <th>max</th>\n",
       "      <td>20077.000000</td>\n",
       "      <td>1.220000</td>\n",
       "      <td>2.820000</td>\n",
       "      <td>2.800000</td>\n",
       "      <td>2.820000</td>\n",
       "      <td>1.723000</td>\n",
       "    </tr>\n",
       "  </tbody>\n",
       "</table>\n",
       "</div>"
      ],
      "text/plain": [
       "                 id        WWI        AMI        PMI        PHI         SF\n",
       "count     50.000000  50.000000  50.000000  50.000000  50.000000  24.000000\n",
       "mean   20036.700000   0.672200   1.311000   1.607600   1.707200   1.144042\n",
       "std       21.105421   0.151473   0.454493   0.304024   0.353068   0.205731\n",
       "min    20003.000000   0.470000   0.610000   0.990000   1.110000   0.785000\n",
       "25%    20016.250000   0.570000   1.070000   1.425000   1.532500   1.013000\n",
       "50%    20039.500000   0.635000   1.220000   1.630000   1.705000   1.102000\n",
       "75%    20052.750000   0.740000   1.487500   1.765000   1.835000   1.235750\n",
       "max    20077.000000   1.220000   2.820000   2.800000   2.820000   1.723000"
      ]
     },
     "execution_count": 14,
     "metadata": {},
     "output_type": "execute_result"
    }
   ],
   "source": [
    "# Merge all indices by id\n",
    "indices = reduce(lambda left, right: pd.merge(left, right, on='id', how='outer'), [WWI_indices, AMI_indices, PMI_indices, PHI_indices, SF_indices])\n",
    "indices.describe()"
   ]
  },
  {
   "cell_type": "markdown",
   "id": "42195e6c",
   "metadata": {
    "id": "a_ZrQ64i7plQ",
    "papermill": {
     "duration": 0.008135,
     "end_time": "2025-03-12T13:58:42.571059",
     "exception": false,
     "start_time": "2025-03-12T13:58:42.562924",
     "status": "completed"
    },
    "tags": []
   },
   "source": [
    "# Save output"
   ]
  },
  {
   "cell_type": "code",
   "execution_count": 15,
   "id": "84ff82cc",
   "metadata": {
    "execution": {
     "iopub.execute_input": "2025-03-12T13:58:42.583319Z",
     "iopub.status.busy": "2025-03-12T13:58:42.583319Z",
     "iopub.status.idle": "2025-03-12T13:58:42.593511Z",
     "shell.execute_reply": "2025-03-12T13:58:42.593511Z"
    },
    "papermill": {
     "duration": 0.018282,
     "end_time": "2025-03-12T13:58:42.593511",
     "exception": false,
     "start_time": "2025-03-12T13:58:42.575229",
     "status": "completed"
    },
    "tags": []
   },
   "outputs": [
    {
     "name": "stdout",
     "output_type": "stream",
     "text": [
      "Indices saved to csv\n"
     ]
    }
   ],
   "source": [
    "# Add a column with the year\n",
    "indices['year'] = YEAR\n",
    "\n",
    "# Add the results to a csv file, if it is the first year, create the file, if not, append the results\n",
    "if SAVE_OUTPUT:\n",
    "    output_file = Path(OUTPUT_DATA_PATH) / 'indices.csv'\n",
    "    if output_file.exists():\n",
    "        indices.to_csv(output_file, mode='a', header=False, index=False)\n",
    "    else:\n",
    "        indices.to_csv(output_file, index=False)\n",
    "    print(\"Indices saved to csv\")\n"
   ]
  }
 ],
 "metadata": {
  "colab": {
   "collapsed_sections": [
    "5bf315c7",
    "eebb1a73",
    "12dd37b6"
   ],
   "provenance": []
  },
  "kernelspec": {
   "display_name": "ridership_model",
   "language": "python",
   "name": "python3"
  },
  "language_info": {
   "codemirror_mode": {
    "name": "ipython",
    "version": 3
   },
   "file_extension": ".py",
   "mimetype": "text/x-python",
   "name": "python",
   "nbconvert_exporter": "python",
   "pygments_lexer": "ipython3",
   "version": "3.11.9"
  },
  "papermill": {
   "default_parameters": {},
   "duration": 4.188774,
   "end_time": "2025-03-12T13:58:43.056814",
   "environment_variables": {},
   "exception": null,
   "input_path": "02_luca_traffic_indices_1.ipynb",
   "output_path": "02_luca_traffic_indices_1.ipynb",
   "parameters": {
    "SAVE_OUTPUT": true,
    "YEARS": [
     2017,
     2018,
     2019,
     2020,
     2021,
     2022,
     2023,
     2024
    ]
   },
   "start_time": "2025-03-12T13:58:38.868040",
   "version": "2.6.0"
  }
 },
 "nbformat": 4,
 "nbformat_minor": 5
}