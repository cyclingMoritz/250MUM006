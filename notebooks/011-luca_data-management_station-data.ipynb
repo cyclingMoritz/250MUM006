{
 "cells": [
  {
   "cell_type": "markdown",
   "id": "cbbb44cd",
   "metadata": {
    "id": "rP8SuqILhaPo",
    "papermill": {
     "duration": 0.004215,
     "end_time": "2025-04-09T16:12:31.485577",
     "exception": false,
     "start_time": "2025-04-09T16:12:31.481362",
     "status": "completed"
    },
    "tags": []
   },
   "source": [
    "## Config"
   ]
  },
  {
   "cell_type": "code",
   "execution_count": 1,
   "id": "57c27fa6",
   "metadata": {
    "execution": {
     "iopub.execute_input": "2025-04-09T16:12:31.497998Z",
     "iopub.status.busy": "2025-04-09T16:12:31.493893Z",
     "iopub.status.idle": "2025-04-09T16:12:31.504968Z",
     "shell.execute_reply": "2025-04-09T16:12:31.504464Z"
    },
    "id": "I_hrwU9x479z",
    "papermill": {
     "duration": 0.01525,
     "end_time": "2025-04-09T16:12:31.504968",
     "exception": false,
     "start_time": "2025-04-09T16:12:31.489718",
     "status": "completed"
    },
    "tags": [
     "parameters"
    ]
   },
   "outputs": [],
   "source": [
    "# parameters\n",
    "SAVE_OUTPUT = True\n",
    "SIZE_PLOTS = (12,10)\n",
    "YEAR = 2017\n",
    "\n",
    "#Location of the data\n",
    "INPUT_DATA_PATH = \"../data/raw/\"\n",
    "INPUT_PROCESSED_DATA_PATH = \"../data/processed/\"\n",
    "OUTPUT_DATA_PATH = \"../data/interim/\""
   ]
  },
  {
   "cell_type": "code",
   "execution_count": 2,
   "id": "a9cb39d7",
   "metadata": {
    "execution": {
     "iopub.execute_input": "2025-04-09T16:12:31.515420Z",
     "iopub.status.busy": "2025-04-09T16:12:31.515420Z",
     "iopub.status.idle": "2025-04-09T16:12:31.518817Z",
     "shell.execute_reply": "2025-04-09T16:12:31.518817Z"
    },
    "papermill": {
     "duration": 0.011869,
     "end_time": "2025-04-09T16:12:31.519850",
     "exception": false,
     "start_time": "2025-04-09T16:12:31.507981",
     "status": "completed"
    },
    "tags": [
     "injected-parameters"
    ]
   },
   "outputs": [],
   "source": [
    "# Parameters\n",
    "YEAR = 2023\n",
    "SAVE_OUTPUT = True\n"
   ]
  },
  {
   "cell_type": "code",
   "execution_count": 3,
   "id": "1ccabef0",
   "metadata": {
    "execution": {
     "iopub.execute_input": "2025-04-09T16:12:31.528617Z",
     "iopub.status.busy": "2025-04-09T16:12:31.528617Z",
     "iopub.status.idle": "2025-04-09T16:12:32.407370Z",
     "shell.execute_reply": "2025-04-09T16:12:32.406718Z"
    },
    "id": "HnDB36CLTIxL",
    "papermill": {
     "duration": 0.884713,
     "end_time": "2025-04-09T16:12:32.409082",
     "exception": false,
     "start_time": "2025-04-09T16:12:31.524369",
     "status": "completed"
    },
    "tags": []
   },
   "outputs": [],
   "source": [
    "import numpy as np\n",
    "import pandas as pd\n",
    "import geopandas as gpd\n",
    "import geoarrow.pandas as _\n",
    "import arrow\n",
    "from pathlib import Path\n",
    "import json\n",
    "import csv"
   ]
  },
  {
   "cell_type": "markdown",
   "id": "40e14a87",
   "metadata": {
    "id": "JMxfkSGDhuDI",
    "papermill": {
     "duration": 0.004021,
     "end_time": "2025-04-09T16:12:32.414137",
     "exception": false,
     "start_time": "2025-04-09T16:12:32.410116",
     "status": "completed"
    },
    "tags": []
   },
   "source": [
    "## Load data"
   ]
  },
  {
   "cell_type": "code",
   "execution_count": 4,
   "id": "6b1c4cd7",
   "metadata": {
    "execution": {
     "iopub.execute_input": "2025-04-09T16:12:32.427924Z",
     "iopub.status.busy": "2025-04-09T16:12:32.426821Z",
     "iopub.status.idle": "2025-04-09T16:12:32.461065Z",
     "shell.execute_reply": "2025-04-09T16:12:32.461065Z"
    },
    "papermill": {
     "duration": 0.038678,
     "end_time": "2025-04-09T16:12:32.461065",
     "exception": false,
     "start_time": "2025-04-09T16:12:32.422387",
     "status": "completed"
    },
    "tags": []
   },
   "outputs": [],
   "source": [
    "df = pd.read_csv(f\"{INPUT_DATA_PATH}/{YEAR}_aforament_descripcio.csv\", sep=\",\", on_bad_lines='skip')\n",
    "stations_data = gpd.GeoDataFrame(df, geometry=gpd.points_from_xy(df.Longitud, df.Latitud))\n",
    "stations_data = stations_data.set_crs(epsg=4326)"
   ]
  },
  {
   "cell_type": "markdown",
   "id": "8150484f",
   "metadata": {
    "id": "ryt3odo6h1W5",
    "papermill": {
     "duration": 0.00414,
     "end_time": "2025-04-09T16:12:32.468622",
     "exception": false,
     "start_time": "2025-04-09T16:12:32.464482",
     "status": "completed"
    },
    "tags": []
   },
   "source": [
    "## Data management"
   ]
  },
  {
   "cell_type": "code",
   "execution_count": 5,
   "id": "0d05c0bc",
   "metadata": {
    "colab": {
     "base_uri": "https://localhost:8080/",
     "height": 429
    },
    "execution": {
     "iopub.execute_input": "2025-04-09T16:12:32.478794Z",
     "iopub.status.busy": "2025-04-09T16:12:32.478794Z",
     "iopub.status.idle": "2025-04-09T16:12:32.499326Z",
     "shell.execute_reply": "2025-04-09T16:12:32.499326Z"
    },
    "id": "F2PgA3ZMryBa",
    "outputId": "2ce67901-0e0d-4949-f411-7732f07e3c38",
    "papermill": {
     "duration": 0.027989,
     "end_time": "2025-04-09T16:12:32.502169",
     "exception": false,
     "start_time": "2025-04-09T16:12:32.474180",
     "status": "completed"
    },
    "tags": []
   },
   "outputs": [
    {
     "name": "stdout",
     "output_type": "stream",
     "text": [
      "(832, 14)\n",
      "Index(['Id_aforament', 'Desc_aforament', 'Codi_tipus_aforament',\n",
      "       'Desc_tipus_aforament', 'Num_carrils', 'Codi_districte', 'Codi_Barri',\n",
      "       'Codi_tipus_equip_mesura', 'Desc_tipus_equip_mesura', 'Longitud',\n",
      "       'Latitud', 'X_ETRS89', 'Y_ETRS89', 'geometry'],\n",
      "      dtype='object')\n"
     ]
    },
    {
     "data": {
      "text/html": [
       "<div>\n",
       "<style scoped>\n",
       "    .dataframe tbody tr th:only-of-type {\n",
       "        vertical-align: middle;\n",
       "    }\n",
       "\n",
       "    .dataframe tbody tr th {\n",
       "        vertical-align: top;\n",
       "    }\n",
       "\n",
       "    .dataframe thead th {\n",
       "        text-align: right;\n",
       "    }\n",
       "</style>\n",
       "<table border=\"1\" class=\"dataframe\">\n",
       "  <thead>\n",
       "    <tr style=\"text-align: right;\">\n",
       "      <th></th>\n",
       "      <th>Id_aforament</th>\n",
       "      <th>Desc_aforament</th>\n",
       "      <th>Codi_tipus_aforament</th>\n",
       "      <th>Desc_tipus_aforament</th>\n",
       "      <th>Num_carrils</th>\n",
       "      <th>Codi_districte</th>\n",
       "      <th>Codi_Barri</th>\n",
       "      <th>Codi_tipus_equip_mesura</th>\n",
       "      <th>Desc_tipus_equip_mesura</th>\n",
       "      <th>Longitud</th>\n",
       "      <th>Latitud</th>\n",
       "      <th>X_ETRS89</th>\n",
       "      <th>Y_ETRS89</th>\n",
       "      <th>geometry</th>\n",
       "    </tr>\n",
       "  </thead>\n",
       "  <tbody>\n",
       "    <tr>\n",
       "      <th>0</th>\n",
       "      <td>10001</td>\n",
       "      <td>ARAGÓ - NAVAS (Llobregat)</td>\n",
       "      <td>1</td>\n",
       "      <td>Trànsit</td>\n",
       "      <td>2</td>\n",
       "      <td>10</td>\n",
       "      <td>65</td>\n",
       "      <td>1</td>\n",
       "      <td>Espira</td>\n",
       "      <td>2.190735</td>\n",
       "      <td>41.411680</td>\n",
       "      <td>432364.559</td>\n",
       "      <td>4584775.026</td>\n",
       "      <td>POINT (2.19074 41.41168)</td>\n",
       "    </tr>\n",
       "    <tr>\n",
       "      <th>1</th>\n",
       "      <td>10002</td>\n",
       "      <td>BAC DE RODA - BOLIVIA (Pujada)</td>\n",
       "      <td>1</td>\n",
       "      <td>Trànsit</td>\n",
       "      <td>3</td>\n",
       "      <td>10</td>\n",
       "      <td>71</td>\n",
       "      <td>1</td>\n",
       "      <td>Espira</td>\n",
       "      <td>2.198983</td>\n",
       "      <td>41.411337</td>\n",
       "      <td>433053.504</td>\n",
       "      <td>4584730.520</td>\n",
       "      <td>POINT (2.19898 41.41134)</td>\n",
       "    </tr>\n",
       "    <tr>\n",
       "      <th>2</th>\n",
       "      <td>10005</td>\n",
       "      <td>ARAGÓ - BILBAO (Besòs)</td>\n",
       "      <td>1</td>\n",
       "      <td>Trànsit</td>\n",
       "      <td>2</td>\n",
       "      <td>10</td>\n",
       "      <td>65</td>\n",
       "      <td>1</td>\n",
       "      <td>Espira</td>\n",
       "      <td>2.191886</td>\n",
       "      <td>41.412286</td>\n",
       "      <td>432461.330</td>\n",
       "      <td>4584841.413</td>\n",
       "      <td>POINT (2.19189 41.41229)</td>\n",
       "    </tr>\n",
       "    <tr>\n",
       "      <th>3</th>\n",
       "      <td>10007</td>\n",
       "      <td>CANTÀBRIA - GUIPÚSCOA (Baixada)</td>\n",
       "      <td>1</td>\n",
       "      <td>Trànsit</td>\n",
       "      <td>2</td>\n",
       "      <td>10</td>\n",
       "      <td>72</td>\n",
       "      <td>1</td>\n",
       "      <td>Espira</td>\n",
       "      <td>2.201899</td>\n",
       "      <td>41.419286</td>\n",
       "      <td>433305.332</td>\n",
       "      <td>4585610.784</td>\n",
       "      <td>POINT (2.20190 41.41929)</td>\n",
       "    </tr>\n",
       "    <tr>\n",
       "      <th>4</th>\n",
       "      <td>10008</td>\n",
       "      <td>CANTÀBRIA - GUIPÚSCOA (Pujada)</td>\n",
       "      <td>1</td>\n",
       "      <td>Trànsit</td>\n",
       "      <td>2</td>\n",
       "      <td>10</td>\n",
       "      <td>72</td>\n",
       "      <td>1</td>\n",
       "      <td>Espira</td>\n",
       "      <td>2.201063</td>\n",
       "      <td>41.420043</td>\n",
       "      <td>433236.312</td>\n",
       "      <td>4585695.525</td>\n",
       "      <td>POINT (2.20106 41.42004)</td>\n",
       "    </tr>\n",
       "  </tbody>\n",
       "</table>\n",
       "</div>"
      ],
      "text/plain": [
       "  Id_aforament                   Desc_aforament  Codi_tipus_aforament  \\\n",
       "0        10001        ARAGÓ - NAVAS (Llobregat)                     1   \n",
       "1        10002   BAC DE RODA - BOLIVIA (Pujada)                     1   \n",
       "2        10005           ARAGÓ - BILBAO (Besòs)                     1   \n",
       "3        10007  CANTÀBRIA - GUIPÚSCOA (Baixada)                     1   \n",
       "4        10008   CANTÀBRIA - GUIPÚSCOA (Pujada)                     1   \n",
       "\n",
       "  Desc_tipus_aforament  Num_carrils  Codi_districte  Codi_Barri  \\\n",
       "0              Trànsit            2              10          65   \n",
       "1              Trànsit            3              10          71   \n",
       "2              Trànsit            2              10          65   \n",
       "3              Trànsit            2              10          72   \n",
       "4              Trànsit            2              10          72   \n",
       "\n",
       "   Codi_tipus_equip_mesura Desc_tipus_equip_mesura  Longitud    Latitud  \\\n",
       "0                        1                  Espira  2.190735  41.411680   \n",
       "1                        1                  Espira  2.198983  41.411337   \n",
       "2                        1                  Espira  2.191886  41.412286   \n",
       "3                        1                  Espira  2.201899  41.419286   \n",
       "4                        1                  Espira  2.201063  41.420043   \n",
       "\n",
       "     X_ETRS89     Y_ETRS89                  geometry  \n",
       "0  432364.559  4584775.026  POINT (2.19074 41.41168)  \n",
       "1  433053.504  4584730.520  POINT (2.19898 41.41134)  \n",
       "2  432461.330  4584841.413  POINT (2.19189 41.41229)  \n",
       "3  433305.332  4585610.784  POINT (2.20190 41.41929)  \n",
       "4  433236.312  4585695.525  POINT (2.20106 41.42004)  "
      ]
     },
     "execution_count": 5,
     "metadata": {},
     "output_type": "execute_result"
    }
   ],
   "source": [
    "print(stations_data.shape)\n",
    "print(stations_data.columns)\n",
    "stations_data.head()"
   ]
  },
  {
   "cell_type": "code",
   "execution_count": 6,
   "id": "dda534c5",
   "metadata": {
    "execution": {
     "iopub.execute_input": "2025-04-09T16:12:32.510312Z",
     "iopub.status.busy": "2025-04-09T16:12:32.510312Z",
     "iopub.status.idle": "2025-04-09T16:12:32.517733Z",
     "shell.execute_reply": "2025-04-09T16:12:32.517733Z"
    },
    "papermill": {
     "duration": 0.013046,
     "end_time": "2025-04-09T16:12:32.519267",
     "exception": false,
     "start_time": "2025-04-09T16:12:32.506221",
     "status": "completed"
    },
    "tags": []
   },
   "outputs": [
    {
     "data": {
      "text/plain": [
       "Id_aforament                 object\n",
       "Desc_aforament               object\n",
       "Codi_tipus_aforament          int64\n",
       "Desc_tipus_aforament         object\n",
       "Num_carrils                   int64\n",
       "Codi_districte                int64\n",
       "Codi_Barri                    int64\n",
       "Codi_tipus_equip_mesura       int64\n",
       "Desc_tipus_equip_mesura      object\n",
       "Longitud                    float64\n",
       "Latitud                     float64\n",
       "X_ETRS89                    float64\n",
       "Y_ETRS89                    float64\n",
       "geometry                   geometry\n",
       "dtype: object"
      ]
     },
     "execution_count": 6,
     "metadata": {},
     "output_type": "execute_result"
    }
   ],
   "source": [
    "stations_data.dtypes"
   ]
  },
  {
   "cell_type": "markdown",
   "id": "64ba51a7",
   "metadata": {
    "papermill": {
     "duration": 0.004327,
     "end_time": "2025-04-09T16:12:32.527886",
     "exception": false,
     "start_time": "2025-04-09T16:12:32.523559",
     "status": "completed"
    },
    "tags": []
   },
   "source": [
    "## Select Bicycle Counters"
   ]
  },
  {
   "cell_type": "code",
   "execution_count": 7,
   "id": "9639984c",
   "metadata": {
    "execution": {
     "iopub.execute_input": "2025-04-09T16:12:32.536424Z",
     "iopub.status.busy": "2025-04-09T16:12:32.536424Z",
     "iopub.status.idle": "2025-04-09T16:12:32.546154Z",
     "shell.execute_reply": "2025-04-09T16:12:32.546154Z"
    },
    "papermill": {
     "duration": 0.013874,
     "end_time": "2025-04-09T16:12:32.546154",
     "exception": false,
     "start_time": "2025-04-09T16:12:32.532280",
     "status": "completed"
    },
    "tags": []
   },
   "outputs": [
    {
     "data": {
      "text/plain": [
       "Desc_tipus_aforament\n",
       "Trànsit    399\n",
       "Bicis      371\n",
       "Rondes      62\n",
       "Name: count, dtype: int64"
      ]
     },
     "execution_count": 7,
     "metadata": {},
     "output_type": "execute_result"
    }
   ],
   "source": [
    "stations_data[\"Desc_tipus_aforament\"].value_counts(dropna=False)"
   ]
  },
  {
   "cell_type": "code",
   "execution_count": 8,
   "id": "c766e185",
   "metadata": {
    "execution": {
     "iopub.execute_input": "2025-04-09T16:12:32.557670Z",
     "iopub.status.busy": "2025-04-09T16:12:32.557670Z",
     "iopub.status.idle": "2025-04-09T16:12:32.568094Z",
     "shell.execute_reply": "2025-04-09T16:12:32.568094Z"
    },
    "papermill": {
     "duration": 0.020342,
     "end_time": "2025-04-09T16:12:32.569613",
     "exception": false,
     "start_time": "2025-04-09T16:12:32.549271",
     "status": "completed"
    },
    "tags": []
   },
   "outputs": [],
   "source": [
    "if YEAR != 2017:\n",
    "    bike_stations_data=stations_data[stations_data[\"Desc_tipus_aforament\"]==\"Bicis\"].copy()\n",
    "else:\n",
    "    bike_stations_data=stations_data[stations_data[\"Desc_tipus_aforament\"]==\"bicis\"].copy()"
   ]
  },
  {
   "cell_type": "code",
   "execution_count": 9,
   "id": "a4b6560f",
   "metadata": {
    "execution": {
     "iopub.execute_input": "2025-04-09T16:12:32.578072Z",
     "iopub.status.busy": "2025-04-09T16:12:32.578072Z",
     "iopub.status.idle": "2025-04-09T16:12:32.594703Z",
     "shell.execute_reply": "2025-04-09T16:12:32.594703Z"
    },
    "papermill": {
     "duration": 0.020983,
     "end_time": "2025-04-09T16:12:32.594703",
     "exception": false,
     "start_time": "2025-04-09T16:12:32.573720",
     "status": "completed"
    },
    "tags": []
   },
   "outputs": [
    {
     "data": {
      "text/html": [
       "<div>\n",
       "<style scoped>\n",
       "    .dataframe tbody tr th:only-of-type {\n",
       "        vertical-align: middle;\n",
       "    }\n",
       "\n",
       "    .dataframe tbody tr th {\n",
       "        vertical-align: top;\n",
       "    }\n",
       "\n",
       "    .dataframe thead th {\n",
       "        text-align: right;\n",
       "    }\n",
       "</style>\n",
       "<table border=\"1\" class=\"dataframe\">\n",
       "  <thead>\n",
       "    <tr style=\"text-align: right;\">\n",
       "      <th></th>\n",
       "      <th>Id_aforament</th>\n",
       "      <th>Desc_aforament</th>\n",
       "      <th>Num_carrils</th>\n",
       "      <th>Codi_districte</th>\n",
       "      <th>Codi_Barri</th>\n",
       "      <th>Codi_tipus_equip_mesura</th>\n",
       "      <th>Desc_tipus_equip_mesura</th>\n",
       "      <th>geometry</th>\n",
       "    </tr>\n",
       "  </thead>\n",
       "  <tbody>\n",
       "    <tr>\n",
       "      <th>399</th>\n",
       "      <td>20001</td>\n",
       "      <td>DIPUTACIÓ - COMTE D'URGELL (carril BICI)</td>\n",
       "      <td>1</td>\n",
       "      <td>2</td>\n",
       "      <td>8</td>\n",
       "      <td>1</td>\n",
       "      <td>Espira</td>\n",
       "      <td>POINT (2.15709 41.38300)</td>\n",
       "    </tr>\n",
       "    <tr>\n",
       "      <th>400</th>\n",
       "      <td>20002</td>\n",
       "      <td>DIPUTACIÓ - COMTE BORELL (carrril BICI)</td>\n",
       "      <td>1</td>\n",
       "      <td>2</td>\n",
       "      <td>9</td>\n",
       "      <td>1</td>\n",
       "      <td>Espira</td>\n",
       "      <td>POINT (2.15709 41.38300)</td>\n",
       "    </tr>\n",
       "    <tr>\n",
       "      <th>401</th>\n",
       "      <td>20003</td>\n",
       "      <td>GRAN VIA DE LES CORTS CATALANES - MUNTANER (ca...</td>\n",
       "      <td>1</td>\n",
       "      <td>2</td>\n",
       "      <td>10</td>\n",
       "      <td>1</td>\n",
       "      <td>Espira</td>\n",
       "      <td>POINT (2.16165 41.38459)</td>\n",
       "    </tr>\n",
       "    <tr>\n",
       "      <th>402</th>\n",
       "      <td>20005</td>\n",
       "      <td>MUNTANER - GRAN VIA DE LES CORTS CATALANES (ca...</td>\n",
       "      <td>1</td>\n",
       "      <td>2</td>\n",
       "      <td>10</td>\n",
       "      <td>1</td>\n",
       "      <td>Espira</td>\n",
       "      <td>POINT (2.16310 41.38388)</td>\n",
       "    </tr>\n",
       "    <tr>\n",
       "      <th>403</th>\n",
       "      <td>20006</td>\n",
       "      <td>MUNTANER - SEPULVEDA (carril BICI sentit munta...</td>\n",
       "      <td>1</td>\n",
       "      <td>2</td>\n",
       "      <td>10</td>\n",
       "      <td>1</td>\n",
       "      <td>Espira</td>\n",
       "      <td>POINT (2.16313 41.38388)</td>\n",
       "    </tr>\n",
       "  </tbody>\n",
       "</table>\n",
       "</div>"
      ],
      "text/plain": [
       "    Id_aforament                                     Desc_aforament  \\\n",
       "399        20001           DIPUTACIÓ - COMTE D'URGELL (carril BICI)   \n",
       "400        20002            DIPUTACIÓ - COMTE BORELL (carrril BICI)   \n",
       "401        20003  GRAN VIA DE LES CORTS CATALANES - MUNTANER (ca...   \n",
       "402        20005  MUNTANER - GRAN VIA DE LES CORTS CATALANES (ca...   \n",
       "403        20006  MUNTANER - SEPULVEDA (carril BICI sentit munta...   \n",
       "\n",
       "     Num_carrils  Codi_districte  Codi_Barri  Codi_tipus_equip_mesura  \\\n",
       "399            1               2           8                        1   \n",
       "400            1               2           9                        1   \n",
       "401            1               2          10                        1   \n",
       "402            1               2          10                        1   \n",
       "403            1               2          10                        1   \n",
       "\n",
       "    Desc_tipus_equip_mesura                  geometry  \n",
       "399                  Espira  POINT (2.15709 41.38300)  \n",
       "400                  Espira  POINT (2.15709 41.38300)  \n",
       "401                  Espira  POINT (2.16165 41.38459)  \n",
       "402                  Espira  POINT (2.16310 41.38388)  \n",
       "403                  Espira  POINT (2.16313 41.38388)  "
      ]
     },
     "execution_count": 9,
     "metadata": {},
     "output_type": "execute_result"
    }
   ],
   "source": [
    "bike_stations_data_clean=bike_stations_data.drop(columns=['Longitud', 'Latitud', 'X_ETRS89', 'Y_ETRS89','Codi_tipus_aforament','Desc_tipus_aforament']).copy()\n",
    "bike_stations_data_clean.head()\n"
   ]
  },
  {
   "cell_type": "markdown",
   "id": "bc319ca2",
   "metadata": {
    "id": "a_ZrQ64i7plQ",
    "papermill": {
     "duration": 0.005072,
     "end_time": "2025-04-09T16:12:32.604430",
     "exception": false,
     "start_time": "2025-04-09T16:12:32.599358",
     "status": "completed"
    },
    "tags": []
   },
   "source": [
    "## Save output"
   ]
  },
  {
   "cell_type": "code",
   "execution_count": 10,
   "id": "561aa549",
   "metadata": {
    "execution": {
     "iopub.execute_input": "2025-04-09T16:12:32.618926Z",
     "iopub.status.busy": "2025-04-09T16:12:32.614881Z",
     "iopub.status.idle": "2025-04-09T16:12:32.651114Z",
     "shell.execute_reply": "2025-04-09T16:12:32.651114Z"
    },
    "id": "6bj2-CeR7owh",
    "papermill": {
     "duration": 0.04104,
     "end_time": "2025-04-09T16:12:32.652641",
     "exception": false,
     "start_time": "2025-04-09T16:12:32.611601",
     "status": "completed"
    },
    "tags": []
   },
   "outputs": [],
   "source": [
    "if SAVE_OUTPUT:\n",
    "    bike_stations_data_clean.to_parquet(f'{OUTPUT_DATA_PATH}/stations_data{YEAR}.parquet')"
   ]
  },
  {
   "cell_type": "code",
   "execution_count": 11,
   "id": "a901a00d",
   "metadata": {
    "execution": {
     "iopub.execute_input": "2025-04-09T16:12:32.664444Z",
     "iopub.status.busy": "2025-04-09T16:12:32.664444Z",
     "iopub.status.idle": "2025-04-09T16:12:32.671935Z",
     "shell.execute_reply": "2025-04-09T16:12:32.671935Z"
    },
    "papermill": {
     "duration": 0.017008,
     "end_time": "2025-04-09T16:12:32.674066",
     "exception": false,
     "start_time": "2025-04-09T16:12:32.657058",
     "status": "completed"
    },
    "tags": []
   },
   "outputs": [],
   "source": [
    "# Define the new row data\n",
    "new_row = {\n",
    "    'Year': YEAR,\n",
    "    'Columns': stations_data.shape[1],\n",
    "    'Counters': stations_data.shape[0],\n",
    "    'Bike Counters': bike_stations_data.shape[0],\n",
    "    'Car Counters': stations_data.shape[0]-bike_stations_data.shape[0]\n",
    "}\n",
    "\n",
    "# Convert the new row data to a DataFrame\n",
    "new_row_df = pd.DataFrame([new_row])\n",
    "\n",
    "# Define the path to the CSV file\n",
    "csv_file_path = f\"{INPUT_PROCESSED_DATA_PATH}/log_stations.csv\"\n",
    "\n",
    "# Check if the CSV file exists\n",
    "if Path(csv_file_path).is_file():\n",
    "    # If the file exists, append the new row\n",
    "    new_row_df.to_csv(csv_file_path, mode='a', header=False, index=False)\n",
    "else:\n",
    "    # If the file does not exist, create it with the new row\n",
    "    new_row_df.to_csv(csv_file_path, mode='w', header=True, index=False)"
   ]
  },
  {
   "cell_type": "markdown",
   "id": "845f655e",
   "metadata": {
    "id": "xT_uQYZSbEty",
    "papermill": {
     "duration": 0.00437,
     "end_time": "2025-04-09T16:12:32.682483",
     "exception": false,
     "start_time": "2025-04-09T16:12:32.678113",
     "status": "completed"
    },
    "tags": []
   },
   "source": [
    "## Watermark"
   ]
  },
  {
   "cell_type": "code",
   "execution_count": 12,
   "id": "639fa1cd",
   "metadata": {
    "execution": {
     "iopub.execute_input": "2025-04-09T16:12:32.691226Z",
     "iopub.status.busy": "2025-04-09T16:12:32.691226Z",
     "iopub.status.idle": "2025-04-09T16:12:36.917448Z",
     "shell.execute_reply": "2025-04-09T16:12:36.917448Z"
    },
    "id": "iY8ZyfnAbFoO",
    "papermill": {
     "duration": 4.230754,
     "end_time": "2025-04-09T16:12:36.917448",
     "exception": false,
     "start_time": "2025-04-09T16:12:32.686694",
     "status": "completed"
    },
    "tags": []
   },
   "outputs": [],
   "source": [
    "!python -m pip install watermark --quiet"
   ]
  },
  {
   "cell_type": "code",
   "execution_count": null,
   "id": "1151b699",
   "metadata": {
    "execution": {
     "iopub.execute_input": "2025-03-14T14:54:48.160999Z",
     "iopub.status.busy": "2025-03-14T14:54:48.159612Z",
     "iopub.status.idle": "2025-03-14T14:54:48.179326Z",
     "shell.execute_reply": "2025-03-14T14:54:48.179326Z"
    },
    "id": "Cd2yG3BgbGE3",
    "papermill": {
     "duration": null,
     "end_time": null,
     "exception": null,
     "start_time": null,
     "status": "completed"
    },
    "tags": []
   },
   "outputs": [],
   "source": [
    "%load_ext watermark"
   ]
  },
  {
   "cell_type": "code",
   "execution_count": null,
   "id": "ddf27bdc",
   "metadata": {
    "colab": {
     "base_uri": "https://localhost:8080/"
    },
    "execution": {
     "iopub.execute_input": "2025-03-14T14:54:48.191847Z",
     "iopub.status.busy": "2025-03-14T14:54:48.191847Z",
     "iopub.status.idle": "2025-03-14T14:54:48.195867Z",
     "shell.execute_reply": "2025-03-14T14:54:48.195867Z"
    },
    "id": "Ef6VBO1QbI-_",
    "outputId": "9551ad1c-634d-4484-dc4a-f6a971884ccc",
    "papermill": {
     "duration": null,
     "end_time": null,
     "exception": null,
     "start_time": null,
     "status": "completed"
    },
    "tags": []
   },
   "outputs": [],
   "source": [
    "%watermark"
   ]
  },
  {
   "cell_type": "code",
   "execution_count": null,
   "id": "84426b05",
   "metadata": {
    "colab": {
     "base_uri": "https://localhost:8080/"
    },
    "execution": {
     "iopub.execute_input": "2025-03-14T14:54:48.207109Z",
     "iopub.status.busy": "2025-03-14T14:54:48.207109Z",
     "iopub.status.idle": "2025-03-14T14:54:48.219590Z",
     "shell.execute_reply": "2025-03-14T14:54:48.219590Z"
    },
    "id": "EW9nOXoNbKrP",
    "outputId": "b68ae236-6367-4c9a-b720-5978d2bbcbf4",
    "papermill": {
     "duration": null,
     "end_time": null,
     "exception": null,
     "start_time": null,
     "status": "completed"
    },
    "tags": []
   },
   "outputs": [],
   "source": [
    "%watermark --iversions"
   ]
  },
  {
   "cell_type": "code",
   "execution_count": null,
   "id": "23c6b31d",
   "metadata": {
    "colab": {
     "base_uri": "https://localhost:8080/"
    },
    "execution": {
     "iopub.execute_input": "2025-03-14T14:54:48.230824Z",
     "iopub.status.busy": "2025-03-14T14:54:48.230824Z",
     "iopub.status.idle": "2025-03-14T14:54:48.262489Z",
     "shell.execute_reply": "2025-03-14T14:54:48.262489Z"
    },
    "id": "2LOCLnX0bMxt",
    "outputId": "e68400d8-8277-4988-d42c-15e02490cce1",
    "papermill": {
     "duration": null,
     "end_time": null,
     "exception": null,
     "start_time": null,
     "status": "completed"
    },
    "tags": []
   },
   "outputs": [],
   "source": [
    "!lsb_release -a"
   ]
  }
 ],
 "metadata": {
  "colab": {
   "provenance": [],
   "toc_visible": true
  },
  "kernelspec": {
   "display_name": "ridership_model",
   "language": "python",
   "name": "python3"
  },
  "language_info": {
   "codemirror_mode": {
    "name": "ipython",
    "version": 3
   },
   "file_extension": ".py",
   "mimetype": "text/x-python",
   "name": "python",
   "nbconvert_exporter": "python",
   "pygments_lexer": "ipython3",
   "version": "3.11.9"
  },
  "papermill": {
   "default_parameters": {},
   "duration": 7.608516,
   "end_time": "2025-04-09T16:12:37.269801",
   "environment_variables": {},
   "exception": null,
   "input_path": "011-luca_data-management_station-data.ipynb",
   "output_path": "011-luca_data-management_station-data.ipynb",
   "parameters": {
    "SAVE_OUTPUT": true,
    "YEAR": 2023
   },
   "start_time": "2025-04-09T16:12:29.661285",
   "version": "2.6.0"
  }
 },
 "nbformat": 4,
 "nbformat_minor": 5
}