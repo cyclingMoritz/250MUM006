{
 "cells": [
  {
   "cell_type": "markdown",
   "id": "cbbb44cd",
   "metadata": {
    "id": "rP8SuqILhaPo",
    "papermill": {
     "duration": null,
     "end_time": null,
     "exception": null,
     "start_time": null,
     "status": "completed"
    },
    "tags": []
   },
   "source": [
    "## Config"
   ]
  },
  {
   "cell_type": "code",
   "execution_count": null,
   "id": "57c27fa6",
   "metadata": {
    "execution": {
     "iopub.execute_input": "2025-03-08T13:25:31.982392Z",
     "iopub.status.busy": "2025-03-08T13:25:31.981394Z",
     "iopub.status.idle": "2025-03-08T13:25:31.988239Z",
     "shell.execute_reply": "2025-03-08T13:25:31.988239Z"
    },
    "id": "I_hrwU9x479z",
    "papermill": {
     "duration": null,
     "end_time": null,
     "exception": null,
     "start_time": null,
     "status": "completed"
    },
    "tags": [
     "parameters"
    ]
   },
   "outputs": [],
   "source": [
    "# parameters\n",
    "SAVE_OUTPUT = True\n",
    "SIZE_PLOTS = (12,10)\n",
    "YEAR = 2017\n",
    "\n",
    "#Location of the data\n",
    "INPUT_DATA_PATH = \"../data/raw/\"\n",
    "INPUT_PROCESSED_DATA_PATH = \"../data/processed/\"\n",
    "OUTPUT_DATA_PATH = \"../data/interim/\""
   ]
  },
  {
   "cell_type": "code",
   "execution_count": null,
   "id": "f73772e9",
   "metadata": {
    "papermill": {
     "duration": null,
     "end_time": null,
     "exception": null,
     "start_time": null,
     "status": "completed"
    },
    "tags": [
     "injected-parameters"
    ]
   },
   "outputs": [],
   "source": [
    "# Parameters\n",
    "YEAR = 2018\n",
    "SAVE_OUTPUT = True\n"
   ]
  },
  {
   "cell_type": "code",
   "execution_count": null,
   "id": "1ccabef0",
   "metadata": {
    "execution": {
     "iopub.execute_input": "2025-03-08T13:25:32.010941Z",
     "iopub.status.busy": "2025-03-08T13:25:32.009940Z",
     "iopub.status.idle": "2025-03-08T13:25:33.094337Z",
     "shell.execute_reply": "2025-03-08T13:25:33.094337Z"
    },
    "id": "HnDB36CLTIxL",
    "papermill": {
     "duration": null,
     "end_time": null,
     "exception": null,
     "start_time": null,
     "status": "completed"
    },
    "tags": []
   },
   "outputs": [],
   "source": [
    "import numpy as np\n",
    "import pandas as pd\n",
    "import geopandas as gpd\n",
    "import geoarrow.pandas as _\n",
    "import arrow\n",
    "from pathlib import Path\n",
    "import json\n",
    "import csv"
   ]
  },
  {
   "cell_type": "markdown",
   "id": "40e14a87",
   "metadata": {
    "id": "JMxfkSGDhuDI",
    "papermill": {
     "duration": null,
     "end_time": null,
     "exception": null,
     "start_time": null,
     "status": "completed"
    },
    "tags": []
   },
   "source": [
    "## Load data"
   ]
  },
  {
   "cell_type": "code",
   "execution_count": null,
   "id": "6b1c4cd7",
   "metadata": {
    "execution": {
     "iopub.execute_input": "2025-03-08T13:25:33.112754Z",
     "iopub.status.busy": "2025-03-08T13:25:33.111757Z",
     "iopub.status.idle": "2025-03-08T13:25:33.138331Z",
     "shell.execute_reply": "2025-03-08T13:25:33.138331Z"
    },
    "papermill": {
     "duration": null,
     "end_time": null,
     "exception": null,
     "start_time": null,
     "status": "completed"
    },
    "tags": []
   },
   "outputs": [],
   "source": [
    "df = pd.read_csv(f\"{INPUT_DATA_PATH}/{YEAR}_aforament_descripcio.csv\", sep=\",\", on_bad_lines='skip')\n",
    "stations_data = gpd.GeoDataFrame(df, geometry=gpd.points_from_xy(df.Longitud, df.Latitud))\n",
    "stations_data = stations_data.set_crs(epsg=4326)"
   ]
  },
  {
   "cell_type": "markdown",
   "id": "8150484f",
   "metadata": {
    "id": "ryt3odo6h1W5",
    "papermill": {
     "duration": null,
     "end_time": null,
     "exception": null,
     "start_time": null,
     "status": "completed"
    },
    "tags": []
   },
   "source": [
    "## Data management"
   ]
  },
  {
   "cell_type": "code",
   "execution_count": null,
   "id": "0d05c0bc",
   "metadata": {
    "colab": {
     "base_uri": "https://localhost:8080/",
     "height": 429
    },
    "execution": {
     "iopub.execute_input": "2025-03-08T13:25:33.154812Z",
     "iopub.status.busy": "2025-03-08T13:25:33.154812Z",
     "iopub.status.idle": "2025-03-08T13:25:33.172415Z",
     "shell.execute_reply": "2025-03-08T13:25:33.172415Z"
    },
    "id": "F2PgA3ZMryBa",
    "outputId": "2ce67901-0e0d-4949-f411-7732f07e3c38",
    "papermill": {
     "duration": null,
     "end_time": null,
     "exception": null,
     "start_time": null,
     "status": "completed"
    },
    "tags": []
   },
   "outputs": [],
   "source": [
    "print(stations_data.shape)\n",
    "print(stations_data.columns)\n",
    "stations_data.head()"
   ]
  },
  {
   "cell_type": "code",
   "execution_count": null,
   "id": "dda534c5",
   "metadata": {
    "execution": {
     "iopub.execute_input": "2025-03-08T13:25:33.182264Z",
     "iopub.status.busy": "2025-03-08T13:25:33.182264Z",
     "iopub.status.idle": "2025-03-08T13:25:33.186504Z",
     "shell.execute_reply": "2025-03-08T13:25:33.186504Z"
    },
    "papermill": {
     "duration": null,
     "end_time": null,
     "exception": null,
     "start_time": null,
     "status": "completed"
    },
    "tags": []
   },
   "outputs": [],
   "source": [
    "stations_data.dtypes"
   ]
  },
  {
   "cell_type": "markdown",
   "id": "64ba51a7",
   "metadata": {
    "papermill": {
     "duration": null,
     "end_time": null,
     "exception": null,
     "start_time": null,
     "status": "completed"
    },
    "tags": []
   },
   "source": [
    "## Select Bicycle Counters"
   ]
  },
  {
   "cell_type": "code",
   "execution_count": null,
   "id": "9639984c",
   "metadata": {
    "execution": {
     "iopub.execute_input": "2025-03-08T13:25:33.205085Z",
     "iopub.status.busy": "2025-03-08T13:25:33.205085Z",
     "iopub.status.idle": "2025-03-08T13:25:33.210739Z",
     "shell.execute_reply": "2025-03-08T13:25:33.210739Z"
    },
    "papermill": {
     "duration": null,
     "end_time": null,
     "exception": null,
     "start_time": null,
     "status": "completed"
    },
    "tags": []
   },
   "outputs": [],
   "source": [
    "stations_data[\"Desc_tipus_aforament\"].value_counts(dropna=False)"
   ]
  },
  {
   "cell_type": "code",
   "execution_count": null,
   "id": "c766e185",
   "metadata": {
    "execution": {
     "iopub.execute_input": "2025-03-08T13:25:33.223992Z",
     "iopub.status.busy": "2025-03-08T13:25:33.223992Z",
     "iopub.status.idle": "2025-03-08T13:25:33.230130Z",
     "shell.execute_reply": "2025-03-08T13:25:33.230130Z"
    },
    "papermill": {
     "duration": null,
     "end_time": null,
     "exception": null,
     "start_time": null,
     "status": "completed"
    },
    "tags": []
   },
   "outputs": [],
   "source": [
    "if YEAR != 2017:\n",
    "    bike_stations_data=stations_data[stations_data[\"Desc_tipus_aforament\"]==\"Bicis\"].copy()\n",
    "else:\n",
    "    bike_stations_data=stations_data[stations_data[\"Desc_tipus_aforament\"]==\"bicis\"].copy()"
   ]
  },
  {
   "cell_type": "code",
   "execution_count": null,
   "id": "a4b6560f",
   "metadata": {
    "execution": {
     "iopub.execute_input": "2025-03-08T13:25:33.239780Z",
     "iopub.status.busy": "2025-03-08T13:25:33.239780Z",
     "iopub.status.idle": "2025-03-08T13:25:33.252430Z",
     "shell.execute_reply": "2025-03-08T13:25:33.252430Z"
    },
    "papermill": {
     "duration": null,
     "end_time": null,
     "exception": null,
     "start_time": null,
     "status": "completed"
    },
    "tags": []
   },
   "outputs": [],
   "source": [
    "bike_stations_data_clean=bike_stations_data.drop(columns=['Longitud', 'Latitud', 'X_ETRS89', 'Y_ETRS89','Codi_tipus_aforament','Desc_tipus_aforament']).copy()\n",
    "bike_stations_data_clean.head()\n"
   ]
  },
  {
   "cell_type": "markdown",
   "id": "bc319ca2",
   "metadata": {
    "id": "a_ZrQ64i7plQ",
    "papermill": {
     "duration": null,
     "end_time": null,
     "exception": null,
     "start_time": null,
     "status": "completed"
    },
    "tags": []
   },
   "source": [
    "## Save output"
   ]
  },
  {
   "cell_type": "code",
   "execution_count": null,
   "id": "561aa549",
   "metadata": {
    "execution": {
     "iopub.execute_input": "2025-03-08T13:25:33.270562Z",
     "iopub.status.busy": "2025-03-08T13:25:33.270562Z",
     "iopub.status.idle": "2025-03-08T13:25:33.328659Z",
     "shell.execute_reply": "2025-03-08T13:25:33.328659Z"
    },
    "id": "6bj2-CeR7owh",
    "papermill": {
     "duration": null,
     "end_time": null,
     "exception": null,
     "start_time": null,
     "status": "completed"
    },
    "tags": []
   },
   "outputs": [],
   "source": [
    "if SAVE_OUTPUT:\n",
    "    bike_stations_data_clean.to_parquet(f'{OUTPUT_DATA_PATH}/stations_data{YEAR}.parquet')"
   ]
  },
  {
   "cell_type": "code",
   "execution_count": null,
   "id": "a901a00d",
   "metadata": {
    "execution": {
     "iopub.execute_input": "2025-03-08T13:25:33.340612Z",
     "iopub.status.busy": "2025-03-08T13:25:33.340612Z",
     "iopub.status.idle": "2025-03-08T13:25:33.349822Z",
     "shell.execute_reply": "2025-03-08T13:25:33.349822Z"
    },
    "papermill": {
     "duration": null,
     "end_time": null,
     "exception": null,
     "start_time": null,
     "status": "completed"
    },
    "tags": []
   },
   "outputs": [],
   "source": [
    "# Define the new row data\n",
    "new_row = {\n",
    "    'Year': YEAR,\n",
    "    'Columns': stations_data.shape[1],\n",
    "    'Counters': stations_data.shape[0],\n",
    "    'Bike Counters': bike_stations_data.shape[0],\n",
    "    'Car Counters': stations_data.shape[0]-bike_stations_data.shape[0]\n",
    "}\n",
    "\n",
    "# Convert the new row data to a DataFrame\n",
    "new_row_df = pd.DataFrame([new_row])\n",
    "\n",
    "# Define the path to the CSV file\n",
    "csv_file_path = f\"{INPUT_PROCESSED_DATA_PATH}/log_stations.csv\"\n",
    "\n",
    "# Check if the CSV file exists\n",
    "if Path(csv_file_path).is_file():\n",
    "    # If the file exists, append the new row\n",
    "    new_row_df.to_csv(csv_file_path, mode='a', header=False, index=False)\n",
    "else:\n",
    "    # If the file does not exist, create it with the new row\n",
    "    new_row_df.to_csv(csv_file_path, mode='w', header=True, index=False)"
   ]
  },
  {
   "cell_type": "markdown",
   "id": "845f655e",
   "metadata": {
    "id": "xT_uQYZSbEty",
    "papermill": {
     "duration": null,
     "end_time": null,
     "exception": null,
     "start_time": null,
     "status": "completed"
    },
    "tags": []
   },
   "source": [
    "## Watermark"
   ]
  },
  {
   "cell_type": "code",
   "execution_count": null,
   "id": "639fa1cd",
   "metadata": {
    "execution": {
     "iopub.execute_input": "2025-03-08T13:25:33.368462Z",
     "iopub.status.busy": "2025-03-08T13:25:33.368462Z",
     "iopub.status.idle": "2025-03-08T13:25:37.082387Z",
     "shell.execute_reply": "2025-03-08T13:25:37.082387Z"
    },
    "id": "iY8ZyfnAbFoO",
    "papermill": {
     "duration": null,
     "end_time": null,
     "exception": null,
     "start_time": null,
     "status": "completed"
    },
    "tags": []
   },
   "outputs": [],
   "source": [
    "!python -m pip install watermark --quiet"
   ]
  },
  {
   "cell_type": "code",
   "execution_count": null,
   "id": "1151b699",
   "metadata": {
    "execution": {
     "iopub.execute_input": "2025-03-08T13:25:37.092663Z",
     "iopub.status.busy": "2025-03-08T13:25:37.092663Z",
     "iopub.status.idle": "2025-03-08T13:25:37.113087Z",
     "shell.execute_reply": "2025-03-08T13:25:37.113087Z"
    },
    "id": "Cd2yG3BgbGE3",
    "papermill": {
     "duration": null,
     "end_time": null,
     "exception": null,
     "start_time": null,
     "status": "completed"
    },
    "tags": []
   },
   "outputs": [],
   "source": [
    "%load_ext watermark"
   ]
  },
  {
   "cell_type": "code",
   "execution_count": null,
   "id": "ddf27bdc",
   "metadata": {
    "colab": {
     "base_uri": "https://localhost:8080/"
    },
    "execution": {
     "iopub.execute_input": "2025-03-08T13:25:37.125508Z",
     "iopub.status.busy": "2025-03-08T13:25:37.124502Z",
     "iopub.status.idle": "2025-03-08T13:25:37.128504Z",
     "shell.execute_reply": "2025-03-08T13:25:37.128504Z"
    },
    "id": "Ef6VBO1QbI-_",
    "outputId": "9551ad1c-634d-4484-dc4a-f6a971884ccc",
    "papermill": {
     "duration": null,
     "end_time": null,
     "exception": null,
     "start_time": null,
     "status": "completed"
    },
    "tags": []
   },
   "outputs": [],
   "source": [
    "%watermark"
   ]
  },
  {
   "cell_type": "code",
   "execution_count": null,
   "id": "84426b05",
   "metadata": {
    "colab": {
     "base_uri": "https://localhost:8080/"
    },
    "execution": {
     "iopub.execute_input": "2025-03-08T13:25:37.140017Z",
     "iopub.status.busy": "2025-03-08T13:25:37.140017Z",
     "iopub.status.idle": "2025-03-08T13:25:37.150947Z",
     "shell.execute_reply": "2025-03-08T13:25:37.150947Z"
    },
    "id": "EW9nOXoNbKrP",
    "outputId": "b68ae236-6367-4c9a-b720-5978d2bbcbf4",
    "papermill": {
     "duration": null,
     "end_time": null,
     "exception": null,
     "start_time": null,
     "status": "completed"
    },
    "tags": []
   },
   "outputs": [],
   "source": [
    "%watermark --iversions"
   ]
  },
  {
   "cell_type": "code",
   "execution_count": null,
   "id": "23c6b31d",
   "metadata": {
    "colab": {
     "base_uri": "https://localhost:8080/"
    },
    "execution": {
     "iopub.execute_input": "2025-03-08T13:25:37.161633Z",
     "iopub.status.busy": "2025-03-08T13:25:37.161633Z",
     "iopub.status.idle": "2025-03-08T13:25:37.193876Z",
     "shell.execute_reply": "2025-03-08T13:25:37.193876Z"
    },
    "id": "2LOCLnX0bMxt",
    "outputId": "e68400d8-8277-4988-d42c-15e02490cce1",
    "papermill": {
     "duration": null,
     "end_time": null,
     "exception": null,
     "start_time": null,
     "status": "completed"
    },
    "tags": []
   },
   "outputs": [],
   "source": [
    "!lsb_release -a"
   ]
  }
 ],
 "metadata": {
  "colab": {
   "provenance": [],
   "toc_visible": true
  },
  "kernelspec": {
   "display_name": "ridership_model",
   "language": "python",
   "name": "python3"
  },
  "language_info": {
   "codemirror_mode": {
    "name": "ipython",
    "version": 3
   },
   "file_extension": ".py",
   "mimetype": "text/x-python",
   "name": "python",
   "nbconvert_exporter": "python",
   "pygments_lexer": "ipython3",
   "version": "3.11.9"
  },
  "papermill": {
   "default_parameters": {},
   "duration": 1.28018,
   "end_time": "2025-03-08T13:25:38.857830",
   "environment_variables": {},
   "exception": null,
   "input_path": "01_luca_data-management_station-data.ipynb",
   "output_path": "01_luca_data-management_station-data.ipynb",
   "parameters": {
    "SAVE_OUTPUT": true,
    "YEAR": 2018
   },
   "start_time": "2025-03-08T13:25:37.577650",
   "version": "2.6.0"
  }
 },
 "nbformat": 4,
 "nbformat_minor": 5
}