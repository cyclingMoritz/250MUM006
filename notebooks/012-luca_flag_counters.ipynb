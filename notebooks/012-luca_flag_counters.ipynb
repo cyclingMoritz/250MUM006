{
 "cells": [
  {
   "cell_type": "markdown",
   "id": "16e3b740",
   "metadata": {
    "papermill": {
     "duration": 0.008111,
     "end_time": "2025-04-09T14:15:14.130433",
     "exception": false,
     "start_time": "2025-04-09T14:15:14.122322",
     "status": "completed"
    },
    "tags": []
   },
   "source": [
    "## Config"
   ]
  },
  {
   "cell_type": "code",
   "execution_count": 1,
   "id": "ca264bf4",
   "metadata": {
    "execution": {
     "iopub.execute_input": "2025-04-09T14:15:14.151744Z",
     "iopub.status.busy": "2025-04-09T14:15:14.149110Z",
     "iopub.status.idle": "2025-04-09T14:15:14.159398Z",
     "shell.execute_reply": "2025-04-09T14:15:14.159398Z"
    },
    "papermill": {
     "duration": 0.021462,
     "end_time": "2025-04-09T14:15:14.160408",
     "exception": false,
     "start_time": "2025-04-09T14:15:14.138946",
     "status": "completed"
    },
    "tags": [
     "parameters"
    ]
   },
   "outputs": [],
   "source": [
    "# parameters\n",
    "# SHAREDRIVE_PATH = \"/content/drive/Shareddrives/Idealista/\"\n",
    "INPUT_DATA_PATH = \"../data/interim/counter/\"\n",
    "INPUT_PROCESSED_DATA_PATH = \"../data/processed/\"\n",
    "\n",
    "YEAR = 2017\n",
    "SAVE_OUTPUT = True\n",
    "OUTPUT_DATA_PATH = \"../data/interim/\""
   ]
  },
  {
   "cell_type": "code",
   "execution_count": 2,
   "id": "00e6054c",
   "metadata": {
    "execution": {
     "iopub.execute_input": "2025-04-09T14:15:14.179794Z",
     "iopub.status.busy": "2025-04-09T14:15:14.179794Z",
     "iopub.status.idle": "2025-04-09T14:15:14.184622Z",
     "shell.execute_reply": "2025-04-09T14:15:14.183532Z"
    },
    "papermill": {
     "duration": 0.017185,
     "end_time": "2025-04-09T14:15:14.185914",
     "exception": false,
     "start_time": "2025-04-09T14:15:14.168729",
     "status": "completed"
    },
    "tags": [
     "injected-parameters"
    ]
   },
   "outputs": [],
   "source": [
    "# Parameters\n",
    "YEAR = 2024\n",
    "SAVE_OUTPUT = True\n"
   ]
  },
  {
   "cell_type": "code",
   "execution_count": 3,
   "id": "056bd8e0",
   "metadata": {
    "execution": {
     "iopub.execute_input": "2025-04-09T14:15:14.202887Z",
     "iopub.status.busy": "2025-04-09T14:15:14.202887Z",
     "iopub.status.idle": "2025-04-09T14:15:16.149690Z",
     "shell.execute_reply": "2025-04-09T14:15:16.149185Z"
    },
    "papermill": {
     "duration": 1.955782,
     "end_time": "2025-04-09T14:15:16.150196",
     "exception": false,
     "start_time": "2025-04-09T14:15:14.194414",
     "status": "completed"
    },
    "tags": []
   },
   "outputs": [],
   "source": [
    "# import necessary library\n",
    "import pandas as pd\n",
    "import geopandas as gpd\n",
    "import geoarrow.pandas as _\n",
    "from pathlib import Path\n",
    "import plotly.express as px\n",
    "from matplotlib import pyplot as plt\n",
    "\n",
    "from shapely.geometry import shape\n",
    "from shapely.ops import nearest_points\n",
    "\n"
   ]
  },
  {
   "cell_type": "code",
   "execution_count": 4,
   "id": "0b3d9c5c",
   "metadata": {
    "execution": {
     "iopub.execute_input": "2025-04-09T14:15:16.169035Z",
     "iopub.status.busy": "2025-04-09T14:15:16.169035Z",
     "iopub.status.idle": "2025-04-09T14:15:16.178913Z",
     "shell.execute_reply": "2025-04-09T14:15:16.177905Z"
    },
    "papermill": {
     "duration": 0.020943,
     "end_time": "2025-04-09T14:15:16.178913",
     "exception": false,
     "start_time": "2025-04-09T14:15:16.157970",
     "status": "completed"
    },
    "tags": []
   },
   "outputs": [],
   "source": [
    "#Useful functions\n",
    "# Define an empty DataFrame to store the summary\n",
    "summary_df = pd.DataFrame(columns=['DataFrame Name', 'Number of Stations', 'Number of Observations', 'Flagged observations'])\n",
    "\n",
    "def calculate_station_observation_summary(df,flagged, df_name):\n",
    "    global summary_df  # Access the global DataFrame\n",
    "    \n",
    "    # Calculate the number of stations\n",
    "    num_stations = df['Id_aforament'].nunique()\n",
    "    \n",
    "    # Calculate the number of observations\n",
    "    num_flagged = flagged.shape[0]\n",
    "    num_observations = df.shape[0]\n",
    "    \n",
    "    # Append the summary information to the DataFrame\n",
    "\n",
    "\n",
    "    # Inserting the new row\n",
    "    summary_df.loc[len(summary_df)] = {'DataFrame Name': df_name, 'Number of Stations': num_stations,'Number of Observations': num_observations, 'Flagged observations': num_flagged}\n",
    "    # Print the summary\n",
    "    print('DataFrame Name: ',df_name)\n",
    "    print('Number of stations: ',num_stations)\n",
    "    print('Number of observations: ',num_observations)\n",
    "    #if(num_flagged!=0 and num_observations!=0):\n",
    "    print('Percetage of flagged observations',round((num_flagged/num_observations)*100,4),'%')\n",
    "\n",
    "\n",
    "def interquantile_range(serie):\n",
    "    # Calculate quartiles\n",
    "    Q1 = serie.quantile(0.25)\n",
    "    Q3 = serie.quantile(0.75)\n",
    "\n",
    "    # Calculate IQR\n",
    "    IQR = Q3 - Q1\n",
    "\n",
    "    # Define thresholds for mild outliers\n",
    "    mild_lower_bound = Q1 - 1.5 * IQR\n",
    "    mild_upper_bound = Q3 + 1.5 * IQR\n",
    "\n",
    "    # Define thresholds for severe outliers\n",
    "    severe_lower_bound = Q1 - 3 * IQR\n",
    "    severe_upper_bound = Q3 + 3 * IQR\n",
    "    print('Mild lower bound:',mild_lower_bound,'Mild upper bound:',mild_upper_bound,'Severe lower bound:',severe_lower_bound,'Severe upper bound:',severe_upper_bound)\n",
    "    return mild_lower_bound, mild_upper_bound, severe_lower_bound, severe_upper_bound"
   ]
  },
  {
   "cell_type": "markdown",
   "id": "2c8c2f6e",
   "metadata": {
    "papermill": {
     "duration": 0.007211,
     "end_time": "2025-04-09T14:15:16.196818",
     "exception": false,
     "start_time": "2025-04-09T14:15:16.189607",
     "status": "completed"
    },
    "tags": []
   },
   "source": [
    "## Load data"
   ]
  },
  {
   "cell_type": "code",
   "execution_count": 5,
   "id": "0e637ff5",
   "metadata": {
    "execution": {
     "iopub.execute_input": "2025-04-09T14:15:16.216540Z",
     "iopub.status.busy": "2025-04-09T14:15:16.216540Z",
     "iopub.status.idle": "2025-04-09T14:15:19.999334Z",
     "shell.execute_reply": "2025-04-09T14:15:19.999334Z"
    },
    "papermill": {
     "duration": 3.792707,
     "end_time": "2025-04-09T14:15:20.000840",
     "exception": false,
     "start_time": "2025-04-09T14:15:16.208133",
     "status": "completed"
    },
    "tags": []
   },
   "outputs": [],
   "source": [
    "# load data\n",
    "observations = pd.read_parquet(Path(INPUT_DATA_PATH) /'observations_clean.parquet')"
   ]
  },
  {
   "cell_type": "markdown",
   "id": "db460de6",
   "metadata": {
    "papermill": {
     "duration": 0.012655,
     "end_time": "2025-04-09T14:15:20.020226",
     "exception": false,
     "start_time": "2025-04-09T14:15:20.007571",
     "status": "completed"
    },
    "tags": []
   },
   "source": [
    "# Data management\n"
   ]
  },
  {
   "cell_type": "code",
   "execution_count": 6,
   "id": "21f83f6f",
   "metadata": {
    "execution": {
     "iopub.execute_input": "2025-04-09T14:15:20.040683Z",
     "iopub.status.busy": "2025-04-09T14:15:20.040683Z",
     "iopub.status.idle": "2025-04-09T14:15:22.139295Z",
     "shell.execute_reply": "2025-04-09T14:15:22.139295Z"
    },
    "papermill": {
     "duration": 2.113825,
     "end_time": "2025-04-09T14:15:22.142365",
     "exception": false,
     "start_time": "2025-04-09T14:15:20.028540",
     "status": "completed"
    },
    "tags": []
   },
   "outputs": [],
   "source": [
    "observations = observations[observations['date'].dt.year == YEAR]\n",
    "observations[\"year\"] = observations['date'].dt.year \n"
   ]
  },
  {
   "cell_type": "code",
   "execution_count": 7,
   "id": "3adf7864",
   "metadata": {
    "execution": {
     "iopub.execute_input": "2025-04-09T14:15:22.159088Z",
     "iopub.status.busy": "2025-04-09T14:15:22.159088Z",
     "iopub.status.idle": "2025-04-09T14:15:27.126721Z",
     "shell.execute_reply": "2025-04-09T14:15:27.126721Z"
    },
    "papermill": {
     "duration": 4.975854,
     "end_time": "2025-04-09T14:15:27.126721",
     "exception": false,
     "start_time": "2025-04-09T14:15:22.150867",
     "status": "completed"
    },
    "tags": []
   },
   "outputs": [
    {
     "name": "stdout",
     "output_type": "stream",
     "text": [
      "hour_count\n",
      "4    3119853\n",
      "3      12171\n",
      "2       5263\n",
      "1       3571\n",
      "Name: count, dtype: int64\n"
     ]
    }
   ],
   "source": [
    "# aggregate by hour\n",
    "observations_number= observations.shape[0]\n",
    "observations['hour_count'] = 1 \n",
    "observations['hour'] = observations['hour'].apply(lambda x: x.split(':')[0])\n",
    "observations = observations.groupby(['Id_aforament','date','hour']).agg({'intensity':'sum',\"hour_count\":'sum'}).reset_index()\n",
    "hour_count_4 = observations[observations[\"hour_count\"] == 4].shape[0]\n",
    "hour_count_3 = observations[observations[\"hour_count\"] == 3].shape[0]\n",
    "hour_count_2 = observations[observations[\"hour_count\"] == 2].shape[0]\n",
    "hour_count_1 = observations[observations[\"hour_count\"] == 1].shape[0]\n",
    "print(observations[\"hour_count\"].value_counts())\n",
    "\n",
    "observations=observations[observations[\"hour_count\"] >= 2]\n",
    "observations.drop(columns=[\"hour_count\"],inplace=True)\n"
   ]
  },
  {
   "cell_type": "code",
   "execution_count": 8,
   "id": "9f4bcef4",
   "metadata": {
    "execution": {
     "iopub.execute_input": "2025-04-09T14:15:27.145647Z",
     "iopub.status.busy": "2025-04-09T14:15:27.145647Z",
     "iopub.status.idle": "2025-04-09T14:15:27.161191Z",
     "shell.execute_reply": "2025-04-09T14:15:27.161191Z"
    },
    "papermill": {
     "duration": 0.026358,
     "end_time": "2025-04-09T14:15:27.163480",
     "exception": false,
     "start_time": "2025-04-09T14:15:27.137122",
     "status": "completed"
    },
    "tags": []
   },
   "outputs": [
    {
     "name": "stdout",
     "output_type": "stream",
     "text": [
      "(3137287, 4)\n",
      "Index(['Id_aforament', 'date', 'hour', 'intensity'], dtype='object')\n"
     ]
    },
    {
     "data": {
      "text/html": [
       "<div>\n",
       "<style scoped>\n",
       "    .dataframe tbody tr th:only-of-type {\n",
       "        vertical-align: middle;\n",
       "    }\n",
       "\n",
       "    .dataframe tbody tr th {\n",
       "        vertical-align: top;\n",
       "    }\n",
       "\n",
       "    .dataframe thead th {\n",
       "        text-align: right;\n",
       "    }\n",
       "</style>\n",
       "<table border=\"1\" class=\"dataframe\">\n",
       "  <thead>\n",
       "    <tr style=\"text-align: right;\">\n",
       "      <th></th>\n",
       "      <th>Id_aforament</th>\n",
       "      <th>date</th>\n",
       "      <th>hour</th>\n",
       "      <th>intensity</th>\n",
       "    </tr>\n",
       "  </thead>\n",
       "  <tbody>\n",
       "    <tr>\n",
       "      <th>0</th>\n",
       "      <td>20001</td>\n",
       "      <td>2024-01-01</td>\n",
       "      <td>00</td>\n",
       "      <td>126.0</td>\n",
       "    </tr>\n",
       "    <tr>\n",
       "      <th>1</th>\n",
       "      <td>20001</td>\n",
       "      <td>2024-01-01</td>\n",
       "      <td>01</td>\n",
       "      <td>138.0</td>\n",
       "    </tr>\n",
       "    <tr>\n",
       "      <th>2</th>\n",
       "      <td>20001</td>\n",
       "      <td>2024-01-01</td>\n",
       "      <td>02</td>\n",
       "      <td>103.0</td>\n",
       "    </tr>\n",
       "    <tr>\n",
       "      <th>3</th>\n",
       "      <td>20001</td>\n",
       "      <td>2024-01-01</td>\n",
       "      <td>03</td>\n",
       "      <td>95.0</td>\n",
       "    </tr>\n",
       "    <tr>\n",
       "      <th>4</th>\n",
       "      <td>20001</td>\n",
       "      <td>2024-01-01</td>\n",
       "      <td>04</td>\n",
       "      <td>76.0</td>\n",
       "    </tr>\n",
       "  </tbody>\n",
       "</table>\n",
       "</div>"
      ],
      "text/plain": [
       "   Id_aforament       date hour  intensity\n",
       "0         20001 2024-01-01   00      126.0\n",
       "1         20001 2024-01-01   01      138.0\n",
       "2         20001 2024-01-01   02      103.0\n",
       "3         20001 2024-01-01   03       95.0\n",
       "4         20001 2024-01-01   04       76.0"
      ]
     },
     "execution_count": 8,
     "metadata": {},
     "output_type": "execute_result"
    }
   ],
   "source": [
    "print(observations.shape)\n",
    "print(observations.columns)\n",
    "observations.head()\n",
    "# 393210.25"
   ]
  },
  {
   "cell_type": "markdown",
   "id": "d3f7bf0c",
   "metadata": {
    "papermill": {
     "duration": 0.008192,
     "end_time": "2025-04-09T14:15:27.178952",
     "exception": false,
     "start_time": "2025-04-09T14:15:27.170760",
     "status": "completed"
    },
    "tags": []
   },
   "source": [
    "## 1: Site-hours with Prolonged Zero Counts\n",
    "\n",
    "After it, it has been plotted and it has been decided to use **90h** as the threshold. It has been decided to do so after comparing the following tresholds and counts.\n",
    "\n",
    "### Objective\n",
    "Flag site-hours with X hours or more of consecutive zeros."
   ]
  },
  {
   "cell_type": "code",
   "execution_count": 9,
   "id": "5ac0e764",
   "metadata": {
    "execution": {
     "iopub.execute_input": "2025-04-09T14:15:27.195840Z",
     "iopub.status.busy": "2025-04-09T14:15:27.195840Z",
     "iopub.status.idle": "2025-04-09T14:15:27.223043Z",
     "shell.execute_reply": "2025-04-09T14:15:27.223043Z"
    },
    "papermill": {
     "duration": 0.036955,
     "end_time": "2025-04-09T14:15:27.224561",
     "exception": false,
     "start_time": "2025-04-09T14:15:27.187606",
     "status": "completed"
    },
    "tags": []
   },
   "outputs": [
    {
     "name": "stdout",
     "output_type": "stream",
     "text": [
      "(3137287, 4)\n"
     ]
    },
    {
     "data": {
      "text/html": [
       "<div>\n",
       "<style scoped>\n",
       "    .dataframe tbody tr th:only-of-type {\n",
       "        vertical-align: middle;\n",
       "    }\n",
       "\n",
       "    .dataframe tbody tr th {\n",
       "        vertical-align: top;\n",
       "    }\n",
       "\n",
       "    .dataframe thead th {\n",
       "        text-align: right;\n",
       "    }\n",
       "</style>\n",
       "<table border=\"1\" class=\"dataframe\">\n",
       "  <thead>\n",
       "    <tr style=\"text-align: right;\">\n",
       "      <th></th>\n",
       "      <th>Id_aforament</th>\n",
       "      <th>date</th>\n",
       "      <th>hour</th>\n",
       "      <th>intensity</th>\n",
       "    </tr>\n",
       "  </thead>\n",
       "  <tbody>\n",
       "    <tr>\n",
       "      <th>0</th>\n",
       "      <td>20001</td>\n",
       "      <td>2024-01-01</td>\n",
       "      <td>00</td>\n",
       "      <td>126.0</td>\n",
       "    </tr>\n",
       "    <tr>\n",
       "      <th>1</th>\n",
       "      <td>20001</td>\n",
       "      <td>2024-01-01</td>\n",
       "      <td>01</td>\n",
       "      <td>138.0</td>\n",
       "    </tr>\n",
       "    <tr>\n",
       "      <th>2</th>\n",
       "      <td>20001</td>\n",
       "      <td>2024-01-01</td>\n",
       "      <td>02</td>\n",
       "      <td>103.0</td>\n",
       "    </tr>\n",
       "    <tr>\n",
       "      <th>3</th>\n",
       "      <td>20001</td>\n",
       "      <td>2024-01-01</td>\n",
       "      <td>03</td>\n",
       "      <td>95.0</td>\n",
       "    </tr>\n",
       "    <tr>\n",
       "      <th>4</th>\n",
       "      <td>20001</td>\n",
       "      <td>2024-01-01</td>\n",
       "      <td>04</td>\n",
       "      <td>76.0</td>\n",
       "    </tr>\n",
       "  </tbody>\n",
       "</table>\n",
       "</div>"
      ],
      "text/plain": [
       "   Id_aforament       date hour  intensity\n",
       "0         20001 2024-01-01   00      126.0\n",
       "1         20001 2024-01-01   01      138.0\n",
       "2         20001 2024-01-01   02      103.0\n",
       "3         20001 2024-01-01   03       95.0\n",
       "4         20001 2024-01-01   04       76.0"
      ]
     },
     "execution_count": 9,
     "metadata": {},
     "output_type": "execute_result"
    }
   ],
   "source": [
    "#The data has been \n",
    "data1=observations.copy()\n",
    "print(data1.shape)\n",
    "data1.head()\n"
   ]
  },
  {
   "cell_type": "code",
   "execution_count": 10,
   "id": "29262d62",
   "metadata": {
    "execution": {
     "iopub.execute_input": "2025-04-09T14:15:27.247904Z",
     "iopub.status.busy": "2025-04-09T14:15:27.247904Z",
     "iopub.status.idle": "2025-04-09T14:15:27.253401Z",
     "shell.execute_reply": "2025-04-09T14:15:27.253401Z"
    },
    "papermill": {
     "duration": 0.017344,
     "end_time": "2025-04-09T14:15:27.254405",
     "exception": false,
     "start_time": "2025-04-09T14:15:27.237061",
     "status": "completed"
    },
    "tags": []
   },
   "outputs": [],
   "source": [
    "def flag_rolling_cumulative_zeros(df, time_column, value_column, site_column, threshold=48):\n",
    "\n",
    "    # Initialize a flag column to mark rows where the rolling cumulative sum of the previous 25 or more rows has consecutive zeros\n",
    "    df['flag'] = False\n",
    "\n",
    "    # Group DataFrame by site and year\n",
    "    grouped_df = df.groupby([site_column])\n",
    "\n",
    "    for (site), group_data in grouped_df:\n",
    "        rolling_cumulative_zeros = group_data[value_column].rolling(window=threshold, min_periods=1).sum()\n",
    "\n",
    "        # Update the flag column based on the rolling cumulative sum\n",
    "        df.loc[rolling_cumulative_zeros[rolling_cumulative_zeros == 0].index, 'flag'] = True\n",
    "\n",
    "    # Return flagged and non-flagged rows\n",
    "    flagged_rows = df[df['flag'] == True].copy()  # Use copy to avoid SettingWithCopyWarning\n",
    "    non_flagged_rows = df[df['flag'] == False].copy()  # Use copy to avoid SettingWithCopyWarning\n",
    "\n",
    "    # Drop the intermediate columns if needed\n",
    "    df = df.drop([ 'flag'], axis=1)\n",
    "    #flagged_rows = flagged_rows.drop(['year', 'flag'], axis=1)\n",
    "    #non_flagged_rows = non_flagged_rows.drop(['year', 'flag'], axis=1)\n",
    "\n",
    "    return non_flagged_rows,flagged_rows"
   ]
  },
  {
   "cell_type": "code",
   "execution_count": 11,
   "id": "99dc72c5",
   "metadata": {
    "execution": {
     "iopub.execute_input": "2025-04-09T14:15:27.275320Z",
     "iopub.status.busy": "2025-04-09T14:15:27.275320Z",
     "iopub.status.idle": "2025-04-09T14:15:27.897490Z",
     "shell.execute_reply": "2025-04-09T14:15:27.897490Z"
    },
    "papermill": {
     "duration": 0.634247,
     "end_time": "2025-04-09T14:15:27.899307",
     "exception": false,
     "start_time": "2025-04-09T14:15:27.265060",
     "status": "completed"
    },
    "tags": []
   },
   "outputs": [
    {
     "name": "stdout",
     "output_type": "stream",
     "text": [
      "DataFrame Name:  Task1\n",
      "Number of stations:  381\n",
      "Number of observations:  3026765\n",
      "Percetage of flagged observations 3.6515 %\n"
     ]
    }
   ],
   "source": [
    "non_flagged_rows,flagged_rows = flag_rolling_cumulative_zeros(data1, 'timestamp', 'intensity', 'Id_aforament', threshold=90)\n",
    "# lets calculate how many hours of data flagged\n",
    "calculate_station_observation_summary(non_flagged_rows,flagged_rows,'Task1')"
   ]
  },
  {
   "cell_type": "code",
   "execution_count": 12,
   "id": "dcc9100e",
   "metadata": {
    "execution": {
     "iopub.execute_input": "2025-04-09T14:15:27.921033Z",
     "iopub.status.busy": "2025-04-09T14:15:27.921033Z",
     "iopub.status.idle": "2025-04-09T14:15:28.051700Z",
     "shell.execute_reply": "2025-04-09T14:15:28.051700Z"
    },
    "papermill": {
     "duration": 0.142858,
     "end_time": "2025-04-09T14:15:28.051700",
     "exception": false,
     "start_time": "2025-04-09T14:15:27.908842",
     "status": "completed"
    },
    "tags": []
   },
   "outputs": [
    {
     "name": "stdout",
     "output_type": "stream",
     "text": [
      "\n",
      "\n",
      "Number of flagged rows: 110522 Number of non-flagged rows: 3026765 Total rows: 3137287 The sum of flagged and non-flagged rows is equal to the total rows: True\n",
      "\n",
      "\n",
      "The number of unique stations in the flagged rows: 98 The number of unique stations in the non-flagged rows: 381 The number of unique stations in the original data: 381\n",
      "\n",
      "\n",
      "count    3.026765e+06\n",
      "mean    -1.215823e+03\n",
      "std      2.468713e+06\n",
      "min     -4.294967e+09\n",
      "25%      3.600000e+01\n",
      "50%      1.080000e+02\n",
      "75%      2.520000e+02\n",
      "max      2.138800e+04\n",
      "Name: intensity, dtype: float64\n",
      "\n",
      "\n",
      "count    110522.0\n",
      "mean          0.0\n",
      "std           0.0\n",
      "min           0.0\n",
      "25%           0.0\n",
      "50%           0.0\n",
      "75%           0.0\n",
      "max           0.0\n",
      "Name: intensity, dtype: float64\n"
     ]
    }
   ],
   "source": [
    "\n",
    "print(\"\\n\")\n",
    "# Print the number of flagged and non-flagged rows\n",
    "print('Number of flagged rows:', flagged_rows.shape[0], 'Number of non-flagged rows:', non_flagged_rows.shape[0], 'Total rows:', data1.shape[0], 'The sum of flagged and non-flagged rows is equal to the total rows:', flagged_rows.shape[0] + non_flagged_rows.shape[0] == data1.shape[0])\n",
    "print(\"\\n\")\n",
    "\n",
    "#Check if the number of unique stations is the same\n",
    "print( 'The number of unique stations in the flagged rows:', flagged_rows['Id_aforament'].nunique(), 'The number of unique stations in the non-flagged rows:', non_flagged_rows['Id_aforament'].nunique(), 'The number of unique stations in the original data:', data1['Id_aforament'].nunique())\n",
    "print(\"\\n\")\n",
    "\n",
    "# Print the summary statistics for the 'intensity' column\n",
    "print(non_flagged_rows['intensity'].describe())\n",
    "print(\"\\n\")\n",
    "\n",
    "print(flagged_rows['intensity'].describe())"
   ]
  },
  {
   "cell_type": "markdown",
   "id": "4a3e7b3c",
   "metadata": {
    "papermill": {
     "duration": 0.008023,
     "end_time": "2025-04-09T14:15:28.070911",
     "exception": false,
     "start_time": "2025-04-09T14:15:28.062888",
     "status": "completed"
    },
    "tags": []
   },
   "source": [
    "\n",
    "## 2: Site-hours with Repeated Identical Values\n",
    "\n",
    "### Objective\n",
    "Flag site-hours with six or more identical hourly values exceeding five.\n",
    "\n",
    "\n"
   ]
  },
  {
   "cell_type": "code",
   "execution_count": 13,
   "id": "4e810fcf",
   "metadata": {
    "execution": {
     "iopub.execute_input": "2025-04-09T14:15:28.088833Z",
     "iopub.status.busy": "2025-04-09T14:15:28.087190Z",
     "iopub.status.idle": "2025-04-09T14:15:28.155521Z",
     "shell.execute_reply": "2025-04-09T14:15:28.155521Z"
    },
    "papermill": {
     "duration": 0.076965,
     "end_time": "2025-04-09T14:15:28.157027",
     "exception": false,
     "start_time": "2025-04-09T14:15:28.080062",
     "status": "completed"
    },
    "tags": []
   },
   "outputs": [
    {
     "name": "stdout",
     "output_type": "stream",
     "text": [
      "(3026765, 4)\n"
     ]
    },
    {
     "data": {
      "text/html": [
       "<div>\n",
       "<style scoped>\n",
       "    .dataframe tbody tr th:only-of-type {\n",
       "        vertical-align: middle;\n",
       "    }\n",
       "\n",
       "    .dataframe tbody tr th {\n",
       "        vertical-align: top;\n",
       "    }\n",
       "\n",
       "    .dataframe thead th {\n",
       "        text-align: right;\n",
       "    }\n",
       "</style>\n",
       "<table border=\"1\" class=\"dataframe\">\n",
       "  <thead>\n",
       "    <tr style=\"text-align: right;\">\n",
       "      <th></th>\n",
       "      <th>Id_aforament</th>\n",
       "      <th>date</th>\n",
       "      <th>hour</th>\n",
       "      <th>intensity</th>\n",
       "    </tr>\n",
       "  </thead>\n",
       "  <tbody>\n",
       "    <tr>\n",
       "      <th>0</th>\n",
       "      <td>20001</td>\n",
       "      <td>2024-01-01</td>\n",
       "      <td>00</td>\n",
       "      <td>126.0</td>\n",
       "    </tr>\n",
       "    <tr>\n",
       "      <th>1</th>\n",
       "      <td>20001</td>\n",
       "      <td>2024-01-01</td>\n",
       "      <td>01</td>\n",
       "      <td>138.0</td>\n",
       "    </tr>\n",
       "    <tr>\n",
       "      <th>2</th>\n",
       "      <td>20001</td>\n",
       "      <td>2024-01-01</td>\n",
       "      <td>02</td>\n",
       "      <td>103.0</td>\n",
       "    </tr>\n",
       "    <tr>\n",
       "      <th>3</th>\n",
       "      <td>20001</td>\n",
       "      <td>2024-01-01</td>\n",
       "      <td>03</td>\n",
       "      <td>95.0</td>\n",
       "    </tr>\n",
       "    <tr>\n",
       "      <th>4</th>\n",
       "      <td>20001</td>\n",
       "      <td>2024-01-01</td>\n",
       "      <td>04</td>\n",
       "      <td>76.0</td>\n",
       "    </tr>\n",
       "  </tbody>\n",
       "</table>\n",
       "</div>"
      ],
      "text/plain": [
       "   Id_aforament       date hour  intensity\n",
       "0         20001 2024-01-01   00      126.0\n",
       "1         20001 2024-01-01   01      138.0\n",
       "2         20001 2024-01-01   02      103.0\n",
       "3         20001 2024-01-01   03       95.0\n",
       "4         20001 2024-01-01   04       76.0"
      ]
     },
     "execution_count": 13,
     "metadata": {},
     "output_type": "execute_result"
    }
   ],
   "source": [
    "# we will use the dataframe obtained from previous task for this task\n",
    "data2=non_flagged_rows.drop([ 'flag'],axis=1).copy()\n",
    "print(data2.shape)\n",
    "data2.head()"
   ]
  },
  {
   "cell_type": "code",
   "execution_count": 14,
   "id": "9a8c9942",
   "metadata": {
    "execution": {
     "iopub.execute_input": "2025-04-09T14:15:28.174374Z",
     "iopub.status.busy": "2025-04-09T14:15:28.174374Z",
     "iopub.status.idle": "2025-04-09T14:15:28.180771Z",
     "shell.execute_reply": "2025-04-09T14:15:28.180771Z"
    },
    "papermill": {
     "duration": 0.016764,
     "end_time": "2025-04-09T14:15:28.181927",
     "exception": false,
     "start_time": "2025-04-09T14:15:28.165163",
     "status": "completed"
    },
    "tags": []
   },
   "outputs": [],
   "source": [
    "# Function to flag 6 repeated consecutive identical values greater than 10 by each site\n",
    "def flag_values_equal_consecutive_values(df, hours, value):\n",
    "    df['flagged'] = False\n",
    "\n",
    "    for site in df['Id_aforament'].unique():\n",
    "        site_data = df[df['Id_aforament'] == site]\n",
    "        identical = (site_data['intensity'] == site_data['intensity'].shift(1)) & (site_data['intensity'] > value)\n",
    "        consecutive_counts = identical.rolling(window=hours, min_periods=hours).sum() == hours\n",
    "        \n",
    "        # Find the indices to flag\n",
    "        flag_indices = site_data[consecutive_counts].index\n",
    "\n",
    "        # Flag all positions in the window of 'hours' before and including the flagged positions\n",
    "        for idx in flag_indices:\n",
    "            df.loc[idx-hours+1:idx, 'flagged'] = True\n",
    "\n",
    "    flagged_rows = df[df['flagged'] == True].copy()\n",
    "    non_flagged_rows = df[df['flagged'] == False].copy()\n",
    "\n",
    "    df.drop(['flagged'], axis=1, inplace=True)\n",
    "\n",
    "    return non_flagged_rows,flagged_rows"
   ]
  },
  {
   "cell_type": "code",
   "execution_count": 15,
   "id": "47497568",
   "metadata": {
    "execution": {
     "iopub.execute_input": "2025-04-09T14:15:28.199005Z",
     "iopub.status.busy": "2025-04-09T14:15:28.199005Z",
     "iopub.status.idle": "2025-04-09T14:15:29.452902Z",
     "shell.execute_reply": "2025-04-09T14:15:29.452902Z"
    },
    "papermill": {
     "duration": 1.263593,
     "end_time": "2025-04-09T14:15:29.455048",
     "exception": false,
     "start_time": "2025-04-09T14:15:28.191455",
     "status": "completed"
    },
    "tags": []
   },
   "outputs": [
    {
     "name": "stdout",
     "output_type": "stream",
     "text": [
      "DataFrame Name:  Task2\n",
      "Number of stations:  381\n",
      "Number of observations:  3026765\n",
      "Percetage of flagged observations 0.0 %\n"
     ]
    }
   ],
   "source": [
    "non_flagged_rows,flagged_rows= flag_values_equal_consecutive_values(data2.copy(), 6, 5)\n",
    "calculate_station_observation_summary(non_flagged_rows,flagged_rows,'Task2')\n"
   ]
  },
  {
   "cell_type": "markdown",
   "id": "7e800173",
   "metadata": {
    "papermill": {
     "duration": 0.008306,
     "end_time": "2025-04-09T14:15:29.472034",
     "exception": false,
     "start_time": "2025-04-09T14:15:29.463728",
     "status": "completed"
    },
    "tags": []
   },
   "source": [
    "## 3: Site-days with Time Discrepancies\n",
    "\n",
    "### Objective\n",
    "Examine site-days where 3 a.m. counts surpass counts at 3 p.m., provided the 3 p.m. count exceeds 2.\n",
    "\n"
   ]
  },
  {
   "cell_type": "code",
   "execution_count": 16,
   "id": "9642c1e0",
   "metadata": {
    "execution": {
     "iopub.execute_input": "2025-04-09T14:15:29.493120Z",
     "iopub.status.busy": "2025-04-09T14:15:29.490086Z",
     "iopub.status.idle": "2025-04-09T14:15:29.559978Z",
     "shell.execute_reply": "2025-04-09T14:15:29.559978Z"
    },
    "papermill": {
     "duration": 0.079138,
     "end_time": "2025-04-09T14:15:29.559978",
     "exception": false,
     "start_time": "2025-04-09T14:15:29.480840",
     "status": "completed"
    },
    "tags": []
   },
   "outputs": [
    {
     "name": "stdout",
     "output_type": "stream",
     "text": [
      "(3026765, 4)\n"
     ]
    },
    {
     "data": {
      "text/html": [
       "<div>\n",
       "<style scoped>\n",
       "    .dataframe tbody tr th:only-of-type {\n",
       "        vertical-align: middle;\n",
       "    }\n",
       "\n",
       "    .dataframe tbody tr th {\n",
       "        vertical-align: top;\n",
       "    }\n",
       "\n",
       "    .dataframe thead th {\n",
       "        text-align: right;\n",
       "    }\n",
       "</style>\n",
       "<table border=\"1\" class=\"dataframe\">\n",
       "  <thead>\n",
       "    <tr style=\"text-align: right;\">\n",
       "      <th></th>\n",
       "      <th>Id_aforament</th>\n",
       "      <th>date</th>\n",
       "      <th>hour</th>\n",
       "      <th>intensity</th>\n",
       "    </tr>\n",
       "  </thead>\n",
       "  <tbody>\n",
       "    <tr>\n",
       "      <th>0</th>\n",
       "      <td>20001</td>\n",
       "      <td>2024-01-01</td>\n",
       "      <td>00</td>\n",
       "      <td>126.0</td>\n",
       "    </tr>\n",
       "    <tr>\n",
       "      <th>1</th>\n",
       "      <td>20001</td>\n",
       "      <td>2024-01-01</td>\n",
       "      <td>01</td>\n",
       "      <td>138.0</td>\n",
       "    </tr>\n",
       "    <tr>\n",
       "      <th>2</th>\n",
       "      <td>20001</td>\n",
       "      <td>2024-01-01</td>\n",
       "      <td>02</td>\n",
       "      <td>103.0</td>\n",
       "    </tr>\n",
       "    <tr>\n",
       "      <th>3</th>\n",
       "      <td>20001</td>\n",
       "      <td>2024-01-01</td>\n",
       "      <td>03</td>\n",
       "      <td>95.0</td>\n",
       "    </tr>\n",
       "    <tr>\n",
       "      <th>4</th>\n",
       "      <td>20001</td>\n",
       "      <td>2024-01-01</td>\n",
       "      <td>04</td>\n",
       "      <td>76.0</td>\n",
       "    </tr>\n",
       "  </tbody>\n",
       "</table>\n",
       "</div>"
      ],
      "text/plain": [
       "   Id_aforament       date hour  intensity\n",
       "0         20001 2024-01-01   00      126.0\n",
       "1         20001 2024-01-01   01      138.0\n",
       "2         20001 2024-01-01   02      103.0\n",
       "3         20001 2024-01-01   03       95.0\n",
       "4         20001 2024-01-01   04       76.0"
      ]
     },
     "execution_count": 16,
     "metadata": {},
     "output_type": "execute_result"
    }
   ],
   "source": [
    "# we will use the dataframe obtained from previous task for this task\n",
    "data3=non_flagged_rows.drop(['flagged'],axis=1).copy()\n",
    "print(data3.shape)\n",
    "data3.head()"
   ]
  },
  {
   "cell_type": "code",
   "execution_count": 17,
   "id": "22d47e26",
   "metadata": {
    "execution": {
     "iopub.execute_input": "2025-04-09T14:15:29.581758Z",
     "iopub.status.busy": "2025-04-09T14:15:29.581758Z",
     "iopub.status.idle": "2025-04-09T14:15:29.588233Z",
     "shell.execute_reply": "2025-04-09T14:15:29.588233Z"
    },
    "papermill": {
     "duration": 0.018395,
     "end_time": "2025-04-09T14:15:29.590205",
     "exception": false,
     "start_time": "2025-04-09T14:15:29.571810",
     "status": "completed"
    },
    "tags": []
   },
   "outputs": [],
   "source": [
    "# Function to flag 6 repeated consecutive identical values greater than 10 by each site\n",
    "def flag_values_3am_3pm(df):\n",
    "    # Filter the DataFrame to keep only rows where the time is '3:00 AM'\n",
    "    df_3am = df[df['hour'] == 3]\n",
    "\n",
    "    # Filter the DataFrame to keep only rows where the time is '3:00 PM' and the count is greater than 2\n",
    "    df_3pm = df[(df['hour'] == 15) & (df['intensity'] > 2)]\n",
    "\n",
    "    # Merge the filtered DataFrames on 'day', 'month', 'year', and 'site'\n",
    "    merged_data = pd.merge(df_3am, df_3pm, on=['Id_aforament',  'date'], suffixes=('_3am', '_3pm'))\n",
    "\n",
    "    # Filter the merged DataFrame to keep only rows where the count at 3 AM is greater than the count at 3 PM\n",
    "    flagged_rows = merged_data[merged_data['intensity_3am'] > merged_data['intensity_3pm']]\n",
    "\n",
    "    # Get the date of the flagges rows\n",
    "    flagged_sites=flagged_rows[['Id_aforament', 'date']].copy()\n",
    "    flagged_sites['flagged']=True\n",
    "\n",
    "    # Merge the flagged sites with the original DataFrame\n",
    "    results=pd.merge(df,flagged_sites, on=['Id_aforament', 'date'], how='outer')\n",
    "    results['flagged'] = results['flagged'].fillna(False)\n",
    "\n",
    "    # Return the flagged rows\n",
    "    flagged_rows = results[results['flagged'] == True].copy()\n",
    "\n",
    "    # Return the non-flagged rows\n",
    "    non_flagged_rows = results[results['flagged'] == False].copy()\n",
    "    \n",
    "    return non_flagged_rows,flagged_rows\n",
    "\n"
   ]
  },
  {
   "cell_type": "code",
   "execution_count": 18,
   "id": "91f03a83",
   "metadata": {
    "execution": {
     "iopub.execute_input": "2025-04-09T14:15:29.604481Z",
     "iopub.status.busy": "2025-04-09T14:15:29.604481Z",
     "iopub.status.idle": "2025-04-09T14:15:30.085830Z",
     "shell.execute_reply": "2025-04-09T14:15:30.085830Z"
    },
    "papermill": {
     "duration": 0.490719,
     "end_time": "2025-04-09T14:15:30.088352",
     "exception": false,
     "start_time": "2025-04-09T14:15:29.597633",
     "status": "completed"
    },
    "tags": []
   },
   "outputs": [
    {
     "name": "stdout",
     "output_type": "stream",
     "text": [
      "DataFrame Name:  Task3\n",
      "Number of stations:  381\n",
      "Number of observations:  3026765\n",
      "Percetage of flagged observations 0.0 %\n"
     ]
    }
   ],
   "source": [
    "non_flagged_rows,flagged_rows = flag_values_3am_3pm(data3.copy())\n",
    "calculate_station_observation_summary(non_flagged_rows,flagged_rows,'Task3')"
   ]
  },
  {
   "cell_type": "markdown",
   "id": "31c6e655",
   "metadata": {
    "papermill": {
     "duration": 0.009347,
     "end_time": "2025-04-09T14:15:30.105933",
     "exception": false,
     "start_time": "2025-04-09T14:15:30.096586",
     "status": "completed"
    },
    "tags": []
   },
   "source": [
    "## 4: Unusual Hourly Count Discrepancies\n",
    "\n",
    "### Objective\n",
    "Flag site hours with an hourly count at least 10 times larger than the count of the previous hour, provided the previous hour's count exceeds 15.\n"
   ]
  },
  {
   "cell_type": "code",
   "execution_count": 19,
   "id": "e30d54c5",
   "metadata": {
    "execution": {
     "iopub.execute_input": "2025-04-09T14:15:30.125965Z",
     "iopub.status.busy": "2025-04-09T14:15:30.125965Z",
     "iopub.status.idle": "2025-04-09T14:15:30.197999Z",
     "shell.execute_reply": "2025-04-09T14:15:30.197999Z"
    },
    "papermill": {
     "duration": 0.084484,
     "end_time": "2025-04-09T14:15:30.197999",
     "exception": false,
     "start_time": "2025-04-09T14:15:30.113515",
     "status": "completed"
    },
    "tags": []
   },
   "outputs": [
    {
     "name": "stdout",
     "output_type": "stream",
     "text": [
      "(3026765, 4)\n"
     ]
    },
    {
     "data": {
      "text/html": [
       "<div>\n",
       "<style scoped>\n",
       "    .dataframe tbody tr th:only-of-type {\n",
       "        vertical-align: middle;\n",
       "    }\n",
       "\n",
       "    .dataframe tbody tr th {\n",
       "        vertical-align: top;\n",
       "    }\n",
       "\n",
       "    .dataframe thead th {\n",
       "        text-align: right;\n",
       "    }\n",
       "</style>\n",
       "<table border=\"1\" class=\"dataframe\">\n",
       "  <thead>\n",
       "    <tr style=\"text-align: right;\">\n",
       "      <th></th>\n",
       "      <th>Id_aforament</th>\n",
       "      <th>date</th>\n",
       "      <th>hour</th>\n",
       "      <th>intensity</th>\n",
       "    </tr>\n",
       "  </thead>\n",
       "  <tbody>\n",
       "    <tr>\n",
       "      <th>0</th>\n",
       "      <td>20001</td>\n",
       "      <td>2024-01-01</td>\n",
       "      <td>00</td>\n",
       "      <td>126.0</td>\n",
       "    </tr>\n",
       "    <tr>\n",
       "      <th>1</th>\n",
       "      <td>20001</td>\n",
       "      <td>2024-01-01</td>\n",
       "      <td>01</td>\n",
       "      <td>138.0</td>\n",
       "    </tr>\n",
       "    <tr>\n",
       "      <th>2</th>\n",
       "      <td>20001</td>\n",
       "      <td>2024-01-01</td>\n",
       "      <td>02</td>\n",
       "      <td>103.0</td>\n",
       "    </tr>\n",
       "    <tr>\n",
       "      <th>3</th>\n",
       "      <td>20001</td>\n",
       "      <td>2024-01-01</td>\n",
       "      <td>03</td>\n",
       "      <td>95.0</td>\n",
       "    </tr>\n",
       "    <tr>\n",
       "      <th>4</th>\n",
       "      <td>20001</td>\n",
       "      <td>2024-01-01</td>\n",
       "      <td>04</td>\n",
       "      <td>76.0</td>\n",
       "    </tr>\n",
       "  </tbody>\n",
       "</table>\n",
       "</div>"
      ],
      "text/plain": [
       "   Id_aforament       date hour  intensity\n",
       "0         20001 2024-01-01   00      126.0\n",
       "1         20001 2024-01-01   01      138.0\n",
       "2         20001 2024-01-01   02      103.0\n",
       "3         20001 2024-01-01   03       95.0\n",
       "4         20001 2024-01-01   04       76.0"
      ]
     },
     "execution_count": 19,
     "metadata": {},
     "output_type": "execute_result"
    }
   ],
   "source": [
    "data4=non_flagged_rows.drop(['flagged'],axis=1).copy()\n",
    "print(data4.shape)\n",
    "data4.head()"
   ]
  },
  {
   "cell_type": "code",
   "execution_count": 20,
   "id": "6ee0a79e",
   "metadata": {
    "execution": {
     "iopub.execute_input": "2025-04-09T14:15:30.218228Z",
     "iopub.status.busy": "2025-04-09T14:15:30.218228Z",
     "iopub.status.idle": "2025-04-09T14:15:30.223392Z",
     "shell.execute_reply": "2025-04-09T14:15:30.223392Z"
    },
    "papermill": {
     "duration": 0.018171,
     "end_time": "2025-04-09T14:15:30.223392",
     "exception": false,
     "start_time": "2025-04-09T14:15:30.205221",
     "status": "completed"
    },
    "tags": []
   },
   "outputs": [],
   "source": [
    "def flag_unusual_increases(df):\n",
    "\n",
    "    # Sort the DataFrame by 'Id_aforament', 'date'', and 'hour'\n",
    "    df.sort_values(by=['Id_aforament','date', 'hour'], inplace=True)\n",
    "    # Calculate the previous hour's count\n",
    "    df['prev_hour_count'] = df.groupby(['Id_aforament','date', 'hour'])['intensity'].shift(1)\n",
    "\n",
    "    # Flag the rows where one hourly count is at least ten times larger than the previous hour’s count\n",
    "    df['flagged'] = (df['intensity'] >= 10 * df['prev_hour_count']) & (df['prev_hour_count'] > 15)\n",
    "\n",
    "    # Display the flagged rows\n",
    "    flagged_rows = df.loc[df['flagged']==True]\n",
    "    non_flagged_rows = df.loc[df['flagged']==False]\n",
    "    print('Number of flagged rows:', flagged_rows.shape[0], 'Number of non-flagged rows:', non_flagged_rows.shape[0], 'Total rows:', df.shape[0], 'The sum of flagged and non-flagged rows is equal to the total rows:', flagged_rows.shape[0] + non_flagged_rows.shape[0] == df.shape[0])\n",
    "    return non_flagged_rows,flagged_rows\n"
   ]
  },
  {
   "cell_type": "code",
   "execution_count": 21,
   "id": "0468f4a8",
   "metadata": {
    "execution": {
     "iopub.execute_input": "2025-04-09T14:15:30.243335Z",
     "iopub.status.busy": "2025-04-09T14:15:30.243335Z",
     "iopub.status.idle": "2025-04-09T14:15:31.204712Z",
     "shell.execute_reply": "2025-04-09T14:15:31.204178Z"
    },
    "papermill": {
     "duration": 0.971277,
     "end_time": "2025-04-09T14:15:31.204712",
     "exception": false,
     "start_time": "2025-04-09T14:15:30.233435",
     "status": "completed"
    },
    "tags": []
   },
   "outputs": [
    {
     "name": "stdout",
     "output_type": "stream",
     "text": [
      "Number of flagged rows: 0 Number of non-flagged rows: 3026765 Total rows: 3026765 The sum of flagged and non-flagged rows is equal to the total rows: True\n",
      "DataFrame Name:  Task4\n",
      "Number of stations:  381\n",
      "Number of observations:  3026765\n",
      "Percetage of flagged observations 0.0 %\n"
     ]
    }
   ],
   "source": [
    "non_flagged_rows,flagged_rows = flag_unusual_increases(data4.copy())\n",
    "calculate_station_observation_summary(non_flagged_rows,flagged_rows,'Task4')\n"
   ]
  },
  {
   "cell_type": "markdown",
   "id": "866f3e1a",
   "metadata": {
    "papermill": {
     "duration": 0.008862,
     "end_time": "2025-04-09T14:15:31.224175",
     "exception": false,
     "start_time": "2025-04-09T14:15:31.215313",
     "status": "completed"
    },
    "tags": []
   },
   "source": [
    "## 5: Threshold for High Hourly Counts\n",
    "\n",
    "### Objective\n",
    "Flag site-hourly counts exceeding X bicyclists.\n",
    "\n",
    "We evaluated the upper bounds using the elbow method and determined 885 as a reasonable threshold. The lower bounds were not considered due to negative values.\n"
   ]
  },
  {
   "cell_type": "code",
   "execution_count": 22,
   "id": "e18f707f",
   "metadata": {
    "execution": {
     "iopub.execute_input": "2025-04-09T14:15:31.242707Z",
     "iopub.status.busy": "2025-04-09T14:15:31.242707Z",
     "iopub.status.idle": "2025-04-09T14:15:31.403694Z",
     "shell.execute_reply": "2025-04-09T14:15:31.403694Z"
    },
    "papermill": {
     "duration": 0.174873,
     "end_time": "2025-04-09T14:15:31.406654",
     "exception": false,
     "start_time": "2025-04-09T14:15:31.231781",
     "status": "completed"
    },
    "tags": []
   },
   "outputs": [
    {
     "name": "stdout",
     "output_type": "stream",
     "text": [
      "(3026765, 5)\n"
     ]
    },
    {
     "name": "stdout",
     "output_type": "stream",
     "text": [
      "Mild lower bound: -288.0 Mild upper bound: 576.0 Severe lower bound: -612.0 Severe upper bound: 900.0\n"
     ]
    }
   ],
   "source": [
    "data5=non_flagged_rows.drop(['flagged'],axis=1).copy()\n",
    "print(data5.shape)\n",
    "data5.head()\n",
    "mild_lower_bound, mild_upper_bound, severe_lower_bound, severe_upper_bound=interquantile_range(data5['intensity'])"
   ]
  },
  {
   "cell_type": "code",
   "execution_count": 23,
   "id": "5de8d660",
   "metadata": {
    "execution": {
     "iopub.execute_input": "2025-04-09T14:15:31.425861Z",
     "iopub.status.busy": "2025-04-09T14:15:31.425861Z",
     "iopub.status.idle": "2025-04-09T14:15:31.431182Z",
     "shell.execute_reply": "2025-04-09T14:15:31.431182Z"
    },
    "papermill": {
     "duration": 0.015494,
     "end_time": "2025-04-09T14:15:31.431182",
     "exception": false,
     "start_time": "2025-04-09T14:15:31.415688",
     "status": "completed"
    },
    "tags": []
   },
   "outputs": [],
   "source": [
    "def flag_outliers_hour(df,treshold):\n",
    "    # Flag the rows where the intensity is greater than or equal to the threshold\n",
    "    flagged_rows = df.loc[(df['intensity'] >= treshold)]\n",
    "    non_flagged_rows = df.loc[ (df['intensity'] < treshold)]\n",
    "\n",
    "    print('Number of flagged rows:', flagged_rows.shape[0], 'Number of non-flagged rows:', non_flagged_rows.shape[0], 'Total rows:', df.shape[0], 'The sum of flagged and non-flagged rows is equal to the total rows:', flagged_rows.shape[0] + non_flagged_rows.shape[0] == df.shape[0])\n",
    "    \n",
    "    return non_flagged_rows,flagged_rows "
   ]
  },
  {
   "cell_type": "code",
   "execution_count": 24,
   "id": "e2a3047d",
   "metadata": {
    "execution": {
     "iopub.execute_input": "2025-04-09T14:15:31.452238Z",
     "iopub.status.busy": "2025-04-09T14:15:31.452238Z",
     "iopub.status.idle": "2025-04-09T14:15:31.587964Z",
     "shell.execute_reply": "2025-04-09T14:15:31.587964Z"
    },
    "papermill": {
     "duration": 0.147514,
     "end_time": "2025-04-09T14:15:31.590028",
     "exception": false,
     "start_time": "2025-04-09T14:15:31.442514",
     "status": "completed"
    },
    "tags": []
   },
   "outputs": [
    {
     "name": "stdout",
     "output_type": "stream",
     "text": [
      "Number of flagged rows:"
     ]
    },
    {
     "name": "stdout",
     "output_type": "stream",
     "text": [
      " 59764 Number of non-flagged rows: 2967001 Total rows: 3026765 The sum of flagged and non-flagged rows is equal to the total rows: True\n",
      "DataFrame Name:  Task5\n",
      "Number of stations:  381\n",
      "Number of observations:  2967001\n",
      "Percetage of flagged observations 2.0143 %\n"
     ]
    }
   ],
   "source": [
    "non_flagged_rows,flagged_rows = flag_outliers_hour(data5.copy(),885)\n",
    "calculate_station_observation_summary(non_flagged_rows,flagged_rows,'Task5')\n"
   ]
  },
  {
   "cell_type": "markdown",
   "id": "df66715c",
   "metadata": {
    "papermill": {
     "duration": 0.012752,
     "end_time": "2025-04-09T14:15:31.611266",
     "exception": false,
     "start_time": "2025-04-09T14:15:31.598514",
     "status": "completed"
    },
    "tags": []
   },
   "source": [
    "## 6: Threshold for High Daily Counts\n",
    "\n",
    "### Objective\n",
    "Flag site days with total counts exceeding a specified number of bicyclists.\n",
    "\n",
    "The severe upper bound was discarded due to being higher than the maximum value. The mild upper bound was evaluated, and 11225 was determined as a good threshold."
   ]
  },
  {
   "cell_type": "code",
   "execution_count": 25,
   "id": "14cf43b9",
   "metadata": {
    "execution": {
     "iopub.execute_input": "2025-04-09T14:15:31.628010Z",
     "iopub.status.busy": "2025-04-09T14:15:31.628010Z",
     "iopub.status.idle": "2025-04-09T14:15:31.796290Z",
     "shell.execute_reply": "2025-04-09T14:15:31.796290Z"
    },
    "papermill": {
     "duration": 0.176397,
     "end_time": "2025-04-09T14:15:31.796290",
     "exception": false,
     "start_time": "2025-04-09T14:15:31.619893",
     "status": "completed"
    },
    "tags": []
   },
   "outputs": [
    {
     "name": "stdout",
     "output_type": "stream",
     "text": [
      "(2967001, 5)\n"
     ]
    },
    {
     "name": "stdout",
     "output_type": "stream",
     "text": [
      "Mild lower bound: -4243.5 Mild upper bound: 11416.5 Severe lower bound: -10116.0 Severe upper bound: 17289.0\n"
     ]
    }
   ],
   "source": [
    "data6=non_flagged_rows.copy()\n",
    "print(data6.shape)\n",
    "data6.head()\n",
    "\n",
    "df_day=data6.groupby(['Id_aforament', 'date'])['intensity'].sum().reset_index()\n",
    "df_day=df_day.rename(columns={'intensity':'Daily_Counts'})\n",
    "mild_lower_bound, mild_upper_bound, severe_lower_bound, severe_upper_bound=interquantile_range(df_day['Daily_Counts'])"
   ]
  },
  {
   "cell_type": "code",
   "execution_count": 26,
   "id": "d423f293",
   "metadata": {
    "execution": {
     "iopub.execute_input": "2025-04-09T14:15:31.819198Z",
     "iopub.status.busy": "2025-04-09T14:15:31.817325Z",
     "iopub.status.idle": "2025-04-09T14:15:31.823982Z",
     "shell.execute_reply": "2025-04-09T14:15:31.823982Z"
    },
    "papermill": {
     "duration": 0.020912,
     "end_time": "2025-04-09T14:15:31.825545",
     "exception": false,
     "start_time": "2025-04-09T14:15:31.804633",
     "status": "completed"
    },
    "tags": []
   },
   "outputs": [],
   "source": [
    "def flag_outliers_day(df, treshold):\n",
    "    df_day=df.groupby(['Id_aforament', 'date'])['intensity'].sum().reset_index()\n",
    "    df_day=df_day.rename(columns={'intensity':'Daily_Counts'})\n",
    "\n",
    "\n",
    "    df=pd.merge(df, df_day, on=['Id_aforament', 'date'], how='inner')\n",
    "\n",
    "    flagged_rows = df.loc[(df['Daily_Counts'] >= treshold)]\n",
    "    non_flagged_rows = df.loc[(df['Daily_Counts'] < treshold)]\n",
    "\n",
    "\n",
    "    print('Number of flagged rows:', flagged_rows.shape[0], 'Number of non-flagged rows:', non_flagged_rows.shape[0], 'Total rows:', df.shape[0], 'The sum of flagged and non-flagged rows is equal to the total rows:', flagged_rows.shape[0] + non_flagged_rows.shape[0] == df.shape[0])\n",
    "    return non_flagged_rows,flagged_rows \n"
   ]
  },
  {
   "cell_type": "code",
   "execution_count": 27,
   "id": "7ca38f95",
   "metadata": {
    "execution": {
     "iopub.execute_input": "2025-04-09T14:15:31.842197Z",
     "iopub.status.busy": "2025-04-09T14:15:31.842197Z",
     "iopub.status.idle": "2025-04-09T14:15:32.318906Z",
     "shell.execute_reply": "2025-04-09T14:15:32.318906Z"
    },
    "papermill": {
     "duration": 0.484995,
     "end_time": "2025-04-09T14:15:32.318906",
     "exception": false,
     "start_time": "2025-04-09T14:15:31.833911",
     "status": "completed"
    },
    "tags": []
   },
   "outputs": [
    {
     "name": "stdout",
     "output_type": "stream",
     "text": [
      "Number of flagged rows: 12333 Number of non-flagged rows: 2954668 Total rows: 2967001 The sum of flagged and non-flagged rows is equal to the total rows: True\n",
      "DataFrame Name:  Task6\n",
      "Number of stations:  381\n",
      "Number of observations:  2954668\n",
      "Percetage of flagged observations 0.4174 %\n"
     ]
    }
   ],
   "source": [
    "non_flagged_rows,flagged_rows =flag_outliers_day(data6.copy(),11225.625 )\n",
    "calculate_station_observation_summary(non_flagged_rows,flagged_rows,'Task6')"
   ]
  },
  {
   "cell_type": "markdown",
   "id": "9e5dafbb",
   "metadata": {
    "papermill": {
     "duration": 0.008128,
     "end_time": "2025-04-09T14:15:32.339188",
     "exception": false,
     "start_time": "2025-04-09T14:15:32.331060",
     "status": "completed"
    },
    "tags": []
   },
   "source": [
    "## 7: Insufficient Daily Data\n",
    "\n",
    "### Objective\n",
    "Exclude site-daily counts collected over less than 22 valid hours.\n",
    "\n"
   ]
  },
  {
   "cell_type": "code",
   "execution_count": 28,
   "id": "8ec87f60",
   "metadata": {
    "execution": {
     "iopub.execute_input": "2025-04-09T14:15:32.362775Z",
     "iopub.status.busy": "2025-04-09T14:15:32.361669Z",
     "iopub.status.idle": "2025-04-09T14:15:32.372286Z",
     "shell.execute_reply": "2025-04-09T14:15:32.372286Z"
    },
    "papermill": {
     "duration": 0.021957,
     "end_time": "2025-04-09T14:15:32.372286",
     "exception": false,
     "start_time": "2025-04-09T14:15:32.350329",
     "status": "completed"
    },
    "tags": []
   },
   "outputs": [
    {
     "name": "stdout",
     "output_type": "stream",
     "text": [
      "(2954668, 6)\n"
     ]
    },
    {
     "data": {
      "text/html": [
       "<div>\n",
       "<style scoped>\n",
       "    .dataframe tbody tr th:only-of-type {\n",
       "        vertical-align: middle;\n",
       "    }\n",
       "\n",
       "    .dataframe tbody tr th {\n",
       "        vertical-align: top;\n",
       "    }\n",
       "\n",
       "    .dataframe thead th {\n",
       "        text-align: right;\n",
       "    }\n",
       "</style>\n",
       "<table border=\"1\" class=\"dataframe\">\n",
       "  <thead>\n",
       "    <tr style=\"text-align: right;\">\n",
       "      <th></th>\n",
       "      <th>Id_aforament</th>\n",
       "      <th>date</th>\n",
       "      <th>hour</th>\n",
       "      <th>intensity</th>\n",
       "      <th>prev_hour_count</th>\n",
       "      <th>Daily_Counts</th>\n",
       "    </tr>\n",
       "  </thead>\n",
       "  <tbody>\n",
       "    <tr>\n",
       "      <th>0</th>\n",
       "      <td>20001</td>\n",
       "      <td>2024-01-01</td>\n",
       "      <td>00</td>\n",
       "      <td>126.0</td>\n",
       "      <td>NaN</td>\n",
       "      <td>3461.0</td>\n",
       "    </tr>\n",
       "    <tr>\n",
       "      <th>1</th>\n",
       "      <td>20001</td>\n",
       "      <td>2024-01-01</td>\n",
       "      <td>01</td>\n",
       "      <td>138.0</td>\n",
       "      <td>NaN</td>\n",
       "      <td>3461.0</td>\n",
       "    </tr>\n",
       "    <tr>\n",
       "      <th>2</th>\n",
       "      <td>20001</td>\n",
       "      <td>2024-01-01</td>\n",
       "      <td>02</td>\n",
       "      <td>103.0</td>\n",
       "      <td>NaN</td>\n",
       "      <td>3461.0</td>\n",
       "    </tr>\n",
       "    <tr>\n",
       "      <th>3</th>\n",
       "      <td>20001</td>\n",
       "      <td>2024-01-01</td>\n",
       "      <td>03</td>\n",
       "      <td>95.0</td>\n",
       "      <td>NaN</td>\n",
       "      <td>3461.0</td>\n",
       "    </tr>\n",
       "    <tr>\n",
       "      <th>4</th>\n",
       "      <td>20001</td>\n",
       "      <td>2024-01-01</td>\n",
       "      <td>04</td>\n",
       "      <td>76.0</td>\n",
       "      <td>NaN</td>\n",
       "      <td>3461.0</td>\n",
       "    </tr>\n",
       "  </tbody>\n",
       "</table>\n",
       "</div>"
      ],
      "text/plain": [
       "   Id_aforament       date hour  intensity  prev_hour_count  Daily_Counts\n",
       "0         20001 2024-01-01   00      126.0              NaN        3461.0\n",
       "1         20001 2024-01-01   01      138.0              NaN        3461.0\n",
       "2         20001 2024-01-01   02      103.0              NaN        3461.0\n",
       "3         20001 2024-01-01   03       95.0              NaN        3461.0\n",
       "4         20001 2024-01-01   04       76.0              NaN        3461.0"
      ]
     },
     "execution_count": 28,
     "metadata": {},
     "output_type": "execute_result"
    }
   ],
   "source": [
    "data7=non_flagged_rows\n",
    "print(data7.shape)\n",
    "data7.head()"
   ]
  },
  {
   "cell_type": "code",
   "execution_count": 29,
   "id": "371a19d8",
   "metadata": {
    "execution": {
     "iopub.execute_input": "2025-04-09T14:15:32.395345Z",
     "iopub.status.busy": "2025-04-09T14:15:32.395345Z",
     "iopub.status.idle": "2025-04-09T14:15:32.401173Z",
     "shell.execute_reply": "2025-04-09T14:15:32.400566Z"
    },
    "papermill": {
     "duration": 0.021874,
     "end_time": "2025-04-09T14:15:32.402455",
     "exception": false,
     "start_time": "2025-04-09T14:15:32.380581",
     "status": "completed"
    },
    "tags": []
   },
   "outputs": [],
   "source": [
    "def flag_insuficient_daily_data(df):\n",
    "    df['duration']=1\n",
    "    df_day = df.groupby(['Id_aforament', 'date'])['duration'].sum().reset_index()\n",
    "    df_day=df_day.rename(columns={'duration':'Number_of_hrs_data_collected'})\n",
    "    print(df_day['Number_of_hrs_data_collected'].describe())\n",
    "\n",
    "    df=pd.merge(df, df_day, on=['Id_aforament', 'date'], how='inner')\n",
    "\n",
    "    flagged_rows = df.loc[(df['Number_of_hrs_data_collected'] <= 23)]\n",
    "    non_flagged_rows = df.loc[(df['Number_of_hrs_data_collected'] > 23)]\n",
    "    print('Number of flagged rows:', flagged_rows.shape[0], 'Number of non-flagged rows:', non_flagged_rows.shape[0], 'Total rows:', df.shape[0], 'The sum of flagged and non-flagged rows is equal to the total rows:', flagged_rows.shape[0] + non_flagged_rows.shape[0] == df.shape[0])\n",
    "    return non_flagged_rows,flagged_rows \n"
   ]
  },
  {
   "cell_type": "code",
   "execution_count": 30,
   "id": "6156895c",
   "metadata": {
    "execution": {
     "iopub.execute_input": "2025-04-09T14:15:32.426145Z",
     "iopub.status.busy": "2025-04-09T14:15:32.426145Z",
     "iopub.status.idle": "2025-04-09T14:15:32.968559Z",
     "shell.execute_reply": "2025-04-09T14:15:32.968559Z"
    },
    "papermill": {
     "duration": 0.560106,
     "end_time": "2025-04-09T14:15:32.969710",
     "exception": false,
     "start_time": "2025-04-09T14:15:32.409604",
     "status": "completed"
    },
    "tags": []
   },
   "outputs": [
    {
     "name": "stdout",
     "output_type": "stream",
     "text": [
      "count    127559.000000\n",
      "mean         23.163148\n",
      "std           2.851974\n",
      "min           1.000000\n",
      "25%          24.000000\n",
      "50%          24.000000\n",
      "75%          24.000000\n",
      "max          24.000000\n",
      "Name: Number_of_hrs_data_collected, dtype: float64\n"
     ]
    },
    {
     "name": "stdout",
     "output_type": "stream",
     "text": [
      "Number of flagged rows: 300556 Number of non-flagged rows: 2654112 Total rows: 2954668 The sum of flagged and non-flagged rows is equal to the total rows: True\n",
      "DataFrame Name:  Task7\n",
      "Number of stations:  378\n",
      "Number of observations:  2654112\n",
      "Percetage of flagged observations 11.3242 %\n"
     ]
    }
   ],
   "source": [
    "non_flagged_rows,flagged_rows = flag_insuficient_daily_data(data7.copy())\n",
    "calculate_station_observation_summary(non_flagged_rows,flagged_rows,'Task7')"
   ]
  },
  {
   "cell_type": "markdown",
   "id": "2c864020",
   "metadata": {
    "papermill": {
     "duration": 0.011298,
     "end_time": "2025-04-09T14:15:32.990819",
     "exception": false,
     "start_time": "2025-04-09T14:15:32.979521",
     "status": "completed"
    },
    "tags": []
   },
   "source": [
    "## 8: Inadequate Monthly Coverage\n",
    "\n",
    "### Objective\n",
    "Flag site months with valid days totaling less than three weeks (21 days out of 31).\n",
    "\n",
    "No changes have been made to the criteria.\n",
    "\n",
    "### Flagging Data\n",
    "- Percentage of data flagged: 6.05%\n",
    "- DataFrame Name: Task8\n",
    "- Number of stations: 352\n",
    "- Number of observations: 2,501,544\n",
    "- Flagged observations: 151,416\n",
    "- Deleted: 6.05%"
   ]
  },
  {
   "cell_type": "code",
   "execution_count": 31,
   "id": "37200815",
   "metadata": {
    "execution": {
     "iopub.execute_input": "2025-04-09T14:15:33.012101Z",
     "iopub.status.busy": "2025-04-09T14:15:33.012101Z",
     "iopub.status.idle": "2025-04-09T14:15:33.023491Z",
     "shell.execute_reply": "2025-04-09T14:15:33.023491Z"
    },
    "papermill": {
     "duration": 0.020714,
     "end_time": "2025-04-09T14:15:33.024639",
     "exception": false,
     "start_time": "2025-04-09T14:15:33.003925",
     "status": "completed"
    },
    "tags": []
   },
   "outputs": [
    {
     "name": "stdout",
     "output_type": "stream",
     "text": [
      "(2654112, 8)\n"
     ]
    },
    {
     "data": {
      "text/html": [
       "<div>\n",
       "<style scoped>\n",
       "    .dataframe tbody tr th:only-of-type {\n",
       "        vertical-align: middle;\n",
       "    }\n",
       "\n",
       "    .dataframe tbody tr th {\n",
       "        vertical-align: top;\n",
       "    }\n",
       "\n",
       "    .dataframe thead th {\n",
       "        text-align: right;\n",
       "    }\n",
       "</style>\n",
       "<table border=\"1\" class=\"dataframe\">\n",
       "  <thead>\n",
       "    <tr style=\"text-align: right;\">\n",
       "      <th></th>\n",
       "      <th>Id_aforament</th>\n",
       "      <th>date</th>\n",
       "      <th>hour</th>\n",
       "      <th>intensity</th>\n",
       "      <th>prev_hour_count</th>\n",
       "      <th>Daily_Counts</th>\n",
       "      <th>duration</th>\n",
       "      <th>Number_of_hrs_data_collected</th>\n",
       "    </tr>\n",
       "  </thead>\n",
       "  <tbody>\n",
       "    <tr>\n",
       "      <th>0</th>\n",
       "      <td>20001</td>\n",
       "      <td>2024-01-01</td>\n",
       "      <td>00</td>\n",
       "      <td>126.0</td>\n",
       "      <td>NaN</td>\n",
       "      <td>3461.0</td>\n",
       "      <td>1</td>\n",
       "      <td>24</td>\n",
       "    </tr>\n",
       "    <tr>\n",
       "      <th>1</th>\n",
       "      <td>20001</td>\n",
       "      <td>2024-01-01</td>\n",
       "      <td>01</td>\n",
       "      <td>138.0</td>\n",
       "      <td>NaN</td>\n",
       "      <td>3461.0</td>\n",
       "      <td>1</td>\n",
       "      <td>24</td>\n",
       "    </tr>\n",
       "    <tr>\n",
       "      <th>2</th>\n",
       "      <td>20001</td>\n",
       "      <td>2024-01-01</td>\n",
       "      <td>02</td>\n",
       "      <td>103.0</td>\n",
       "      <td>NaN</td>\n",
       "      <td>3461.0</td>\n",
       "      <td>1</td>\n",
       "      <td>24</td>\n",
       "    </tr>\n",
       "    <tr>\n",
       "      <th>3</th>\n",
       "      <td>20001</td>\n",
       "      <td>2024-01-01</td>\n",
       "      <td>03</td>\n",
       "      <td>95.0</td>\n",
       "      <td>NaN</td>\n",
       "      <td>3461.0</td>\n",
       "      <td>1</td>\n",
       "      <td>24</td>\n",
       "    </tr>\n",
       "    <tr>\n",
       "      <th>4</th>\n",
       "      <td>20001</td>\n",
       "      <td>2024-01-01</td>\n",
       "      <td>04</td>\n",
       "      <td>76.0</td>\n",
       "      <td>NaN</td>\n",
       "      <td>3461.0</td>\n",
       "      <td>1</td>\n",
       "      <td>24</td>\n",
       "    </tr>\n",
       "  </tbody>\n",
       "</table>\n",
       "</div>"
      ],
      "text/plain": [
       "   Id_aforament       date hour  intensity  prev_hour_count  Daily_Counts  \\\n",
       "0         20001 2024-01-01   00      126.0              NaN        3461.0   \n",
       "1         20001 2024-01-01   01      138.0              NaN        3461.0   \n",
       "2         20001 2024-01-01   02      103.0              NaN        3461.0   \n",
       "3         20001 2024-01-01   03       95.0              NaN        3461.0   \n",
       "4         20001 2024-01-01   04       76.0              NaN        3461.0   \n",
       "\n",
       "   duration  Number_of_hrs_data_collected  \n",
       "0         1                            24  \n",
       "1         1                            24  \n",
       "2         1                            24  \n",
       "3         1                            24  \n",
       "4         1                            24  "
      ]
     },
     "execution_count": 31,
     "metadata": {},
     "output_type": "execute_result"
    }
   ],
   "source": [
    "data8=non_flagged_rows\n",
    "print(data8.shape)\n",
    "data8.head()"
   ]
  },
  {
   "cell_type": "code",
   "execution_count": 32,
   "id": "127864ae",
   "metadata": {
    "execution": {
     "iopub.execute_input": "2025-04-09T14:15:33.044952Z",
     "iopub.status.busy": "2025-04-09T14:15:33.044952Z",
     "iopub.status.idle": "2025-04-09T14:15:33.103775Z",
     "shell.execute_reply": "2025-04-09T14:15:33.103775Z"
    },
    "papermill": {
     "duration": 0.071656,
     "end_time": "2025-04-09T14:15:33.104782",
     "exception": false,
     "start_time": "2025-04-09T14:15:33.033126",
     "status": "completed"
    },
    "tags": []
   },
   "outputs": [],
   "source": [
    "def flag_insuficient_monthly_data(df):\n",
    "    df['day']=df['date'].dt.day\n",
    "    df['month']=df['date'].dt.month\n",
    "\n",
    "    df_day = df.groupby(['Id_aforament', 'month', 'day'])['duration'].sum().reset_index()\n",
    "    df_month = df_day.groupby(['Id_aforament', 'month'])['day'].count().reset_index()\n",
    "    df_month=df_month.rename(columns={'day':'Number_of_days_data_collected'})\n",
    "\n",
    "\n",
    "    df=pd.merge(df, df_month, on=['Id_aforament', 'month'], how='inner')\n",
    "\n",
    "    flagged_rows = df.loc[(df['Number_of_days_data_collected'] <= 21)]\n",
    "    non_flagged_rows = df.loc[(df['Number_of_days_data_collected'] > 21)]\n",
    "    print('Number of flagged rows:', flagged_rows.shape[0], 'Number of non-flagged rows:', non_flagged_rows.shape[0], 'Total rows:', df.shape[0], 'The sum of flagged and non-flagged rows is equal to the total rows:', flagged_rows.shape[0] + non_flagged_rows.shape[0] == df.shape[0])\n",
    "    return non_flagged_rows,flagged_rows \n"
   ]
  },
  {
   "cell_type": "code",
   "execution_count": 33,
   "id": "9cefb767",
   "metadata": {
    "execution": {
     "iopub.execute_input": "2025-04-09T14:15:33.128451Z",
     "iopub.status.busy": "2025-04-09T14:15:33.128451Z",
     "iopub.status.idle": "2025-04-09T14:15:33.695475Z",
     "shell.execute_reply": "2025-04-09T14:15:33.695475Z"
    },
    "papermill": {
     "duration": 0.578191,
     "end_time": "2025-04-09T14:15:33.695475",
     "exception": false,
     "start_time": "2025-04-09T14:15:33.117284",
     "status": "completed"
    },
    "tags": []
   },
   "outputs": [
    {
     "name": "stdout",
     "output_type": "stream",
     "text": [
      "Number of flagged rows: 169824 Number of non-flagged rows: 2484288 Total rows: 2654112 The sum of flagged and non-flagged rows is equal to the total rows: True\n",
      "DataFrame Name:  Task8\n",
      "Number of stations:  364\n",
      "Number of observations:  2484288\n",
      "Percetage of flagged observations 6.8359 %\n"
     ]
    }
   ],
   "source": [
    "non_flagged_rows,flagged_rows=flag_insuficient_monthly_data(data8)\n",
    "calculate_station_observation_summary(non_flagged_rows,flagged_rows,'Task8')"
   ]
  },
  {
   "cell_type": "markdown",
   "id": "39b0c55e",
   "metadata": {
    "papermill": {
     "duration": 0.008517,
     "end_time": "2025-04-09T14:15:33.717289",
     "exception": false,
     "start_time": "2025-04-09T14:15:33.708772",
     "status": "completed"
    },
    "tags": []
   },
   "source": [
    "## Final results"
   ]
  },
  {
   "cell_type": "code",
   "execution_count": 34,
   "id": "a179b23a",
   "metadata": {
    "execution": {
     "iopub.execute_input": "2025-04-09T14:15:33.737670Z",
     "iopub.status.busy": "2025-04-09T14:15:33.737670Z",
     "iopub.status.idle": "2025-04-09T14:15:33.746904Z",
     "shell.execute_reply": "2025-04-09T14:15:33.746904Z"
    },
    "papermill": {
     "duration": 0.021333,
     "end_time": "2025-04-09T14:15:33.746904",
     "exception": false,
     "start_time": "2025-04-09T14:15:33.725571",
     "status": "completed"
    },
    "tags": []
   },
   "outputs": [
    {
     "data": {
      "text/html": [
       "<div>\n",
       "<style scoped>\n",
       "    .dataframe tbody tr th:only-of-type {\n",
       "        vertical-align: middle;\n",
       "    }\n",
       "\n",
       "    .dataframe tbody tr th {\n",
       "        vertical-align: top;\n",
       "    }\n",
       "\n",
       "    .dataframe thead th {\n",
       "        text-align: right;\n",
       "    }\n",
       "</style>\n",
       "<table border=\"1\" class=\"dataframe\">\n",
       "  <thead>\n",
       "    <tr style=\"text-align: right;\">\n",
       "      <th></th>\n",
       "      <th>DataFrame Name</th>\n",
       "      <th>Number of Stations</th>\n",
       "      <th>Number of Observations</th>\n",
       "      <th>Flagged observations</th>\n",
       "      <th>Deleted</th>\n",
       "    </tr>\n",
       "  </thead>\n",
       "  <tbody>\n",
       "    <tr>\n",
       "      <th>0</th>\n",
       "      <td>Task1</td>\n",
       "      <td>381</td>\n",
       "      <td>3026765</td>\n",
       "      <td>110522</td>\n",
       "      <td>3.65</td>\n",
       "    </tr>\n",
       "    <tr>\n",
       "      <th>1</th>\n",
       "      <td>Task2</td>\n",
       "      <td>381</td>\n",
       "      <td>3026765</td>\n",
       "      <td>0</td>\n",
       "      <td>0.00</td>\n",
       "    </tr>\n",
       "    <tr>\n",
       "      <th>2</th>\n",
       "      <td>Task3</td>\n",
       "      <td>381</td>\n",
       "      <td>3026765</td>\n",
       "      <td>0</td>\n",
       "      <td>0.00</td>\n",
       "    </tr>\n",
       "    <tr>\n",
       "      <th>3</th>\n",
       "      <td>Task4</td>\n",
       "      <td>381</td>\n",
       "      <td>3026765</td>\n",
       "      <td>0</td>\n",
       "      <td>0.00</td>\n",
       "    </tr>\n",
       "    <tr>\n",
       "      <th>4</th>\n",
       "      <td>Task5</td>\n",
       "      <td>381</td>\n",
       "      <td>2967001</td>\n",
       "      <td>59764</td>\n",
       "      <td>2.01</td>\n",
       "    </tr>\n",
       "    <tr>\n",
       "      <th>5</th>\n",
       "      <td>Task6</td>\n",
       "      <td>381</td>\n",
       "      <td>2954668</td>\n",
       "      <td>12333</td>\n",
       "      <td>0.42</td>\n",
       "    </tr>\n",
       "    <tr>\n",
       "      <th>6</th>\n",
       "      <td>Task7</td>\n",
       "      <td>378</td>\n",
       "      <td>2654112</td>\n",
       "      <td>300556</td>\n",
       "      <td>11.32</td>\n",
       "    </tr>\n",
       "    <tr>\n",
       "      <th>7</th>\n",
       "      <td>Task8</td>\n",
       "      <td>364</td>\n",
       "      <td>2484288</td>\n",
       "      <td>169824</td>\n",
       "      <td>6.84</td>\n",
       "    </tr>\n",
       "  </tbody>\n",
       "</table>\n",
       "</div>"
      ],
      "text/plain": [
       "  DataFrame Name  Number of Stations  Number of Observations  \\\n",
       "0          Task1                 381                 3026765   \n",
       "1          Task2                 381                 3026765   \n",
       "2          Task3                 381                 3026765   \n",
       "3          Task4                 381                 3026765   \n",
       "4          Task5                 381                 2967001   \n",
       "5          Task6                 381                 2954668   \n",
       "6          Task7                 378                 2654112   \n",
       "7          Task8                 364                 2484288   \n",
       "\n",
       "   Flagged observations  Deleted  \n",
       "0                110522     3.65  \n",
       "1                     0     0.00  \n",
       "2                     0     0.00  \n",
       "3                     0     0.00  \n",
       "4                 59764     2.01  \n",
       "5                 12333     0.42  \n",
       "6                300556    11.32  \n",
       "7                169824     6.84  "
      ]
     },
     "execution_count": 34,
     "metadata": {},
     "output_type": "execute_result"
    }
   ],
   "source": [
    "summary_df[\"Deleted\"]=round((summary_df[\"Flagged observations\"]/summary_df[\"Number of Observations\"])*100,2)\n",
    "summary_df"
   ]
  },
  {
   "cell_type": "markdown",
   "id": "8ed435f4",
   "metadata": {
    "papermill": {
     "duration": 0.00839,
     "end_time": "2025-04-09T14:15:33.766215",
     "exception": false,
     "start_time": "2025-04-09T14:15:33.757825",
     "status": "completed"
    },
    "tags": []
   },
   "source": [
    "# Calculations\n",
    "* DBT (Daily Bicycle Traffic): This is the count of bicycles passing a point in a single day.\n",
    "* ADBT (Average Daily Bicycle Traffic): This is the average number of bicycles passing a point per day over a specified period."
   ]
  },
  {
   "cell_type": "code",
   "execution_count": 35,
   "id": "18359e87",
   "metadata": {
    "execution": {
     "iopub.execute_input": "2025-04-09T14:15:33.784656Z",
     "iopub.status.busy": "2025-04-09T14:15:33.784656Z",
     "iopub.status.idle": "2025-04-09T14:15:33.795188Z",
     "shell.execute_reply": "2025-04-09T14:15:33.795188Z"
    },
    "papermill": {
     "duration": 0.021605,
     "end_time": "2025-04-09T14:15:33.796527",
     "exception": false,
     "start_time": "2025-04-09T14:15:33.774922",
     "status": "completed"
    },
    "tags": []
   },
   "outputs": [
    {
     "data": {
      "text/html": [
       "<div>\n",
       "<style scoped>\n",
       "    .dataframe tbody tr th:only-of-type {\n",
       "        vertical-align: middle;\n",
       "    }\n",
       "\n",
       "    .dataframe tbody tr th {\n",
       "        vertical-align: top;\n",
       "    }\n",
       "\n",
       "    .dataframe thead th {\n",
       "        text-align: right;\n",
       "    }\n",
       "</style>\n",
       "<table border=\"1\" class=\"dataframe\">\n",
       "  <thead>\n",
       "    <tr style=\"text-align: right;\">\n",
       "      <th></th>\n",
       "      <th>Id_aforament</th>\n",
       "      <th>date</th>\n",
       "      <th>hour</th>\n",
       "      <th>intensity</th>\n",
       "      <th>prev_hour_count</th>\n",
       "      <th>Daily_Counts</th>\n",
       "      <th>duration</th>\n",
       "      <th>Number_of_hrs_data_collected</th>\n",
       "      <th>day</th>\n",
       "      <th>month</th>\n",
       "      <th>Number_of_days_data_collected</th>\n",
       "    </tr>\n",
       "  </thead>\n",
       "  <tbody>\n",
       "    <tr>\n",
       "      <th>0</th>\n",
       "      <td>20001</td>\n",
       "      <td>2024-01-01</td>\n",
       "      <td>00</td>\n",
       "      <td>126.0</td>\n",
       "      <td>NaN</td>\n",
       "      <td>3461.0</td>\n",
       "      <td>1</td>\n",
       "      <td>24</td>\n",
       "      <td>1</td>\n",
       "      <td>1</td>\n",
       "      <td>25</td>\n",
       "    </tr>\n",
       "    <tr>\n",
       "      <th>1</th>\n",
       "      <td>20001</td>\n",
       "      <td>2024-01-01</td>\n",
       "      <td>01</td>\n",
       "      <td>138.0</td>\n",
       "      <td>NaN</td>\n",
       "      <td>3461.0</td>\n",
       "      <td>1</td>\n",
       "      <td>24</td>\n",
       "      <td>1</td>\n",
       "      <td>1</td>\n",
       "      <td>25</td>\n",
       "    </tr>\n",
       "    <tr>\n",
       "      <th>2</th>\n",
       "      <td>20001</td>\n",
       "      <td>2024-01-01</td>\n",
       "      <td>02</td>\n",
       "      <td>103.0</td>\n",
       "      <td>NaN</td>\n",
       "      <td>3461.0</td>\n",
       "      <td>1</td>\n",
       "      <td>24</td>\n",
       "      <td>1</td>\n",
       "      <td>1</td>\n",
       "      <td>25</td>\n",
       "    </tr>\n",
       "    <tr>\n",
       "      <th>3</th>\n",
       "      <td>20001</td>\n",
       "      <td>2024-01-01</td>\n",
       "      <td>03</td>\n",
       "      <td>95.0</td>\n",
       "      <td>NaN</td>\n",
       "      <td>3461.0</td>\n",
       "      <td>1</td>\n",
       "      <td>24</td>\n",
       "      <td>1</td>\n",
       "      <td>1</td>\n",
       "      <td>25</td>\n",
       "    </tr>\n",
       "    <tr>\n",
       "      <th>4</th>\n",
       "      <td>20001</td>\n",
       "      <td>2024-01-01</td>\n",
       "      <td>04</td>\n",
       "      <td>76.0</td>\n",
       "      <td>NaN</td>\n",
       "      <td>3461.0</td>\n",
       "      <td>1</td>\n",
       "      <td>24</td>\n",
       "      <td>1</td>\n",
       "      <td>1</td>\n",
       "      <td>25</td>\n",
       "    </tr>\n",
       "  </tbody>\n",
       "</table>\n",
       "</div>"
      ],
      "text/plain": [
       "   Id_aforament       date hour  intensity  prev_hour_count  Daily_Counts  \\\n",
       "0         20001 2024-01-01   00      126.0              NaN        3461.0   \n",
       "1         20001 2024-01-01   01      138.0              NaN        3461.0   \n",
       "2         20001 2024-01-01   02      103.0              NaN        3461.0   \n",
       "3         20001 2024-01-01   03       95.0              NaN        3461.0   \n",
       "4         20001 2024-01-01   04       76.0              NaN        3461.0   \n",
       "\n",
       "   duration  Number_of_hrs_data_collected  day  month  \\\n",
       "0         1                            24    1      1   \n",
       "1         1                            24    1      1   \n",
       "2         1                            24    1      1   \n",
       "3         1                            24    1      1   \n",
       "4         1                            24    1      1   \n",
       "\n",
       "   Number_of_days_data_collected  \n",
       "0                             25  \n",
       "1                             25  \n",
       "2                             25  \n",
       "3                             25  \n",
       "4                             25  "
      ]
     },
     "execution_count": 35,
     "metadata": {},
     "output_type": "execute_result"
    }
   ],
   "source": [
    "data10=non_flagged_rows\n",
    "non_flagged_rows.head()\n",
    "\n"
   ]
  },
  {
   "cell_type": "markdown",
   "id": "eaaa1ae6",
   "metadata": {
    "papermill": {
     "duration": 0.009957,
     "end_time": "2025-04-09T14:15:33.816478",
     "exception": false,
     "start_time": "2025-04-09T14:15:33.806521",
     "status": "completed"
    },
    "tags": []
   },
   "source": [
    "### DBT"
   ]
  },
  {
   "cell_type": "code",
   "execution_count": 36,
   "id": "326ba6c7",
   "metadata": {
    "execution": {
     "iopub.execute_input": "2025-04-09T14:15:33.838849Z",
     "iopub.status.busy": "2025-04-09T14:15:33.838849Z",
     "iopub.status.idle": "2025-04-09T14:15:33.965807Z",
     "shell.execute_reply": "2025-04-09T14:15:33.965807Z"
    },
    "papermill": {
     "duration": 0.142476,
     "end_time": "2025-04-09T14:15:33.967331",
     "exception": false,
     "start_time": "2025-04-09T14:15:33.824855",
     "status": "completed"
    },
    "tags": []
   },
   "outputs": [
    {
     "data": {
      "text/html": [
       "<div>\n",
       "<style scoped>\n",
       "    .dataframe tbody tr th:only-of-type {\n",
       "        vertical-align: middle;\n",
       "    }\n",
       "\n",
       "    .dataframe tbody tr th {\n",
       "        vertical-align: top;\n",
       "    }\n",
       "\n",
       "    .dataframe thead th {\n",
       "        text-align: right;\n",
       "    }\n",
       "</style>\n",
       "<table border=\"1\" class=\"dataframe\">\n",
       "  <thead>\n",
       "    <tr style=\"text-align: right;\">\n",
       "      <th></th>\n",
       "      <th>Id_aforament</th>\n",
       "      <th>date</th>\n",
       "      <th>DBT</th>\n",
       "    </tr>\n",
       "  </thead>\n",
       "  <tbody>\n",
       "    <tr>\n",
       "      <th>0</th>\n",
       "      <td>20001</td>\n",
       "      <td>2024-01-01</td>\n",
       "      <td>3461.0</td>\n",
       "    </tr>\n",
       "    <tr>\n",
       "      <th>1</th>\n",
       "      <td>20001</td>\n",
       "      <td>2024-01-02</td>\n",
       "      <td>5640.0</td>\n",
       "    </tr>\n",
       "    <tr>\n",
       "      <th>2</th>\n",
       "      <td>20001</td>\n",
       "      <td>2024-01-03</td>\n",
       "      <td>6231.0</td>\n",
       "    </tr>\n",
       "    <tr>\n",
       "      <th>3</th>\n",
       "      <td>20001</td>\n",
       "      <td>2024-01-04</td>\n",
       "      <td>6679.0</td>\n",
       "    </tr>\n",
       "    <tr>\n",
       "      <th>4</th>\n",
       "      <td>20001</td>\n",
       "      <td>2024-01-05</td>\n",
       "      <td>5494.0</td>\n",
       "    </tr>\n",
       "  </tbody>\n",
       "</table>\n",
       "</div>"
      ],
      "text/plain": [
       "   Id_aforament       date     DBT\n",
       "0         20001 2024-01-01  3461.0\n",
       "1         20001 2024-01-02  5640.0\n",
       "2         20001 2024-01-03  6231.0\n",
       "3         20001 2024-01-04  6679.0\n",
       "4         20001 2024-01-05  5494.0"
      ]
     },
     "execution_count": 36,
     "metadata": {},
     "output_type": "execute_result"
    }
   ],
   "source": [
    "DBT = data10.groupby(['Id_aforament', 'date'])['intensity'].sum().reset_index()\n",
    "DBT=DBT.rename(columns={'intensity':'DBT'})\n",
    "DBT.head()\n",
    "#gDBT.explore()"
   ]
  },
  {
   "cell_type": "markdown",
   "id": "4e20e4eb",
   "metadata": {
    "papermill": {
     "duration": 0.011858,
     "end_time": "2025-04-09T14:15:33.997025",
     "exception": false,
     "start_time": "2025-04-09T14:15:33.985167",
     "status": "completed"
    },
    "tags": []
   },
   "source": [
    "### AADBT\n"
   ]
  },
  {
   "cell_type": "code",
   "execution_count": 37,
   "id": "12c009de",
   "metadata": {
    "execution": {
     "iopub.execute_input": "2025-04-09T14:15:34.019437Z",
     "iopub.status.busy": "2025-04-09T14:15:34.019437Z",
     "iopub.status.idle": "2025-04-09T14:15:34.038785Z",
     "shell.execute_reply": "2025-04-09T14:15:34.038785Z"
    },
    "papermill": {
     "duration": 0.035933,
     "end_time": "2025-04-09T14:15:34.042491",
     "exception": false,
     "start_time": "2025-04-09T14:15:34.006558",
     "status": "completed"
    },
    "tags": []
   },
   "outputs": [
    {
     "name": "stdout",
     "output_type": "stream",
     "text": [
      "(364, 3)\n",
      "(327, 3)\n"
     ]
    },
    {
     "data": {
      "text/html": [
       "<div>\n",
       "<style scoped>\n",
       "    .dataframe tbody tr th:only-of-type {\n",
       "        vertical-align: middle;\n",
       "    }\n",
       "\n",
       "    .dataframe tbody tr th {\n",
       "        vertical-align: top;\n",
       "    }\n",
       "\n",
       "    .dataframe thead th {\n",
       "        text-align: right;\n",
       "    }\n",
       "</style>\n",
       "<table border=\"1\" class=\"dataframe\">\n",
       "  <thead>\n",
       "    <tr style=\"text-align: right;\">\n",
       "      <th></th>\n",
       "      <th>Id_aforament</th>\n",
       "      <th>AADBT</th>\n",
       "      <th>Number_of_days</th>\n",
       "    </tr>\n",
       "  </thead>\n",
       "  <tbody>\n",
       "    <tr>\n",
       "      <th>0</th>\n",
       "      <td>20001</td>\n",
       "      <td>3916.892128</td>\n",
       "      <td>343</td>\n",
       "    </tr>\n",
       "    <tr>\n",
       "      <th>1</th>\n",
       "      <td>20002</td>\n",
       "      <td>7152.887387</td>\n",
       "      <td>222</td>\n",
       "    </tr>\n",
       "    <tr>\n",
       "      <th>2</th>\n",
       "      <td>20003</td>\n",
       "      <td>3816.694268</td>\n",
       "      <td>157</td>\n",
       "    </tr>\n",
       "    <tr>\n",
       "      <th>3</th>\n",
       "      <td>20005</td>\n",
       "      <td>3055.405109</td>\n",
       "      <td>274</td>\n",
       "    </tr>\n",
       "    <tr>\n",
       "      <th>4</th>\n",
       "      <td>20006</td>\n",
       "      <td>2599.983660</td>\n",
       "      <td>306</td>\n",
       "    </tr>\n",
       "  </tbody>\n",
       "</table>\n",
       "</div>"
      ],
      "text/plain": [
       "   Id_aforament        AADBT  Number_of_days\n",
       "0         20001  3916.892128             343\n",
       "1         20002  7152.887387             222\n",
       "2         20003  3816.694268             157\n",
       "3         20005  3055.405109             274\n",
       "4         20006  2599.983660             306"
      ]
     },
     "execution_count": 37,
     "metadata": {},
     "output_type": "execute_result"
    }
   ],
   "source": [
    "AADBT=DBT.groupby(['Id_aforament']).agg({'DBT':'mean',\"date\":'count'}).reset_index()\n",
    "AADBT=AADBT.rename(columns={'DBT':'AADBT','date':'Number_of_days'})\n",
    "print(AADBT.shape)\n",
    "AADBT=AADBT[AADBT['Number_of_days']>=120]\n",
    "print(AADBT.shape)\n",
    "AADBT.head()"
   ]
  },
  {
   "cell_type": "markdown",
   "id": "2d633b66",
   "metadata": {
    "papermill": {
     "duration": 0.024451,
     "end_time": "2025-04-09T14:15:34.084617",
     "exception": false,
     "start_time": "2025-04-09T14:15:34.060166",
     "status": "completed"
    },
    "tags": []
   },
   "source": [
    "# Save output"
   ]
  },
  {
   "cell_type": "code",
   "execution_count": 38,
   "id": "2e2a51ea",
   "metadata": {
    "execution": {
     "iopub.execute_input": "2025-04-09T14:15:34.111390Z",
     "iopub.status.busy": "2025-04-09T14:15:34.111390Z",
     "iopub.status.idle": "2025-04-09T14:15:34.639749Z",
     "shell.execute_reply": "2025-04-09T14:15:34.639749Z"
    },
    "papermill": {
     "duration": 0.544106,
     "end_time": "2025-04-09T14:15:34.640907",
     "exception": false,
     "start_time": "2025-04-09T14:15:34.096801",
     "status": "completed"
    },
    "tags": []
   },
   "outputs": [],
   "source": [
    "if SAVE_OUTPUT:\n",
    "    non_flagged_rows.to_parquet(f'{OUTPUT_DATA_PATH}/cleaned_data{YEAR}.parquet', index=False)\n",
    "    AADBT.to_parquet(f'{OUTPUT_DATA_PATH}/counter/counter_aadbt{YEAR}.parquet')\n",
    "    DBT.to_parquet(f'{OUTPUT_DATA_PATH}/counter/flagged/DBT{YEAR}.parquet')\n",
    "\n"
   ]
  },
  {
   "cell_type": "code",
   "execution_count": 39,
   "id": "add8bab8",
   "metadata": {
    "execution": {
     "iopub.execute_input": "2025-04-09T14:15:34.666466Z",
     "iopub.status.busy": "2025-04-09T14:15:34.664375Z",
     "iopub.status.idle": "2025-04-09T14:15:34.680477Z",
     "shell.execute_reply": "2025-04-09T14:15:34.680477Z"
    },
    "papermill": {
     "duration": 0.028731,
     "end_time": "2025-04-09T14:15:34.681744",
     "exception": false,
     "start_time": "2025-04-09T14:15:34.653013",
     "status": "completed"
    },
    "tags": []
   },
   "outputs": [],
   "source": [
    "# Define the new row data\n",
    "new_row = {\n",
    "    'Year': YEAR,\n",
    "    'Rows': observations_number,\n",
    "    'Hour_count_4': hour_count_4,\n",
    "    'Hour_count_3': hour_count_3,\n",
    "    'Hour_count_2': hour_count_2,\n",
    "    'Hour_count_1': hour_count_1,\n",
    "    'Valid data:' :hour_count_4+hour_count_3+hour_count_2,\n",
    "    'Task1': data2.shape[0],\n",
    "    'Task2': data3.shape[0],\n",
    "    'Task3': data4.shape[0],\n",
    "    'Task4': data5.shape[0],\n",
    "    'Task5': data6.shape[0],\n",
    "    'Task6': data7.shape[0],\n",
    "    'Task7': data8.shape[0],\n",
    "    'Task8': data10.shape[0],\n",
    "    'Total': data10.shape[0],\n",
    "    'DBT': DBT.shape[0],\n",
    "    'AADBT': AADBT.shape[0]\n",
    "    \n",
    "\n",
    "}\n",
    "\n",
    "\n",
    "# Convert the new row data to a DataFrame\n",
    "new_row_df = pd.DataFrame([new_row])\n",
    "\n",
    "# Define the path to the CSV file\n",
    "csv_file_path = f\"{INPUT_PROCESSED_DATA_PATH}/log_flagging.csv\"\n",
    "\n",
    "# Check if the CSV file exists\n",
    "if Path(csv_file_path).is_file():\n",
    "    # If the file exists, append the new row\n",
    "    new_row_df.to_csv(csv_file_path, mode='a', header=False, index=False)\n",
    "else:\n",
    "    # If the file does not exist, create it with the new row\n",
    "    new_row_df.to_csv(csv_file_path, mode='w', header=True, index=False)"
   ]
  },
  {
   "cell_type": "markdown",
   "id": "72f06cbb",
   "metadata": {
    "papermill": {
     "duration": 0.012167,
     "end_time": "2025-04-09T14:15:34.705139",
     "exception": false,
     "start_time": "2025-04-09T14:15:34.692972",
     "status": "completed"
    },
    "tags": []
   },
   "source": [
    "## Watermark"
   ]
  },
  {
   "cell_type": "code",
   "execution_count": 40,
   "id": "c5731c86",
   "metadata": {
    "execution": {
     "iopub.execute_input": "2025-04-09T14:15:34.732211Z",
     "iopub.status.busy": "2025-04-09T14:15:34.732211Z",
     "iopub.status.idle": "2025-04-09T14:15:38.661129Z",
     "shell.execute_reply": "2025-04-09T14:15:38.660110Z"
    },
    "papermill": {
     "duration": 3.944627,
     "end_time": "2025-04-09T14:15:38.662055",
     "exception": false,
     "start_time": "2025-04-09T14:15:34.717428",
     "status": "completed"
    },
    "tags": []
   },
   "outputs": [],
   "source": [
    "!python -m pip install watermark --quiet"
   ]
  },
  {
   "cell_type": "code",
   "execution_count": 41,
   "id": "24698e34",
   "metadata": {
    "execution": {
     "iopub.execute_input": "2025-04-09T14:15:38.685359Z",
     "iopub.status.busy": "2025-04-09T14:15:38.681956Z",
     "iopub.status.idle": "2025-04-09T14:15:38.703646Z",
     "shell.execute_reply": "2025-04-09T14:15:38.703646Z"
    },
    "papermill": {
     "duration": 0.032215,
     "end_time": "2025-04-09T14:15:38.703646",
     "exception": false,
     "start_time": "2025-04-09T14:15:38.671431",
     "status": "completed"
    },
    "tags": []
   },
   "outputs": [],
   "source": [
    "%load_ext watermark"
   ]
  },
  {
   "cell_type": "code",
   "execution_count": 42,
   "id": "ba60194d",
   "metadata": {
    "execution": {
     "iopub.execute_input": "2025-04-09T14:15:38.727978Z",
     "iopub.status.busy": "2025-04-09T14:15:38.727978Z",
     "iopub.status.idle": "2025-04-09T14:15:38.732441Z",
     "shell.execute_reply": "2025-04-09T14:15:38.732441Z"
    },
    "papermill": {
     "duration": 0.018152,
     "end_time": "2025-04-09T14:15:38.734032",
     "exception": false,
     "start_time": "2025-04-09T14:15:38.715880",
     "status": "completed"
    },
    "tags": []
   },
   "outputs": [
    {
     "name": "stdout",
     "output_type": "stream",
     "text": [
      "Last updated: 2025-04-09T16:15:38.729437+02:00\n",
      "\n",
      "Python implementation: CPython\n",
      "Python version       : 3.11.9\n",
      "IPython version      : 8.25.0\n",
      "\n",
      "Compiler    : MSC v.1938 64 bit (AMD64)\n",
      "OS          : Windows\n",
      "Release     : 10\n",
      "Machine     : AMD64\n",
      "Processor   : AMD64 Family 25 Model 68 Stepping 1, AuthenticAMD\n",
      "CPU cores   : 16\n",
      "Architecture: 64bit\n",
      "\n"
     ]
    }
   ],
   "source": [
    "%watermark"
   ]
  },
  {
   "cell_type": "code",
   "execution_count": 43,
   "id": "d3eca88e",
   "metadata": {
    "execution": {
     "iopub.execute_input": "2025-04-09T14:15:38.756836Z",
     "iopub.status.busy": "2025-04-09T14:15:38.756836Z",
     "iopub.status.idle": "2025-04-09T14:15:38.771418Z",
     "shell.execute_reply": "2025-04-09T14:15:38.771418Z"
    },
    "papermill": {
     "duration": 0.027799,
     "end_time": "2025-04-09T14:15:38.773947",
     "exception": false,
     "start_time": "2025-04-09T14:15:38.746148",
     "status": "completed"
    },
    "tags": []
   },
   "outputs": [
    {
     "name": "stdout",
     "output_type": "stream",
     "text": [
      "pandas    : 2.0.3\n",
      "geopandas : 0.13.2\n",
      "matplotlib: 3.8.4\n",
      "plotly    : 5.24.1\n",
      "\n"
     ]
    }
   ],
   "source": [
    "%watermark --iversions"
   ]
  },
  {
   "cell_type": "code",
   "execution_count": 44,
   "id": "5c556174",
   "metadata": {
    "execution": {
     "iopub.execute_input": "2025-04-09T14:15:38.811623Z",
     "iopub.status.busy": "2025-04-09T14:15:38.809872Z",
     "iopub.status.idle": "2025-04-09T14:15:38.847154Z",
     "shell.execute_reply": "2025-04-09T14:15:38.846646Z"
    },
    "papermill": {
     "duration": 0.056961,
     "end_time": "2025-04-09T14:15:38.847662",
     "exception": false,
     "start_time": "2025-04-09T14:15:38.790701",
     "status": "completed"
    },
    "tags": []
   },
   "outputs": [
    {
     "name": "stderr",
     "output_type": "stream",
     "text": [
      "\"lsb_release\" no se reconoce como un comando interno o externo,\n",
      "programa o archivo por lotes ejecutable.\n"
     ]
    }
   ],
   "source": [
    "!lsb_release -a"
   ]
  }
 ],
 "metadata": {
  "kernelspec": {
   "display_name": "ridership_model",
   "language": "python",
   "name": "python3"
  },
  "language_info": {
   "codemirror_mode": {
    "name": "ipython",
    "version": 3
   },
   "file_extension": ".py",
   "mimetype": "text/x-python",
   "name": "python",
   "nbconvert_exporter": "python",
   "pygments_lexer": "ipython3",
   "version": "3.11.9"
  },
  "papermill": {
   "default_parameters": {},
   "duration": 27.424066,
   "end_time": "2025-04-09T14:15:39.535755",
   "environment_variables": {},
   "exception": null,
   "input_path": "012-luca_flag_counters.ipynb",
   "output_path": "012-luca_flag_counters.ipynb",
   "parameters": {
    "SAVE_OUTPUT": true,
    "YEAR": 2024
   },
   "start_time": "2025-04-09T14:15:12.111689",
   "version": "2.6.0"
  }
 },
 "nbformat": 4,
 "nbformat_minor": 5
}