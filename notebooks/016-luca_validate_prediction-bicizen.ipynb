{
 "cells": [
  {
   "cell_type": "code",
   "execution_count": 63,
   "id": "34332b88",
   "metadata": {
    "execution": {
     "iopub.execute_input": "2025-03-14T15:01:54.244830Z",
     "iopub.status.busy": "2025-03-14T15:01:54.243834Z",
     "iopub.status.idle": "2025-03-14T15:01:54.250652Z",
     "shell.execute_reply": "2025-03-14T15:01:54.250652Z"
    },
    "executionInfo": {
     "elapsed": 196,
     "status": "ok",
     "timestamp": 1737216414526,
     "user": {
      "displayName": "Luca Liebscht",
      "userId": "11880140528704889234"
     },
     "user_tz": -60
    },
    "id": "I_hrwU9x479z",
    "papermill": {
     "duration": 0.013824,
     "end_time": "2025-03-14T15:01:54.251658",
     "exception": false,
     "start_time": "2025-03-14T15:01:54.237834",
     "status": "completed"
    }
   },
   "outputs": [],
   "source": [
    "# parameters\n",
    "INPUT_DATA_PATH = \"../data/interim/\"\n",
    "INPUT_PROCESSED_DATA_PATH = \"../data/processed/\"\n",
    "\n",
    "YEAR = 2017\n",
    "SAVE_OUTPUT = True\n",
    "OUTPUT_DATA_PATH = \"../data/processed/\"\n",
    "OUTPUT_FIGURES_PATH = \"../reports/figures/\""
   ]
  },
  {
   "cell_type": "code",
   "execution_count": 64,
   "id": "5c6e8545",
   "metadata": {
    "execution": {
     "iopub.execute_input": "2025-03-14T15:01:54.261716Z",
     "iopub.status.busy": "2025-03-14T15:01:54.261716Z",
     "iopub.status.idle": "2025-03-14T15:01:54.264679Z",
     "shell.execute_reply": "2025-03-14T15:01:54.264679Z"
    },
    "papermill": {
     "duration": 0.01041,
     "end_time": "2025-03-14T15:01:54.266108",
     "exception": false,
     "start_time": "2025-03-14T15:01:54.255698",
     "status": "completed"
    },
    "tags": [
     "injected-parameters"
    ]
   },
   "outputs": [],
   "source": [
    "# Parameters\n",
    "YEAR = 2024 \n",
    "SAVE_OUTPUT = True\n"
   ]
  },
  {
   "cell_type": "code",
   "execution_count": 65,
   "id": "f96ccfa5",
   "metadata": {
    "colab": {
     "base_uri": "https://localhost:8080/"
    },
    "execution": {
     "iopub.execute_input": "2025-03-14T15:01:54.277134Z",
     "iopub.status.busy": "2025-03-14T15:01:54.277134Z",
     "iopub.status.idle": "2025-03-14T15:01:55.391379Z",
     "shell.execute_reply": "2025-03-14T15:01:55.391379Z"
    },
    "executionInfo": {
     "elapsed": 19072,
     "status": "ok",
     "timestamp": 1737216453714,
     "user": {
      "displayName": "Luca Liebscht",
      "userId": "11880140528704889234"
     },
     "user_tz": -60
    },
    "id": "HnDB36CLTIxL",
    "outputId": "5e9ddd8f-0300-40ec-cf32-75cf8dc5e328",
    "papermill": {
     "duration": 1.123307,
     "end_time": "2025-03-14T15:01:55.393427",
     "exception": false,
     "start_time": "2025-03-14T15:01:54.270120",
     "status": "completed"
    },
    "tags": []
   },
   "outputs": [],
   "source": [
    "# Import all necessary libraries\n",
    "import time\n",
    "start = time.time()\n",
    "import geopandas as gpd\n",
    "import pandas as pd\n",
    "from functools import reduce\n",
    "import matplotlib.pyplot as plt\n",
    "from pandas.api.types import CategoricalDtype\n",
    "import seaborn as sns\n",
    "\n",
    "import warnings\n",
    "from pathlib import Path\n",
    "\n",
    "# Plot AADBT_DIFF using plotly express\n",
    "import plotly.express as px"
   ]
  },
  {
   "cell_type": "markdown",
   "id": "06a8ab48",
   "metadata": {
    "papermill": {
     "duration": 0.004997,
     "end_time": "2025-03-14T15:01:55.403523",
     "exception": false,
     "start_time": "2025-03-14T15:01:55.398526",
     "status": "completed"
    },
    "tags": []
   },
   "source": [
    "# Load data"
   ]
  },
  {
   "cell_type": "code",
   "execution_count": 66,
   "id": "1d238869",
   "metadata": {
    "execution": {
     "iopub.execute_input": "2025-03-14T15:01:55.414333Z",
     "iopub.status.busy": "2025-03-14T15:01:55.414333Z",
     "iopub.status.idle": "2025-03-14T15:01:55.599283Z",
     "shell.execute_reply": "2025-03-14T15:01:55.599283Z"
    },
    "papermill": {
     "duration": 0.192256,
     "end_time": "2025-03-14T15:01:55.600290",
     "exception": false,
     "start_time": "2025-03-14T15:01:55.408034",
     "status": "completed"
    },
    "tags": []
   },
   "outputs": [
    {
     "name": "stdout",
     "output_type": "stream",
     "text": [
      "(26, 5)\n",
      "Index(['Year', 'ROOT_ID', 'ATT', 'ATT_in_Million', 'AADBT'], dtype='object')\n"
     ]
    },
    {
     "data": {
      "text/html": [
       "<div>\n",
       "<style scoped>\n",
       "    .dataframe tbody tr th:only-of-type {\n",
       "        vertical-align: middle;\n",
       "    }\n",
       "\n",
       "    .dataframe tbody tr th {\n",
       "        vertical-align: top;\n",
       "    }\n",
       "\n",
       "    .dataframe thead th {\n",
       "        text-align: right;\n",
       "    }\n",
       "</style>\n",
       "<table border=\"1\" class=\"dataframe\">\n",
       "  <thead>\n",
       "    <tr style=\"text-align: right;\">\n",
       "      <th></th>\n",
       "      <th>Year</th>\n",
       "      <th>ROOT_ID</th>\n",
       "      <th>ATT</th>\n",
       "      <th>ATT_in_Million</th>\n",
       "      <th>AADBT</th>\n",
       "    </tr>\n",
       "  </thead>\n",
       "  <tbody>\n",
       "    <tr>\n",
       "      <th>0</th>\n",
       "      <td>2024</td>\n",
       "      <td>1029389</td>\n",
       "      <td>903375.899687</td>\n",
       "      <td>0.903376</td>\n",
       "      <td>2475.002465</td>\n",
       "    </tr>\n",
       "    <tr>\n",
       "      <th>1</th>\n",
       "      <td>2024</td>\n",
       "      <td>1046328</td>\n",
       "      <td>235286.266375</td>\n",
       "      <td>0.235286</td>\n",
       "      <td>644.619908</td>\n",
       "    </tr>\n",
       "    <tr>\n",
       "      <th>2</th>\n",
       "      <td>2024</td>\n",
       "      <td>1046333</td>\n",
       "      <td>80525.583573</td>\n",
       "      <td>0.080526</td>\n",
       "      <td>220.618037</td>\n",
       "    </tr>\n",
       "    <tr>\n",
       "      <th>3</th>\n",
       "      <td>2024</td>\n",
       "      <td>1046343</td>\n",
       "      <td>126998.308625</td>\n",
       "      <td>0.126998</td>\n",
       "      <td>347.940572</td>\n",
       "    </tr>\n",
       "    <tr>\n",
       "      <th>4</th>\n",
       "      <td>2024</td>\n",
       "      <td>1047953</td>\n",
       "      <td>865768.419524</td>\n",
       "      <td>0.865768</td>\n",
       "      <td>2371.968273</td>\n",
       "    </tr>\n",
       "  </tbody>\n",
       "</table>\n",
       "</div>"
      ],
      "text/plain": [
       "   Year  ROOT_ID            ATT  ATT_in_Million        AADBT\n",
       "0  2024  1029389  903375.899687        0.903376  2475.002465\n",
       "1  2024  1046328  235286.266375        0.235286   644.619908\n",
       "2  2024  1046333   80525.583573        0.080526   220.618037\n",
       "3  2024  1046343  126998.308625        0.126998   347.940572\n",
       "4  2024  1047953  865768.419524        0.865768  2371.968273"
      ]
     },
     "execution_count": 66,
     "metadata": {},
     "output_type": "execute_result"
    }
   ],
   "source": [
    "# Read BiciZen prediction \n",
    "bicizen_aadbt = pd.read_parquet(Path(INPUT_PROCESSED_DATA_PATH) / f\"bicizen_aadbt.parquet\")\n",
    "print(bicizen_aadbt.shape)\n",
    "print(bicizen_aadbt.columns)\n",
    "bicizen_aadbt.head(5)"
   ]
  },
  {
   "cell_type": "code",
   "execution_count": 67,
   "id": "66753e76",
   "metadata": {},
   "outputs": [
    {
     "name": "stdout",
     "output_type": "stream",
     "text": [
      "(55, 9)\n",
      "Index(['ROOT_ID', 'Desc_aforament', 'direction_counter', 'directionality',\n",
      "       'geometry', 'id', 'DaysWithData', 'HasWeekendData', 'Observations'],\n",
      "      dtype='object')\n"
     ]
    },
    {
     "data": {
      "text/html": [
       "<div>\n",
       "<style scoped>\n",
       "    .dataframe tbody tr th:only-of-type {\n",
       "        vertical-align: middle;\n",
       "    }\n",
       "\n",
       "    .dataframe tbody tr th {\n",
       "        vertical-align: top;\n",
       "    }\n",
       "\n",
       "    .dataframe thead th {\n",
       "        text-align: right;\n",
       "    }\n",
       "</style>\n",
       "<table border=\"1\" class=\"dataframe\">\n",
       "  <thead>\n",
       "    <tr style=\"text-align: right;\">\n",
       "      <th></th>\n",
       "      <th>ROOT_ID</th>\n",
       "      <th>Desc_aforament</th>\n",
       "      <th>direction_counter</th>\n",
       "      <th>directionality</th>\n",
       "      <th>geometry</th>\n",
       "      <th>id</th>\n",
       "      <th>DaysWithData</th>\n",
       "      <th>HasWeekendData</th>\n",
       "      <th>Observations</th>\n",
       "    </tr>\n",
       "  </thead>\n",
       "  <tbody>\n",
       "    <tr>\n",
       "      <th>0</th>\n",
       "      <td>1060335</td>\n",
       "      <td>C/ Bilbao</td>\n",
       "      <td>NW</td>\n",
       "      <td>NaN</td>\n",
       "      <td>POINT (433211.182 4583998.871)</td>\n",
       "      <td>NaN</td>\n",
       "      <td>1</td>\n",
       "      <td>False</td>\n",
       "      <td>2</td>\n",
       "    </tr>\n",
       "    <tr>\n",
       "      <th>1</th>\n",
       "      <td>1048229</td>\n",
       "      <td>C/ de Bilbao 117</td>\n",
       "      <td>SE</td>\n",
       "      <td>NaN</td>\n",
       "      <td>POINT (433211.182 4583998.871)</td>\n",
       "      <td>NaN</td>\n",
       "      <td>2</td>\n",
       "      <td>False</td>\n",
       "      <td>3</td>\n",
       "    </tr>\n",
       "    <tr>\n",
       "      <th>2</th>\n",
       "      <td>1048249</td>\n",
       "      <td>Rambla de l'Onze de Setembre 2</td>\n",
       "      <td>W</td>\n",
       "      <td>NaN</td>\n",
       "      <td>POINT (432725.306 4586854.582)</td>\n",
       "      <td>NaN</td>\n",
       "      <td>1</td>\n",
       "      <td>True</td>\n",
       "      <td>2</td>\n",
       "    </tr>\n",
       "    <tr>\n",
       "      <th>3</th>\n",
       "      <td>1048273</td>\n",
       "      <td>C/ de Pi i Margall 114</td>\n",
       "      <td>N</td>\n",
       "      <td>NaN</td>\n",
       "      <td>POINT (430189.262 4584777.934)</td>\n",
       "      <td>NaN</td>\n",
       "      <td>33</td>\n",
       "      <td>True</td>\n",
       "      <td>40</td>\n",
       "    </tr>\n",
       "    <tr>\n",
       "      <th>4</th>\n",
       "      <td>1048896</td>\n",
       "      <td>C/ Jocs Florals 175</td>\n",
       "      <td>SE</td>\n",
       "      <td>NaN</td>\n",
       "      <td>POINT (427815.131 4580216.804)</td>\n",
       "      <td>NaN</td>\n",
       "      <td>16</td>\n",
       "      <td>False</td>\n",
       "      <td>18</td>\n",
       "    </tr>\n",
       "  </tbody>\n",
       "</table>\n",
       "</div>"
      ],
      "text/plain": [
       "   ROOT_ID                  Desc_aforament direction_counter  directionality  \\\n",
       "0  1060335                       C/ Bilbao                NW             NaN   \n",
       "1  1048229                C/ de Bilbao 117                SE             NaN   \n",
       "2  1048249  Rambla de l'Onze de Setembre 2                 W             NaN   \n",
       "3  1048273          C/ de Pi i Margall 114                 N             NaN   \n",
       "4  1048896             C/ Jocs Florals 175                SE             NaN   \n",
       "\n",
       "                         geometry  id  DaysWithData  HasWeekendData  \\\n",
       "0  POINT (433211.182 4583998.871) NaN             1           False   \n",
       "1  POINT (433211.182 4583998.871) NaN             2           False   \n",
       "2  POINT (432725.306 4586854.582) NaN             1            True   \n",
       "3  POINT (430189.262 4584777.934) NaN            33            True   \n",
       "4  POINT (427815.131 4580216.804) NaN            16           False   \n",
       "\n",
       "   Observations  \n",
       "0             2  \n",
       "1             3  \n",
       "2             2  \n",
       "3            40  \n",
       "4            18  "
      ]
     },
     "execution_count": 67,
     "metadata": {},
     "output_type": "execute_result"
    }
   ],
   "source": [
    "# Read BiciZen station\n",
    "bicizen_sation = gpd.read_parquet(Path(INPUT_DATA_PATH) / f\"bicizen/bicizen_stations.parquet\")\n",
    "print(bicizen_sation.shape)\n",
    "print(bicizen_sation.columns)\n",
    "bicizen_sation.head(5)"
   ]
  },
  {
   "cell_type": "code",
   "execution_count": 68,
   "id": "43a63804",
   "metadata": {},
   "outputs": [
    {
     "name": "stdout",
     "output_type": "stream",
     "text": [
      "(327, 3)\n",
      "Index(['id', 'AADBT', 'Number_of_days'], dtype='object')\n"
     ]
    },
    {
     "data": {
      "text/html": [
       "<div>\n",
       "<style scoped>\n",
       "    .dataframe tbody tr th:only-of-type {\n",
       "        vertical-align: middle;\n",
       "    }\n",
       "\n",
       "    .dataframe tbody tr th {\n",
       "        vertical-align: top;\n",
       "    }\n",
       "\n",
       "    .dataframe thead th {\n",
       "        text-align: right;\n",
       "    }\n",
       "</style>\n",
       "<table border=\"1\" class=\"dataframe\">\n",
       "  <thead>\n",
       "    <tr style=\"text-align: right;\">\n",
       "      <th></th>\n",
       "      <th>id</th>\n",
       "      <th>AADBT</th>\n",
       "      <th>Number_of_days</th>\n",
       "    </tr>\n",
       "  </thead>\n",
       "  <tbody>\n",
       "    <tr>\n",
       "      <th>0</th>\n",
       "      <td>20001</td>\n",
       "      <td>3916.892128</td>\n",
       "      <td>343</td>\n",
       "    </tr>\n",
       "    <tr>\n",
       "      <th>1</th>\n",
       "      <td>20002</td>\n",
       "      <td>7152.887387</td>\n",
       "      <td>222</td>\n",
       "    </tr>\n",
       "    <tr>\n",
       "      <th>2</th>\n",
       "      <td>20003</td>\n",
       "      <td>3816.694268</td>\n",
       "      <td>157</td>\n",
       "    </tr>\n",
       "    <tr>\n",
       "      <th>3</th>\n",
       "      <td>20005</td>\n",
       "      <td>3055.405109</td>\n",
       "      <td>274</td>\n",
       "    </tr>\n",
       "    <tr>\n",
       "      <th>4</th>\n",
       "      <td>20006</td>\n",
       "      <td>2599.983660</td>\n",
       "      <td>306</td>\n",
       "    </tr>\n",
       "  </tbody>\n",
       "</table>\n",
       "</div>"
      ],
      "text/plain": [
       "      id        AADBT  Number_of_days\n",
       "0  20001  3916.892128             343\n",
       "1  20002  7152.887387             222\n",
       "2  20003  3816.694268             157\n",
       "3  20005  3055.405109             274\n",
       "4  20006  2599.983660             306"
      ]
     },
     "execution_count": 68,
     "metadata": {},
     "output_type": "execute_result"
    }
   ],
   "source": [
    "# Read BiciZen prediction \n",
    "counters=pd.read_parquet(Path(INPUT_PROCESSED_DATA_PATH) /\"counter_aadbt2024.parquet\")\n",
    "# counters=gpd.read_parquet(Path(INPUT_PROCESSED_DATA_PATH) /\"013_oriented_stations2023.parquet\")\n",
    "counters=counters.rename(columns={\"Id_aforament\": \"id\"})\n",
    "print(counters.shape)\n",
    "print(counters.columns)\n",
    "\n",
    "counters.head(5)\n"
   ]
  },
  {
   "cell_type": "markdown",
   "id": "28e337ab",
   "metadata": {},
   "source": [
    "# Merge data"
   ]
  },
  {
   "cell_type": "code",
   "execution_count": 69,
   "id": "6f8d69dd",
   "metadata": {},
   "outputs": [],
   "source": [
    "#Manage BiciZen AADBT\n",
    "bicizen_aadbt.rename(columns={\"AADBT\":\"AADBT_BICIZEN\"}, inplace=True)\n",
    "bicizen_aadbt=bicizen_aadbt[['ROOT_ID', 'AADBT_BICIZEN']]\n",
    "\n",
    "#Manage biciZen Stations\n",
    "bicizen_sation[['ROOT_ID', 'id',  'direction_counter', 'geometry']]\n",
    "bicizen_sation[\"id\"] = bicizen_sation[\"id\"].fillna(-1).astype(int)\n",
    "\n",
    "#Manage counts\n",
    "counters.rename(columns={\"AADBT\":\"AADBT_COUNTER\"}, inplace=True)\n",
    "counters=counters[['id','AADBT_COUNTER']]"
   ]
  },
  {
   "cell_type": "code",
   "execution_count": 70,
   "id": "025f831d",
   "metadata": {},
   "outputs": [
    {
     "name": "stdout",
     "output_type": "stream",
     "text": [
      "(9, 10)\n",
      "Index(['ROOT_ID', 'id', 'AADBT_BICIZEN', 'AADBT_COUNTER', 'direction_counter',\n",
      "       'DaysWithData', 'HasWeekendData', 'Observations', 'geometry',\n",
      "       'AADBT_DIFF'],\n",
      "      dtype='object')\n"
     ]
    },
    {
     "data": {
      "text/html": [
       "<div>\n",
       "<style scoped>\n",
       "    .dataframe tbody tr th:only-of-type {\n",
       "        vertical-align: middle;\n",
       "    }\n",
       "\n",
       "    .dataframe tbody tr th {\n",
       "        vertical-align: top;\n",
       "    }\n",
       "\n",
       "    .dataframe thead th {\n",
       "        text-align: right;\n",
       "    }\n",
       "</style>\n",
       "<table border=\"1\" class=\"dataframe\">\n",
       "  <thead>\n",
       "    <tr style=\"text-align: right;\">\n",
       "      <th></th>\n",
       "      <th>ROOT_ID</th>\n",
       "      <th>id</th>\n",
       "      <th>AADBT_BICIZEN</th>\n",
       "      <th>AADBT_COUNTER</th>\n",
       "      <th>direction_counter</th>\n",
       "      <th>DaysWithData</th>\n",
       "      <th>HasWeekendData</th>\n",
       "      <th>Observations</th>\n",
       "      <th>geometry</th>\n",
       "      <th>AADBT_DIFF</th>\n",
       "    </tr>\n",
       "  </thead>\n",
       "  <tbody>\n",
       "    <tr>\n",
       "      <th>0</th>\n",
       "      <td>1046328</td>\n",
       "      <td>20404</td>\n",
       "      <td>644.619908</td>\n",
       "      <td>1112.157051</td>\n",
       "      <td>NW</td>\n",
       "      <td>10</td>\n",
       "      <td>False</td>\n",
       "      <td>13</td>\n",
       "      <td>POINT (426616.254 4583734.058)</td>\n",
       "      <td>-467.537143</td>\n",
       "    </tr>\n",
       "    <tr>\n",
       "      <th>1</th>\n",
       "      <td>1048223</td>\n",
       "      <td>20248</td>\n",
       "      <td>1521.260065</td>\n",
       "      <td>5002.151603</td>\n",
       "      <td>N</td>\n",
       "      <td>11</td>\n",
       "      <td>False</td>\n",
       "      <td>13</td>\n",
       "      <td>POINT (432061.273 4584212.752)</td>\n",
       "      <td>-3480.891538</td>\n",
       "    </tr>\n",
       "    <tr>\n",
       "      <th>2</th>\n",
       "      <td>1048268</td>\n",
       "      <td>20347</td>\n",
       "      <td>385.748172</td>\n",
       "      <td>1185.923567</td>\n",
       "      <td>SW</td>\n",
       "      <td>33</td>\n",
       "      <td>True</td>\n",
       "      <td>42</td>\n",
       "      <td>POINT (430852.232 4585230.121)</td>\n",
       "      <td>-800.175395</td>\n",
       "    </tr>\n",
       "    <tr>\n",
       "      <th>3</th>\n",
       "      <td>1048272</td>\n",
       "      <td>20241</td>\n",
       "      <td>504.319493</td>\n",
       "      <td>1953.168790</td>\n",
       "      <td>N</td>\n",
       "      <td>13</td>\n",
       "      <td>False</td>\n",
       "      <td>13</td>\n",
       "      <td>POINT (426382.214 4581269.343)</td>\n",
       "      <td>-1448.849297</td>\n",
       "    </tr>\n",
       "    <tr>\n",
       "      <th>4</th>\n",
       "      <td>1048274</td>\n",
       "      <td>20099</td>\n",
       "      <td>1342.547186</td>\n",
       "      <td>4860.427326</td>\n",
       "      <td>NE</td>\n",
       "      <td>31</td>\n",
       "      <td>True</td>\n",
       "      <td>43</td>\n",
       "      <td>POINT (430235.035 4584150.178)</td>\n",
       "      <td>-3517.880140</td>\n",
       "    </tr>\n",
       "  </tbody>\n",
       "</table>\n",
       "</div>"
      ],
      "text/plain": [
       "   ROOT_ID     id  AADBT_BICIZEN  AADBT_COUNTER direction_counter  \\\n",
       "0  1046328  20404     644.619908    1112.157051                NW   \n",
       "1  1048223  20248    1521.260065    5002.151603                 N   \n",
       "2  1048268  20347     385.748172    1185.923567                SW   \n",
       "3  1048272  20241     504.319493    1953.168790                 N   \n",
       "4  1048274  20099    1342.547186    4860.427326                NE   \n",
       "\n",
       "   DaysWithData  HasWeekendData  Observations                        geometry  \\\n",
       "0            10           False            13  POINT (426616.254 4583734.058)   \n",
       "1            11           False            13  POINT (432061.273 4584212.752)   \n",
       "2            33            True            42  POINT (430852.232 4585230.121)   \n",
       "3            13           False            13  POINT (426382.214 4581269.343)   \n",
       "4            31            True            43  POINT (430235.035 4584150.178)   \n",
       "\n",
       "    AADBT_DIFF  \n",
       "0  -467.537143  \n",
       "1 -3480.891538  \n",
       "2  -800.175395  \n",
       "3 -1448.849297  \n",
       "4 -3517.880140  "
      ]
     },
     "execution_count": 70,
     "metadata": {},
     "output_type": "execute_result"
    }
   ],
   "source": [
    "# Merge bicizen_aadbt and bicizen_sation on 'ROOT_ID'\n",
    "merged_df = pd.merge(bicizen_aadbt, bicizen_sation, on='ROOT_ID')\n",
    "\n",
    "# Merge the result with counters on 'id'\n",
    "final_df = pd.merge(merged_df, counters, on='id')\n",
    "final_df=final_df[['ROOT_ID','id',  'AADBT_BICIZEN','AADBT_COUNTER', \n",
    "'direction_counter','DaysWithData', 'HasWeekendData', 'Observations',\n",
    "                   'geometry']]\n",
    "\n",
    "# Calculate the difference\n",
    "final_df['AADBT_DIFF'] = final_df['AADBT_BICIZEN'] - final_df['AADBT_COUNTER']\n",
    "\n",
    "# Display the merged dataframe\n",
    "print(final_df.shape)\n",
    "print(final_df.columns)\n",
    "\n",
    "final_df.head(5)\n"
   ]
  },
  {
   "cell_type": "code",
   "execution_count": 71,
   "id": "a69d7ad8",
   "metadata": {},
   "outputs": [
    {
     "data": {
      "text/html": [
       "<div>\n",
       "<style scoped>\n",
       "    .dataframe tbody tr th:only-of-type {\n",
       "        vertical-align: middle;\n",
       "    }\n",
       "\n",
       "    .dataframe tbody tr th {\n",
       "        vertical-align: top;\n",
       "    }\n",
       "\n",
       "    .dataframe thead th {\n",
       "        text-align: right;\n",
       "    }\n",
       "</style>\n",
       "<table border=\"1\" class=\"dataframe\">\n",
       "  <thead>\n",
       "    <tr style=\"text-align: right;\">\n",
       "      <th></th>\n",
       "      <th>ROOT_ID</th>\n",
       "      <th>id</th>\n",
       "      <th>AADBT_BICIZEN</th>\n",
       "      <th>AADBT_COUNTER</th>\n",
       "      <th>DaysWithData</th>\n",
       "      <th>Observations</th>\n",
       "      <th>AADBT_DIFF</th>\n",
       "    </tr>\n",
       "  </thead>\n",
       "  <tbody>\n",
       "    <tr>\n",
       "      <th>count</th>\n",
       "      <td>9.000000e+00</td>\n",
       "      <td>9.000000</td>\n",
       "      <td>9.000000</td>\n",
       "      <td>9.000000</td>\n",
       "      <td>9.000000</td>\n",
       "      <td>9.000000</td>\n",
       "      <td>9.000000</td>\n",
       "    </tr>\n",
       "    <tr>\n",
       "      <th>mean</th>\n",
       "      <td>1.049267e+06</td>\n",
       "      <td>20244.000000</td>\n",
       "      <td>941.036452</td>\n",
       "      <td>2699.885942</td>\n",
       "      <td>20.666667</td>\n",
       "      <td>26.000000</td>\n",
       "      <td>-1758.849489</td>\n",
       "    </tr>\n",
       "    <tr>\n",
       "      <th>std</th>\n",
       "      <td>2.448706e+03</td>\n",
       "      <td>108.983944</td>\n",
       "      <td>472.907782</td>\n",
       "      <td>1857.830689</td>\n",
       "      <td>9.643651</td>\n",
       "      <td>13.647344</td>\n",
       "      <td>1439.508449</td>\n",
       "    </tr>\n",
       "    <tr>\n",
       "      <th>min</th>\n",
       "      <td>1.046328e+06</td>\n",
       "      <td>20098.000000</td>\n",
       "      <td>385.748172</td>\n",
       "      <td>1112.157051</td>\n",
       "      <td>10.000000</td>\n",
       "      <td>13.000000</td>\n",
       "      <td>-3893.124997</td>\n",
       "    </tr>\n",
       "    <tr>\n",
       "      <th>25%</th>\n",
       "      <td>1.048268e+06</td>\n",
       "      <td>20169.000000</td>\n",
       "      <td>556.079858</td>\n",
       "      <td>1488.991176</td>\n",
       "      <td>13.000000</td>\n",
       "      <td>13.000000</td>\n",
       "      <td>-3480.891538</td>\n",
       "    </tr>\n",
       "    <tr>\n",
       "      <th>50%</th>\n",
       "      <td>1.048274e+06</td>\n",
       "      <td>20242.000000</td>\n",
       "      <td>826.345709</td>\n",
       "      <td>1617.548077</td>\n",
       "      <td>17.000000</td>\n",
       "      <td>23.000000</td>\n",
       "      <td>-1061.468219</td>\n",
       "    </tr>\n",
       "    <tr>\n",
       "      <th>75%</th>\n",
       "      <td>1.049380e+06</td>\n",
       "      <td>20347.000000</td>\n",
       "      <td>1342.547186</td>\n",
       "      <td>4860.427326</td>\n",
       "      <td>31.000000</td>\n",
       "      <td>40.000000</td>\n",
       "      <td>-662.645468</td>\n",
       "    </tr>\n",
       "    <tr>\n",
       "      <th>max</th>\n",
       "      <td>1.054514e+06</td>\n",
       "      <td>20404.000000</td>\n",
       "      <td>1674.280251</td>\n",
       "      <td>5567.405248</td>\n",
       "      <td>33.000000</td>\n",
       "      <td>43.000000</td>\n",
       "      <td>-467.537143</td>\n",
       "    </tr>\n",
       "  </tbody>\n",
       "</table>\n",
       "</div>"
      ],
      "text/plain": [
       "            ROOT_ID            id  AADBT_BICIZEN  AADBT_COUNTER  DaysWithData  \\\n",
       "count  9.000000e+00      9.000000       9.000000       9.000000      9.000000   \n",
       "mean   1.049267e+06  20244.000000     941.036452    2699.885942     20.666667   \n",
       "std    2.448706e+03    108.983944     472.907782    1857.830689      9.643651   \n",
       "min    1.046328e+06  20098.000000     385.748172    1112.157051     10.000000   \n",
       "25%    1.048268e+06  20169.000000     556.079858    1488.991176     13.000000   \n",
       "50%    1.048274e+06  20242.000000     826.345709    1617.548077     17.000000   \n",
       "75%    1.049380e+06  20347.000000    1342.547186    4860.427326     31.000000   \n",
       "max    1.054514e+06  20404.000000    1674.280251    5567.405248     33.000000   \n",
       "\n",
       "       Observations   AADBT_DIFF  \n",
       "count      9.000000     9.000000  \n",
       "mean      26.000000 -1758.849489  \n",
       "std       13.647344  1439.508449  \n",
       "min       13.000000 -3893.124997  \n",
       "25%       13.000000 -3480.891538  \n",
       "50%       23.000000 -1061.468219  \n",
       "75%       40.000000  -662.645468  \n",
       "max       43.000000  -467.537143  "
      ]
     },
     "execution_count": 71,
     "metadata": {},
     "output_type": "execute_result"
    }
   ],
   "source": [
    "final_df.describe()"
   ]
  },
  {
   "cell_type": "markdown",
   "id": "717b6bba",
   "metadata": {},
   "source": [
    "# Compare AADBT"
   ]
  },
  {
   "cell_type": "markdown",
   "id": "b297b095",
   "metadata": {},
   "source": [
    "### Explore value"
   ]
  },
  {
   "cell_type": "code",
   "execution_count": 72,
   "id": "a8b94a96",
   "metadata": {},
   "outputs": [
    {
     "data": {
      "application/vnd.plotly.v1+json": {
       "config": {
        "plotlyServerURL": "https://plot.ly"
       },
       "data": [
        {
         "alignmentgroup": "True",
         "hovertemplate": "variable=%{x}<br>value=%{y}<extra></extra>",
         "legendgroup": "",
         "marker": {
          "color": "#636efa"
         },
         "name": "",
         "notched": false,
         "offsetgroup": "",
         "orientation": "v",
         "showlegend": false,
         "type": "box",
         "x": [
          "AADBT_BICIZEN",
          "AADBT_BICIZEN",
          "AADBT_BICIZEN",
          "AADBT_BICIZEN",
          "AADBT_BICIZEN",
          "AADBT_BICIZEN",
          "AADBT_BICIZEN",
          "AADBT_BICIZEN",
          "AADBT_BICIZEN",
          "AADBT_COUNTER",
          "AADBT_COUNTER",
          "AADBT_COUNTER",
          "AADBT_COUNTER",
          "AADBT_COUNTER",
          "AADBT_COUNTER",
          "AADBT_COUNTER",
          "AADBT_COUNTER",
          "AADBT_COUNTER",
          "AADBT_DIFF",
          "AADBT_DIFF",
          "AADBT_DIFF",
          "AADBT_DIFF",
          "AADBT_DIFF",
          "AADBT_DIFF",
          "AADBT_DIFF",
          "AADBT_DIFF",
          "AADBT_DIFF"
         ],
         "x0": " ",
         "xaxis": "x",
         "y": [
          644.6199078775657,
          1521.2600650660888,
          385.74817181332594,
          504.3194927540945,
          1342.5471859976346,
          826.3457085615964,
          1674.2802505589023,
          556.079857718409,
          1014.1274318078534,
          1112.1570512820513,
          5002.1516034985425,
          1185.9235668789809,
          1953.1687898089172,
          4860.427325581395,
          1488.9911764705882,
          5567.405247813411,
          1617.548076923077,
          1511.2006369426751,
          467.5371434044856,
          3480.8915384324537,
          800.1753950656549,
          1448.8492970548227,
          3517.8801395837604,
          662.6454679089918,
          3893.1249972545083,
          1061.468219204668,
          497.0732051348217
         ],
         "y0": " ",
         "yaxis": "y"
        }
       ],
       "layout": {
        "boxmode": "group",
        "legend": {
         "tracegroupgap": 0
        },
        "template": {
         "data": {
          "bar": [
           {
            "error_x": {
             "color": "#2a3f5f"
            },
            "error_y": {
             "color": "#2a3f5f"
            },
            "marker": {
             "line": {
              "color": "#E5ECF6",
              "width": 0.5
             },
             "pattern": {
              "fillmode": "overlay",
              "size": 10,
              "solidity": 0.2
             }
            },
            "type": "bar"
           }
          ],
          "barpolar": [
           {
            "marker": {
             "line": {
              "color": "#E5ECF6",
              "width": 0.5
             },
             "pattern": {
              "fillmode": "overlay",
              "size": 10,
              "solidity": 0.2
             }
            },
            "type": "barpolar"
           }
          ],
          "carpet": [
           {
            "aaxis": {
             "endlinecolor": "#2a3f5f",
             "gridcolor": "white",
             "linecolor": "white",
             "minorgridcolor": "white",
             "startlinecolor": "#2a3f5f"
            },
            "baxis": {
             "endlinecolor": "#2a3f5f",
             "gridcolor": "white",
             "linecolor": "white",
             "minorgridcolor": "white",
             "startlinecolor": "#2a3f5f"
            },
            "type": "carpet"
           }
          ],
          "choropleth": [
           {
            "colorbar": {
             "outlinewidth": 0,
             "ticks": ""
            },
            "type": "choropleth"
           }
          ],
          "contour": [
           {
            "colorbar": {
             "outlinewidth": 0,
             "ticks": ""
            },
            "colorscale": [
             [
              0,
              "#0d0887"
             ],
             [
              0.1111111111111111,
              "#46039f"
             ],
             [
              0.2222222222222222,
              "#7201a8"
             ],
             [
              0.3333333333333333,
              "#9c179e"
             ],
             [
              0.4444444444444444,
              "#bd3786"
             ],
             [
              0.5555555555555556,
              "#d8576b"
             ],
             [
              0.6666666666666666,
              "#ed7953"
             ],
             [
              0.7777777777777778,
              "#fb9f3a"
             ],
             [
              0.8888888888888888,
              "#fdca26"
             ],
             [
              1,
              "#f0f921"
             ]
            ],
            "type": "contour"
           }
          ],
          "contourcarpet": [
           {
            "colorbar": {
             "outlinewidth": 0,
             "ticks": ""
            },
            "type": "contourcarpet"
           }
          ],
          "heatmap": [
           {
            "colorbar": {
             "outlinewidth": 0,
             "ticks": ""
            },
            "colorscale": [
             [
              0,
              "#0d0887"
             ],
             [
              0.1111111111111111,
              "#46039f"
             ],
             [
              0.2222222222222222,
              "#7201a8"
             ],
             [
              0.3333333333333333,
              "#9c179e"
             ],
             [
              0.4444444444444444,
              "#bd3786"
             ],
             [
              0.5555555555555556,
              "#d8576b"
             ],
             [
              0.6666666666666666,
              "#ed7953"
             ],
             [
              0.7777777777777778,
              "#fb9f3a"
             ],
             [
              0.8888888888888888,
              "#fdca26"
             ],
             [
              1,
              "#f0f921"
             ]
            ],
            "type": "heatmap"
           }
          ],
          "heatmapgl": [
           {
            "colorbar": {
             "outlinewidth": 0,
             "ticks": ""
            },
            "colorscale": [
             [
              0,
              "#0d0887"
             ],
             [
              0.1111111111111111,
              "#46039f"
             ],
             [
              0.2222222222222222,
              "#7201a8"
             ],
             [
              0.3333333333333333,
              "#9c179e"
             ],
             [
              0.4444444444444444,
              "#bd3786"
             ],
             [
              0.5555555555555556,
              "#d8576b"
             ],
             [
              0.6666666666666666,
              "#ed7953"
             ],
             [
              0.7777777777777778,
              "#fb9f3a"
             ],
             [
              0.8888888888888888,
              "#fdca26"
             ],
             [
              1,
              "#f0f921"
             ]
            ],
            "type": "heatmapgl"
           }
          ],
          "histogram": [
           {
            "marker": {
             "pattern": {
              "fillmode": "overlay",
              "size": 10,
              "solidity": 0.2
             }
            },
            "type": "histogram"
           }
          ],
          "histogram2d": [
           {
            "colorbar": {
             "outlinewidth": 0,
             "ticks": ""
            },
            "colorscale": [
             [
              0,
              "#0d0887"
             ],
             [
              0.1111111111111111,
              "#46039f"
             ],
             [
              0.2222222222222222,
              "#7201a8"
             ],
             [
              0.3333333333333333,
              "#9c179e"
             ],
             [
              0.4444444444444444,
              "#bd3786"
             ],
             [
              0.5555555555555556,
              "#d8576b"
             ],
             [
              0.6666666666666666,
              "#ed7953"
             ],
             [
              0.7777777777777778,
              "#fb9f3a"
             ],
             [
              0.8888888888888888,
              "#fdca26"
             ],
             [
              1,
              "#f0f921"
             ]
            ],
            "type": "histogram2d"
           }
          ],
          "histogram2dcontour": [
           {
            "colorbar": {
             "outlinewidth": 0,
             "ticks": ""
            },
            "colorscale": [
             [
              0,
              "#0d0887"
             ],
             [
              0.1111111111111111,
              "#46039f"
             ],
             [
              0.2222222222222222,
              "#7201a8"
             ],
             [
              0.3333333333333333,
              "#9c179e"
             ],
             [
              0.4444444444444444,
              "#bd3786"
             ],
             [
              0.5555555555555556,
              "#d8576b"
             ],
             [
              0.6666666666666666,
              "#ed7953"
             ],
             [
              0.7777777777777778,
              "#fb9f3a"
             ],
             [
              0.8888888888888888,
              "#fdca26"
             ],
             [
              1,
              "#f0f921"
             ]
            ],
            "type": "histogram2dcontour"
           }
          ],
          "mesh3d": [
           {
            "colorbar": {
             "outlinewidth": 0,
             "ticks": ""
            },
            "type": "mesh3d"
           }
          ],
          "parcoords": [
           {
            "line": {
             "colorbar": {
              "outlinewidth": 0,
              "ticks": ""
             }
            },
            "type": "parcoords"
           }
          ],
          "pie": [
           {
            "automargin": true,
            "type": "pie"
           }
          ],
          "scatter": [
           {
            "fillpattern": {
             "fillmode": "overlay",
             "size": 10,
             "solidity": 0.2
            },
            "type": "scatter"
           }
          ],
          "scatter3d": [
           {
            "line": {
             "colorbar": {
              "outlinewidth": 0,
              "ticks": ""
             }
            },
            "marker": {
             "colorbar": {
              "outlinewidth": 0,
              "ticks": ""
             }
            },
            "type": "scatter3d"
           }
          ],
          "scattercarpet": [
           {
            "marker": {
             "colorbar": {
              "outlinewidth": 0,
              "ticks": ""
             }
            },
            "type": "scattercarpet"
           }
          ],
          "scattergeo": [
           {
            "marker": {
             "colorbar": {
              "outlinewidth": 0,
              "ticks": ""
             }
            },
            "type": "scattergeo"
           }
          ],
          "scattergl": [
           {
            "marker": {
             "colorbar": {
              "outlinewidth": 0,
              "ticks": ""
             }
            },
            "type": "scattergl"
           }
          ],
          "scattermapbox": [
           {
            "marker": {
             "colorbar": {
              "outlinewidth": 0,
              "ticks": ""
             }
            },
            "type": "scattermapbox"
           }
          ],
          "scatterpolar": [
           {
            "marker": {
             "colorbar": {
              "outlinewidth": 0,
              "ticks": ""
             }
            },
            "type": "scatterpolar"
           }
          ],
          "scatterpolargl": [
           {
            "marker": {
             "colorbar": {
              "outlinewidth": 0,
              "ticks": ""
             }
            },
            "type": "scatterpolargl"
           }
          ],
          "scatterternary": [
           {
            "marker": {
             "colorbar": {
              "outlinewidth": 0,
              "ticks": ""
             }
            },
            "type": "scatterternary"
           }
          ],
          "surface": [
           {
            "colorbar": {
             "outlinewidth": 0,
             "ticks": ""
            },
            "colorscale": [
             [
              0,
              "#0d0887"
             ],
             [
              0.1111111111111111,
              "#46039f"
             ],
             [
              0.2222222222222222,
              "#7201a8"
             ],
             [
              0.3333333333333333,
              "#9c179e"
             ],
             [
              0.4444444444444444,
              "#bd3786"
             ],
             [
              0.5555555555555556,
              "#d8576b"
             ],
             [
              0.6666666666666666,
              "#ed7953"
             ],
             [
              0.7777777777777778,
              "#fb9f3a"
             ],
             [
              0.8888888888888888,
              "#fdca26"
             ],
             [
              1,
              "#f0f921"
             ]
            ],
            "type": "surface"
           }
          ],
          "table": [
           {
            "cells": {
             "fill": {
              "color": "#EBF0F8"
             },
             "line": {
              "color": "white"
             }
            },
            "header": {
             "fill": {
              "color": "#C8D4E3"
             },
             "line": {
              "color": "white"
             }
            },
            "type": "table"
           }
          ]
         },
         "layout": {
          "annotationdefaults": {
           "arrowcolor": "#2a3f5f",
           "arrowhead": 0,
           "arrowwidth": 1
          },
          "autotypenumbers": "strict",
          "coloraxis": {
           "colorbar": {
            "outlinewidth": 0,
            "ticks": ""
           }
          },
          "colorscale": {
           "diverging": [
            [
             0,
             "#8e0152"
            ],
            [
             0.1,
             "#c51b7d"
            ],
            [
             0.2,
             "#de77ae"
            ],
            [
             0.3,
             "#f1b6da"
            ],
            [
             0.4,
             "#fde0ef"
            ],
            [
             0.5,
             "#f7f7f7"
            ],
            [
             0.6,
             "#e6f5d0"
            ],
            [
             0.7,
             "#b8e186"
            ],
            [
             0.8,
             "#7fbc41"
            ],
            [
             0.9,
             "#4d9221"
            ],
            [
             1,
             "#276419"
            ]
           ],
           "sequential": [
            [
             0,
             "#0d0887"
            ],
            [
             0.1111111111111111,
             "#46039f"
            ],
            [
             0.2222222222222222,
             "#7201a8"
            ],
            [
             0.3333333333333333,
             "#9c179e"
            ],
            [
             0.4444444444444444,
             "#bd3786"
            ],
            [
             0.5555555555555556,
             "#d8576b"
            ],
            [
             0.6666666666666666,
             "#ed7953"
            ],
            [
             0.7777777777777778,
             "#fb9f3a"
            ],
            [
             0.8888888888888888,
             "#fdca26"
            ],
            [
             1,
             "#f0f921"
            ]
           ],
           "sequentialminus": [
            [
             0,
             "#0d0887"
            ],
            [
             0.1111111111111111,
             "#46039f"
            ],
            [
             0.2222222222222222,
             "#7201a8"
            ],
            [
             0.3333333333333333,
             "#9c179e"
            ],
            [
             0.4444444444444444,
             "#bd3786"
            ],
            [
             0.5555555555555556,
             "#d8576b"
            ],
            [
             0.6666666666666666,
             "#ed7953"
            ],
            [
             0.7777777777777778,
             "#fb9f3a"
            ],
            [
             0.8888888888888888,
             "#fdca26"
            ],
            [
             1,
             "#f0f921"
            ]
           ]
          },
          "colorway": [
           "#636efa",
           "#EF553B",
           "#00cc96",
           "#ab63fa",
           "#FFA15A",
           "#19d3f3",
           "#FF6692",
           "#B6E880",
           "#FF97FF",
           "#FECB52"
          ],
          "font": {
           "color": "#2a3f5f"
          },
          "geo": {
           "bgcolor": "white",
           "lakecolor": "white",
           "landcolor": "#E5ECF6",
           "showlakes": true,
           "showland": true,
           "subunitcolor": "white"
          },
          "hoverlabel": {
           "align": "left"
          },
          "hovermode": "closest",
          "mapbox": {
           "style": "light"
          },
          "paper_bgcolor": "white",
          "plot_bgcolor": "#E5ECF6",
          "polar": {
           "angularaxis": {
            "gridcolor": "white",
            "linecolor": "white",
            "ticks": ""
           },
           "bgcolor": "#E5ECF6",
           "radialaxis": {
            "gridcolor": "white",
            "linecolor": "white",
            "ticks": ""
           }
          },
          "scene": {
           "xaxis": {
            "backgroundcolor": "#E5ECF6",
            "gridcolor": "white",
            "gridwidth": 2,
            "linecolor": "white",
            "showbackground": true,
            "ticks": "",
            "zerolinecolor": "white"
           },
           "yaxis": {
            "backgroundcolor": "#E5ECF6",
            "gridcolor": "white",
            "gridwidth": 2,
            "linecolor": "white",
            "showbackground": true,
            "ticks": "",
            "zerolinecolor": "white"
           },
           "zaxis": {
            "backgroundcolor": "#E5ECF6",
            "gridcolor": "white",
            "gridwidth": 2,
            "linecolor": "white",
            "showbackground": true,
            "ticks": "",
            "zerolinecolor": "white"
           }
          },
          "shapedefaults": {
           "line": {
            "color": "#2a3f5f"
           }
          },
          "ternary": {
           "aaxis": {
            "gridcolor": "white",
            "linecolor": "white",
            "ticks": ""
           },
           "baxis": {
            "gridcolor": "white",
            "linecolor": "white",
            "ticks": ""
           },
           "bgcolor": "#E5ECF6",
           "caxis": {
            "gridcolor": "white",
            "linecolor": "white",
            "ticks": ""
           }
          },
          "title": {
           "x": 0.05
          },
          "xaxis": {
           "automargin": true,
           "gridcolor": "white",
           "linecolor": "white",
           "ticks": "",
           "title": {
            "standoff": 15
           },
           "zerolinecolor": "white",
           "zerolinewidth": 2
          },
          "yaxis": {
           "automargin": true,
           "gridcolor": "white",
           "linecolor": "white",
           "ticks": "",
           "title": {
            "standoff": 15
           },
           "zerolinecolor": "white",
           "zerolinewidth": 2
          }
         }
        },
        "title": {
         "text": "Boxplot of control locations difference in AADBT Values"
        },
        "xaxis": {
         "anchor": "y",
         "domain": [
          0,
          1
         ],
         "title": {
          "text": "variable"
         }
        },
        "yaxis": {
         "anchor": "x",
         "domain": [
          0,
          1
         ],
         "title": {
          "text": "value"
         }
        }
       }
      }
     },
     "metadata": {},
     "output_type": "display_data"
    }
   ],
   "source": [
    "# Describe the columns\n",
    "\n",
    "# Create a boxplot for each column\n",
    "# Multiply the difference by -1\n",
    "final_df['AADBT_DIFF'] = final_df['AADBT_DIFF'] * -1\n",
    "\n",
    "# Create a boxplot for each column\n",
    "fig = px.box(final_df, y=['AADBT_BICIZEN', 'AADBT_COUNTER', 'AADBT_DIFF'], title='Boxplot of control locations difference in AADBT Values')\n",
    "fig.show()\n",
    "\n",
    "final_df['AADBT_DIFF'] = final_df['AADBT_DIFF'] * -1\n"
   ]
  },
  {
   "cell_type": "markdown",
   "id": "28360faa",
   "metadata": {},
   "source": [
    "### Detect zeros"
   ]
  },
  {
   "cell_type": "code",
   "execution_count": 73,
   "id": "4590213c",
   "metadata": {},
   "outputs": [
    {
     "name": "stdout",
     "output_type": "stream",
     "text": [
      "(9, 10)\n"
     ]
    },
    {
     "data": {
      "text/plain": [
       "(9, 10)"
      ]
     },
     "execution_count": 73,
     "metadata": {},
     "output_type": "execute_result"
    }
   ],
   "source": [
    "print(final_df.shape)\n",
    "problem=final_df[final_df['AADBT_BICIZEN']==0][\"ROOT_ID\"]\n",
    "final_df=final_df[~final_df[\"ROOT_ID\"].isin(problem)]\n",
    "final_df.shape\n"
   ]
  },
  {
   "cell_type": "code",
   "execution_count": 74,
   "id": "ec7b7e63",
   "metadata": {},
   "outputs": [
    {
     "data": {
      "text/plain": [
       "(9, 10)"
      ]
     },
     "execution_count": 74,
     "metadata": {},
     "output_type": "execute_result"
    }
   ],
   "source": [
    "problem=final_df[final_df['AADBT_COUNTER']==0][\"id\"]\n",
    "final_df=final_df[~final_df[\"id\"].isin(problem)]\n",
    "final_df.shape"
   ]
  },
  {
   "cell_type": "markdown",
   "id": "46bf8edb",
   "metadata": {},
   "source": [
    "## Plots"
   ]
  },
  {
   "cell_type": "code",
   "execution_count": 75,
   "id": "3328e52a",
   "metadata": {},
   "outputs": [
    {
     "data": {
      "application/vnd.plotly.v1+json": {
       "config": {
        "plotlyServerURL": "https://plot.ly"
       },
       "data": [
        {
         "alignmentgroup": "True",
         "hovertemplate": "AADBT_DIFF=%{x}<br>Locations=%{y}<extra></extra>",
         "legendgroup": "",
         "marker": {
          "color": "#636efa",
          "pattern": {
           "shape": ""
          }
         },
         "name": "",
         "offsetgroup": "",
         "orientation": "h",
         "showlegend": false,
         "textposition": "auto",
         "type": "bar",
         "x": [
          -467.5371434044856,
          -497.0732051348217,
          -662.6454679089918,
          -800.1753950656549,
          -1061.468219204668,
          -1448.8492970548227,
          -3480.8915384324537,
          -3517.8801395837604,
          -3893.1249972545083
         ],
         "xaxis": "x",
         "y": [
          "NW",
          "S",
          "SE",
          "SW",
          "NE",
          "N",
          "N",
          "NE",
          "SW"
         ],
         "yaxis": "y"
        }
       ],
       "layout": {
        "barmode": "relative",
        "legend": {
         "tracegroupgap": 0
        },
        "template": {
         "data": {
          "bar": [
           {
            "error_x": {
             "color": "#2a3f5f"
            },
            "error_y": {
             "color": "#2a3f5f"
            },
            "marker": {
             "line": {
              "color": "#E5ECF6",
              "width": 0.5
             },
             "pattern": {
              "fillmode": "overlay",
              "size": 10,
              "solidity": 0.2
             }
            },
            "type": "bar"
           }
          ],
          "barpolar": [
           {
            "marker": {
             "line": {
              "color": "#E5ECF6",
              "width": 0.5
             },
             "pattern": {
              "fillmode": "overlay",
              "size": 10,
              "solidity": 0.2
             }
            },
            "type": "barpolar"
           }
          ],
          "carpet": [
           {
            "aaxis": {
             "endlinecolor": "#2a3f5f",
             "gridcolor": "white",
             "linecolor": "white",
             "minorgridcolor": "white",
             "startlinecolor": "#2a3f5f"
            },
            "baxis": {
             "endlinecolor": "#2a3f5f",
             "gridcolor": "white",
             "linecolor": "white",
             "minorgridcolor": "white",
             "startlinecolor": "#2a3f5f"
            },
            "type": "carpet"
           }
          ],
          "choropleth": [
           {
            "colorbar": {
             "outlinewidth": 0,
             "ticks": ""
            },
            "type": "choropleth"
           }
          ],
          "contour": [
           {
            "colorbar": {
             "outlinewidth": 0,
             "ticks": ""
            },
            "colorscale": [
             [
              0,
              "#0d0887"
             ],
             [
              0.1111111111111111,
              "#46039f"
             ],
             [
              0.2222222222222222,
              "#7201a8"
             ],
             [
              0.3333333333333333,
              "#9c179e"
             ],
             [
              0.4444444444444444,
              "#bd3786"
             ],
             [
              0.5555555555555556,
              "#d8576b"
             ],
             [
              0.6666666666666666,
              "#ed7953"
             ],
             [
              0.7777777777777778,
              "#fb9f3a"
             ],
             [
              0.8888888888888888,
              "#fdca26"
             ],
             [
              1,
              "#f0f921"
             ]
            ],
            "type": "contour"
           }
          ],
          "contourcarpet": [
           {
            "colorbar": {
             "outlinewidth": 0,
             "ticks": ""
            },
            "type": "contourcarpet"
           }
          ],
          "heatmap": [
           {
            "colorbar": {
             "outlinewidth": 0,
             "ticks": ""
            },
            "colorscale": [
             [
              0,
              "#0d0887"
             ],
             [
              0.1111111111111111,
              "#46039f"
             ],
             [
              0.2222222222222222,
              "#7201a8"
             ],
             [
              0.3333333333333333,
              "#9c179e"
             ],
             [
              0.4444444444444444,
              "#bd3786"
             ],
             [
              0.5555555555555556,
              "#d8576b"
             ],
             [
              0.6666666666666666,
              "#ed7953"
             ],
             [
              0.7777777777777778,
              "#fb9f3a"
             ],
             [
              0.8888888888888888,
              "#fdca26"
             ],
             [
              1,
              "#f0f921"
             ]
            ],
            "type": "heatmap"
           }
          ],
          "heatmapgl": [
           {
            "colorbar": {
             "outlinewidth": 0,
             "ticks": ""
            },
            "colorscale": [
             [
              0,
              "#0d0887"
             ],
             [
              0.1111111111111111,
              "#46039f"
             ],
             [
              0.2222222222222222,
              "#7201a8"
             ],
             [
              0.3333333333333333,
              "#9c179e"
             ],
             [
              0.4444444444444444,
              "#bd3786"
             ],
             [
              0.5555555555555556,
              "#d8576b"
             ],
             [
              0.6666666666666666,
              "#ed7953"
             ],
             [
              0.7777777777777778,
              "#fb9f3a"
             ],
             [
              0.8888888888888888,
              "#fdca26"
             ],
             [
              1,
              "#f0f921"
             ]
            ],
            "type": "heatmapgl"
           }
          ],
          "histogram": [
           {
            "marker": {
             "pattern": {
              "fillmode": "overlay",
              "size": 10,
              "solidity": 0.2
             }
            },
            "type": "histogram"
           }
          ],
          "histogram2d": [
           {
            "colorbar": {
             "outlinewidth": 0,
             "ticks": ""
            },
            "colorscale": [
             [
              0,
              "#0d0887"
             ],
             [
              0.1111111111111111,
              "#46039f"
             ],
             [
              0.2222222222222222,
              "#7201a8"
             ],
             [
              0.3333333333333333,
              "#9c179e"
             ],
             [
              0.4444444444444444,
              "#bd3786"
             ],
             [
              0.5555555555555556,
              "#d8576b"
             ],
             [
              0.6666666666666666,
              "#ed7953"
             ],
             [
              0.7777777777777778,
              "#fb9f3a"
             ],
             [
              0.8888888888888888,
              "#fdca26"
             ],
             [
              1,
              "#f0f921"
             ]
            ],
            "type": "histogram2d"
           }
          ],
          "histogram2dcontour": [
           {
            "colorbar": {
             "outlinewidth": 0,
             "ticks": ""
            },
            "colorscale": [
             [
              0,
              "#0d0887"
             ],
             [
              0.1111111111111111,
              "#46039f"
             ],
             [
              0.2222222222222222,
              "#7201a8"
             ],
             [
              0.3333333333333333,
              "#9c179e"
             ],
             [
              0.4444444444444444,
              "#bd3786"
             ],
             [
              0.5555555555555556,
              "#d8576b"
             ],
             [
              0.6666666666666666,
              "#ed7953"
             ],
             [
              0.7777777777777778,
              "#fb9f3a"
             ],
             [
              0.8888888888888888,
              "#fdca26"
             ],
             [
              1,
              "#f0f921"
             ]
            ],
            "type": "histogram2dcontour"
           }
          ],
          "mesh3d": [
           {
            "colorbar": {
             "outlinewidth": 0,
             "ticks": ""
            },
            "type": "mesh3d"
           }
          ],
          "parcoords": [
           {
            "line": {
             "colorbar": {
              "outlinewidth": 0,
              "ticks": ""
             }
            },
            "type": "parcoords"
           }
          ],
          "pie": [
           {
            "automargin": true,
            "type": "pie"
           }
          ],
          "scatter": [
           {
            "fillpattern": {
             "fillmode": "overlay",
             "size": 10,
             "solidity": 0.2
            },
            "type": "scatter"
           }
          ],
          "scatter3d": [
           {
            "line": {
             "colorbar": {
              "outlinewidth": 0,
              "ticks": ""
             }
            },
            "marker": {
             "colorbar": {
              "outlinewidth": 0,
              "ticks": ""
             }
            },
            "type": "scatter3d"
           }
          ],
          "scattercarpet": [
           {
            "marker": {
             "colorbar": {
              "outlinewidth": 0,
              "ticks": ""
             }
            },
            "type": "scattercarpet"
           }
          ],
          "scattergeo": [
           {
            "marker": {
             "colorbar": {
              "outlinewidth": 0,
              "ticks": ""
             }
            },
            "type": "scattergeo"
           }
          ],
          "scattergl": [
           {
            "marker": {
             "colorbar": {
              "outlinewidth": 0,
              "ticks": ""
             }
            },
            "type": "scattergl"
           }
          ],
          "scattermapbox": [
           {
            "marker": {
             "colorbar": {
              "outlinewidth": 0,
              "ticks": ""
             }
            },
            "type": "scattermapbox"
           }
          ],
          "scatterpolar": [
           {
            "marker": {
             "colorbar": {
              "outlinewidth": 0,
              "ticks": ""
             }
            },
            "type": "scatterpolar"
           }
          ],
          "scatterpolargl": [
           {
            "marker": {
             "colorbar": {
              "outlinewidth": 0,
              "ticks": ""
             }
            },
            "type": "scatterpolargl"
           }
          ],
          "scatterternary": [
           {
            "marker": {
             "colorbar": {
              "outlinewidth": 0,
              "ticks": ""
             }
            },
            "type": "scatterternary"
           }
          ],
          "surface": [
           {
            "colorbar": {
             "outlinewidth": 0,
             "ticks": ""
            },
            "colorscale": [
             [
              0,
              "#0d0887"
             ],
             [
              0.1111111111111111,
              "#46039f"
             ],
             [
              0.2222222222222222,
              "#7201a8"
             ],
             [
              0.3333333333333333,
              "#9c179e"
             ],
             [
              0.4444444444444444,
              "#bd3786"
             ],
             [
              0.5555555555555556,
              "#d8576b"
             ],
             [
              0.6666666666666666,
              "#ed7953"
             ],
             [
              0.7777777777777778,
              "#fb9f3a"
             ],
             [
              0.8888888888888888,
              "#fdca26"
             ],
             [
              1,
              "#f0f921"
             ]
            ],
            "type": "surface"
           }
          ],
          "table": [
           {
            "cells": {
             "fill": {
              "color": "#EBF0F8"
             },
             "line": {
              "color": "white"
             }
            },
            "header": {
             "fill": {
              "color": "#C8D4E3"
             },
             "line": {
              "color": "white"
             }
            },
            "type": "table"
           }
          ]
         },
         "layout": {
          "annotationdefaults": {
           "arrowcolor": "#2a3f5f",
           "arrowhead": 0,
           "arrowwidth": 1
          },
          "autotypenumbers": "strict",
          "coloraxis": {
           "colorbar": {
            "outlinewidth": 0,
            "ticks": ""
           }
          },
          "colorscale": {
           "diverging": [
            [
             0,
             "#8e0152"
            ],
            [
             0.1,
             "#c51b7d"
            ],
            [
             0.2,
             "#de77ae"
            ],
            [
             0.3,
             "#f1b6da"
            ],
            [
             0.4,
             "#fde0ef"
            ],
            [
             0.5,
             "#f7f7f7"
            ],
            [
             0.6,
             "#e6f5d0"
            ],
            [
             0.7,
             "#b8e186"
            ],
            [
             0.8,
             "#7fbc41"
            ],
            [
             0.9,
             "#4d9221"
            ],
            [
             1,
             "#276419"
            ]
           ],
           "sequential": [
            [
             0,
             "#0d0887"
            ],
            [
             0.1111111111111111,
             "#46039f"
            ],
            [
             0.2222222222222222,
             "#7201a8"
            ],
            [
             0.3333333333333333,
             "#9c179e"
            ],
            [
             0.4444444444444444,
             "#bd3786"
            ],
            [
             0.5555555555555556,
             "#d8576b"
            ],
            [
             0.6666666666666666,
             "#ed7953"
            ],
            [
             0.7777777777777778,
             "#fb9f3a"
            ],
            [
             0.8888888888888888,
             "#fdca26"
            ],
            [
             1,
             "#f0f921"
            ]
           ],
           "sequentialminus": [
            [
             0,
             "#0d0887"
            ],
            [
             0.1111111111111111,
             "#46039f"
            ],
            [
             0.2222222222222222,
             "#7201a8"
            ],
            [
             0.3333333333333333,
             "#9c179e"
            ],
            [
             0.4444444444444444,
             "#bd3786"
            ],
            [
             0.5555555555555556,
             "#d8576b"
            ],
            [
             0.6666666666666666,
             "#ed7953"
            ],
            [
             0.7777777777777778,
             "#fb9f3a"
            ],
            [
             0.8888888888888888,
             "#fdca26"
            ],
            [
             1,
             "#f0f921"
            ]
           ]
          },
          "colorway": [
           "#636efa",
           "#EF553B",
           "#00cc96",
           "#ab63fa",
           "#FFA15A",
           "#19d3f3",
           "#FF6692",
           "#B6E880",
           "#FF97FF",
           "#FECB52"
          ],
          "font": {
           "color": "#2a3f5f"
          },
          "geo": {
           "bgcolor": "white",
           "lakecolor": "white",
           "landcolor": "#E5ECF6",
           "showlakes": true,
           "showland": true,
           "subunitcolor": "white"
          },
          "hoverlabel": {
           "align": "left"
          },
          "hovermode": "closest",
          "mapbox": {
           "style": "light"
          },
          "paper_bgcolor": "white",
          "plot_bgcolor": "#E5ECF6",
          "polar": {
           "angularaxis": {
            "gridcolor": "white",
            "linecolor": "white",
            "ticks": ""
           },
           "bgcolor": "#E5ECF6",
           "radialaxis": {
            "gridcolor": "white",
            "linecolor": "white",
            "ticks": ""
           }
          },
          "scene": {
           "xaxis": {
            "backgroundcolor": "#E5ECF6",
            "gridcolor": "white",
            "gridwidth": 2,
            "linecolor": "white",
            "showbackground": true,
            "ticks": "",
            "zerolinecolor": "white"
           },
           "yaxis": {
            "backgroundcolor": "#E5ECF6",
            "gridcolor": "white",
            "gridwidth": 2,
            "linecolor": "white",
            "showbackground": true,
            "ticks": "",
            "zerolinecolor": "white"
           },
           "zaxis": {
            "backgroundcolor": "#E5ECF6",
            "gridcolor": "white",
            "gridwidth": 2,
            "linecolor": "white",
            "showbackground": true,
            "ticks": "",
            "zerolinecolor": "white"
           }
          },
          "shapedefaults": {
           "line": {
            "color": "#2a3f5f"
           }
          },
          "ternary": {
           "aaxis": {
            "gridcolor": "white",
            "linecolor": "white",
            "ticks": ""
           },
           "baxis": {
            "gridcolor": "white",
            "linecolor": "white",
            "ticks": ""
           },
           "bgcolor": "#E5ECF6",
           "caxis": {
            "gridcolor": "white",
            "linecolor": "white",
            "ticks": ""
           }
          },
          "title": {
           "x": 0.05
          },
          "xaxis": {
           "automargin": true,
           "gridcolor": "white",
           "linecolor": "white",
           "ticks": "",
           "title": {
            "standoff": 15
           },
           "zerolinecolor": "white",
           "zerolinewidth": 2
          },
          "yaxis": {
           "automargin": true,
           "gridcolor": "white",
           "linecolor": "white",
           "ticks": "",
           "title": {
            "standoff": 15
           },
           "zerolinecolor": "white",
           "zerolinewidth": 2
          }
         }
        },
        "title": {
         "text": "Difference between AADBT_BICIZEN and AADBT_COUNTER"
        },
        "xaxis": {
         "anchor": "y",
         "domain": [
          0,
          1
         ],
         "title": {
          "text": "AADBT_DIFF"
         }
        },
        "yaxis": {
         "anchor": "x",
         "categoryorder": "total ascending",
         "domain": [
          0,
          1
         ],
         "tickmode": "linear",
         "title": {
          "text": "Locations"
         }
        }
       }
      }
     },
     "metadata": {},
     "output_type": "display_data"
    }
   ],
   "source": [
    "# Calculate the difference\n",
    "\n",
    "# Order by difference\n",
    "final_df = final_df.sort_values(by='AADBT_DIFF', ascending=False)\n",
    "\n",
    "final_df[\"Locations\"] =  + final_df[\"direction_counter\"]\n",
    "\n",
    "fig = px.bar(final_df, x='AADBT_DIFF', y='Locations', orientation='h', title='Difference between AADBT_BICIZEN and AADBT_COUNTER', labels={'id': 'ID', 'AADBT_DIFF': 'AADBT_DIFF'})\n",
    "fig.update_layout(yaxis={'categoryorder':'total ascending', 'tickmode':'linear'})\n",
    "fig.show()\n"
   ]
  },
  {
   "cell_type": "code",
   "execution_count": 76,
   "id": "e84c43b2",
   "metadata": {},
   "outputs": [
    {
     "data": {
      "application/vnd.plotly.v1+json": {
       "config": {
        "plotlyServerURL": "https://plot.ly"
       },
       "data": [
        {
         "hovertemplate": "AADBT_BICIZEN=%{x}<br>AADBT_COUNTER=%{y}<extra></extra>",
         "legendgroup": "",
         "marker": {
          "color": "#636efa",
          "opacity": 0.7,
          "symbol": "circle"
         },
         "mode": "markers",
         "name": "",
         "orientation": "v",
         "showlegend": false,
         "type": "scatter",
         "x": [
          644.6199078775657,
          1014.1274318078534,
          826.3457085615964,
          385.74817181332594,
          556.079857718409,
          504.3194927540945,
          1521.2600650660888,
          1342.5471859976346,
          1674.2802505589023
         ],
         "xaxis": "x",
         "y": [
          1112.1570512820513,
          1511.2006369426751,
          1488.9911764705882,
          1185.9235668789809,
          1617.548076923077,
          1953.1687898089172,
          5002.1516034985425,
          4860.427325581395,
          5567.405247813411
         ],
         "yaxis": "y"
        },
        {
         "hovertemplate": "<b>OLS trendline</b><br>AADBT_COUNTER = 3.58384 * AADBT_BICIZEN + -672.637<br>R<sup>2</sup>=0.832219<br><br>AADBT_BICIZEN=%{x}<br>AADBT_COUNTER=%{y} <b>(trend)</b><extra></extra>",
         "legendgroup": "",
         "line": {
          "color": "darkblue"
         },
         "marker": {
          "color": "#636efa",
          "symbol": "circle"
         },
         "mode": "lines",
         "name": "",
         "showlegend": false,
         "type": "scatter",
         "x": [
          385.74817181332594,
          504.3194927540945,
          556.079857718409,
          644.6199078775657,
          826.3457085615964,
          1014.1274318078534,
          1342.5471859976346,
          1521.2600650660888,
          1674.2802505589023
         ],
         "xaxis": "x",
         "y": [
          709.8223038825039,
          1134.762794280322,
          1320.2635941077388,
          1637.576853637624,
          2288.852813523272,
          2961.832223138463,
          4138.835652757436,
          4779.313787513912,
          5327.713452358363
         ],
         "yaxis": "y"
        }
       ],
       "layout": {
        "height": 750,
        "legend": {
         "tracegroupgap": 0
        },
        "shapes": [
         {
          "line": {
           "color": "blue",
           "dash": "dash"
          },
          "name": "Average AADBT_COUNTER",
          "type": "line",
          "x0": 2699.8859416888486,
          "x1": 2699.8859416888486,
          "y0": 0,
          "y1": 10000
         },
         {
          "line": {
           "color": "red",
           "dash": "dash"
          },
          "name": "Average AADBT_BICIZEN",
          "type": "line",
          "x0": 0,
          "x1": 10000,
          "y0": 941.036452461719,
          "y1": 941.036452461719
         }
        ],
        "template": {
         "data": {
          "bar": [
           {
            "error_x": {
             "color": "#2a3f5f"
            },
            "error_y": {
             "color": "#2a3f5f"
            },
            "marker": {
             "line": {
              "color": "#E5ECF6",
              "width": 0.5
             },
             "pattern": {
              "fillmode": "overlay",
              "size": 10,
              "solidity": 0.2
             }
            },
            "type": "bar"
           }
          ],
          "barpolar": [
           {
            "marker": {
             "line": {
              "color": "#E5ECF6",
              "width": 0.5
             },
             "pattern": {
              "fillmode": "overlay",
              "size": 10,
              "solidity": 0.2
             }
            },
            "type": "barpolar"
           }
          ],
          "carpet": [
           {
            "aaxis": {
             "endlinecolor": "#2a3f5f",
             "gridcolor": "white",
             "linecolor": "white",
             "minorgridcolor": "white",
             "startlinecolor": "#2a3f5f"
            },
            "baxis": {
             "endlinecolor": "#2a3f5f",
             "gridcolor": "white",
             "linecolor": "white",
             "minorgridcolor": "white",
             "startlinecolor": "#2a3f5f"
            },
            "type": "carpet"
           }
          ],
          "choropleth": [
           {
            "colorbar": {
             "outlinewidth": 0,
             "ticks": ""
            },
            "type": "choropleth"
           }
          ],
          "contour": [
           {
            "colorbar": {
             "outlinewidth": 0,
             "ticks": ""
            },
            "colorscale": [
             [
              0,
              "#0d0887"
             ],
             [
              0.1111111111111111,
              "#46039f"
             ],
             [
              0.2222222222222222,
              "#7201a8"
             ],
             [
              0.3333333333333333,
              "#9c179e"
             ],
             [
              0.4444444444444444,
              "#bd3786"
             ],
             [
              0.5555555555555556,
              "#d8576b"
             ],
             [
              0.6666666666666666,
              "#ed7953"
             ],
             [
              0.7777777777777778,
              "#fb9f3a"
             ],
             [
              0.8888888888888888,
              "#fdca26"
             ],
             [
              1,
              "#f0f921"
             ]
            ],
            "type": "contour"
           }
          ],
          "contourcarpet": [
           {
            "colorbar": {
             "outlinewidth": 0,
             "ticks": ""
            },
            "type": "contourcarpet"
           }
          ],
          "heatmap": [
           {
            "colorbar": {
             "outlinewidth": 0,
             "ticks": ""
            },
            "colorscale": [
             [
              0,
              "#0d0887"
             ],
             [
              0.1111111111111111,
              "#46039f"
             ],
             [
              0.2222222222222222,
              "#7201a8"
             ],
             [
              0.3333333333333333,
              "#9c179e"
             ],
             [
              0.4444444444444444,
              "#bd3786"
             ],
             [
              0.5555555555555556,
              "#d8576b"
             ],
             [
              0.6666666666666666,
              "#ed7953"
             ],
             [
              0.7777777777777778,
              "#fb9f3a"
             ],
             [
              0.8888888888888888,
              "#fdca26"
             ],
             [
              1,
              "#f0f921"
             ]
            ],
            "type": "heatmap"
           }
          ],
          "heatmapgl": [
           {
            "colorbar": {
             "outlinewidth": 0,
             "ticks": ""
            },
            "colorscale": [
             [
              0,
              "#0d0887"
             ],
             [
              0.1111111111111111,
              "#46039f"
             ],
             [
              0.2222222222222222,
              "#7201a8"
             ],
             [
              0.3333333333333333,
              "#9c179e"
             ],
             [
              0.4444444444444444,
              "#bd3786"
             ],
             [
              0.5555555555555556,
              "#d8576b"
             ],
             [
              0.6666666666666666,
              "#ed7953"
             ],
             [
              0.7777777777777778,
              "#fb9f3a"
             ],
             [
              0.8888888888888888,
              "#fdca26"
             ],
             [
              1,
              "#f0f921"
             ]
            ],
            "type": "heatmapgl"
           }
          ],
          "histogram": [
           {
            "marker": {
             "pattern": {
              "fillmode": "overlay",
              "size": 10,
              "solidity": 0.2
             }
            },
            "type": "histogram"
           }
          ],
          "histogram2d": [
           {
            "colorbar": {
             "outlinewidth": 0,
             "ticks": ""
            },
            "colorscale": [
             [
              0,
              "#0d0887"
             ],
             [
              0.1111111111111111,
              "#46039f"
             ],
             [
              0.2222222222222222,
              "#7201a8"
             ],
             [
              0.3333333333333333,
              "#9c179e"
             ],
             [
              0.4444444444444444,
              "#bd3786"
             ],
             [
              0.5555555555555556,
              "#d8576b"
             ],
             [
              0.6666666666666666,
              "#ed7953"
             ],
             [
              0.7777777777777778,
              "#fb9f3a"
             ],
             [
              0.8888888888888888,
              "#fdca26"
             ],
             [
              1,
              "#f0f921"
             ]
            ],
            "type": "histogram2d"
           }
          ],
          "histogram2dcontour": [
           {
            "colorbar": {
             "outlinewidth": 0,
             "ticks": ""
            },
            "colorscale": [
             [
              0,
              "#0d0887"
             ],
             [
              0.1111111111111111,
              "#46039f"
             ],
             [
              0.2222222222222222,
              "#7201a8"
             ],
             [
              0.3333333333333333,
              "#9c179e"
             ],
             [
              0.4444444444444444,
              "#bd3786"
             ],
             [
              0.5555555555555556,
              "#d8576b"
             ],
             [
              0.6666666666666666,
              "#ed7953"
             ],
             [
              0.7777777777777778,
              "#fb9f3a"
             ],
             [
              0.8888888888888888,
              "#fdca26"
             ],
             [
              1,
              "#f0f921"
             ]
            ],
            "type": "histogram2dcontour"
           }
          ],
          "mesh3d": [
           {
            "colorbar": {
             "outlinewidth": 0,
             "ticks": ""
            },
            "type": "mesh3d"
           }
          ],
          "parcoords": [
           {
            "line": {
             "colorbar": {
              "outlinewidth": 0,
              "ticks": ""
             }
            },
            "type": "parcoords"
           }
          ],
          "pie": [
           {
            "automargin": true,
            "type": "pie"
           }
          ],
          "scatter": [
           {
            "fillpattern": {
             "fillmode": "overlay",
             "size": 10,
             "solidity": 0.2
            },
            "type": "scatter"
           }
          ],
          "scatter3d": [
           {
            "line": {
             "colorbar": {
              "outlinewidth": 0,
              "ticks": ""
             }
            },
            "marker": {
             "colorbar": {
              "outlinewidth": 0,
              "ticks": ""
             }
            },
            "type": "scatter3d"
           }
          ],
          "scattercarpet": [
           {
            "marker": {
             "colorbar": {
              "outlinewidth": 0,
              "ticks": ""
             }
            },
            "type": "scattercarpet"
           }
          ],
          "scattergeo": [
           {
            "marker": {
             "colorbar": {
              "outlinewidth": 0,
              "ticks": ""
             }
            },
            "type": "scattergeo"
           }
          ],
          "scattergl": [
           {
            "marker": {
             "colorbar": {
              "outlinewidth": 0,
              "ticks": ""
             }
            },
            "type": "scattergl"
           }
          ],
          "scattermapbox": [
           {
            "marker": {
             "colorbar": {
              "outlinewidth": 0,
              "ticks": ""
             }
            },
            "type": "scattermapbox"
           }
          ],
          "scatterpolar": [
           {
            "marker": {
             "colorbar": {
              "outlinewidth": 0,
              "ticks": ""
             }
            },
            "type": "scatterpolar"
           }
          ],
          "scatterpolargl": [
           {
            "marker": {
             "colorbar": {
              "outlinewidth": 0,
              "ticks": ""
             }
            },
            "type": "scatterpolargl"
           }
          ],
          "scatterternary": [
           {
            "marker": {
             "colorbar": {
              "outlinewidth": 0,
              "ticks": ""
             }
            },
            "type": "scatterternary"
           }
          ],
          "surface": [
           {
            "colorbar": {
             "outlinewidth": 0,
             "ticks": ""
            },
            "colorscale": [
             [
              0,
              "#0d0887"
             ],
             [
              0.1111111111111111,
              "#46039f"
             ],
             [
              0.2222222222222222,
              "#7201a8"
             ],
             [
              0.3333333333333333,
              "#9c179e"
             ],
             [
              0.4444444444444444,
              "#bd3786"
             ],
             [
              0.5555555555555556,
              "#d8576b"
             ],
             [
              0.6666666666666666,
              "#ed7953"
             ],
             [
              0.7777777777777778,
              "#fb9f3a"
             ],
             [
              0.8888888888888888,
              "#fdca26"
             ],
             [
              1,
              "#f0f921"
             ]
            ],
            "type": "surface"
           }
          ],
          "table": [
           {
            "cells": {
             "fill": {
              "color": "#EBF0F8"
             },
             "line": {
              "color": "white"
             }
            },
            "header": {
             "fill": {
              "color": "#C8D4E3"
             },
             "line": {
              "color": "white"
             }
            },
            "type": "table"
           }
          ]
         },
         "layout": {
          "annotationdefaults": {
           "arrowcolor": "#2a3f5f",
           "arrowhead": 0,
           "arrowwidth": 1
          },
          "autotypenumbers": "strict",
          "coloraxis": {
           "colorbar": {
            "outlinewidth": 0,
            "ticks": ""
           }
          },
          "colorscale": {
           "diverging": [
            [
             0,
             "#8e0152"
            ],
            [
             0.1,
             "#c51b7d"
            ],
            [
             0.2,
             "#de77ae"
            ],
            [
             0.3,
             "#f1b6da"
            ],
            [
             0.4,
             "#fde0ef"
            ],
            [
             0.5,
             "#f7f7f7"
            ],
            [
             0.6,
             "#e6f5d0"
            ],
            [
             0.7,
             "#b8e186"
            ],
            [
             0.8,
             "#7fbc41"
            ],
            [
             0.9,
             "#4d9221"
            ],
            [
             1,
             "#276419"
            ]
           ],
           "sequential": [
            [
             0,
             "#0d0887"
            ],
            [
             0.1111111111111111,
             "#46039f"
            ],
            [
             0.2222222222222222,
             "#7201a8"
            ],
            [
             0.3333333333333333,
             "#9c179e"
            ],
            [
             0.4444444444444444,
             "#bd3786"
            ],
            [
             0.5555555555555556,
             "#d8576b"
            ],
            [
             0.6666666666666666,
             "#ed7953"
            ],
            [
             0.7777777777777778,
             "#fb9f3a"
            ],
            [
             0.8888888888888888,
             "#fdca26"
            ],
            [
             1,
             "#f0f921"
            ]
           ],
           "sequentialminus": [
            [
             0,
             "#0d0887"
            ],
            [
             0.1111111111111111,
             "#46039f"
            ],
            [
             0.2222222222222222,
             "#7201a8"
            ],
            [
             0.3333333333333333,
             "#9c179e"
            ],
            [
             0.4444444444444444,
             "#bd3786"
            ],
            [
             0.5555555555555556,
             "#d8576b"
            ],
            [
             0.6666666666666666,
             "#ed7953"
            ],
            [
             0.7777777777777778,
             "#fb9f3a"
            ],
            [
             0.8888888888888888,
             "#fdca26"
            ],
            [
             1,
             "#f0f921"
            ]
           ]
          },
          "colorway": [
           "#636efa",
           "#EF553B",
           "#00cc96",
           "#ab63fa",
           "#FFA15A",
           "#19d3f3",
           "#FF6692",
           "#B6E880",
           "#FF97FF",
           "#FECB52"
          ],
          "font": {
           "color": "#2a3f5f"
          },
          "geo": {
           "bgcolor": "white",
           "lakecolor": "white",
           "landcolor": "#E5ECF6",
           "showlakes": true,
           "showland": true,
           "subunitcolor": "white"
          },
          "hoverlabel": {
           "align": "left"
          },
          "hovermode": "closest",
          "mapbox": {
           "style": "light"
          },
          "paper_bgcolor": "white",
          "plot_bgcolor": "#E5ECF6",
          "polar": {
           "angularaxis": {
            "gridcolor": "white",
            "linecolor": "white",
            "ticks": ""
           },
           "bgcolor": "#E5ECF6",
           "radialaxis": {
            "gridcolor": "white",
            "linecolor": "white",
            "ticks": ""
           }
          },
          "scene": {
           "xaxis": {
            "backgroundcolor": "#E5ECF6",
            "gridcolor": "white",
            "gridwidth": 2,
            "linecolor": "white",
            "showbackground": true,
            "ticks": "",
            "zerolinecolor": "white"
           },
           "yaxis": {
            "backgroundcolor": "#E5ECF6",
            "gridcolor": "white",
            "gridwidth": 2,
            "linecolor": "white",
            "showbackground": true,
            "ticks": "",
            "zerolinecolor": "white"
           },
           "zaxis": {
            "backgroundcolor": "#E5ECF6",
            "gridcolor": "white",
            "gridwidth": 2,
            "linecolor": "white",
            "showbackground": true,
            "ticks": "",
            "zerolinecolor": "white"
           }
          },
          "shapedefaults": {
           "line": {
            "color": "#2a3f5f"
           }
          },
          "ternary": {
           "aaxis": {
            "gridcolor": "white",
            "linecolor": "white",
            "ticks": ""
           },
           "baxis": {
            "gridcolor": "white",
            "linecolor": "white",
            "ticks": ""
           },
           "bgcolor": "#E5ECF6",
           "caxis": {
            "gridcolor": "white",
            "linecolor": "white",
            "ticks": ""
           }
          },
          "title": {
           "x": 0.05
          },
          "xaxis": {
           "automargin": true,
           "gridcolor": "white",
           "linecolor": "white",
           "ticks": "",
           "title": {
            "standoff": 15
           },
           "zerolinecolor": "white",
           "zerolinewidth": 2
          },
          "yaxis": {
           "automargin": true,
           "gridcolor": "white",
           "linecolor": "white",
           "ticks": "",
           "title": {
            "standoff": 15
           },
           "zerolinecolor": "white",
           "zerolinewidth": 2
          }
         }
        },
        "title": {
         "text": "Comparison of AADBT values in control locations between BiciZen and Counters"
        },
        "width": 750,
        "xaxis": {
         "anchor": "y",
         "domain": [
          0,
          1
         ],
         "range": [
          0,
          10000
         ],
         "title": {
          "text": "AADBT_BICIZEN"
         }
        },
        "yaxis": {
         "anchor": "x",
         "domain": [
          0,
          1
         ],
         "range": [
          0,
          10000
         ],
         "title": {
          "text": "AADBT_COUNTER"
         }
        }
       }
      }
     },
     "metadata": {},
     "output_type": "display_data"
    }
   ],
   "source": [
    "import plotly.express as px\n",
    "# Calculate averages\n",
    "avg_bicizen = final_df['AADBT_BICIZEN'].mean()\n",
    "avg_counter = final_df['AADBT_COUNTER'].mean()\n",
    "\n",
    "# Create a scatter plot with Plotly Express (axes inverted)\n",
    "fig = px.scatter(\n",
    "    final_df,\n",
    "    x='AADBT_BICIZEN',  # Inverted axis\n",
    "    y='AADBT_COUNTER',  # Inverted axis\n",
    "    title='Comparison of AADBT values in control locations between BiciZen and Counters',\n",
    "    labels={'AADBT_BICIZEN': 'AADBT_BICIZEN', 'AADBT_COUNTER': 'AADBT_COUNTER', 'ROOT_ID': 'ROOT_ID'},\n",
    "    opacity=0.7,\n",
    "    trendline='ols', trendline_color_override='darkblue'\n",
    ")\n",
    "\n",
    "# Add average lines\n",
    "fig.add_shape(\n",
    "    type='line',\n",
    "    x0=avg_counter,\n",
    "    x1=avg_counter,\n",
    "    y0=0,\n",
    "    y1=10000,\n",
    "    line=dict(color='blue', dash='dash'),\n",
    "    name='Average AADBT_COUNTER'\n",
    ")\n",
    "fig.add_shape(\n",
    "    type='line',\n",
    "    x0=0,\n",
    "    x1=10000,\n",
    "    y0=avg_bicizen,\n",
    "    y1=avg_bicizen,\n",
    "    line=dict(color='red', dash='dash'),\n",
    "    name='Average AADBT_BICIZEN'\n",
    ")\n",
    "\n",
    "# Update axis ranges\n",
    "fig.update_layout(xaxis=dict(range=[0, 10000]), yaxis=dict(range=[0, 10000]))\n",
    "\n",
    "fig.update_layout(\n",
    "    width=750,\n",
    "    height=750\n",
    ")\n",
    "fig.show()\n"
   ]
  },
  {
   "cell_type": "code",
   "execution_count": 77,
   "id": "8e095b1f",
   "metadata": {},
   "outputs": [
    {
     "data": {
      "application/vnd.plotly.v1+json": {
       "config": {
        "plotlyServerURL": "https://plot.ly"
       },
       "data": [
        {
         "hovertemplate": "AADBT_COUNTER=%{x}<br>AADBT_BICIZEN=%{y}<extra></extra>",
         "legendgroup": "",
         "marker": {
          "color": "#636efa",
          "opacity": 0.7,
          "symbol": "circle"
         },
         "mode": "markers",
         "name": "",
         "orientation": "v",
         "showlegend": false,
         "type": "scatter",
         "x": [
          1112.1570512820513,
          1511.2006369426751,
          1488.9911764705882,
          1185.9235668789809,
          1617.548076923077,
          1953.1687898089172,
          5002.1516034985425,
          4860.427325581395,
          5567.405247813411
         ],
         "xaxis": "x",
         "y": [
          644.6199078775657,
          1014.1274318078534,
          826.3457085615964,
          385.74817181332594,
          556.079857718409,
          504.3194927540945,
          1521.2600650660888,
          1342.5471859976346,
          1674.2802505589023
         ],
         "yaxis": "y"
        },
        {
         "hovertemplate": "<b>OLS trendline</b><br>AADBT_BICIZEN = 0.232214 * AADBT_COUNTER + 314.084<br>R<sup>2</sup>=0.832219<br><br>AADBT_COUNTER=%{x}<br>AADBT_BICIZEN=%{y} <b>(trend)</b><extra></extra>",
         "legendgroup": "",
         "line": {
          "color": "darkblue"
         },
         "marker": {
          "color": "#636efa",
          "symbol": "circle"
         },
         "mode": "lines",
         "name": "",
         "showlegend": false,
         "type": "scatter",
         "x": [
          1112.1570512820513,
          1185.9235668789809,
          1488.9911764705882,
          1511.2006369426751,
          1617.548076923077,
          1953.1687898089172,
          4860.427325581395,
          5002.1516034985425,
          5567.405247813411
         ],
         "xaxis": "x",
         "y": [
          572.3429709066696,
          589.4726166679485,
          659.8492740444274,
          665.006630161324,
          689.7020351122253,
          767.6379912213088,
          1442.7452326471152,
          1475.6556481228708,
          1606.91567327158
         ],
         "yaxis": "y"
        }
       ],
       "layout": {
        "height": 750,
        "legend": {
         "tracegroupgap": 0
        },
        "shapes": [
         {
          "line": {
           "color": "blue",
           "dash": "dash"
          },
          "name": "Average AADBT_COUNTER",
          "type": "line",
          "x0": 2699.8859416888486,
          "x1": 2699.8859416888486,
          "y0": 0,
          "y1": 10000
         },
         {
          "line": {
           "color": "red",
           "dash": "dash"
          },
          "name": "Average AADBT_BICIZEN",
          "type": "line",
          "x0": 0,
          "x1": 10000,
          "y0": 941.036452461719,
          "y1": 941.036452461719
         }
        ],
        "template": {
         "data": {
          "bar": [
           {
            "error_x": {
             "color": "#2a3f5f"
            },
            "error_y": {
             "color": "#2a3f5f"
            },
            "marker": {
             "line": {
              "color": "#E5ECF6",
              "width": 0.5
             },
             "pattern": {
              "fillmode": "overlay",
              "size": 10,
              "solidity": 0.2
             }
            },
            "type": "bar"
           }
          ],
          "barpolar": [
           {
            "marker": {
             "line": {
              "color": "#E5ECF6",
              "width": 0.5
             },
             "pattern": {
              "fillmode": "overlay",
              "size": 10,
              "solidity": 0.2
             }
            },
            "type": "barpolar"
           }
          ],
          "carpet": [
           {
            "aaxis": {
             "endlinecolor": "#2a3f5f",
             "gridcolor": "white",
             "linecolor": "white",
             "minorgridcolor": "white",
             "startlinecolor": "#2a3f5f"
            },
            "baxis": {
             "endlinecolor": "#2a3f5f",
             "gridcolor": "white",
             "linecolor": "white",
             "minorgridcolor": "white",
             "startlinecolor": "#2a3f5f"
            },
            "type": "carpet"
           }
          ],
          "choropleth": [
           {
            "colorbar": {
             "outlinewidth": 0,
             "ticks": ""
            },
            "type": "choropleth"
           }
          ],
          "contour": [
           {
            "colorbar": {
             "outlinewidth": 0,
             "ticks": ""
            },
            "colorscale": [
             [
              0,
              "#0d0887"
             ],
             [
              0.1111111111111111,
              "#46039f"
             ],
             [
              0.2222222222222222,
              "#7201a8"
             ],
             [
              0.3333333333333333,
              "#9c179e"
             ],
             [
              0.4444444444444444,
              "#bd3786"
             ],
             [
              0.5555555555555556,
              "#d8576b"
             ],
             [
              0.6666666666666666,
              "#ed7953"
             ],
             [
              0.7777777777777778,
              "#fb9f3a"
             ],
             [
              0.8888888888888888,
              "#fdca26"
             ],
             [
              1,
              "#f0f921"
             ]
            ],
            "type": "contour"
           }
          ],
          "contourcarpet": [
           {
            "colorbar": {
             "outlinewidth": 0,
             "ticks": ""
            },
            "type": "contourcarpet"
           }
          ],
          "heatmap": [
           {
            "colorbar": {
             "outlinewidth": 0,
             "ticks": ""
            },
            "colorscale": [
             [
              0,
              "#0d0887"
             ],
             [
              0.1111111111111111,
              "#46039f"
             ],
             [
              0.2222222222222222,
              "#7201a8"
             ],
             [
              0.3333333333333333,
              "#9c179e"
             ],
             [
              0.4444444444444444,
              "#bd3786"
             ],
             [
              0.5555555555555556,
              "#d8576b"
             ],
             [
              0.6666666666666666,
              "#ed7953"
             ],
             [
              0.7777777777777778,
              "#fb9f3a"
             ],
             [
              0.8888888888888888,
              "#fdca26"
             ],
             [
              1,
              "#f0f921"
             ]
            ],
            "type": "heatmap"
           }
          ],
          "heatmapgl": [
           {
            "colorbar": {
             "outlinewidth": 0,
             "ticks": ""
            },
            "colorscale": [
             [
              0,
              "#0d0887"
             ],
             [
              0.1111111111111111,
              "#46039f"
             ],
             [
              0.2222222222222222,
              "#7201a8"
             ],
             [
              0.3333333333333333,
              "#9c179e"
             ],
             [
              0.4444444444444444,
              "#bd3786"
             ],
             [
              0.5555555555555556,
              "#d8576b"
             ],
             [
              0.6666666666666666,
              "#ed7953"
             ],
             [
              0.7777777777777778,
              "#fb9f3a"
             ],
             [
              0.8888888888888888,
              "#fdca26"
             ],
             [
              1,
              "#f0f921"
             ]
            ],
            "type": "heatmapgl"
           }
          ],
          "histogram": [
           {
            "marker": {
             "pattern": {
              "fillmode": "overlay",
              "size": 10,
              "solidity": 0.2
             }
            },
            "type": "histogram"
           }
          ],
          "histogram2d": [
           {
            "colorbar": {
             "outlinewidth": 0,
             "ticks": ""
            },
            "colorscale": [
             [
              0,
              "#0d0887"
             ],
             [
              0.1111111111111111,
              "#46039f"
             ],
             [
              0.2222222222222222,
              "#7201a8"
             ],
             [
              0.3333333333333333,
              "#9c179e"
             ],
             [
              0.4444444444444444,
              "#bd3786"
             ],
             [
              0.5555555555555556,
              "#d8576b"
             ],
             [
              0.6666666666666666,
              "#ed7953"
             ],
             [
              0.7777777777777778,
              "#fb9f3a"
             ],
             [
              0.8888888888888888,
              "#fdca26"
             ],
             [
              1,
              "#f0f921"
             ]
            ],
            "type": "histogram2d"
           }
          ],
          "histogram2dcontour": [
           {
            "colorbar": {
             "outlinewidth": 0,
             "ticks": ""
            },
            "colorscale": [
             [
              0,
              "#0d0887"
             ],
             [
              0.1111111111111111,
              "#46039f"
             ],
             [
              0.2222222222222222,
              "#7201a8"
             ],
             [
              0.3333333333333333,
              "#9c179e"
             ],
             [
              0.4444444444444444,
              "#bd3786"
             ],
             [
              0.5555555555555556,
              "#d8576b"
             ],
             [
              0.6666666666666666,
              "#ed7953"
             ],
             [
              0.7777777777777778,
              "#fb9f3a"
             ],
             [
              0.8888888888888888,
              "#fdca26"
             ],
             [
              1,
              "#f0f921"
             ]
            ],
            "type": "histogram2dcontour"
           }
          ],
          "mesh3d": [
           {
            "colorbar": {
             "outlinewidth": 0,
             "ticks": ""
            },
            "type": "mesh3d"
           }
          ],
          "parcoords": [
           {
            "line": {
             "colorbar": {
              "outlinewidth": 0,
              "ticks": ""
             }
            },
            "type": "parcoords"
           }
          ],
          "pie": [
           {
            "automargin": true,
            "type": "pie"
           }
          ],
          "scatter": [
           {
            "fillpattern": {
             "fillmode": "overlay",
             "size": 10,
             "solidity": 0.2
            },
            "type": "scatter"
           }
          ],
          "scatter3d": [
           {
            "line": {
             "colorbar": {
              "outlinewidth": 0,
              "ticks": ""
             }
            },
            "marker": {
             "colorbar": {
              "outlinewidth": 0,
              "ticks": ""
             }
            },
            "type": "scatter3d"
           }
          ],
          "scattercarpet": [
           {
            "marker": {
             "colorbar": {
              "outlinewidth": 0,
              "ticks": ""
             }
            },
            "type": "scattercarpet"
           }
          ],
          "scattergeo": [
           {
            "marker": {
             "colorbar": {
              "outlinewidth": 0,
              "ticks": ""
             }
            },
            "type": "scattergeo"
           }
          ],
          "scattergl": [
           {
            "marker": {
             "colorbar": {
              "outlinewidth": 0,
              "ticks": ""
             }
            },
            "type": "scattergl"
           }
          ],
          "scattermapbox": [
           {
            "marker": {
             "colorbar": {
              "outlinewidth": 0,
              "ticks": ""
             }
            },
            "type": "scattermapbox"
           }
          ],
          "scatterpolar": [
           {
            "marker": {
             "colorbar": {
              "outlinewidth": 0,
              "ticks": ""
             }
            },
            "type": "scatterpolar"
           }
          ],
          "scatterpolargl": [
           {
            "marker": {
             "colorbar": {
              "outlinewidth": 0,
              "ticks": ""
             }
            },
            "type": "scatterpolargl"
           }
          ],
          "scatterternary": [
           {
            "marker": {
             "colorbar": {
              "outlinewidth": 0,
              "ticks": ""
             }
            },
            "type": "scatterternary"
           }
          ],
          "surface": [
           {
            "colorbar": {
             "outlinewidth": 0,
             "ticks": ""
            },
            "colorscale": [
             [
              0,
              "#0d0887"
             ],
             [
              0.1111111111111111,
              "#46039f"
             ],
             [
              0.2222222222222222,
              "#7201a8"
             ],
             [
              0.3333333333333333,
              "#9c179e"
             ],
             [
              0.4444444444444444,
              "#bd3786"
             ],
             [
              0.5555555555555556,
              "#d8576b"
             ],
             [
              0.6666666666666666,
              "#ed7953"
             ],
             [
              0.7777777777777778,
              "#fb9f3a"
             ],
             [
              0.8888888888888888,
              "#fdca26"
             ],
             [
              1,
              "#f0f921"
             ]
            ],
            "type": "surface"
           }
          ],
          "table": [
           {
            "cells": {
             "fill": {
              "color": "#EBF0F8"
             },
             "line": {
              "color": "white"
             }
            },
            "header": {
             "fill": {
              "color": "#C8D4E3"
             },
             "line": {
              "color": "white"
             }
            },
            "type": "table"
           }
          ]
         },
         "layout": {
          "annotationdefaults": {
           "arrowcolor": "#2a3f5f",
           "arrowhead": 0,
           "arrowwidth": 1
          },
          "autotypenumbers": "strict",
          "coloraxis": {
           "colorbar": {
            "outlinewidth": 0,
            "ticks": ""
           }
          },
          "colorscale": {
           "diverging": [
            [
             0,
             "#8e0152"
            ],
            [
             0.1,
             "#c51b7d"
            ],
            [
             0.2,
             "#de77ae"
            ],
            [
             0.3,
             "#f1b6da"
            ],
            [
             0.4,
             "#fde0ef"
            ],
            [
             0.5,
             "#f7f7f7"
            ],
            [
             0.6,
             "#e6f5d0"
            ],
            [
             0.7,
             "#b8e186"
            ],
            [
             0.8,
             "#7fbc41"
            ],
            [
             0.9,
             "#4d9221"
            ],
            [
             1,
             "#276419"
            ]
           ],
           "sequential": [
            [
             0,
             "#0d0887"
            ],
            [
             0.1111111111111111,
             "#46039f"
            ],
            [
             0.2222222222222222,
             "#7201a8"
            ],
            [
             0.3333333333333333,
             "#9c179e"
            ],
            [
             0.4444444444444444,
             "#bd3786"
            ],
            [
             0.5555555555555556,
             "#d8576b"
            ],
            [
             0.6666666666666666,
             "#ed7953"
            ],
            [
             0.7777777777777778,
             "#fb9f3a"
            ],
            [
             0.8888888888888888,
             "#fdca26"
            ],
            [
             1,
             "#f0f921"
            ]
           ],
           "sequentialminus": [
            [
             0,
             "#0d0887"
            ],
            [
             0.1111111111111111,
             "#46039f"
            ],
            [
             0.2222222222222222,
             "#7201a8"
            ],
            [
             0.3333333333333333,
             "#9c179e"
            ],
            [
             0.4444444444444444,
             "#bd3786"
            ],
            [
             0.5555555555555556,
             "#d8576b"
            ],
            [
             0.6666666666666666,
             "#ed7953"
            ],
            [
             0.7777777777777778,
             "#fb9f3a"
            ],
            [
             0.8888888888888888,
             "#fdca26"
            ],
            [
             1,
             "#f0f921"
            ]
           ]
          },
          "colorway": [
           "#636efa",
           "#EF553B",
           "#00cc96",
           "#ab63fa",
           "#FFA15A",
           "#19d3f3",
           "#FF6692",
           "#B6E880",
           "#FF97FF",
           "#FECB52"
          ],
          "font": {
           "color": "#2a3f5f"
          },
          "geo": {
           "bgcolor": "white",
           "lakecolor": "white",
           "landcolor": "#E5ECF6",
           "showlakes": true,
           "showland": true,
           "subunitcolor": "white"
          },
          "hoverlabel": {
           "align": "left"
          },
          "hovermode": "closest",
          "mapbox": {
           "style": "light"
          },
          "paper_bgcolor": "white",
          "plot_bgcolor": "#E5ECF6",
          "polar": {
           "angularaxis": {
            "gridcolor": "white",
            "linecolor": "white",
            "ticks": ""
           },
           "bgcolor": "#E5ECF6",
           "radialaxis": {
            "gridcolor": "white",
            "linecolor": "white",
            "ticks": ""
           }
          },
          "scene": {
           "xaxis": {
            "backgroundcolor": "#E5ECF6",
            "gridcolor": "white",
            "gridwidth": 2,
            "linecolor": "white",
            "showbackground": true,
            "ticks": "",
            "zerolinecolor": "white"
           },
           "yaxis": {
            "backgroundcolor": "#E5ECF6",
            "gridcolor": "white",
            "gridwidth": 2,
            "linecolor": "white",
            "showbackground": true,
            "ticks": "",
            "zerolinecolor": "white"
           },
           "zaxis": {
            "backgroundcolor": "#E5ECF6",
            "gridcolor": "white",
            "gridwidth": 2,
            "linecolor": "white",
            "showbackground": true,
            "ticks": "",
            "zerolinecolor": "white"
           }
          },
          "shapedefaults": {
           "line": {
            "color": "#2a3f5f"
           }
          },
          "ternary": {
           "aaxis": {
            "gridcolor": "white",
            "linecolor": "white",
            "ticks": ""
           },
           "baxis": {
            "gridcolor": "white",
            "linecolor": "white",
            "ticks": ""
           },
           "bgcolor": "#E5ECF6",
           "caxis": {
            "gridcolor": "white",
            "linecolor": "white",
            "ticks": ""
           }
          },
          "title": {
           "x": 0.05
          },
          "xaxis": {
           "automargin": true,
           "gridcolor": "white",
           "linecolor": "white",
           "ticks": "",
           "title": {
            "standoff": 15
           },
           "zerolinecolor": "white",
           "zerolinewidth": 2
          },
          "yaxis": {
           "automargin": true,
           "gridcolor": "white",
           "linecolor": "white",
           "ticks": "",
           "title": {
            "standoff": 15
           },
           "zerolinecolor": "white",
           "zerolinewidth": 2
          }
         }
        },
        "title": {
         "text": "Comparison of AADBT values in control locations between BiciZen and Counters"
        },
        "width": 750,
        "xaxis": {
         "anchor": "y",
         "domain": [
          0,
          1
         ],
         "range": [
          0,
          10000
         ],
         "title": {
          "text": "AADBT_COUNTER"
         }
        },
        "yaxis": {
         "anchor": "x",
         "domain": [
          0,
          1
         ],
         "range": [
          0,
          10000
         ],
         "title": {
          "text": "AADBT_BICIZEN"
         }
        }
       }
      }
     },
     "metadata": {},
     "output_type": "display_data"
    }
   ],
   "source": [
    "import plotly.express as px\n",
    "# Calculate averages\n",
    "avg_bicizen = final_df['AADBT_BICIZEN'].mean()\n",
    "avg_counter = final_df['AADBT_COUNTER'].mean()\n",
    "\n",
    "# Create a scatter plot with Plotly Express (axes inverted)\n",
    "fig = px.scatter(\n",
    "    final_df,\n",
    "    x='AADBT_COUNTER',  # Inverted axis\n",
    "    y='AADBT_BICIZEN',  # Inverted axis\n",
    "    title='Comparison of AADBT values in control locations between BiciZen and Counters',\n",
    "    labels={'AADBT_BICIZEN': 'AADBT_BICIZEN', 'AADBT_COUNTER': 'AADBT_COUNTER', 'ROOT_ID': 'ROOT_ID'},\n",
    "    opacity=0.7,\n",
    "    trendline='ols', trendline_color_override='darkblue'\n",
    ")\n",
    "\n",
    "# Add average lines\n",
    "fig.add_shape(\n",
    "    type='line',\n",
    "    x0=avg_counter,\n",
    "    x1=avg_counter,\n",
    "    y0=0,\n",
    "    y1=10000,\n",
    "    line=dict(color='blue', dash='dash'),\n",
    "    name='Average AADBT_COUNTER'\n",
    ")\n",
    "fig.add_shape(\n",
    "    type='line',\n",
    "    x0=0,\n",
    "    x1=10000,\n",
    "    y0=avg_bicizen,\n",
    "    y1=avg_bicizen,\n",
    "    line=dict(color='red', dash='dash'),\n",
    "    name='Average AADBT_BICIZEN'\n",
    ")\n",
    "\n",
    "# Update axis ranges\n",
    "fig.update_layout(xaxis=dict(range=[0, 10000]), yaxis=dict(range=[0, 10000]))\n",
    "\n",
    "fig.update_layout(\n",
    "    width=750,\n",
    "    height=750\n",
    ")\n",
    "fig.show()\n"
   ]
  },
  {
   "cell_type": "code",
   "execution_count": 78,
   "id": "f9339e4f",
   "metadata": {},
   "outputs": [
    {
     "data": {
      "application/vnd.plotly.v1+json": {
       "config": {
        "plotlyServerURL": "https://plot.ly"
       },
       "data": [
        {
         "hovertemplate": "AADBT_COUNTER=%{x}<br>AADBT_BICIZEN=%{y}<extra></extra>",
         "legendgroup": "",
         "marker": {
          "color": "#636efa",
          "opacity": 0.7,
          "symbol": "circle"
         },
         "mode": "markers",
         "name": "",
         "orientation": "v",
         "showlegend": false,
         "type": "scatter",
         "x": [
          1112.1570512820513,
          1511.2006369426751,
          1488.9911764705882,
          1185.9235668789809,
          1617.548076923077,
          1953.1687898089172,
          5002.1516034985425,
          4860.427325581395,
          5567.405247813411
         ],
         "xaxis": "x",
         "y": [
          1628.1536191281295,
          2834.965192284449,
          2221.6700841621737,
          782.6785291423225,
          1338.9818153083238,
          1169.9324633348726,
          4491.260372505846,
          3907.5841094682746,
          4991.024298325375
         ],
         "yaxis": "y"
        },
        {
         "hovertemplate": "<b>OLS trendline</b><br>AADBT_BICIZEN = 0.758412 * AADBT_COUNTER + 548.624<br>R<sup>2</sup>=0.832219<br><br>AADBT_COUNTER=%{x}<br>AADBT_BICIZEN=%{y} <b>(trend)</b><extra></extra>",
         "legendgroup": "",
         "line": {
          "color": "darkblue"
         },
         "marker": {
          "color": "#636efa",
          "symbol": "circle"
         },
         "mode": "lines",
         "name": "",
         "showlegend": false,
         "type": "scatter",
         "x": [
          1112.1570512820513,
          1185.9235668789809,
          1488.9911764705882,
          1511.2006369426751,
          1617.548076923077,
          1953.1687898089172,
          4860.427325581395,
          5002.1516034985425,
          5567.405247813411
         ],
         "xaxis": "x",
         "y": [
          1392.0971429811832,
          1448.04256603752,
          1677.8927290290999,
          1694.7366541068843,
          1775.3918466765278,
          2029.9306793287944,
          4234.830929825478,
          4342.316346769297,
          4771.011588904981
         ],
         "yaxis": "y"
        }
       ],
       "layout": {
        "height": 750,
        "legend": {
         "tracegroupgap": 0
        },
        "shapes": [
         {
          "line": {
           "color": "blue",
           "dash": "dash"
          },
          "name": "Average AADBT_COUNTER",
          "type": "line",
          "x0": 2699.8859416888486,
          "x1": 2699.8859416888486,
          "y0": 0,
          "y1": 10000
         },
         {
          "line": {
           "color": "red",
           "dash": "dash"
          },
          "name": "Average AADBT_BICIZEN",
          "type": "line",
          "x0": 0,
          "x1": 10000,
          "y0": 2596.2500537399737,
          "y1": 2596.2500537399737
         }
        ],
        "template": {
         "data": {
          "bar": [
           {
            "error_x": {
             "color": "#2a3f5f"
            },
            "error_y": {
             "color": "#2a3f5f"
            },
            "marker": {
             "line": {
              "color": "#E5ECF6",
              "width": 0.5
             },
             "pattern": {
              "fillmode": "overlay",
              "size": 10,
              "solidity": 0.2
             }
            },
            "type": "bar"
           }
          ],
          "barpolar": [
           {
            "marker": {
             "line": {
              "color": "#E5ECF6",
              "width": 0.5
             },
             "pattern": {
              "fillmode": "overlay",
              "size": 10,
              "solidity": 0.2
             }
            },
            "type": "barpolar"
           }
          ],
          "carpet": [
           {
            "aaxis": {
             "endlinecolor": "#2a3f5f",
             "gridcolor": "white",
             "linecolor": "white",
             "minorgridcolor": "white",
             "startlinecolor": "#2a3f5f"
            },
            "baxis": {
             "endlinecolor": "#2a3f5f",
             "gridcolor": "white",
             "linecolor": "white",
             "minorgridcolor": "white",
             "startlinecolor": "#2a3f5f"
            },
            "type": "carpet"
           }
          ],
          "choropleth": [
           {
            "colorbar": {
             "outlinewidth": 0,
             "ticks": ""
            },
            "type": "choropleth"
           }
          ],
          "contour": [
           {
            "colorbar": {
             "outlinewidth": 0,
             "ticks": ""
            },
            "colorscale": [
             [
              0,
              "#0d0887"
             ],
             [
              0.1111111111111111,
              "#46039f"
             ],
             [
              0.2222222222222222,
              "#7201a8"
             ],
             [
              0.3333333333333333,
              "#9c179e"
             ],
             [
              0.4444444444444444,
              "#bd3786"
             ],
             [
              0.5555555555555556,
              "#d8576b"
             ],
             [
              0.6666666666666666,
              "#ed7953"
             ],
             [
              0.7777777777777778,
              "#fb9f3a"
             ],
             [
              0.8888888888888888,
              "#fdca26"
             ],
             [
              1,
              "#f0f921"
             ]
            ],
            "type": "contour"
           }
          ],
          "contourcarpet": [
           {
            "colorbar": {
             "outlinewidth": 0,
             "ticks": ""
            },
            "type": "contourcarpet"
           }
          ],
          "heatmap": [
           {
            "colorbar": {
             "outlinewidth": 0,
             "ticks": ""
            },
            "colorscale": [
             [
              0,
              "#0d0887"
             ],
             [
              0.1111111111111111,
              "#46039f"
             ],
             [
              0.2222222222222222,
              "#7201a8"
             ],
             [
              0.3333333333333333,
              "#9c179e"
             ],
             [
              0.4444444444444444,
              "#bd3786"
             ],
             [
              0.5555555555555556,
              "#d8576b"
             ],
             [
              0.6666666666666666,
              "#ed7953"
             ],
             [
              0.7777777777777778,
              "#fb9f3a"
             ],
             [
              0.8888888888888888,
              "#fdca26"
             ],
             [
              1,
              "#f0f921"
             ]
            ],
            "type": "heatmap"
           }
          ],
          "heatmapgl": [
           {
            "colorbar": {
             "outlinewidth": 0,
             "ticks": ""
            },
            "colorscale": [
             [
              0,
              "#0d0887"
             ],
             [
              0.1111111111111111,
              "#46039f"
             ],
             [
              0.2222222222222222,
              "#7201a8"
             ],
             [
              0.3333333333333333,
              "#9c179e"
             ],
             [
              0.4444444444444444,
              "#bd3786"
             ],
             [
              0.5555555555555556,
              "#d8576b"
             ],
             [
              0.6666666666666666,
              "#ed7953"
             ],
             [
              0.7777777777777778,
              "#fb9f3a"
             ],
             [
              0.8888888888888888,
              "#fdca26"
             ],
             [
              1,
              "#f0f921"
             ]
            ],
            "type": "heatmapgl"
           }
          ],
          "histogram": [
           {
            "marker": {
             "pattern": {
              "fillmode": "overlay",
              "size": 10,
              "solidity": 0.2
             }
            },
            "type": "histogram"
           }
          ],
          "histogram2d": [
           {
            "colorbar": {
             "outlinewidth": 0,
             "ticks": ""
            },
            "colorscale": [
             [
              0,
              "#0d0887"
             ],
             [
              0.1111111111111111,
              "#46039f"
             ],
             [
              0.2222222222222222,
              "#7201a8"
             ],
             [
              0.3333333333333333,
              "#9c179e"
             ],
             [
              0.4444444444444444,
              "#bd3786"
             ],
             [
              0.5555555555555556,
              "#d8576b"
             ],
             [
              0.6666666666666666,
              "#ed7953"
             ],
             [
              0.7777777777777778,
              "#fb9f3a"
             ],
             [
              0.8888888888888888,
              "#fdca26"
             ],
             [
              1,
              "#f0f921"
             ]
            ],
            "type": "histogram2d"
           }
          ],
          "histogram2dcontour": [
           {
            "colorbar": {
             "outlinewidth": 0,
             "ticks": ""
            },
            "colorscale": [
             [
              0,
              "#0d0887"
             ],
             [
              0.1111111111111111,
              "#46039f"
             ],
             [
              0.2222222222222222,
              "#7201a8"
             ],
             [
              0.3333333333333333,
              "#9c179e"
             ],
             [
              0.4444444444444444,
              "#bd3786"
             ],
             [
              0.5555555555555556,
              "#d8576b"
             ],
             [
              0.6666666666666666,
              "#ed7953"
             ],
             [
              0.7777777777777778,
              "#fb9f3a"
             ],
             [
              0.8888888888888888,
              "#fdca26"
             ],
             [
              1,
              "#f0f921"
             ]
            ],
            "type": "histogram2dcontour"
           }
          ],
          "mesh3d": [
           {
            "colorbar": {
             "outlinewidth": 0,
             "ticks": ""
            },
            "type": "mesh3d"
           }
          ],
          "parcoords": [
           {
            "line": {
             "colorbar": {
              "outlinewidth": 0,
              "ticks": ""
             }
            },
            "type": "parcoords"
           }
          ],
          "pie": [
           {
            "automargin": true,
            "type": "pie"
           }
          ],
          "scatter": [
           {
            "fillpattern": {
             "fillmode": "overlay",
             "size": 10,
             "solidity": 0.2
            },
            "type": "scatter"
           }
          ],
          "scatter3d": [
           {
            "line": {
             "colorbar": {
              "outlinewidth": 0,
              "ticks": ""
             }
            },
            "marker": {
             "colorbar": {
              "outlinewidth": 0,
              "ticks": ""
             }
            },
            "type": "scatter3d"
           }
          ],
          "scattercarpet": [
           {
            "marker": {
             "colorbar": {
              "outlinewidth": 0,
              "ticks": ""
             }
            },
            "type": "scattercarpet"
           }
          ],
          "scattergeo": [
           {
            "marker": {
             "colorbar": {
              "outlinewidth": 0,
              "ticks": ""
             }
            },
            "type": "scattergeo"
           }
          ],
          "scattergl": [
           {
            "marker": {
             "colorbar": {
              "outlinewidth": 0,
              "ticks": ""
             }
            },
            "type": "scattergl"
           }
          ],
          "scattermapbox": [
           {
            "marker": {
             "colorbar": {
              "outlinewidth": 0,
              "ticks": ""
             }
            },
            "type": "scattermapbox"
           }
          ],
          "scatterpolar": [
           {
            "marker": {
             "colorbar": {
              "outlinewidth": 0,
              "ticks": ""
             }
            },
            "type": "scatterpolar"
           }
          ],
          "scatterpolargl": [
           {
            "marker": {
             "colorbar": {
              "outlinewidth": 0,
              "ticks": ""
             }
            },
            "type": "scatterpolargl"
           }
          ],
          "scatterternary": [
           {
            "marker": {
             "colorbar": {
              "outlinewidth": 0,
              "ticks": ""
             }
            },
            "type": "scatterternary"
           }
          ],
          "surface": [
           {
            "colorbar": {
             "outlinewidth": 0,
             "ticks": ""
            },
            "colorscale": [
             [
              0,
              "#0d0887"
             ],
             [
              0.1111111111111111,
              "#46039f"
             ],
             [
              0.2222222222222222,
              "#7201a8"
             ],
             [
              0.3333333333333333,
              "#9c179e"
             ],
             [
              0.4444444444444444,
              "#bd3786"
             ],
             [
              0.5555555555555556,
              "#d8576b"
             ],
             [
              0.6666666666666666,
              "#ed7953"
             ],
             [
              0.7777777777777778,
              "#fb9f3a"
             ],
             [
              0.8888888888888888,
              "#fdca26"
             ],
             [
              1,
              "#f0f921"
             ]
            ],
            "type": "surface"
           }
          ],
          "table": [
           {
            "cells": {
             "fill": {
              "color": "#EBF0F8"
             },
             "line": {
              "color": "white"
             }
            },
            "header": {
             "fill": {
              "color": "#C8D4E3"
             },
             "line": {
              "color": "white"
             }
            },
            "type": "table"
           }
          ]
         },
         "layout": {
          "annotationdefaults": {
           "arrowcolor": "#2a3f5f",
           "arrowhead": 0,
           "arrowwidth": 1
          },
          "autotypenumbers": "strict",
          "coloraxis": {
           "colorbar": {
            "outlinewidth": 0,
            "ticks": ""
           }
          },
          "colorscale": {
           "diverging": [
            [
             0,
             "#8e0152"
            ],
            [
             0.1,
             "#c51b7d"
            ],
            [
             0.2,
             "#de77ae"
            ],
            [
             0.3,
             "#f1b6da"
            ],
            [
             0.4,
             "#fde0ef"
            ],
            [
             0.5,
             "#f7f7f7"
            ],
            [
             0.6,
             "#e6f5d0"
            ],
            [
             0.7,
             "#b8e186"
            ],
            [
             0.8,
             "#7fbc41"
            ],
            [
             0.9,
             "#4d9221"
            ],
            [
             1,
             "#276419"
            ]
           ],
           "sequential": [
            [
             0,
             "#0d0887"
            ],
            [
             0.1111111111111111,
             "#46039f"
            ],
            [
             0.2222222222222222,
             "#7201a8"
            ],
            [
             0.3333333333333333,
             "#9c179e"
            ],
            [
             0.4444444444444444,
             "#bd3786"
            ],
            [
             0.5555555555555556,
             "#d8576b"
            ],
            [
             0.6666666666666666,
             "#ed7953"
            ],
            [
             0.7777777777777778,
             "#fb9f3a"
            ],
            [
             0.8888888888888888,
             "#fdca26"
            ],
            [
             1,
             "#f0f921"
            ]
           ],
           "sequentialminus": [
            [
             0,
             "#0d0887"
            ],
            [
             0.1111111111111111,
             "#46039f"
            ],
            [
             0.2222222222222222,
             "#7201a8"
            ],
            [
             0.3333333333333333,
             "#9c179e"
            ],
            [
             0.4444444444444444,
             "#bd3786"
            ],
            [
             0.5555555555555556,
             "#d8576b"
            ],
            [
             0.6666666666666666,
             "#ed7953"
            ],
            [
             0.7777777777777778,
             "#fb9f3a"
            ],
            [
             0.8888888888888888,
             "#fdca26"
            ],
            [
             1,
             "#f0f921"
            ]
           ]
          },
          "colorway": [
           "#636efa",
           "#EF553B",
           "#00cc96",
           "#ab63fa",
           "#FFA15A",
           "#19d3f3",
           "#FF6692",
           "#B6E880",
           "#FF97FF",
           "#FECB52"
          ],
          "font": {
           "color": "#2a3f5f"
          },
          "geo": {
           "bgcolor": "white",
           "lakecolor": "white",
           "landcolor": "#E5ECF6",
           "showlakes": true,
           "showland": true,
           "subunitcolor": "white"
          },
          "hoverlabel": {
           "align": "left"
          },
          "hovermode": "closest",
          "mapbox": {
           "style": "light"
          },
          "paper_bgcolor": "white",
          "plot_bgcolor": "#E5ECF6",
          "polar": {
           "angularaxis": {
            "gridcolor": "white",
            "linecolor": "white",
            "ticks": ""
           },
           "bgcolor": "#E5ECF6",
           "radialaxis": {
            "gridcolor": "white",
            "linecolor": "white",
            "ticks": ""
           }
          },
          "scene": {
           "xaxis": {
            "backgroundcolor": "#E5ECF6",
            "gridcolor": "white",
            "gridwidth": 2,
            "linecolor": "white",
            "showbackground": true,
            "ticks": "",
            "zerolinecolor": "white"
           },
           "yaxis": {
            "backgroundcolor": "#E5ECF6",
            "gridcolor": "white",
            "gridwidth": 2,
            "linecolor": "white",
            "showbackground": true,
            "ticks": "",
            "zerolinecolor": "white"
           },
           "zaxis": {
            "backgroundcolor": "#E5ECF6",
            "gridcolor": "white",
            "gridwidth": 2,
            "linecolor": "white",
            "showbackground": true,
            "ticks": "",
            "zerolinecolor": "white"
           }
          },
          "shapedefaults": {
           "line": {
            "color": "#2a3f5f"
           }
          },
          "ternary": {
           "aaxis": {
            "gridcolor": "white",
            "linecolor": "white",
            "ticks": ""
           },
           "baxis": {
            "gridcolor": "white",
            "linecolor": "white",
            "ticks": ""
           },
           "bgcolor": "#E5ECF6",
           "caxis": {
            "gridcolor": "white",
            "linecolor": "white",
            "ticks": ""
           }
          },
          "title": {
           "x": 0.05
          },
          "xaxis": {
           "automargin": true,
           "gridcolor": "white",
           "linecolor": "white",
           "ticks": "",
           "title": {
            "standoff": 15
           },
           "zerolinecolor": "white",
           "zerolinewidth": 2
          },
          "yaxis": {
           "automargin": true,
           "gridcolor": "white",
           "linecolor": "white",
           "ticks": "",
           "title": {
            "standoff": 15
           },
           "zerolinecolor": "white",
           "zerolinewidth": 2
          }
         }
        },
        "title": {
         "text": "Comparison of scaled AADBT values in control locations between BiciZen and Counters"
        },
        "width": 750,
        "xaxis": {
         "anchor": "y",
         "domain": [
          0,
          1
         ],
         "range": [
          0,
          10000
         ],
         "title": {
          "text": "AADBT_COUNTER"
         }
        },
        "yaxis": {
         "anchor": "x",
         "domain": [
          0,
          1
         ],
         "range": [
          0,
          10000
         ],
         "title": {
          "text": "AADBT_BICIZEN"
         }
        }
       }
      }
     },
     "metadata": {},
     "output_type": "display_data"
    }
   ],
   "source": [
    "import plotly.express as px\n",
    "scaled = final_df.copy()\n",
    "scaled['AADBT_BICIZEN'] = 3.266 * scaled['AADBT_BICIZEN'] -477.175\n",
    "# Calculate averages\n",
    "avg_bicizen = scaled['AADBT_BICIZEN'].mean()\n",
    "avg_counter = scaled['AADBT_COUNTER'].mean()\n",
    "\n",
    "# Create a scatter plot with Plotly Express (axes inverted)\n",
    "fig = px.scatter(\n",
    "    scaled,\n",
    "    x='AADBT_COUNTER',  # Inverted axis\n",
    "    y='AADBT_BICIZEN',  # Inverted axis\n",
    "    title='Comparison of scaled AADBT values in control locations between BiciZen and Counters',\n",
    "    labels={'AADBT_BICIZEN': 'AADBT_BICIZEN', 'AADBT_COUNTER': 'AADBT_COUNTER', 'ROOT_ID': 'ROOT_ID'},\n",
    "    opacity=0.7,\n",
    "    trendline='ols', trendline_color_override='darkblue'\n",
    ")\n",
    "\n",
    "# Add average lines\n",
    "fig.add_shape(\n",
    "    type='line',\n",
    "    x0=avg_counter,\n",
    "    x1=avg_counter,\n",
    "    y0=0,\n",
    "    y1=10000,\n",
    "    line=dict(color='blue', dash='dash'),\n",
    "    name='Average AADBT_COUNTER'\n",
    ")\n",
    "fig.add_shape(\n",
    "    type='line',\n",
    "    x0=0,\n",
    "    x1=10000,\n",
    "    y0=avg_bicizen,\n",
    "    y1=avg_bicizen,\n",
    "    line=dict(color='red', dash='dash'),\n",
    "    name='Average AADBT_BICIZEN'\n",
    ")\n",
    "\n",
    "# Update axis ranges\n",
    "fig.update_layout(xaxis=dict(range=[0, 10000]), yaxis=dict(range=[0, 10000]))\n",
    "\n",
    "fig.update_layout(\n",
    "    width=750,\n",
    "    height=750\n",
    ")\n",
    "fig.show()\n"
   ]
  },
  {
   "cell_type": "code",
   "execution_count": 79,
   "id": "e29ede89",
   "metadata": {},
   "outputs": [
    {
     "data": {
      "text/plain": [
       "count       9.000000\n",
       "mean    -1758.849489\n",
       "std      1439.508449\n",
       "min     -3893.124997\n",
       "25%     -3480.891538\n",
       "50%     -1061.468219\n",
       "75%      -662.645468\n",
       "max      -467.537143\n",
       "Name: AADBT_DIFF, dtype: float64"
      ]
     },
     "execution_count": 79,
     "metadata": {},
     "output_type": "execute_result"
    }
   ],
   "source": [
    "final_df['AADBT_DIFF'].describe()"
   ]
  },
  {
   "cell_type": "code",
   "execution_count": 80,
   "id": "685a3bc7",
   "metadata": {},
   "outputs": [
    {
     "data": {
      "text/plain": [
       "array([1046328, 1054514, 1048280, 1048268, 1051865, 1048272, 1048223,\n",
       "       1048274, 1049380], dtype=int64)"
      ]
     },
     "execution_count": 80,
     "metadata": {},
     "output_type": "execute_result"
    }
   ],
   "source": [
    "final_df[\"ROOT_ID\"].unique()"
   ]
  },
  {
   "cell_type": "markdown",
   "id": "ba2c3ab7",
   "metadata": {},
   "source": [
    "### Explore correlation"
   ]
  },
  {
   "cell_type": "code",
   "execution_count": 81,
   "id": "114c80c6",
   "metadata": {},
   "outputs": [
    {
     "data": {
      "image/png": "[encoded data removed]",
      "text/plain": [
       "<Figure size 800x600 with 2 Axes>"
      ]
     },
     "metadata": {},
     "output_type": "display_data"
    }
   ],
   "source": [
    "# Calculate the correlation matrix\n",
    "correlation_matrix = final_df[['AADBT_BICIZEN', 'AADBT_COUNTER', 'AADBT_DIFF','DaysWithData', 'HasWeekendData', 'Observations']].corr()\n",
    "\n",
    "# Plot the heatmap\n",
    "plt.figure(figsize=(8, 6))\n",
    "sns.heatmap(correlation_matrix, annot=True, cmap='coolwarm', fmt=\".2f\")\n",
    "plt.title('Correlation Matrix')\n",
    "plt.show()"
   ]
  },
  {
   "cell_type": "code",
   "execution_count": 82,
   "id": "1f80f2e5",
   "metadata": {},
   "outputs": [
    {
     "name": "stderr",
     "output_type": "stream",
     "text": [
      "c:\\Users\\lucal\\anaconda3\\envs\\ridership_model\\Lib\\site-packages\\seaborn\\matrix.py:260: FutureWarning:\n",
      "\n",
      "Format strings passed to MaskedConstant are ignored, but in future may error or produce different behavior\n",
      "\n"
     ]
    },
    {
     "data": {
      "image/png": "[encoded data removed]",
      "text/plain": [
       "<Figure size 800x600 with 2 Axes>"
      ]
     },
     "metadata": {},
     "output_type": "display_data"
    }
   ],
   "source": [
    "# Calculate the correlation matrix for numeric attributes in merged_df\n",
    "correlation_numeric = merged_df.select_dtypes(include=['float64', 'int64','bool']).corr()\n",
    "\n",
    "# Plot the heatmap\n",
    "plt.figure(figsize=(8, 6))\n",
    "sns.heatmap(correlation_numeric, annot=True, cmap='coolwarm', fmt=\".2f\")\n",
    "plt.title('Correlation Matrix BiciZen observations')\n",
    "plt.show()"
   ]
  },
  {
   "cell_type": "markdown",
   "id": "5d5c0b98",
   "metadata": {},
   "source": [
    "## Ger problematic values"
   ]
  },
  {
   "cell_type": "code",
   "execution_count": 83,
   "id": "8ccef985",
   "metadata": {},
   "outputs": [
    {
     "data": {
      "text/html": [
       "<div>\n",
       "<style scoped>\n",
       "    .dataframe tbody tr th:only-of-type {\n",
       "        vertical-align: middle;\n",
       "    }\n",
       "\n",
       "    .dataframe tbody tr th {\n",
       "        vertical-align: top;\n",
       "    }\n",
       "\n",
       "    .dataframe thead th {\n",
       "        text-align: right;\n",
       "    }\n",
       "</style>\n",
       "<table border=\"1\" class=\"dataframe\">\n",
       "  <thead>\n",
       "    <tr style=\"text-align: right;\">\n",
       "      <th></th>\n",
       "      <th>ROOT_ID</th>\n",
       "      <th>AADBT_DIFF</th>\n",
       "      <th>AADBT_BICIZEN</th>\n",
       "      <th>AADBT_COUNTER</th>\n",
       "      <th>direction_counter</th>\n",
       "      <th>DaysWithData</th>\n",
       "      <th>HasWeekendData</th>\n",
       "      <th>Observations</th>\n",
       "      <th>geometry</th>\n",
       "      <th>Locations</th>\n",
       "    </tr>\n",
       "  </thead>\n",
       "  <tbody>\n",
       "    <tr>\n",
       "      <th>6</th>\n",
       "      <td>1049380</td>\n",
       "      <td>-3893.124997</td>\n",
       "      <td>1674.280251</td>\n",
       "      <td>5567.405248</td>\n",
       "      <td>SW</td>\n",
       "      <td>31</td>\n",
       "      <td>True</td>\n",
       "      <td>40</td>\n",
       "      <td>POINT (430235.035 4584150.178)</td>\n",
       "      <td>SW</td>\n",
       "    </tr>\n",
       "    <tr>\n",
       "      <th>4</th>\n",
       "      <td>1048274</td>\n",
       "      <td>-3517.880140</td>\n",
       "      <td>1342.547186</td>\n",
       "      <td>4860.427326</td>\n",
       "      <td>NE</td>\n",
       "      <td>31</td>\n",
       "      <td>True</td>\n",
       "      <td>43</td>\n",
       "      <td>POINT (430235.035 4584150.178)</td>\n",
       "      <td>NE</td>\n",
       "    </tr>\n",
       "    <tr>\n",
       "      <th>1</th>\n",
       "      <td>1048223</td>\n",
       "      <td>-3480.891538</td>\n",
       "      <td>1521.260065</td>\n",
       "      <td>5002.151603</td>\n",
       "      <td>N</td>\n",
       "      <td>11</td>\n",
       "      <td>False</td>\n",
       "      <td>13</td>\n",
       "      <td>POINT (432061.273 4584212.752)</td>\n",
       "      <td>N</td>\n",
       "    </tr>\n",
       "    <tr>\n",
       "      <th>3</th>\n",
       "      <td>1048272</td>\n",
       "      <td>-1448.849297</td>\n",
       "      <td>504.319493</td>\n",
       "      <td>1953.168790</td>\n",
       "      <td>N</td>\n",
       "      <td>13</td>\n",
       "      <td>False</td>\n",
       "      <td>13</td>\n",
       "      <td>POINT (426382.214 4581269.343)</td>\n",
       "      <td>N</td>\n",
       "    </tr>\n",
       "    <tr>\n",
       "      <th>7</th>\n",
       "      <td>1051865</td>\n",
       "      <td>-1061.468219</td>\n",
       "      <td>556.079858</td>\n",
       "      <td>1617.548077</td>\n",
       "      <td>NE</td>\n",
       "      <td>27</td>\n",
       "      <td>True</td>\n",
       "      <td>34</td>\n",
       "      <td>POINT (430852.232 4585230.121)</td>\n",
       "      <td>NE</td>\n",
       "    </tr>\n",
       "    <tr>\n",
       "      <th>2</th>\n",
       "      <td>1048268</td>\n",
       "      <td>-800.175395</td>\n",
       "      <td>385.748172</td>\n",
       "      <td>1185.923567</td>\n",
       "      <td>SW</td>\n",
       "      <td>33</td>\n",
       "      <td>True</td>\n",
       "      <td>42</td>\n",
       "      <td>POINT (430852.232 4585230.121)</td>\n",
       "      <td>SW</td>\n",
       "    </tr>\n",
       "    <tr>\n",
       "      <th>5</th>\n",
       "      <td>1048280</td>\n",
       "      <td>-662.645468</td>\n",
       "      <td>826.345709</td>\n",
       "      <td>1488.991176</td>\n",
       "      <td>SE</td>\n",
       "      <td>17</td>\n",
       "      <td>False</td>\n",
       "      <td>23</td>\n",
       "      <td>POINT (429003.890 4580413.799)</td>\n",
       "      <td>SE</td>\n",
       "    </tr>\n",
       "    <tr>\n",
       "      <th>8</th>\n",
       "      <td>1054514</td>\n",
       "      <td>-497.073205</td>\n",
       "      <td>1014.127432</td>\n",
       "      <td>1511.200637</td>\n",
       "      <td>S</td>\n",
       "      <td>13</td>\n",
       "      <td>False</td>\n",
       "      <td>13</td>\n",
       "      <td>POINT (426382.214 4581269.343)</td>\n",
       "      <td>S</td>\n",
       "    </tr>\n",
       "    <tr>\n",
       "      <th>0</th>\n",
       "      <td>1046328</td>\n",
       "      <td>-467.537143</td>\n",
       "      <td>644.619908</td>\n",
       "      <td>1112.157051</td>\n",
       "      <td>NW</td>\n",
       "      <td>10</td>\n",
       "      <td>False</td>\n",
       "      <td>13</td>\n",
       "      <td>POINT (426616.254 4583734.058)</td>\n",
       "      <td>NW</td>\n",
       "    </tr>\n",
       "  </tbody>\n",
       "</table>\n",
       "</div>"
      ],
      "text/plain": [
       "   ROOT_ID   AADBT_DIFF  AADBT_BICIZEN  AADBT_COUNTER direction_counter  \\\n",
       "6  1049380 -3893.124997    1674.280251    5567.405248                SW   \n",
       "4  1048274 -3517.880140    1342.547186    4860.427326                NE   \n",
       "1  1048223 -3480.891538    1521.260065    5002.151603                 N   \n",
       "3  1048272 -1448.849297     504.319493    1953.168790                 N   \n",
       "7  1051865 -1061.468219     556.079858    1617.548077                NE   \n",
       "2  1048268  -800.175395     385.748172    1185.923567                SW   \n",
       "5  1048280  -662.645468     826.345709    1488.991176                SE   \n",
       "8  1054514  -497.073205    1014.127432    1511.200637                 S   \n",
       "0  1046328  -467.537143     644.619908    1112.157051                NW   \n",
       "\n",
       "   DaysWithData  HasWeekendData  Observations                        geometry  \\\n",
       "6            31            True            40  POINT (430235.035 4584150.178)   \n",
       "4            31            True            43  POINT (430235.035 4584150.178)   \n",
       "1            11           False            13  POINT (432061.273 4584212.752)   \n",
       "3            13           False            13  POINT (426382.214 4581269.343)   \n",
       "7            27            True            34  POINT (430852.232 4585230.121)   \n",
       "2            33            True            42  POINT (430852.232 4585230.121)   \n",
       "5            17           False            23  POINT (429003.890 4580413.799)   \n",
       "8            13           False            13  POINT (426382.214 4581269.343)   \n",
       "0            10           False            13  POINT (426616.254 4583734.058)   \n",
       "\n",
       "  Locations  \n",
       "6        SW  \n",
       "4        NE  \n",
       "1         N  \n",
       "3         N  \n",
       "7        NE  \n",
       "2        SW  \n",
       "5        SE  \n",
       "8         S  \n",
       "0        NW  "
      ]
     },
     "execution_count": 83,
     "metadata": {},
     "output_type": "execute_result"
    }
   ],
   "source": [
    "final_df=final_df[['ROOT_ID', 'AADBT_DIFF',  'AADBT_BICIZEN', 'AADBT_COUNTER',\n",
    "       'direction_counter', 'DaysWithData',\n",
    "       'HasWeekendData', 'Observations', 'geometry',  'Locations']]\n",
    "final_df.sort_values(by=\"AADBT_DIFF\").head(16)"
   ]
  },
  {
   "cell_type": "markdown",
   "id": "42195e6c",
   "metadata": {
    "id": "a_ZrQ64i7plQ",
    "papermill": {
     "duration": 0.007,
     "end_time": "2025-03-14T15:01:57.033614",
     "exception": false,
     "start_time": "2025-03-14T15:01:57.026614",
     "status": "completed"
    },
    "tags": []
   },
   "source": [
    "# Save output"
   ]
  },
  {
   "cell_type": "code",
   "execution_count": 85,
   "id": "84ff82cc",
   "metadata": {
    "execution": {
     "iopub.execute_input": "2025-03-14T15:01:57.047626Z",
     "iopub.status.busy": "2025-03-14T15:01:57.047626Z",
     "iopub.status.idle": "2025-03-14T15:01:57.059458Z",
     "shell.execute_reply": "2025-03-14T15:01:57.059458Z"
    },
    "papermill": {
     "duration": 0.020301,
     "end_time": "2025-03-14T15:01:57.060465",
     "exception": false,
     "start_time": "2025-03-14T15:01:57.040164",
     "status": "completed"
    },
    "tags": []
   },
   "outputs": [],
   "source": [
    "final_df=final_df[['ROOT_ID',   'AADBT_COUNTER','AADBT_BICIZEN']]\n",
    "final_df.to_csv(Path(OUTPUT_DATA_PATH) / f\"biciZen_aadbt_diff_{YEAR}.csv\", index=False)"
   ]
  }
 ],
 "metadata": {
  "colab": {
   "collapsed_sections": [
    "5bf315c7",
    "eebb1a73",
    "12dd37b6"
   ],
   "provenance": []
  },
  "kernelspec": {
   "display_name": "ridership_model",
   "language": "python",
   "name": "python3"
  },
  "language_info": {
   "codemirror_mode": {
    "name": "ipython",
    "version": 3
   },
   "file_extension": ".py",
   "mimetype": "text/x-python",
   "name": "python",
   "nbconvert_exporter": "python",
   "pygments_lexer": "ipython3",
   "version": "3.11.9"
  },
  "papermill": {
   "default_parameters": {},
   "duration": 4.685965,
   "end_time": "2025-03-14T15:01:57.534804",
   "environment_variables": {},
   "exception": null,
   "input_path": "013-luca_traffic_indices_calculate.ipynb",
   "output_path": "013-luca_traffic_indices_calculate.ipynb",
   "parameters": {
    "SAVE_OUTPUT": true,
    "YEAR": 2024
   },
   "start_time": "2025-03-14T15:01:52.848839",
   "version": "2.6.0"
  }
 },
 "nbformat": 4,
 "nbformat_minor": 5
}
