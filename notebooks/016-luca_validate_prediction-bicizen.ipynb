{
 "cells": [
  {
   "cell_type": "code",
   "execution_count": 612,
   "id": "34332b88",
   "metadata": {
    "execution": {
     "iopub.execute_input": "2025-03-14T15:01:54.244830Z",
     "iopub.status.busy": "2025-03-14T15:01:54.243834Z",
     "iopub.status.idle": "2025-03-14T15:01:54.250652Z",
     "shell.execute_reply": "2025-03-14T15:01:54.250652Z"
    },
    "executionInfo": {
     "elapsed": 196,
     "status": "ok",
     "timestamp": 1737216414526,
     "user": {
      "displayName": "Luca Liebscht",
      "userId": "11880140528704889234"
     },
     "user_tz": -60
    },
    "id": "I_hrwU9x479z",
    "papermill": {
     "duration": 0.013824,
     "end_time": "2025-03-14T15:01:54.251658",
     "exception": false,
     "start_time": "2025-03-14T15:01:54.237834",
     "status": "completed"
    }
   },
   "outputs": [],
   "source": [
    "# parameters\n",
    "INPUT_DATA_PATH = \"../data/interim/\"\n",
    "INPUT_PROCESSED_DATA_PATH = \"../data/processed/\"\n",
    "\n",
    "YEAR = 2017\n",
    "SAVE_OUTPUT = True\n",
    "OUTPUT_DATA_PATH = \"../data/processed/\"\n",
    "OUTPUT_FIGURES_PATH = \"../reports/figures/\""
   ]
  },
  {
   "cell_type": "code",
   "execution_count": 613,
   "id": "5c6e8545",
   "metadata": {
    "execution": {
     "iopub.execute_input": "2025-03-14T15:01:54.261716Z",
     "iopub.status.busy": "2025-03-14T15:01:54.261716Z",
     "iopub.status.idle": "2025-03-14T15:01:54.264679Z",
     "shell.execute_reply": "2025-03-14T15:01:54.264679Z"
    },
    "papermill": {
     "duration": 0.01041,
     "end_time": "2025-03-14T15:01:54.266108",
     "exception": false,
     "start_time": "2025-03-14T15:01:54.255698",
     "status": "completed"
    },
    "tags": [
     "injected-parameters"
    ]
   },
   "outputs": [],
   "source": [
    "# Parameters\n",
    "YEAR = 2024 \n",
    "SAVE_OUTPUT = True\n"
   ]
  },
  {
   "cell_type": "code",
   "execution_count": 614,
   "id": "f96ccfa5",
   "metadata": {
    "colab": {
     "base_uri": "https://localhost:8080/"
    },
    "execution": {
     "iopub.execute_input": "2025-03-14T15:01:54.277134Z",
     "iopub.status.busy": "2025-03-14T15:01:54.277134Z",
     "iopub.status.idle": "2025-03-14T15:01:55.391379Z",
     "shell.execute_reply": "2025-03-14T15:01:55.391379Z"
    },
    "executionInfo": {
     "elapsed": 19072,
     "status": "ok",
     "timestamp": 1737216453714,
     "user": {
      "displayName": "Luca Liebscht",
      "userId": "11880140528704889234"
     },
     "user_tz": -60
    },
    "id": "HnDB36CLTIxL",
    "outputId": "5e9ddd8f-0300-40ec-cf32-75cf8dc5e328",
    "papermill": {
     "duration": 1.123307,
     "end_time": "2025-03-14T15:01:55.393427",
     "exception": false,
     "start_time": "2025-03-14T15:01:54.270120",
     "status": "completed"
    },
    "tags": []
   },
   "outputs": [],
   "source": [
    "# Import all necessary libraries\n",
    "import time\n",
    "start = time.time()\n",
    "import geopandas as gpd\n",
    "import pandas as pd\n",
    "from functools import reduce\n",
    "import matplotlib.pyplot as plt\n",
    "from pandas.api.types import CategoricalDtype\n",
    "import seaborn as sns\n",
    "\n",
    "import warnings\n",
    "from pathlib import Path\n",
    "\n",
    "# Plot AADBT_DIFF using plotly express\n",
    "import plotly.express as px"
   ]
  },
  {
   "cell_type": "markdown",
   "id": "06a8ab48",
   "metadata": {
    "papermill": {
     "duration": 0.004997,
     "end_time": "2025-03-14T15:01:55.403523",
     "exception": false,
     "start_time": "2025-03-14T15:01:55.398526",
     "status": "completed"
    },
    "tags": []
   },
   "source": [
    "# Load data"
   ]
  },
  {
   "cell_type": "code",
   "execution_count": 615,
   "id": "1d238869",
   "metadata": {
    "execution": {
     "iopub.execute_input": "2025-03-14T15:01:55.414333Z",
     "iopub.status.busy": "2025-03-14T15:01:55.414333Z",
     "iopub.status.idle": "2025-03-14T15:01:55.599283Z",
     "shell.execute_reply": "2025-03-14T15:01:55.599283Z"
    },
    "papermill": {
     "duration": 0.192256,
     "end_time": "2025-03-14T15:01:55.600290",
     "exception": false,
     "start_time": "2025-03-14T15:01:55.408034",
     "status": "completed"
    },
    "tags": []
   },
   "outputs": [
    {
     "name": "stdout",
     "output_type": "stream",
     "text": [
      "(26, 5)\n",
      "Index(['Year', 'ROOT_ID', 'ATT', 'ATT_in_Million', 'AADBT'], dtype='object')\n"
     ]
    },
    {
     "data": {
      "text/html": [
       "<div>\n",
       "<style scoped>\n",
       "    .dataframe tbody tr th:only-of-type {\n",
       "        vertical-align: middle;\n",
       "    }\n",
       "\n",
       "    .dataframe tbody tr th {\n",
       "        vertical-align: top;\n",
       "    }\n",
       "\n",
       "    .dataframe thead th {\n",
       "        text-align: right;\n",
       "    }\n",
       "</style>\n",
       "<table border=\"1\" class=\"dataframe\">\n",
       "  <thead>\n",
       "    <tr style=\"text-align: right;\">\n",
       "      <th></th>\n",
       "      <th>Year</th>\n",
       "      <th>ROOT_ID</th>\n",
       "      <th>ATT</th>\n",
       "      <th>ATT_in_Million</th>\n",
       "      <th>AADBT</th>\n",
       "    </tr>\n",
       "  </thead>\n",
       "  <tbody>\n",
       "    <tr>\n",
       "      <th>0</th>\n",
       "      <td>2024</td>\n",
       "      <td>1029389</td>\n",
       "      <td>903375.899687</td>\n",
       "      <td>0.903376</td>\n",
       "      <td>2475.002465</td>\n",
       "    </tr>\n",
       "    <tr>\n",
       "      <th>1</th>\n",
       "      <td>2024</td>\n",
       "      <td>1046328</td>\n",
       "      <td>235286.266375</td>\n",
       "      <td>0.235286</td>\n",
       "      <td>644.619908</td>\n",
       "    </tr>\n",
       "    <tr>\n",
       "      <th>2</th>\n",
       "      <td>2024</td>\n",
       "      <td>1046333</td>\n",
       "      <td>80525.583573</td>\n",
       "      <td>0.080526</td>\n",
       "      <td>220.618037</td>\n",
       "    </tr>\n",
       "    <tr>\n",
       "      <th>3</th>\n",
       "      <td>2024</td>\n",
       "      <td>1046343</td>\n",
       "      <td>126998.308625</td>\n",
       "      <td>0.126998</td>\n",
       "      <td>347.940572</td>\n",
       "    </tr>\n",
       "    <tr>\n",
       "      <th>4</th>\n",
       "      <td>2024</td>\n",
       "      <td>1047953</td>\n",
       "      <td>865768.419524</td>\n",
       "      <td>0.865768</td>\n",
       "      <td>2371.968273</td>\n",
       "    </tr>\n",
       "  </tbody>\n",
       "</table>\n",
       "</div>"
      ],
      "text/plain": [
       "   Year  ROOT_ID            ATT  ATT_in_Million        AADBT\n",
       "0  2024  1029389  903375.899687        0.903376  2475.002465\n",
       "1  2024  1046328  235286.266375        0.235286   644.619908\n",
       "2  2024  1046333   80525.583573        0.080526   220.618037\n",
       "3  2024  1046343  126998.308625        0.126998   347.940572\n",
       "4  2024  1047953  865768.419524        0.865768  2371.968273"
      ]
     },
     "execution_count": 615,
     "metadata": {},
     "output_type": "execute_result"
    }
   ],
   "source": [
    "# Read BiciZen prediction \n",
    "bicizen_aadbt = pd.read_parquet(Path(INPUT_PROCESSED_DATA_PATH) / f\"bicizen_aadbt.parquet\")\n",
    "print(bicizen_aadbt.shape)\n",
    "print(bicizen_aadbt.columns)\n",
    "bicizen_aadbt.head(5)"
   ]
  },
  {
   "cell_type": "code",
   "execution_count": 616,
   "id": "66753e76",
   "metadata": {},
   "outputs": [
    {
     "name": "stdout",
     "output_type": "stream",
     "text": [
      "(55, 9)\n",
      "Index(['ROOT_ID', 'Street', 'Codigo Infraestructura', 'direction_counter',\n",
      "       'geometry', 'id', 'DaysWithData', 'HasWeekendData', 'Observations'],\n",
      "      dtype='object')\n"
     ]
    },
    {
     "data": {
      "text/html": [
       "<div>\n",
       "<style scoped>\n",
       "    .dataframe tbody tr th:only-of-type {\n",
       "        vertical-align: middle;\n",
       "    }\n",
       "\n",
       "    .dataframe tbody tr th {\n",
       "        vertical-align: top;\n",
       "    }\n",
       "\n",
       "    .dataframe thead th {\n",
       "        text-align: right;\n",
       "    }\n",
       "</style>\n",
       "<table border=\"1\" class=\"dataframe\">\n",
       "  <thead>\n",
       "    <tr style=\"text-align: right;\">\n",
       "      <th></th>\n",
       "      <th>ROOT_ID</th>\n",
       "      <th>Street</th>\n",
       "      <th>Codigo Infraestructura</th>\n",
       "      <th>direction_counter</th>\n",
       "      <th>geometry</th>\n",
       "      <th>id</th>\n",
       "      <th>DaysWithData</th>\n",
       "      <th>HasWeekendData</th>\n",
       "      <th>Observations</th>\n",
       "    </tr>\n",
       "  </thead>\n",
       "  <tbody>\n",
       "    <tr>\n",
       "      <th>0</th>\n",
       "      <td>1060335</td>\n",
       "      <td>C/ Bilbao</td>\n",
       "      <td>7</td>\n",
       "      <td>NW</td>\n",
       "      <td>POINT (433211.182 4583998.871)</td>\n",
       "      <td>NaN</td>\n",
       "      <td>1</td>\n",
       "      <td>False</td>\n",
       "      <td>2</td>\n",
       "    </tr>\n",
       "    <tr>\n",
       "      <th>1</th>\n",
       "      <td>1048229</td>\n",
       "      <td>C/ de Bilbao 117</td>\n",
       "      <td>7</td>\n",
       "      <td>SE</td>\n",
       "      <td>POINT (433211.182 4583998.871)</td>\n",
       "      <td>NaN</td>\n",
       "      <td>2</td>\n",
       "      <td>False</td>\n",
       "      <td>3</td>\n",
       "    </tr>\n",
       "    <tr>\n",
       "      <th>2</th>\n",
       "      <td>1048249</td>\n",
       "      <td>Rambla de l'Onze de Setembre 2</td>\n",
       "      <td>3</td>\n",
       "      <td>W</td>\n",
       "      <td>POINT (432725.306 4586854.582)</td>\n",
       "      <td>NaN</td>\n",
       "      <td>1</td>\n",
       "      <td>True</td>\n",
       "      <td>2</td>\n",
       "    </tr>\n",
       "    <tr>\n",
       "      <th>3</th>\n",
       "      <td>1048273</td>\n",
       "      <td>C/ de Pi i Margall 114</td>\n",
       "      <td>1</td>\n",
       "      <td>N</td>\n",
       "      <td>POINT (430189.262 4584777.934)</td>\n",
       "      <td>NaN</td>\n",
       "      <td>33</td>\n",
       "      <td>True</td>\n",
       "      <td>40</td>\n",
       "    </tr>\n",
       "    <tr>\n",
       "      <th>4</th>\n",
       "      <td>1048896</td>\n",
       "      <td>C/ Jocs Florals 175</td>\n",
       "      <td>1</td>\n",
       "      <td>SE</td>\n",
       "      <td>POINT (427815.131 4580216.804)</td>\n",
       "      <td>NaN</td>\n",
       "      <td>16</td>\n",
       "      <td>False</td>\n",
       "      <td>18</td>\n",
       "    </tr>\n",
       "  </tbody>\n",
       "</table>\n",
       "</div>"
      ],
      "text/plain": [
       "   ROOT_ID                          Street  Codigo Infraestructura  \\\n",
       "0  1060335                       C/ Bilbao                       7   \n",
       "1  1048229                C/ de Bilbao 117                       7   \n",
       "2  1048249  Rambla de l'Onze de Setembre 2                       3   \n",
       "3  1048273          C/ de Pi i Margall 114                       1   \n",
       "4  1048896             C/ Jocs Florals 175                       1   \n",
       "\n",
       "  direction_counter                        geometry  id  DaysWithData  \\\n",
       "0                NW  POINT (433211.182 4583998.871) NaN             1   \n",
       "1                SE  POINT (433211.182 4583998.871) NaN             2   \n",
       "2                 W  POINT (432725.306 4586854.582) NaN             1   \n",
       "3                 N  POINT (430189.262 4584777.934) NaN            33   \n",
       "4                SE  POINT (427815.131 4580216.804) NaN            16   \n",
       "\n",
       "   HasWeekendData  Observations  \n",
       "0           False             2  \n",
       "1           False             3  \n",
       "2            True             2  \n",
       "3            True            40  \n",
       "4           False            18  "
      ]
     },
     "execution_count": 616,
     "metadata": {},
     "output_type": "execute_result"
    }
   ],
   "source": [
    "# Read BiciZen station\n",
    "bicizen_sation = gpd.read_parquet(Path(INPUT_DATA_PATH) / f\"bicizen/bicizen_stations.parquet\")\n",
    "print(bicizen_sation.shape)\n",
    "print(bicizen_sation.columns)\n",
    "bicizen_sation.head(5)"
   ]
  },
  {
   "cell_type": "code",
   "execution_count": 617,
   "id": "43a63804",
   "metadata": {},
   "outputs": [
    {
     "name": "stdout",
     "output_type": "stream",
     "text": [
      "(867, 2)\n",
      "Index(['id', 'AADBT'], dtype='object')\n"
     ]
    },
    {
     "data": {
      "text/html": [
       "<div>\n",
       "<style scoped>\n",
       "    .dataframe tbody tr th:only-of-type {\n",
       "        vertical-align: middle;\n",
       "    }\n",
       "\n",
       "    .dataframe tbody tr th {\n",
       "        vertical-align: top;\n",
       "    }\n",
       "\n",
       "    .dataframe thead th {\n",
       "        text-align: right;\n",
       "    }\n",
       "</style>\n",
       "<table border=\"1\" class=\"dataframe\">\n",
       "  <thead>\n",
       "    <tr style=\"text-align: right;\">\n",
       "      <th></th>\n",
       "      <th>id</th>\n",
       "      <th>AADBT</th>\n",
       "    </tr>\n",
       "  </thead>\n",
       "  <tbody>\n",
       "    <tr>\n",
       "      <th>0</th>\n",
       "      <td>1001</td>\n",
       "      <td>112878.0</td>\n",
       "    </tr>\n",
       "    <tr>\n",
       "      <th>1</th>\n",
       "      <td>1002</td>\n",
       "      <td>26095.0</td>\n",
       "    </tr>\n",
       "    <tr>\n",
       "      <th>2</th>\n",
       "      <td>1003</td>\n",
       "      <td>35131.0</td>\n",
       "    </tr>\n",
       "    <tr>\n",
       "      <th>3</th>\n",
       "      <td>1004</td>\n",
       "      <td>837.0</td>\n",
       "    </tr>\n",
       "    <tr>\n",
       "      <th>4</th>\n",
       "      <td>1005</td>\n",
       "      <td>29314.0</td>\n",
       "    </tr>\n",
       "  </tbody>\n",
       "</table>\n",
       "</div>"
      ],
      "text/plain": [
       "     id     AADBT\n",
       "0  1001  112878.0\n",
       "1  1002   26095.0\n",
       "2  1003   35131.0\n",
       "3  1004     837.0\n",
       "4  1005   29314.0"
      ]
     },
     "execution_count": 617,
     "metadata": {},
     "output_type": "execute_result"
    }
   ],
   "source": [
    "# Read BiciZen prediction \n",
    "counters=pd.read_parquet(Path(INPUT_DATA_PATH) /\"AADBT2024.parquet\")\n",
    "# counters=gpd.read_parquet(Path(INPUT_PROCESSED_DATA_PATH) /\"013_oriented_stations2023.parquet\")\n",
    "print(counters.shape)\n",
    "print(counters.columns)\n",
    "\n",
    "counters.head(5)\n"
   ]
  },
  {
   "cell_type": "markdown",
   "id": "28e337ab",
   "metadata": {},
   "source": [
    "# Merge data"
   ]
  },
  {
   "cell_type": "code",
   "execution_count": 618,
   "id": "6f8d69dd",
   "metadata": {},
   "outputs": [],
   "source": [
    "#Manage BiciZen AADBT\n",
    "bicizen_aadbt.rename(columns={\"AADBT\":\"AADBT_BICIZEN\"}, inplace=True)\n",
    "bicizen_aadbt=bicizen_aadbt[['ROOT_ID', 'AADBT_BICIZEN']]\n",
    "\n",
    "#Manage biciZen Stations\n",
    "bicizen_sation[['ROOT_ID', 'id', 'Street', 'Codigo Infraestructura', 'direction_counter', 'geometry']]\n",
    "bicizen_sation[\"id\"] = bicizen_sation[\"id\"].fillna(-1).astype(int)\n",
    "\n",
    "#Manage counts\n",
    "counters.rename(columns={\"AADBT\":\"AADBT_COUNTER\"}, inplace=True)\n",
    "counters=counters[['id','AADBT_COUNTER']]"
   ]
  },
  {
   "cell_type": "code",
   "execution_count": 619,
   "id": "025f831d",
   "metadata": {},
   "outputs": [
    {
     "name": "stdout",
     "output_type": "stream",
     "text": [
      "(12, 12)\n",
      "Index(['ROOT_ID', 'id', 'AADBT_BICIZEN', 'AADBT_COUNTER', 'Street',\n",
      "       'direction_counter', 'Codigo Infraestructura', 'DaysWithData',\n",
      "       'HasWeekendData', 'Observations', 'geometry', 'AADBT_DIFF'],\n",
      "      dtype='object')\n"
     ]
    },
    {
     "data": {
      "text/html": [
       "<div>\n",
       "<style scoped>\n",
       "    .dataframe tbody tr th:only-of-type {\n",
       "        vertical-align: middle;\n",
       "    }\n",
       "\n",
       "    .dataframe tbody tr th {\n",
       "        vertical-align: top;\n",
       "    }\n",
       "\n",
       "    .dataframe thead th {\n",
       "        text-align: right;\n",
       "    }\n",
       "</style>\n",
       "<table border=\"1\" class=\"dataframe\">\n",
       "  <thead>\n",
       "    <tr style=\"text-align: right;\">\n",
       "      <th></th>\n",
       "      <th>ROOT_ID</th>\n",
       "      <th>id</th>\n",
       "      <th>AADBT_BICIZEN</th>\n",
       "      <th>AADBT_COUNTER</th>\n",
       "      <th>Street</th>\n",
       "      <th>direction_counter</th>\n",
       "      <th>Codigo Infraestructura</th>\n",
       "      <th>DaysWithData</th>\n",
       "      <th>HasWeekendData</th>\n",
       "      <th>Observations</th>\n",
       "      <th>geometry</th>\n",
       "      <th>AADBT_DIFF</th>\n",
       "    </tr>\n",
       "  </thead>\n",
       "  <tbody>\n",
       "    <tr>\n",
       "      <th>0</th>\n",
       "      <td>1029389</td>\n",
       "      <td>20326</td>\n",
       "      <td>2475.002465</td>\n",
       "      <td>0.0</td>\n",
       "      <td>C/ Calabria 166</td>\n",
       "      <td>NW</td>\n",
       "      <td>7</td>\n",
       "      <td>17</td>\n",
       "      <td>False</td>\n",
       "      <td>31</td>\n",
       "      <td>POINT (429028.861 4581597.123)</td>\n",
       "      <td>2475.002465</td>\n",
       "    </tr>\n",
       "    <tr>\n",
       "      <th>1</th>\n",
       "      <td>1046328</td>\n",
       "      <td>20404</td>\n",
       "      <td>644.619908</td>\n",
       "      <td>1094.0</td>\n",
       "      <td>Via Augusta 360</td>\n",
       "      <td>NW</td>\n",
       "      <td>7</td>\n",
       "      <td>10</td>\n",
       "      <td>False</td>\n",
       "      <td>13</td>\n",
       "      <td>POINT (426616.254 4583734.058)</td>\n",
       "      <td>-449.380092</td>\n",
       "    </tr>\n",
       "    <tr>\n",
       "      <th>2</th>\n",
       "      <td>1047953</td>\n",
       "      <td>20112</td>\n",
       "      <td>2371.968273</td>\n",
       "      <td>6925.0</td>\n",
       "      <td>Pg. Pujades 3</td>\n",
       "      <td>SW</td>\n",
       "      <td>5</td>\n",
       "      <td>10</td>\n",
       "      <td>False</td>\n",
       "      <td>12</td>\n",
       "      <td>POINT (431650.609 4582239.199)</td>\n",
       "      <td>-4553.031727</td>\n",
       "    </tr>\n",
       "    <tr>\n",
       "      <th>3</th>\n",
       "      <td>1048223</td>\n",
       "      <td>20248</td>\n",
       "      <td>1521.260065</td>\n",
       "      <td>4898.0</td>\n",
       "      <td>Av. Meridiana 82</td>\n",
       "      <td>N</td>\n",
       "      <td>7</td>\n",
       "      <td>11</td>\n",
       "      <td>False</td>\n",
       "      <td>13</td>\n",
       "      <td>POINT (432061.273 4584212.752)</td>\n",
       "      <td>-3376.739935</td>\n",
       "    </tr>\n",
       "    <tr>\n",
       "      <th>4</th>\n",
       "      <td>1048268</td>\n",
       "      <td>20347</td>\n",
       "      <td>385.748172</td>\n",
       "      <td>1135.0</td>\n",
       "      <td>Ronda Guinardó 111</td>\n",
       "      <td>SW</td>\n",
       "      <td>7</td>\n",
       "      <td>33</td>\n",
       "      <td>True</td>\n",
       "      <td>42</td>\n",
       "      <td>POINT (430852.232 4585230.121)</td>\n",
       "      <td>-749.251828</td>\n",
       "    </tr>\n",
       "  </tbody>\n",
       "</table>\n",
       "</div>"
      ],
      "text/plain": [
       "   ROOT_ID     id  AADBT_BICIZEN  AADBT_COUNTER              Street  \\\n",
       "0  1029389  20326    2475.002465            0.0     C/ Calabria 166   \n",
       "1  1046328  20404     644.619908         1094.0     Via Augusta 360   \n",
       "2  1047953  20112    2371.968273         6925.0       Pg. Pujades 3   \n",
       "3  1048223  20248    1521.260065         4898.0    Av. Meridiana 82   \n",
       "4  1048268  20347     385.748172         1135.0  Ronda Guinardó 111   \n",
       "\n",
       "  direction_counter  Codigo Infraestructura  DaysWithData  HasWeekendData  \\\n",
       "0                NW                       7            17           False   \n",
       "1                NW                       7            10           False   \n",
       "2                SW                       5            10           False   \n",
       "3                 N                       7            11           False   \n",
       "4                SW                       7            33            True   \n",
       "\n",
       "   Observations                        geometry   AADBT_DIFF  \n",
       "0            31  POINT (429028.861 4581597.123)  2475.002465  \n",
       "1            13  POINT (426616.254 4583734.058)  -449.380092  \n",
       "2            12  POINT (431650.609 4582239.199) -4553.031727  \n",
       "3            13  POINT (432061.273 4584212.752) -3376.739935  \n",
       "4            42  POINT (430852.232 4585230.121)  -749.251828  "
      ]
     },
     "execution_count": 619,
     "metadata": {},
     "output_type": "execute_result"
    }
   ],
   "source": [
    "# Merge bicizen_aadbt and bicizen_sation on 'ROOT_ID'\n",
    "merged_df = pd.merge(bicizen_aadbt, bicizen_sation, on='ROOT_ID')\n",
    "\n",
    "# Merge the result with counters on 'id'\n",
    "final_df = pd.merge(merged_df, counters, on='id')\n",
    "final_df=final_df[['ROOT_ID','id',  'AADBT_BICIZEN','AADBT_COUNTER', \n",
    "                   'Street','direction_counter','Codigo Infraestructura','DaysWithData', 'HasWeekendData', 'Observations',\n",
    "                   'geometry']]\n",
    "\n",
    "# Calculate the difference\n",
    "final_df['AADBT_DIFF'] = final_df['AADBT_BICIZEN'] - final_df['AADBT_COUNTER']\n",
    "\n",
    "# Display the merged dataframe\n",
    "print(final_df.shape)\n",
    "print(final_df.columns)\n",
    "\n",
    "final_df.head(5)\n"
   ]
  },
  {
   "cell_type": "code",
   "execution_count": 620,
   "id": "a69d7ad8",
   "metadata": {},
   "outputs": [
    {
     "data": {
      "text/html": [
       "<div>\n",
       "<style scoped>\n",
       "    .dataframe tbody tr th:only-of-type {\n",
       "        vertical-align: middle;\n",
       "    }\n",
       "\n",
       "    .dataframe tbody tr th {\n",
       "        vertical-align: top;\n",
       "    }\n",
       "\n",
       "    .dataframe thead th {\n",
       "        text-align: right;\n",
       "    }\n",
       "</style>\n",
       "<table border=\"1\" class=\"dataframe\">\n",
       "  <thead>\n",
       "    <tr style=\"text-align: right;\">\n",
       "      <th></th>\n",
       "      <th>ROOT_ID</th>\n",
       "      <th>id</th>\n",
       "      <th>AADBT_BICIZEN</th>\n",
       "      <th>AADBT_COUNTER</th>\n",
       "      <th>Codigo Infraestructura</th>\n",
       "      <th>DaysWithData</th>\n",
       "      <th>Observations</th>\n",
       "      <th>AADBT_DIFF</th>\n",
       "    </tr>\n",
       "  </thead>\n",
       "  <tbody>\n",
       "    <tr>\n",
       "      <th>count</th>\n",
       "      <td>1.200000e+01</td>\n",
       "      <td>12.000000</td>\n",
       "      <td>12.000000</td>\n",
       "      <td>12.000000</td>\n",
       "      <td>12.000000</td>\n",
       "      <td>12.000000</td>\n",
       "      <td>12.000000</td>\n",
       "      <td>12.000000</td>\n",
       "    </tr>\n",
       "    <tr>\n",
       "      <th>mean</th>\n",
       "      <td>1.048228e+06</td>\n",
       "      <td>20246.583333</td>\n",
       "      <td>1250.646369</td>\n",
       "      <td>2553.000000</td>\n",
       "      <td>6.666667</td>\n",
       "      <td>18.250000</td>\n",
       "      <td>23.916667</td>\n",
       "      <td>-1302.353631</td>\n",
       "    </tr>\n",
       "    <tr>\n",
       "      <th>std</th>\n",
       "      <td>6.794718e+03</td>\n",
       "      <td>106.876699</td>\n",
       "      <td>713.670670</td>\n",
       "      <td>2321.815904</td>\n",
       "      <td>0.778499</td>\n",
       "      <td>9.611783</td>\n",
       "      <td>13.194064</td>\n",
       "      <td>2161.241526</td>\n",
       "    </tr>\n",
       "    <tr>\n",
       "      <th>min</th>\n",
       "      <td>1.029389e+06</td>\n",
       "      <td>20098.000000</td>\n",
       "      <td>385.748172</td>\n",
       "      <td>0.000000</td>\n",
       "      <td>5.000000</td>\n",
       "      <td>6.000000</td>\n",
       "      <td>10.000000</td>\n",
       "      <td>-4553.031727</td>\n",
       "    </tr>\n",
       "    <tr>\n",
       "      <th>25%</th>\n",
       "      <td>1.048156e+06</td>\n",
       "      <td>20154.750000</td>\n",
       "      <td>622.484895</td>\n",
       "      <td>1124.750000</td>\n",
       "      <td>7.000000</td>\n",
       "      <td>10.750000</td>\n",
       "      <td>13.000000</td>\n",
       "      <td>-3389.418155</td>\n",
       "    </tr>\n",
       "    <tr>\n",
       "      <th>50%</th>\n",
       "      <td>1.048273e+06</td>\n",
       "      <td>20245.000000</td>\n",
       "      <td>1178.337309</td>\n",
       "      <td>1488.500000</td>\n",
       "      <td>7.000000</td>\n",
       "      <td>15.000000</td>\n",
       "      <td>18.000000</td>\n",
       "      <td>-864.085985</td>\n",
       "    </tr>\n",
       "    <tr>\n",
       "      <th>75%</th>\n",
       "      <td>1.050001e+06</td>\n",
       "      <td>20331.250000</td>\n",
       "      <td>1678.574593</td>\n",
       "      <td>4802.000000</td>\n",
       "      <td>7.000000</td>\n",
       "      <td>28.000000</td>\n",
       "      <td>35.500000</td>\n",
       "      <td>-438.003211</td>\n",
       "    </tr>\n",
       "    <tr>\n",
       "      <th>max</th>\n",
       "      <td>1.057984e+06</td>\n",
       "      <td>20404.000000</td>\n",
       "      <td>2475.002465</td>\n",
       "      <td>6925.000000</td>\n",
       "      <td>7.000000</td>\n",
       "      <td>33.000000</td>\n",
       "      <td>43.000000</td>\n",
       "      <td>2475.002465</td>\n",
       "    </tr>\n",
       "  </tbody>\n",
       "</table>\n",
       "</div>"
      ],
      "text/plain": [
       "            ROOT_ID            id  AADBT_BICIZEN  AADBT_COUNTER  \\\n",
       "count  1.200000e+01     12.000000      12.000000      12.000000   \n",
       "mean   1.048228e+06  20246.583333    1250.646369    2553.000000   \n",
       "std    6.794718e+03    106.876699     713.670670    2321.815904   \n",
       "min    1.029389e+06  20098.000000     385.748172       0.000000   \n",
       "25%    1.048156e+06  20154.750000     622.484895    1124.750000   \n",
       "50%    1.048273e+06  20245.000000    1178.337309    1488.500000   \n",
       "75%    1.050001e+06  20331.250000    1678.574593    4802.000000   \n",
       "max    1.057984e+06  20404.000000    2475.002465    6925.000000   \n",
       "\n",
       "       Codigo Infraestructura  DaysWithData  Observations   AADBT_DIFF  \n",
       "count               12.000000     12.000000     12.000000    12.000000  \n",
       "mean                 6.666667     18.250000     23.916667 -1302.353631  \n",
       "std                  0.778499      9.611783     13.194064  2161.241526  \n",
       "min                  5.000000      6.000000     10.000000 -4553.031727  \n",
       "25%                  7.000000     10.750000     13.000000 -3389.418155  \n",
       "50%                  7.000000     15.000000     18.000000  -864.085985  \n",
       "75%                  7.000000     28.000000     35.500000  -438.003211  \n",
       "max                  7.000000     33.000000     43.000000  2475.002465  "
      ]
     },
     "execution_count": 620,
     "metadata": {},
     "output_type": "execute_result"
    }
   ],
   "source": [
    "final_df.describe()"
   ]
  },
  {
   "cell_type": "markdown",
   "id": "717b6bba",
   "metadata": {},
   "source": [
    "# Compare AADBT"
   ]
  },
  {
   "cell_type": "markdown",
   "id": "b297b095",
   "metadata": {},
   "source": [
    "### Explore value"
   ]
  },
  {
   "cell_type": "code",
   "execution_count": 621,
   "id": "a8b94a96",
   "metadata": {},
   "outputs": [
    {
     "data": {
      "application/vnd.plotly.v1+json": {
       "config": {
        "plotlyServerURL": "https://plot.ly"
       },
       "data": [
        {
         "alignmentgroup": "True",
         "hovertemplate": "variable=%{x}<br>value=%{y}<extra></extra>",
         "legendgroup": "",
         "marker": {
          "color": "#636efa"
         },
         "name": "",
         "notched": false,
         "offsetgroup": "",
         "orientation": "v",
         "showlegend": false,
         "type": "box",
         "x": [
          "AADBT_BICIZEN",
          "AADBT_BICIZEN",
          "AADBT_BICIZEN",
          "AADBT_BICIZEN",
          "AADBT_BICIZEN",
          "AADBT_BICIZEN",
          "AADBT_BICIZEN",
          "AADBT_BICIZEN",
          "AADBT_BICIZEN",
          "AADBT_BICIZEN",
          "AADBT_BICIZEN",
          "AADBT_BICIZEN",
          "AADBT_COUNTER",
          "AADBT_COUNTER",
          "AADBT_COUNTER",
          "AADBT_COUNTER",
          "AADBT_COUNTER",
          "AADBT_COUNTER",
          "AADBT_COUNTER",
          "AADBT_COUNTER",
          "AADBT_COUNTER",
          "AADBT_COUNTER",
          "AADBT_COUNTER",
          "AADBT_COUNTER",
          "AADBT_DIFF",
          "AADBT_DIFF",
          "AADBT_DIFF",
          "AADBT_DIFF",
          "AADBT_DIFF",
          "AADBT_DIFF",
          "AADBT_DIFF",
          "AADBT_DIFF",
          "AADBT_DIFF",
          "AADBT_DIFF",
          "AADBT_DIFF",
          "AADBT_DIFF"
         ],
         "x0": " ",
         "xaxis": "x",
         "y": [
          2475.002464895604,
          644.6199078775657,
          2371.9682726671595,
          1521.2600650660888,
          385.74817181332594,
          504.3194927540945,
          1342.5471859976346,
          826.3457085615964,
          1674.2802505589023,
          556.079857718409,
          1014.1274318078534,
          1691.4576207685527,
          0,
          1094,
          6925,
          4898,
          1135,
          1926,
          4770,
          1442,
          5493,
          1535,
          1418,
          0,
          -2475.002464895604,
          449.38009212243435,
          4553.03172733284,
          3376.739934933911,
          749.2518281866741,
          1421.6805072459056,
          3427.4528140023654,
          615.6542914384036,
          3818.7197494410975,
          978.920142281591,
          403.87256819214656,
          -1691.4576207685527
         ],
         "y0": " ",
         "yaxis": "y"
        }
       ],
       "layout": {
        "boxmode": "group",
        "legend": {
         "tracegroupgap": 0
        },
        "template": {
         "data": {
          "bar": [
           {
            "error_x": {
             "color": "#2a3f5f"
            },
            "error_y": {
             "color": "#2a3f5f"
            },
            "marker": {
             "line": {
              "color": "#E5ECF6",
              "width": 0.5
             },
             "pattern": {
              "fillmode": "overlay",
              "size": 10,
              "solidity": 0.2
             }
            },
            "type": "bar"
           }
          ],
          "barpolar": [
           {
            "marker": {
             "line": {
              "color": "#E5ECF6",
              "width": 0.5
             },
             "pattern": {
              "fillmode": "overlay",
              "size": 10,
              "solidity": 0.2
             }
            },
            "type": "barpolar"
           }
          ],
          "carpet": [
           {
            "aaxis": {
             "endlinecolor": "#2a3f5f",
             "gridcolor": "white",
             "linecolor": "white",
             "minorgridcolor": "white",
             "startlinecolor": "#2a3f5f"
            },
            "baxis": {
             "endlinecolor": "#2a3f5f",
             "gridcolor": "white",
             "linecolor": "white",
             "minorgridcolor": "white",
             "startlinecolor": "#2a3f5f"
            },
            "type": "carpet"
           }
          ],
          "choropleth": [
           {
            "colorbar": {
             "outlinewidth": 0,
             "ticks": ""
            },
            "type": "choropleth"
           }
          ],
          "contour": [
           {
            "colorbar": {
             "outlinewidth": 0,
             "ticks": ""
            },
            "colorscale": [
             [
              0,
              "#0d0887"
             ],
             [
              0.1111111111111111,
              "#46039f"
             ],
             [
              0.2222222222222222,
              "#7201a8"
             ],
             [
              0.3333333333333333,
              "#9c179e"
             ],
             [
              0.4444444444444444,
              "#bd3786"
             ],
             [
              0.5555555555555556,
              "#d8576b"
             ],
             [
              0.6666666666666666,
              "#ed7953"
             ],
             [
              0.7777777777777778,
              "#fb9f3a"
             ],
             [
              0.8888888888888888,
              "#fdca26"
             ],
             [
              1,
              "#f0f921"
             ]
            ],
            "type": "contour"
           }
          ],
          "contourcarpet": [
           {
            "colorbar": {
             "outlinewidth": 0,
             "ticks": ""
            },
            "type": "contourcarpet"
           }
          ],
          "heatmap": [
           {
            "colorbar": {
             "outlinewidth": 0,
             "ticks": ""
            },
            "colorscale": [
             [
              0,
              "#0d0887"
             ],
             [
              0.1111111111111111,
              "#46039f"
             ],
             [
              0.2222222222222222,
              "#7201a8"
             ],
             [
              0.3333333333333333,
              "#9c179e"
             ],
             [
              0.4444444444444444,
              "#bd3786"
             ],
             [
              0.5555555555555556,
              "#d8576b"
             ],
             [
              0.6666666666666666,
              "#ed7953"
             ],
             [
              0.7777777777777778,
              "#fb9f3a"
             ],
             [
              0.8888888888888888,
              "#fdca26"
             ],
             [
              1,
              "#f0f921"
             ]
            ],
            "type": "heatmap"
           }
          ],
          "heatmapgl": [
           {
            "colorbar": {
             "outlinewidth": 0,
             "ticks": ""
            },
            "colorscale": [
             [
              0,
              "#0d0887"
             ],
             [
              0.1111111111111111,
              "#46039f"
             ],
             [
              0.2222222222222222,
              "#7201a8"
             ],
             [
              0.3333333333333333,
              "#9c179e"
             ],
             [
              0.4444444444444444,
              "#bd3786"
             ],
             [
              0.5555555555555556,
              "#d8576b"
             ],
             [
              0.6666666666666666,
              "#ed7953"
             ],
             [
              0.7777777777777778,
              "#fb9f3a"
             ],
             [
              0.8888888888888888,
              "#fdca26"
             ],
             [
              1,
              "#f0f921"
             ]
            ],
            "type": "heatmapgl"
           }
          ],
          "histogram": [
           {
            "marker": {
             "pattern": {
              "fillmode": "overlay",
              "size": 10,
              "solidity": 0.2
             }
            },
            "type": "histogram"
           }
          ],
          "histogram2d": [
           {
            "colorbar": {
             "outlinewidth": 0,
             "ticks": ""
            },
            "colorscale": [
             [
              0,
              "#0d0887"
             ],
             [
              0.1111111111111111,
              "#46039f"
             ],
             [
              0.2222222222222222,
              "#7201a8"
             ],
             [
              0.3333333333333333,
              "#9c179e"
             ],
             [
              0.4444444444444444,
              "#bd3786"
             ],
             [
              0.5555555555555556,
              "#d8576b"
             ],
             [
              0.6666666666666666,
              "#ed7953"
             ],
             [
              0.7777777777777778,
              "#fb9f3a"
             ],
             [
              0.8888888888888888,
              "#fdca26"
             ],
             [
              1,
              "#f0f921"
             ]
            ],
            "type": "histogram2d"
           }
          ],
          "histogram2dcontour": [
           {
            "colorbar": {
             "outlinewidth": 0,
             "ticks": ""
            },
            "colorscale": [
             [
              0,
              "#0d0887"
             ],
             [
              0.1111111111111111,
              "#46039f"
             ],
             [
              0.2222222222222222,
              "#7201a8"
             ],
             [
              0.3333333333333333,
              "#9c179e"
             ],
             [
              0.4444444444444444,
              "#bd3786"
             ],
             [
              0.5555555555555556,
              "#d8576b"
             ],
             [
              0.6666666666666666,
              "#ed7953"
             ],
             [
              0.7777777777777778,
              "#fb9f3a"
             ],
             [
              0.8888888888888888,
              "#fdca26"
             ],
             [
              1,
              "#f0f921"
             ]
            ],
            "type": "histogram2dcontour"
           }
          ],
          "mesh3d": [
           {
            "colorbar": {
             "outlinewidth": 0,
             "ticks": ""
            },
            "type": "mesh3d"
           }
          ],
          "parcoords": [
           {
            "line": {
             "colorbar": {
              "outlinewidth": 0,
              "ticks": ""
             }
            },
            "type": "parcoords"
           }
          ],
          "pie": [
           {
            "automargin": true,
            "type": "pie"
           }
          ],
          "scatter": [
           {
            "fillpattern": {
             "fillmode": "overlay",
             "size": 10,
             "solidity": 0.2
            },
            "type": "scatter"
           }
          ],
          "scatter3d": [
           {
            "line": {
             "colorbar": {
              "outlinewidth": 0,
              "ticks": ""
             }
            },
            "marker": {
             "colorbar": {
              "outlinewidth": 0,
              "ticks": ""
             }
            },
            "type": "scatter3d"
           }
          ],
          "scattercarpet": [
           {
            "marker": {
             "colorbar": {
              "outlinewidth": 0,
              "ticks": ""
             }
            },
            "type": "scattercarpet"
           }
          ],
          "scattergeo": [
           {
            "marker": {
             "colorbar": {
              "outlinewidth": 0,
              "ticks": ""
             }
            },
            "type": "scattergeo"
           }
          ],
          "scattergl": [
           {
            "marker": {
             "colorbar": {
              "outlinewidth": 0,
              "ticks": ""
             }
            },
            "type": "scattergl"
           }
          ],
          "scattermapbox": [
           {
            "marker": {
             "colorbar": {
              "outlinewidth": 0,
              "ticks": ""
             }
            },
            "type": "scattermapbox"
           }
          ],
          "scatterpolar": [
           {
            "marker": {
             "colorbar": {
              "outlinewidth": 0,
              "ticks": ""
             }
            },
            "type": "scatterpolar"
           }
          ],
          "scatterpolargl": [
           {
            "marker": {
             "colorbar": {
              "outlinewidth": 0,
              "ticks": ""
             }
            },
            "type": "scatterpolargl"
           }
          ],
          "scatterternary": [
           {
            "marker": {
             "colorbar": {
              "outlinewidth": 0,
              "ticks": ""
             }
            },
            "type": "scatterternary"
           }
          ],
          "surface": [
           {
            "colorbar": {
             "outlinewidth": 0,
             "ticks": ""
            },
            "colorscale": [
             [
              0,
              "#0d0887"
             ],
             [
              0.1111111111111111,
              "#46039f"
             ],
             [
              0.2222222222222222,
              "#7201a8"
             ],
             [
              0.3333333333333333,
              "#9c179e"
             ],
             [
              0.4444444444444444,
              "#bd3786"
             ],
             [
              0.5555555555555556,
              "#d8576b"
             ],
             [
              0.6666666666666666,
              "#ed7953"
             ],
             [
              0.7777777777777778,
              "#fb9f3a"
             ],
             [
              0.8888888888888888,
              "#fdca26"
             ],
             [
              1,
              "#f0f921"
             ]
            ],
            "type": "surface"
           }
          ],
          "table": [
           {
            "cells": {
             "fill": {
              "color": "#EBF0F8"
             },
             "line": {
              "color": "white"
             }
            },
            "header": {
             "fill": {
              "color": "#C8D4E3"
             },
             "line": {
              "color": "white"
             }
            },
            "type": "table"
           }
          ]
         },
         "layout": {
          "annotationdefaults": {
           "arrowcolor": "#2a3f5f",
           "arrowhead": 0,
           "arrowwidth": 1
          },
          "autotypenumbers": "strict",
          "coloraxis": {
           "colorbar": {
            "outlinewidth": 0,
            "ticks": ""
           }
          },
          "colorscale": {
           "diverging": [
            [
             0,
             "#8e0152"
            ],
            [
             0.1,
             "#c51b7d"
            ],
            [
             0.2,
             "#de77ae"
            ],
            [
             0.3,
             "#f1b6da"
            ],
            [
             0.4,
             "#fde0ef"
            ],
            [
             0.5,
             "#f7f7f7"
            ],
            [
             0.6,
             "#e6f5d0"
            ],
            [
             0.7,
             "#b8e186"
            ],
            [
             0.8,
             "#7fbc41"
            ],
            [
             0.9,
             "#4d9221"
            ],
            [
             1,
             "#276419"
            ]
           ],
           "sequential": [
            [
             0,
             "#0d0887"
            ],
            [
             0.1111111111111111,
             "#46039f"
            ],
            [
             0.2222222222222222,
             "#7201a8"
            ],
            [
             0.3333333333333333,
             "#9c179e"
            ],
            [
             0.4444444444444444,
             "#bd3786"
            ],
            [
             0.5555555555555556,
             "#d8576b"
            ],
            [
             0.6666666666666666,
             "#ed7953"
            ],
            [
             0.7777777777777778,
             "#fb9f3a"
            ],
            [
             0.8888888888888888,
             "#fdca26"
            ],
            [
             1,
             "#f0f921"
            ]
           ],
           "sequentialminus": [
            [
             0,
             "#0d0887"
            ],
            [
             0.1111111111111111,
             "#46039f"
            ],
            [
             0.2222222222222222,
             "#7201a8"
            ],
            [
             0.3333333333333333,
             "#9c179e"
            ],
            [
             0.4444444444444444,
             "#bd3786"
            ],
            [
             0.5555555555555556,
             "#d8576b"
            ],
            [
             0.6666666666666666,
             "#ed7953"
            ],
            [
             0.7777777777777778,
             "#fb9f3a"
            ],
            [
             0.8888888888888888,
             "#fdca26"
            ],
            [
             1,
             "#f0f921"
            ]
           ]
          },
          "colorway": [
           "#636efa",
           "#EF553B",
           "#00cc96",
           "#ab63fa",
           "#FFA15A",
           "#19d3f3",
           "#FF6692",
           "#B6E880",
           "#FF97FF",
           "#FECB52"
          ],
          "font": {
           "color": "#2a3f5f"
          },
          "geo": {
           "bgcolor": "white",
           "lakecolor": "white",
           "landcolor": "#E5ECF6",
           "showlakes": true,
           "showland": true,
           "subunitcolor": "white"
          },
          "hoverlabel": {
           "align": "left"
          },
          "hovermode": "closest",
          "mapbox": {
           "style": "light"
          },
          "paper_bgcolor": "white",
          "plot_bgcolor": "#E5ECF6",
          "polar": {
           "angularaxis": {
            "gridcolor": "white",
            "linecolor": "white",
            "ticks": ""
           },
           "bgcolor": "#E5ECF6",
           "radialaxis": {
            "gridcolor": "white",
            "linecolor": "white",
            "ticks": ""
           }
          },
          "scene": {
           "xaxis": {
            "backgroundcolor": "#E5ECF6",
            "gridcolor": "white",
            "gridwidth": 2,
            "linecolor": "white",
            "showbackground": true,
            "ticks": "",
            "zerolinecolor": "white"
           },
           "yaxis": {
            "backgroundcolor": "#E5ECF6",
            "gridcolor": "white",
            "gridwidth": 2,
            "linecolor": "white",
            "showbackground": true,
            "ticks": "",
            "zerolinecolor": "white"
           },
           "zaxis": {
            "backgroundcolor": "#E5ECF6",
            "gridcolor": "white",
            "gridwidth": 2,
            "linecolor": "white",
            "showbackground": true,
            "ticks": "",
            "zerolinecolor": "white"
           }
          },
          "shapedefaults": {
           "line": {
            "color": "#2a3f5f"
           }
          },
          "ternary": {
           "aaxis": {
            "gridcolor": "white",
            "linecolor": "white",
            "ticks": ""
           },
           "baxis": {
            "gridcolor": "white",
            "linecolor": "white",
            "ticks": ""
           },
           "bgcolor": "#E5ECF6",
           "caxis": {
            "gridcolor": "white",
            "linecolor": "white",
            "ticks": ""
           }
          },
          "title": {
           "x": 0.05
          },
          "xaxis": {
           "automargin": true,
           "gridcolor": "white",
           "linecolor": "white",
           "ticks": "",
           "title": {
            "standoff": 15
           },
           "zerolinecolor": "white",
           "zerolinewidth": 2
          },
          "yaxis": {
           "automargin": true,
           "gridcolor": "white",
           "linecolor": "white",
           "ticks": "",
           "title": {
            "standoff": 15
           },
           "zerolinecolor": "white",
           "zerolinewidth": 2
          }
         }
        },
        "title": {
         "text": "Boxplot of control locations difference in AADBT Values"
        },
        "xaxis": {
         "anchor": "y",
         "domain": [
          0,
          1
         ],
         "title": {
          "text": "variable"
         }
        },
        "yaxis": {
         "anchor": "x",
         "domain": [
          0,
          1
         ],
         "title": {
          "text": "value"
         }
        }
       }
      }
     },
     "metadata": {},
     "output_type": "display_data"
    }
   ],
   "source": [
    "# Describe the columns\n",
    "\n",
    "# Create a boxplot for each column\n",
    "# Multiply the difference by -1\n",
    "final_df['AADBT_DIFF'] = final_df['AADBT_DIFF'] * -1\n",
    "\n",
    "# Create a boxplot for each column\n",
    "fig = px.box(final_df, y=['AADBT_BICIZEN', 'AADBT_COUNTER', 'AADBT_DIFF'], title='Boxplot of control locations difference in AADBT Values')\n",
    "fig.show()\n",
    "\n",
    "final_df['AADBT_DIFF'] = final_df['AADBT_DIFF'] * -1\n"
   ]
  },
  {
   "cell_type": "markdown",
   "id": "28360faa",
   "metadata": {},
   "source": [
    "### Detect zeros"
   ]
  },
  {
   "cell_type": "code",
   "execution_count": 622,
   "id": "4590213c",
   "metadata": {},
   "outputs": [
    {
     "name": "stdout",
     "output_type": "stream",
     "text": [
      "(12, 12)\n"
     ]
    },
    {
     "data": {
      "text/plain": [
       "(12, 12)"
      ]
     },
     "execution_count": 622,
     "metadata": {},
     "output_type": "execute_result"
    }
   ],
   "source": [
    "print(final_df.shape)\n",
    "problem=final_df[final_df['AADBT_BICIZEN']==0][\"ROOT_ID\"]\n",
    "final_df=final_df[~final_df[\"ROOT_ID\"].isin(problem)]\n",
    "final_df.shape\n"
   ]
  },
  {
   "cell_type": "code",
   "execution_count": 623,
   "id": "ec7b7e63",
   "metadata": {},
   "outputs": [
    {
     "data": {
      "text/plain": [
       "(10, 12)"
      ]
     },
     "execution_count": 623,
     "metadata": {},
     "output_type": "execute_result"
    }
   ],
   "source": [
    "problem=final_df[final_df['AADBT_COUNTER']==0][\"id\"]\n",
    "final_df=final_df[~final_df[\"id\"].isin(problem)]\n",
    "final_df.shape"
   ]
  },
  {
   "cell_type": "markdown",
   "id": "46bf8edb",
   "metadata": {},
   "source": [
    "## Plots"
   ]
  },
  {
   "cell_type": "code",
   "execution_count": 624,
   "id": "3328e52a",
   "metadata": {},
   "outputs": [
    {
     "data": {
      "application/vnd.plotly.v1+json": {
       "config": {
        "plotlyServerURL": "https://plot.ly"
       },
       "data": [
        {
         "alignmentgroup": "True",
         "hovertemplate": "AADBT_DIFF=%{x}<br>Locations=%{y}<extra></extra>",
         "legendgroup": "",
         "marker": {
          "color": "#636efa",
          "pattern": {
           "shape": ""
          }
         },
         "name": "",
         "offsetgroup": "",
         "orientation": "h",
         "showlegend": false,
         "textposition": "auto",
         "type": "bar",
         "x": [
          -403.87256819214656,
          -449.38009212243435,
          -615.6542914384036,
          -749.2518281866741,
          -978.920142281591,
          -1421.6805072459056,
          -3376.739934933911,
          -3427.4528140023654,
          -3818.7197494410975,
          -4553.03172733284
         ],
         "xaxis": "x",
         "y": [
          "Aristides Maillol 3106 S",
          "Via Augusta 360 NW",
          "Av. Maria Cristina - Palau de Congressos SE",
          "Ronda Guinardó 111 SW",
          "Ronda Guinardó 111 NE",
          "Aristides Maillol 3106 N",
          "Av. Meridiana 82 N",
          "Travessera de gràcia 260 NE",
          "Travessera de gràcia 260 SW",
          "Pg. Pujades 3 SW"
         ],
         "yaxis": "y"
        }
       ],
       "layout": {
        "barmode": "relative",
        "legend": {
         "tracegroupgap": 0
        },
        "template": {
         "data": {
          "bar": [
           {
            "error_x": {
             "color": "#2a3f5f"
            },
            "error_y": {
             "color": "#2a3f5f"
            },
            "marker": {
             "line": {
              "color": "#E5ECF6",
              "width": 0.5
             },
             "pattern": {
              "fillmode": "overlay",
              "size": 10,
              "solidity": 0.2
             }
            },
            "type": "bar"
           }
          ],
          "barpolar": [
           {
            "marker": {
             "line": {
              "color": "#E5ECF6",
              "width": 0.5
             },
             "pattern": {
              "fillmode": "overlay",
              "size": 10,
              "solidity": 0.2
             }
            },
            "type": "barpolar"
           }
          ],
          "carpet": [
           {
            "aaxis": {
             "endlinecolor": "#2a3f5f",
             "gridcolor": "white",
             "linecolor": "white",
             "minorgridcolor": "white",
             "startlinecolor": "#2a3f5f"
            },
            "baxis": {
             "endlinecolor": "#2a3f5f",
             "gridcolor": "white",
             "linecolor": "white",
             "minorgridcolor": "white",
             "startlinecolor": "#2a3f5f"
            },
            "type": "carpet"
           }
          ],
          "choropleth": [
           {
            "colorbar": {
             "outlinewidth": 0,
             "ticks": ""
            },
            "type": "choropleth"
           }
          ],
          "contour": [
           {
            "colorbar": {
             "outlinewidth": 0,
             "ticks": ""
            },
            "colorscale": [
             [
              0,
              "#0d0887"
             ],
             [
              0.1111111111111111,
              "#46039f"
             ],
             [
              0.2222222222222222,
              "#7201a8"
             ],
             [
              0.3333333333333333,
              "#9c179e"
             ],
             [
              0.4444444444444444,
              "#bd3786"
             ],
             [
              0.5555555555555556,
              "#d8576b"
             ],
             [
              0.6666666666666666,
              "#ed7953"
             ],
             [
              0.7777777777777778,
              "#fb9f3a"
             ],
             [
              0.8888888888888888,
              "#fdca26"
             ],
             [
              1,
              "#f0f921"
             ]
            ],
            "type": "contour"
           }
          ],
          "contourcarpet": [
           {
            "colorbar": {
             "outlinewidth": 0,
             "ticks": ""
            },
            "type": "contourcarpet"
           }
          ],
          "heatmap": [
           {
            "colorbar": {
             "outlinewidth": 0,
             "ticks": ""
            },
            "colorscale": [
             [
              0,
              "#0d0887"
             ],
             [
              0.1111111111111111,
              "#46039f"
             ],
             [
              0.2222222222222222,
              "#7201a8"
             ],
             [
              0.3333333333333333,
              "#9c179e"
             ],
             [
              0.4444444444444444,
              "#bd3786"
             ],
             [
              0.5555555555555556,
              "#d8576b"
             ],
             [
              0.6666666666666666,
              "#ed7953"
             ],
             [
              0.7777777777777778,
              "#fb9f3a"
             ],
             [
              0.8888888888888888,
              "#fdca26"
             ],
             [
              1,
              "#f0f921"
             ]
            ],
            "type": "heatmap"
           }
          ],
          "heatmapgl": [
           {
            "colorbar": {
             "outlinewidth": 0,
             "ticks": ""
            },
            "colorscale": [
             [
              0,
              "#0d0887"
             ],
             [
              0.1111111111111111,
              "#46039f"
             ],
             [
              0.2222222222222222,
              "#7201a8"
             ],
             [
              0.3333333333333333,
              "#9c179e"
             ],
             [
              0.4444444444444444,
              "#bd3786"
             ],
             [
              0.5555555555555556,
              "#d8576b"
             ],
             [
              0.6666666666666666,
              "#ed7953"
             ],
             [
              0.7777777777777778,
              "#fb9f3a"
             ],
             [
              0.8888888888888888,
              "#fdca26"
             ],
             [
              1,
              "#f0f921"
             ]
            ],
            "type": "heatmapgl"
           }
          ],
          "histogram": [
           {
            "marker": {
             "pattern": {
              "fillmode": "overlay",
              "size": 10,
              "solidity": 0.2
             }
            },
            "type": "histogram"
           }
          ],
          "histogram2d": [
           {
            "colorbar": {
             "outlinewidth": 0,
             "ticks": ""
            },
            "colorscale": [
             [
              0,
              "#0d0887"
             ],
             [
              0.1111111111111111,
              "#46039f"
             ],
             [
              0.2222222222222222,
              "#7201a8"
             ],
             [
              0.3333333333333333,
              "#9c179e"
             ],
             [
              0.4444444444444444,
              "#bd3786"
             ],
             [
              0.5555555555555556,
              "#d8576b"
             ],
             [
              0.6666666666666666,
              "#ed7953"
             ],
             [
              0.7777777777777778,
              "#fb9f3a"
             ],
             [
              0.8888888888888888,
              "#fdca26"
             ],
             [
              1,
              "#f0f921"
             ]
            ],
            "type": "histogram2d"
           }
          ],
          "histogram2dcontour": [
           {
            "colorbar": {
             "outlinewidth": 0,
             "ticks": ""
            },
            "colorscale": [
             [
              0,
              "#0d0887"
             ],
             [
              0.1111111111111111,
              "#46039f"
             ],
             [
              0.2222222222222222,
              "#7201a8"
             ],
             [
              0.3333333333333333,
              "#9c179e"
             ],
             [
              0.4444444444444444,
              "#bd3786"
             ],
             [
              0.5555555555555556,
              "#d8576b"
             ],
             [
              0.6666666666666666,
              "#ed7953"
             ],
             [
              0.7777777777777778,
              "#fb9f3a"
             ],
             [
              0.8888888888888888,
              "#fdca26"
             ],
             [
              1,
              "#f0f921"
             ]
            ],
            "type": "histogram2dcontour"
           }
          ],
          "mesh3d": [
           {
            "colorbar": {
             "outlinewidth": 0,
             "ticks": ""
            },
            "type": "mesh3d"
           }
          ],
          "parcoords": [
           {
            "line": {
             "colorbar": {
              "outlinewidth": 0,
              "ticks": ""
             }
            },
            "type": "parcoords"
           }
          ],
          "pie": [
           {
            "automargin": true,
            "type": "pie"
           }
          ],
          "scatter": [
           {
            "fillpattern": {
             "fillmode": "overlay",
             "size": 10,
             "solidity": 0.2
            },
            "type": "scatter"
           }
          ],
          "scatter3d": [
           {
            "line": {
             "colorbar": {
              "outlinewidth": 0,
              "ticks": ""
             }
            },
            "marker": {
             "colorbar": {
              "outlinewidth": 0,
              "ticks": ""
             }
            },
            "type": "scatter3d"
           }
          ],
          "scattercarpet": [
           {
            "marker": {
             "colorbar": {
              "outlinewidth": 0,
              "ticks": ""
             }
            },
            "type": "scattercarpet"
           }
          ],
          "scattergeo": [
           {
            "marker": {
             "colorbar": {
              "outlinewidth": 0,
              "ticks": ""
             }
            },
            "type": "scattergeo"
           }
          ],
          "scattergl": [
           {
            "marker": {
             "colorbar": {
              "outlinewidth": 0,
              "ticks": ""
             }
            },
            "type": "scattergl"
           }
          ],
          "scattermapbox": [
           {
            "marker": {
             "colorbar": {
              "outlinewidth": 0,
              "ticks": ""
             }
            },
            "type": "scattermapbox"
           }
          ],
          "scatterpolar": [
           {
            "marker": {
             "colorbar": {
              "outlinewidth": 0,
              "ticks": ""
             }
            },
            "type": "scatterpolar"
           }
          ],
          "scatterpolargl": [
           {
            "marker": {
             "colorbar": {
              "outlinewidth": 0,
              "ticks": ""
             }
            },
            "type": "scatterpolargl"
           }
          ],
          "scatterternary": [
           {
            "marker": {
             "colorbar": {
              "outlinewidth": 0,
              "ticks": ""
             }
            },
            "type": "scatterternary"
           }
          ],
          "surface": [
           {
            "colorbar": {
             "outlinewidth": 0,
             "ticks": ""
            },
            "colorscale": [
             [
              0,
              "#0d0887"
             ],
             [
              0.1111111111111111,
              "#46039f"
             ],
             [
              0.2222222222222222,
              "#7201a8"
             ],
             [
              0.3333333333333333,
              "#9c179e"
             ],
             [
              0.4444444444444444,
              "#bd3786"
             ],
             [
              0.5555555555555556,
              "#d8576b"
             ],
             [
              0.6666666666666666,
              "#ed7953"
             ],
             [
              0.7777777777777778,
              "#fb9f3a"
             ],
             [
              0.8888888888888888,
              "#fdca26"
             ],
             [
              1,
              "#f0f921"
             ]
            ],
            "type": "surface"
           }
          ],
          "table": [
           {
            "cells": {
             "fill": {
              "color": "#EBF0F8"
             },
             "line": {
              "color": "white"
             }
            },
            "header": {
             "fill": {
              "color": "#C8D4E3"
             },
             "line": {
              "color": "white"
             }
            },
            "type": "table"
           }
          ]
         },
         "layout": {
          "annotationdefaults": {
           "arrowcolor": "#2a3f5f",
           "arrowhead": 0,
           "arrowwidth": 1
          },
          "autotypenumbers": "strict",
          "coloraxis": {
           "colorbar": {
            "outlinewidth": 0,
            "ticks": ""
           }
          },
          "colorscale": {
           "diverging": [
            [
             0,
             "#8e0152"
            ],
            [
             0.1,
             "#c51b7d"
            ],
            [
             0.2,
             "#de77ae"
            ],
            [
             0.3,
             "#f1b6da"
            ],
            [
             0.4,
             "#fde0ef"
            ],
            [
             0.5,
             "#f7f7f7"
            ],
            [
             0.6,
             "#e6f5d0"
            ],
            [
             0.7,
             "#b8e186"
            ],
            [
             0.8,
             "#7fbc41"
            ],
            [
             0.9,
             "#4d9221"
            ],
            [
             1,
             "#276419"
            ]
           ],
           "sequential": [
            [
             0,
             "#0d0887"
            ],
            [
             0.1111111111111111,
             "#46039f"
            ],
            [
             0.2222222222222222,
             "#7201a8"
            ],
            [
             0.3333333333333333,
             "#9c179e"
            ],
            [
             0.4444444444444444,
             "#bd3786"
            ],
            [
             0.5555555555555556,
             "#d8576b"
            ],
            [
             0.6666666666666666,
             "#ed7953"
            ],
            [
             0.7777777777777778,
             "#fb9f3a"
            ],
            [
             0.8888888888888888,
             "#fdca26"
            ],
            [
             1,
             "#f0f921"
            ]
           ],
           "sequentialminus": [
            [
             0,
             "#0d0887"
            ],
            [
             0.1111111111111111,
             "#46039f"
            ],
            [
             0.2222222222222222,
             "#7201a8"
            ],
            [
             0.3333333333333333,
             "#9c179e"
            ],
            [
             0.4444444444444444,
             "#bd3786"
            ],
            [
             0.5555555555555556,
             "#d8576b"
            ],
            [
             0.6666666666666666,
             "#ed7953"
            ],
            [
             0.7777777777777778,
             "#fb9f3a"
            ],
            [
             0.8888888888888888,
             "#fdca26"
            ],
            [
             1,
             "#f0f921"
            ]
           ]
          },
          "colorway": [
           "#636efa",
           "#EF553B",
           "#00cc96",
           "#ab63fa",
           "#FFA15A",
           "#19d3f3",
           "#FF6692",
           "#B6E880",
           "#FF97FF",
           "#FECB52"
          ],
          "font": {
           "color": "#2a3f5f"
          },
          "geo": {
           "bgcolor": "white",
           "lakecolor": "white",
           "landcolor": "#E5ECF6",
           "showlakes": true,
           "showland": true,
           "subunitcolor": "white"
          },
          "hoverlabel": {
           "align": "left"
          },
          "hovermode": "closest",
          "mapbox": {
           "style": "light"
          },
          "paper_bgcolor": "white",
          "plot_bgcolor": "#E5ECF6",
          "polar": {
           "angularaxis": {
            "gridcolor": "white",
            "linecolor": "white",
            "ticks": ""
           },
           "bgcolor": "#E5ECF6",
           "radialaxis": {
            "gridcolor": "white",
            "linecolor": "white",
            "ticks": ""
           }
          },
          "scene": {
           "xaxis": {
            "backgroundcolor": "#E5ECF6",
            "gridcolor": "white",
            "gridwidth": 2,
            "linecolor": "white",
            "showbackground": true,
            "ticks": "",
            "zerolinecolor": "white"
           },
           "yaxis": {
            "backgroundcolor": "#E5ECF6",
            "gridcolor": "white",
            "gridwidth": 2,
            "linecolor": "white",
            "showbackground": true,
            "ticks": "",
            "zerolinecolor": "white"
           },
           "zaxis": {
            "backgroundcolor": "#E5ECF6",
            "gridcolor": "white",
            "gridwidth": 2,
            "linecolor": "white",
            "showbackground": true,
            "ticks": "",
            "zerolinecolor": "white"
           }
          },
          "shapedefaults": {
           "line": {
            "color": "#2a3f5f"
           }
          },
          "ternary": {
           "aaxis": {
            "gridcolor": "white",
            "linecolor": "white",
            "ticks": ""
           },
           "baxis": {
            "gridcolor": "white",
            "linecolor": "white",
            "ticks": ""
           },
           "bgcolor": "#E5ECF6",
           "caxis": {
            "gridcolor": "white",
            "linecolor": "white",
            "ticks": ""
           }
          },
          "title": {
           "x": 0.05
          },
          "xaxis": {
           "automargin": true,
           "gridcolor": "white",
           "linecolor": "white",
           "ticks": "",
           "title": {
            "standoff": 15
           },
           "zerolinecolor": "white",
           "zerolinewidth": 2
          },
          "yaxis": {
           "automargin": true,
           "gridcolor": "white",
           "linecolor": "white",
           "ticks": "",
           "title": {
            "standoff": 15
           },
           "zerolinecolor": "white",
           "zerolinewidth": 2
          }
         }
        },
        "title": {
         "text": "Difference between AADBT_BICIZEN and AADBT_COUNTER"
        },
        "xaxis": {
         "anchor": "y",
         "domain": [
          0,
          1
         ],
         "title": {
          "text": "AADBT_DIFF"
         }
        },
        "yaxis": {
         "anchor": "x",
         "categoryorder": "total ascending",
         "domain": [
          0,
          1
         ],
         "tickmode": "linear",
         "title": {
          "text": "Locations"
         }
        }
       }
      }
     },
     "metadata": {},
     "output_type": "display_data"
    }
   ],
   "source": [
    "# Calculate the difference\n",
    "\n",
    "# Order by difference\n",
    "final_df = final_df.sort_values(by='AADBT_DIFF', ascending=False)\n",
    "\n",
    "final_df[\"Locations\"] = final_df[\"Street\"] + \" \" + final_df[\"direction_counter\"]\n",
    "\n",
    "fig = px.bar(final_df, x='AADBT_DIFF', y='Locations', orientation='h', title='Difference between AADBT_BICIZEN and AADBT_COUNTER', labels={'id': 'ID', 'AADBT_DIFF': 'AADBT_DIFF'})\n",
    "fig.update_layout(yaxis={'categoryorder':'total ascending', 'tickmode':'linear'})\n",
    "fig.show()\n"
   ]
  },
  {
   "cell_type": "code",
   "execution_count": 625,
   "id": "8e095b1f",
   "metadata": {},
   "outputs": [
    {
     "data": {
      "application/vnd.plotly.v1+json": {
       "config": {
        "plotlyServerURL": "https://plot.ly"
       },
       "data": [
        {
         "hovertemplate": "AADBT_BICIZEN=%{x}<br>AADBT_COUNTER=%{y}<extra></extra>",
         "legendgroup": "",
         "marker": {
          "color": "#636efa",
          "opacity": 0.7,
          "symbol": "circle"
         },
         "mode": "markers",
         "name": "",
         "orientation": "v",
         "showlegend": false,
         "type": "scatter",
         "x": [
          1014.1274318078534,
          644.6199078775657,
          826.3457085615964,
          385.74817181332594,
          556.079857718409,
          504.3194927540945,
          1521.2600650660888,
          1342.5471859976346,
          1674.2802505589023,
          2371.9682726671595
         ],
         "xaxis": "x",
         "y": [
          1418,
          1094,
          1442,
          1135,
          1535,
          1926,
          4898,
          4770,
          5493,
          6925
         ],
         "yaxis": "y"
        },
        {
         "hovertemplate": "<b>OLS trendline</b><br>AADBT_COUNTER = 3.26601 * AADBT_BICIZEN + -477.175<br>R<sup>2</sup>=0.887412<br><br>AADBT_BICIZEN=%{x}<br>AADBT_COUNTER=%{y} <b>(trend)</b><extra></extra>",
         "legendgroup": "",
         "line": {
          "color": "darkblue"
         },
         "marker": {
          "color": "#636efa",
          "symbol": "circle"
         },
         "mode": "lines",
         "name": "",
         "showlegend": false,
         "type": "scatter",
         "x": [
          385.74817181332594,
          504.3194927540945,
          556.079857718409,
          644.6199078775657,
          826.3457085615964,
          1014.1274318078534,
          1342.5471859976346,
          1521.2600650660888,
          1674.2802505589023,
          2371.9682726671595
         ],
         "xaxis": "x",
         "y": [
          782.6814724268283,
          1169.9361995770382,
          1338.9858977031474,
          1628.1582936434625,
          2221.675973987116,
          2834.9723379185925,
          3907.5934514426262,
          4491.27090964059,
          4991.035858798032,
          7269.6896048625695
         ],
         "yaxis": "y"
        }
       ],
       "layout": {
        "height": 750,
        "legend": {
         "tracegroupgap": 0
        },
        "shapes": [
         {
          "line": {
           "color": "red",
           "dash": "dash"
          },
          "name": "Average AADBT_BICIZEN",
          "type": "line",
          "x0": 1084.129634482263,
          "x1": 1084.129634482263,
          "y0": 0,
          "y1": 10000
         },
         {
          "line": {
           "color": "blue",
           "dash": "dash"
          },
          "name": "Average AADBT_COUNTER",
          "type": "line",
          "x0": 0,
          "x1": 10000,
          "y0": 3063.6,
          "y1": 3063.6
         }
        ],
        "template": {
         "data": {
          "bar": [
           {
            "error_x": {
             "color": "#2a3f5f"
            },
            "error_y": {
             "color": "#2a3f5f"
            },
            "marker": {
             "line": {
              "color": "#E5ECF6",
              "width": 0.5
             },
             "pattern": {
              "fillmode": "overlay",
              "size": 10,
              "solidity": 0.2
             }
            },
            "type": "bar"
           }
          ],
          "barpolar": [
           {
            "marker": {
             "line": {
              "color": "#E5ECF6",
              "width": 0.5
             },
             "pattern": {
              "fillmode": "overlay",
              "size": 10,
              "solidity": 0.2
             }
            },
            "type": "barpolar"
           }
          ],
          "carpet": [
           {
            "aaxis": {
             "endlinecolor": "#2a3f5f",
             "gridcolor": "white",
             "linecolor": "white",
             "minorgridcolor": "white",
             "startlinecolor": "#2a3f5f"
            },
            "baxis": {
             "endlinecolor": "#2a3f5f",
             "gridcolor": "white",
             "linecolor": "white",
             "minorgridcolor": "white",
             "startlinecolor": "#2a3f5f"
            },
            "type": "carpet"
           }
          ],
          "choropleth": [
           {
            "colorbar": {
             "outlinewidth": 0,
             "ticks": ""
            },
            "type": "choropleth"
           }
          ],
          "contour": [
           {
            "colorbar": {
             "outlinewidth": 0,
             "ticks": ""
            },
            "colorscale": [
             [
              0,
              "#0d0887"
             ],
             [
              0.1111111111111111,
              "#46039f"
             ],
             [
              0.2222222222222222,
              "#7201a8"
             ],
             [
              0.3333333333333333,
              "#9c179e"
             ],
             [
              0.4444444444444444,
              "#bd3786"
             ],
             [
              0.5555555555555556,
              "#d8576b"
             ],
             [
              0.6666666666666666,
              "#ed7953"
             ],
             [
              0.7777777777777778,
              "#fb9f3a"
             ],
             [
              0.8888888888888888,
              "#fdca26"
             ],
             [
              1,
              "#f0f921"
             ]
            ],
            "type": "contour"
           }
          ],
          "contourcarpet": [
           {
            "colorbar": {
             "outlinewidth": 0,
             "ticks": ""
            },
            "type": "contourcarpet"
           }
          ],
          "heatmap": [
           {
            "colorbar": {
             "outlinewidth": 0,
             "ticks": ""
            },
            "colorscale": [
             [
              0,
              "#0d0887"
             ],
             [
              0.1111111111111111,
              "#46039f"
             ],
             [
              0.2222222222222222,
              "#7201a8"
             ],
             [
              0.3333333333333333,
              "#9c179e"
             ],
             [
              0.4444444444444444,
              "#bd3786"
             ],
             [
              0.5555555555555556,
              "#d8576b"
             ],
             [
              0.6666666666666666,
              "#ed7953"
             ],
             [
              0.7777777777777778,
              "#fb9f3a"
             ],
             [
              0.8888888888888888,
              "#fdca26"
             ],
             [
              1,
              "#f0f921"
             ]
            ],
            "type": "heatmap"
           }
          ],
          "heatmapgl": [
           {
            "colorbar": {
             "outlinewidth": 0,
             "ticks": ""
            },
            "colorscale": [
             [
              0,
              "#0d0887"
             ],
             [
              0.1111111111111111,
              "#46039f"
             ],
             [
              0.2222222222222222,
              "#7201a8"
             ],
             [
              0.3333333333333333,
              "#9c179e"
             ],
             [
              0.4444444444444444,
              "#bd3786"
             ],
             [
              0.5555555555555556,
              "#d8576b"
             ],
             [
              0.6666666666666666,
              "#ed7953"
             ],
             [
              0.7777777777777778,
              "#fb9f3a"
             ],
             [
              0.8888888888888888,
              "#fdca26"
             ],
             [
              1,
              "#f0f921"
             ]
            ],
            "type": "heatmapgl"
           }
          ],
          "histogram": [
           {
            "marker": {
             "pattern": {
              "fillmode": "overlay",
              "size": 10,
              "solidity": 0.2
             }
            },
            "type": "histogram"
           }
          ],
          "histogram2d": [
           {
            "colorbar": {
             "outlinewidth": 0,
             "ticks": ""
            },
            "colorscale": [
             [
              0,
              "#0d0887"
             ],
             [
              0.1111111111111111,
              "#46039f"
             ],
             [
              0.2222222222222222,
              "#7201a8"
             ],
             [
              0.3333333333333333,
              "#9c179e"
             ],
             [
              0.4444444444444444,
              "#bd3786"
             ],
             [
              0.5555555555555556,
              "#d8576b"
             ],
             [
              0.6666666666666666,
              "#ed7953"
             ],
             [
              0.7777777777777778,
              "#fb9f3a"
             ],
             [
              0.8888888888888888,
              "#fdca26"
             ],
             [
              1,
              "#f0f921"
             ]
            ],
            "type": "histogram2d"
           }
          ],
          "histogram2dcontour": [
           {
            "colorbar": {
             "outlinewidth": 0,
             "ticks": ""
            },
            "colorscale": [
             [
              0,
              "#0d0887"
             ],
             [
              0.1111111111111111,
              "#46039f"
             ],
             [
              0.2222222222222222,
              "#7201a8"
             ],
             [
              0.3333333333333333,
              "#9c179e"
             ],
             [
              0.4444444444444444,
              "#bd3786"
             ],
             [
              0.5555555555555556,
              "#d8576b"
             ],
             [
              0.6666666666666666,
              "#ed7953"
             ],
             [
              0.7777777777777778,
              "#fb9f3a"
             ],
             [
              0.8888888888888888,
              "#fdca26"
             ],
             [
              1,
              "#f0f921"
             ]
            ],
            "type": "histogram2dcontour"
           }
          ],
          "mesh3d": [
           {
            "colorbar": {
             "outlinewidth": 0,
             "ticks": ""
            },
            "type": "mesh3d"
           }
          ],
          "parcoords": [
           {
            "line": {
             "colorbar": {
              "outlinewidth": 0,
              "ticks": ""
             }
            },
            "type": "parcoords"
           }
          ],
          "pie": [
           {
            "automargin": true,
            "type": "pie"
           }
          ],
          "scatter": [
           {
            "fillpattern": {
             "fillmode": "overlay",
             "size": 10,
             "solidity": 0.2
            },
            "type": "scatter"
           }
          ],
          "scatter3d": [
           {
            "line": {
             "colorbar": {
              "outlinewidth": 0,
              "ticks": ""
             }
            },
            "marker": {
             "colorbar": {
              "outlinewidth": 0,
              "ticks": ""
             }
            },
            "type": "scatter3d"
           }
          ],
          "scattercarpet": [
           {
            "marker": {
             "colorbar": {
              "outlinewidth": 0,
              "ticks": ""
             }
            },
            "type": "scattercarpet"
           }
          ],
          "scattergeo": [
           {
            "marker": {
             "colorbar": {
              "outlinewidth": 0,
              "ticks": ""
             }
            },
            "type": "scattergeo"
           }
          ],
          "scattergl": [
           {
            "marker": {
             "colorbar": {
              "outlinewidth": 0,
              "ticks": ""
             }
            },
            "type": "scattergl"
           }
          ],
          "scattermapbox": [
           {
            "marker": {
             "colorbar": {
              "outlinewidth": 0,
              "ticks": ""
             }
            },
            "type": "scattermapbox"
           }
          ],
          "scatterpolar": [
           {
            "marker": {
             "colorbar": {
              "outlinewidth": 0,
              "ticks": ""
             }
            },
            "type": "scatterpolar"
           }
          ],
          "scatterpolargl": [
           {
            "marker": {
             "colorbar": {
              "outlinewidth": 0,
              "ticks": ""
             }
            },
            "type": "scatterpolargl"
           }
          ],
          "scatterternary": [
           {
            "marker": {
             "colorbar": {
              "outlinewidth": 0,
              "ticks": ""
             }
            },
            "type": "scatterternary"
           }
          ],
          "surface": [
           {
            "colorbar": {
             "outlinewidth": 0,
             "ticks": ""
            },
            "colorscale": [
             [
              0,
              "#0d0887"
             ],
             [
              0.1111111111111111,
              "#46039f"
             ],
             [
              0.2222222222222222,
              "#7201a8"
             ],
             [
              0.3333333333333333,
              "#9c179e"
             ],
             [
              0.4444444444444444,
              "#bd3786"
             ],
             [
              0.5555555555555556,
              "#d8576b"
             ],
             [
              0.6666666666666666,
              "#ed7953"
             ],
             [
              0.7777777777777778,
              "#fb9f3a"
             ],
             [
              0.8888888888888888,
              "#fdca26"
             ],
             [
              1,
              "#f0f921"
             ]
            ],
            "type": "surface"
           }
          ],
          "table": [
           {
            "cells": {
             "fill": {
              "color": "#EBF0F8"
             },
             "line": {
              "color": "white"
             }
            },
            "header": {
             "fill": {
              "color": "#C8D4E3"
             },
             "line": {
              "color": "white"
             }
            },
            "type": "table"
           }
          ]
         },
         "layout": {
          "annotationdefaults": {
           "arrowcolor": "#2a3f5f",
           "arrowhead": 0,
           "arrowwidth": 1
          },
          "autotypenumbers": "strict",
          "coloraxis": {
           "colorbar": {
            "outlinewidth": 0,
            "ticks": ""
           }
          },
          "colorscale": {
           "diverging": [
            [
             0,
             "#8e0152"
            ],
            [
             0.1,
             "#c51b7d"
            ],
            [
             0.2,
             "#de77ae"
            ],
            [
             0.3,
             "#f1b6da"
            ],
            [
             0.4,
             "#fde0ef"
            ],
            [
             0.5,
             "#f7f7f7"
            ],
            [
             0.6,
             "#e6f5d0"
            ],
            [
             0.7,
             "#b8e186"
            ],
            [
             0.8,
             "#7fbc41"
            ],
            [
             0.9,
             "#4d9221"
            ],
            [
             1,
             "#276419"
            ]
           ],
           "sequential": [
            [
             0,
             "#0d0887"
            ],
            [
             0.1111111111111111,
             "#46039f"
            ],
            [
             0.2222222222222222,
             "#7201a8"
            ],
            [
             0.3333333333333333,
             "#9c179e"
            ],
            [
             0.4444444444444444,
             "#bd3786"
            ],
            [
             0.5555555555555556,
             "#d8576b"
            ],
            [
             0.6666666666666666,
             "#ed7953"
            ],
            [
             0.7777777777777778,
             "#fb9f3a"
            ],
            [
             0.8888888888888888,
             "#fdca26"
            ],
            [
             1,
             "#f0f921"
            ]
           ],
           "sequentialminus": [
            [
             0,
             "#0d0887"
            ],
            [
             0.1111111111111111,
             "#46039f"
            ],
            [
             0.2222222222222222,
             "#7201a8"
            ],
            [
             0.3333333333333333,
             "#9c179e"
            ],
            [
             0.4444444444444444,
             "#bd3786"
            ],
            [
             0.5555555555555556,
             "#d8576b"
            ],
            [
             0.6666666666666666,
             "#ed7953"
            ],
            [
             0.7777777777777778,
             "#fb9f3a"
            ],
            [
             0.8888888888888888,
             "#fdca26"
            ],
            [
             1,
             "#f0f921"
            ]
           ]
          },
          "colorway": [
           "#636efa",
           "#EF553B",
           "#00cc96",
           "#ab63fa",
           "#FFA15A",
           "#19d3f3",
           "#FF6692",
           "#B6E880",
           "#FF97FF",
           "#FECB52"
          ],
          "font": {
           "color": "#2a3f5f"
          },
          "geo": {
           "bgcolor": "white",
           "lakecolor": "white",
           "landcolor": "#E5ECF6",
           "showlakes": true,
           "showland": true,
           "subunitcolor": "white"
          },
          "hoverlabel": {
           "align": "left"
          },
          "hovermode": "closest",
          "mapbox": {
           "style": "light"
          },
          "paper_bgcolor": "white",
          "plot_bgcolor": "#E5ECF6",
          "polar": {
           "angularaxis": {
            "gridcolor": "white",
            "linecolor": "white",
            "ticks": ""
           },
           "bgcolor": "#E5ECF6",
           "radialaxis": {
            "gridcolor": "white",
            "linecolor": "white",
            "ticks": ""
           }
          },
          "scene": {
           "xaxis": {
            "backgroundcolor": "#E5ECF6",
            "gridcolor": "white",
            "gridwidth": 2,
            "linecolor": "white",
            "showbackground": true,
            "ticks": "",
            "zerolinecolor": "white"
           },
           "yaxis": {
            "backgroundcolor": "#E5ECF6",
            "gridcolor": "white",
            "gridwidth": 2,
            "linecolor": "white",
            "showbackground": true,
            "ticks": "",
            "zerolinecolor": "white"
           },
           "zaxis": {
            "backgroundcolor": "#E5ECF6",
            "gridcolor": "white",
            "gridwidth": 2,
            "linecolor": "white",
            "showbackground": true,
            "ticks": "",
            "zerolinecolor": "white"
           }
          },
          "shapedefaults": {
           "line": {
            "color": "#2a3f5f"
           }
          },
          "ternary": {
           "aaxis": {
            "gridcolor": "white",
            "linecolor": "white",
            "ticks": ""
           },
           "baxis": {
            "gridcolor": "white",
            "linecolor": "white",
            "ticks": ""
           },
           "bgcolor": "#E5ECF6",
           "caxis": {
            "gridcolor": "white",
            "linecolor": "white",
            "ticks": ""
           }
          },
          "title": {
           "x": 0.05
          },
          "xaxis": {
           "automargin": true,
           "gridcolor": "white",
           "linecolor": "white",
           "ticks": "",
           "title": {
            "standoff": 15
           },
           "zerolinecolor": "white",
           "zerolinewidth": 2
          },
          "yaxis": {
           "automargin": true,
           "gridcolor": "white",
           "linecolor": "white",
           "ticks": "",
           "title": {
            "standoff": 15
           },
           "zerolinecolor": "white",
           "zerolinewidth": 2
          }
         }
        },
        "title": {
         "text": "Scatterplot of AADBT_BICIZEN vs AADBT_COUNTER with Averages"
        },
        "width": 750,
        "xaxis": {
         "anchor": "y",
         "domain": [
          0,
          1
         ],
         "range": [
          0,
          10000
         ],
         "title": {
          "text": "AADBT_BICIZEN"
         }
        },
        "yaxis": {
         "anchor": "x",
         "domain": [
          0,
          1
         ],
         "range": [
          0,
          10000
         ],
         "title": {
          "text": "AADBT_COUNTER"
         }
        }
       }
      }
     },
     "metadata": {},
     "output_type": "display_data"
    }
   ],
   "source": [
    "import plotly.express as px\n",
    "# Calculate averages\n",
    "avg_bicizen = final_df['AADBT_BICIZEN'].mean()\n",
    "avg_counter = final_df['AADBT_COUNTER'].mean()\n",
    "\n",
    "# Create a scatter plot with Plotly Express\n",
    "fig = px.scatter(\n",
    "    final_df,\n",
    "    x='AADBT_BICIZEN',\n",
    "    y='AADBT_COUNTER',\n",
    "    title='Scatterplot of AADBT_BICIZEN vs AADBT_COUNTER with Averages',\n",
    "    labels={'AADBT_BICIZEN': 'AADBT_BICIZEN', 'AADBT_COUNTER': 'AADBT_COUNTER','ROOT_ID':'ROOT_ID'},\n",
    "    opacity=0.7,\n",
    "    trendline='ols', trendline_color_override='darkblue'\n",
    "\n",
    ")\n",
    "\n",
    "# Add average lines\n",
    "fig.add_shape(\n",
    "    type='line',\n",
    "    x0=avg_bicizen,\n",
    "    x1=avg_bicizen,\n",
    "    y0=0,\n",
    "    y1=10000,\n",
    "    line=dict(color='red', dash='dash'),\n",
    "    name='Average AADBT_BICIZEN'\n",
    ")\n",
    "fig.add_shape(\n",
    "    type='line',\n",
    "    x0=0,\n",
    "    x1=10000,\n",
    "    y0=avg_counter,\n",
    "    y1=avg_counter,\n",
    "    line=dict(color='blue', dash='dash'),\n",
    "    name='Average AADBT_COUNTER'\n",
    ")\n",
    "\n",
    "\n",
    "# Update axis ranges\n",
    "fig.update_layout(xaxis=dict(range=[0, 10000]), yaxis=dict(range=[0, 10000]))\n",
    "\n",
    "fig.update_layout(\n",
    "    width=750,\n",
    "    height=750\n",
    ")\n",
    "fig.show()"
   ]
  },
  {
   "cell_type": "code",
   "execution_count": 626,
   "id": "e29ede89",
   "metadata": {},
   "outputs": [
    {
     "data": {
      "text/plain": [
       "count      10.000000\n",
       "mean    -1979.470366\n",
       "std      1618.106530\n",
       "min     -4553.031727\n",
       "25%     -3414.774594\n",
       "50%     -1200.300325\n",
       "75%      -649.053676\n",
       "max      -403.872568\n",
       "Name: AADBT_DIFF, dtype: float64"
      ]
     },
     "execution_count": 626,
     "metadata": {},
     "output_type": "execute_result"
    }
   ],
   "source": [
    "final_df['AADBT_DIFF'].describe()"
   ]
  },
  {
   "cell_type": "code",
   "execution_count": 627,
   "id": "685a3bc7",
   "metadata": {},
   "outputs": [
    {
     "data": {
      "text/plain": [
       "array([1054514, 1046328, 1048280, 1048268, 1051865, 1048272, 1048223,\n",
       "       1048274, 1049380, 1047953], dtype=int64)"
      ]
     },
     "execution_count": 627,
     "metadata": {},
     "output_type": "execute_result"
    }
   ],
   "source": [
    "final_df[\"ROOT_ID\"].unique()"
   ]
  },
  {
   "cell_type": "markdown",
   "id": "ba2c3ab7",
   "metadata": {},
   "source": [
    "### Explore correlation"
   ]
  },
  {
   "cell_type": "code",
   "execution_count": 628,
   "id": "114c80c6",
   "metadata": {},
   "outputs": [
    {
     "data": {
      "image/png": "[encoded data removed]",
      "text/plain": [
       "<Figure size 800x600 with 2 Axes>"
      ]
     },
     "metadata": {},
     "output_type": "display_data"
    }
   ],
   "source": [
    "# Calculate the correlation matrix\n",
    "correlation_matrix = final_df[['AADBT_BICIZEN', 'AADBT_COUNTER', 'AADBT_DIFF','DaysWithData', 'HasWeekendData', 'Observations']].corr()\n",
    "\n",
    "# Plot the heatmap\n",
    "plt.figure(figsize=(8, 6))\n",
    "sns.heatmap(correlation_matrix, annot=True, cmap='coolwarm', fmt=\".2f\")\n",
    "plt.title('Correlation Matrix')\n",
    "plt.show()"
   ]
  },
  {
   "cell_type": "code",
   "execution_count": 629,
   "id": "1f80f2e5",
   "metadata": {},
   "outputs": [
    {
     "data": {
      "image/png": "[encoded data removed]",
      "text/plain": [
       "<Figure size 800x600 with 2 Axes>"
      ]
     },
     "metadata": {},
     "output_type": "display_data"
    }
   ],
   "source": [
    "# Calculate the correlation matrix for numeric attributes in merged_df\n",
    "correlation_numeric = merged_df.select_dtypes(include=['float64', 'int64','bool']).corr()\n",
    "\n",
    "# Plot the heatmap\n",
    "plt.figure(figsize=(8, 6))\n",
    "sns.heatmap(correlation_numeric, annot=True, cmap='coolwarm', fmt=\".2f\")\n",
    "plt.title('Correlation Matrix BiciZen observations')\n",
    "plt.show()"
   ]
  },
  {
   "cell_type": "markdown",
   "id": "5d5c0b98",
   "metadata": {},
   "source": [
    "## Ger problematic values"
   ]
  },
  {
   "cell_type": "code",
   "execution_count": 630,
   "id": "8ccef985",
   "metadata": {},
   "outputs": [
    {
     "data": {
      "text/html": [
       "<div>\n",
       "<style scoped>\n",
       "    .dataframe tbody tr th:only-of-type {\n",
       "        vertical-align: middle;\n",
       "    }\n",
       "\n",
       "    .dataframe tbody tr th {\n",
       "        vertical-align: top;\n",
       "    }\n",
       "\n",
       "    .dataframe thead th {\n",
       "        text-align: right;\n",
       "    }\n",
       "</style>\n",
       "<table border=\"1\" class=\"dataframe\">\n",
       "  <thead>\n",
       "    <tr style=\"text-align: right;\">\n",
       "      <th></th>\n",
       "      <th>ROOT_ID</th>\n",
       "      <th>AADBT_DIFF</th>\n",
       "      <th>AADBT_BICIZEN</th>\n",
       "      <th>AADBT_COUNTER</th>\n",
       "      <th>Street</th>\n",
       "      <th>direction_counter</th>\n",
       "      <th>Codigo Infraestructura</th>\n",
       "      <th>DaysWithData</th>\n",
       "      <th>HasWeekendData</th>\n",
       "      <th>Observations</th>\n",
       "      <th>geometry</th>\n",
       "      <th>Locations</th>\n",
       "    </tr>\n",
       "  </thead>\n",
       "  <tbody>\n",
       "    <tr>\n",
       "      <th>2</th>\n",
       "      <td>1047953</td>\n",
       "      <td>-4553.031727</td>\n",
       "      <td>2371.968273</td>\n",
       "      <td>6925.0</td>\n",
       "      <td>Pg. Pujades 3</td>\n",
       "      <td>SW</td>\n",
       "      <td>5</td>\n",
       "      <td>10</td>\n",
       "      <td>False</td>\n",
       "      <td>12</td>\n",
       "      <td>POINT (431650.609 4582239.199)</td>\n",
       "      <td>Pg. Pujades 3 SW</td>\n",
       "    </tr>\n",
       "    <tr>\n",
       "      <th>8</th>\n",
       "      <td>1049380</td>\n",
       "      <td>-3818.719749</td>\n",
       "      <td>1674.280251</td>\n",
       "      <td>5493.0</td>\n",
       "      <td>Travessera de gràcia 260</td>\n",
       "      <td>SW</td>\n",
       "      <td>7</td>\n",
       "      <td>31</td>\n",
       "      <td>True</td>\n",
       "      <td>40</td>\n",
       "      <td>POINT (430235.035 4584150.178)</td>\n",
       "      <td>Travessera de gràcia 260 SW</td>\n",
       "    </tr>\n",
       "    <tr>\n",
       "      <th>6</th>\n",
       "      <td>1048274</td>\n",
       "      <td>-3427.452814</td>\n",
       "      <td>1342.547186</td>\n",
       "      <td>4770.0</td>\n",
       "      <td>Travessera de gràcia 260</td>\n",
       "      <td>NE</td>\n",
       "      <td>7</td>\n",
       "      <td>31</td>\n",
       "      <td>True</td>\n",
       "      <td>43</td>\n",
       "      <td>POINT (430235.035 4584150.178)</td>\n",
       "      <td>Travessera de gràcia 260 NE</td>\n",
       "    </tr>\n",
       "    <tr>\n",
       "      <th>3</th>\n",
       "      <td>1048223</td>\n",
       "      <td>-3376.739935</td>\n",
       "      <td>1521.260065</td>\n",
       "      <td>4898.0</td>\n",
       "      <td>Av. Meridiana 82</td>\n",
       "      <td>N</td>\n",
       "      <td>7</td>\n",
       "      <td>11</td>\n",
       "      <td>False</td>\n",
       "      <td>13</td>\n",
       "      <td>POINT (432061.273 4584212.752)</td>\n",
       "      <td>Av. Meridiana 82 N</td>\n",
       "    </tr>\n",
       "    <tr>\n",
       "      <th>5</th>\n",
       "      <td>1048272</td>\n",
       "      <td>-1421.680507</td>\n",
       "      <td>504.319493</td>\n",
       "      <td>1926.0</td>\n",
       "      <td>Aristides Maillol 3106</td>\n",
       "      <td>N</td>\n",
       "      <td>7</td>\n",
       "      <td>13</td>\n",
       "      <td>False</td>\n",
       "      <td>13</td>\n",
       "      <td>POINT (426382.214 4581269.343)</td>\n",
       "      <td>Aristides Maillol 3106 N</td>\n",
       "    </tr>\n",
       "    <tr>\n",
       "      <th>9</th>\n",
       "      <td>1051865</td>\n",
       "      <td>-978.920142</td>\n",
       "      <td>556.079858</td>\n",
       "      <td>1535.0</td>\n",
       "      <td>Ronda Guinardó 111</td>\n",
       "      <td>NE</td>\n",
       "      <td>7</td>\n",
       "      <td>27</td>\n",
       "      <td>True</td>\n",
       "      <td>34</td>\n",
       "      <td>POINT (430852.232 4585230.121)</td>\n",
       "      <td>Ronda Guinardó 111 NE</td>\n",
       "    </tr>\n",
       "    <tr>\n",
       "      <th>4</th>\n",
       "      <td>1048268</td>\n",
       "      <td>-749.251828</td>\n",
       "      <td>385.748172</td>\n",
       "      <td>1135.0</td>\n",
       "      <td>Ronda Guinardó 111</td>\n",
       "      <td>SW</td>\n",
       "      <td>7</td>\n",
       "      <td>33</td>\n",
       "      <td>True</td>\n",
       "      <td>42</td>\n",
       "      <td>POINT (430852.232 4585230.121)</td>\n",
       "      <td>Ronda Guinardó 111 SW</td>\n",
       "    </tr>\n",
       "    <tr>\n",
       "      <th>7</th>\n",
       "      <td>1048280</td>\n",
       "      <td>-615.654291</td>\n",
       "      <td>826.345709</td>\n",
       "      <td>1442.0</td>\n",
       "      <td>Av. Maria Cristina - Palau de Congressos</td>\n",
       "      <td>SE</td>\n",
       "      <td>5</td>\n",
       "      <td>17</td>\n",
       "      <td>False</td>\n",
       "      <td>23</td>\n",
       "      <td>POINT (429003.890 4580413.799)</td>\n",
       "      <td>Av. Maria Cristina - Palau de Congressos SE</td>\n",
       "    </tr>\n",
       "    <tr>\n",
       "      <th>1</th>\n",
       "      <td>1046328</td>\n",
       "      <td>-449.380092</td>\n",
       "      <td>644.619908</td>\n",
       "      <td>1094.0</td>\n",
       "      <td>Via Augusta 360</td>\n",
       "      <td>NW</td>\n",
       "      <td>7</td>\n",
       "      <td>10</td>\n",
       "      <td>False</td>\n",
       "      <td>13</td>\n",
       "      <td>POINT (426616.254 4583734.058)</td>\n",
       "      <td>Via Augusta 360 NW</td>\n",
       "    </tr>\n",
       "    <tr>\n",
       "      <th>10</th>\n",
       "      <td>1054514</td>\n",
       "      <td>-403.872568</td>\n",
       "      <td>1014.127432</td>\n",
       "      <td>1418.0</td>\n",
       "      <td>Aristides Maillol 3106</td>\n",
       "      <td>S</td>\n",
       "      <td>7</td>\n",
       "      <td>13</td>\n",
       "      <td>False</td>\n",
       "      <td>13</td>\n",
       "      <td>POINT (426382.214 4581269.343)</td>\n",
       "      <td>Aristides Maillol 3106 S</td>\n",
       "    </tr>\n",
       "  </tbody>\n",
       "</table>\n",
       "</div>"
      ],
      "text/plain": [
       "    ROOT_ID   AADBT_DIFF  AADBT_BICIZEN  AADBT_COUNTER  \\\n",
       "2   1047953 -4553.031727    2371.968273         6925.0   \n",
       "8   1049380 -3818.719749    1674.280251         5493.0   \n",
       "6   1048274 -3427.452814    1342.547186         4770.0   \n",
       "3   1048223 -3376.739935    1521.260065         4898.0   \n",
       "5   1048272 -1421.680507     504.319493         1926.0   \n",
       "9   1051865  -978.920142     556.079858         1535.0   \n",
       "4   1048268  -749.251828     385.748172         1135.0   \n",
       "7   1048280  -615.654291     826.345709         1442.0   \n",
       "1   1046328  -449.380092     644.619908         1094.0   \n",
       "10  1054514  -403.872568    1014.127432         1418.0   \n",
       "\n",
       "                                      Street direction_counter  \\\n",
       "2                              Pg. Pujades 3                SW   \n",
       "8                   Travessera de gràcia 260                SW   \n",
       "6                   Travessera de gràcia 260                NE   \n",
       "3                           Av. Meridiana 82                 N   \n",
       "5                     Aristides Maillol 3106                 N   \n",
       "9                         Ronda Guinardó 111                NE   \n",
       "4                         Ronda Guinardó 111                SW   \n",
       "7   Av. Maria Cristina - Palau de Congressos                SE   \n",
       "1                            Via Augusta 360                NW   \n",
       "10                    Aristides Maillol 3106                 S   \n",
       "\n",
       "    Codigo Infraestructura  DaysWithData  HasWeekendData  Observations  \\\n",
       "2                        5            10           False            12   \n",
       "8                        7            31            True            40   \n",
       "6                        7            31            True            43   \n",
       "3                        7            11           False            13   \n",
       "5                        7            13           False            13   \n",
       "9                        7            27            True            34   \n",
       "4                        7            33            True            42   \n",
       "7                        5            17           False            23   \n",
       "1                        7            10           False            13   \n",
       "10                       7            13           False            13   \n",
       "\n",
       "                          geometry  \\\n",
       "2   POINT (431650.609 4582239.199)   \n",
       "8   POINT (430235.035 4584150.178)   \n",
       "6   POINT (430235.035 4584150.178)   \n",
       "3   POINT (432061.273 4584212.752)   \n",
       "5   POINT (426382.214 4581269.343)   \n",
       "9   POINT (430852.232 4585230.121)   \n",
       "4   POINT (430852.232 4585230.121)   \n",
       "7   POINT (429003.890 4580413.799)   \n",
       "1   POINT (426616.254 4583734.058)   \n",
       "10  POINT (426382.214 4581269.343)   \n",
       "\n",
       "                                      Locations  \n",
       "2                              Pg. Pujades 3 SW  \n",
       "8                   Travessera de gràcia 260 SW  \n",
       "6                   Travessera de gràcia 260 NE  \n",
       "3                            Av. Meridiana 82 N  \n",
       "5                      Aristides Maillol 3106 N  \n",
       "9                         Ronda Guinardó 111 NE  \n",
       "4                         Ronda Guinardó 111 SW  \n",
       "7   Av. Maria Cristina - Palau de Congressos SE  \n",
       "1                            Via Augusta 360 NW  \n",
       "10                     Aristides Maillol 3106 S  "
      ]
     },
     "execution_count": 630,
     "metadata": {},
     "output_type": "execute_result"
    }
   ],
   "source": [
    "final_df=final_df[['ROOT_ID', 'AADBT_DIFF',  'AADBT_BICIZEN', 'AADBT_COUNTER', 'Street',\n",
    "       'direction_counter', 'Codigo Infraestructura', 'DaysWithData',\n",
    "       'HasWeekendData', 'Observations', 'geometry',  'Locations']]\n",
    "final_df.sort_values(by=\"AADBT_DIFF\").head(16)"
   ]
  },
  {
   "cell_type": "markdown",
   "id": "42195e6c",
   "metadata": {
    "id": "a_ZrQ64i7plQ",
    "papermill": {
     "duration": 0.007,
     "end_time": "2025-03-14T15:01:57.033614",
     "exception": false,
     "start_time": "2025-03-14T15:01:57.026614",
     "status": "completed"
    },
    "tags": []
   },
   "source": [
    "# Save output"
   ]
  },
  {
   "cell_type": "code",
   "execution_count": null,
   "id": "84ff82cc",
   "metadata": {
    "execution": {
     "iopub.execute_input": "2025-03-14T15:01:57.047626Z",
     "iopub.status.busy": "2025-03-14T15:01:57.047626Z",
     "iopub.status.idle": "2025-03-14T15:01:57.059458Z",
     "shell.execute_reply": "2025-03-14T15:01:57.059458Z"
    },
    "papermill": {
     "duration": 0.020301,
     "end_time": "2025-03-14T15:01:57.060465",
     "exception": false,
     "start_time": "2025-03-14T15:01:57.040164",
     "status": "completed"
    },
    "tags": []
   },
   "outputs": [],
   "source": []
  }
 ],
 "metadata": {
  "colab": {
   "collapsed_sections": [
    "5bf315c7",
    "eebb1a73",
    "12dd37b6"
   ],
   "provenance": []
  },
  "kernelspec": {
   "display_name": "ridership_model",
   "language": "python",
   "name": "python3"
  },
  "language_info": {
   "codemirror_mode": {
    "name": "ipython",
    "version": 3
   },
   "file_extension": ".py",
   "mimetype": "text/x-python",
   "name": "python",
   "nbconvert_exporter": "python",
   "pygments_lexer": "ipython3",
   "version": "3.11.9"
  },
  "papermill": {
   "default_parameters": {},
   "duration": 4.685965,
   "end_time": "2025-03-14T15:01:57.534804",
   "environment_variables": {},
   "exception": null,
   "input_path": "013-luca_traffic_indices_calculate.ipynb",
   "output_path": "013-luca_traffic_indices_calculate.ipynb",
   "parameters": {
    "SAVE_OUTPUT": true,
    "YEAR": 2024
   },
   "start_time": "2025-03-14T15:01:52.848839",
   "version": "2.6.0"
  }
 },
 "nbformat": 4,
 "nbformat_minor": 5
}
