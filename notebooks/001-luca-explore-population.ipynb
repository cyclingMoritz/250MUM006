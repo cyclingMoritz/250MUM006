{
  "cells": [
    {
      "cell_type": "markdown",
      "metadata": {
        "id": "rP8SuqILhaPo"
      },
      "source": [
        "# Config"
      ]
    },
    {
      "cell_type": "code",
      "execution_count": 23,
      "metadata": {
        "id": "I_hrwU9x479z",
        "tags": [
          "parameters"
        ]
      },
      "outputs": [],
      "source": [
        "# parameters\n",
        "SAVE_OUTPUT = True\n",
        "SIZE_PLOTS = (12,10)\n",
        "BUFFER_SIZE = 402.336 \n",
        "YEAR=2024\n",
        "\n",
        "#Location of the data\n",
        "INPUT_DATA_PATH = \"../data/external/\"\n",
        "OUTPUT_DATA_PATH = \"../data/interim/population\""
      ]
    },
    {
      "cell_type": "code",
      "execution_count": 7,
      "metadata": {
        "id": "HnDB36CLTIxL"
      },
      "outputs": [],
      "source": [
        "import numpy as np\n",
        "import pandas as pd\n",
        "import geopandas as gpd\n",
        "from pathlib import Path\n"
      ]
    },
    {
      "cell_type": "markdown",
      "metadata": {
        "id": "JMxfkSGDhuDI"
      },
      "source": [
        "# Load data"
      ]
    },
    {
      "cell_type": "code",
      "execution_count": 20,
      "metadata": {},
      "outputs": [],
      "source": [
        "gender_raw = pd.read_csv(Path(INPUT_DATA_PATH) / f'population/{YEAR}_pad_mdbas_sexe.csv')\n",
        "# Pivot the DataFrame to have 'MALE' and 'FEMALE' columns\n",
        "gender = gender_raw.pivot_table(index=[ 'Seccio_Censal'], columns='SEXE', values='Valor').reset_index().copy()\n",
        "gender.columns = [ 'Seccio_Censal', 'FEMALE', 'MALE']\n",
        "gender['TOTAL'] = gender['MALE'] + gender['FEMALE']\n",
        "gender['YEAR'] = YEAR"
      ]
    },
    {
      "cell_type": "code",
      "execution_count": 10,
      "metadata": {},
      "outputs": [],
      "source": [
        "# Load censal areas\n",
        "censal_areas = gpd.read_file(Path(INPUT_DATA_PATH)/'bcn_unitats_adm/0301040100_SecCens_UNITATS_ADM.shp')\n",
        "censal_areas['Seccio_Censal']=(censal_areas['DISTRICTE']+censal_areas['SEC_CENS']).astype(int)\n",
        "censal_areas = censal_areas[['Seccio_Censal','geometry']]\n",
        "censal_areas = censal_areas.to_crs('EPSG:4326')"
      ]
    },
    {
      "cell_type": "markdown",
      "metadata": {
        "id": "ryt3odo6h1W5"
      },
      "source": [
        "# Data management"
      ]
    },
    {
      "cell_type": "markdown",
      "metadata": {},
      "source": [
        "## Explore data"
      ]
    },
    {
      "cell_type": "code",
      "execution_count": 21,
      "metadata": {
        "colab": {
          "base_uri": "https://localhost:8080/",
          "height": 429
        },
        "id": "F2PgA3ZMryBa",
        "outputId": "2ce67901-0e0d-4949-f411-7732f07e3c38"
      },
      "outputs": [
        {
          "name": "stdout",
          "output_type": "stream",
          "text": [
            "(1068, 5)\n",
            "Index(['Seccio_Censal', 'FEMALE', 'MALE', 'TOTAL', 'YEAR'], dtype='object')\n"
          ]
        },
        {
          "data": {
            "text/html": [
              "<div>\n",
              "<style scoped>\n",
              "    .dataframe tbody tr th:only-of-type {\n",
              "        vertical-align: middle;\n",
              "    }\n",
              "\n",
              "    .dataframe tbody tr th {\n",
              "        vertical-align: top;\n",
              "    }\n",
              "\n",
              "    .dataframe thead th {\n",
              "        text-align: right;\n",
              "    }\n",
              "</style>\n",
              "<table border=\"1\" class=\"dataframe\">\n",
              "  <thead>\n",
              "    <tr style=\"text-align: right;\">\n",
              "      <th></th>\n",
              "      <th>Seccio_Censal</th>\n",
              "      <th>FEMALE</th>\n",
              "      <th>MALE</th>\n",
              "      <th>TOTAL</th>\n",
              "      <th>YEAR</th>\n",
              "    </tr>\n",
              "  </thead>\n",
              "  <tbody>\n",
              "    <tr>\n",
              "      <th>0</th>\n",
              "      <td>1001</td>\n",
              "      <td>628</td>\n",
              "      <td>681</td>\n",
              "      <td>1309</td>\n",
              "      <td>2024</td>\n",
              "    </tr>\n",
              "    <tr>\n",
              "      <th>1</th>\n",
              "      <td>1002</td>\n",
              "      <td>625</td>\n",
              "      <td>657</td>\n",
              "      <td>1282</td>\n",
              "      <td>2024</td>\n",
              "    </tr>\n",
              "    <tr>\n",
              "      <th>2</th>\n",
              "      <td>1003</td>\n",
              "      <td>1663</td>\n",
              "      <td>1837</td>\n",
              "      <td>3500</td>\n",
              "      <td>2024</td>\n",
              "    </tr>\n",
              "    <tr>\n",
              "      <th>3</th>\n",
              "      <td>1004</td>\n",
              "      <td>1396</td>\n",
              "      <td>1603</td>\n",
              "      <td>2999</td>\n",
              "      <td>2024</td>\n",
              "    </tr>\n",
              "    <tr>\n",
              "      <th>4</th>\n",
              "      <td>1005</td>\n",
              "      <td>1109</td>\n",
              "      <td>1217</td>\n",
              "      <td>2326</td>\n",
              "      <td>2024</td>\n",
              "    </tr>\n",
              "  </tbody>\n",
              "</table>\n",
              "</div>"
            ],
            "text/plain": [
              "   Seccio_Censal  FEMALE  MALE  TOTAL  YEAR\n",
              "0           1001     628   681   1309  2024\n",
              "1           1002     625   657   1282  2024\n",
              "2           1003    1663  1837   3500  2024\n",
              "3           1004    1396  1603   2999  2024\n",
              "4           1005    1109  1217   2326  2024"
            ]
          },
          "execution_count": 21,
          "metadata": {},
          "output_type": "execute_result"
        }
      ],
      "source": [
        "#Explore\n",
        "print(gender.shape)\n",
        "print(gender.columns)\n",
        "gender.head()"
      ]
    },
    {
      "cell_type": "markdown",
      "metadata": {},
      "source": [
        "## Join data"
      ]
    },
    {
      "cell_type": "code",
      "execution_count": 22,
      "metadata": {},
      "outputs": [],
      "source": [
        "# Merge the two dataframes\n",
        "g_gender = pd.merge(censal_areas,gender, on=['Seccio_Censal'])\n",
        "g_gender = gpd.GeoDataFrame(g_gender, geometry='geometry')\n"
      ]
    },
    {
      "cell_type": "markdown",
      "metadata": {
        "id": "a_ZrQ64i7plQ"
      },
      "source": [
        "## Save output"
      ]
    },
    {
      "cell_type": "code",
      "execution_count": 24,
      "metadata": {
        "id": "6bj2-CeR7owh"
      },
      "outputs": [],
      "source": [
        "if SAVE_OUTPUT:\n",
        "    g_gender.to_parquet(f'{OUTPUT_DATA_PATH}/population{YEAR}_.parquet')"
      ]
    },
    {
      "cell_type": "markdown",
      "metadata": {
        "id": "xT_uQYZSbEty"
      },
      "source": [
        "## Watermark"
      ]
    },
    {
      "cell_type": "code",
      "execution_count": null,
      "metadata": {
        "id": "iY8ZyfnAbFoO"
      },
      "outputs": [],
      "source": [
        "!python -m pip install watermark --quiet"
      ]
    },
    {
      "cell_type": "code",
      "execution_count": null,
      "metadata": {
        "id": "Cd2yG3BgbGE3"
      },
      "outputs": [],
      "source": [
        "%load_ext watermark"
      ]
    },
    {
      "cell_type": "code",
      "execution_count": null,
      "metadata": {
        "colab": {
          "base_uri": "https://localhost:8080/"
        },
        "id": "Ef6VBO1QbI-_",
        "outputId": "9551ad1c-634d-4484-dc4a-f6a971884ccc"
      },
      "outputs": [
        {
          "name": "stdout",
          "output_type": "stream",
          "text": [
            "Last updated: 2024-08-23T15:55:33.641180+00:00\n",
            "\n",
            "Python implementation: CPython\n",
            "Python version       : 3.10.12\n",
            "IPython version      : 7.34.0\n",
            "\n",
            "Compiler    : GCC 11.4.0\n",
            "OS          : Linux\n",
            "Release     : 6.1.85+\n",
            "Machine     : x86_64\n",
            "Processor   : x86_64\n",
            "CPU cores   : 2\n",
            "Architecture: 64bit\n",
            "\n"
          ]
        }
      ],
      "source": [
        "%watermark"
      ]
    },
    {
      "cell_type": "code",
      "execution_count": null,
      "metadata": {
        "colab": {
          "base_uri": "https://localhost:8080/"
        },
        "id": "EW9nOXoNbKrP",
        "outputId": "b68ae236-6367-4c9a-b720-5978d2bbcbf4"
      },
      "outputs": [
        {
          "name": "stdout",
          "output_type": "stream",
          "text": [
            "json  : 2.0.9\n",
            "pandas: 2.1.4\n",
            "google: 2.0.3\n",
            "numpy : 1.26.4\n",
            "\n"
          ]
        }
      ],
      "source": [
        "%watermark --iversions"
      ]
    },
    {
      "cell_type": "code",
      "execution_count": null,
      "metadata": {
        "colab": {
          "base_uri": "https://localhost:8080/"
        },
        "id": "2LOCLnX0bMxt",
        "outputId": "e68400d8-8277-4988-d42c-15e02490cce1"
      },
      "outputs": [
        {
          "name": "stdout",
          "output_type": "stream",
          "text": [
            "No LSB modules are available.\n",
            "Distributor ID:\tUbuntu\n",
            "Description:\tUbuntu 22.04.3 LTS\n",
            "Release:\t22.04\n",
            "Codename:\tjammy\n"
          ]
        }
      ],
      "source": [
        "!lsb_release -a"
      ]
    }
  ],
  "metadata": {
    "colab": {
      "provenance": [],
      "toc_visible": true
    },
    "kernelspec": {
      "display_name": "ridership_model",
      "language": "python",
      "name": "python3"
    },
    "language_info": {
      "codemirror_mode": {
        "name": "ipython",
        "version": 3
      },
      "file_extension": ".py",
      "mimetype": "text/x-python",
      "name": "python",
      "nbconvert_exporter": "python",
      "pygments_lexer": "ipython3",
      "version": "3.11.9"
    }
  },
  "nbformat": 4,
  "nbformat_minor": 0
}
