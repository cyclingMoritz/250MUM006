{
 "cells": [
  {
   "cell_type": "markdown",
   "id": "8828c8ef",
   "metadata": {
    "id": "rP8SuqILhaPo",
    "papermill": {
     "duration": 0.004067,
     "end_time": "2025-04-09T15:15:39.079905",
     "exception": false,
     "start_time": "2025-04-09T15:15:39.075838",
     "status": "completed"
    },
    "tags": []
   },
   "source": [
    "# Config"
   ]
  },
  {
   "cell_type": "code",
   "execution_count": 1,
   "id": "c6778bfd",
   "metadata": {
    "execution": {
     "iopub.execute_input": "2025-04-09T15:15:39.096393Z",
     "iopub.status.busy": "2025-04-09T15:15:39.096393Z",
     "iopub.status.idle": "2025-04-09T15:15:39.108395Z",
     "shell.execute_reply": "2025-04-09T15:15:39.108395Z"
    },
    "id": "I_hrwU9x479z",
    "papermill": {
     "duration": 0.02244,
     "end_time": "2025-04-09T15:15:39.110404",
     "exception": false,
     "start_time": "2025-04-09T15:15:39.087964",
     "status": "completed"
    },
    "tags": [
     "parameters"
    ]
   },
   "outputs": [],
   "source": [
    "# parameters\n",
    "SAVE_OUTPUT = True\n",
    "SIZE_PLOTS = (12,10)\n",
    "BUFFER_SIZE = 402.336 \n",
    "YEAR=2024\n",
    "\n",
    "#Location of the data\n",
    "INPUT_DATA_PATH = \"../data/external/\"\n",
    "OUTPUT_DATA_PATH = \"../data/interim/population\""
   ]
  },
  {
   "cell_type": "code",
   "execution_count": 2,
   "id": "eecd0ccd",
   "metadata": {
    "execution": {
     "iopub.execute_input": "2025-04-09T15:15:39.125322Z",
     "iopub.status.busy": "2025-04-09T15:15:39.125322Z",
     "iopub.status.idle": "2025-04-09T15:15:39.129227Z",
     "shell.execute_reply": "2025-04-09T15:15:39.129227Z"
    },
    "papermill": {
     "duration": 0.014396,
     "end_time": "2025-04-09T15:15:39.131286",
     "exception": false,
     "start_time": "2025-04-09T15:15:39.116890",
     "status": "completed"
    },
    "tags": [
     "injected-parameters"
    ]
   },
   "outputs": [],
   "source": [
    "# Parameters\n",
    "YEAR = 2024\n",
    "SAVE_OUTPUT = True\n"
   ]
  },
  {
   "cell_type": "code",
   "execution_count": 3,
   "id": "2f1d75a4",
   "metadata": {
    "execution": {
     "iopub.execute_input": "2025-04-09T15:15:39.143413Z",
     "iopub.status.busy": "2025-04-09T15:15:39.143413Z",
     "iopub.status.idle": "2025-04-09T15:15:40.138811Z",
     "shell.execute_reply": "2025-04-09T15:15:40.138811Z"
    },
    "id": "HnDB36CLTIxL",
    "papermill": {
     "duration": 1.004529,
     "end_time": "2025-04-09T15:15:40.141900",
     "exception": false,
     "start_time": "2025-04-09T15:15:39.137371",
     "status": "completed"
    },
    "tags": []
   },
   "outputs": [],
   "source": [
    "import numpy as np\n",
    "import pandas as pd\n",
    "import geopandas as gpd\n",
    "from pathlib import Path\n"
   ]
  },
  {
   "cell_type": "markdown",
   "id": "8b1e750e",
   "metadata": {
    "id": "JMxfkSGDhuDI",
    "papermill": {
     "duration": 0.004398,
     "end_time": "2025-04-09T15:15:40.152563",
     "exception": false,
     "start_time": "2025-04-09T15:15:40.148165",
     "status": "completed"
    },
    "tags": []
   },
   "source": [
    "# Load data"
   ]
  },
  {
   "cell_type": "code",
   "execution_count": 4,
   "id": "712443fe",
   "metadata": {
    "execution": {
     "iopub.execute_input": "2025-04-09T15:15:40.169896Z",
     "iopub.status.busy": "2025-04-09T15:15:40.167842Z",
     "iopub.status.idle": "2025-04-09T15:15:40.197214Z",
     "shell.execute_reply": "2025-04-09T15:15:40.197214Z"
    },
    "papermill": {
     "duration": 0.041245,
     "end_time": "2025-04-09T15:15:40.200623",
     "exception": false,
     "start_time": "2025-04-09T15:15:40.159378",
     "status": "completed"
    },
    "tags": []
   },
   "outputs": [],
   "source": [
    "gender_raw = pd.read_csv(Path(INPUT_DATA_PATH) / f'population/{YEAR}_pad_mdbas_sexe.csv')\n",
    "# Pivot the DataFrame to have 'MALE' and 'FEMALE' columns\n",
    "gender = gender_raw.pivot_table(index=[ 'Seccio_Censal'], columns='SEXE', values='Valor').reset_index().copy()\n",
    "gender.columns = [ 'Seccio_Censal', 'FEMALE', 'MALE']\n",
    "gender['TOTAL'] = gender['MALE'] + gender['FEMALE']\n",
    "gender['YEAR'] = YEAR"
   ]
  },
  {
   "cell_type": "code",
   "execution_count": 5,
   "id": "58bfebe7",
   "metadata": {
    "execution": {
     "iopub.execute_input": "2025-04-09T15:15:40.212699Z",
     "iopub.status.busy": "2025-04-09T15:15:40.212699Z",
     "iopub.status.idle": "2025-04-09T15:15:41.642173Z",
     "shell.execute_reply": "2025-04-09T15:15:41.642173Z"
    },
    "papermill": {
     "duration": 1.440346,
     "end_time": "2025-04-09T15:15:41.644994",
     "exception": false,
     "start_time": "2025-04-09T15:15:40.204648",
     "status": "completed"
    },
    "tags": []
   },
   "outputs": [],
   "source": [
    "# Load censal areas\n",
    "censal_areas = gpd.read_file(Path(INPUT_DATA_PATH)/'bcn_unitats_adm/0301040100_SecCens_UNITATS_ADM.shp')\n",
    "censal_areas['Seccio_Censal']=(censal_areas['DISTRICTE']+censal_areas['SEC_CENS']).astype(int)\n",
    "censal_areas = censal_areas[['Seccio_Censal','geometry']]\n",
    "censal_areas = censal_areas.to_crs('EPSG:4326')"
   ]
  },
  {
   "cell_type": "markdown",
   "id": "f2f51b74",
   "metadata": {
    "id": "ryt3odo6h1W5",
    "papermill": {
     "duration": 0.007182,
     "end_time": "2025-04-09T15:15:41.657630",
     "exception": false,
     "start_time": "2025-04-09T15:15:41.650448",
     "status": "completed"
    },
    "tags": []
   },
   "source": [
    "# Data management"
   ]
  },
  {
   "cell_type": "markdown",
   "id": "8fffba42",
   "metadata": {
    "papermill": {
     "duration": 0.006041,
     "end_time": "2025-04-09T15:15:41.669715",
     "exception": false,
     "start_time": "2025-04-09T15:15:41.663674",
     "status": "completed"
    },
    "tags": []
   },
   "source": [
    "## Explore data"
   ]
  },
  {
   "cell_type": "code",
   "execution_count": 6,
   "id": "59733df2",
   "metadata": {
    "colab": {
     "base_uri": "https://localhost:8080/",
     "height": 429
    },
    "execution": {
     "iopub.execute_input": "2025-04-09T15:15:41.681685Z",
     "iopub.status.busy": "2025-04-09T15:15:41.681685Z",
     "iopub.status.idle": "2025-04-09T15:15:41.697729Z",
     "shell.execute_reply": "2025-04-09T15:15:41.697729Z"
    },
    "id": "F2PgA3ZMryBa",
    "outputId": "2ce67901-0e0d-4949-f411-7732f07e3c38",
    "papermill": {
     "duration": 0.025264,
     "end_time": "2025-04-09T15:15:41.700844",
     "exception": false,
     "start_time": "2025-04-09T15:15:41.675580",
     "status": "completed"
    },
    "tags": []
   },
   "outputs": [
    {
     "name": "stdout",
     "output_type": "stream",
     "text": [
      "(1068, 5)\n",
      "Index(['Seccio_Censal', 'FEMALE', 'MALE', 'TOTAL', 'YEAR'], dtype='object')\n"
     ]
    },
    {
     "data": {
      "text/html": [
       "<div>\n",
       "<style scoped>\n",
       "    .dataframe tbody tr th:only-of-type {\n",
       "        vertical-align: middle;\n",
       "    }\n",
       "\n",
       "    .dataframe tbody tr th {\n",
       "        vertical-align: top;\n",
       "    }\n",
       "\n",
       "    .dataframe thead th {\n",
       "        text-align: right;\n",
       "    }\n",
       "</style>\n",
       "<table border=\"1\" class=\"dataframe\">\n",
       "  <thead>\n",
       "    <tr style=\"text-align: right;\">\n",
       "      <th></th>\n",
       "      <th>Seccio_Censal</th>\n",
       "      <th>FEMALE</th>\n",
       "      <th>MALE</th>\n",
       "      <th>TOTAL</th>\n",
       "      <th>YEAR</th>\n",
       "    </tr>\n",
       "  </thead>\n",
       "  <tbody>\n",
       "    <tr>\n",
       "      <th>0</th>\n",
       "      <td>1001</td>\n",
       "      <td>628</td>\n",
       "      <td>681</td>\n",
       "      <td>1309</td>\n",
       "      <td>2024</td>\n",
       "    </tr>\n",
       "    <tr>\n",
       "      <th>1</th>\n",
       "      <td>1002</td>\n",
       "      <td>625</td>\n",
       "      <td>657</td>\n",
       "      <td>1282</td>\n",
       "      <td>2024</td>\n",
       "    </tr>\n",
       "    <tr>\n",
       "      <th>2</th>\n",
       "      <td>1003</td>\n",
       "      <td>1663</td>\n",
       "      <td>1837</td>\n",
       "      <td>3500</td>\n",
       "      <td>2024</td>\n",
       "    </tr>\n",
       "    <tr>\n",
       "      <th>3</th>\n",
       "      <td>1004</td>\n",
       "      <td>1396</td>\n",
       "      <td>1603</td>\n",
       "      <td>2999</td>\n",
       "      <td>2024</td>\n",
       "    </tr>\n",
       "    <tr>\n",
       "      <th>4</th>\n",
       "      <td>1005</td>\n",
       "      <td>1109</td>\n",
       "      <td>1217</td>\n",
       "      <td>2326</td>\n",
       "      <td>2024</td>\n",
       "    </tr>\n",
       "  </tbody>\n",
       "</table>\n",
       "</div>"
      ],
      "text/plain": [
       "   Seccio_Censal  FEMALE  MALE  TOTAL  YEAR\n",
       "0           1001     628   681   1309  2024\n",
       "1           1002     625   657   1282  2024\n",
       "2           1003    1663  1837   3500  2024\n",
       "3           1004    1396  1603   2999  2024\n",
       "4           1005    1109  1217   2326  2024"
      ]
     },
     "execution_count": 6,
     "metadata": {},
     "output_type": "execute_result"
    }
   ],
   "source": [
    "#Explore\n",
    "print(gender.shape)\n",
    "print(gender.columns)\n",
    "gender.head()"
   ]
  },
  {
   "cell_type": "markdown",
   "id": "c9e9ba0e",
   "metadata": {
    "papermill": {
     "duration": 0.005921,
     "end_time": "2025-04-09T15:15:41.712802",
     "exception": false,
     "start_time": "2025-04-09T15:15:41.706881",
     "status": "completed"
    },
    "tags": []
   },
   "source": [
    "## Join data"
   ]
  },
  {
   "cell_type": "code",
   "execution_count": 7,
   "id": "8edc1fa5",
   "metadata": {
    "execution": {
     "iopub.execute_input": "2025-04-09T15:15:41.724473Z",
     "iopub.status.busy": "2025-04-09T15:15:41.724473Z",
     "iopub.status.idle": "2025-04-09T15:15:41.736006Z",
     "shell.execute_reply": "2025-04-09T15:15:41.736006Z"
    },
    "papermill": {
     "duration": 0.021285,
     "end_time": "2025-04-09T15:15:41.738085",
     "exception": false,
     "start_time": "2025-04-09T15:15:41.716800",
     "status": "completed"
    },
    "tags": []
   },
   "outputs": [],
   "source": [
    "# Merge the two dataframes\n",
    "g_gender = pd.merge(censal_areas,gender, on=['Seccio_Censal'])\n",
    "g_gender = gpd.GeoDataFrame(g_gender, geometry='geometry')\n"
   ]
  },
  {
   "cell_type": "markdown",
   "id": "dfea789b",
   "metadata": {
    "id": "a_ZrQ64i7plQ",
    "papermill": {
     "duration": 0.008908,
     "end_time": "2025-04-09T15:15:41.752024",
     "exception": false,
     "start_time": "2025-04-09T15:15:41.743116",
     "status": "completed"
    },
    "tags": []
   },
   "source": [
    "## Save output"
   ]
  },
  {
   "cell_type": "code",
   "execution_count": 8,
   "id": "d88ed0fe",
   "metadata": {
    "execution": {
     "iopub.execute_input": "2025-04-09T15:15:41.770397Z",
     "iopub.status.busy": "2025-04-09T15:15:41.770397Z",
     "iopub.status.idle": "2025-04-09T15:15:41.824408Z",
     "shell.execute_reply": "2025-04-09T15:15:41.824408Z"
    },
    "id": "6bj2-CeR7owh",
    "papermill": {
     "duration": 0.066535,
     "end_time": "2025-04-09T15:15:41.824408",
     "exception": false,
     "start_time": "2025-04-09T15:15:41.757873",
     "status": "completed"
    },
    "tags": []
   },
   "outputs": [],
   "source": [
    "if SAVE_OUTPUT:\n",
    "    g_gender.to_parquet(f'{OUTPUT_DATA_PATH}/population{YEAR}_.parquet')"
   ]
  },
  {
   "cell_type": "markdown",
   "id": "e9021d43",
   "metadata": {
    "id": "xT_uQYZSbEty",
    "papermill": {
     "duration": 0.007036,
     "end_time": "2025-04-09T15:15:41.839453",
     "exception": false,
     "start_time": "2025-04-09T15:15:41.832417",
     "status": "completed"
    },
    "tags": []
   },
   "source": [
    "## Watermark"
   ]
  },
  {
   "cell_type": "code",
   "execution_count": 9,
   "id": "d69422b1",
   "metadata": {
    "execution": {
     "iopub.execute_input": "2025-04-09T15:15:41.856058Z",
     "iopub.status.busy": "2025-04-09T15:15:41.856058Z",
     "iopub.status.idle": "2025-04-09T15:15:46.409788Z",
     "shell.execute_reply": "2025-04-09T15:15:46.409788Z"
    },
    "id": "iY8ZyfnAbFoO",
    "papermill": {
     "duration": 4.566168,
     "end_time": "2025-04-09T15:15:46.411533",
     "exception": false,
     "start_time": "2025-04-09T15:15:41.845365",
     "status": "completed"
    },
    "tags": []
   },
   "outputs": [],
   "source": [
    "!python -m pip install watermark --quiet"
   ]
  },
  {
   "cell_type": "code",
   "execution_count": 10,
   "id": "c0b6082c",
   "metadata": {
    "execution": {
     "iopub.execute_input": "2025-04-09T15:15:46.428599Z",
     "iopub.status.busy": "2025-04-09T15:15:46.427464Z",
     "iopub.status.idle": "2025-04-09T15:15:46.453787Z",
     "shell.execute_reply": "2025-04-09T15:15:46.453787Z"
    },
    "id": "Cd2yG3BgbGE3",
    "papermill": {
     "duration": 0.033463,
     "end_time": "2025-04-09T15:15:46.453787",
     "exception": false,
     "start_time": "2025-04-09T15:15:46.420324",
     "status": "completed"
    },
    "tags": []
   },
   "outputs": [],
   "source": [
    "%load_ext watermark"
   ]
  },
  {
   "cell_type": "code",
   "execution_count": 11,
   "id": "19155975",
   "metadata": {
    "colab": {
     "base_uri": "https://localhost:8080/"
    },
    "execution": {
     "iopub.execute_input": "2025-04-09T15:15:46.470185Z",
     "iopub.status.busy": "2025-04-09T15:15:46.470185Z",
     "iopub.status.idle": "2025-04-09T15:15:46.476466Z",
     "shell.execute_reply": "2025-04-09T15:15:46.476466Z"
    },
    "id": "Ef6VBO1QbI-_",
    "outputId": "9551ad1c-634d-4484-dc4a-f6a971884ccc",
    "papermill": {
     "duration": 0.016329,
     "end_time": "2025-04-09T15:15:46.478216",
     "exception": false,
     "start_time": "2025-04-09T15:15:46.461887",
     "status": "completed"
    },
    "tags": []
   },
   "outputs": [
    {
     "name": "stdout",
     "output_type": "stream",
     "text": [
      "Last updated: 2025-04-09T17:15:46.473206+02:00\n",
      "\n",
      "Python implementation: CPython\n",
      "Python version       : 3.11.9\n",
      "IPython version      : 8.25.0\n",
      "\n",
      "Compiler    : MSC v.1938 64 bit (AMD64)\n",
      "OS          : Windows\n",
      "Release     : 10\n",
      "Machine     : AMD64\n",
      "Processor   : AMD64 Family 25 Model 68 Stepping 1, AuthenticAMD\n",
      "CPU cores   : 16\n",
      "Architecture: 64bit\n",
      "\n"
     ]
    }
   ],
   "source": [
    "%watermark"
   ]
  },
  {
   "cell_type": "code",
   "execution_count": 12,
   "id": "6bd76b82",
   "metadata": {
    "colab": {
     "base_uri": "https://localhost:8080/"
    },
    "execution": {
     "iopub.execute_input": "2025-04-09T15:15:46.490860Z",
     "iopub.status.busy": "2025-04-09T15:15:46.490860Z",
     "iopub.status.idle": "2025-04-09T15:15:46.503579Z",
     "shell.execute_reply": "2025-04-09T15:15:46.503579Z"
    },
    "id": "EW9nOXoNbKrP",
    "outputId": "b68ae236-6367-4c9a-b720-5978d2bbcbf4",
    "papermill": {
     "duration": 0.021344,
     "end_time": "2025-04-09T15:15:46.503579",
     "exception": false,
     "start_time": "2025-04-09T15:15:46.482235",
     "status": "completed"
    },
    "tags": []
   },
   "outputs": [
    {
     "name": "stdout",
     "output_type": "stream",
     "text": [
      "geopandas: 0.13.2\n",
      "numpy    : 1.24.4\n",
      "pandas   : 2.0.3\n",
      "\n"
     ]
    }
   ],
   "source": [
    "%watermark --iversions"
   ]
  },
  {
   "cell_type": "code",
   "execution_count": 13,
   "id": "74943f8b",
   "metadata": {
    "colab": {
     "base_uri": "https://localhost:8080/"
    },
    "execution": {
     "iopub.execute_input": "2025-04-09T15:15:46.515794Z",
     "iopub.status.busy": "2025-04-09T15:15:46.515794Z",
     "iopub.status.idle": "2025-04-09T15:15:46.556018Z",
     "shell.execute_reply": "2025-04-09T15:15:46.556018Z"
    },
    "id": "2LOCLnX0bMxt",
    "outputId": "e68400d8-8277-4988-d42c-15e02490cce1",
    "papermill": {
     "duration": 0.048354,
     "end_time": "2025-04-09T15:15:46.558026",
     "exception": false,
     "start_time": "2025-04-09T15:15:46.509672",
     "status": "completed"
    },
    "tags": []
   },
   "outputs": [
    {
     "name": "stderr",
     "output_type": "stream",
     "text": [
      "\"lsb_release\" no se reconoce como un comando interno o externo,\n",
      "programa o archivo por lotes ejecutable.\n"
     ]
    }
   ],
   "source": [
    "!lsb_release -a"
   ]
  }
 ],
 "metadata": {
  "colab": {
   "provenance": [],
   "toc_visible": true
  },
  "kernelspec": {
   "display_name": "ridership_model",
   "language": "python",
   "name": "python3"
  },
  "language_info": {
   "codemirror_mode": {
    "name": "ipython",
    "version": 3
   },
   "file_extension": ".py",
   "mimetype": "text/x-python",
   "name": "python",
   "nbconvert_exporter": "python",
   "pygments_lexer": "ipython3",
   "version": "3.11.9"
  },
  "papermill": {
   "default_parameters": {},
   "duration": 9.841969,
   "end_time": "2025-04-09T15:15:47.003976",
   "environment_variables": {},
   "exception": null,
   "input_path": "001-luca-explore-population.ipynb",
   "output_path": "001-luca-explore-population.ipynb",
   "parameters": {
    "SAVE_OUTPUT": true,
    "YEAR": 2024
   },
   "start_time": "2025-04-09T15:15:37.162007",
   "version": "2.6.0"
  }
 },
 "nbformat": 4,
 "nbformat_minor": 5
}