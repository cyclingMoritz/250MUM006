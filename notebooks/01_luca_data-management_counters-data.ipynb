{
 "cells": [
  {
   "cell_type": "markdown",
   "id": "6602c9b6",
   "metadata": {
    "id": "rP8SuqILhaPo",
    "papermill": {
     "duration": 0.007952,
     "end_time": "2024-10-20T09:38:10.086529",
     "exception": false,
     "start_time": "2024-10-20T09:38:10.078577",
     "status": "completed"
    },
    "tags": []
   },
   "source": [
    "## Config"
   ]
  },
  {
   "cell_type": "code",
   "execution_count": 28,
   "id": "9063fa54",
   "metadata": {
    "execution": {
     "iopub.execute_input": "2024-10-20T09:38:10.105352Z",
     "iopub.status.busy": "2024-10-20T09:38:10.104774Z",
     "iopub.status.idle": "2024-10-20T09:38:10.113709Z",
     "shell.execute_reply": "2024-10-20T09:38:10.113709Z"
    },
    "id": "I_hrwU9x479z",
    "papermill": {
     "duration": 0.026937,
     "end_time": "2024-10-20T09:38:10.116802",
     "exception": false,
     "start_time": "2024-10-20T09:38:10.089865",
     "status": "completed"
    },
    "tags": [
     "parameters"
    ]
   },
   "outputs": [],
   "source": [
    "# parameters\n",
    "SAVE_OUTPUT = True\n",
    "SIZE_PLOTS = (12,10)\n",
    "YEAR = 2021\n",
    "\n",
    "#Location of the data\n",
    "INPUT_DATA_PATH = \"../data/raw/\"\n",
    "INPUT_PROCESSED_DATA_PATH = \"../data/processed/\"\n",
    "OUTPUT_DATA_PATH = \"../data/interim/\"\n"
   ]
  },
  {
   "cell_type": "code",
   "execution_count": 29,
   "id": "d09bf494",
   "metadata": {
    "execution": {
     "iopub.execute_input": "2024-10-20T09:38:10.153842Z",
     "iopub.status.busy": "2024-10-20T09:38:10.153842Z",
     "iopub.status.idle": "2024-10-20T09:38:10.894959Z",
     "shell.execute_reply": "2024-10-20T09:38:10.894959Z"
    },
    "id": "HnDB36CLTIxL",
    "papermill": {
     "duration": 0.752187,
     "end_time": "2024-10-20T09:38:10.896994",
     "exception": false,
     "start_time": "2024-10-20T09:38:10.144807",
     "status": "completed"
    },
    "tags": []
   },
   "outputs": [],
   "source": [
    "import numpy as np\n",
    "import pandas as pd\n",
    "import geopandas as gpd\n",
    "\n",
    "from pathlib import Path\n",
    "import json"
   ]
  },
  {
   "cell_type": "markdown",
   "id": "82ae44ba",
   "metadata": {
    "id": "JMxfkSGDhuDI",
    "papermill": {
     "duration": 0.008849,
     "end_time": "2024-10-20T09:38:10.912895",
     "exception": false,
     "start_time": "2024-10-20T09:38:10.904046",
     "status": "completed"
    },
    "tags": []
   },
   "source": [
    "## Load data"
   ]
  },
  {
   "cell_type": "code",
   "execution_count": 30,
   "id": "c217e546",
   "metadata": {
    "execution": {
     "iopub.execute_input": "2024-10-20T09:38:10.930092Z",
     "iopub.status.busy": "2024-10-20T09:38:10.930092Z",
     "iopub.status.idle": "2024-10-20T09:38:18.117095Z",
     "shell.execute_reply": "2024-10-20T09:38:18.117095Z"
    },
    "papermill": {
     "duration": 7.201632,
     "end_time": "2024-10-20T09:38:18.119229",
     "exception": false,
     "start_time": "2024-10-20T09:38:10.917597",
     "status": "completed"
    },
    "tags": []
   },
   "outputs": [],
   "source": [
    "\n",
    "if YEAR != 2023:\n",
    "    colnames=['id', 'date', 'weekday', 'hour', 'intensity', 'error'] \n",
    "    counters_data = pd.read_csv(f\"{INPUT_DATA_PATH}/{YEAR}.csv\", sep=\";\",names=colnames, header=None)\n",
    "else: \n",
    "    counters_data = pd.read_csv(f\"{INPUT_DATA_PATH}/{YEAR}.csv\", sep=\";\")"
   ]
  },
  {
   "cell_type": "markdown",
   "id": "f5dbffce",
   "metadata": {
    "id": "ryt3odo6h1W5",
    "papermill": {
     "duration": 0.007864,
     "end_time": "2024-10-20T09:38:18.135168",
     "exception": false,
     "start_time": "2024-10-20T09:38:18.127304",
     "status": "completed"
    },
    "tags": []
   },
   "source": [
    "## Data management"
   ]
  },
  {
   "cell_type": "code",
   "execution_count": 31,
   "id": "e71867f3",
   "metadata": {
    "colab": {
     "base_uri": "https://localhost:8080/",
     "height": 429
    },
    "execution": {
     "iopub.execute_input": "2024-10-20T09:38:18.152765Z",
     "iopub.status.busy": "2024-10-20T09:38:18.152765Z",
     "iopub.status.idle": "2024-10-20T09:38:18.167720Z",
     "shell.execute_reply": "2024-10-20T09:38:18.167720Z"
    },
    "id": "F2PgA3ZMryBa",
    "outputId": "2ce67901-0e0d-4949-f411-7732f07e3c38",
    "papermill": {
     "duration": 0.024872,
     "end_time": "2024-10-20T09:38:18.169019",
     "exception": false,
     "start_time": "2024-10-20T09:38:18.144147",
     "status": "completed"
    },
    "tags": []
   },
   "outputs": [
    {
     "name": "stdout",
     "output_type": "stream",
     "text": [
      "(9156288, 6)\n",
      "Index(['id', 'date', 'weekday', 'hour', 'intensity', 'error'], dtype='object')\n"
     ]
    },
    {
     "data": {
      "text/html": [
       "<div>\n",
       "<style scoped>\n",
       "    .dataframe tbody tr th:only-of-type {\n",
       "        vertical-align: middle;\n",
       "    }\n",
       "\n",
       "    .dataframe tbody tr th {\n",
       "        vertical-align: top;\n",
       "    }\n",
       "\n",
       "    .dataframe thead th {\n",
       "        text-align: right;\n",
       "    }\n",
       "</style>\n",
       "<table border=\"1\" class=\"dataframe\">\n",
       "  <thead>\n",
       "    <tr style=\"text-align: right;\">\n",
       "      <th></th>\n",
       "      <th>id</th>\n",
       "      <th>date</th>\n",
       "      <th>weekday</th>\n",
       "      <th>hour</th>\n",
       "      <th>intensity</th>\n",
       "      <th>error</th>\n",
       "    </tr>\n",
       "  </thead>\n",
       "  <tbody>\n",
       "    <tr>\n",
       "      <th>0</th>\n",
       "      <td>20001</td>\n",
       "      <td>2021-01-01</td>\n",
       "      <td>Domingo y Festivos</td>\n",
       "      <td>00:00:00.0000000</td>\n",
       "      <td>7</td>\n",
       "      <td>0.0</td>\n",
       "    </tr>\n",
       "    <tr>\n",
       "      <th>1</th>\n",
       "      <td>20001</td>\n",
       "      <td>2021-01-01</td>\n",
       "      <td>Domingo y Festivos</td>\n",
       "      <td>00:15:00.0000000</td>\n",
       "      <td>19</td>\n",
       "      <td>0.0</td>\n",
       "    </tr>\n",
       "    <tr>\n",
       "      <th>2</th>\n",
       "      <td>20001</td>\n",
       "      <td>2021-01-01</td>\n",
       "      <td>Domingo y Festivos</td>\n",
       "      <td>00:30:00.0000000</td>\n",
       "      <td>27</td>\n",
       "      <td>0.0</td>\n",
       "    </tr>\n",
       "    <tr>\n",
       "      <th>3</th>\n",
       "      <td>20001</td>\n",
       "      <td>2021-01-01</td>\n",
       "      <td>Domingo y Festivos</td>\n",
       "      <td>00:45:00.0000000</td>\n",
       "      <td>69</td>\n",
       "      <td>0.0</td>\n",
       "    </tr>\n",
       "    <tr>\n",
       "      <th>4</th>\n",
       "      <td>20001</td>\n",
       "      <td>2021-01-01</td>\n",
       "      <td>Domingo y Festivos</td>\n",
       "      <td>01:00:00.0000000</td>\n",
       "      <td>42</td>\n",
       "      <td>0.0</td>\n",
       "    </tr>\n",
       "  </tbody>\n",
       "</table>\n",
       "</div>"
      ],
      "text/plain": [
       "      id        date             weekday              hour  intensity  error\n",
       "0  20001  2021-01-01  Domingo y Festivos  00:00:00.0000000          7    0.0\n",
       "1  20001  2021-01-01  Domingo y Festivos  00:15:00.0000000         19    0.0\n",
       "2  20001  2021-01-01  Domingo y Festivos  00:30:00.0000000         27    0.0\n",
       "3  20001  2021-01-01  Domingo y Festivos  00:45:00.0000000         69    0.0\n",
       "4  20001  2021-01-01  Domingo y Festivos  01:00:00.0000000         42    0.0"
      ]
     },
     "execution_count": 31,
     "metadata": {},
     "output_type": "execute_result"
    }
   ],
   "source": [
    "print(counters_data.shape)\n",
    "print(counters_data.columns)\n",
    "counters_data.head()"
   ]
  },
  {
   "cell_type": "code",
   "execution_count": 32,
   "id": "0d9f3c25",
   "metadata": {
    "execution": {
     "iopub.execute_input": "2024-10-20T09:38:18.186089Z",
     "iopub.status.busy": "2024-10-20T09:38:18.184981Z",
     "iopub.status.idle": "2024-10-20T09:38:18.191685Z",
     "shell.execute_reply": "2024-10-20T09:38:18.191685Z"
    },
    "papermill": {
     "duration": 0.016845,
     "end_time": "2024-10-20T09:38:18.192843",
     "exception": false,
     "start_time": "2024-10-20T09:38:18.175998",
     "status": "completed"
    },
    "tags": []
   },
   "outputs": [
    {
     "data": {
      "text/plain": [
       "id             int64\n",
       "date          object\n",
       "weekday       object\n",
       "hour          object\n",
       "intensity      int64\n",
       "error        float64\n",
       "dtype: object"
      ]
     },
     "execution_count": 32,
     "metadata": {},
     "output_type": "execute_result"
    }
   ],
   "source": [
    "counters_data.dtypes"
   ]
  },
  {
   "cell_type": "markdown",
   "id": "5c41e7e3",
   "metadata": {},
   "source": [
    "### Duplicates"
   ]
  },
  {
   "cell_type": "code",
   "execution_count": 33,
   "id": "91ddea4a",
   "metadata": {},
   "outputs": [
    {
     "data": {
      "text/plain": [
       "(9156288, 6)"
      ]
     },
     "execution_count": 33,
     "metadata": {},
     "output_type": "execute_result"
    }
   ],
   "source": [
    "counters_data = counters_data[~counters_data[[\"id\", \"date\", \"hour\"]].duplicated()]\n",
    "counters_data.shape"
   ]
  },
  {
   "cell_type": "code",
   "execution_count": 34,
   "id": "7a7d30c1",
   "metadata": {},
   "outputs": [
    {
     "data": {
      "text/plain": [
       "268"
      ]
     },
     "execution_count": 34,
     "metadata": {},
     "output_type": "execute_result"
    }
   ],
   "source": [
    "len(counters_data[\"id\"].unique())"
   ]
  },
  {
   "cell_type": "markdown",
   "id": "d98d3aa7",
   "metadata": {
    "papermill": {
     "duration": 0.006622,
     "end_time": "2024-10-20T09:38:18.206506",
     "exception": false,
     "start_time": "2024-10-20T09:38:18.199884",
     "status": "completed"
    },
    "tags": []
   },
   "source": [
    "### Errors"
   ]
  },
  {
   "cell_type": "code",
   "execution_count": 35,
   "id": "e8fd71b3",
   "metadata": {
    "execution": {
     "iopub.execute_input": "2024-10-20T09:38:18.227742Z",
     "iopub.status.busy": "2024-10-20T09:38:18.225914Z",
     "iopub.status.idle": "2024-10-20T09:38:18.231676Z",
     "shell.execute_reply": "2024-10-20T09:38:18.230842Z"
    },
    "papermill": {
     "duration": 0.017915,
     "end_time": "2024-10-20T09:38:18.233034",
     "exception": false,
     "start_time": "2024-10-20T09:38:18.215119",
     "status": "completed"
    },
    "tags": []
   },
   "outputs": [],
   "source": [
    "counters_data_clean=counters_data\n",
    "# print(counters_data[\"error\"].value_counts(dropna=False))\n",
    "# errors=counters_data[(counters_data[\"error\"]!=0.0)&(counters_data[\"intensity\"].notna())].shape[0]/counters_data.shape[0]\n",
    "\n",
    "# print(f\"Percentage of observations where the couter was malfunctioning: {round(errors,3)}%\")"
   ]
  },
  {
   "cell_type": "code",
   "execution_count": 36,
   "id": "8d76e4d4",
   "metadata": {
    "execution": {
     "iopub.execute_input": "2024-10-20T09:38:18.253881Z",
     "iopub.status.busy": "2024-10-20T09:38:18.252676Z",
     "iopub.status.idle": "2024-10-20T09:38:18.256877Z",
     "shell.execute_reply": "2024-10-20T09:38:18.256877Z"
    },
    "papermill": {
     "duration": 0.015796,
     "end_time": "2024-10-20T09:38:18.258481",
     "exception": false,
     "start_time": "2024-10-20T09:38:18.242685",
     "status": "completed"
    },
    "tags": []
   },
   "outputs": [],
   "source": [
    "# counters_data_clean=counters_data[(counters_data[\"error\"]==0.0)|(counters_data[\"intensity\"].isna())].copy()\n",
    "# counters_data_clean=counters_data_clean.drop(columns=[\"error\"])\n"
   ]
  },
  {
   "cell_type": "markdown",
   "id": "bd92c149",
   "metadata": {
    "papermill": {
     "duration": 0.007771,
     "end_time": "2024-10-20T09:38:18.275328",
     "exception": false,
     "start_time": "2024-10-20T09:38:18.267557",
     "status": "completed"
    },
    "tags": []
   },
   "source": [
    "### Get weekday"
   ]
  },
  {
   "cell_type": "code",
   "execution_count": 37,
   "id": "2b91124c",
   "metadata": {
    "execution": {
     "iopub.execute_input": "2024-10-20T09:38:18.293290Z",
     "iopub.status.busy": "2024-10-20T09:38:18.291490Z",
     "iopub.status.idle": "2024-10-20T09:38:22.729836Z",
     "shell.execute_reply": "2024-10-20T09:38:22.729836Z"
    },
    "papermill": {
     "duration": 4.447944,
     "end_time": "2024-10-20T09:38:22.731112",
     "exception": false,
     "start_time": "2024-10-20T09:38:18.283168",
     "status": "completed"
    },
    "tags": []
   },
   "outputs": [
    {
     "data": {
      "text/plain": [
       "weekday\n",
       "Friday       1329792\n",
       "Thursday     1306176\n",
       "Monday       1305984\n",
       "Saturday     1304064\n",
       "Sunday       1304064\n",
       "Tuesday      1303104\n",
       "Wednesday    1303104\n",
       "Name: count, dtype: int64"
      ]
     },
     "execution_count": 37,
     "metadata": {},
     "output_type": "execute_result"
    }
   ],
   "source": [
    "counters_data_clean['date'] = pd.to_datetime(counters_data_clean['date'])\n",
    "counters_data_clean[\"weekday\"]=counters_data_clean[\"date\"].dt.day_name()\n",
    "counters_data_clean[\"weekday\"].value_counts()"
   ]
  },
  {
   "cell_type": "markdown",
   "id": "69586912",
   "metadata": {
    "papermill": {
     "duration": 0.008001,
     "end_time": "2024-10-20T09:38:22.747089",
     "exception": false,
     "start_time": "2024-10-20T09:38:22.739088",
     "status": "completed"
    },
    "tags": []
   },
   "source": [
    "## Estimate DBT, MBT, AADBT\n"
   ]
  },
  {
   "cell_type": "markdown",
   "id": "8fd58d6e",
   "metadata": {
    "papermill": {
     "duration": 0.008559,
     "end_time": "2024-10-20T09:38:22.764738",
     "exception": false,
     "start_time": "2024-10-20T09:38:22.756179",
     "status": "completed"
    },
    "tags": []
   },
   "source": [
    "### DBT\n"
   ]
  },
  {
   "cell_type": "code",
   "execution_count": 38,
   "id": "0ff523b3",
   "metadata": {
    "execution": {
     "iopub.execute_input": "2024-10-20T09:38:22.781979Z",
     "iopub.status.busy": "2024-10-20T09:38:22.780799Z",
     "iopub.status.idle": "2024-10-20T09:38:22.787187Z",
     "shell.execute_reply": "2024-10-20T09:38:22.787187Z"
    },
    "papermill": {
     "duration": 0.017185,
     "end_time": "2024-10-20T09:38:22.789947",
     "exception": false,
     "start_time": "2024-10-20T09:38:22.772762",
     "status": "completed"
    },
    "tags": []
   },
   "outputs": [],
   "source": [
    "def flag_insuficient_daily_data(df):\n",
    "    df['duration']=0.25\n",
    "    df_day = df.groupby(['id', 'date'])['duration'].sum().reset_index()\n",
    "    df_day=df_day.rename(columns={'duration':'Number_of_hrs_data_collected'})\n",
    "    print(df_day['Number_of_hrs_data_collected'].describe())\n",
    "\n",
    "    df=pd.merge(df, df_day, on=['id', 'date'], how='inner')\n",
    "\n",
    "    flagged_rows = df.loc[(df['Number_of_hrs_data_collected'] <= 23)]\n",
    "    non_flagged_rows = df.loc[(df['Number_of_hrs_data_collected'] > 23)]\n",
    "    print('Number of flagged rows:', flagged_rows.shape[0], 'Number of non-flagged rows:', non_flagged_rows.shape[0], 'Total rows:', df.shape[0], 'The sum of flagged and non-flagged rows is equal to the total rows:', flagged_rows.shape[0] + non_flagged_rows.shape[0] == df.shape[0])\n",
    "    return non_flagged_rows,flagged_rows \n"
   ]
  },
  {
   "cell_type": "code",
   "execution_count": 39,
   "id": "77efbae4",
   "metadata": {
    "execution": {
     "iopub.execute_input": "2024-10-20T09:38:22.803972Z",
     "iopub.status.busy": "2024-10-20T09:38:22.803972Z",
     "iopub.status.idle": "2024-10-20T09:38:26.218982Z",
     "shell.execute_reply": "2024-10-20T09:38:26.218982Z"
    },
    "papermill": {
     "duration": 3.425606,
     "end_time": "2024-10-20T09:38:26.222074",
     "exception": false,
     "start_time": "2024-10-20T09:38:22.796468",
     "status": "completed"
    },
    "tags": []
   },
   "outputs": [
    {
     "name": "stdout",
     "output_type": "stream",
     "text": [
      "count    95378.0\n",
      "mean        24.0\n",
      "std          0.0\n",
      "min         24.0\n",
      "25%         24.0\n",
      "50%         24.0\n",
      "75%         24.0\n",
      "max         24.0\n",
      "Name: Number_of_hrs_data_collected, dtype: float64\n",
      "Number of flagged rows: 0 Number of non-flagged rows: 9156288 Total rows: 9156288 The sum of flagged and non-flagged rows is equal to the total rows: True\n"
     ]
    }
   ],
   "source": [
    "non_flagged_rows,flagged_quarters = flag_insuficient_daily_data(counters_data_clean.copy())\n"
   ]
  },
  {
   "cell_type": "code",
   "execution_count": 40,
   "id": "db53bd71",
   "metadata": {
    "execution": {
     "iopub.execute_input": "2024-10-20T09:38:26.243342Z",
     "iopub.status.busy": "2024-10-20T09:38:26.242342Z",
     "iopub.status.idle": "2024-10-20T09:38:27.651961Z",
     "shell.execute_reply": "2024-10-20T09:38:27.651961Z"
    },
    "papermill": {
     "duration": 1.423942,
     "end_time": "2024-10-20T09:38:27.654265",
     "exception": false,
     "start_time": "2024-10-20T09:38:26.230323",
     "status": "completed"
    },
    "tags": []
   },
   "outputs": [
    {
     "data": {
      "text/html": [
       "<div>\n",
       "<style scoped>\n",
       "    .dataframe tbody tr th:only-of-type {\n",
       "        vertical-align: middle;\n",
       "    }\n",
       "\n",
       "    .dataframe tbody tr th {\n",
       "        vertical-align: top;\n",
       "    }\n",
       "\n",
       "    .dataframe thead th {\n",
       "        text-align: right;\n",
       "    }\n",
       "</style>\n",
       "<table border=\"1\" class=\"dataframe\">\n",
       "  <thead>\n",
       "    <tr style=\"text-align: right;\">\n",
       "      <th></th>\n",
       "      <th>id</th>\n",
       "      <th>date</th>\n",
       "      <th>weekday</th>\n",
       "      <th>DBT</th>\n",
       "    </tr>\n",
       "  </thead>\n",
       "  <tbody>\n",
       "    <tr>\n",
       "      <th>0</th>\n",
       "      <td>20001</td>\n",
       "      <td>2021-01-01</td>\n",
       "      <td>Friday</td>\n",
       "      <td>2927</td>\n",
       "    </tr>\n",
       "    <tr>\n",
       "      <th>1</th>\n",
       "      <td>20001</td>\n",
       "      <td>2021-01-02</td>\n",
       "      <td>Saturday</td>\n",
       "      <td>4825</td>\n",
       "    </tr>\n",
       "    <tr>\n",
       "      <th>2</th>\n",
       "      <td>20001</td>\n",
       "      <td>2021-01-03</td>\n",
       "      <td>Sunday</td>\n",
       "      <td>4381</td>\n",
       "    </tr>\n",
       "    <tr>\n",
       "      <th>3</th>\n",
       "      <td>20001</td>\n",
       "      <td>2021-01-04</td>\n",
       "      <td>Monday</td>\n",
       "      <td>5759</td>\n",
       "    </tr>\n",
       "    <tr>\n",
       "      <th>4</th>\n",
       "      <td>20001</td>\n",
       "      <td>2021-01-05</td>\n",
       "      <td>Tuesday</td>\n",
       "      <td>6378</td>\n",
       "    </tr>\n",
       "  </tbody>\n",
       "</table>\n",
       "</div>"
      ],
      "text/plain": [
       "      id       date   weekday   DBT\n",
       "0  20001 2021-01-01    Friday  2927\n",
       "1  20001 2021-01-02  Saturday  4825\n",
       "2  20001 2021-01-03    Sunday  4381\n",
       "3  20001 2021-01-04    Monday  5759\n",
       "4  20001 2021-01-05   Tuesday  6378"
      ]
     },
     "execution_count": 40,
     "metadata": {},
     "output_type": "execute_result"
    }
   ],
   "source": [
    "DBT = non_flagged_rows.groupby(['id', 'date','weekday'])['intensity'].sum().reset_index()\n",
    "DBT=DBT.rename(columns={'intensity':'DBT'})\n",
    "DBT.head()"
   ]
  },
  {
   "cell_type": "markdown",
   "id": "2812c534",
   "metadata": {
    "papermill": {
     "duration": 0.010351,
     "end_time": "2024-10-20T09:38:27.669433",
     "exception": false,
     "start_time": "2024-10-20T09:38:27.659082",
     "status": "completed"
    },
    "tags": []
   },
   "source": [
    "### MBT"
   ]
  },
  {
   "cell_type": "code",
   "execution_count": 41,
   "id": "575abfe6",
   "metadata": {
    "execution": {
     "iopub.execute_input": "2024-10-20T09:38:27.687703Z",
     "iopub.status.busy": "2024-10-20T09:38:27.686692Z",
     "iopub.status.idle": "2024-10-20T09:38:27.691023Z",
     "shell.execute_reply": "2024-10-20T09:38:27.690376Z"
    },
    "papermill": {
     "duration": 0.014999,
     "end_time": "2024-10-20T09:38:27.692521",
     "exception": false,
     "start_time": "2024-10-20T09:38:27.677522",
     "status": "completed"
    },
    "tags": []
   },
   "outputs": [],
   "source": [
    "# def flag_insuficient_monthly_data(df):\n",
    "#     df['duration']=1\n",
    "\n",
    "#     df['day']=df['date'].dt.day\n",
    "#     df['month']=df['date'].dt.month\n",
    "#     df_day = df.groupby(['id', 'month', 'day'])['duration'].sum().reset_index()\n",
    "#     df_month = df_day.groupby(['id', 'month'])['day'].count().reset_index()\n",
    "#     df_month=df_month.rename(columns={'day':'Number_of_days_data_collected'})\n",
    "\n",
    "\n",
    "#     df=pd.merge(df, df_month, on=['id', 'month'], how='inner')\n",
    "\n",
    "#     flagged_rows = df.loc[(df['Number_of_days_data_collected'] <= 25)]\n",
    "#     non_flagged_rows = df.loc[(df['Number_of_days_data_collected'] > 25)]\n",
    "#     print('Number of flagged rows:', flagged_rows.shape[0], 'Number of non-flagged rows:', non_flagged_rows.shape[0], 'Total rows:', df.shape[0], 'The sum of flagged and non-flagged rows is equal to the total rows:', flagged_rows.shape[0] + non_flagged_rows.shape[0] == df.shape[0])\n",
    "#     return non_flagged_rows,flagged_rows \n"
   ]
  },
  {
   "cell_type": "code",
   "execution_count": 42,
   "id": "db1d0b04",
   "metadata": {
    "execution": {
     "iopub.execute_input": "2024-10-20T09:38:27.707715Z",
     "iopub.status.busy": "2024-10-20T09:38:27.704166Z",
     "iopub.status.idle": "2024-10-20T09:38:27.710063Z",
     "shell.execute_reply": "2024-10-20T09:38:27.710063Z"
    },
    "papermill": {
     "duration": 0.012317,
     "end_time": "2024-10-20T09:38:27.711385",
     "exception": false,
     "start_time": "2024-10-20T09:38:27.699068",
     "status": "completed"
    },
    "tags": []
   },
   "outputs": [],
   "source": [
    "# non_flagged_rows,flagged_days=flag_insuficient_monthly_data(DBT)\n"
   ]
  },
  {
   "cell_type": "code",
   "execution_count": 43,
   "id": "614f84ca",
   "metadata": {
    "execution": {
     "iopub.execute_input": "2024-10-20T09:38:27.727043Z",
     "iopub.status.busy": "2024-10-20T09:38:27.727043Z",
     "iopub.status.idle": "2024-10-20T09:38:27.729819Z",
     "shell.execute_reply": "2024-10-20T09:38:27.729819Z"
    },
    "papermill": {
     "duration": 0.013596,
     "end_time": "2024-10-20T09:38:27.732035",
     "exception": false,
     "start_time": "2024-10-20T09:38:27.718439",
     "status": "completed"
    },
    "tags": []
   },
   "outputs": [],
   "source": [
    "# MBT = non_flagged_rows.groupby(['id','month'])['DBT'].sum().reset_index()\n",
    "# MBT=MBT.rename(columns={'DBT':'MBT'})\n",
    "# print(MBT.shape)\n",
    "# MBT.head()\n"
   ]
  },
  {
   "cell_type": "markdown",
   "id": "b763f8d9",
   "metadata": {
    "papermill": {
     "duration": 0.00833,
     "end_time": "2024-10-20T09:38:27.746107",
     "exception": false,
     "start_time": "2024-10-20T09:38:27.737777",
     "status": "completed"
    },
    "tags": []
   },
   "source": [
    "### ABT"
   ]
  },
  {
   "cell_type": "code",
   "execution_count": 44,
   "id": "18e207d7",
   "metadata": {
    "execution": {
     "iopub.execute_input": "2024-10-20T09:38:27.768686Z",
     "iopub.status.busy": "2024-10-20T09:38:27.768686Z",
     "iopub.status.idle": "2024-10-20T09:38:27.772250Z",
     "shell.execute_reply": "2024-10-20T09:38:27.772250Z"
    },
    "papermill": {
     "duration": 0.018103,
     "end_time": "2024-10-20T09:38:27.774231",
     "exception": false,
     "start_time": "2024-10-20T09:38:27.756128",
     "status": "completed"
    },
    "tags": []
   },
   "outputs": [],
   "source": [
    "# def flag_insuficient_annual_data(df):\n",
    "#     df['duration']=1\n",
    "\n",
    "#     df_year = df.groupby(['id'])['duration'].sum().reset_index()\n",
    "#     df_year=df_year.rename(columns={'duration':'Number_of_days_data_collected'})\n",
    "\n",
    "\n",
    "#     df=pd.merge(df, df_year, on=['id'], how='inner')\n",
    "\n",
    "#     flagged_rows = df.loc[(df['Number_of_days_data_collected'] <= 11)]\n",
    "#     non_flagged_rows = df.loc[(df['Number_of_days_data_collected'] > 11)]\n",
    "#     print('Number of flagged rows:', flagged_rows.shape[0], 'Number of non-flagged rows:', non_flagged_rows.shape[0], 'Total rows:', df.shape[0], 'The sum of flagged and non-flagged rows is equal to the total rows:', flagged_rows.shape[0] + non_flagged_rows.shape[0] == df.shape[0])\n",
    "#     return non_flagged_rows,flagged_rows \n"
   ]
  },
  {
   "cell_type": "code",
   "execution_count": 45,
   "id": "5eecd2c2",
   "metadata": {
    "execution": {
     "iopub.execute_input": "2024-10-20T09:38:27.793125Z",
     "iopub.status.busy": "2024-10-20T09:38:27.792182Z",
     "iopub.status.idle": "2024-10-20T09:38:27.796020Z",
     "shell.execute_reply": "2024-10-20T09:38:27.795511Z"
    },
    "papermill": {
     "duration": 0.014899,
     "end_time": "2024-10-20T09:38:27.797034",
     "exception": false,
     "start_time": "2024-10-20T09:38:27.782135",
     "status": "completed"
    },
    "tags": []
   },
   "outputs": [],
   "source": [
    "# non_flagged_rows,flagged_months=flag_insuficient_annual_data(MBT)\n"
   ]
  },
  {
   "cell_type": "code",
   "execution_count": 46,
   "id": "1313706c",
   "metadata": {
    "execution": {
     "iopub.execute_input": "2024-10-20T09:38:27.815957Z",
     "iopub.status.busy": "2024-10-20T09:38:27.815871Z",
     "iopub.status.idle": "2024-10-20T09:38:27.818581Z",
     "shell.execute_reply": "2024-10-20T09:38:27.818581Z"
    },
    "papermill": {
     "duration": 0.014944,
     "end_time": "2024-10-20T09:38:27.820107",
     "exception": false,
     "start_time": "2024-10-20T09:38:27.805163",
     "status": "completed"
    },
    "tags": []
   },
   "outputs": [],
   "source": [
    "# ABT = non_flagged_rows.groupby(['id'])['MBT'].sum().reset_index()\n",
    "# ABT=ABT.rename(columns={'MBT':'ABT'})\n",
    "# print(ABT.shape)\n",
    "# ABT.head()\n"
   ]
  },
  {
   "cell_type": "markdown",
   "id": "87a5278f",
   "metadata": {
    "papermill": {
     "duration": 0.007541,
     "end_time": "2024-10-20T09:38:27.834508",
     "exception": false,
     "start_time": "2024-10-20T09:38:27.826967",
     "status": "completed"
    },
    "tags": []
   },
   "source": [
    "### AADBT"
   ]
  },
  {
   "cell_type": "code",
   "execution_count": 47,
   "id": "1d4bba66",
   "metadata": {
    "execution": {
     "iopub.execute_input": "2024-10-20T09:38:27.851026Z",
     "iopub.status.busy": "2024-10-20T09:38:27.850277Z",
     "iopub.status.idle": "2024-10-20T09:38:27.862456Z",
     "shell.execute_reply": "2024-10-20T09:38:27.862456Z"
    },
    "papermill": {
     "duration": 0.02285,
     "end_time": "2024-10-20T09:38:27.864203",
     "exception": false,
     "start_time": "2024-10-20T09:38:27.841353",
     "status": "completed"
    },
    "tags": []
   },
   "outputs": [
    {
     "data": {
      "text/html": [
       "<div>\n",
       "<style scoped>\n",
       "    .dataframe tbody tr th:only-of-type {\n",
       "        vertical-align: middle;\n",
       "    }\n",
       "\n",
       "    .dataframe tbody tr th {\n",
       "        vertical-align: top;\n",
       "    }\n",
       "\n",
       "    .dataframe thead th {\n",
       "        text-align: right;\n",
       "    }\n",
       "</style>\n",
       "<table border=\"1\" class=\"dataframe\">\n",
       "  <thead>\n",
       "    <tr style=\"text-align: right;\">\n",
       "      <th></th>\n",
       "      <th>id</th>\n",
       "      <th>AADBT</th>\n",
       "    </tr>\n",
       "  </thead>\n",
       "  <tbody>\n",
       "    <tr>\n",
       "      <th>0</th>\n",
       "      <td>20001</td>\n",
       "      <td>7663.0</td>\n",
       "    </tr>\n",
       "    <tr>\n",
       "      <th>1</th>\n",
       "      <td>20002</td>\n",
       "      <td>10436.0</td>\n",
       "    </tr>\n",
       "    <tr>\n",
       "      <th>2</th>\n",
       "      <td>20003</td>\n",
       "      <td>8714.0</td>\n",
       "    </tr>\n",
       "    <tr>\n",
       "      <th>3</th>\n",
       "      <td>20005</td>\n",
       "      <td>2345.0</td>\n",
       "    </tr>\n",
       "    <tr>\n",
       "      <th>4</th>\n",
       "      <td>20006</td>\n",
       "      <td>1084.0</td>\n",
       "    </tr>\n",
       "  </tbody>\n",
       "</table>\n",
       "</div>"
      ],
      "text/plain": [
       "      id    AADBT\n",
       "0  20001   7663.0\n",
       "1  20002  10436.0\n",
       "2  20003   8714.0\n",
       "3  20005   2345.0\n",
       "4  20006   1084.0"
      ]
     },
     "execution_count": 47,
     "metadata": {},
     "output_type": "execute_result"
    }
   ],
   "source": [
    "AADBT=DBT.groupby(['id'])['DBT'].mean().round().reset_index()\n",
    "AADBT=AADBT.rename(columns={'DBT':'AADBT'})\n",
    "AADBT.head()"
   ]
  },
  {
   "cell_type": "markdown",
   "id": "5d4e1f2e",
   "metadata": {
    "id": "a_ZrQ64i7plQ",
    "papermill": {
     "duration": 0.006865,
     "end_time": "2024-10-20T09:38:27.877993",
     "exception": false,
     "start_time": "2024-10-20T09:38:27.871128",
     "status": "completed"
    },
    "tags": []
   },
   "source": [
    "## Save output"
   ]
  },
  {
   "cell_type": "code",
   "execution_count": 48,
   "id": "8843cb0a",
   "metadata": {
    "execution": {
     "iopub.execute_input": "2024-10-20T09:38:27.895006Z",
     "iopub.status.busy": "2024-10-20T09:38:27.895006Z",
     "iopub.status.idle": "2024-10-20T09:38:31.818423Z",
     "shell.execute_reply": "2024-10-20T09:38:31.818423Z"
    },
    "id": "6bj2-CeR7owh",
    "papermill": {
     "duration": 3.93473,
     "end_time": "2024-10-20T09:38:31.820477",
     "exception": false,
     "start_time": "2024-10-20T09:38:27.885747",
     "status": "completed"
    },
    "tags": []
   },
   "outputs": [],
   "source": [
    "if SAVE_OUTPUT:\n",
    "    counters_data_clean.to_parquet(f'{OUTPUT_DATA_PATH}/counters_data{YEAR}.parquet')\n",
    "    # DBT.to_parquet(f'{OUTPUT_DATA_PATH}/DBT{YEAR}.parquet')\n",
    "    # MBT.to_parquet(f'{OUTPUT_DATA_PATH}/MBT{YEAR}.parquet')\n",
    "    # ABT.to_parquet(f'{OUTPUT_DATA_PATH}/ABT{YEAR}.parquet')\n",
    "    AADBT.to_parquet(f'{OUTPUT_DATA_PATH}/AADBT{YEAR}.parquet')\n",
    "    "
   ]
  },
  {
   "cell_type": "code",
   "execution_count": 49,
   "id": "4c840e8b",
   "metadata": {
    "execution": {
     "iopub.execute_input": "2024-10-20T09:38:31.837633Z",
     "iopub.status.busy": "2024-10-20T09:38:31.837633Z",
     "iopub.status.idle": "2024-10-20T09:38:31.841159Z",
     "shell.execute_reply": "2024-10-20T09:38:31.841159Z"
    },
    "papermill": {
     "duration": 0.013883,
     "end_time": "2024-10-20T09:38:31.843368",
     "exception": false,
     "start_time": "2024-10-20T09:38:31.829485",
     "status": "completed"
    },
    "tags": []
   },
   "outputs": [],
   "source": [
    "# Define the new row data\n",
    "new_row = {\n",
    "    'Year': YEAR,\n",
    "    'Columns': counters_data.shape[1],\n",
    "    'Rows': counters_data.shape[0],\n",
    "    'Rows after cleaning': counters_data_clean.shape[0],\n",
    "    'Deleted rows':  counters_data.shape[0]-counters_data_clean.shape[0],\n",
    "    # 'Percentage': errors,\n",
    "    'Bike Counters': counters_data_clean['id'].nunique(),\n",
    "    'Flagged hours': flagged_quarters.shape[0]/4,\n",
    "    # 'Flagged days': flagged_days.shape[0],\n",
    "    # 'Flagged months': flagged_months.shape[0],\n",
    "}\n",
    "\n",
    "# Convert the new row data to a DataFrame\n",
    "new_row_df = pd.DataFrame([new_row])\n",
    "\n",
    "# Define the path to the CSV file\n",
    "csv_file_path = f\"{INPUT_PROCESSED_DATA_PATH}/log_observations.csv\"\n",
    "\n",
    "# Check if the CSV file exists\n",
    "if Path(csv_file_path).is_file():\n",
    "    # If the file exists, append the new row\n",
    "    new_row_df.to_csv(csv_file_path, mode='a', header=False, index=False)\n",
    "else:\n",
    "    # If the file does not exist, create it with the new row\n",
    "    new_row_df.to_csv(csv_file_path, mode='w', header=True, index=False)"
   ]
  },
  {
   "cell_type": "markdown",
   "id": "df5cda91",
   "metadata": {
    "id": "xT_uQYZSbEty",
    "papermill": {
     "duration": 0.007013,
     "end_time": "2024-10-20T09:38:31.858563",
     "exception": false,
     "start_time": "2024-10-20T09:38:31.851550",
     "status": "completed"
    },
    "tags": []
   },
   "source": [
    "## Watermark"
   ]
  },
  {
   "cell_type": "code",
   "execution_count": 50,
   "id": "cb9cdd91",
   "metadata": {
    "execution": {
     "iopub.execute_input": "2024-10-20T09:38:31.878644Z",
     "iopub.status.busy": "2024-10-20T09:38:31.878644Z",
     "iopub.status.idle": "2024-10-20T09:38:35.015488Z",
     "shell.execute_reply": "2024-10-20T09:38:35.015488Z"
    },
    "id": "iY8ZyfnAbFoO",
    "papermill": {
     "duration": 3.15084,
     "end_time": "2024-10-20T09:38:35.017495",
     "exception": false,
     "start_time": "2024-10-20T09:38:31.866655",
     "status": "completed"
    },
    "tags": []
   },
   "outputs": [],
   "source": [
    "!python -m pip install watermark --quiet"
   ]
  },
  {
   "cell_type": "code",
   "execution_count": 51,
   "id": "7a27f1f4",
   "metadata": {
    "execution": {
     "iopub.execute_input": "2024-10-20T09:38:35.035116Z",
     "iopub.status.busy": "2024-10-20T09:38:35.034114Z",
     "iopub.status.idle": "2024-10-20T09:38:35.054399Z",
     "shell.execute_reply": "2024-10-20T09:38:35.054399Z"
    },
    "id": "Cd2yG3BgbGE3",
    "papermill": {
     "duration": 0.031545,
     "end_time": "2024-10-20T09:38:35.056833",
     "exception": false,
     "start_time": "2024-10-20T09:38:35.025288",
     "status": "completed"
    },
    "tags": []
   },
   "outputs": [
    {
     "name": "stdout",
     "output_type": "stream",
     "text": [
      "The watermark extension is already loaded. To reload it, use:\n",
      "  %reload_ext watermark\n"
     ]
    }
   ],
   "source": [
    "%load_ext watermark"
   ]
  },
  {
   "cell_type": "code",
   "execution_count": 52,
   "id": "0493f7d6",
   "metadata": {
    "colab": {
     "base_uri": "https://localhost:8080/"
    },
    "execution": {
     "iopub.execute_input": "2024-10-20T09:38:35.076791Z",
     "iopub.status.busy": "2024-10-20T09:38:35.075789Z",
     "iopub.status.idle": "2024-10-20T09:38:35.081161Z",
     "shell.execute_reply": "2024-10-20T09:38:35.081161Z"
    },
    "id": "Ef6VBO1QbI-_",
    "outputId": "9551ad1c-634d-4484-dc4a-f6a971884ccc",
    "papermill": {
     "duration": 0.018178,
     "end_time": "2024-10-20T09:38:35.084377",
     "exception": false,
     "start_time": "2024-10-20T09:38:35.066199",
     "status": "completed"
    },
    "tags": []
   },
   "outputs": [
    {
     "name": "stdout",
     "output_type": "stream",
     "text": [
      "Last updated: 2024-10-20T23:34:39.580835+02:00\n",
      "\n",
      "Python implementation: CPython\n",
      "Python version       : 3.11.9\n",
      "IPython version      : 8.25.0\n",
      "\n",
      "Compiler    : MSC v.1938 64 bit (AMD64)\n",
      "OS          : Windows\n",
      "Release     : 10\n",
      "Machine     : AMD64\n",
      "Processor   : AMD64 Family 25 Model 68 Stepping 1, AuthenticAMD\n",
      "CPU cores   : 16\n",
      "Architecture: 64bit\n",
      "\n"
     ]
    }
   ],
   "source": [
    "%watermark"
   ]
  },
  {
   "cell_type": "code",
   "execution_count": 53,
   "id": "ffd4d01d",
   "metadata": {
    "colab": {
     "base_uri": "https://localhost:8080/"
    },
    "execution": {
     "iopub.execute_input": "2024-10-20T09:38:35.102082Z",
     "iopub.status.busy": "2024-10-20T09:38:35.102082Z",
     "iopub.status.idle": "2024-10-20T09:38:35.112790Z",
     "shell.execute_reply": "2024-10-20T09:38:35.112790Z"
    },
    "id": "EW9nOXoNbKrP",
    "outputId": "b68ae236-6367-4c9a-b720-5978d2bbcbf4",
    "papermill": {
     "duration": 0.021098,
     "end_time": "2024-10-20T09:38:35.114836",
     "exception": false,
     "start_time": "2024-10-20T09:38:35.093738",
     "status": "completed"
    },
    "tags": []
   },
   "outputs": [
    {
     "name": "stdout",
     "output_type": "stream",
     "text": [
      "pandas   : 2.0.3\n",
      "json     : 2.0.9\n",
      "numpy    : 1.24.4\n",
      "geopandas: 0.13.2\n",
      "\n"
     ]
    }
   ],
   "source": [
    "%watermark --iversions"
   ]
  },
  {
   "cell_type": "code",
   "execution_count": 54,
   "id": "83775567",
   "metadata": {
    "colab": {
     "base_uri": "https://localhost:8080/"
    },
    "execution": {
     "iopub.execute_input": "2024-10-20T09:38:35.133362Z",
     "iopub.status.busy": "2024-10-20T09:38:35.133362Z",
     "iopub.status.idle": "2024-10-20T09:38:35.179140Z",
     "shell.execute_reply": "2024-10-20T09:38:35.178129Z"
    },
    "id": "2LOCLnX0bMxt",
    "outputId": "e68400d8-8277-4988-d42c-15e02490cce1",
    "papermill": {
     "duration": 0.058295,
     "end_time": "2024-10-20T09:38:35.181154",
     "exception": false,
     "start_time": "2024-10-20T09:38:35.122859",
     "status": "completed"
    },
    "tags": []
   },
   "outputs": [
    {
     "name": "stderr",
     "output_type": "stream",
     "text": [
      "\"lsb_release\" no se reconoce como un comando interno o externo,\n",
      "programa o archivo por lotes ejecutable.\n"
     ]
    }
   ],
   "source": [
    "!lsb_release -a"
   ]
  }
 ],
 "metadata": {
  "colab": {
   "provenance": [],
   "toc_visible": true
  },
  "kernelspec": {
   "display_name": "ridership_model",
   "language": "python",
   "name": "python3"
  },
  "language_info": {
   "codemirror_mode": {
    "name": "ipython",
    "version": 3
   },
   "file_extension": ".py",
   "mimetype": "text/x-python",
   "name": "python",
   "nbconvert_exporter": "python",
   "pygments_lexer": "ipython3",
   "version": "3.11.9"
  },
  "papermill": {
   "default_parameters": {},
   "duration": 27.41934,
   "end_time": "2024-10-20T09:38:36.088947",
   "environment_variables": {},
   "exception": null,
   "input_path": "01_luca_data-management_counters-data.ipynb",
   "output_path": "01_luca_data-management_counters-data.ipynb",
   "parameters": {
    "SAVE_OUTPUT": true,
    "YEAR": 2023
   },
   "start_time": "2024-10-20T09:38:08.669607",
   "version": "2.6.0"
  }
 },
 "nbformat": 4,
 "nbformat_minor": 5
}
